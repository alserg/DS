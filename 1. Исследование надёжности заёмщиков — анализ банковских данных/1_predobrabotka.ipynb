{
 "cells": [
  {
   "cell_type": "markdown",
   "id": "b30c8460",
   "metadata": {
    "id": "c81daeeb"
   },
   "source": [
    "# Исследование надежности заемщиков\n"
   ]
  },
  {
   "cell_type": "markdown",
   "id": "942a2d88-3e7e-44af-a658-8fa2179d640d",
   "metadata": {},
   "source": [
    "## Содержание проекта\n",
    "\n",
    "1.  Цели и задачи проекта\n",
    "\n",
    "2.  Загрузка и изучение данных\n",
    "\n",
    "3.  Предобработка данных\n",
    "\n",
    "  - 3.1  Удаление пропусков\n",
    "  - 3.2  Обработка аномальных значений\n",
    "  - 3.3  Удаление пропусков (продолжение)\n",
    "  - 3.4  Изменение типов данных\n",
    "  - 3.5  Обработка дубликатов\n",
    "  - 3.6  Категоризация данных\n",
    "  \n",
    "4.  Исследование данных\n",
    "\n",
    "  - 4.1  Есть ли зависимость между количеством детей и возвратом кредита в срок?\n",
    "  - 4.2  Есть ли зависимость между семейным положением и возвратом кредита в срок?\n",
    "  - 4.3  Есть ли зависимость между уровнем дохода и возвратом кредита в срок?\n",
    "  - 4.4  Как разные цели кредита влияют на его возврат в срок?\n",
    "  - 4.5  Возможные причины появления пропусков в исходных данных\n",
    "  - 4.5.1  Почему заполнить пропуски медианным значением — лучшее решение для количественных переменных?\n",
    "  \n",
    "5.  Общий вывод"
   ]
  },
  {
   "cell_type": "markdown",
   "id": "7d118486",
   "metadata": {},
   "source": [
    "## Цели и задачи проекта\n",
    "\n",
    "**Заказчик** — кредитный отдел банка. На основе статистики о платёжеспособности клиентов исследовать влияет ли семейное положение и количество детей клиента на факт возврата кредита в срок.\n",
    "\n",
    "**Входные данные** - от банка — статистика о платёжеспособности клиентов в одном CSV-файле.\n",
    "\n",
    "**Задачи:**\n",
    "Выяснить:\n",
    "1. Влияет ли количество детей на факт погашения кредита в срок?\n",
    "2. Влияет ли семейное положение на факт погашения кредита в срок?\n",
    "3. Влияет ли уровень дохода на факт погашения кредита в срок?\n",
    "4. Как разные цели кредита влияют на его возврат в срок?\n",
    "\n",
    "**План работы:**\n",
    "- изучить данные;\n",
    "- предобработать входные данные;\n",
    "- предоставить раздельные ответы по каждой задаче;\n",
    "- сделать общий вывод."
   ]
  },
  {
   "cell_type": "code",
   "execution_count": 1,
   "id": "6d1c346f-cfa5-48f6-8702-8ee307b55dd3",
   "metadata": {
    "tags": []
   },
   "outputs": [],
   "source": [
    "# импорты и настройки\n",
    "import pandas as pd\n",
    "import seaborn as sb\n",
    "import numpy as np\n",
    "\n",
    "import warnings\n",
    "warnings.filterwarnings('ignore')"
   ]
  },
  {
   "cell_type": "code",
   "execution_count": 2,
   "id": "0481a310-ca19-48f9-b31d-5c3971bc7f7f",
   "metadata": {
    "tags": []
   },
   "outputs": [],
   "source": [
    "# функции\n",
    "\n",
    "## категоризация по доходу\n",
    "def categorize_income(income):\n",
    "    try:\n",
    "        if income <= 30000:\n",
    "            return 'E'\n",
    "        elif income <= 50000:\n",
    "            return 'D'\n",
    "        elif income <= 200000:\n",
    "            return 'C'\n",
    "        elif income <= 1000000:\n",
    "            return 'B'\n",
    "        elif income > 100000:\n",
    "            return 'A'\n",
    "    except:\n",
    "        pass\n",
    "\n",
    "## категоризация по цели кредита   \n",
    "def categorize_purpose(row):\n",
    "    try:\n",
    "        if 'автом' in row:\n",
    "            return 'операции с автомобилем'\n",
    "        elif 'жил' in row or 'недвиж' in row:\n",
    "            return 'операции с недвижимостью'\n",
    "        elif 'свад' in row:\n",
    "            return 'проведение свадьбы'\n",
    "        elif 'образов' in row:\n",
    "            return 'получение образования'\n",
    "    except:\n",
    "        return 'нет категории'"
   ]
  },
  {
   "cell_type": "markdown",
   "id": "ceea459a",
   "metadata": {
    "id": "744d7639"
   },
   "source": [
    "## Загрузка и изучение данных"
   ]
  },
  {
   "cell_type": "markdown",
   "id": "ef1447d7",
   "metadata": {
    "id": "e7a14c31"
   },
   "source": [
    "Загрузим данные из csv-файла в датафрейм и сохраним в переменную `data`."
   ]
  },
  {
   "cell_type": "code",
   "execution_count": 3,
   "id": "9ba6ac5d",
   "metadata": {
    "id": "7bcf75c9",
    "tags": []
   },
   "outputs": [],
   "source": [
    "data = pd.read_csv('data/data.csv')"
   ]
  },
  {
   "cell_type": "markdown",
   "id": "71bd9d0c",
   "metadata": {
    "id": "b8038fe3"
   },
   "source": [
    "**Посмотрим на данные**"
   ]
  },
  {
   "cell_type": "code",
   "execution_count": 4,
   "id": "92275ec0",
   "metadata": {
    "id": "2a7cab99",
    "outputId": "1a8f3ef2-d323-4ec2-ddf7-89670b5944c4",
    "tags": []
   },
   "outputs": [
    {
     "data": {
      "text/html": [
       "<div>\n",
       "<style scoped>\n",
       "    .dataframe tbody tr th:only-of-type {\n",
       "        vertical-align: middle;\n",
       "    }\n",
       "\n",
       "    .dataframe tbody tr th {\n",
       "        vertical-align: top;\n",
       "    }\n",
       "\n",
       "    .dataframe thead th {\n",
       "        text-align: right;\n",
       "    }\n",
       "</style>\n",
       "<table border=\"1\" class=\"dataframe\">\n",
       "  <thead>\n",
       "    <tr style=\"text-align: right;\">\n",
       "      <th></th>\n",
       "      <th>children</th>\n",
       "      <th>days_employed</th>\n",
       "      <th>dob_years</th>\n",
       "      <th>education</th>\n",
       "      <th>education_id</th>\n",
       "      <th>family_status</th>\n",
       "      <th>family_status_id</th>\n",
       "      <th>gender</th>\n",
       "      <th>income_type</th>\n",
       "      <th>debt</th>\n",
       "      <th>total_income</th>\n",
       "      <th>purpose</th>\n",
       "    </tr>\n",
       "  </thead>\n",
       "  <tbody>\n",
       "    <tr>\n",
       "      <th>0</th>\n",
       "      <td>1</td>\n",
       "      <td>-8437.673028</td>\n",
       "      <td>42</td>\n",
       "      <td>высшее</td>\n",
       "      <td>0</td>\n",
       "      <td>женат / замужем</td>\n",
       "      <td>0</td>\n",
       "      <td>F</td>\n",
       "      <td>сотрудник</td>\n",
       "      <td>0</td>\n",
       "      <td>253875.639453</td>\n",
       "      <td>покупка жилья</td>\n",
       "    </tr>\n",
       "    <tr>\n",
       "      <th>1</th>\n",
       "      <td>1</td>\n",
       "      <td>-4024.803754</td>\n",
       "      <td>36</td>\n",
       "      <td>среднее</td>\n",
       "      <td>1</td>\n",
       "      <td>женат / замужем</td>\n",
       "      <td>0</td>\n",
       "      <td>F</td>\n",
       "      <td>сотрудник</td>\n",
       "      <td>0</td>\n",
       "      <td>112080.014102</td>\n",
       "      <td>приобретение автомобиля</td>\n",
       "    </tr>\n",
       "    <tr>\n",
       "      <th>2</th>\n",
       "      <td>0</td>\n",
       "      <td>-5623.422610</td>\n",
       "      <td>33</td>\n",
       "      <td>Среднее</td>\n",
       "      <td>1</td>\n",
       "      <td>женат / замужем</td>\n",
       "      <td>0</td>\n",
       "      <td>M</td>\n",
       "      <td>сотрудник</td>\n",
       "      <td>0</td>\n",
       "      <td>145885.952297</td>\n",
       "      <td>покупка жилья</td>\n",
       "    </tr>\n",
       "    <tr>\n",
       "      <th>3</th>\n",
       "      <td>3</td>\n",
       "      <td>-4124.747207</td>\n",
       "      <td>32</td>\n",
       "      <td>среднее</td>\n",
       "      <td>1</td>\n",
       "      <td>женат / замужем</td>\n",
       "      <td>0</td>\n",
       "      <td>M</td>\n",
       "      <td>сотрудник</td>\n",
       "      <td>0</td>\n",
       "      <td>267628.550329</td>\n",
       "      <td>дополнительное образование</td>\n",
       "    </tr>\n",
       "    <tr>\n",
       "      <th>4</th>\n",
       "      <td>0</td>\n",
       "      <td>340266.072047</td>\n",
       "      <td>53</td>\n",
       "      <td>среднее</td>\n",
       "      <td>1</td>\n",
       "      <td>гражданский брак</td>\n",
       "      <td>1</td>\n",
       "      <td>F</td>\n",
       "      <td>пенсионер</td>\n",
       "      <td>0</td>\n",
       "      <td>158616.077870</td>\n",
       "      <td>сыграть свадьбу</td>\n",
       "    </tr>\n",
       "    <tr>\n",
       "      <th>5</th>\n",
       "      <td>0</td>\n",
       "      <td>-926.185831</td>\n",
       "      <td>27</td>\n",
       "      <td>высшее</td>\n",
       "      <td>0</td>\n",
       "      <td>гражданский брак</td>\n",
       "      <td>1</td>\n",
       "      <td>M</td>\n",
       "      <td>компаньон</td>\n",
       "      <td>0</td>\n",
       "      <td>255763.565419</td>\n",
       "      <td>покупка жилья</td>\n",
       "    </tr>\n",
       "    <tr>\n",
       "      <th>6</th>\n",
       "      <td>0</td>\n",
       "      <td>-2879.202052</td>\n",
       "      <td>43</td>\n",
       "      <td>высшее</td>\n",
       "      <td>0</td>\n",
       "      <td>женат / замужем</td>\n",
       "      <td>0</td>\n",
       "      <td>F</td>\n",
       "      <td>компаньон</td>\n",
       "      <td>0</td>\n",
       "      <td>240525.971920</td>\n",
       "      <td>операции с жильем</td>\n",
       "    </tr>\n",
       "    <tr>\n",
       "      <th>7</th>\n",
       "      <td>0</td>\n",
       "      <td>-152.779569</td>\n",
       "      <td>50</td>\n",
       "      <td>СРЕДНЕЕ</td>\n",
       "      <td>1</td>\n",
       "      <td>женат / замужем</td>\n",
       "      <td>0</td>\n",
       "      <td>M</td>\n",
       "      <td>сотрудник</td>\n",
       "      <td>0</td>\n",
       "      <td>135823.934197</td>\n",
       "      <td>образование</td>\n",
       "    </tr>\n",
       "    <tr>\n",
       "      <th>8</th>\n",
       "      <td>2</td>\n",
       "      <td>-6929.865299</td>\n",
       "      <td>35</td>\n",
       "      <td>ВЫСШЕЕ</td>\n",
       "      <td>0</td>\n",
       "      <td>гражданский брак</td>\n",
       "      <td>1</td>\n",
       "      <td>F</td>\n",
       "      <td>сотрудник</td>\n",
       "      <td>0</td>\n",
       "      <td>95856.832424</td>\n",
       "      <td>на проведение свадьбы</td>\n",
       "    </tr>\n",
       "    <tr>\n",
       "      <th>9</th>\n",
       "      <td>0</td>\n",
       "      <td>-2188.756445</td>\n",
       "      <td>41</td>\n",
       "      <td>среднее</td>\n",
       "      <td>1</td>\n",
       "      <td>женат / замужем</td>\n",
       "      <td>0</td>\n",
       "      <td>M</td>\n",
       "      <td>сотрудник</td>\n",
       "      <td>0</td>\n",
       "      <td>144425.938277</td>\n",
       "      <td>покупка жилья для семьи</td>\n",
       "    </tr>\n",
       "    <tr>\n",
       "      <th>10</th>\n",
       "      <td>2</td>\n",
       "      <td>-4171.483647</td>\n",
       "      <td>36</td>\n",
       "      <td>высшее</td>\n",
       "      <td>0</td>\n",
       "      <td>женат / замужем</td>\n",
       "      <td>0</td>\n",
       "      <td>M</td>\n",
       "      <td>компаньон</td>\n",
       "      <td>0</td>\n",
       "      <td>113943.491460</td>\n",
       "      <td>покупка недвижимости</td>\n",
       "    </tr>\n",
       "    <tr>\n",
       "      <th>11</th>\n",
       "      <td>0</td>\n",
       "      <td>-792.701887</td>\n",
       "      <td>40</td>\n",
       "      <td>среднее</td>\n",
       "      <td>1</td>\n",
       "      <td>женат / замужем</td>\n",
       "      <td>0</td>\n",
       "      <td>F</td>\n",
       "      <td>сотрудник</td>\n",
       "      <td>0</td>\n",
       "      <td>77069.234271</td>\n",
       "      <td>покупка коммерческой недвижимости</td>\n",
       "    </tr>\n",
       "    <tr>\n",
       "      <th>12</th>\n",
       "      <td>0</td>\n",
       "      <td>NaN</td>\n",
       "      <td>65</td>\n",
       "      <td>среднее</td>\n",
       "      <td>1</td>\n",
       "      <td>гражданский брак</td>\n",
       "      <td>1</td>\n",
       "      <td>M</td>\n",
       "      <td>пенсионер</td>\n",
       "      <td>0</td>\n",
       "      <td>NaN</td>\n",
       "      <td>сыграть свадьбу</td>\n",
       "    </tr>\n",
       "    <tr>\n",
       "      <th>13</th>\n",
       "      <td>0</td>\n",
       "      <td>-1846.641941</td>\n",
       "      <td>54</td>\n",
       "      <td>неоконченное высшее</td>\n",
       "      <td>2</td>\n",
       "      <td>женат / замужем</td>\n",
       "      <td>0</td>\n",
       "      <td>F</td>\n",
       "      <td>сотрудник</td>\n",
       "      <td>0</td>\n",
       "      <td>130458.228857</td>\n",
       "      <td>приобретение автомобиля</td>\n",
       "    </tr>\n",
       "    <tr>\n",
       "      <th>14</th>\n",
       "      <td>0</td>\n",
       "      <td>-1844.956182</td>\n",
       "      <td>56</td>\n",
       "      <td>высшее</td>\n",
       "      <td>0</td>\n",
       "      <td>гражданский брак</td>\n",
       "      <td>1</td>\n",
       "      <td>F</td>\n",
       "      <td>компаньон</td>\n",
       "      <td>1</td>\n",
       "      <td>165127.911772</td>\n",
       "      <td>покупка жилой недвижимости</td>\n",
       "    </tr>\n",
       "    <tr>\n",
       "      <th>15</th>\n",
       "      <td>1</td>\n",
       "      <td>-972.364419</td>\n",
       "      <td>26</td>\n",
       "      <td>среднее</td>\n",
       "      <td>1</td>\n",
       "      <td>женат / замужем</td>\n",
       "      <td>0</td>\n",
       "      <td>F</td>\n",
       "      <td>сотрудник</td>\n",
       "      <td>0</td>\n",
       "      <td>116820.904450</td>\n",
       "      <td>строительство собственной недвижимости</td>\n",
       "    </tr>\n",
       "    <tr>\n",
       "      <th>16</th>\n",
       "      <td>0</td>\n",
       "      <td>-1719.934226</td>\n",
       "      <td>35</td>\n",
       "      <td>среднее</td>\n",
       "      <td>1</td>\n",
       "      <td>женат / замужем</td>\n",
       "      <td>0</td>\n",
       "      <td>F</td>\n",
       "      <td>сотрудник</td>\n",
       "      <td>0</td>\n",
       "      <td>289202.704229</td>\n",
       "      <td>недвижимость</td>\n",
       "    </tr>\n",
       "    <tr>\n",
       "      <th>17</th>\n",
       "      <td>0</td>\n",
       "      <td>-2369.999720</td>\n",
       "      <td>33</td>\n",
       "      <td>высшее</td>\n",
       "      <td>0</td>\n",
       "      <td>гражданский брак</td>\n",
       "      <td>1</td>\n",
       "      <td>M</td>\n",
       "      <td>сотрудник</td>\n",
       "      <td>0</td>\n",
       "      <td>90410.586745</td>\n",
       "      <td>строительство недвижимости</td>\n",
       "    </tr>\n",
       "    <tr>\n",
       "      <th>18</th>\n",
       "      <td>0</td>\n",
       "      <td>400281.136913</td>\n",
       "      <td>53</td>\n",
       "      <td>среднее</td>\n",
       "      <td>1</td>\n",
       "      <td>вдовец / вдова</td>\n",
       "      <td>2</td>\n",
       "      <td>F</td>\n",
       "      <td>пенсионер</td>\n",
       "      <td>0</td>\n",
       "      <td>56823.777243</td>\n",
       "      <td>на покупку подержанного автомобиля</td>\n",
       "    </tr>\n",
       "    <tr>\n",
       "      <th>19</th>\n",
       "      <td>0</td>\n",
       "      <td>-10038.818549</td>\n",
       "      <td>48</td>\n",
       "      <td>СРЕДНЕЕ</td>\n",
       "      <td>1</td>\n",
       "      <td>в разводе</td>\n",
       "      <td>3</td>\n",
       "      <td>F</td>\n",
       "      <td>сотрудник</td>\n",
       "      <td>0</td>\n",
       "      <td>242831.107982</td>\n",
       "      <td>на покупку своего автомобиля</td>\n",
       "    </tr>\n",
       "  </tbody>\n",
       "</table>\n",
       "</div>"
      ],
      "text/plain": [
       "    children  days_employed  dob_years            education  education_id  \\\n",
       "0          1   -8437.673028         42               высшее             0   \n",
       "1          1   -4024.803754         36              среднее             1   \n",
       "2          0   -5623.422610         33              Среднее             1   \n",
       "3          3   -4124.747207         32              среднее             1   \n",
       "4          0  340266.072047         53              среднее             1   \n",
       "5          0    -926.185831         27               высшее             0   \n",
       "6          0   -2879.202052         43               высшее             0   \n",
       "7          0    -152.779569         50              СРЕДНЕЕ             1   \n",
       "8          2   -6929.865299         35               ВЫСШЕЕ             0   \n",
       "9          0   -2188.756445         41              среднее             1   \n",
       "10         2   -4171.483647         36               высшее             0   \n",
       "11         0    -792.701887         40              среднее             1   \n",
       "12         0            NaN         65              среднее             1   \n",
       "13         0   -1846.641941         54  неоконченное высшее             2   \n",
       "14         0   -1844.956182         56               высшее             0   \n",
       "15         1    -972.364419         26              среднее             1   \n",
       "16         0   -1719.934226         35              среднее             1   \n",
       "17         0   -2369.999720         33               высшее             0   \n",
       "18         0  400281.136913         53              среднее             1   \n",
       "19         0  -10038.818549         48              СРЕДНЕЕ             1   \n",
       "\n",
       "       family_status  family_status_id gender income_type  debt  \\\n",
       "0    женат / замужем                 0      F   сотрудник     0   \n",
       "1    женат / замужем                 0      F   сотрудник     0   \n",
       "2    женат / замужем                 0      M   сотрудник     0   \n",
       "3    женат / замужем                 0      M   сотрудник     0   \n",
       "4   гражданский брак                 1      F   пенсионер     0   \n",
       "5   гражданский брак                 1      M   компаньон     0   \n",
       "6    женат / замужем                 0      F   компаньон     0   \n",
       "7    женат / замужем                 0      M   сотрудник     0   \n",
       "8   гражданский брак                 1      F   сотрудник     0   \n",
       "9    женат / замужем                 0      M   сотрудник     0   \n",
       "10   женат / замужем                 0      M   компаньон     0   \n",
       "11   женат / замужем                 0      F   сотрудник     0   \n",
       "12  гражданский брак                 1      M   пенсионер     0   \n",
       "13   женат / замужем                 0      F   сотрудник     0   \n",
       "14  гражданский брак                 1      F   компаньон     1   \n",
       "15   женат / замужем                 0      F   сотрудник     0   \n",
       "16   женат / замужем                 0      F   сотрудник     0   \n",
       "17  гражданский брак                 1      M   сотрудник     0   \n",
       "18    вдовец / вдова                 2      F   пенсионер     0   \n",
       "19         в разводе                 3      F   сотрудник     0   \n",
       "\n",
       "     total_income                                 purpose  \n",
       "0   253875.639453                           покупка жилья  \n",
       "1   112080.014102                 приобретение автомобиля  \n",
       "2   145885.952297                           покупка жилья  \n",
       "3   267628.550329              дополнительное образование  \n",
       "4   158616.077870                         сыграть свадьбу  \n",
       "5   255763.565419                           покупка жилья  \n",
       "6   240525.971920                       операции с жильем  \n",
       "7   135823.934197                             образование  \n",
       "8    95856.832424                   на проведение свадьбы  \n",
       "9   144425.938277                 покупка жилья для семьи  \n",
       "10  113943.491460                    покупка недвижимости  \n",
       "11   77069.234271       покупка коммерческой недвижимости  \n",
       "12            NaN                         сыграть свадьбу  \n",
       "13  130458.228857                 приобретение автомобиля  \n",
       "14  165127.911772              покупка жилой недвижимости  \n",
       "15  116820.904450  строительство собственной недвижимости  \n",
       "16  289202.704229                            недвижимость  \n",
       "17   90410.586745              строительство недвижимости  \n",
       "18   56823.777243      на покупку подержанного автомобиля  \n",
       "19  242831.107982            на покупку своего автомобиля  "
      ]
     },
     "execution_count": 4,
     "metadata": {},
     "output_type": "execute_result"
    }
   ],
   "source": [
    "data.head(20)"
   ]
  },
  {
   "cell_type": "code",
   "execution_count": 5,
   "id": "e7bc1c7d",
   "metadata": {
    "id": "2b757bca",
    "outputId": "15376089-8dad-46c9-b520-c05248d43158",
    "tags": []
   },
   "outputs": [
    {
     "name": "stdout",
     "output_type": "stream",
     "text": [
      "<class 'pandas.core.frame.DataFrame'>\n",
      "RangeIndex: 21525 entries, 0 to 21524\n",
      "Data columns (total 12 columns):\n",
      " #   Column            Non-Null Count  Dtype  \n",
      "---  ------            --------------  -----  \n",
      " 0   children          21525 non-null  int64  \n",
      " 1   days_employed     19351 non-null  float64\n",
      " 2   dob_years         21525 non-null  int64  \n",
      " 3   education         21525 non-null  object \n",
      " 4   education_id      21525 non-null  int64  \n",
      " 5   family_status     21525 non-null  object \n",
      " 6   family_status_id  21525 non-null  int64  \n",
      " 7   gender            21525 non-null  object \n",
      " 8   income_type       21525 non-null  object \n",
      " 9   debt              21525 non-null  int64  \n",
      " 10  total_income      19351 non-null  float64\n",
      " 11  purpose           21525 non-null  object \n",
      "dtypes: float64(2), int64(5), object(5)\n",
      "memory usage: 2.0+ MB\n"
     ]
    }
   ],
   "source": [
    "data.info()"
   ]
  },
  {
   "cell_type": "markdown",
   "id": "9ea46521",
   "metadata": {},
   "source": [
    "**Предоставлены следующие данные:**\n",
    "- children — количество детей в семье\n",
    "- days_employed — общий трудовой стаж в днях\n",
    "- dob_years — возраст клиента в годах\n",
    "- education — уровень образования клиента\n",
    "- education_id — идентификатор уровня образования\n",
    "- family_status — семейное положение\n",
    "- family_status_id — идентификатор семейного положения\n",
    "- gender — пол клиента\n",
    "- income_type — тип занятости\n",
    "- debt — имел ли задолженность по возврату кредитов\n",
    "- total_income — ежемесячный доход\n",
    "- purpose — цель получения кредита"
   ]
  },
  {
   "cell_type": "markdown",
   "id": "b13a89cd",
   "metadata": {
    "id": "333ec665"
   },
   "source": [
    "## Предобработка данных"
   ]
  },
  {
   "cell_type": "code",
   "execution_count": 6,
   "id": "33b2ee64-00d0-41a9-ab6f-2d345b10ec34",
   "metadata": {
    "tags": []
   },
   "outputs": [
    {
     "data": {
      "text/html": [
       "<div>\n",
       "<style scoped>\n",
       "    .dataframe tbody tr th:only-of-type {\n",
       "        vertical-align: middle;\n",
       "    }\n",
       "\n",
       "    .dataframe tbody tr th {\n",
       "        vertical-align: top;\n",
       "    }\n",
       "\n",
       "    .dataframe thead th {\n",
       "        text-align: right;\n",
       "    }\n",
       "</style>\n",
       "<table border=\"1\" class=\"dataframe\">\n",
       "  <thead>\n",
       "    <tr style=\"text-align: right;\">\n",
       "      <th></th>\n",
       "      <th>children</th>\n",
       "      <th>days_employed</th>\n",
       "      <th>dob_years</th>\n",
       "      <th>education_id</th>\n",
       "      <th>family_status_id</th>\n",
       "      <th>debt</th>\n",
       "      <th>total_income</th>\n",
       "    </tr>\n",
       "  </thead>\n",
       "  <tbody>\n",
       "    <tr>\n",
       "      <th>count</th>\n",
       "      <td>21525.000000</td>\n",
       "      <td>19351.000000</td>\n",
       "      <td>21525.000000</td>\n",
       "      <td>21525.000000</td>\n",
       "      <td>21525.000000</td>\n",
       "      <td>21525.000000</td>\n",
       "      <td>1.935100e+04</td>\n",
       "    </tr>\n",
       "    <tr>\n",
       "      <th>mean</th>\n",
       "      <td>0.538908</td>\n",
       "      <td>63046.497661</td>\n",
       "      <td>43.293380</td>\n",
       "      <td>0.817236</td>\n",
       "      <td>0.972544</td>\n",
       "      <td>0.080883</td>\n",
       "      <td>1.674223e+05</td>\n",
       "    </tr>\n",
       "    <tr>\n",
       "      <th>std</th>\n",
       "      <td>1.381587</td>\n",
       "      <td>140827.311974</td>\n",
       "      <td>12.574584</td>\n",
       "      <td>0.548138</td>\n",
       "      <td>1.420324</td>\n",
       "      <td>0.272661</td>\n",
       "      <td>1.029716e+05</td>\n",
       "    </tr>\n",
       "    <tr>\n",
       "      <th>min</th>\n",
       "      <td>-1.000000</td>\n",
       "      <td>-18388.949901</td>\n",
       "      <td>0.000000</td>\n",
       "      <td>0.000000</td>\n",
       "      <td>0.000000</td>\n",
       "      <td>0.000000</td>\n",
       "      <td>2.066726e+04</td>\n",
       "    </tr>\n",
       "    <tr>\n",
       "      <th>25%</th>\n",
       "      <td>0.000000</td>\n",
       "      <td>-2747.423625</td>\n",
       "      <td>33.000000</td>\n",
       "      <td>1.000000</td>\n",
       "      <td>0.000000</td>\n",
       "      <td>0.000000</td>\n",
       "      <td>1.030532e+05</td>\n",
       "    </tr>\n",
       "    <tr>\n",
       "      <th>50%</th>\n",
       "      <td>0.000000</td>\n",
       "      <td>-1203.369529</td>\n",
       "      <td>42.000000</td>\n",
       "      <td>1.000000</td>\n",
       "      <td>0.000000</td>\n",
       "      <td>0.000000</td>\n",
       "      <td>1.450179e+05</td>\n",
       "    </tr>\n",
       "    <tr>\n",
       "      <th>75%</th>\n",
       "      <td>1.000000</td>\n",
       "      <td>-291.095954</td>\n",
       "      <td>53.000000</td>\n",
       "      <td>1.000000</td>\n",
       "      <td>1.000000</td>\n",
       "      <td>0.000000</td>\n",
       "      <td>2.034351e+05</td>\n",
       "    </tr>\n",
       "    <tr>\n",
       "      <th>max</th>\n",
       "      <td>20.000000</td>\n",
       "      <td>401755.400475</td>\n",
       "      <td>75.000000</td>\n",
       "      <td>4.000000</td>\n",
       "      <td>4.000000</td>\n",
       "      <td>1.000000</td>\n",
       "      <td>2.265604e+06</td>\n",
       "    </tr>\n",
       "  </tbody>\n",
       "</table>\n",
       "</div>"
      ],
      "text/plain": [
       "           children  days_employed     dob_years  education_id  \\\n",
       "count  21525.000000   19351.000000  21525.000000  21525.000000   \n",
       "mean       0.538908   63046.497661     43.293380      0.817236   \n",
       "std        1.381587  140827.311974     12.574584      0.548138   \n",
       "min       -1.000000  -18388.949901      0.000000      0.000000   \n",
       "25%        0.000000   -2747.423625     33.000000      1.000000   \n",
       "50%        0.000000   -1203.369529     42.000000      1.000000   \n",
       "75%        1.000000    -291.095954     53.000000      1.000000   \n",
       "max       20.000000  401755.400475     75.000000      4.000000   \n",
       "\n",
       "       family_status_id          debt  total_income  \n",
       "count      21525.000000  21525.000000  1.935100e+04  \n",
       "mean           0.972544      0.080883  1.674223e+05  \n",
       "std            1.420324      0.272661  1.029716e+05  \n",
       "min            0.000000      0.000000  2.066726e+04  \n",
       "25%            0.000000      0.000000  1.030532e+05  \n",
       "50%            0.000000      0.000000  1.450179e+05  \n",
       "75%            1.000000      0.000000  2.034351e+05  \n",
       "max            4.000000      1.000000  2.265604e+06  "
      ]
     },
     "execution_count": 6,
     "metadata": {},
     "output_type": "execute_result"
    }
   ],
   "source": [
    "data.describe()"
   ]
  },
  {
   "cell_type": "markdown",
   "id": "6476f58b",
   "metadata": {
    "id": "02d92d53"
   },
   "source": [
    "### Удаление пропусков"
   ]
  },
  {
   "cell_type": "markdown",
   "id": "d0cffbcf",
   "metadata": {
    "id": "cd84967c"
   },
   "source": [
    "**Выведем количество пропущенных значений для каждого столбца.**"
   ]
  },
  {
   "cell_type": "code",
   "execution_count": 7,
   "id": "ea79ed04",
   "metadata": {
    "id": "7f9b2309",
    "outputId": "81f4d817-781c-465c-ed15-91ce4446810d",
    "tags": []
   },
   "outputs": [
    {
     "data": {
      "text/plain": [
       "children               0\n",
       "days_employed       2174\n",
       "dob_years              0\n",
       "education              0\n",
       "education_id           0\n",
       "family_status          0\n",
       "family_status_id       0\n",
       "gender                 0\n",
       "income_type            0\n",
       "debt                   0\n",
       "total_income        2174\n",
       "purpose                0\n",
       "dtype: int64"
      ]
     },
     "execution_count": 7,
     "metadata": {},
     "output_type": "execute_result"
    }
   ],
   "source": [
    "data.isna().sum()"
   ]
  },
  {
   "cell_type": "markdown",
   "id": "e2583afe",
   "metadata": {
    "id": "db86e27b"
   },
   "source": [
    "**В двух столбцах есть пропущенные значения.**\n",
    "\n",
    "Один из них — `days_employed`. Пропуски в этом столбце мы обработаем на следующем этапе.\n",
    "\n",
    "Другой столбец с пропущенными значениями — `total_income` — хранит данные о доходах. На сумму дохода сильнее всего влияет тип занятости, поэтому заполнить пропуски в этом столбце нужно медианным значением по каждому типу из столбца `income_type`. Например, у человека с типом занятости `сотрудник` пропуск в столбце `total_income` будет заполнен медианным доходом среди всех записей с тем же типом."
   ]
  },
  {
   "cell_type": "code",
   "execution_count": 8,
   "id": "4551a2eb",
   "metadata": {
    "id": "42006a93",
    "tags": []
   },
   "outputs": [
    {
     "data": {
      "text/plain": [
       "children               0\n",
       "days_employed       2174\n",
       "dob_years              0\n",
       "education              0\n",
       "education_id           0\n",
       "family_status          0\n",
       "family_status_id       0\n",
       "gender                 0\n",
       "income_type            0\n",
       "debt                   0\n",
       "total_income           0\n",
       "purpose                0\n",
       "dtype: int64"
      ]
     },
     "execution_count": 8,
     "metadata": {},
     "output_type": "execute_result"
    }
   ],
   "source": [
    "for t in data['income_type'].unique():\n",
    "    data.loc[(data['income_type'] == t) & (data['total_income'].isna()), 'total_income'] = \\\n",
    "    data.loc[(data['income_type'] == t), 'total_income'].median()\n",
    "\n",
    "data.isna().sum()"
   ]
  },
  {
   "cell_type": "markdown",
   "id": "1a1c4aa0-09f3-4ba1-a01a-08bfb7578331",
   "metadata": {
    "tags": []
   },
   "source": [
    "Избавились от пропусков в столбце `total_income`, заполнив медианным доходом среди всех записей с тем же типом."
   ]
  },
  {
   "cell_type": "markdown",
   "id": "f28195cc",
   "metadata": {
    "id": "89da5ece"
   },
   "source": [
    "### Обработка аномальных значений"
   ]
  },
  {
   "cell_type": "code",
   "execution_count": 9,
   "id": "da5dd5c6-f922-4611-887e-2c93194643d2",
   "metadata": {},
   "outputs": [
    {
     "data": {
      "text/plain": [
       "0         -8437.673028\n",
       "1         -4024.803754\n",
       "2         -5623.422610\n",
       "3         -4124.747207\n",
       "4        340266.072047\n",
       "             ...      \n",
       "21520     -4529.316663\n",
       "21521    343937.404131\n",
       "21522     -2113.346888\n",
       "21523     -3112.481705\n",
       "21524     -1984.507589\n",
       "Name: days_employed, Length: 21525, dtype: float64"
      ]
     },
     "execution_count": 9,
     "metadata": {},
     "output_type": "execute_result"
    }
   ],
   "source": [
    "data['days_employed']"
   ]
  },
  {
   "cell_type": "markdown",
   "id": "08fa297a",
   "metadata": {
    "id": "57964554"
   },
   "source": [
    "**В данных могут встречаться артефакты (аномалии) — значения, которые не отражают действительность и появились по какой-то ошибке.**\n",
    "\n",
    "Таким артефактом, например, является отрицательное количество дней трудового стажа в столбце `days_employed`. Для реальных данных это нормально.\n",
    "\n",
    "Обработаем значения в этом столбце: заменим все отрицательные значения положительными с помощью метода `abs()`."
   ]
  },
  {
   "cell_type": "code",
   "execution_count": 10,
   "id": "047d08f1",
   "metadata": {
    "id": "f6f055bf",
    "tags": []
   },
   "outputs": [],
   "source": [
    "data['days_employed'] = data['days_employed'].abs()"
   ]
  },
  {
   "cell_type": "markdown",
   "id": "8008c731",
   "metadata": {
    "id": "6107dd2f"
   },
   "source": [
    "**Для каждого типа занятости выведем медианное значение трудового стажа `days_employed` в днях.**"
   ]
  },
  {
   "cell_type": "code",
   "execution_count": 11,
   "id": "2c39e2fd",
   "metadata": {
    "id": "85a5faf6",
    "outputId": "801ef80e-522b-4668-f34e-565af7432bcf",
    "tags": []
   },
   "outputs": [
    {
     "data": {
      "text/plain": [
       "income_type\n",
       "безработный        366413.652744\n",
       "в декрете            3296.759962\n",
       "госслужащий          2689.368353\n",
       "компаньон            1547.382223\n",
       "пенсионер          365213.306266\n",
       "предприниматель       520.848083\n",
       "сотрудник            1574.202821\n",
       "студент               578.751554\n",
       "Name: days_employed, dtype: float64"
      ]
     },
     "execution_count": 11,
     "metadata": {},
     "output_type": "execute_result"
    }
   ],
   "source": [
    "data.groupby('income_type')['days_employed'].agg('median')"
   ]
  },
  {
   "cell_type": "markdown",
   "id": "bc1f0419",
   "metadata": {
    "id": "38d1a030"
   },
   "source": [
    "У двух типов (безработные и пенсионеры) получатся аномально большие значения. Исправить такие значения сложно, поэтому оставьте их как есть. Тем более этот столбец не понадобится вам для исследования."
   ]
  },
  {
   "cell_type": "markdown",
   "id": "0150c560",
   "metadata": {
    "id": "d8a9f147"
   },
   "source": [
    "**Выведем перечень уникальных значений столбца `children`.**"
   ]
  },
  {
   "cell_type": "code",
   "execution_count": 12,
   "id": "1b6f958e",
   "metadata": {
    "id": "ef5056eb",
    "outputId": "6975b15c-7f95-4697-d16d-a0c79b657b03",
    "tags": []
   },
   "outputs": [
    {
     "data": {
      "text/plain": [
       "array([ 1,  0,  3,  2, -1,  4, 20,  5])"
      ]
     },
     "execution_count": 12,
     "metadata": {},
     "output_type": "execute_result"
    }
   ],
   "source": [
    "data['children'].unique()"
   ]
  },
  {
   "cell_type": "markdown",
   "id": "73dc05f5",
   "metadata": {
    "id": "40b9ebf2"
   },
   "source": [
    "В столбце `children` есть два аномальных значения. Удалим строки, в которых встречаются такие аномальные значения."
   ]
  },
  {
   "cell_type": "code",
   "execution_count": 13,
   "id": "5e8cdcc6",
   "metadata": {
    "id": "3ff9801d",
    "tags": []
   },
   "outputs": [],
   "source": [
    "data = data[(data['children'] != -1) & (data['children'] != 20)]"
   ]
  },
  {
   "cell_type": "markdown",
   "id": "fcfac41f",
   "metadata": {
    "id": "bbc4d0ce"
   },
   "source": [
    "**Ещё раз выведем перечень уникальных значений столбца `children`, чтобы убедиться, что артефакты удалены.**"
   ]
  },
  {
   "cell_type": "code",
   "execution_count": 14,
   "id": "44234a51",
   "metadata": {
    "id": "ad4fa8b7",
    "outputId": "b2097101-d49d-44d9-901b-32a65c9463d1",
    "tags": []
   },
   "outputs": [
    {
     "data": {
      "text/plain": [
       "array([1, 0, 3, 2, 4, 5])"
      ]
     },
     "execution_count": 14,
     "metadata": {},
     "output_type": "execute_result"
    }
   ],
   "source": [
    "data['children'].unique()"
   ]
  },
  {
   "cell_type": "markdown",
   "id": "c73edbde",
   "metadata": {
    "id": "75440b63",
    "tags": []
   },
   "source": [
    "### Удаление пропусков (продолжение)"
   ]
  },
  {
   "cell_type": "markdown",
   "id": "078bb757",
   "metadata": {
    "id": "f4ea573f"
   },
   "source": [
    "**Заполним пропуски в столбце `days_employed` медианными значениями по каждого типа занятости `income_type`.**"
   ]
  },
  {
   "cell_type": "code",
   "execution_count": 15,
   "id": "a29ecfc4",
   "metadata": {
    "id": "af6b1a7e",
    "tags": []
   },
   "outputs": [],
   "source": [
    "for t in data['income_type'].unique():\n",
    "    data.loc[(data['income_type'] == t) & (data['days_employed'].isna()), 'days_employed'] = \\\n",
    "    data.loc[(data['income_type'] == t), 'days_employed'].median()"
   ]
  },
  {
   "cell_type": "markdown",
   "id": "8f8ed3f4",
   "metadata": {
    "id": "2753f40d"
   },
   "source": [
    "**Убедимся, что все пропуски заполнены. Выведеи количество пропущенных значений для каждого столбца.**"
   ]
  },
  {
   "cell_type": "code",
   "execution_count": 16,
   "id": "924719fa",
   "metadata": {
    "id": "55f78bc2",
    "outputId": "8da1e4e1-358e-4e87-98c9-f261bce0a7b2",
    "tags": []
   },
   "outputs": [
    {
     "data": {
      "text/plain": [
       "children            0\n",
       "days_employed       0\n",
       "dob_years           0\n",
       "education           0\n",
       "education_id        0\n",
       "family_status       0\n",
       "family_status_id    0\n",
       "gender              0\n",
       "income_type         0\n",
       "debt                0\n",
       "total_income        0\n",
       "purpose             0\n",
       "dtype: int64"
      ]
     },
     "execution_count": 16,
     "metadata": {},
     "output_type": "execute_result"
    }
   ],
   "source": [
    "data.isna().sum()"
   ]
  },
  {
   "cell_type": "markdown",
   "id": "884cd4e9",
   "metadata": {
    "id": "ddc81e43"
   },
   "source": [
    "### Изменение типов данных"
   ]
  },
  {
   "cell_type": "markdown",
   "id": "8f356114",
   "metadata": {
    "id": "42d19d24"
   },
   "source": [
    "**Заменим вещественный тип данных в столбце `total_income` на целочисленный с помощью метода `astype()`.**"
   ]
  },
  {
   "cell_type": "code",
   "execution_count": 17,
   "id": "787d584c",
   "metadata": {
    "id": "920b65ad",
    "tags": []
   },
   "outputs": [],
   "source": [
    "data['total_income'] = data['total_income'].astype(int)"
   ]
  },
  {
   "cell_type": "markdown",
   "id": "a944fd2f",
   "metadata": {
    "id": "80c420ba"
   },
   "source": [
    "### Обработка дубликатов"
   ]
  },
  {
   "cell_type": "markdown",
   "id": "150ec6b0",
   "metadata": {},
   "source": [
    "**Обработаем неявные дубликаты в столбце `education`.**\n",
    "\n",
    "В этом столбце есть одни и те же значения, но записанные по-разному: с использованием заглавных и строчных букв. Приведем их к нижнему регистру. Проверим остальные столбцы."
   ]
  },
  {
   "cell_type": "code",
   "execution_count": 18,
   "id": "d78d856c",
   "metadata": {
    "deletable": false,
    "tags": []
   },
   "outputs": [],
   "source": [
    "data['education'] = data['education'].str.lower()"
   ]
  },
  {
   "cell_type": "markdown",
   "id": "d3d83d5c",
   "metadata": {
    "id": "dc587695"
   },
   "source": [
    "**Выведем количество строк-дубликатов в данных. Если такие строки присутствуют, удалим их.**"
   ]
  },
  {
   "cell_type": "code",
   "execution_count": 19,
   "id": "2d5d94e4",
   "metadata": {
    "id": "3ee445e4",
    "outputId": "9684deba-1934-42d1-99e1-cda61740f822",
    "tags": []
   },
   "outputs": [
    {
     "data": {
      "text/plain": [
       "71"
      ]
     },
     "execution_count": 19,
     "metadata": {},
     "output_type": "execute_result"
    }
   ],
   "source": [
    "data.duplicated().sum()"
   ]
  },
  {
   "cell_type": "code",
   "execution_count": 20,
   "id": "51bbcda3",
   "metadata": {
    "id": "8575fe05",
    "tags": []
   },
   "outputs": [],
   "source": [
    "data = data.drop_duplicates()"
   ]
  },
  {
   "cell_type": "markdown",
   "id": "336274a3",
   "metadata": {
    "id": "9904cf55"
   },
   "source": [
    "### Категоризация данных"
   ]
  },
  {
   "cell_type": "markdown",
   "id": "139c7b71",
   "metadata": {
    "id": "72fcc8a2"
   },
   "source": [
    "**На основании диапазонов, указанных ниже, создадим в датафрейме `data` столбец `total_income_category` с категориями:**\n",
    "\n",
    "- 0–30000 — `'E'`;\n",
    "- 30001–50000 — `'D'`;\n",
    "- 50001–200000 — `'C'`;\n",
    "- 200001–1000000 — `'B'`;\n",
    "- 1000001 и выше — `'A'`.\n",
    "\n",
    "\n",
    "**Например, кредитополучателю с доходом 25000 назначим категорию `'E'`, а клиенту, получающему 235000, — `'B'`.**\n",
    "\n",
    "Используем собственную функцию с именем `categorize_income()` и метод `apply()`."
   ]
  },
  {
   "cell_type": "code",
   "execution_count": 21,
   "id": "535dc25c",
   "metadata": {
    "id": "d5f3586d",
    "tags": []
   },
   "outputs": [],
   "source": [
    "data['total_income_category'] = data['total_income'].apply(categorize_income)"
   ]
  },
  {
   "cell_type": "markdown",
   "id": "43aed5dc",
   "metadata": {
    "id": "dde49b5c"
   },
   "source": [
    "**Выведем на экран перечень уникальных целей взятия кредита из столбца `purpose`.**"
   ]
  },
  {
   "cell_type": "code",
   "execution_count": 22,
   "id": "50f962f3",
   "metadata": {
    "id": "f67ce9b3",
    "outputId": "673c12d9-7d7e-4ae0-9812-c622c89dd244",
    "tags": []
   },
   "outputs": [
    {
     "data": {
      "text/plain": [
       "array(['покупка жилья', 'приобретение автомобиля',\n",
       "       'дополнительное образование', 'сыграть свадьбу',\n",
       "       'операции с жильем', 'образование', 'на проведение свадьбы',\n",
       "       'покупка жилья для семьи', 'покупка недвижимости',\n",
       "       'покупка коммерческой недвижимости', 'покупка жилой недвижимости',\n",
       "       'строительство собственной недвижимости', 'недвижимость',\n",
       "       'строительство недвижимости', 'на покупку подержанного автомобиля',\n",
       "       'на покупку своего автомобиля',\n",
       "       'операции с коммерческой недвижимостью',\n",
       "       'строительство жилой недвижимости', 'жилье',\n",
       "       'операции со своей недвижимостью', 'автомобили',\n",
       "       'заняться образованием', 'сделка с подержанным автомобилем',\n",
       "       'получение образования', 'автомобиль', 'свадьба',\n",
       "       'получение дополнительного образования', 'покупка своего жилья',\n",
       "       'операции с недвижимостью', 'получение высшего образования',\n",
       "       'свой автомобиль', 'сделка с автомобилем',\n",
       "       'профильное образование', 'высшее образование',\n",
       "       'покупка жилья для сдачи', 'на покупку автомобиля', 'ремонт жилью',\n",
       "       'заняться высшим образованием'], dtype=object)"
      ]
     },
     "execution_count": 22,
     "metadata": {},
     "output_type": "execute_result"
    }
   ],
   "source": [
    "data['purpose'].unique()"
   ]
  },
  {
   "cell_type": "markdown",
   "id": "3568ffc0",
   "metadata": {
    "id": "85d0aef0"
   },
   "source": [
    "**С помощью собственной функции, на основании данных из столбца `purpose`, сформируем новый столбец `purpose_category`, в который войдут следующие категории:**\n",
    "\n",
    "- `'операции с автомобилем'`,\n",
    "- `'операции с недвижимостью'`,\n",
    "- `'проведение свадьбы'`,\n",
    "- `'получение образования'`."
   ]
  },
  {
   "cell_type": "code",
   "execution_count": 23,
   "id": "0161cd5a",
   "metadata": {
    "id": "bf36e69b",
    "tags": []
   },
   "outputs": [],
   "source": [
    "data['purpose_category'] = data['purpose'].apply(categorize_purpose)"
   ]
  },
  {
   "cell_type": "markdown",
   "id": "0da7d33e-15ee-4f76-8e3d-6fe1f86a048e",
   "metadata": {},
   "source": [
    "**ПРОВЕРИМ КАТЕГОРИИ:**"
   ]
  },
  {
   "cell_type": "code",
   "execution_count": 24,
   "id": "36b4e9bc-6d97-4a92-89b1-96ec74e60140",
   "metadata": {
    "tags": []
   },
   "outputs": [
    {
     "data": {
      "text/html": [
       "<div>\n",
       "<style scoped>\n",
       "    .dataframe tbody tr th:only-of-type {\n",
       "        vertical-align: middle;\n",
       "    }\n",
       "\n",
       "    .dataframe tbody tr th {\n",
       "        vertical-align: top;\n",
       "    }\n",
       "\n",
       "    .dataframe thead th {\n",
       "        text-align: right;\n",
       "    }\n",
       "</style>\n",
       "<table border=\"1\" class=\"dataframe\">\n",
       "  <thead>\n",
       "    <tr style=\"text-align: right;\">\n",
       "      <th></th>\n",
       "      <th>children</th>\n",
       "      <th>days_employed</th>\n",
       "      <th>dob_years</th>\n",
       "      <th>education</th>\n",
       "      <th>education_id</th>\n",
       "      <th>family_status</th>\n",
       "      <th>family_status_id</th>\n",
       "      <th>gender</th>\n",
       "      <th>income_type</th>\n",
       "      <th>debt</th>\n",
       "      <th>total_income</th>\n",
       "      <th>purpose</th>\n",
       "      <th>total_income_category</th>\n",
       "      <th>purpose_category</th>\n",
       "    </tr>\n",
       "  </thead>\n",
       "  <tbody>\n",
       "    <tr>\n",
       "      <th>0</th>\n",
       "      <td>1</td>\n",
       "      <td>8437.673028</td>\n",
       "      <td>42</td>\n",
       "      <td>высшее</td>\n",
       "      <td>0</td>\n",
       "      <td>женат / замужем</td>\n",
       "      <td>0</td>\n",
       "      <td>F</td>\n",
       "      <td>сотрудник</td>\n",
       "      <td>0</td>\n",
       "      <td>253875</td>\n",
       "      <td>покупка жилья</td>\n",
       "      <td>B</td>\n",
       "      <td>операции с недвижимостью</td>\n",
       "    </tr>\n",
       "    <tr>\n",
       "      <th>1</th>\n",
       "      <td>1</td>\n",
       "      <td>4024.803754</td>\n",
       "      <td>36</td>\n",
       "      <td>среднее</td>\n",
       "      <td>1</td>\n",
       "      <td>женат / замужем</td>\n",
       "      <td>0</td>\n",
       "      <td>F</td>\n",
       "      <td>сотрудник</td>\n",
       "      <td>0</td>\n",
       "      <td>112080</td>\n",
       "      <td>приобретение автомобиля</td>\n",
       "      <td>C</td>\n",
       "      <td>операции с автомобилем</td>\n",
       "    </tr>\n",
       "    <tr>\n",
       "      <th>2</th>\n",
       "      <td>0</td>\n",
       "      <td>5623.422610</td>\n",
       "      <td>33</td>\n",
       "      <td>среднее</td>\n",
       "      <td>1</td>\n",
       "      <td>женат / замужем</td>\n",
       "      <td>0</td>\n",
       "      <td>M</td>\n",
       "      <td>сотрудник</td>\n",
       "      <td>0</td>\n",
       "      <td>145885</td>\n",
       "      <td>покупка жилья</td>\n",
       "      <td>C</td>\n",
       "      <td>операции с недвижимостью</td>\n",
       "    </tr>\n",
       "    <tr>\n",
       "      <th>3</th>\n",
       "      <td>3</td>\n",
       "      <td>4124.747207</td>\n",
       "      <td>32</td>\n",
       "      <td>среднее</td>\n",
       "      <td>1</td>\n",
       "      <td>женат / замужем</td>\n",
       "      <td>0</td>\n",
       "      <td>M</td>\n",
       "      <td>сотрудник</td>\n",
       "      <td>0</td>\n",
       "      <td>267628</td>\n",
       "      <td>дополнительное образование</td>\n",
       "      <td>B</td>\n",
       "      <td>получение образования</td>\n",
       "    </tr>\n",
       "    <tr>\n",
       "      <th>4</th>\n",
       "      <td>0</td>\n",
       "      <td>340266.072047</td>\n",
       "      <td>53</td>\n",
       "      <td>среднее</td>\n",
       "      <td>1</td>\n",
       "      <td>гражданский брак</td>\n",
       "      <td>1</td>\n",
       "      <td>F</td>\n",
       "      <td>пенсионер</td>\n",
       "      <td>0</td>\n",
       "      <td>158616</td>\n",
       "      <td>сыграть свадьбу</td>\n",
       "      <td>C</td>\n",
       "      <td>проведение свадьбы</td>\n",
       "    </tr>\n",
       "  </tbody>\n",
       "</table>\n",
       "</div>"
      ],
      "text/plain": [
       "   children  days_employed  dob_years education  education_id  \\\n",
       "0         1    8437.673028         42    высшее             0   \n",
       "1         1    4024.803754         36   среднее             1   \n",
       "2         0    5623.422610         33   среднее             1   \n",
       "3         3    4124.747207         32   среднее             1   \n",
       "4         0  340266.072047         53   среднее             1   \n",
       "\n",
       "      family_status  family_status_id gender income_type  debt  total_income  \\\n",
       "0   женат / замужем                 0      F   сотрудник     0        253875   \n",
       "1   женат / замужем                 0      F   сотрудник     0        112080   \n",
       "2   женат / замужем                 0      M   сотрудник     0        145885   \n",
       "3   женат / замужем                 0      M   сотрудник     0        267628   \n",
       "4  гражданский брак                 1      F   пенсионер     0        158616   \n",
       "\n",
       "                      purpose total_income_category          purpose_category  \n",
       "0               покупка жилья                     B  операции с недвижимостью  \n",
       "1     приобретение автомобиля                     C    операции с автомобилем  \n",
       "2               покупка жилья                     C  операции с недвижимостью  \n",
       "3  дополнительное образование                     B     получение образования  \n",
       "4             сыграть свадьбу                     C        проведение свадьбы  "
      ]
     },
     "execution_count": 24,
     "metadata": {},
     "output_type": "execute_result"
    }
   ],
   "source": [
    "data.head()"
   ]
  },
  {
   "cell_type": "markdown",
   "id": "fb0c305c",
   "metadata": {
    "id": "09b242bf"
   },
   "source": [
    "## Исследование данных"
   ]
  },
  {
   "cell_type": "markdown",
   "id": "41dec61e",
   "metadata": {
    "id": "c5d66278"
   },
   "source": [
    "### Есть ли зависимость между количеством детей и возвратом кредита в срок?"
   ]
  },
  {
   "cell_type": "code",
   "execution_count": 25,
   "id": "86b6d1bb",
   "metadata": {
    "tags": []
   },
   "outputs": [
    {
     "name": "stdout",
     "output_type": "stream",
     "text": [
      "\n",
      "7.54% просрочек у клиентов без детей.\n",
      "9.24% просрочек у клиентов c детьми.\n"
     ]
    }
   ],
   "source": [
    "debt_no_children = data.loc[data['children']==0]['debt'].mean()\n",
    "debt_with_children = data.loc[data['children']>0]['debt'].mean()\n",
    "print()\n",
    "print(f'{debt_no_children:.2%} просрочек у клиентов без детей.')\n",
    "print(f'{debt_with_children:.2%} просрочек у клиентов c детьми.')"
   ]
  },
  {
   "cell_type": "markdown",
   "id": "38e57095",
   "metadata": {},
   "source": [
    "**Как мы видим, клиенты без детей чаще возвращают кредиты в срок.**\n",
    "\n",
    "**Посмотрим на статистику задолжностей по возврату кредитов в зависимости от количества детей:**"
   ]
  },
  {
   "cell_type": "code",
   "execution_count": 26,
   "id": "c52578c8",
   "metadata": {
    "id": "2cacfc4a",
    "tags": []
   },
   "outputs": [
    {
     "data": {
      "text/html": [
       "<style  type=\"text/css\" >\n",
       "</style><table id=\"T_91709_\" ><thead>    <tr>        <th class=\"blank level0\" ></th>        <th class=\"col_heading level0 col0\" >Клиентов</th>        <th class=\"col_heading level0 col1\" >Просрочки</th>    </tr>    <tr>        <th class=\"index_name level0\" >Детей</th>        <th class=\"blank\" ></th>        <th class=\"blank\" ></th>    </tr></thead><tbody>\n",
       "                <tr>\n",
       "                        <th id=\"T_91709_level0_row0\" class=\"row_heading level0 row0\" >0</th>\n",
       "                        <td id=\"T_91709_row0_col0\" class=\"data row0 col0\" >14091</td>\n",
       "                        <td id=\"T_91709_row0_col1\" class=\"data row0 col1\" >7.54%</td>\n",
       "            </tr>\n",
       "            <tr>\n",
       "                        <th id=\"T_91709_level0_row1\" class=\"row_heading level0 row1\" >1</th>\n",
       "                        <td id=\"T_91709_row1_col0\" class=\"data row1 col0\" >4808</td>\n",
       "                        <td id=\"T_91709_row1_col1\" class=\"data row1 col1\" >9.23%</td>\n",
       "            </tr>\n",
       "            <tr>\n",
       "                        <th id=\"T_91709_level0_row2\" class=\"row_heading level0 row2\" >2</th>\n",
       "                        <td id=\"T_91709_row2_col0\" class=\"data row2 col0\" >2052</td>\n",
       "                        <td id=\"T_91709_row2_col1\" class=\"data row2 col1\" >9.45%</td>\n",
       "            </tr>\n",
       "            <tr>\n",
       "                        <th id=\"T_91709_level0_row3\" class=\"row_heading level0 row3\" >3</th>\n",
       "                        <td id=\"T_91709_row3_col0\" class=\"data row3 col0\" >330</td>\n",
       "                        <td id=\"T_91709_row3_col1\" class=\"data row3 col1\" >8.18%</td>\n",
       "            </tr>\n",
       "            <tr>\n",
       "                        <th id=\"T_91709_level0_row4\" class=\"row_heading level0 row4\" >4</th>\n",
       "                        <td id=\"T_91709_row4_col0\" class=\"data row4 col0\" >41</td>\n",
       "                        <td id=\"T_91709_row4_col1\" class=\"data row4 col1\" >9.76%</td>\n",
       "            </tr>\n",
       "            <tr>\n",
       "                        <th id=\"T_91709_level0_row5\" class=\"row_heading level0 row5\" >5</th>\n",
       "                        <td id=\"T_91709_row5_col0\" class=\"data row5 col0\" >9</td>\n",
       "                        <td id=\"T_91709_row5_col1\" class=\"data row5 col1\" >0.00%</td>\n",
       "            </tr>\n",
       "    </tbody></table>"
      ],
      "text/plain": [
       "<pandas.io.formats.style.Styler at 0x7f1344dc83a0>"
      ]
     },
     "execution_count": 26,
     "metadata": {},
     "output_type": "execute_result"
    }
   ],
   "source": [
    "table_df = data.pivot_table(\n",
    "    index = ['children'], values = 'debt', aggfunc = ('mean', 'count'))\n",
    "table_df['count'] = table_df['count'].apply(round)\n",
    "table_df = table_df.rename(columns={'count':'Клиентов','mean':'Просрочки'})\n",
    "table_df.index.names = ['Детей']\n",
    "table_df.style.format({'Просрочки': '{0:.2%}'})"
   ]
  },
  {
   "cell_type": "markdown",
   "id": "14719420",
   "metadata": {
    "id": "3a6b99ec"
   },
   "source": [
    "**Выводы:**\n",
    "- Клиенты без детей самые надежные с точки зрения выплаты кредитов в срок.\n",
    "- Клиенты с тремя детьми более ответственно относятся к выплате кредитов, чем клиенты с 1-2 детьми.\n",
    "\n",
    "*Клиенты с 5 детьми ни разу не просрочили выплаты по кредитам, а клиенты с 4-мя детьми самые яростные неплательщики, - но их суммарная доля составляет < 0.25% выборки.*"
   ]
  },
  {
   "cell_type": "markdown",
   "id": "16ec233d",
   "metadata": {
    "id": "97be82ca"
   },
   "source": [
    "### Есть ли зависимость между семейным положением и возвратом кредита в срок?"
   ]
  },
  {
   "cell_type": "markdown",
   "id": "4a72d4d2",
   "metadata": {
    "id": "dc3f7ee8"
   },
   "source": [
    "**Посмотрим на статистику задолжностей по возврату кредитов в зависимости от семейного положения:**"
   ]
  },
  {
   "cell_type": "code",
   "execution_count": 27,
   "id": "d5b3f02a",
   "metadata": {
    "tags": []
   },
   "outputs": [
    {
     "data": {
      "text/html": [
       "<style  type=\"text/css\" >\n",
       "</style><table id=\"T_2be9a_\" ><thead>    <tr>        <th class=\"blank level0\" ></th>        <th class=\"col_heading level0 col0\" >Клиентов</th>        <th class=\"col_heading level0 col1\" >Просрочки</th>    </tr>    <tr>        <th class=\"index_name level0\" >Семейный статус</th>        <th class=\"blank\" ></th>        <th class=\"blank\" ></th>    </tr></thead><tbody>\n",
       "                <tr>\n",
       "                        <th id=\"T_2be9a_level0_row0\" class=\"row_heading level0 row0\" >Не женат / не замужем</th>\n",
       "                        <td id=\"T_2be9a_row0_col0\" class=\"data row0 col0\" >2796</td>\n",
       "                        <td id=\"T_2be9a_row0_col1\" class=\"data row0 col1\" >9.76%</td>\n",
       "            </tr>\n",
       "            <tr>\n",
       "                        <th id=\"T_2be9a_level0_row1\" class=\"row_heading level0 row1\" >гражданский брак</th>\n",
       "                        <td id=\"T_2be9a_row1_col0\" class=\"data row1 col0\" >4134</td>\n",
       "                        <td id=\"T_2be9a_row1_col1\" class=\"data row1 col1\" >9.31%</td>\n",
       "            </tr>\n",
       "            <tr>\n",
       "                        <th id=\"T_2be9a_level0_row2\" class=\"row_heading level0 row2\" >женат / замужем</th>\n",
       "                        <td id=\"T_2be9a_row2_col0\" class=\"data row2 col0\" >12261</td>\n",
       "                        <td id=\"T_2be9a_row2_col1\" class=\"data row2 col1\" >7.56%</td>\n",
       "            </tr>\n",
       "            <tr>\n",
       "                        <th id=\"T_2be9a_level0_row3\" class=\"row_heading level0 row3\" >в разводе</th>\n",
       "                        <td id=\"T_2be9a_row3_col0\" class=\"data row3 col0\" >1189</td>\n",
       "                        <td id=\"T_2be9a_row3_col1\" class=\"data row3 col1\" >7.06%</td>\n",
       "            </tr>\n",
       "            <tr>\n",
       "                        <th id=\"T_2be9a_level0_row4\" class=\"row_heading level0 row4\" >вдовец / вдова</th>\n",
       "                        <td id=\"T_2be9a_row4_col0\" class=\"data row4 col0\" >951</td>\n",
       "                        <td id=\"T_2be9a_row4_col1\" class=\"data row4 col1\" >6.62%</td>\n",
       "            </tr>\n",
       "    </tbody></table>"
      ],
      "text/plain": [
       "<pandas.io.formats.style.Styler at 0x7f1344b0e3d0>"
      ]
     },
     "execution_count": 27,
     "metadata": {},
     "output_type": "execute_result"
    }
   ],
   "source": [
    "table_df = data.pivot_table(\n",
    "    index = ['family_status'], values = 'debt', aggfunc = ('mean', 'count'))\n",
    "table_df['count'] = table_df['count'].apply(round)\n",
    "table_df = table_df.rename(columns={'count':'Клиентов','mean':'Просрочки'})\n",
    "table_df.index.names = ['Семейный статус']\n",
    "table_df.sort_values(by='Просрочки', ascending=False).style.format({'Просрочки': '{0:.2%}'})"
   ]
  },
  {
   "cell_type": "markdown",
   "id": "f3a10766",
   "metadata": {
    "id": "1cef7837"
   },
   "source": [
    "Обнаружены следующие факты:\n",
    "\n",
    "1. Клиенты в статусе \"Не женат / не замужем\" допускают просрочки чаще всего (9.76%);\n",
    "2. Клиенты в статусе \"вдовец / вдова\" самые ответственные плательщики (всего 6.62% просрочек).\n",
    "\n",
    "**Вывод: Следует с осторожностью относиться к клиентам, которые не состоят или не состояли в зарегистрированном браке.**\n"
   ]
  },
  {
   "cell_type": "markdown",
   "id": "42be17ba",
   "metadata": {
    "id": "1e8b2fca"
   },
   "source": [
    "### Есть ли зависимость между уровнем дохода и возвратом кредита в срок?"
   ]
  },
  {
   "cell_type": "markdown",
   "id": "f0681f19",
   "metadata": {},
   "source": [
    "**Категории уровня дохода в задании определены следующим образом:**\n",
    "\n",
    "- 0–30000 — `'E'`;\n",
    "- 30001–50000 — `'D'`;\n",
    "- 50001–200000 — `'C'`;\n",
    "- 200001–1000000 — `'B'`;\n",
    "- 1000001 и выше — `'A'`.\n",
    "\n",
    "**Посмотрим на статистику задолжностей по возврату кредитов в зависимости от уровня дохода:**"
   ]
  },
  {
   "cell_type": "code",
   "execution_count": 28,
   "id": "f91c9060",
   "metadata": {
    "id": "cd7e3720",
    "tags": []
   },
   "outputs": [
    {
     "data": {
      "text/html": [
       "<style  type=\"text/css\" >\n",
       "</style><table id=\"T_b1df2_\" ><thead>    <tr>        <th class=\"blank level0\" ></th>        <th class=\"col_heading level0 col0\" >Клиентов</th>        <th class=\"col_heading level0 col1\" >Просрочки</th>    </tr>    <tr>        <th class=\"index_name level0\" >Уровень дохода</th>        <th class=\"blank\" ></th>        <th class=\"blank\" ></th>    </tr></thead><tbody>\n",
       "                <tr>\n",
       "                        <th id=\"T_b1df2_level0_row0\" class=\"row_heading level0 row0\" >A</th>\n",
       "                        <td id=\"T_b1df2_row0_col0\" class=\"data row0 col0\" >25</td>\n",
       "                        <td id=\"T_b1df2_row0_col1\" class=\"data row0 col1\" >8.00%</td>\n",
       "            </tr>\n",
       "            <tr>\n",
       "                        <th id=\"T_b1df2_level0_row1\" class=\"row_heading level0 row1\" >B</th>\n",
       "                        <td id=\"T_b1df2_row1_col0\" class=\"data row1 col0\" >5014</td>\n",
       "                        <td id=\"T_b1df2_row1_col1\" class=\"data row1 col1\" >7.06%</td>\n",
       "            </tr>\n",
       "            <tr>\n",
       "                        <th id=\"T_b1df2_level0_row2\" class=\"row_heading level0 row2\" >C</th>\n",
       "                        <td id=\"T_b1df2_row2_col0\" class=\"data row2 col0\" >15921</td>\n",
       "                        <td id=\"T_b1df2_row2_col1\" class=\"data row2 col1\" >8.50%</td>\n",
       "            </tr>\n",
       "            <tr>\n",
       "                        <th id=\"T_b1df2_level0_row3\" class=\"row_heading level0 row3\" >D</th>\n",
       "                        <td id=\"T_b1df2_row3_col0\" class=\"data row3 col0\" >349</td>\n",
       "                        <td id=\"T_b1df2_row3_col1\" class=\"data row3 col1\" >6.02%</td>\n",
       "            </tr>\n",
       "            <tr>\n",
       "                        <th id=\"T_b1df2_level0_row4\" class=\"row_heading level0 row4\" >E</th>\n",
       "                        <td id=\"T_b1df2_row4_col0\" class=\"data row4 col0\" >22</td>\n",
       "                        <td id=\"T_b1df2_row4_col1\" class=\"data row4 col1\" >9.09%</td>\n",
       "            </tr>\n",
       "    </tbody></table>"
      ],
      "text/plain": [
       "<pandas.io.formats.style.Styler at 0x7f1344dc8280>"
      ]
     },
     "execution_count": 28,
     "metadata": {},
     "output_type": "execute_result"
    }
   ],
   "source": [
    "table_df = data.pivot_table(\n",
    "    index = ['total_income_category'], values = 'debt', aggfunc = ('mean', 'count'))\n",
    "table_df['count'] = table_df['count'].apply(round)\n",
    "table_df = table_df.rename(columns={'count':'Клиентов','mean':'Просрочки'})\n",
    "table_df.index.names = ['Уровень дохода']\n",
    "table_df.style.format({'Просрочки': '{0:.2%}'})"
   ]
  },
  {
   "cell_type": "markdown",
   "id": "66da36d7",
   "metadata": {},
   "source": [
    "**Вывод 1: По предложенной категоризации можно сказать, что у клиентов с самым низким уровнем дохода больше просрочек.**"
   ]
  },
  {
   "cell_type": "markdown",
   "id": "8ed3d61a",
   "metadata": {},
   "source": [
    "**Попробуем разбить данные об уровне дохода на другие, равные по кол-ву клиентов, интервалы:**"
   ]
  },
  {
   "cell_type": "code",
   "execution_count": 29,
   "id": "ad15ff01",
   "metadata": {
    "tags": []
   },
   "outputs": [
    {
     "data": {
      "text/html": [
       "<div>\n",
       "<style scoped>\n",
       "    .dataframe tbody tr th:only-of-type {\n",
       "        vertical-align: middle;\n",
       "    }\n",
       "\n",
       "    .dataframe tbody tr th {\n",
       "        vertical-align: top;\n",
       "    }\n",
       "\n",
       "    .dataframe thead th {\n",
       "        text-align: right;\n",
       "    }\n",
       "</style>\n",
       "<table border=\"1\" class=\"dataframe\">\n",
       "  <thead>\n",
       "    <tr style=\"text-align: right;\">\n",
       "      <th></th>\n",
       "      <th>Просрочки, %</th>\n",
       "    </tr>\n",
       "    <tr>\n",
       "      <th>Уровень дохода</th>\n",
       "      <th></th>\n",
       "    </tr>\n",
       "  </thead>\n",
       "  <tbody>\n",
       "    <tr>\n",
       "      <th>(20667, 83837]</th>\n",
       "      <td>7.72</td>\n",
       "    </tr>\n",
       "    <tr>\n",
       "      <th>(83837, 107507]</th>\n",
       "      <td>8.29</td>\n",
       "    </tr>\n",
       "    <tr>\n",
       "      <th>(107507, 127546]</th>\n",
       "      <td>8.74</td>\n",
       "    </tr>\n",
       "    <tr>\n",
       "      <th>(127546, 142594]</th>\n",
       "      <td>8.87</td>\n",
       "    </tr>\n",
       "    <tr>\n",
       "      <th>(142594, 166525]</th>\n",
       "      <td>8.75</td>\n",
       "    </tr>\n",
       "    <tr>\n",
       "      <th>(166525, 195842]</th>\n",
       "      <td>8.29</td>\n",
       "    </tr>\n",
       "    <tr>\n",
       "      <th>(195842, 254250]</th>\n",
       "      <td>7.35</td>\n",
       "    </tr>\n",
       "    <tr>\n",
       "      <th>(254250, 2265604]</th>\n",
       "      <td>6.94</td>\n",
       "    </tr>\n",
       "  </tbody>\n",
       "</table>\n",
       "</div>"
      ],
      "text/plain": [
       "                   Просрочки, %\n",
       "Уровень дохода                 \n",
       "(20667, 83837]             7.72\n",
       "(83837, 107507]            8.29\n",
       "(107507, 127546]           8.74\n",
       "(127546, 142594]           8.87\n",
       "(142594, 166525]           8.75\n",
       "(166525, 195842]           8.29\n",
       "(195842, 254250]           7.35\n",
       "(254250, 2265604]          6.94"
      ]
     },
     "execution_count": 29,
     "metadata": {},
     "output_type": "execute_result"
    }
   ],
   "source": [
    "# делю\n",
    "data['total_income_quantile_10'] = pd.qcut(data['total_income'], q=8)\n",
    "data['total_income_quantile_10'] = data['total_income_quantile_10'].apply(\n",
    "    lambda x: pd.Interval(left=int(round(x.left)), right=int(round(x.right))))\n",
    "# делаю сводную таблицу\n",
    "table_df = data.pivot_table(\n",
    "    index = ['total_income_quantile_10'], values = 'debt', aggfunc = 'mean')\n",
    "table_df['debt'] = round(table_df['debt']*100, 2)\n",
    "table_df = table_df.rename(columns={'count':'Клиентов','debt':'Просрочки, %'})\n",
    "table_df.index.names = ['Уровень дохода']\n",
    "table_df"
   ]
  },
  {
   "cell_type": "code",
   "execution_count": 30,
   "id": "2e9fb7df",
   "metadata": {
    "tags": []
   },
   "outputs": [
    {
     "data": {
      "image/png": "[encoded data removed]",
      "text/plain": [
       "<Figure size 1080x432 with 1 Axes>"
      ]
     },
     "metadata": {},
     "output_type": "display_data"
    }
   ],
   "source": [
    "sb.set(rc={'figure.figsize':(15,6)})\n",
    "chart = sb.barplot(data=table_df, x=table_df.index,\n",
    "           y=\"Просрочки, %\");\n",
    "chart.set(title='Просрочки по уровню дохода');\n",
    "chart.set_yticks(np.arange(0,max(table_df['Просрочки, %']),0.5));"
   ]
  },
  {
   "cell_type": "markdown",
   "id": "f005a5f9",
   "metadata": {
    "id": "e8593def"
   },
   "source": [
    "**Вывод 2: При такой категоризации мы видим, что начиная со среднего уровня дохода наблюдается тенденция к снижению процента просрочек с увеличением дохода. Однако результаты при категоризации по предложенным A-B-C-D-E категориям, в частности, по категории А - противоречат данному утверждению.**\n",
    "\n",
    "**Соответственно, единственным точным выводом считаю, что у клиентов категории дохода E больше всего просрочек (9.09%).**"
   ]
  },
  {
   "cell_type": "markdown",
   "id": "e2a33610",
   "metadata": {
    "id": "99ecbd1f"
   },
   "source": [
    "### Как разные цели кредита влияют на его возврат в срок?"
   ]
  },
  {
   "cell_type": "markdown",
   "id": "ec324aa0",
   "metadata": {},
   "source": [
    "**Посмотрим в кредитах на какие цели чаще и реже всего допускаются просрочки**"
   ]
  },
  {
   "cell_type": "code",
   "execution_count": 31,
   "id": "3eab2ce8",
   "metadata": {
    "tags": []
   },
   "outputs": [
    {
     "name": "stdout",
     "output_type": "stream",
     "text": [
      "покупка своего жилья - меньше всего просрочек (5.49%).\n",
      "получение дополнительного образования - больше всего просрочек (11.49%).\n"
     ]
    }
   ],
   "source": [
    "debts = data.groupby('purpose')['debt'].mean().sort_values()\n",
    "print(f'{list(debts.index)[0]} - меньше всего просрочек ({debts[0]:.2%}).')\n",
    "print(f'{list(debts.index)[len(debts)-1]} - больше всего просрочек ({debts[len(debts)-1]:.2%}).')"
   ]
  },
  {
   "cell_type": "markdown",
   "id": "8aa1e781",
   "metadata": {},
   "source": [
    "**Посмотрим на статистику задолжностей по возврату кредитов в зависимости от категории цели кредита:**"
   ]
  },
  {
   "cell_type": "code",
   "execution_count": 32,
   "id": "224a1d6b",
   "metadata": {
    "id": "2b687290",
    "tags": []
   },
   "outputs": [
    {
     "data": {
      "text/html": [
       "<style  type=\"text/css\" >\n",
       "</style><table id=\"T_5e5bc_\" ><thead>    <tr>        <th class=\"blank level0\" ></th>        <th class=\"col_heading level0 col0\" >Клиентов</th>        <th class=\"col_heading level0 col1\" >Просрочки</th>    </tr>    <tr>        <th class=\"index_name level0\" >Категория цели кредита</th>        <th class=\"blank\" ></th>        <th class=\"blank\" ></th>    </tr></thead><tbody>\n",
       "                <tr>\n",
       "                        <th id=\"T_5e5bc_level0_row0\" class=\"row_heading level0 row0\" >операции с автомобилем</th>\n",
       "                        <td id=\"T_5e5bc_row0_col0\" class=\"data row0 col0\" >4279</td>\n",
       "                        <td id=\"T_5e5bc_row0_col1\" class=\"data row0 col1\" >9.35%</td>\n",
       "            </tr>\n",
       "            <tr>\n",
       "                        <th id=\"T_5e5bc_level0_row1\" class=\"row_heading level0 row1\" >получение образования</th>\n",
       "                        <td id=\"T_5e5bc_row1_col0\" class=\"data row1 col0\" >3988</td>\n",
       "                        <td id=\"T_5e5bc_row1_col1\" class=\"data row1 col1\" >9.25%</td>\n",
       "            </tr>\n",
       "            <tr>\n",
       "                        <th id=\"T_5e5bc_level0_row2\" class=\"row_heading level0 row2\" >проведение свадьбы</th>\n",
       "                        <td id=\"T_5e5bc_row2_col0\" class=\"data row2 col0\" >2313</td>\n",
       "                        <td id=\"T_5e5bc_row2_col1\" class=\"data row2 col1\" >7.91%</td>\n",
       "            </tr>\n",
       "            <tr>\n",
       "                        <th id=\"T_5e5bc_level0_row3\" class=\"row_heading level0 row3\" >операции с недвижимостью</th>\n",
       "                        <td id=\"T_5e5bc_row3_col0\" class=\"data row3 col0\" >10751</td>\n",
       "                        <td id=\"T_5e5bc_row3_col1\" class=\"data row3 col1\" >7.26%</td>\n",
       "            </tr>\n",
       "    </tbody></table>"
      ],
      "text/plain": [
       "<pandas.io.formats.style.Styler at 0x7f12eb009850>"
      ]
     },
     "execution_count": 32,
     "metadata": {},
     "output_type": "execute_result"
    }
   ],
   "source": [
    "table_df = data.pivot_table(\n",
    "    index = ['purpose_category'], values = 'debt', aggfunc = ('mean', 'count')\n",
    ")\n",
    "table_df['count'] = table_df['count'].apply(round)\n",
    "table_df = table_df.rename(columns={'count':'Клиентов','mean':'Просрочки'})\n",
    "table_df.index.names = ['Категория цели кредита']\n",
    "table_df.sort_values(by='Просрочки', ascending=False).style.format({'Просрочки': '{0:.2%}'})"
   ]
  },
  {
   "cell_type": "markdown",
   "id": "f93e76fd",
   "metadata": {
    "id": "b4bb2ce6"
   },
   "source": [
    "**Вывод: меньше всего просрочек допускается по кредитам на операции с недвижимостью (7.26%), а самые рискованые кредиты на цели, связанные с автомобилями (9.35%). Предполагаю, что т.к. автомобиль стоит дешевле, чем недвижимость, - большее количество заемщиков может получить на него кредит, а среди них будет и больше тех, кто допустит просрочки.**"
   ]
  },
  {
   "cell_type": "code",
   "execution_count": 33,
   "id": "4df8e966",
   "metadata": {
    "tags": []
   },
   "outputs": [],
   "source": [
    "df_data = []\n",
    "df_data.append([\n",
    "    'ВСЕГО КЛИЕНТОВ',\n",
    "    len(data[data['purpose_category']=='операции с автомобилем']),\n",
    "    len(data[data['purpose_category']=='операции с недвижимостью'])\n",
    "])\n",
    "for col,tp in data.dtypes.items():\n",
    "    if col in ['purpose_category','purpose']:\n",
    "        continue\n",
    "    try:\n",
    "        if tp == 'object':\n",
    "            df_data.append([\n",
    "                col,\n",
    "                data[data['purpose_category']=='операции с автомобилем'][col].value_counts().index.tolist()[0],\n",
    "                data[data['purpose_category']=='операции с недвижимостью'][col].value_counts().index.tolist()[0]\n",
    "            ])\n",
    "        else:\n",
    "            df_data.append([\n",
    "                col,\n",
    "                data[data['purpose_category']=='операции с автомобилем'][col].median(),\n",
    "                data[data['purpose_category']=='операции с недвижимостью'][col].median()\n",
    "            ])\n",
    "    except:\n",
    "        pass"
   ]
  },
  {
   "cell_type": "markdown",
   "id": "40a1a16c",
   "metadata": {},
   "source": [
    "**Посмотрим чем отличаются клиенты, которые берут кредит на авто и на недвижимость:**"
   ]
  },
  {
   "cell_type": "code",
   "execution_count": 34,
   "id": "52f893c8",
   "metadata": {
    "tags": []
   },
   "outputs": [
    {
     "data": {
      "text/html": [
       "<style  type=\"text/css\" >\n",
       "</style><table id=\"T_f2bab_\" ><thead>    <tr>        <th class=\"col_heading level0 col0\" ></th>        <th class=\"col_heading level0 col1\" >операции с автомобилем</th>        <th class=\"col_heading level0 col2\" >операции с недвижимостью</th>    </tr></thead><tbody>\n",
       "                <tr>\n",
       "                                <td id=\"T_f2bab_row0_col0\" class=\"data row0 col0\" >ВСЕГО КЛИЕНТОВ</td>\n",
       "                        <td id=\"T_f2bab_row0_col1\" class=\"data row0 col1\" >4279</td>\n",
       "                        <td id=\"T_f2bab_row0_col2\" class=\"data row0 col2\" >10751</td>\n",
       "            </tr>\n",
       "            <tr>\n",
       "                                <td id=\"T_f2bab_row1_col0\" class=\"data row1 col0\" >children</td>\n",
       "                        <td id=\"T_f2bab_row1_col1\" class=\"data row1 col1\" >0.000000</td>\n",
       "                        <td id=\"T_f2bab_row1_col2\" class=\"data row1 col2\" >0.000000</td>\n",
       "            </tr>\n",
       "            <tr>\n",
       "                                <td id=\"T_f2bab_row2_col0\" class=\"data row2 col0\" >days_employed</td>\n",
       "                        <td id=\"T_f2bab_row2_col1\" class=\"data row2 col1\" >2036.766689</td>\n",
       "                        <td id=\"T_f2bab_row2_col2\" class=\"data row2 col2\" >1986.808526</td>\n",
       "            </tr>\n",
       "            <tr>\n",
       "                                <td id=\"T_f2bab_row3_col0\" class=\"data row3 col0\" >dob_years</td>\n",
       "                        <td id=\"T_f2bab_row3_col1\" class=\"data row3 col1\" >43.000000</td>\n",
       "                        <td id=\"T_f2bab_row3_col2\" class=\"data row3 col2\" >42.000000</td>\n",
       "            </tr>\n",
       "            <tr>\n",
       "                                <td id=\"T_f2bab_row4_col0\" class=\"data row4 col0\" >education</td>\n",
       "                        <td id=\"T_f2bab_row4_col1\" class=\"data row4 col1\" >среднее</td>\n",
       "                        <td id=\"T_f2bab_row4_col2\" class=\"data row4 col2\" >среднее</td>\n",
       "            </tr>\n",
       "            <tr>\n",
       "                                <td id=\"T_f2bab_row5_col0\" class=\"data row5 col0\" >education_id</td>\n",
       "                        <td id=\"T_f2bab_row5_col1\" class=\"data row5 col1\" >1.000000</td>\n",
       "                        <td id=\"T_f2bab_row5_col2\" class=\"data row5 col2\" >1.000000</td>\n",
       "            </tr>\n",
       "            <tr>\n",
       "                                <td id=\"T_f2bab_row6_col0\" class=\"data row6 col0\" >family_status</td>\n",
       "                        <td id=\"T_f2bab_row6_col1\" class=\"data row6 col1\" >женат / замужем</td>\n",
       "                        <td id=\"T_f2bab_row6_col2\" class=\"data row6 col2\" >женат / замужем</td>\n",
       "            </tr>\n",
       "            <tr>\n",
       "                                <td id=\"T_f2bab_row7_col0\" class=\"data row7 col0\" >family_status_id</td>\n",
       "                        <td id=\"T_f2bab_row7_col1\" class=\"data row7 col1\" >0.000000</td>\n",
       "                        <td id=\"T_f2bab_row7_col2\" class=\"data row7 col2\" >0.000000</td>\n",
       "            </tr>\n",
       "            <tr>\n",
       "                                <td id=\"T_f2bab_row8_col0\" class=\"data row8 col0\" >gender</td>\n",
       "                        <td id=\"T_f2bab_row8_col1\" class=\"data row8 col1\" >F</td>\n",
       "                        <td id=\"T_f2bab_row8_col2\" class=\"data row8 col2\" >F</td>\n",
       "            </tr>\n",
       "            <tr>\n",
       "                                <td id=\"T_f2bab_row9_col0\" class=\"data row9 col0\" >income_type</td>\n",
       "                        <td id=\"T_f2bab_row9_col1\" class=\"data row9 col1\" >сотрудник</td>\n",
       "                        <td id=\"T_f2bab_row9_col2\" class=\"data row9 col2\" >сотрудник</td>\n",
       "            </tr>\n",
       "            <tr>\n",
       "                                <td id=\"T_f2bab_row10_col0\" class=\"data row10 col0\" >debt</td>\n",
       "                        <td id=\"T_f2bab_row10_col1\" class=\"data row10 col1\" >0.000000</td>\n",
       "                        <td id=\"T_f2bab_row10_col2\" class=\"data row10 col2\" >0.000000</td>\n",
       "            </tr>\n",
       "            <tr>\n",
       "                                <td id=\"T_f2bab_row11_col0\" class=\"data row11 col0\" >total_income</td>\n",
       "                        <td id=\"T_f2bab_row11_col1\" class=\"data row11 col1\" >142594.000000</td>\n",
       "                        <td id=\"T_f2bab_row11_col2\" class=\"data row11 col2\" >142910.000000</td>\n",
       "            </tr>\n",
       "            <tr>\n",
       "                                <td id=\"T_f2bab_row12_col0\" class=\"data row12 col0\" >total_income_category</td>\n",
       "                        <td id=\"T_f2bab_row12_col1\" class=\"data row12 col1\" >C</td>\n",
       "                        <td id=\"T_f2bab_row12_col2\" class=\"data row12 col2\" >C</td>\n",
       "            </tr>\n",
       "    </tbody></table>"
      ],
      "text/plain": [
       "<pandas.io.formats.style.Styler at 0x7f12ea9774f0>"
      ]
     },
     "metadata": {},
     "output_type": "display_data"
    }
   ],
   "source": [
    "df = pd.DataFrame(df_data,columns=['','операции с автомобилем','операции с недвижимостью']);\n",
    "display(df.style.hide_index())"
   ]
  },
  {
   "cell_type": "markdown",
   "id": "becb923e",
   "metadata": {},
   "source": [
    "**Вывод: по предоставленным данным, клиенты, которые берут кредит на недвижимость и клиенты, которые берут кредит на автомобили отличаются только количеством. Соответственно, либо просто чем больше кредитов, тем больше просрочек, - либо предоставленных данных недостаточно для того, чтобы сделать выводы о том, почему автокредиты менее надежны для банка.**"
   ]
  },
  {
   "cell_type": "markdown",
   "id": "3dbe3aae",
   "metadata": {
    "id": "09c3ac4c"
   },
   "source": [
    "### Возможные причины появления пропусков в исходных данных"
   ]
  },
  {
   "cell_type": "markdown",
   "id": "1faae450",
   "metadata": {
    "id": "9da2ceda"
   },
   "source": [
    "*Ответ:* \n",
    "\n",
    "**Предполагаю, что у банка просто нет этих данных (клиенты не предоставили, например).**\n",
    "\n",
    "\n",
    "Данные отсутствовали в столбцах days_employed (общий трудовой стаж в днях) и total_income (ежемесячный доход), в одних и тех же строках, поэтому предполагаю, что возможно в базе данных банка, скорее всего, они взаимосвязаны."
   ]
  },
  {
   "cell_type": "markdown",
   "id": "81c50251",
   "metadata": {
    "id": "7b0487d6"
   },
   "source": [
    "#### Почему заполнить пропуски медианным значением — лучшее решение для количественных переменных?"
   ]
  },
  {
   "cell_type": "markdown",
   "id": "95361b40",
   "metadata": {
    "id": "7ecf2b8e"
   },
   "source": [
    "*Ответ:*\n",
    "\n",
    "**Потому что медиана более устойчива к выбросам, чем среднее.**"
   ]
  },
  {
   "cell_type": "markdown",
   "id": "7cbf0473",
   "metadata": {
    "id": "6db5255a"
   },
   "source": [
    "## Общий вывод"
   ]
  },
  {
   "cell_type": "markdown",
   "id": "d081c3b4",
   "metadata": {
    "id": "bad65432"
   },
   "source": [
    "**Мы обработали полученные от банка данные - удалили пропуски, обработали аномальные значения, дубликаты.**\n",
    "\n",
    "Для выделения зависимостей мы дополнительно категоризировали данные о доходах и целях кредитования.\n",
    "\n",
    "**Мы обнаружили, что все категории имеют зависимость с выплатой кредита в срок в той или иной мере:**\n",
    "1. Клиенты без детей самые надежные с точки зрения выплаты кредитов в срок.\n",
    "2. Следует с осторожностью относиться к клиентам, которые не состоят или не состояли в зарегистрированном браке, - они чаще допускают просрочки по кредитам.\n",
    "3. Клиенты с категорией дохода «E» (до 30 000) имеют больше всего просрочек.\n",
    "4. Меньше всего просрочек допускается по кредитам на операции с недвижимостью, а самые рискованые кредиты на цели, связанные с автомобилями.\n",
    "\n",
    "**Самыми ненадежными клиентами являются люди не бывавшие в браке, с доходом категори E, 1 ребенком, которые берут кредит на операции с автомобилем.**\n",
    "\n",
    "------\n",
    "\n",
    "\n",
    "**«Идеальный клиент» банка для получения кредита - это вдовец/вдова без детей, доходом выше категории «E», который берет кредит на операции с недвижимостью.**\n",
    "\n",
    "------\n",
    "\n",
    "Рекомендации по улучшению качества данных:\n",
    "- указать информацию о доходе и трудовом стаже всех клиентов;"
   ]
  }
 ],
 "metadata": {
  "ExecuteTimeLog": [
   {
    "duration": 626,
    "start_time": "2022-10-09T07:24:41.461Z"
   },
   {
    "duration": 22,
    "start_time": "2022-10-09T07:24:42.089Z"
   },
   {
    "duration": 14,
    "start_time": "2022-10-09T07:24:42.112Z"
   },
   {
    "duration": 11,
    "start_time": "2022-10-09T07:24:42.128Z"
   },
   {
    "duration": 70,
    "start_time": "2022-10-09T07:24:42.141Z"
   },
   {
    "duration": 3,
    "start_time": "2022-10-09T07:24:42.214Z"
   },
   {
    "duration": 15,
    "start_time": "2022-10-09T07:24:42.219Z"
   },
   {
    "duration": 5,
    "start_time": "2022-10-09T07:24:42.236Z"
   },
   {
    "duration": 24,
    "start_time": "2022-10-09T07:24:42.243Z"
   },
   {
    "duration": 6,
    "start_time": "2022-10-09T07:24:42.269Z"
   },
   {
    "duration": 40,
    "start_time": "2022-10-09T07:24:42.285Z"
   },
   {
    "duration": 9,
    "start_time": "2022-10-09T07:24:42.351Z"
   },
   {
    "duration": 4,
    "start_time": "2022-10-09T07:24:42.448Z"
   },
   {
    "duration": 11,
    "start_time": "2022-10-09T07:24:42.545Z"
   },
   {
    "duration": 20,
    "start_time": "2022-10-09T07:24:43.737Z"
   },
   {
    "duration": 17,
    "start_time": "2022-10-09T07:24:44.054Z"
   },
   {
    "duration": 3,
    "start_time": "2022-10-09T07:24:44.754Z"
   },
   {
    "duration": 10,
    "start_time": "2022-10-09T07:24:45.038Z"
   },
   {
    "duration": 6,
    "start_time": "2022-10-09T07:24:46.207Z"
   },
   {
    "duration": 5,
    "start_time": "2022-10-09T07:24:46.754Z"
   },
   {
    "duration": 13,
    "start_time": "2022-10-09T07:24:47.455Z"
   },
   {
    "duration": 13,
    "start_time": "2022-10-09T07:29:53.792Z"
   },
   {
    "duration": 5,
    "start_time": "2022-10-09T07:31:21.900Z"
   },
   {
    "duration": 24,
    "start_time": "2022-10-09T07:35:00.531Z"
   },
   {
    "duration": 13,
    "start_time": "2022-10-09T07:35:20.921Z"
   },
   {
    "duration": 12,
    "start_time": "2022-10-09T07:36:16.264Z"
   },
   {
    "duration": 14,
    "start_time": "2022-10-09T07:36:22.507Z"
   },
   {
    "duration": 23,
    "start_time": "2022-10-09T07:36:27.105Z"
   },
   {
    "duration": 14,
    "start_time": "2022-10-09T07:36:45.890Z"
   },
   {
    "duration": 15,
    "start_time": "2022-10-09T07:39:59.408Z"
   },
   {
    "duration": 74,
    "start_time": "2022-10-09T07:40:33.200Z"
   },
   {
    "duration": 23,
    "start_time": "2022-10-09T07:40:45.272Z"
   },
   {
    "duration": 22,
    "start_time": "2022-10-09T07:40:51.538Z"
   },
   {
    "duration": 17,
    "start_time": "2022-10-09T07:40:55.159Z"
   },
   {
    "duration": 23,
    "start_time": "2022-10-09T07:40:58.712Z"
   },
   {
    "duration": 22,
    "start_time": "2022-10-09T07:41:04.261Z"
   },
   {
    "duration": 70,
    "start_time": "2022-10-09T07:41:54.571Z"
   },
   {
    "duration": 22,
    "start_time": "2022-10-09T07:42:24.386Z"
   },
   {
    "duration": 26,
    "start_time": "2022-10-09T07:42:37.449Z"
   },
   {
    "duration": 21,
    "start_time": "2022-10-09T07:42:56.004Z"
   },
   {
    "duration": 22,
    "start_time": "2022-10-09T07:45:37.482Z"
   },
   {
    "duration": 17,
    "start_time": "2022-10-09T07:46:08.995Z"
   },
   {
    "duration": 20,
    "start_time": "2022-10-09T07:46:17.404Z"
   },
   {
    "duration": 19,
    "start_time": "2022-10-09T07:46:43.052Z"
   },
   {
    "duration": 21,
    "start_time": "2022-10-09T07:48:04.904Z"
   },
   {
    "duration": 22,
    "start_time": "2022-10-09T07:48:09.728Z"
   },
   {
    "duration": 17,
    "start_time": "2022-10-09T07:48:15.082Z"
   },
   {
    "duration": 22,
    "start_time": "2022-10-09T07:49:16.510Z"
   },
   {
    "duration": 21,
    "start_time": "2022-10-09T07:49:26.325Z"
   },
   {
    "duration": 19,
    "start_time": "2022-10-09T07:49:29.623Z"
   },
   {
    "duration": 23,
    "start_time": "2022-10-09T07:49:37.049Z"
   },
   {
    "duration": 21,
    "start_time": "2022-10-09T07:49:49.061Z"
   },
   {
    "duration": 20,
    "start_time": "2022-10-09T07:49:53.857Z"
   },
   {
    "duration": 22,
    "start_time": "2022-10-09T07:49:57.751Z"
   },
   {
    "duration": 23,
    "start_time": "2022-10-09T07:49:59.987Z"
   },
   {
    "duration": 22,
    "start_time": "2022-10-09T07:50:01.860Z"
   },
   {
    "duration": 18,
    "start_time": "2022-10-09T07:50:11.767Z"
   },
   {
    "duration": 21,
    "start_time": "2022-10-09T07:50:35.058Z"
   },
   {
    "duration": 17,
    "start_time": "2022-10-09T07:50:38.475Z"
   },
   {
    "duration": 17,
    "start_time": "2022-10-09T07:53:19.782Z"
   },
   {
    "duration": 23,
    "start_time": "2022-10-09T07:53:26.216Z"
   },
   {
    "duration": 23,
    "start_time": "2022-10-09T07:53:33.361Z"
   },
   {
    "duration": 24,
    "start_time": "2022-10-09T07:53:36.042Z"
   },
   {
    "duration": 23,
    "start_time": "2022-10-09T07:54:31.691Z"
   },
   {
    "duration": 22,
    "start_time": "2022-10-09T07:54:51.622Z"
   },
   {
    "duration": 20,
    "start_time": "2022-10-09T07:54:58.224Z"
   },
   {
    "duration": 26,
    "start_time": "2022-10-09T07:55:00.801Z"
   },
   {
    "duration": 22,
    "start_time": "2022-10-09T07:55:28.930Z"
   },
   {
    "duration": 22,
    "start_time": "2022-10-09T07:55:32.165Z"
   },
   {
    "duration": 21,
    "start_time": "2022-10-09T07:55:35.093Z"
   },
   {
    "duration": 24,
    "start_time": "2022-10-09T07:56:56.109Z"
   },
   {
    "duration": 20,
    "start_time": "2022-10-09T07:57:05.109Z"
   },
   {
    "duration": 23,
    "start_time": "2022-10-09T07:57:20.140Z"
   },
   {
    "duration": 1234,
    "start_time": "2022-10-09T07:57:35.368Z"
   },
   {
    "duration": 1243,
    "start_time": "2022-10-09T07:57:41.809Z"
   },
   {
    "duration": 24,
    "start_time": "2022-10-09T07:57:46.048Z"
   },
   {
    "duration": 18,
    "start_time": "2022-10-09T07:57:49.075Z"
   },
   {
    "duration": 19,
    "start_time": "2022-10-09T07:58:25.448Z"
   },
   {
    "duration": 26,
    "start_time": "2022-10-09T07:58:29.928Z"
   },
   {
    "duration": 28,
    "start_time": "2022-10-09T07:58:34.109Z"
   },
   {
    "duration": 1825,
    "start_time": "2022-10-09T07:58:42.963Z"
   },
   {
    "duration": 27,
    "start_time": "2022-10-09T07:58:46.924Z"
   },
   {
    "duration": 17,
    "start_time": "2022-10-09T08:01:22.718Z"
   },
   {
    "duration": 24,
    "start_time": "2022-10-09T08:01:41.774Z"
   },
   {
    "duration": 444,
    "start_time": "2022-10-09T08:03:27.741Z"
   },
   {
    "duration": 23,
    "start_time": "2022-10-09T08:03:31.379Z"
   },
   {
    "duration": 23,
    "start_time": "2022-10-09T08:03:44.312Z"
   },
   {
    "duration": 28,
    "start_time": "2022-10-09T08:03:56.327Z"
   },
   {
    "duration": 26,
    "start_time": "2022-10-09T08:04:14.253Z"
   },
   {
    "duration": 21,
    "start_time": "2022-10-09T08:04:20.507Z"
   },
   {
    "duration": 25,
    "start_time": "2022-10-09T08:04:25.786Z"
   },
   {
    "duration": 42,
    "start_time": "2022-10-09T08:04:44.559Z"
   },
   {
    "duration": 26,
    "start_time": "2022-10-09T08:04:52.814Z"
   },
   {
    "duration": 18,
    "start_time": "2022-10-09T08:05:05.082Z"
   },
   {
    "duration": 24,
    "start_time": "2022-10-09T08:05:07.571Z"
   },
   {
    "duration": 34,
    "start_time": "2022-10-09T08:05:19.154Z"
   },
   {
    "duration": 25,
    "start_time": "2022-10-09T08:05:59.262Z"
   },
   {
    "duration": 23,
    "start_time": "2022-10-09T08:06:57.688Z"
   },
   {
    "duration": 22,
    "start_time": "2022-10-09T08:07:31.466Z"
   },
   {
    "duration": 21,
    "start_time": "2022-10-09T08:07:48.479Z"
   },
   {
    "duration": 21,
    "start_time": "2022-10-09T08:08:10.182Z"
   },
   {
    "duration": 21,
    "start_time": "2022-10-09T08:08:23.870Z"
   },
   {
    "duration": 22,
    "start_time": "2022-10-09T08:08:58.750Z"
   },
   {
    "duration": 22,
    "start_time": "2022-10-09T08:09:03.742Z"
   },
   {
    "duration": 20,
    "start_time": "2022-10-09T08:09:06.558Z"
   },
   {
    "duration": 22,
    "start_time": "2022-10-09T08:09:16.993Z"
   },
   {
    "duration": 23,
    "start_time": "2022-10-09T08:09:27.453Z"
   },
   {
    "duration": 22,
    "start_time": "2022-10-09T08:09:45.310Z"
   },
   {
    "duration": 22,
    "start_time": "2022-10-09T08:09:48.726Z"
   },
   {
    "duration": 23,
    "start_time": "2022-10-09T08:11:17.085Z"
   },
   {
    "duration": 8,
    "start_time": "2022-10-09T08:11:35.773Z"
   },
   {
    "duration": 9,
    "start_time": "2022-10-09T08:11:45.499Z"
   },
   {
    "duration": 8,
    "start_time": "2022-10-09T08:11:50.926Z"
   },
   {
    "duration": 22,
    "start_time": "2022-10-09T08:12:02.099Z"
   },
   {
    "duration": 19,
    "start_time": "2022-10-09T08:12:17.476Z"
   },
   {
    "duration": 26,
    "start_time": "2022-10-09T08:13:06.718Z"
   },
   {
    "duration": 26,
    "start_time": "2022-10-09T08:14:08.076Z"
   },
   {
    "duration": 21,
    "start_time": "2022-10-09T08:14:19.581Z"
   },
   {
    "duration": 23,
    "start_time": "2022-10-09T08:14:52.201Z"
   },
   {
    "duration": 13,
    "start_time": "2022-10-09T08:19:43.547Z"
   },
   {
    "duration": 13,
    "start_time": "2022-10-09T08:19:49.120Z"
   },
   {
    "duration": 4,
    "start_time": "2022-10-09T08:20:07.305Z"
   },
   {
    "duration": 22,
    "start_time": "2022-10-09T08:20:28.603Z"
   },
   {
    "duration": 24,
    "start_time": "2022-10-09T08:20:41.988Z"
   },
   {
    "duration": 18,
    "start_time": "2022-10-09T08:21:04.216Z"
   },
   {
    "duration": 18,
    "start_time": "2022-10-09T08:21:14.748Z"
   },
   {
    "duration": 9,
    "start_time": "2022-10-09T08:21:28.585Z"
   },
   {
    "duration": 21,
    "start_time": "2022-10-09T08:21:35.273Z"
   },
   {
    "duration": 22,
    "start_time": "2022-10-09T08:23:59.470Z"
   },
   {
    "duration": 22,
    "start_time": "2022-10-09T08:24:07.730Z"
   },
   {
    "duration": 2492,
    "start_time": "2022-10-09T08:30:02.077Z"
   },
   {
    "duration": 4,
    "start_time": "2022-10-09T08:30:44.532Z"
   },
   {
    "duration": 8,
    "start_time": "2022-10-09T08:30:55.294Z"
   },
   {
    "duration": 94,
    "start_time": "2022-10-09T08:31:03.074Z"
   },
   {
    "duration": 1454,
    "start_time": "2022-10-09T08:31:12.075Z"
   },
   {
    "duration": 7,
    "start_time": "2022-10-09T08:32:10.529Z"
   },
   {
    "duration": 98,
    "start_time": "2022-10-09T08:32:47.996Z"
   },
   {
    "duration": 14,
    "start_time": "2022-10-09T08:32:53.135Z"
   },
   {
    "duration": 22,
    "start_time": "2022-10-09T08:32:57.069Z"
   },
   {
    "duration": 19,
    "start_time": "2022-10-09T08:33:41.323Z"
   },
   {
    "duration": 6,
    "start_time": "2022-10-09T08:33:48.000Z"
   },
   {
    "duration": 10,
    "start_time": "2022-10-09T08:34:00.085Z"
   },
   {
    "duration": 8,
    "start_time": "2022-10-09T08:34:06.725Z"
   },
   {
    "duration": 8,
    "start_time": "2022-10-09T08:34:14.861Z"
   },
   {
    "duration": 9,
    "start_time": "2022-10-09T08:36:01.637Z"
   },
   {
    "duration": 200,
    "start_time": "2022-10-09T08:36:25.730Z"
   },
   {
    "duration": 11,
    "start_time": "2022-10-09T08:36:28.611Z"
   },
   {
    "duration": 8,
    "start_time": "2022-10-09T08:36:30.095Z"
   },
   {
    "duration": 8,
    "start_time": "2022-10-09T08:36:33.256Z"
   },
   {
    "duration": 9,
    "start_time": "2022-10-09T08:38:33.118Z"
   },
   {
    "duration": 11,
    "start_time": "2022-10-09T08:38:38.213Z"
   },
   {
    "duration": 13,
    "start_time": "2022-10-09T08:38:40.625Z"
   },
   {
    "duration": 8,
    "start_time": "2022-10-09T08:38:56.841Z"
   },
   {
    "duration": 8,
    "start_time": "2022-10-09T08:39:29.849Z"
   },
   {
    "duration": 8,
    "start_time": "2022-10-09T08:39:34.119Z"
   },
   {
    "duration": 27,
    "start_time": "2022-10-09T08:41:14.660Z"
   },
   {
    "duration": 34,
    "start_time": "2022-10-09T08:41:28.840Z"
   },
   {
    "duration": 67,
    "start_time": "2022-10-09T08:42:52.924Z"
   },
   {
    "duration": 38,
    "start_time": "2022-10-09T08:46:58.602Z"
   },
   {
    "duration": 40,
    "start_time": "2022-10-09T08:47:08.866Z"
   },
   {
    "duration": 29,
    "start_time": "2022-10-09T08:47:13.468Z"
   },
   {
    "duration": 21,
    "start_time": "2022-10-09T08:47:23.273Z"
   },
   {
    "duration": 1304,
    "start_time": "2022-10-09T08:48:56.656Z"
   },
   {
    "duration": 20,
    "start_time": "2022-10-09T08:49:09.854Z"
   },
   {
    "duration": 19,
    "start_time": "2022-10-09T08:49:25.113Z"
   },
   {
    "duration": 19,
    "start_time": "2022-10-09T08:49:48.332Z"
   },
   {
    "duration": 21,
    "start_time": "2022-10-09T08:49:56.748Z"
   },
   {
    "duration": 20,
    "start_time": "2022-10-09T08:50:06.385Z"
   },
   {
    "duration": 1093,
    "start_time": "2022-10-09T08:51:47.455Z"
   },
   {
    "duration": 1131,
    "start_time": "2022-10-09T08:51:50.969Z"
   },
   {
    "duration": 5,
    "start_time": "2022-10-09T08:51:56.250Z"
   },
   {
    "duration": 3,
    "start_time": "2022-10-09T08:52:13.683Z"
   },
   {
    "duration": 7,
    "start_time": "2022-10-09T08:52:17.243Z"
   },
   {
    "duration": 4,
    "start_time": "2022-10-09T08:52:53.868Z"
   },
   {
    "duration": 10,
    "start_time": "2022-10-09T08:53:04.243Z"
   },
   {
    "duration": 1130,
    "start_time": "2022-10-09T08:53:18.550Z"
   },
   {
    "duration": 21,
    "start_time": "2022-10-09T08:53:26.865Z"
   },
   {
    "duration": 21,
    "start_time": "2022-10-09T08:53:43.196Z"
   },
   {
    "duration": 22,
    "start_time": "2022-10-09T08:54:07.645Z"
   },
   {
    "duration": 21,
    "start_time": "2022-10-09T08:54:13.381Z"
   },
   {
    "duration": 6,
    "start_time": "2022-10-09T08:57:42.662Z"
   },
   {
    "duration": 6,
    "start_time": "2022-10-09T08:57:49.479Z"
   },
   {
    "duration": 7,
    "start_time": "2022-10-09T08:57:54.225Z"
   },
   {
    "duration": 6,
    "start_time": "2022-10-09T08:58:04.478Z"
   },
   {
    "duration": 5,
    "start_time": "2022-10-09T08:58:21.465Z"
   },
   {
    "duration": 9,
    "start_time": "2022-10-09T08:58:29.064Z"
   },
   {
    "duration": 6,
    "start_time": "2022-10-09T08:58:38.351Z"
   },
   {
    "duration": 6,
    "start_time": "2022-10-09T08:58:40.283Z"
   },
   {
    "duration": 8,
    "start_time": "2022-10-09T08:58:44.231Z"
   },
   {
    "duration": 7,
    "start_time": "2022-10-09T08:58:58.417Z"
   },
   {
    "duration": 7,
    "start_time": "2022-10-09T08:59:04.404Z"
   },
   {
    "duration": 9,
    "start_time": "2022-10-09T09:02:33.975Z"
   },
   {
    "duration": 7,
    "start_time": "2022-10-09T09:06:23.361Z"
   },
   {
    "duration": 3,
    "start_time": "2022-10-09T09:06:32.840Z"
   },
   {
    "duration": 4,
    "start_time": "2022-10-09T09:06:38.336Z"
   },
   {
    "duration": 1280,
    "start_time": "2022-10-09T09:17:27.005Z"
   },
   {
    "duration": 6,
    "start_time": "2022-10-09T09:17:30.388Z"
   },
   {
    "duration": 5,
    "start_time": "2022-10-09T09:17:49.011Z"
   },
   {
    "duration": 7,
    "start_time": "2022-10-09T09:18:05.944Z"
   },
   {
    "duration": 13,
    "start_time": "2022-10-09T09:18:34.404Z"
   },
   {
    "duration": 6,
    "start_time": "2022-10-09T09:18:40.987Z"
   },
   {
    "duration": 22,
    "start_time": "2022-10-09T09:19:38.983Z"
   },
   {
    "duration": 21,
    "start_time": "2022-10-09T09:20:04.853Z"
   },
   {
    "duration": 21,
    "start_time": "2022-10-09T09:22:58.976Z"
   },
   {
    "duration": 21,
    "start_time": "2022-10-09T09:24:14.271Z"
   },
   {
    "duration": 74,
    "start_time": "2022-10-09T09:27:25.950Z"
   },
   {
    "duration": 102,
    "start_time": "2022-10-09T09:27:36.675Z"
   },
   {
    "duration": 10,
    "start_time": "2022-10-09T09:27:47.415Z"
   },
   {
    "duration": 4,
    "start_time": "2022-10-09T09:28:28.211Z"
   },
   {
    "duration": 8,
    "start_time": "2022-10-09T09:28:31.384Z"
   },
   {
    "duration": 7,
    "start_time": "2022-10-09T09:28:36.412Z"
   },
   {
    "duration": 69,
    "start_time": "2022-10-09T09:28:52.340Z"
   },
   {
    "duration": 127,
    "start_time": "2022-10-09T09:28:57.078Z"
   },
   {
    "duration": 100,
    "start_time": "2022-10-09T09:29:17.234Z"
   },
   {
    "duration": 70,
    "start_time": "2022-10-09T09:30:17.915Z"
   },
   {
    "duration": 39,
    "start_time": "2022-10-09T09:30:28.296Z"
   },
   {
    "duration": 43,
    "start_time": "2022-10-09T09:30:34.542Z"
   },
   {
    "duration": 695,
    "start_time": "2022-10-09T09:30:38.483Z"
   },
   {
    "duration": 65,
    "start_time": "2022-10-09T09:31:05.095Z"
   },
   {
    "duration": 55,
    "start_time": "2022-10-09T09:31:29.576Z"
   },
   {
    "duration": 68,
    "start_time": "2022-10-09T09:32:00.861Z"
   },
   {
    "duration": 15,
    "start_time": "2022-10-09T09:32:03.813Z"
   },
   {
    "duration": 14,
    "start_time": "2022-10-09T09:32:03.868Z"
   },
   {
    "duration": 9,
    "start_time": "2022-10-09T09:32:04.009Z"
   },
   {
    "duration": 31,
    "start_time": "2022-10-09T09:32:04.068Z"
   },
   {
    "duration": 3,
    "start_time": "2022-10-09T09:32:04.169Z"
   },
   {
    "duration": 8,
    "start_time": "2022-10-09T09:32:04.231Z"
   },
   {
    "duration": 5,
    "start_time": "2022-10-09T09:32:05.264Z"
   },
   {
    "duration": 6,
    "start_time": "2022-10-09T09:32:05.334Z"
   },
   {
    "duration": 4,
    "start_time": "2022-10-09T09:32:05.402Z"
   },
   {
    "duration": 31,
    "start_time": "2022-10-09T09:32:05.499Z"
   },
   {
    "duration": 8,
    "start_time": "2022-10-09T09:32:05.558Z"
   },
   {
    "duration": 4,
    "start_time": "2022-10-09T09:32:05.666Z"
   },
   {
    "duration": 10,
    "start_time": "2022-10-09T09:32:05.759Z"
   },
   {
    "duration": 19,
    "start_time": "2022-10-09T09:32:06.473Z"
   },
   {
    "duration": 21,
    "start_time": "2022-10-09T09:32:06.671Z"
   },
   {
    "duration": 4,
    "start_time": "2022-10-09T09:32:07.239Z"
   },
   {
    "duration": 9,
    "start_time": "2022-10-09T09:32:07.271Z"
   },
   {
    "duration": 6,
    "start_time": "2022-10-09T09:32:07.336Z"
   },
   {
    "duration": 4,
    "start_time": "2022-10-09T09:32:07.400Z"
   },
   {
    "duration": 8,
    "start_time": "2022-10-09T09:32:07.432Z"
   },
   {
    "duration": 12,
    "start_time": "2022-10-09T09:32:09.946Z"
   },
   {
    "duration": 19,
    "start_time": "2022-10-09T09:32:10.465Z"
   },
   {
    "duration": 12,
    "start_time": "2022-10-09T09:32:13.408Z"
   },
   {
    "duration": 5,
    "start_time": "2022-10-09T09:32:13.651Z"
   },
   {
    "duration": 24,
    "start_time": "2022-10-09T09:32:14.587Z"
   },
   {
    "duration": 22,
    "start_time": "2022-10-09T09:33:01.174Z"
   },
   {
    "duration": 21,
    "start_time": "2022-10-09T09:37:34.862Z"
   },
   {
    "duration": 8,
    "start_time": "2022-10-09T09:41:24.775Z"
   },
   {
    "duration": 10,
    "start_time": "2022-10-09T09:42:48.850Z"
   },
   {
    "duration": 8,
    "start_time": "2022-10-09T09:43:04.930Z"
   },
   {
    "duration": 9,
    "start_time": "2022-10-09T09:43:13.126Z"
   },
   {
    "duration": 32,
    "start_time": "2022-10-09T09:43:23.704Z"
   },
   {
    "duration": 7,
    "start_time": "2022-10-09T09:43:34.234Z"
   },
   {
    "duration": 8,
    "start_time": "2022-10-09T09:43:35.011Z"
   },
   {
    "duration": 25,
    "start_time": "2022-10-09T09:43:36.241Z"
   },
   {
    "duration": 23,
    "start_time": "2022-10-09T09:44:23.708Z"
   },
   {
    "duration": 495,
    "start_time": "2022-10-09T09:45:32.178Z"
   },
   {
    "duration": 42,
    "start_time": "2022-10-09T09:45:47.564Z"
   },
   {
    "duration": 21,
    "start_time": "2022-10-09T09:46:54.869Z"
   },
   {
    "duration": 6,
    "start_time": "2022-10-09T09:47:36.832Z"
   },
   {
    "duration": 25,
    "start_time": "2022-10-09T09:47:50.242Z"
   },
   {
    "duration": 1124,
    "start_time": "2022-10-09T09:48:03.910Z"
   },
   {
    "duration": 7,
    "start_time": "2022-10-09T09:48:07.148Z"
   },
   {
    "duration": 199,
    "start_time": "2022-10-09T09:48:47.077Z"
   },
   {
    "duration": 165,
    "start_time": "2022-10-09T09:48:57.318Z"
   },
   {
    "duration": 8,
    "start_time": "2022-10-09T09:49:08.316Z"
   },
   {
    "duration": 8,
    "start_time": "2022-10-09T09:49:08.982Z"
   },
   {
    "duration": 24,
    "start_time": "2022-10-09T09:49:10.014Z"
   },
   {
    "duration": 6,
    "start_time": "2022-10-09T09:49:10.736Z"
   },
   {
    "duration": 117,
    "start_time": "2022-10-09T09:49:13.022Z"
   },
   {
    "duration": 18,
    "start_time": "2022-10-09T09:49:23.543Z"
   },
   {
    "duration": 8,
    "start_time": "2022-10-09T09:49:23.748Z"
   },
   {
    "duration": 7,
    "start_time": "2022-10-09T09:49:26.963Z"
   },
   {
    "duration": 8,
    "start_time": "2022-10-09T09:49:27.562Z"
   },
   {
    "duration": 25,
    "start_time": "2022-10-09T09:49:28.504Z"
   },
   {
    "duration": 7,
    "start_time": "2022-10-09T09:49:29.042Z"
   },
   {
    "duration": 173,
    "start_time": "2022-10-09T09:49:29.839Z"
   },
   {
    "duration": 29,
    "start_time": "2022-10-09T09:56:11.744Z"
   },
   {
    "duration": 29,
    "start_time": "2022-10-09T09:56:13.285Z"
   },
   {
    "duration": 23,
    "start_time": "2022-10-09T09:56:31.898Z"
   },
   {
    "duration": 7,
    "start_time": "2022-10-09T09:56:38.856Z"
   },
   {
    "duration": 157,
    "start_time": "2022-10-09T09:56:39.267Z"
   },
   {
    "duration": 250,
    "start_time": "2022-10-09T09:57:31.584Z"
   },
   {
    "duration": 25,
    "start_time": "2022-10-09T10:00:30.729Z"
   },
   {
    "duration": 8,
    "start_time": "2022-10-09T10:00:54.152Z"
   },
   {
    "duration": 181,
    "start_time": "2022-10-09T10:00:55.216Z"
   },
   {
    "duration": 160,
    "start_time": "2022-10-09T10:01:00.238Z"
   },
   {
    "duration": 3,
    "start_time": "2022-10-09T10:02:08.436Z"
   },
   {
    "duration": 3,
    "start_time": "2022-10-09T10:03:30.154Z"
   },
   {
    "duration": 8,
    "start_time": "2022-10-09T10:03:30.343Z"
   },
   {
    "duration": 145,
    "start_time": "2022-10-09T10:04:12.764Z"
   },
   {
    "duration": 22,
    "start_time": "2022-10-09T10:05:09.286Z"
   },
   {
    "duration": 19,
    "start_time": "2022-10-09T10:05:15.382Z"
   },
   {
    "duration": 20,
    "start_time": "2022-10-09T10:05:58.420Z"
   },
   {
    "duration": 19,
    "start_time": "2022-10-09T10:07:47.761Z"
   },
   {
    "duration": 8,
    "start_time": "2022-10-09T10:09:24.238Z"
   },
   {
    "duration": 28,
    "start_time": "2022-10-09T10:09:49.843Z"
   },
   {
    "duration": 183,
    "start_time": "2022-10-09T10:10:03.476Z"
   },
   {
    "duration": 28,
    "start_time": "2022-10-09T10:10:17.606Z"
   },
   {
    "duration": 223,
    "start_time": "2022-10-09T10:10:20.758Z"
   },
   {
    "duration": 31,
    "start_time": "2022-10-09T10:10:29.585Z"
   },
   {
    "duration": 190,
    "start_time": "2022-10-09T10:10:29.792Z"
   },
   {
    "duration": 30,
    "start_time": "2022-10-09T10:10:41.239Z"
   },
   {
    "duration": 246,
    "start_time": "2022-10-09T10:10:41.820Z"
   },
   {
    "duration": 29,
    "start_time": "2022-10-09T10:11:33.290Z"
   },
   {
    "duration": 31,
    "start_time": "2022-10-09T10:11:36.850Z"
   },
   {
    "duration": 28,
    "start_time": "2022-10-09T10:11:41.490Z"
   },
   {
    "duration": 26,
    "start_time": "2022-10-09T10:11:46.286Z"
   },
   {
    "duration": 26,
    "start_time": "2022-10-09T10:11:51.440Z"
   },
   {
    "duration": 150,
    "start_time": "2022-10-09T10:11:54.797Z"
   },
   {
    "duration": 146,
    "start_time": "2022-10-09T10:13:49.599Z"
   },
   {
    "duration": 29,
    "start_time": "2022-10-09T10:17:09.331Z"
   },
   {
    "duration": 169,
    "start_time": "2022-10-09T10:17:09.654Z"
   },
   {
    "duration": 24,
    "start_time": "2022-10-09T10:18:16.097Z"
   },
   {
    "duration": 161,
    "start_time": "2022-10-09T10:18:17.036Z"
   },
   {
    "duration": 259,
    "start_time": "2022-10-09T10:18:22.561Z"
   },
   {
    "duration": 16,
    "start_time": "2022-10-09T10:18:47.390Z"
   },
   {
    "duration": 14,
    "start_time": "2022-10-09T10:18:47.941Z"
   },
   {
    "duration": 23,
    "start_time": "2022-10-09T10:19:00.150Z"
   },
   {
    "duration": 1180,
    "start_time": "2022-10-09T10:19:12.741Z"
   },
   {
    "duration": 1138,
    "start_time": "2022-10-09T10:19:15.201Z"
   },
   {
    "duration": 23,
    "start_time": "2022-10-09T10:19:21.194Z"
   },
   {
    "duration": 20,
    "start_time": "2022-10-09T10:19:27.103Z"
   },
   {
    "duration": 20,
    "start_time": "2022-10-09T10:19:34.719Z"
   },
   {
    "duration": 160,
    "start_time": "2022-10-09T10:19:38.553Z"
   },
   {
    "duration": 16,
    "start_time": "2022-10-09T10:19:44.168Z"
   },
   {
    "duration": 172,
    "start_time": "2022-10-09T10:19:44.825Z"
   },
   {
    "duration": 19,
    "start_time": "2022-10-09T10:20:51.839Z"
   },
   {
    "duration": 164,
    "start_time": "2022-10-09T10:20:52.193Z"
   },
   {
    "duration": 17,
    "start_time": "2022-10-09T10:21:45.993Z"
   },
   {
    "duration": 150,
    "start_time": "2022-10-09T10:21:46.272Z"
   },
   {
    "duration": 17,
    "start_time": "2022-10-09T10:25:12.971Z"
   },
   {
    "duration": 120,
    "start_time": "2022-10-09T10:25:13.182Z"
   },
   {
    "duration": 16,
    "start_time": "2022-10-09T10:25:33.887Z"
   },
   {
    "duration": 173,
    "start_time": "2022-10-09T10:25:34.296Z"
   },
   {
    "duration": 17,
    "start_time": "2022-10-09T10:25:37.912Z"
   },
   {
    "duration": 149,
    "start_time": "2022-10-09T10:25:38.309Z"
   },
   {
    "duration": 16,
    "start_time": "2022-10-09T10:26:45.736Z"
   },
   {
    "duration": 15,
    "start_time": "2022-10-09T10:26:46.113Z"
   },
   {
    "duration": 149,
    "start_time": "2022-10-09T10:26:54.455Z"
   },
   {
    "duration": 22,
    "start_time": "2022-10-09T10:27:59.592Z"
   },
   {
    "duration": 186,
    "start_time": "2022-10-09T10:28:00.117Z"
   },
   {
    "duration": 24,
    "start_time": "2022-10-09T10:28:16.032Z"
   },
   {
    "duration": 18,
    "start_time": "2022-10-09T10:28:20.339Z"
   },
   {
    "duration": 160,
    "start_time": "2022-10-09T10:28:20.722Z"
   },
   {
    "duration": 20,
    "start_time": "2022-10-09T10:30:14.761Z"
   },
   {
    "duration": 21,
    "start_time": "2022-10-09T10:30:21.606Z"
   },
   {
    "duration": 23,
    "start_time": "2022-10-09T10:30:29.137Z"
   },
   {
    "duration": 22,
    "start_time": "2022-10-09T10:30:35.597Z"
   },
   {
    "duration": 25,
    "start_time": "2022-10-09T10:30:57.950Z"
   },
   {
    "duration": 1646,
    "start_time": "2022-10-09T10:32:13.118Z"
   },
   {
    "duration": 1723,
    "start_time": "2022-10-09T10:32:16.111Z"
   },
   {
    "duration": 5,
    "start_time": "2022-10-09T10:32:54.785Z"
   },
   {
    "duration": 6,
    "start_time": "2022-10-09T10:33:00.834Z"
   },
   {
    "duration": 26,
    "start_time": "2022-10-09T10:33:15.091Z"
   },
   {
    "duration": 5,
    "start_time": "2022-10-09T10:33:16.087Z"
   },
   {
    "duration": 5,
    "start_time": "2022-10-09T10:33:37.054Z"
   },
   {
    "duration": 24,
    "start_time": "2022-10-09T10:34:03.289Z"
   },
   {
    "duration": 7,
    "start_time": "2022-10-09T10:34:06.598Z"
   },
   {
    "duration": 5,
    "start_time": "2022-10-09T10:34:17.458Z"
   },
   {
    "duration": 3,
    "start_time": "2022-10-09T10:34:22.468Z"
   },
   {
    "duration": 3,
    "start_time": "2022-10-09T10:35:28.944Z"
   },
   {
    "duration": 12,
    "start_time": "2022-10-09T10:35:56.092Z"
   },
   {
    "duration": 18,
    "start_time": "2022-10-09T10:36:07.736Z"
   },
   {
    "duration": 12,
    "start_time": "2022-10-09T10:36:11.307Z"
   },
   {
    "duration": 5,
    "start_time": "2022-10-09T10:36:24.572Z"
   },
   {
    "duration": 10,
    "start_time": "2022-10-09T10:36:33.420Z"
   },
   {
    "duration": 9,
    "start_time": "2022-10-09T10:36:43.840Z"
   },
   {
    "duration": 7,
    "start_time": "2022-10-09T10:36:59.698Z"
   },
   {
    "duration": 5,
    "start_time": "2022-10-09T10:37:03.666Z"
   },
   {
    "duration": 8,
    "start_time": "2022-10-09T10:37:45.792Z"
   },
   {
    "duration": 7,
    "start_time": "2022-10-09T10:37:54.325Z"
   },
   {
    "duration": 5,
    "start_time": "2022-10-09T10:38:18.673Z"
   },
   {
    "duration": 9,
    "start_time": "2022-10-09T10:38:25.752Z"
   },
   {
    "duration": 5,
    "start_time": "2022-10-09T10:38:28.099Z"
   },
   {
    "duration": 9,
    "start_time": "2022-10-09T10:38:34.936Z"
   },
   {
    "duration": 4,
    "start_time": "2022-10-09T10:38:39.450Z"
   },
   {
    "duration": 5,
    "start_time": "2022-10-09T10:38:52.873Z"
   },
   {
    "duration": 4,
    "start_time": "2022-10-09T10:40:05.432Z"
   },
   {
    "duration": 8,
    "start_time": "2022-10-09T10:41:27.389Z"
   },
   {
    "duration": 8,
    "start_time": "2022-10-09T10:41:51.939Z"
   },
   {
    "duration": 7,
    "start_time": "2022-10-09T10:42:07.770Z"
   },
   {
    "duration": 9,
    "start_time": "2022-10-09T10:42:21.899Z"
   },
   {
    "duration": 27,
    "start_time": "2022-10-09T10:42:22.730Z"
   },
   {
    "duration": 9,
    "start_time": "2022-10-09T10:44:25.799Z"
   },
   {
    "duration": 22,
    "start_time": "2022-10-09T10:45:09.214Z"
   },
   {
    "duration": 23,
    "start_time": "2022-10-09T10:45:16.497Z"
   },
   {
    "duration": 73,
    "start_time": "2022-10-09T11:35:18.366Z"
   },
   {
    "duration": 84,
    "start_time": "2022-10-09T11:35:40.065Z"
   },
   {
    "duration": 69,
    "start_time": "2022-10-09T11:35:47.189Z"
   },
   {
    "duration": 87,
    "start_time": "2022-10-09T11:35:52.214Z"
   },
   {
    "duration": 73,
    "start_time": "2022-10-09T11:36:18.245Z"
   },
   {
    "duration": 20,
    "start_time": "2022-10-09T11:36:47.151Z"
   },
   {
    "duration": 12,
    "start_time": "2022-10-09T11:36:58.607Z"
   },
   {
    "duration": 6,
    "start_time": "2022-10-09T11:37:12.472Z"
   },
   {
    "duration": 5,
    "start_time": "2022-10-09T11:37:27.960Z"
   },
   {
    "duration": 13,
    "start_time": "2022-10-09T11:37:34.039Z"
   },
   {
    "duration": 11,
    "start_time": "2022-10-09T11:38:06.305Z"
   },
   {
    "duration": 13,
    "start_time": "2022-10-09T11:39:16.907Z"
   },
   {
    "duration": 11,
    "start_time": "2022-10-09T11:57:36.044Z"
   },
   {
    "duration": 8,
    "start_time": "2022-10-09T11:57:41.623Z"
   },
   {
    "duration": 10,
    "start_time": "2022-10-09T11:57:57.179Z"
   },
   {
    "duration": 41,
    "start_time": "2022-10-09T11:58:16.072Z"
   },
   {
    "duration": 13,
    "start_time": "2022-10-09T11:58:24.532Z"
   },
   {
    "duration": 4,
    "start_time": "2022-10-09T11:58:34.773Z"
   },
   {
    "duration": 7,
    "start_time": "2022-10-09T11:58:50.293Z"
   },
   {
    "duration": 7,
    "start_time": "2022-10-09T11:59:35.735Z"
   },
   {
    "duration": 9,
    "start_time": "2022-10-09T11:59:47.008Z"
   },
   {
    "duration": 9,
    "start_time": "2022-10-09T12:00:05.192Z"
   },
   {
    "duration": 9,
    "start_time": "2022-10-09T12:00:08.803Z"
   },
   {
    "duration": 7,
    "start_time": "2022-10-09T12:00:13.560Z"
   },
   {
    "duration": 13,
    "start_time": "2022-10-09T16:50:51.674Z"
   },
   {
    "duration": 3,
    "start_time": "2022-10-09T16:51:03.105Z"
   },
   {
    "duration": 40,
    "start_time": "2022-10-09T20:35:05.573Z"
   },
   {
    "duration": 686,
    "start_time": "2022-10-09T20:35:10.948Z"
   },
   {
    "duration": 17,
    "start_time": "2022-10-09T20:35:11.636Z"
   },
   {
    "duration": 14,
    "start_time": "2022-10-09T20:35:12.319Z"
   },
   {
    "duration": 9,
    "start_time": "2022-10-09T20:35:12.562Z"
   },
   {
    "duration": 30,
    "start_time": "2022-10-09T20:35:13.102Z"
   },
   {
    "duration": 3,
    "start_time": "2022-10-09T20:35:13.786Z"
   },
   {
    "duration": 8,
    "start_time": "2022-10-09T20:35:13.850Z"
   },
   {
    "duration": 4,
    "start_time": "2022-10-09T20:35:14.073Z"
   },
   {
    "duration": 6,
    "start_time": "2022-10-09T20:35:14.602Z"
   },
   {
    "duration": 4,
    "start_time": "2022-10-09T20:35:14.737Z"
   },
   {
    "duration": 29,
    "start_time": "2022-10-09T20:35:15.299Z"
   },
   {
    "duration": 9,
    "start_time": "2022-10-09T20:35:15.382Z"
   },
   {
    "duration": 3,
    "start_time": "2022-10-09T20:35:15.967Z"
   },
   {
    "duration": 11,
    "start_time": "2022-10-09T20:35:16.064Z"
   },
   {
    "duration": 17,
    "start_time": "2022-10-09T20:35:16.131Z"
   },
   {
    "duration": 14,
    "start_time": "2022-10-09T20:35:16.164Z"
   },
   {
    "duration": 3,
    "start_time": "2022-10-09T20:35:16.255Z"
   },
   {
    "duration": 7,
    "start_time": "2022-10-09T20:35:16.284Z"
   },
   {
    "duration": 5,
    "start_time": "2022-10-09T20:35:16.354Z"
   },
   {
    "duration": 3,
    "start_time": "2022-10-09T20:35:16.417Z"
   },
   {
    "duration": 7,
    "start_time": "2022-10-09T20:35:16.450Z"
   },
   {
    "duration": 10,
    "start_time": "2022-10-09T20:35:16.547Z"
   },
   {
    "duration": 396,
    "start_time": "2022-10-09T20:35:16.620Z"
   },
   {
    "duration": 22,
    "start_time": "2022-10-09T20:35:18.535Z"
   },
   {
    "duration": 4,
    "start_time": "2022-10-09T20:35:40.699Z"
   },
   {
    "duration": 3,
    "start_time": "2022-10-09T20:35:44.580Z"
   },
   {
    "duration": 3,
    "start_time": "2022-10-09T20:35:48.290Z"
   },
   {
    "duration": 4,
    "start_time": "2022-10-09T20:35:57.166Z"
   },
   {
    "duration": 4,
    "start_time": "2022-10-09T20:36:01.635Z"
   },
   {
    "duration": 4,
    "start_time": "2022-10-09T20:36:06.531Z"
   },
   {
    "duration": 4,
    "start_time": "2022-10-09T20:36:27.900Z"
   },
   {
    "duration": 3,
    "start_time": "2022-10-09T20:36:40.393Z"
   },
   {
    "duration": 4,
    "start_time": "2022-10-09T20:36:57.454Z"
   },
   {
    "duration": 3,
    "start_time": "2022-10-09T20:36:57.897Z"
   },
   {
    "duration": 3,
    "start_time": "2022-10-09T20:36:58.687Z"
   },
   {
    "duration": 21,
    "start_time": "2022-10-09T20:41:47.902Z"
   },
   {
    "duration": 6,
    "start_time": "2022-10-09T20:42:23.711Z"
   },
   {
    "duration": 955,
    "start_time": "2022-10-09T20:42:49.245Z"
   },
   {
    "duration": 26,
    "start_time": "2022-10-09T20:43:07.285Z"
   },
   {
    "duration": 1342,
    "start_time": "2022-10-09T20:43:24.686Z"
   },
   {
    "duration": 783,
    "start_time": "2022-10-09T20:43:37.267Z"
   },
   {
    "duration": 728,
    "start_time": "2022-10-09T20:43:39.717Z"
   },
   {
    "duration": 1035,
    "start_time": "2022-10-09T20:43:41.540Z"
   },
   {
    "duration": 7,
    "start_time": "2022-10-09T20:44:04.812Z"
   },
   {
    "duration": 838,
    "start_time": "2022-10-09T20:44:07.523Z"
   },
   {
    "duration": 783,
    "start_time": "2022-10-09T20:44:21.189Z"
   },
   {
    "duration": 815,
    "start_time": "2022-10-09T20:44:24.066Z"
   },
   {
    "duration": 6,
    "start_time": "2022-10-09T20:46:15.925Z"
   },
   {
    "duration": 1116,
    "start_time": "2022-10-09T20:46:30.331Z"
   },
   {
    "duration": 4,
    "start_time": "2022-10-09T20:46:43.542Z"
   },
   {
    "duration": 26,
    "start_time": "2022-10-09T20:46:48.554Z"
   },
   {
    "duration": 4,
    "start_time": "2022-10-09T20:46:49.271Z"
   },
   {
    "duration": 7,
    "start_time": "2022-10-09T20:46:50.407Z"
   },
   {
    "duration": 7,
    "start_time": "2022-10-09T20:46:54.997Z"
   },
   {
    "duration": 45,
    "start_time": "2022-10-09T20:46:55.953Z"
   },
   {
    "duration": 762,
    "start_time": "2022-10-09T20:47:13.399Z"
   },
   {
    "duration": 7,
    "start_time": "2022-10-09T20:47:16.730Z"
   },
   {
    "duration": 4,
    "start_time": "2022-10-09T20:47:17.315Z"
   },
   {
    "duration": 5,
    "start_time": "2022-10-09T20:47:28.037Z"
   },
   {
    "duration": 117,
    "start_time": "2022-10-09T20:48:06.623Z"
   },
   {
    "duration": 1190,
    "start_time": "2022-10-09T20:48:09.343Z"
   },
   {
    "duration": 806,
    "start_time": "2022-10-09T20:48:17.601Z"
   },
   {
    "duration": 6,
    "start_time": "2022-10-09T20:48:29.367Z"
   },
   {
    "duration": 7,
    "start_time": "2022-10-09T20:48:35.880Z"
   },
   {
    "duration": 6,
    "start_time": "2022-10-09T20:48:58.635Z"
   },
   {
    "duration": 4,
    "start_time": "2022-10-09T20:56:21.236Z"
   },
   {
    "duration": 4,
    "start_time": "2022-10-09T20:56:32.439Z"
   },
   {
    "duration": 5,
    "start_time": "2022-10-09T20:56:39.234Z"
   },
   {
    "duration": 21,
    "start_time": "2022-10-09T21:03:26.978Z"
   },
   {
    "duration": 20,
    "start_time": "2022-10-09T21:04:10.336Z"
   },
   {
    "duration": 19,
    "start_time": "2022-10-09T21:06:33.677Z"
   },
   {
    "duration": 467,
    "start_time": "2022-10-09T21:19:50.508Z"
   },
   {
    "duration": 21,
    "start_time": "2022-10-09T21:19:50.976Z"
   },
   {
    "duration": 14,
    "start_time": "2022-10-09T21:19:51.341Z"
   },
   {
    "duration": 10,
    "start_time": "2022-10-09T21:19:52.439Z"
   },
   {
    "duration": 31,
    "start_time": "2022-10-09T21:19:52.866Z"
   },
   {
    "duration": 3,
    "start_time": "2022-10-09T21:19:53.532Z"
   },
   {
    "duration": 7,
    "start_time": "2022-10-09T21:19:54.045Z"
   },
   {
    "duration": 4,
    "start_time": "2022-10-09T21:19:54.700Z"
   },
   {
    "duration": 15,
    "start_time": "2022-10-09T21:19:55.116Z"
   },
   {
    "duration": 5,
    "start_time": "2022-10-09T21:19:55.524Z"
   },
   {
    "duration": 33,
    "start_time": "2022-10-09T21:19:56.140Z"
   },
   {
    "duration": 10,
    "start_time": "2022-10-09T21:19:56.549Z"
   },
   {
    "duration": 4,
    "start_time": "2022-10-09T21:19:57.131Z"
   },
   {
    "duration": 11,
    "start_time": "2022-10-09T21:19:57.739Z"
   },
   {
    "duration": 20,
    "start_time": "2022-10-09T21:19:58.127Z"
   },
   {
    "duration": 19,
    "start_time": "2022-10-09T21:19:58.316Z"
   },
   {
    "duration": 3,
    "start_time": "2022-10-09T21:19:58.877Z"
   },
   {
    "duration": 8,
    "start_time": "2022-10-09T21:19:59.053Z"
   },
   {
    "duration": 6,
    "start_time": "2022-10-09T21:19:59.434Z"
   },
   {
    "duration": 4,
    "start_time": "2022-10-09T21:19:59.838Z"
   },
   {
    "duration": 8,
    "start_time": "2022-10-09T21:20:00.049Z"
   },
   {
    "duration": 10,
    "start_time": "2022-10-09T21:20:03.055Z"
   },
   {
    "duration": 297,
    "start_time": "2022-10-09T21:20:03.775Z"
   },
   {
    "duration": 21,
    "start_time": "2022-10-09T21:20:05.293Z"
   },
   {
    "duration": 20,
    "start_time": "2022-10-09T21:20:07.755Z"
   },
   {
    "duration": 22,
    "start_time": "2022-10-09T21:20:26.625Z"
   },
   {
    "duration": 65,
    "start_time": "2022-10-09T21:20:27.972Z"
   },
   {
    "duration": 547,
    "start_time": "2022-10-09T21:20:43.452Z"
   },
   {
    "duration": 1174,
    "start_time": "2022-10-09T21:20:55.938Z"
   },
   {
    "duration": 17,
    "start_time": "2022-10-09T21:20:57.114Z"
   },
   {
    "duration": 14,
    "start_time": "2022-10-09T21:20:57.133Z"
   },
   {
    "duration": 11,
    "start_time": "2022-10-09T21:20:57.543Z"
   },
   {
    "duration": 32,
    "start_time": "2022-10-09T21:20:57.623Z"
   },
   {
    "duration": 3,
    "start_time": "2022-10-09T21:20:57.722Z"
   },
   {
    "duration": 8,
    "start_time": "2022-10-09T21:20:57.789Z"
   },
   {
    "duration": 4,
    "start_time": "2022-10-09T21:20:58.707Z"
   },
   {
    "duration": 7,
    "start_time": "2022-10-09T21:20:58.777Z"
   },
   {
    "duration": 5,
    "start_time": "2022-10-09T21:20:58.837Z"
   },
   {
    "duration": 32,
    "start_time": "2022-10-09T21:20:58.936Z"
   },
   {
    "duration": 10,
    "start_time": "2022-10-09T21:20:59.006Z"
   },
   {
    "duration": 3,
    "start_time": "2022-10-09T21:20:59.988Z"
   },
   {
    "duration": 11,
    "start_time": "2022-10-09T21:21:00.086Z"
   },
   {
    "duration": 18,
    "start_time": "2022-10-09T21:21:00.154Z"
   },
   {
    "duration": 16,
    "start_time": "2022-10-09T21:21:00.184Z"
   },
   {
    "duration": 3,
    "start_time": "2022-10-09T21:21:00.287Z"
   },
   {
    "duration": 9,
    "start_time": "2022-10-09T21:21:00.706Z"
   },
   {
    "duration": 6,
    "start_time": "2022-10-09T21:21:01.241Z"
   },
   {
    "duration": 3,
    "start_time": "2022-10-09T21:21:01.307Z"
   },
   {
    "duration": 8,
    "start_time": "2022-10-09T21:21:01.343Z"
   },
   {
    "duration": 11,
    "start_time": "2022-10-09T21:21:02.308Z"
   },
   {
    "duration": 53,
    "start_time": "2022-10-09T21:21:02.374Z"
   },
   {
    "duration": 20,
    "start_time": "2022-10-09T21:21:10.622Z"
   },
   {
    "duration": 19,
    "start_time": "2022-10-09T21:21:12.434Z"
   },
   {
    "duration": 22,
    "start_time": "2022-10-09T21:21:13.533Z"
   },
   {
    "duration": 181,
    "start_time": "2022-10-09T21:21:14.392Z"
   },
   {
    "duration": 8,
    "start_time": "2022-10-09T21:21:34.319Z"
   },
   {
    "duration": 23,
    "start_time": "2022-10-09T21:21:49.510Z"
   },
   {
    "duration": 124,
    "start_time": "2022-10-10T08:05:13.306Z"
   },
   {
    "duration": 1578,
    "start_time": "2022-10-10T08:25:04.419Z"
   },
   {
    "duration": 17,
    "start_time": "2022-10-10T08:25:05.999Z"
   },
   {
    "duration": 14,
    "start_time": "2022-10-10T08:25:07.134Z"
   },
   {
    "duration": 9,
    "start_time": "2022-10-10T08:25:09.362Z"
   },
   {
    "duration": 31,
    "start_time": "2022-10-10T08:25:10.427Z"
   },
   {
    "duration": 4,
    "start_time": "2022-10-10T08:25:11.134Z"
   },
   {
    "duration": 8,
    "start_time": "2022-10-10T08:25:11.610Z"
   },
   {
    "duration": 3,
    "start_time": "2022-10-10T08:25:12.369Z"
   },
   {
    "duration": 7,
    "start_time": "2022-10-10T08:25:12.905Z"
   },
   {
    "duration": 4,
    "start_time": "2022-10-10T08:25:12.970Z"
   },
   {
    "duration": 28,
    "start_time": "2022-10-10T08:25:13.080Z"
   },
   {
    "duration": 9,
    "start_time": "2022-10-10T08:25:13.504Z"
   },
   {
    "duration": 4,
    "start_time": "2022-10-10T08:25:14.077Z"
   },
   {
    "duration": 11,
    "start_time": "2022-10-10T08:25:14.170Z"
   },
   {
    "duration": 19,
    "start_time": "2022-10-10T08:25:14.996Z"
   },
   {
    "duration": 15,
    "start_time": "2022-10-10T08:25:15.215Z"
   },
   {
    "duration": 3,
    "start_time": "2022-10-10T08:25:16.042Z"
   },
   {
    "duration": 9,
    "start_time": "2022-10-10T08:25:16.484Z"
   },
   {
    "duration": 6,
    "start_time": "2022-10-10T08:25:16.946Z"
   },
   {
    "duration": 3,
    "start_time": "2022-10-10T08:25:17.575Z"
   },
   {
    "duration": 9,
    "start_time": "2022-10-10T08:25:17.842Z"
   },
   {
    "duration": 11,
    "start_time": "2022-10-10T08:25:18.803Z"
   },
   {
    "duration": 54,
    "start_time": "2022-10-10T08:25:19.309Z"
   },
   {
    "duration": 21,
    "start_time": "2022-10-10T08:25:36.150Z"
   },
   {
    "duration": 19,
    "start_time": "2022-10-10T08:31:38.449Z"
   },
   {
    "duration": 25,
    "start_time": "2022-10-10T08:31:40.255Z"
   },
   {
    "duration": 276,
    "start_time": "2022-10-10T08:31:40.561Z"
   },
   {
    "duration": 150,
    "start_time": "2022-10-10T08:31:44.882Z"
   },
   {
    "duration": 7,
    "start_time": "2022-10-10T08:34:46.584Z"
   },
   {
    "duration": 21,
    "start_time": "2022-10-10T08:34:47.767Z"
   },
   {
    "duration": 25,
    "start_time": "2022-10-10T08:36:06.328Z"
   },
   {
    "duration": 7,
    "start_time": "2022-10-10T08:36:20.113Z"
   },
   {
    "duration": 10,
    "start_time": "2022-10-10T08:36:39.275Z"
   },
   {
    "duration": 24,
    "start_time": "2022-10-10T08:36:52.198Z"
   },
   {
    "duration": 7,
    "start_time": "2022-10-10T08:37:05.580Z"
   },
   {
    "duration": 9,
    "start_time": "2022-10-10T08:37:19.647Z"
   },
   {
    "duration": 30,
    "start_time": "2022-10-10T08:37:34.481Z"
   },
   {
    "duration": 7,
    "start_time": "2022-10-10T08:38:06.416Z"
   },
   {
    "duration": 7,
    "start_time": "2022-10-10T08:38:13.205Z"
   },
   {
    "duration": 8,
    "start_time": "2022-10-10T08:38:13.837Z"
   },
   {
    "duration": 7,
    "start_time": "2022-10-10T08:38:16.506Z"
   },
   {
    "duration": 8,
    "start_time": "2022-10-10T08:38:22.921Z"
   },
   {
    "duration": 26,
    "start_time": "2022-10-10T08:41:11.671Z"
   },
   {
    "duration": 8,
    "start_time": "2022-10-10T08:41:50.873Z"
   },
   {
    "duration": 9,
    "start_time": "2022-10-10T08:41:56.324Z"
   },
   {
    "duration": 9,
    "start_time": "2022-10-10T08:43:33.694Z"
   },
   {
    "duration": 110,
    "start_time": "2022-10-10T08:44:11.401Z"
   },
   {
    "duration": 8,
    "start_time": "2022-10-10T08:44:17.223Z"
   },
   {
    "duration": 10,
    "start_time": "2022-10-10T08:44:50.657Z"
   },
   {
    "duration": 8,
    "start_time": "2022-10-10T08:45:02.879Z"
   },
   {
    "duration": 39,
    "start_time": "2022-10-10T08:45:10.552Z"
   },
   {
    "duration": 825,
    "start_time": "2022-10-10T08:45:14.196Z"
   },
   {
    "duration": 23,
    "start_time": "2022-10-10T08:45:28.226Z"
   },
   {
    "duration": 19,
    "start_time": "2022-10-10T08:45:32.190Z"
   },
   {
    "duration": 17,
    "start_time": "2022-10-10T08:48:23.823Z"
   },
   {
    "duration": 16,
    "start_time": "2022-10-10T08:49:02.473Z"
   },
   {
    "duration": 8,
    "start_time": "2022-10-10T08:49:29.076Z"
   },
   {
    "duration": 7,
    "start_time": "2022-10-10T08:49:35.943Z"
   },
   {
    "duration": 853,
    "start_time": "2022-10-10T08:50:00.666Z"
   },
   {
    "duration": 18,
    "start_time": "2022-10-10T08:50:05.636Z"
   },
   {
    "duration": 16,
    "start_time": "2022-10-10T08:50:40.018Z"
   },
   {
    "duration": 4,
    "start_time": "2022-10-10T08:51:02.209Z"
   },
   {
    "duration": 5,
    "start_time": "2022-10-10T08:51:28.600Z"
   },
   {
    "duration": 4,
    "start_time": "2022-10-10T08:51:43.308Z"
   },
   {
    "duration": 4,
    "start_time": "2022-10-10T08:51:52.905Z"
   },
   {
    "duration": 10,
    "start_time": "2022-10-10T08:51:56.400Z"
   },
   {
    "duration": 11,
    "start_time": "2022-10-10T08:51:59.265Z"
   },
   {
    "duration": 10,
    "start_time": "2022-10-10T08:52:03.628Z"
   },
   {
    "duration": 7,
    "start_time": "2022-10-10T08:52:07.243Z"
   },
   {
    "duration": 6,
    "start_time": "2022-10-10T08:52:12.836Z"
   },
   {
    "duration": 82,
    "start_time": "2022-10-10T08:56:25.081Z"
   },
   {
    "duration": 4,
    "start_time": "2022-10-10T08:56:27.731Z"
   },
   {
    "duration": 83,
    "start_time": "2022-10-10T08:57:23.552Z"
   },
   {
    "duration": 4,
    "start_time": "2022-10-10T08:57:23.718Z"
   },
   {
    "duration": 9,
    "start_time": "2022-10-10T08:58:04.082Z"
   },
   {
    "duration": 3,
    "start_time": "2022-10-10T08:58:35.682Z"
   },
   {
    "duration": 6,
    "start_time": "2022-10-10T08:58:38.938Z"
   },
   {
    "duration": 6,
    "start_time": "2022-10-10T08:58:48.668Z"
   },
   {
    "duration": 7,
    "start_time": "2022-10-10T08:58:51.899Z"
   },
   {
    "duration": 12,
    "start_time": "2022-10-10T08:59:04.942Z"
   },
   {
    "duration": 86,
    "start_time": "2022-10-10T08:59:09.377Z"
   },
   {
    "duration": 9,
    "start_time": "2022-10-10T08:59:13.416Z"
   },
   {
    "duration": 101,
    "start_time": "2022-10-10T09:01:34.421Z"
   },
   {
    "duration": 9,
    "start_time": "2022-10-10T09:02:16.536Z"
   },
   {
    "duration": 92,
    "start_time": "2022-10-10T09:03:23.870Z"
   },
   {
    "duration": 10,
    "start_time": "2022-10-10T09:03:24.462Z"
   },
   {
    "duration": 100,
    "start_time": "2022-10-10T09:05:04.527Z"
   },
   {
    "duration": 8,
    "start_time": "2022-10-10T09:05:05.263Z"
   },
   {
    "duration": 85,
    "start_time": "2022-10-10T09:07:03.662Z"
   },
   {
    "duration": 9,
    "start_time": "2022-10-10T09:07:04.232Z"
   },
   {
    "duration": 79,
    "start_time": "2022-10-10T09:19:11.780Z"
   },
   {
    "duration": 1160,
    "start_time": "2022-10-10T11:04:34.617Z"
   },
   {
    "duration": 17,
    "start_time": "2022-10-10T11:04:35.779Z"
   },
   {
    "duration": 15,
    "start_time": "2022-10-10T11:04:35.798Z"
   },
   {
    "duration": 8,
    "start_time": "2022-10-10T11:04:35.815Z"
   },
   {
    "duration": 29,
    "start_time": "2022-10-10T11:04:35.824Z"
   },
   {
    "duration": 3,
    "start_time": "2022-10-10T11:04:35.855Z"
   },
   {
    "duration": 35,
    "start_time": "2022-10-10T11:04:35.859Z"
   },
   {
    "duration": 26,
    "start_time": "2022-10-10T11:04:35.895Z"
   },
   {
    "duration": 10,
    "start_time": "2022-10-10T11:04:35.922Z"
   },
   {
    "duration": 4,
    "start_time": "2022-10-10T11:04:35.934Z"
   },
   {
    "duration": 33,
    "start_time": "2022-10-10T11:04:35.939Z"
   },
   {
    "duration": 8,
    "start_time": "2022-10-10T11:04:35.973Z"
   },
   {
    "duration": 3,
    "start_time": "2022-10-10T11:04:35.983Z"
   },
   {
    "duration": 20,
    "start_time": "2022-10-10T11:04:35.988Z"
   },
   {
    "duration": 25,
    "start_time": "2022-10-10T11:04:36.010Z"
   },
   {
    "duration": 15,
    "start_time": "2022-10-10T11:04:36.036Z"
   },
   {
    "duration": 3,
    "start_time": "2022-10-10T11:04:36.053Z"
   },
   {
    "duration": 19,
    "start_time": "2022-10-10T11:04:36.057Z"
   },
   {
    "duration": 8,
    "start_time": "2022-10-10T11:04:36.077Z"
   },
   {
    "duration": 9,
    "start_time": "2022-10-10T11:04:36.087Z"
   },
   {
    "duration": 11,
    "start_time": "2022-10-10T11:04:36.098Z"
   },
   {
    "duration": 10,
    "start_time": "2022-10-10T11:04:36.110Z"
   },
   {
    "duration": 51,
    "start_time": "2022-10-10T11:04:36.121Z"
   },
   {
    "duration": 43,
    "start_time": "2022-10-10T11:04:36.173Z"
   },
   {
    "duration": 19,
    "start_time": "2022-10-10T11:04:36.218Z"
   },
   {
    "duration": 28,
    "start_time": "2022-10-10T11:04:36.238Z"
   },
   {
    "duration": 208,
    "start_time": "2022-10-10T11:04:36.268Z"
   },
   {
    "duration": 7,
    "start_time": "2022-10-10T11:04:36.480Z"
   },
   {
    "duration": 36,
    "start_time": "2022-10-10T11:04:36.489Z"
   },
   {
    "duration": 92,
    "start_time": "2022-10-10T11:04:36.527Z"
   },
   {
    "duration": 9,
    "start_time": "2022-10-10T11:04:36.620Z"
   },
   {
    "duration": 1260,
    "start_time": "2023-05-16T08:33:42.289Z"
   },
   {
    "duration": 5,
    "start_time": "2023-05-16T08:33:43.550Z"
   },
   {
    "duration": 177,
    "start_time": "2023-05-16T08:33:43.556Z"
   },
   {
    "duration": 17,
    "start_time": "2023-05-16T08:33:43.735Z"
   },
   {
    "duration": 13,
    "start_time": "2023-05-16T08:33:43.753Z"
   },
   {
    "duration": 52,
    "start_time": "2023-05-16T08:33:43.767Z"
   },
   {
    "duration": 8,
    "start_time": "2023-05-16T08:33:43.821Z"
   },
   {
    "duration": 34,
    "start_time": "2023-05-16T08:33:43.830Z"
   },
   {
    "duration": 5,
    "start_time": "2023-05-16T08:33:43.865Z"
   },
   {
    "duration": 9,
    "start_time": "2023-05-16T08:33:43.873Z"
   },
   {
    "duration": 23,
    "start_time": "2023-05-16T08:33:43.884Z"
   },
   {
    "duration": 6,
    "start_time": "2023-05-16T08:33:43.910Z"
   },
   {
    "duration": 23,
    "start_time": "2023-05-16T08:33:43.918Z"
   },
   {
    "duration": 6,
    "start_time": "2023-05-16T08:33:43.944Z"
   },
   {
    "duration": 30,
    "start_time": "2023-05-16T08:33:43.952Z"
   },
   {
    "duration": 8,
    "start_time": "2023-05-16T08:33:43.983Z"
   },
   {
    "duration": 18,
    "start_time": "2023-05-16T08:33:43.992Z"
   },
   {
    "duration": 23,
    "start_time": "2023-05-16T08:33:44.011Z"
   },
   {
    "duration": 24,
    "start_time": "2023-05-16T08:33:44.035Z"
   },
   {
    "duration": 14,
    "start_time": "2023-05-16T08:33:44.060Z"
   },
   {
    "duration": 8,
    "start_time": "2023-05-16T08:33:44.076Z"
   },
   {
    "duration": 14,
    "start_time": "2023-05-16T08:33:44.085Z"
   },
   {
    "duration": 20,
    "start_time": "2023-05-16T08:33:44.100Z"
   },
   {
    "duration": 13,
    "start_time": "2023-05-16T08:33:44.122Z"
   },
   {
    "duration": 14,
    "start_time": "2023-05-16T08:33:44.137Z"
   },
   {
    "duration": 58,
    "start_time": "2023-05-16T08:33:44.153Z"
   },
   {
    "duration": 29,
    "start_time": "2023-05-16T08:33:44.214Z"
   },
   {
    "duration": 34,
    "start_time": "2023-05-16T08:33:44.245Z"
   },
   {
    "duration": 27,
    "start_time": "2023-05-16T08:33:44.280Z"
   },
   {
    "duration": 267,
    "start_time": "2023-05-16T08:33:44.312Z"
   },
   {
    "duration": 10,
    "start_time": "2023-05-16T08:33:44.581Z"
   },
   {
    "duration": 37,
    "start_time": "2023-05-16T08:33:44.593Z"
   },
   {
    "duration": 91,
    "start_time": "2023-05-16T08:33:44.632Z"
   },
   {
    "duration": 8,
    "start_time": "2023-05-16T08:33:44.724Z"
   }
  ],
  "colab": {
   "name": "dpp_template_part2.ipynb",
   "provenance": []
  },
  "kernelspec": {
   "display_name": "Python 3 (ipykernel)",
   "language": "python",
   "name": "python3"
  },
  "language_info": {
   "codemirror_mode": {
    "name": "ipython",
    "version": 3
   },
   "file_extension": ".py",
   "mimetype": "text/x-python",
   "name": "python",
   "nbconvert_exporter": "python",
   "pygments_lexer": "ipython3",
   "version": "3.9.5"
  },
  "toc": {
   "base_numbering": 1,
   "nav_menu": {},
   "number_sections": true,
   "sideBar": true,
   "skip_h1_title": true,
   "title_cell": "Оглавление проекта",
   "title_sidebar": "Contents",
   "toc_cell": true,
   "toc_position": {
    "height": "calc(100% - 180px)",
    "left": "10px",
    "top": "150px",
    "width": "287.1875px"
   },
   "toc_section_display": true,
   "toc_window_display": true
  },
  "toc-autonumbering": true,
  "toc-showcode": false,
  "toc-showtags": false
 },
 "nbformat": 4,
 "nbformat_minor": 5
}
