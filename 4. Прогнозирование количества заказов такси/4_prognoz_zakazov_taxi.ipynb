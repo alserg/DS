{
 "cells": [
  {
   "cell_type": "markdown",
   "metadata": {
    "toc": true
   },
   "source": [
    "<h1>Содержание проекта<span class=\"tocSkip\"></span></h1>\n",
    "\n",
    "1  Загрузка, изучение, обработка данных\n",
    "\n",
    "2  Ресемплирование\n",
    "\n",
    "3  Анализ данных\n",
    "\n",
    "4  Обучение моделей\n",
    "\n",
    "    4.1  Подготовка признаков\n",
    "    4.2  Создание выборок\n",
    "    4.3  Обучение моделей\n",
    "        4.3.1  LinearRegression\n",
    "        4.3.2  RandomForestRegressor\n",
    "        4.3.3  DecisionTreeRegressor\n",
    "        4.3.4  LightGBM\n",
    "        4.3.5  CatBoostRegressor\n",
    "        4.3.6  Выводы\n",
    "    \n",
    "5  Тестирование\n",
    "\n",
    "6  Общий вывод"
   ]
  },
  {
   "cell_type": "markdown",
   "metadata": {},
   "source": [
    "#  Прогнозирование заказов такси"
   ]
  },
  {
   "cell_type": "markdown",
   "metadata": {},
   "source": [
    "Компания «Чётенькое такси» собрала исторические данные о заказах такси в аэропортах. Чтобы привлекать больше водителей в период пиковой нагрузки, нужно спрогнозировать количество заказов такси на следующий час.\n",
    "\n",
    "\n",
    "# Цели и задачи проекта\n",
    "\n",
    "**Цель проекта:** Постройте модель для предсказания количество заказов такси на следующий час.\n",
    "\n",
    "**Условия задачи:** Значение метрики *RMSE* на тестовой выборке должно быть не больше 48.\n",
    "\n",
    "**План выполнения работ:**\n",
    "\n",
    "1. Загрузить, изучить, при необходимости обработать данные\n",
    "\n",
    "\n",
    "2. Выполнить ресемплирование данных по одному часу.\n",
    "\n",
    "\n",
    "3. Проанализировать данные.\n",
    "\n",
    "\n",
    "4. Обучить модели\n",
    "\n",
    "    4.1. Подготовить признаки.   \n",
    "    4.2. Сделать тестовую выборку размером 10% от исходных данных.    \n",
    "    4.3. Обучить разные модели с различными гиперпараметрами.\n",
    "    \n",
    "    \n",
    "5. Проверить данные на тестовой выборке и сделать выводы.\n",
    "\n",
    "**Дополнительная информация:**\n",
    "\n",
    "Данные лежат в файле `taxi.csv`. Количество заказов находится в столбце `num_orders` (от англ. *number of orders*, «число заказов»)."
   ]
  },
  {
   "cell_type": "markdown",
   "metadata": {},
   "source": [
    "## Загрузка, изучение, обработка данных"
   ]
  },
  {
   "cell_type": "code",
   "execution_count": 1,
   "metadata": {},
   "outputs": [],
   "source": [
    "#импорты настройки функции\n",
    "\n",
    "import pandas as pd\n",
    "\n",
    "import seaborn as sns\n",
    "sns.set(rc={'figure.figsize':(16,6)})\n",
    "sns.set_palette('dark:#5A9_r')\n",
    "\n",
    "from matplotlib import pyplot as plt\n",
    "\n",
    "from sklearn.linear_model import LinearRegression\n",
    "from sklearn.tree import DecisionTreeRegressor\n",
    "from sklearn.ensemble import RandomForestRegressor\n",
    "from catboost import CatBoostRegressor\n",
    "import lightgbm as lgb\n",
    "\n",
    "from sklearn.model_selection import train_test_split\n",
    "from sklearn.metrics import mean_squared_error\n",
    "\n",
    "from statsmodels.tsa.seasonal import seasonal_decompose\n",
    "    \n",
    "# для оценки времени\n",
    "from tqdm.auto import tqdm\n",
    "import time\n",
    "\n",
    "# остальное\n",
    "import warnings\n",
    "warnings.filterwarnings('ignore')\n",
    "\n",
    "# функция для линейного графика\n",
    "def sns_lineplot(dt, chart_title):\n",
    "    dt.plot()\n",
    "    plt.title(chart_title)\n",
    "    plt.show()\n",
    "    \n",
    "# функция для графика ящик с усами\n",
    "def sns_boxplot(dt, chart_title):\n",
    "    sns.boxplot(x=dt)\n",
    "    plt.title(chart_title)\n",
    "    plt.show()\n",
    "    \n",
    "# функция для создания признаков\n",
    "def make_features(data, max_lag):\n",
    "    # основные признаки\n",
    "    \n",
    "    # месяц - не нужен, какой смысл, если данные за пол года\n",
    "    #data['month'] = data.index.month\n",
    "    \n",
    "    # день пусть будет, протестируем, это же порядковый номер в месяце\n",
    "    data['day'] = data.index.day\n",
    "    # день недели так же\n",
    "    data['dayofweek'] = data.index.dayofweek\n",
    "    # час по идее нужен обязательно, у нас же семпл по часам\n",
    "    data['hour'] = data.index.hour\n",
    "    \n",
    "    # признаки отстающих значений\n",
    "    # в нашем случае цикл пусть будет, хотя >2 lag вряд ли окажется полезным\n",
    "    for lag in max_lag:\n",
    "        data['lag_{}'.format(lag)] = data['num_orders'].shift(lag)\n",
    "        \n",
    "    # добавим признак rolling_mean\n",
    "    # мы ж не будем никак обрабатывать данные, нормализировать например, этот признак в помощь\n",
    "    # потому что конкретное значение, еще и с учетом того что кол-ва растут со временем, вряд ли придет на входе\n",
    "    data['rolling_mean'] = data['num_orders'].shift().rolling(1).mean()\n",
    "    data['rolling_mean_12'] = data['num_orders'].shift().rolling(12).mean()\n",
    "    data['rolling_mean_24'] = data['num_orders'].shift().rolling(24).mean()\n",
    "    data['rolling_mean_48'] = data['num_orders'].shift().rolling(48).mean()\n",
    "    \n",
    "    # и сразу убираем NA\n",
    "    data.dropna(inplace=True)\n",
    "    \n",
    "    return data"
   ]
  },
  {
   "cell_type": "markdown",
   "metadata": {},
   "source": [
    "**Загрузим файл и посмотрим на данные.**"
   ]
  },
  {
   "cell_type": "code",
   "execution_count": 2,
   "metadata": {},
   "outputs": [
    {
     "data": {
      "text/html": [
       "<div>\n",
       "<style scoped>\n",
       "    .dataframe tbody tr th:only-of-type {\n",
       "        vertical-align: middle;\n",
       "    }\n",
       "\n",
       "    .dataframe tbody tr th {\n",
       "        vertical-align: top;\n",
       "    }\n",
       "\n",
       "    .dataframe thead th {\n",
       "        text-align: right;\n",
       "    }\n",
       "</style>\n",
       "<table border=\"1\" class=\"dataframe\">\n",
       "  <thead>\n",
       "    <tr style=\"text-align: right;\">\n",
       "      <th></th>\n",
       "      <th>datetime</th>\n",
       "      <th>num_orders</th>\n",
       "    </tr>\n",
       "  </thead>\n",
       "  <tbody>\n",
       "    <tr>\n",
       "      <th>0</th>\n",
       "      <td>2018-03-01 00:00:00</td>\n",
       "      <td>9</td>\n",
       "    </tr>\n",
       "    <tr>\n",
       "      <th>1</th>\n",
       "      <td>2018-03-01 00:10:00</td>\n",
       "      <td>14</td>\n",
       "    </tr>\n",
       "    <tr>\n",
       "      <th>2</th>\n",
       "      <td>2018-03-01 00:20:00</td>\n",
       "      <td>28</td>\n",
       "    </tr>\n",
       "    <tr>\n",
       "      <th>3</th>\n",
       "      <td>2018-03-01 00:30:00</td>\n",
       "      <td>20</td>\n",
       "    </tr>\n",
       "    <tr>\n",
       "      <th>4</th>\n",
       "      <td>2018-03-01 00:40:00</td>\n",
       "      <td>32</td>\n",
       "    </tr>\n",
       "  </tbody>\n",
       "</table>\n",
       "</div>"
      ],
      "text/plain": [
       "              datetime  num_orders\n",
       "0  2018-03-01 00:00:00           9\n",
       "1  2018-03-01 00:10:00          14\n",
       "2  2018-03-01 00:20:00          28\n",
       "3  2018-03-01 00:30:00          20\n",
       "4  2018-03-01 00:40:00          32"
      ]
     },
     "execution_count": 2,
     "metadata": {},
     "output_type": "execute_result"
    }
   ],
   "source": [
    "# быстро посмотрим что там у нас\n",
    "pd.read_csv(\"/datasets/taxi.csv\").head()"
   ]
  },
  {
   "cell_type": "code",
   "execution_count": 3,
   "metadata": {},
   "outputs": [],
   "source": [
    "# загружаем данные, сразу назначая дату индексом\n",
    "data = pd.read_csv(\"/datasets/taxi.csv\", index_col=[0], parse_dates=[0])"
   ]
  },
  {
   "cell_type": "code",
   "execution_count": 4,
   "metadata": {},
   "outputs": [
    {
     "data": {
      "text/html": [
       "<div>\n",
       "<style scoped>\n",
       "    .dataframe tbody tr th:only-of-type {\n",
       "        vertical-align: middle;\n",
       "    }\n",
       "\n",
       "    .dataframe tbody tr th {\n",
       "        vertical-align: top;\n",
       "    }\n",
       "\n",
       "    .dataframe thead th {\n",
       "        text-align: right;\n",
       "    }\n",
       "</style>\n",
       "<table border=\"1\" class=\"dataframe\">\n",
       "  <thead>\n",
       "    <tr style=\"text-align: right;\">\n",
       "      <th></th>\n",
       "      <th>num_orders</th>\n",
       "    </tr>\n",
       "    <tr>\n",
       "      <th>datetime</th>\n",
       "      <th></th>\n",
       "    </tr>\n",
       "  </thead>\n",
       "  <tbody>\n",
       "    <tr>\n",
       "      <th>2018-03-01 00:00:00</th>\n",
       "      <td>9</td>\n",
       "    </tr>\n",
       "    <tr>\n",
       "      <th>2018-03-01 00:10:00</th>\n",
       "      <td>14</td>\n",
       "    </tr>\n",
       "    <tr>\n",
       "      <th>2018-03-01 00:20:00</th>\n",
       "      <td>28</td>\n",
       "    </tr>\n",
       "    <tr>\n",
       "      <th>2018-03-01 00:30:00</th>\n",
       "      <td>20</td>\n",
       "    </tr>\n",
       "    <tr>\n",
       "      <th>2018-03-01 00:40:00</th>\n",
       "      <td>32</td>\n",
       "    </tr>\n",
       "  </tbody>\n",
       "</table>\n",
       "</div>"
      ],
      "text/plain": [
       "                     num_orders\n",
       "datetime                       \n",
       "2018-03-01 00:00:00           9\n",
       "2018-03-01 00:10:00          14\n",
       "2018-03-01 00:20:00          28\n",
       "2018-03-01 00:30:00          20\n",
       "2018-03-01 00:40:00          32"
      ]
     },
     "metadata": {},
     "output_type": "display_data"
    },
    {
     "name": "stdout",
     "output_type": "stream",
     "text": [
      "\n",
      "<class 'pandas.core.frame.DataFrame'>\n",
      "DatetimeIndex: 26496 entries, 2018-03-01 00:00:00 to 2018-08-31 23:50:00\n",
      "Data columns (total 1 columns):\n",
      " #   Column      Non-Null Count  Dtype\n",
      "---  ------      --------------  -----\n",
      " 0   num_orders  26496 non-null  int64\n",
      "dtypes: int64(1)\n",
      "memory usage: 414.0 KB\n",
      "None\n",
      "\n",
      "Полных дубликатов: 26415\n",
      "\n",
      "Describe:\n"
     ]
    },
    {
     "data": {
      "text/html": [
       "<div>\n",
       "<style scoped>\n",
       "    .dataframe tbody tr th:only-of-type {\n",
       "        vertical-align: middle;\n",
       "    }\n",
       "\n",
       "    .dataframe tbody tr th {\n",
       "        vertical-align: top;\n",
       "    }\n",
       "\n",
       "    .dataframe thead th {\n",
       "        text-align: right;\n",
       "    }\n",
       "</style>\n",
       "<table border=\"1\" class=\"dataframe\">\n",
       "  <thead>\n",
       "    <tr style=\"text-align: right;\">\n",
       "      <th></th>\n",
       "      <th>num_orders</th>\n",
       "    </tr>\n",
       "  </thead>\n",
       "  <tbody>\n",
       "    <tr>\n",
       "      <th>count</th>\n",
       "      <td>26496.000000</td>\n",
       "    </tr>\n",
       "    <tr>\n",
       "      <th>mean</th>\n",
       "      <td>14.070463</td>\n",
       "    </tr>\n",
       "    <tr>\n",
       "      <th>std</th>\n",
       "      <td>9.211330</td>\n",
       "    </tr>\n",
       "    <tr>\n",
       "      <th>min</th>\n",
       "      <td>0.000000</td>\n",
       "    </tr>\n",
       "    <tr>\n",
       "      <th>25%</th>\n",
       "      <td>8.000000</td>\n",
       "    </tr>\n",
       "    <tr>\n",
       "      <th>50%</th>\n",
       "      <td>13.000000</td>\n",
       "    </tr>\n",
       "    <tr>\n",
       "      <th>75%</th>\n",
       "      <td>19.000000</td>\n",
       "    </tr>\n",
       "    <tr>\n",
       "      <th>max</th>\n",
       "      <td>119.000000</td>\n",
       "    </tr>\n",
       "  </tbody>\n",
       "</table>\n",
       "</div>"
      ],
      "text/plain": [
       "         num_orders\n",
       "count  26496.000000\n",
       "mean      14.070463\n",
       "std        9.211330\n",
       "min        0.000000\n",
       "25%        8.000000\n",
       "50%       13.000000\n",
       "75%       19.000000\n",
       "max      119.000000"
      ]
     },
     "metadata": {},
     "output_type": "display_data"
    },
    {
     "name": "stdout",
     "output_type": "stream",
     "text": [
      "\n",
      "datetime min: 2018-03-01 00:00:00\n",
      "datetime max: 2018-08-31 23:50:00\n"
     ]
    }
   ],
   "source": [
    "display(data.head())\n",
    "print()\n",
    "print(data.info())\n",
    "print()\n",
    "print('Полных дубликатов:', sum(data.duplicated()))\n",
    "#display(data.loc[data.duplicated()])\n",
    "print()\n",
    "print('Describe:')\n",
    "display(data.describe())\n",
    "print()\n",
    "print('datetime min:',data.index.min())\n",
    "print('datetime max:',data.index.max())"
   ]
  },
  {
   "cell_type": "markdown",
   "metadata": {},
   "source": [
    "**Имеем следующий набор данных c марта по август 2018:**\n",
    "\n",
    "  - `datetime` — индекс, дата\n",
    "  - `num_orders` — целевой признак, кол-во заказов\n",
    "    \n",
    "Целевым будет признак num_orders, остальные признаки мы создадим на сл. этапах."
   ]
  },
  {
   "cell_type": "markdown",
   "metadata": {},
   "source": [
    "Проверим, есть ли пропуски"
   ]
  },
  {
   "cell_type": "code",
   "execution_count": 5,
   "metadata": {
    "scrolled": true
   },
   "outputs": [
    {
     "data": {
      "text/plain": [
       "num_orders    0\n",
       "dtype: int64"
      ]
     },
     "execution_count": 5,
     "metadata": {},
     "output_type": "execute_result"
    }
   ],
   "source": [
    "data.isna().sum()"
   ]
  },
  {
   "cell_type": "markdown",
   "metadata": {},
   "source": [
    "Посмотрим как распределены данные"
   ]
  },
  {
   "cell_type": "code",
   "execution_count": 6,
   "metadata": {},
   "outputs": [
    {
     "data": {
      "image/png": "[encoded data removed]",
      "text/plain": [
       "<Figure size 1152x432 with 1 Axes>"
      ]
     },
     "metadata": {},
     "output_type": "display_data"
    }
   ],
   "source": [
    "data.hist(bins=data['num_orders'].max());"
   ]
  },
  {
   "cell_type": "code",
   "execution_count": 7,
   "metadata": {},
   "outputs": [
    {
     "data": {
      "image/png": "[encoded data removed]",
      "text/plain": [
       "<Figure size 1152x432 with 1 Axes>"
      ]
     },
     "metadata": {},
     "output_type": "display_data"
    }
   ],
   "source": [
    "sns_boxplot(data['num_orders'],'Выбросы в целевом признаке')"
   ]
  },
  {
   "cell_type": "markdown",
   "metadata": {},
   "source": [
    "Как мы видим, данные распределены в целом нормально, выбросы присутствуют, но избавляться от них мы не будем."
   ]
  },
  {
   "cell_type": "markdown",
   "metadata": {},
   "source": [
    "**Выводы:**\n",
    "- загрузили и изучили данные\n",
    "- проверили дубликаты, пропуски, выбросы"
   ]
  },
  {
   "cell_type": "markdown",
   "metadata": {},
   "source": [
    "## Ресемплирование"
   ]
  },
  {
   "cell_type": "markdown",
   "metadata": {},
   "source": [
    "Обязательно сначала проверим индекс на монотонность (должно быть True)"
   ]
  },
  {
   "cell_type": "code",
   "execution_count": 8,
   "metadata": {},
   "outputs": [
    {
     "data": {
      "text/plain": [
       "True"
      ]
     },
     "execution_count": 8,
     "metadata": {},
     "output_type": "execute_result"
    }
   ],
   "source": [
    "data.index.is_monotonic"
   ]
  },
  {
   "cell_type": "markdown",
   "metadata": {},
   "source": [
    "Теперь ресемплируем наши данных данные по часу"
   ]
  },
  {
   "cell_type": "code",
   "execution_count": 9,
   "metadata": {},
   "outputs": [
    {
     "data": {
      "text/html": [
       "<div>\n",
       "<style scoped>\n",
       "    .dataframe tbody tr th:only-of-type {\n",
       "        vertical-align: middle;\n",
       "    }\n",
       "\n",
       "    .dataframe tbody tr th {\n",
       "        vertical-align: top;\n",
       "    }\n",
       "\n",
       "    .dataframe thead th {\n",
       "        text-align: right;\n",
       "    }\n",
       "</style>\n",
       "<table border=\"1\" class=\"dataframe\">\n",
       "  <thead>\n",
       "    <tr style=\"text-align: right;\">\n",
       "      <th></th>\n",
       "      <th>num_orders</th>\n",
       "    </tr>\n",
       "    <tr>\n",
       "      <th>datetime</th>\n",
       "      <th></th>\n",
       "    </tr>\n",
       "  </thead>\n",
       "  <tbody>\n",
       "    <tr>\n",
       "      <th>2018-03-01 00:00:00</th>\n",
       "      <td>124</td>\n",
       "    </tr>\n",
       "    <tr>\n",
       "      <th>2018-03-01 01:00:00</th>\n",
       "      <td>85</td>\n",
       "    </tr>\n",
       "    <tr>\n",
       "      <th>2018-03-01 02:00:00</th>\n",
       "      <td>71</td>\n",
       "    </tr>\n",
       "    <tr>\n",
       "      <th>2018-03-01 03:00:00</th>\n",
       "      <td>66</td>\n",
       "    </tr>\n",
       "    <tr>\n",
       "      <th>2018-03-01 04:00:00</th>\n",
       "      <td>43</td>\n",
       "    </tr>\n",
       "  </tbody>\n",
       "</table>\n",
       "</div>"
      ],
      "text/plain": [
       "                     num_orders\n",
       "datetime                       \n",
       "2018-03-01 00:00:00         124\n",
       "2018-03-01 01:00:00          85\n",
       "2018-03-01 02:00:00          71\n",
       "2018-03-01 03:00:00          66\n",
       "2018-03-01 04:00:00          43"
      ]
     },
     "execution_count": 9,
     "metadata": {},
     "output_type": "execute_result"
    }
   ],
   "source": [
    "data = data.resample('1H').sum()\n",
    "data.head()"
   ]
  },
  {
   "cell_type": "markdown",
   "metadata": {},
   "source": [
    "**Выводы:**\n",
    "- проверили монотонность индекса (успешно)\n",
    "- ресемплировали данные по одному часу, проверили"
   ]
  },
  {
   "cell_type": "markdown",
   "metadata": {},
   "source": [
    "## Анализ данных"
   ]
  },
  {
   "cell_type": "markdown",
   "metadata": {},
   "source": [
    "**Посмотрим на трендовую, сезонную и шумовую составляющие данных**"
   ]
  },
  {
   "cell_type": "code",
   "execution_count": 10,
   "metadata": {},
   "outputs": [],
   "source": [
    "# разложим данные\n",
    "decomp = seasonal_decompose(data)"
   ]
  },
  {
   "cell_type": "code",
   "execution_count": 11,
   "metadata": {},
   "outputs": [
    {
     "data": {
      "image/png": "[encoded data removed]",
      "text/plain": [
       "<Figure size 1152x432 with 1 Axes>"
      ]
     },
     "metadata": {},
     "output_type": "display_data"
    },
    {
     "data": {
      "image/png": "[encoded data removed]",
      "text/plain": [
       "<Figure size 1152x432 with 1 Axes>"
      ]
     },
     "metadata": {},
     "output_type": "display_data"
    }
   ],
   "source": [
    "sns_lineplot(decomp.trend, 'Тренд')\n",
    "sns_lineplot(decomp.trend.rolling(24*7).mean(), 'Сглаженный тренд');"
   ]
  },
  {
   "cell_type": "markdown",
   "metadata": {},
   "source": [
    "Видим тренд роста кол-ва заказов, с небольшими просадками."
   ]
  },
  {
   "cell_type": "code",
   "execution_count": 12,
   "metadata": {},
   "outputs": [
    {
     "data": {
      "image/png": "[encoded data removed]",
      "text/plain": [
       "<Figure size 1152x432 with 1 Axes>"
      ]
     },
     "metadata": {},
     "output_type": "display_data"
    }
   ],
   "source": [
    "sns_lineplot(decomp.seasonal.tail(24*7), 'Сезонность данных')"
   ]
  },
  {
   "cell_type": "markdown",
   "metadata": {},
   "source": [
    "Наблюдаем сезонность по дням, у нас спады ночью, скачки роста утром, в обед и пик - вечером."
   ]
  },
  {
   "cell_type": "code",
   "execution_count": 13,
   "metadata": {},
   "outputs": [
    {
     "data": {
      "image/png": "[encoded data removed]",
      "text/plain": [
       "<Figure size 1152x432 with 1 Axes>"
      ]
     },
     "metadata": {},
     "output_type": "display_data"
    }
   ],
   "source": [
    "# resid - компонента, которая не объясняется трендом и сезонностью, это шум.\n",
    "sns_lineplot(decomp.resid, 'Шумы')"
   ]
  },
  {
   "cell_type": "markdown",
   "metadata": {},
   "source": [
    "**Выводы:**\n",
    "- Видим тренд равномерного роста заказов с периодическими небольшими просадками\n",
    "- Видим сезонность по дням - спады заказов ночью, скачки роста утром, в обед и пик - вечером."
   ]
  },
  {
   "cell_type": "markdown",
   "metadata": {},
   "source": [
    "## Обучение моделей"
   ]
  },
  {
   "cell_type": "markdown",
   "metadata": {},
   "source": [
    "Нам необходимо обучить разные модели, возьмем: LinearRegression, RandomForestRegressor, DecisionTreeRegressor, LightGBM и CatBoostRegressor.\n",
    "\n",
    "Помним, что значение метрики RMSE на тестовой выборке должно будет быть не больше 48."
   ]
  },
  {
   "cell_type": "markdown",
   "metadata": {},
   "source": [
    "### Подготовка признаков"
   ]
  },
  {
   "cell_type": "markdown",
   "metadata": {},
   "source": [
    "Добавим в датасет признаки с горизонтом прогнозирования в один шаг."
   ]
  },
  {
   "cell_type": "code",
   "execution_count": 14,
   "metadata": {},
   "outputs": [
    {
     "name": "stdout",
     "output_type": "stream",
     "text": [
      "Оригинальные данные:\n"
     ]
    },
    {
     "data": {
      "text/html": [
       "<div>\n",
       "<style scoped>\n",
       "    .dataframe tbody tr th:only-of-type {\n",
       "        vertical-align: middle;\n",
       "    }\n",
       "\n",
       "    .dataframe tbody tr th {\n",
       "        vertical-align: top;\n",
       "    }\n",
       "\n",
       "    .dataframe thead th {\n",
       "        text-align: right;\n",
       "    }\n",
       "</style>\n",
       "<table border=\"1\" class=\"dataframe\">\n",
       "  <thead>\n",
       "    <tr style=\"text-align: right;\">\n",
       "      <th></th>\n",
       "      <th>num_orders</th>\n",
       "    </tr>\n",
       "    <tr>\n",
       "      <th>datetime</th>\n",
       "      <th></th>\n",
       "    </tr>\n",
       "  </thead>\n",
       "  <tbody>\n",
       "    <tr>\n",
       "      <th>2018-03-01 00:00:00</th>\n",
       "      <td>124</td>\n",
       "    </tr>\n",
       "    <tr>\n",
       "      <th>2018-03-01 01:00:00</th>\n",
       "      <td>85</td>\n",
       "    </tr>\n",
       "    <tr>\n",
       "      <th>2018-03-01 02:00:00</th>\n",
       "      <td>71</td>\n",
       "    </tr>\n",
       "    <tr>\n",
       "      <th>2018-03-01 03:00:00</th>\n",
       "      <td>66</td>\n",
       "    </tr>\n",
       "    <tr>\n",
       "      <th>2018-03-01 04:00:00</th>\n",
       "      <td>43</td>\n",
       "    </tr>\n",
       "  </tbody>\n",
       "</table>\n",
       "</div>"
      ],
      "text/plain": [
       "                     num_orders\n",
       "datetime                       \n",
       "2018-03-01 00:00:00         124\n",
       "2018-03-01 01:00:00          85\n",
       "2018-03-01 02:00:00          71\n",
       "2018-03-01 03:00:00          66\n",
       "2018-03-01 04:00:00          43"
      ]
     },
     "metadata": {},
     "output_type": "display_data"
    },
    {
     "name": "stdout",
     "output_type": "stream",
     "text": [
      "(4416, 1)\n",
      "\n",
      "Данные для обучения с признаками:\n"
     ]
    },
    {
     "data": {
      "text/html": [
       "<div>\n",
       "<style scoped>\n",
       "    .dataframe tbody tr th:only-of-type {\n",
       "        vertical-align: middle;\n",
       "    }\n",
       "\n",
       "    .dataframe tbody tr th {\n",
       "        vertical-align: top;\n",
       "    }\n",
       "\n",
       "    .dataframe thead th {\n",
       "        text-align: right;\n",
       "    }\n",
       "</style>\n",
       "<table border=\"1\" class=\"dataframe\">\n",
       "  <thead>\n",
       "    <tr style=\"text-align: right;\">\n",
       "      <th></th>\n",
       "      <th>num_orders</th>\n",
       "      <th>day</th>\n",
       "      <th>dayofweek</th>\n",
       "      <th>hour</th>\n",
       "      <th>lag_2</th>\n",
       "      <th>lag_4</th>\n",
       "      <th>lag_12</th>\n",
       "      <th>lag_24</th>\n",
       "      <th>lag_48</th>\n",
       "      <th>rolling_mean</th>\n",
       "      <th>rolling_mean_12</th>\n",
       "      <th>rolling_mean_24</th>\n",
       "      <th>rolling_mean_48</th>\n",
       "    </tr>\n",
       "    <tr>\n",
       "      <th>datetime</th>\n",
       "      <th></th>\n",
       "      <th></th>\n",
       "      <th></th>\n",
       "      <th></th>\n",
       "      <th></th>\n",
       "      <th></th>\n",
       "      <th></th>\n",
       "      <th></th>\n",
       "      <th></th>\n",
       "      <th></th>\n",
       "      <th></th>\n",
       "      <th></th>\n",
       "      <th></th>\n",
       "    </tr>\n",
       "  </thead>\n",
       "  <tbody>\n",
       "    <tr>\n",
       "      <th>2018-03-03 00:00:00</th>\n",
       "      <td>163</td>\n",
       "      <td>3</td>\n",
       "      <td>5</td>\n",
       "      <td>0</td>\n",
       "      <td>119.0</td>\n",
       "      <td>93.0</td>\n",
       "      <td>36.0</td>\n",
       "      <td>90.0</td>\n",
       "      <td>124.0</td>\n",
       "      <td>72.0</td>\n",
       "      <td>72.666667</td>\n",
       "      <td>62.750000</td>\n",
       "      <td>59.791667</td>\n",
       "    </tr>\n",
       "    <tr>\n",
       "      <th>2018-03-03 01:00:00</th>\n",
       "      <td>108</td>\n",
       "      <td>3</td>\n",
       "      <td>5</td>\n",
       "      <td>1</td>\n",
       "      <td>72.0</td>\n",
       "      <td>101.0</td>\n",
       "      <td>45.0</td>\n",
       "      <td>120.0</td>\n",
       "      <td>85.0</td>\n",
       "      <td>163.0</td>\n",
       "      <td>83.250000</td>\n",
       "      <td>65.791667</td>\n",
       "      <td>60.604167</td>\n",
       "    </tr>\n",
       "    <tr>\n",
       "      <th>2018-03-03 02:00:00</th>\n",
       "      <td>25</td>\n",
       "      <td>3</td>\n",
       "      <td>5</td>\n",
       "      <td>2</td>\n",
       "      <td>163.0</td>\n",
       "      <td>119.0</td>\n",
       "      <td>44.0</td>\n",
       "      <td>75.0</td>\n",
       "      <td>71.0</td>\n",
       "      <td>108.0</td>\n",
       "      <td>88.500000</td>\n",
       "      <td>65.291667</td>\n",
       "      <td>61.083333</td>\n",
       "    </tr>\n",
       "    <tr>\n",
       "      <th>2018-03-03 03:00:00</th>\n",
       "      <td>64</td>\n",
       "      <td>3</td>\n",
       "      <td>5</td>\n",
       "      <td>3</td>\n",
       "      <td>108.0</td>\n",
       "      <td>72.0</td>\n",
       "      <td>59.0</td>\n",
       "      <td>64.0</td>\n",
       "      <td>66.0</td>\n",
       "      <td>25.0</td>\n",
       "      <td>86.916667</td>\n",
       "      <td>63.208333</td>\n",
       "      <td>60.125000</td>\n",
       "    </tr>\n",
       "    <tr>\n",
       "      <th>2018-03-03 04:00:00</th>\n",
       "      <td>44</td>\n",
       "      <td>3</td>\n",
       "      <td>5</td>\n",
       "      <td>4</td>\n",
       "      <td>25.0</td>\n",
       "      <td>163.0</td>\n",
       "      <td>82.0</td>\n",
       "      <td>20.0</td>\n",
       "      <td>43.0</td>\n",
       "      <td>64.0</td>\n",
       "      <td>87.333333</td>\n",
       "      <td>63.208333</td>\n",
       "      <td>60.083333</td>\n",
       "    </tr>\n",
       "  </tbody>\n",
       "</table>\n",
       "</div>"
      ],
      "text/plain": [
       "                     num_orders  day  dayofweek  hour  lag_2  lag_4  lag_12  \\\n",
       "datetime                                                                      \n",
       "2018-03-03 00:00:00         163    3          5     0  119.0   93.0    36.0   \n",
       "2018-03-03 01:00:00         108    3          5     1   72.0  101.0    45.0   \n",
       "2018-03-03 02:00:00          25    3          5     2  163.0  119.0    44.0   \n",
       "2018-03-03 03:00:00          64    3          5     3  108.0   72.0    59.0   \n",
       "2018-03-03 04:00:00          44    3          5     4   25.0  163.0    82.0   \n",
       "\n",
       "                     lag_24  lag_48  rolling_mean  rolling_mean_12  \\\n",
       "datetime                                                             \n",
       "2018-03-03 00:00:00    90.0   124.0          72.0        72.666667   \n",
       "2018-03-03 01:00:00   120.0    85.0         163.0        83.250000   \n",
       "2018-03-03 02:00:00    75.0    71.0         108.0        88.500000   \n",
       "2018-03-03 03:00:00    64.0    66.0          25.0        86.916667   \n",
       "2018-03-03 04:00:00    20.0    43.0          64.0        87.333333   \n",
       "\n",
       "                     rolling_mean_24  rolling_mean_48  \n",
       "datetime                                               \n",
       "2018-03-03 00:00:00        62.750000        59.791667  \n",
       "2018-03-03 01:00:00        65.791667        60.604167  \n",
       "2018-03-03 02:00:00        65.291667        61.083333  \n",
       "2018-03-03 03:00:00        63.208333        60.125000  \n",
       "2018-03-03 04:00:00        63.208333        60.083333  "
      ]
     },
     "metadata": {},
     "output_type": "display_data"
    },
    {
     "name": "stdout",
     "output_type": "stream",
     "text": [
      "(4368, 13)\n"
     ]
    }
   ],
   "source": [
    "data_learn = data.copy()\n",
    "data_learn = make_features(data_learn, [2,4,12,24,48])\n",
    "print('Оригинальные данные:')\n",
    "display(data.head())\n",
    "print(data.shape)\n",
    "print()\n",
    "print('Данные для обучения с признаками:')\n",
    "display(data_learn.head())\n",
    "print(data_learn.shape)"
   ]
  },
  {
   "cell_type": "markdown",
   "metadata": {},
   "source": [
    "Создали датасет для обучения с новыми признаками."
   ]
  },
  {
   "cell_type": "code",
   "execution_count": 15,
   "metadata": {},
   "outputs": [
    {
     "data": {
      "image/png": "[encoded data removed]",
      "text/plain": [
       "<Figure size 1800x1440 with 2 Axes>"
      ]
     },
     "metadata": {},
     "output_type": "display_data"
    }
   ],
   "source": [
    "fig, ax = plt.subplots(figsize=(25,20)) \n",
    "sns.heatmap(data_learn.corr(), cmap=\"Blues\", annot=True, fmt='.2f', linewidth=.1,ax=ax);\n",
    "plt.show();"
   ]
  },
  {
   "cell_type": "markdown",
   "metadata": {},
   "source": [
    "Подготовили признаки с учетом особенностей данных, проанализировали их.\n",
    "\n",
    "При этом видим, что день недели и час, казалось бы, основные важные признаки, - почти ни с чем не коррелируют. Но убирать мы их не будем."
   ]
  },
  {
   "cell_type": "markdown",
   "metadata": {},
   "source": [
    "### Создание выборок"
   ]
  },
  {
   "cell_type": "markdown",
   "metadata": {},
   "source": [
    "Разделим данные на обучающую, валидационную и тестовую выборки"
   ]
  },
  {
   "cell_type": "code",
   "execution_count": 16,
   "metadata": {},
   "outputs": [],
   "source": [
    "# создаем признаки и класс\n",
    "features = data_learn.drop(['num_orders'], axis=1)\n",
    "target = data_learn['num_orders']\n",
    "\n",
    "# разобьем на выборки (!!! shuffle=False)\n",
    "features_train, features_test, target_train, target_test = train_test_split(\n",
    "    features, target, shuffle=False, test_size=0.1, random_state=12345)\n",
    "\n",
    "# и сделаем валидационные выборки\n",
    "features_train, features_val, target_train, target_val = train_test_split(\n",
    "    features_train, target_train, shuffle=False, test_size=0.1, random_state=12345\n",
    ")"
   ]
  },
  {
   "cell_type": "markdown",
   "metadata": {},
   "source": [
    "Создали признаки, класс, разбили на три выборки."
   ]
  },
  {
   "cell_type": "markdown",
   "metadata": {},
   "source": [
    "### Обучение моделей"
   ]
  },
  {
   "cell_type": "markdown",
   "metadata": {},
   "source": [
    "Мы будем создавать модели LinearRegression, RandomForestRegressor, DecisionTreeRegressor, LightGBM и CatBoostRegressor.\n",
    "\n",
    "Результаты сразу запишем, чтобы потом подытожить."
   ]
  },
  {
   "cell_type": "code",
   "execution_count": 17,
   "metadata": {},
   "outputs": [],
   "source": [
    "all_results = {}"
   ]
  },
  {
   "cell_type": "markdown",
   "metadata": {},
   "source": [
    "#### LinearRegression"
   ]
  },
  {
   "cell_type": "code",
   "execution_count": 18,
   "metadata": {},
   "outputs": [
    {
     "name": "stdout",
     "output_type": "stream",
     "text": [
      "\n",
      "LinearRegression\n",
      "Лучшая модель: RMSE 32.46973682149665\n",
      "Скорость обучения: 0.004170894622802734\n",
      "Скорость предсказания: 0.0019860267639160156\n",
      "Параметры: {}\n",
      "\n",
      "LinearRegression показала минимальную RMSE 32.47\n"
     ]
    }
   ],
   "source": [
    "model_name = 'LinearRegression'\n",
    "# параметры для тестирования\n",
    "\n",
    "print()\n",
    "print(f\"{model_name}\")\n",
    "\n",
    "model = LinearRegression()\n",
    "\n",
    "start_learn = time.time()\n",
    "model.fit(features_train, target_train)\n",
    "end_learn = time.time()\n",
    "\n",
    "start_predict = time.time()\n",
    "predictions = model.predict(features_val)\n",
    "end_predict = time.time()\n",
    "\n",
    "rmse = mean_squared_error(target_val, predictions, squared=False)\n",
    "   \n",
    "result = {\n",
    "    'params':{},\n",
    "    'result':{\n",
    "        'rmse':rmse,\n",
    "        'time_learn':(end_learn - start_learn),\n",
    "        'time_predict':(end_predict - start_predict)\n",
    "    },\n",
    "    'model': model\n",
    "}\n",
    "\n",
    "all_results[model_name] = result\n",
    "\n",
    "print(f\"Лучшая модель: RMSE {result['result']['rmse']}\")\n",
    "print(f\"Скорость обучения: {result['result']['time_learn']}\")\n",
    "print(f\"Скорость предсказания: {result['result']['time_predict']}\")\n",
    "print('Параметры:',result['params'])\n",
    "print()\n",
    "print(f\"{model_name} показала минимальную RMSE {round(result['result']['rmse'],2)}\")"
   ]
  },
  {
   "cell_type": "markdown",
   "metadata": {},
   "source": [
    "#### RandomForestRegressor"
   ]
  },
  {
   "cell_type": "code",
   "execution_count": 19,
   "metadata": {},
   "outputs": [
    {
     "data": {
      "application/vnd.jupyter.widget-view+json": {
       "model_id": "1eae2cb822ec4873ada2a7b9b7d41fd4",
       "version_major": 2,
       "version_minor": 0
      },
      "text/plain": [
       "  0%|          | 0/9 [00:00<?, ?it/s]"
      ]
     },
     "metadata": {},
     "output_type": "display_data"
    },
    {
     "name": "stdout",
     "output_type": "stream",
     "text": [
      "\n",
      "RandomForestRegressor\n",
      "\n",
      "RMSE = 34.0382924791792\n",
      "Параметры: max_depth=12, n_estimators=300\n",
      "Время обучения: 4.959192752838135, Предсказания 0.03842973709106445\n",
      "\n",
      "RMSE = 33.89526204803675\n",
      "Параметры: max_depth=12, n_estimators=600\n",
      "Время обучения: 11.773017883300781, Предсказания 0.08172750473022461\n",
      "\n",
      "RMSE = 33.90844682188985\n",
      "Параметры: max_depth=12, n_estimators=900\n",
      "Время обучения: 14.546697616577148, Предсказания 0.11817383766174316\n",
      "\n",
      "RMSE = 33.96869546953762\n",
      "Параметры: max_depth=14, n_estimators=300\n",
      "Время обучения: 5.349737644195557, Предсказания 0.05336451530456543\n",
      "\n",
      "RMSE = 33.83883850184938\n",
      "Параметры: max_depth=14, n_estimators=600\n",
      "Время обучения: 10.709139585494995, Предсказания 0.08291769027709961\n",
      "\n",
      "RMSE = 33.86108864206535\n",
      "Параметры: max_depth=14, n_estimators=900\n",
      "Время обучения: 16.172160625457764, Предсказания 0.1257479190826416\n",
      "\n",
      "RMSE = 33.86375744341343\n",
      "Параметры: max_depth=16, n_estimators=300\n",
      "Время обучения: 5.60130500793457, Предсказания 0.045064449310302734\n",
      "\n",
      "RMSE = 33.82604204687284\n",
      "Параметры: max_depth=16, n_estimators=600\n",
      "Время обучения: 11.209731578826904, Предсказания 0.09274506568908691\n",
      "\n",
      "RMSE = 33.887496711793425\n",
      "Параметры: max_depth=16, n_estimators=900\n",
      "Время обучения: 17.122314453125, Предсказания 0.12777304649353027\n",
      "\n",
      "\n"
     ]
    }
   ],
   "source": [
    "model_name = 'RandomForestRegressor'\n",
    "\n",
    "p_max_depth = range(12,17,2)\n",
    "p_n_estimators = range(300,901,300)\n",
    "\n",
    "pbar = tqdm(total=len(p_max_depth)*len(p_n_estimators))\n",
    "\n",
    "print()\n",
    "print(f\"{model_name}\")\n",
    "\n",
    "min_rmse = 10**10\n",
    "for max_depth in p_max_depth:\n",
    "    for n_estimators in p_n_estimators:\n",
    "    \n",
    "        model = RandomForestRegressor(\n",
    "            n_estimators=n_estimators,\n",
    "            max_depth=max_depth,\n",
    "            random_state=12345\n",
    "        )\n",
    "\n",
    "        start_learn = time.time()\n",
    "        model.fit(features_train, target_train)\n",
    "        end_learn = time.time()\n",
    "        \n",
    "        start_predict = time.time()\n",
    "        predictions = model.predict(features_val)\n",
    "        end_predict = time.time()\n",
    "\n",
    "        rmse = mean_squared_error(target_val, predictions, squared=False)\n",
    "        \n",
    "        print()\n",
    "        print('RMSE =',rmse)\n",
    "        print(f'Параметры: max_depth={max_depth}, n_estimators={n_estimators}')\n",
    "        print(f'Время обучения: {(end_learn - start_learn)}, Предсказания {(end_predict - start_predict)}')\n",
    "        \n",
    "        if(rmse<min_rmse):\n",
    "            min_rmse=rmse\n",
    "            result = {\n",
    "                'params':{\n",
    "                    'n_estimators':n_estimators,\n",
    "                    'max_depth':max_depth\n",
    "                },\n",
    "                'result':{\n",
    "                    'rmse':rmse,\n",
    "                    'time_learn':(end_learn - start_learn),\n",
    "                    'time_predict':(end_predict - start_predict)\n",
    "                },\n",
    "                'model': model\n",
    "            }\n",
    "        pbar.update()\n",
    "pbar.close()\n",
    "\n",
    "print()\n",
    "print()\n",
    "\n",
    "all_results[model_name] = result"
   ]
  },
  {
   "cell_type": "code",
   "execution_count": 20,
   "metadata": {},
   "outputs": [
    {
     "name": "stdout",
     "output_type": "stream",
     "text": [
      "Лучшая модель: RMSE 33.82604204687284\n",
      "Скорость обучения: 11.209731578826904\n",
      "Скорость предсказания: 0.09274506568908691\n",
      "Параметры: {'n_estimators': 600, 'max_depth': 16}\n",
      "\n",
      "RandomForestRegressor показала минимальную RMSE 33.83\n"
     ]
    }
   ],
   "source": [
    "print(f\"Лучшая модель: RMSE {result['result']['rmse']}\")\n",
    "print(f\"Скорость обучения: {result['result']['time_learn']}\")\n",
    "print(f\"Скорость предсказания: {result['result']['time_predict']}\")\n",
    "print('Параметры:',result['params'])\n",
    "print()\n",
    "print(f\"{model_name} показала минимальную RMSE {round(result['result']['rmse'],2)}\")"
   ]
  },
  {
   "cell_type": "markdown",
   "metadata": {},
   "source": [
    "#### DecisionTreeRegressor"
   ]
  },
  {
   "cell_type": "code",
   "execution_count": 21,
   "metadata": {},
   "outputs": [
    {
     "data": {
      "application/vnd.jupyter.widget-view+json": {
       "model_id": "abe485afcccf41f09b9b348c47a103b1",
       "version_major": 2,
       "version_minor": 0
      },
      "text/plain": [
       "  0%|          | 0/5 [00:00<?, ?it/s]"
      ]
     },
     "metadata": {},
     "output_type": "display_data"
    },
    {
     "name": "stdout",
     "output_type": "stream",
     "text": [
      "\n",
      "DecisionTreeRegressor\n",
      "\n",
      "RMSE = 37.93970992576506\n",
      "Параметры: max_depth=3\n",
      "Время обучения: 0.009517669677734375, Предсказания 0.0018439292907714844\n",
      "\n",
      "RMSE = 37.34863801942074\n",
      "Параметры: max_depth=4\n",
      "Время обучения: 0.009885311126708984, Предсказания 0.0014395713806152344\n",
      "\n",
      "RMSE = 36.768802710829725\n",
      "Параметры: max_depth=5\n",
      "Время обучения: 0.012287616729736328, Предсказания 0.0014498233795166016\n",
      "\n",
      "RMSE = 39.94638040468849\n",
      "Параметры: max_depth=6\n",
      "Время обучения: 0.013338088989257812, Предсказания 0.0014181137084960938\n",
      "\n",
      "RMSE = 42.233385841249515\n",
      "Параметры: max_depth=7\n",
      "Время обучения: 0.034996986389160156, Предсказания 0.001971006393432617\n",
      "\n",
      "\n"
     ]
    }
   ],
   "source": [
    "model_name = 'DecisionTreeRegressor'\n",
    "\n",
    "p_max_depth = range(3,8,1)\n",
    "\n",
    "pbar = tqdm(total=len(p_max_depth))\n",
    "\n",
    "print()\n",
    "print(f\"{model_name}\")\n",
    "\n",
    "min_rmse = 10**10\n",
    "for max_depth in p_max_depth:\n",
    "\n",
    "    model = DecisionTreeRegressor(\n",
    "        max_depth=max_depth,\n",
    "        random_state=12345\n",
    "    )\n",
    "\n",
    "    start_learn = time.time()\n",
    "    model.fit(features_train, target_train)\n",
    "    end_learn = time.time()\n",
    "\n",
    "    start_predict = time.time()\n",
    "    predictions = model.predict(features_val)\n",
    "    end_predict = time.time()\n",
    "\n",
    "    rmse = mean_squared_error(target_val, predictions, squared=False)\n",
    "\n",
    "    print()\n",
    "    print('RMSE =',rmse)\n",
    "    print(f'Параметры: max_depth={max_depth}')\n",
    "    print(f'Время обучения: {(end_learn - start_learn)}, Предсказания {(end_predict - start_predict)}')\n",
    "\n",
    "    if(rmse<min_rmse):\n",
    "        min_rmse=rmse\n",
    "        result = {\n",
    "            'params':{\n",
    "                'max_depth':max_depth\n",
    "            },\n",
    "            'result':{\n",
    "                'rmse':rmse,\n",
    "                'time_learn':(end_learn - start_learn),\n",
    "                'time_predict':(end_predict - start_predict)\n",
    "            },\n",
    "            'model': model\n",
    "        }\n",
    "    pbar.update()\n",
    "pbar.close()\n",
    "\n",
    "print()\n",
    "print()\n",
    "\n",
    "all_results[model_name] = result"
   ]
  },
  {
   "cell_type": "code",
   "execution_count": 22,
   "metadata": {},
   "outputs": [
    {
     "name": "stdout",
     "output_type": "stream",
     "text": [
      "Лучшая модель: RMSE 36.768802710829725\n",
      "Скорость обучения: 0.012287616729736328\n",
      "Скорость предсказания: 0.0014498233795166016\n",
      "Параметры: {'max_depth': 5}\n",
      "\n",
      "DecisionTreeRegressor показала минимальную RMSE 36.77\n"
     ]
    }
   ],
   "source": [
    "print(f\"Лучшая модель: RMSE {result['result']['rmse']}\")\n",
    "print(f\"Скорость обучения: {result['result']['time_learn']}\")\n",
    "print(f\"Скорость предсказания: {result['result']['time_predict']}\")\n",
    "print('Параметры:',result['params'])\n",
    "print()\n",
    "print(f\"{model_name} показала минимальную RMSE {round(result['result']['rmse'],2)}\")"
   ]
  },
  {
   "cell_type": "markdown",
   "metadata": {},
   "source": [
    "#### LightGBM"
   ]
  },
  {
   "cell_type": "code",
   "execution_count": 23,
   "metadata": {},
   "outputs": [
    {
     "data": {
      "application/vnd.jupyter.widget-view+json": {
       "model_id": "9c83c84a95484388ba842b3d7f60bb18",
       "version_major": 2,
       "version_minor": 0
      },
      "text/plain": [
       "  0%|          | 0/1 [00:00<?, ?it/s]"
      ]
     },
     "metadata": {},
     "output_type": "display_data"
    },
    {
     "name": "stdout",
     "output_type": "stream",
     "text": [
      "\n",
      "LightGBM\n",
      "\n",
      "RMSE = 31.56070488845502\n",
      "Параметры: max_depth=8, num_iterations=50\n",
      "Время обучения: 0.45423364639282227, Предсказания 0.09446883201599121\n",
      "\n",
      "\n"
     ]
    }
   ],
   "source": [
    "model_name = 'LightGBM'\n",
    "\n",
    "# на локальной машине с гпу гонял, - результаты от перебора пар-в почти не меняются\n",
    "#p_iters = range(50,451,50)\n",
    "#p_depth = range(4,13,2)\n",
    "p_iters = [50]\n",
    "p_depth = [8]\n",
    "\n",
    "pbar = tqdm(total=len(p_iters)*len(p_depth))\n",
    "\n",
    "print()\n",
    "print(f\"{model_name}\")\n",
    "\n",
    "min_rmse = 10**10\n",
    "for depth in p_depth:\n",
    "    for iterations in p_iters:\n",
    "    \n",
    "        model = lgb.LGBMRegressor(\n",
    "            metric='rmse',\n",
    "            num_iterations=iterations,\n",
    "            max_depth=depth,\n",
    "            random_seed=12345\n",
    "        )\n",
    "\n",
    "        start_learn = time.time()\n",
    "        model.fit(features_train, target_train, verbose=False)\n",
    "        end_learn = time.time()\n",
    "        \n",
    "        start_predict = time.time()\n",
    "        predictions = model.predict(features_val)\n",
    "        end_predict = time.time()\n",
    "\n",
    "        rmse = mean_squared_error(target_val, predictions, squared=False)\n",
    "        \n",
    "        print()\n",
    "        print('RMSE =',rmse)\n",
    "        print(f'Параметры: max_depth={depth}, num_iterations={iterations}')\n",
    "        print(f'Время обучения: {(end_learn - start_learn)}, Предсказания {(end_predict - start_predict)}')\n",
    "        \n",
    "        \n",
    "        if(rmse<min_rmse):\n",
    "            min_rmse=rmse\n",
    "            result = {\n",
    "                'params':{\n",
    "                    'num_iterations':iterations,\n",
    "                    'max_depth':depth\n",
    "                },\n",
    "                'result':{\n",
    "                    'rmse':rmse,\n",
    "                    'time_learn':(end_learn - start_learn),\n",
    "                    'time_predict':(end_predict - start_predict)\n",
    "                },\n",
    "                'model': model\n",
    "            }\n",
    "        pbar.update()\n",
    "pbar.close()\n",
    "\n",
    "print()\n",
    "print()\n",
    "all_results[model_name] = result"
   ]
  },
  {
   "cell_type": "code",
   "execution_count": 24,
   "metadata": {},
   "outputs": [
    {
     "name": "stdout",
     "output_type": "stream",
     "text": [
      "Лучшая модель: RMSE 31.56070488845502\n",
      "Скорость обучения: 0.45423364639282227\n",
      "Скорость предсказания: 0.09446883201599121\n",
      "Параметры: {'num_iterations': 50, 'max_depth': 8}\n",
      "\n",
      "LightGBM показала минимальную RMSE 31.56\n"
     ]
    }
   ],
   "source": [
    "print(f\"Лучшая модель: RMSE {result['result']['rmse']}\")\n",
    "print(f\"Скорость обучения: {result['result']['time_learn']}\")\n",
    "print(f\"Скорость предсказания: {result['result']['time_predict']}\")\n",
    "print('Параметры:',result['params'])\n",
    "print()\n",
    "print(f\"{model_name} показала минимальную RMSE {round(result['result']['rmse'],2)}\")"
   ]
  },
  {
   "cell_type": "markdown",
   "metadata": {},
   "source": [
    "#### CatBoostRegressor"
   ]
  },
  {
   "cell_type": "code",
   "execution_count": 25,
   "metadata": {},
   "outputs": [
    {
     "data": {
      "application/vnd.jupyter.widget-view+json": {
       "model_id": "04bfce35dd4b40cf8b46843bb4560393",
       "version_major": 2,
       "version_minor": 0
      },
      "text/plain": [
       "  0%|          | 0/16 [00:00<?, ?it/s]"
      ]
     },
     "metadata": {},
     "output_type": "display_data"
    },
    {
     "name": "stdout",
     "output_type": "stream",
     "text": [
      "\n",
      "CatBoostRegressor\n",
      "\n",
      "RMSE = 32.27557230553898\n",
      "Параметры: depth=2, iterations=25\n",
      "Время обучения: 0.9393606185913086, Предсказания 0.0014243125915527344\n",
      "\n",
      "RMSE = 31.27059600439107\n",
      "Параметры: depth=2, iterations=50\n",
      "Время обучения: 0.755692720413208, Предсказания 0.0010368824005126953\n",
      "\n",
      "RMSE = 30.823662590933516\n",
      "Параметры: depth=2, iterations=75\n",
      "Время обучения: 0.6603336334228516, Предсказания 0.0009007453918457031\n",
      "\n",
      "RMSE = 31.73062992218885\n",
      "Параметры: depth=2, iterations=100\n",
      "Время обучения: 0.7795720100402832, Предсказания 0.0010097026824951172\n",
      "\n",
      "RMSE = 32.1406759203037\n",
      "Параметры: depth=4, iterations=25\n",
      "Время обучения: 0.7300279140472412, Предсказания 0.0009694099426269531\n",
      "\n",
      "RMSE = 32.88420969674313\n",
      "Параметры: depth=4, iterations=50\n",
      "Время обучения: 0.5998423099517822, Предсказания 0.0009503364562988281\n",
      "\n",
      "RMSE = 31.20550014258281\n",
      "Параметры: depth=4, iterations=75\n",
      "Время обучения: 0.6431441307067871, Предсказания 0.0010724067687988281\n",
      "\n",
      "RMSE = 31.72172877802654\n",
      "Параметры: depth=4, iterations=100\n",
      "Время обучения: 0.6474785804748535, Предсказания 0.0010673999786376953\n",
      "\n",
      "RMSE = 32.132187253618305\n",
      "Параметры: depth=6, iterations=25\n",
      "Время обучения: 0.5783071517944336, Предсказания 0.001055002212524414\n",
      "\n",
      "RMSE = 33.22750459929328\n",
      "Параметры: depth=6, iterations=50\n",
      "Время обучения: 0.6395559310913086, Предсказания 0.0011105537414550781\n",
      "\n",
      "RMSE = 32.22726479373179\n",
      "Параметры: depth=6, iterations=75\n",
      "Время обучения: 0.7256786823272705, Предсказания 0.0010752677917480469\n",
      "\n",
      "RMSE = 32.590160604748135\n",
      "Параметры: depth=6, iterations=100\n",
      "Время обучения: 0.719944953918457, Предсказания 0.0010063648223876953\n",
      "\n",
      "RMSE = 33.3804120362964\n",
      "Параметры: depth=8, iterations=25\n",
      "Время обучения: 0.7158639430999756, Предсказания 0.0012407302856445312\n",
      "\n",
      "RMSE = 34.712723474739946\n",
      "Параметры: depth=8, iterations=50\n",
      "Время обучения: 0.8763363361358643, Предсказания 0.0010368824005126953\n",
      "\n",
      "RMSE = 32.020629966821765\n",
      "Параметры: depth=8, iterations=75\n",
      "Время обучения: 1.012251853942871, Предсказания 0.0011439323425292969\n",
      "\n",
      "RMSE = 32.04752532100153\n",
      "Параметры: depth=8, iterations=100\n",
      "Время обучения: 1.3708651065826416, Предсказания 0.0010051727294921875\n",
      "\n",
      "\n"
     ]
    }
   ],
   "source": [
    "model_name = 'CatBoostRegressor'\n",
    "\n",
    "p_iters = range(25,101,25)\n",
    "p_depth = range(2,9,2)\n",
    "\n",
    "pbar = tqdm(total=len(p_iters)*len(p_depth))\n",
    "\n",
    "print()\n",
    "print(f\"{model_name}\")\n",
    "\n",
    "min_rmse = 10**10\n",
    "for depth in p_depth:\n",
    "    for iterations in p_iters:\n",
    "    \n",
    "        model = CatBoostRegressor(\n",
    "            loss_function='RMSE',\n",
    "            iterations=iterations,\n",
    "            depth=depth,\n",
    "            random_seed=12345\n",
    "        )\n",
    "\n",
    "        start_learn = time.time()\n",
    "        model.fit(features_train, target_train, verbose=False)\n",
    "        end_learn = time.time()\n",
    "        \n",
    "        start_predict = time.time()\n",
    "        predictions = model.predict(features_val)\n",
    "        end_predict = time.time()\n",
    "\n",
    "        rmse = mean_squared_error(target_val, predictions, squared=False)\n",
    "        \n",
    "        print()\n",
    "        print('RMSE =',rmse)\n",
    "        print(f'Параметры: depth={depth}, iterations={iterations}')\n",
    "        print(f'Время обучения: {(end_learn - start_learn)}, Предсказания {(end_predict - start_predict)}')\n",
    "        \n",
    "        if(rmse<min_rmse):\n",
    "            min_rmse=rmse\n",
    "            result = {\n",
    "                'params':{\n",
    "                    'iterations':iterations,\n",
    "                    'depth':depth\n",
    "                },\n",
    "                'result':{\n",
    "                    'rmse':rmse,\n",
    "                    'time_learn':(end_learn - start_learn),\n",
    "                    'time_predict':(end_predict - start_predict)\n",
    "                },\n",
    "                'model': model\n",
    "            }\n",
    "        pbar.update()\n",
    "pbar.close()\n",
    "\n",
    "print()\n",
    "print()\n",
    "\n",
    "all_results[model_name] = result"
   ]
  },
  {
   "cell_type": "code",
   "execution_count": 26,
   "metadata": {},
   "outputs": [
    {
     "name": "stdout",
     "output_type": "stream",
     "text": [
      "Лучшая модель: RMSE 30.823662590933516\n",
      "Скорость обучения: 0.6603336334228516\n",
      "Скорость предсказания: 0.0009007453918457031\n",
      "Параметры: {'iterations': 75, 'depth': 2}\n",
      "\n",
      "CatBoostRegressor показала минимальную RMSE 30.82\n"
     ]
    }
   ],
   "source": [
    "print(f\"Лучшая модель: RMSE {result['result']['rmse']}\")\n",
    "print(f\"Скорость обучения: {result['result']['time_learn']}\")\n",
    "print(f\"Скорость предсказания: {result['result']['time_predict']}\")\n",
    "print('Параметры:',result['params'])\n",
    "print()\n",
    "print(f\"{model_name} показала минимальную RMSE {round(result['result']['rmse'],2)}\")"
   ]
  },
  {
   "cell_type": "markdown",
   "metadata": {},
   "source": [
    "#### Выводы"
   ]
  },
  {
   "cell_type": "markdown",
   "metadata": {},
   "source": [
    "**Посмотрим на сводную таблицу результатов по всем моделям**"
   ]
  },
  {
   "cell_type": "code",
   "execution_count": 27,
   "metadata": {
    "scrolled": true
   },
   "outputs": [
    {
     "data": {
      "text/html": [
       "<style  type=\"text/css\" >\n",
       "</style><table id=\"T_7eb6d_\" ><thead>    <tr>        <th class=\"col_heading level0 col0\" >Модель</th>        <th class=\"col_heading level0 col1\" >RMSE</th>        <th class=\"col_heading level0 col2\" >Скорость обучения</th>        <th class=\"col_heading level0 col3\" >Скорость предсказания</th>        <th class=\"col_heading level0 col4\" >Параметры</th>    </tr></thead><tbody>\n",
       "                <tr>\n",
       "                                <td id=\"T_7eb6d_row0_col0\" class=\"data row0 col0\" >CatBoostRegressor</td>\n",
       "                        <td id=\"T_7eb6d_row0_col1\" class=\"data row0 col1\" >30.820000</td>\n",
       "                        <td id=\"T_7eb6d_row0_col2\" class=\"data row0 col2\" >0.66 сек.</td>\n",
       "                        <td id=\"T_7eb6d_row0_col3\" class=\"data row0 col3\" >0.001 сек.</td>\n",
       "                        <td id=\"T_7eb6d_row0_col4\" class=\"data row0 col4\" >{'iterations': 75, 'depth': 2}</td>\n",
       "            </tr>\n",
       "            <tr>\n",
       "                                <td id=\"T_7eb6d_row1_col0\" class=\"data row1 col0\" >LightGBM</td>\n",
       "                        <td id=\"T_7eb6d_row1_col1\" class=\"data row1 col1\" >31.560000</td>\n",
       "                        <td id=\"T_7eb6d_row1_col2\" class=\"data row1 col2\" >0.454 сек.</td>\n",
       "                        <td id=\"T_7eb6d_row1_col3\" class=\"data row1 col3\" >0.094 сек.</td>\n",
       "                        <td id=\"T_7eb6d_row1_col4\" class=\"data row1 col4\" >{'num_iterations': 50, 'max_depth': 8}</td>\n",
       "            </tr>\n",
       "            <tr>\n",
       "                                <td id=\"T_7eb6d_row2_col0\" class=\"data row2 col0\" >LinearRegression</td>\n",
       "                        <td id=\"T_7eb6d_row2_col1\" class=\"data row2 col1\" >32.470000</td>\n",
       "                        <td id=\"T_7eb6d_row2_col2\" class=\"data row2 col2\" >0.004 сек.</td>\n",
       "                        <td id=\"T_7eb6d_row2_col3\" class=\"data row2 col3\" >0.002 сек.</td>\n",
       "                        <td id=\"T_7eb6d_row2_col4\" class=\"data row2 col4\" >{}</td>\n",
       "            </tr>\n",
       "            <tr>\n",
       "                                <td id=\"T_7eb6d_row3_col0\" class=\"data row3 col0\" >RandomForestRegressor</td>\n",
       "                        <td id=\"T_7eb6d_row3_col1\" class=\"data row3 col1\" >33.830000</td>\n",
       "                        <td id=\"T_7eb6d_row3_col2\" class=\"data row3 col2\" >11.21 сек.</td>\n",
       "                        <td id=\"T_7eb6d_row3_col3\" class=\"data row3 col3\" >0.093 сек.</td>\n",
       "                        <td id=\"T_7eb6d_row3_col4\" class=\"data row3 col4\" >{'n_estimators': 600, 'max_depth': 16}</td>\n",
       "            </tr>\n",
       "            <tr>\n",
       "                                <td id=\"T_7eb6d_row4_col0\" class=\"data row4 col0\" >DecisionTreeRegressor</td>\n",
       "                        <td id=\"T_7eb6d_row4_col1\" class=\"data row4 col1\" >36.770000</td>\n",
       "                        <td id=\"T_7eb6d_row4_col2\" class=\"data row4 col2\" >0.012 сек.</td>\n",
       "                        <td id=\"T_7eb6d_row4_col3\" class=\"data row4 col3\" >0.001 сек.</td>\n",
       "                        <td id=\"T_7eb6d_row4_col4\" class=\"data row4 col4\" >{'max_depth': 5}</td>\n",
       "            </tr>\n",
       "    </tbody></table>"
      ],
      "text/plain": [
       "<pandas.io.formats.style.Styler at 0x7f50cf803d30>"
      ]
     },
     "execution_count": 27,
     "metadata": {},
     "output_type": "execute_result"
    }
   ],
   "source": [
    "df_data = []\n",
    "for model, model_result in all_results.items():\n",
    "    df_data.append([\n",
    "        model,\n",
    "        round(model_result['result']['rmse'],2),\n",
    "        str(round(model_result['result']['time_learn'],3))+' сек.',\n",
    "        str(round(model_result['result']['time_predict'],3))+' сек.',\n",
    "        str(model_result['params'])\n",
    "    ])\n",
    "df = pd.DataFrame(df_data, columns=['Модель', 'RMSE',\n",
    "                                    'Скорость обучения', 'Скорость предсказания', 'Параметры'])\n",
    "df = df.sort_values('RMSE',ascending=True)\n",
    "df.style.hide_index()"
   ]
  },
  {
   "cell_type": "markdown",
   "metadata": {},
   "source": [
    "**Как мы видим по предсказанию на валидационной выборке:**\n",
    "- Все модели показали RMSE меньше максимально допустимого (48).\n",
    "- Самая большая ошибка у модели DecisionTreeRegressor\n",
    "- Самая малая ошибка у модели CatBoostRegressor"
   ]
  },
  {
   "cell_type": "markdown",
   "metadata": {},
   "source": [
    "**Лучшая модель:**\n",
    "- CatBoostRegressor\t\n",
    "    RMSE (valid) 30.82\n",
    "    Скорость обучения\t3.864 сек.\n",
    "    Скорость предсказания\t0.001 сек.\t\n",
    "    Параметры `{'iterations': 75, 'depth': 2}`"
   ]
  },
  {
   "cell_type": "markdown",
   "metadata": {},
   "source": [
    "## Тестирование"
   ]
  },
  {
   "cell_type": "markdown",
   "metadata": {},
   "source": [
    "**Протестируем лучшую модель на тестовой выборке.**\n",
    "\n",
    "Значение метрики RMSE на тестовой выборке должно быть не больше 48."
   ]
  },
  {
   "cell_type": "code",
   "execution_count": 30,
   "metadata": {},
   "outputs": [
    {
     "data": {
      "text/html": [
       "<style  type=\"text/css\" >\n",
       "</style><table id=\"T_33e59_\" ><thead>    <tr>        <th class=\"col_heading level0 col0\" >Модель</th>        <th class=\"col_heading level0 col1\" >RMSE TEST</th>        <th class=\"col_heading level0 col2\" >RMSE valid</th>        <th class=\"col_heading level0 col3\" >Скорость обучения</th>        <th class=\"col_heading level0 col4\" >Скорость предск. TEST</th>        <th class=\"col_heading level0 col5\" >Параметры</th>    </tr></thead><tbody>\n",
       "                <tr>\n",
       "                                <td id=\"T_33e59_row0_col0\" class=\"data row0 col0\" >CatBoostRegressor</td>\n",
       "                        <td id=\"T_33e59_row0_col1\" class=\"data row0 col1\" >47.310000</td>\n",
       "                        <td id=\"T_33e59_row0_col2\" class=\"data row0 col2\" >30.820000</td>\n",
       "                        <td id=\"T_33e59_row0_col3\" class=\"data row0 col3\" >0.66 сек.</td>\n",
       "                        <td id=\"T_33e59_row0_col4\" class=\"data row0 col4\" >0.001 сек.</td>\n",
       "                        <td id=\"T_33e59_row0_col5\" class=\"data row0 col5\" >{'iterations': 75, 'depth': 2}</td>\n",
       "            </tr>\n",
       "    </tbody></table>"
      ],
      "text/plain": [
       "<pandas.io.formats.style.Styler at 0x7f50cf9b20d0>"
      ]
     },
     "execution_count": 30,
     "metadata": {},
     "output_type": "execute_result"
    }
   ],
   "source": [
    "df_data = []\n",
    "\n",
    "top_model = all_results['CatBoostRegressor']['model']\n",
    "\n",
    "# делаем предсказание сохраненной лучшей моделью по тестовым данным\n",
    "start_predict = time.time()\n",
    "predictions_test = top_model.predict(features_test)    \n",
    "end_predict = time.time()\n",
    "\n",
    "# считаем rmse test\n",
    "rmse_test = mean_squared_error(target_test, predictions_test, squared=False)\n",
    "\n",
    "df_data.append([\n",
    "    'CatBoostRegressor',\n",
    "    round(rmse_test,2),\n",
    "    round(all_results['CatBoostRegressor']['result']['rmse'],2),\n",
    "    str(round(all_results['CatBoostRegressor']['result']['time_learn'],3))+' сек.',\n",
    "    str(round((end_predict-start_predict),3))+' сек.',\n",
    "    str(all_results['CatBoostRegressor']['params'])\n",
    "])\n",
    "df = pd.DataFrame(df_data, columns=['Модель', 'RMSE TEST', 'RMSE valid',\n",
    "                                    'Скорость обучения', 'Скорость предск. TEST', 'Параметры'])\n",
    "\n",
    "df = df.sort_values('RMSE TEST',ascending=True)\n",
    "df.style.hide_index()"
   ]
  },
  {
   "cell_type": "markdown",
   "metadata": {},
   "source": [
    "Как мы видим, модель CatBoostRegressor показывает RMSE=47.31 (меньше максимально допустимиого 48) на тестовой выборке.\n",
    "\n",
    "**Задача решена.**"
   ]
  },
  {
   "cell_type": "markdown",
   "metadata": {},
   "source": [
    "## Общий вывод"
   ]
  },
  {
   "cell_type": "markdown",
   "metadata": {},
   "source": [
    "Перед нами стояли следующие цели и задачи:\n",
    "\n",
    "**Цель проекта:** Постройте модель для предсказания количество заказов такси на следующий час.\n",
    "\n",
    "**Условия задачи:** Значение метрики *RMSE* на тестовой выборке должно быть не больше 48.\n",
    "\n",
    "**Мы выполнили работы:**\n",
    "\n",
    "1. Загрузили, изучили и обработали данные\n",
    "    - загрузили и изучили данные\n",
    "    - проверили дубликаты, пропуски, выбросы\n",
    "\n",
    "\n",
    "2. Выполнили ресемплирование данных по одному часу.\n",
    "    - проверили монотонность индекса (успешно)\n",
    "    - ресемплировали данные по одному часу, проверили\n",
    "    \n",
    "\n",
    "3. Проанализировали данные\n",
    "\n",
    "    Посмотрели на трендовую, сезонную и шумовую составляющие данных:\n",
    "    - тренд равномерного роста заказов с периодическими небольшими просадками\n",
    "    - сезонность по дням - спады заказов ночью, скачки роста утром, в обед и пик - вечером.\n",
    "    \n",
    "    \n",
    "4. Обучили модели\n",
    "\n",
    "    4.1. Подготовили признаки с учетом особенностей данных.   \n",
    "    4.2. Сделали тесестовую выборку размером 10% от исходных данных, валидационную 10% от обучающей.  \n",
    "    4.3. Обучить разные модели с различными гиперпараметрами и нашли лучшие:\n",
    "    \n",
    "        По результатам прогнозирования по валидационной выборке:\n",
    "    \n",
    "        - LinearRegression\n",
    "        LinearRegression показала минимальную RMSE 32.47\n",
    "        \n",
    "        - RandomForestRegressor\n",
    "        RandomForestRegressor показала минимальную RMSE 33.83\n",
    "        Параметры: {'n_estimators': 600, 'max_depth': 16}\n",
    "\n",
    "\n",
    "        - DecisionTreeRegressor\n",
    "        DecisionTreeRegressor показала минимальную RMSE 36.77\n",
    "        Параметры: {'max_depth': 5}\n",
    "\n",
    "        - LightGBM (очень долго учится)\n",
    "        LightGBM показала минимальную RMSE 31.56\n",
    "        Параметры: {'num_iterations': 50, 'max_depth': 8}\n",
    "\n",
    "        - CatBoostRegressor\n",
    "        CatBoostRegressor показала минимальную RMSE 30.82\n",
    "        Параметры: {'iterations': 75, 'depth': 2}\n",
    "        \n",
    "        - Все модели показали RMSE меньше максимально допустимого (48).\n",
    "        - Самая большая ошибка у модели DecisionTreeRegressor\n",
    "        - Самая малая ошибка у модели CatBoostRegressor\n",
    "        \n",
    "        Лучшая модель:\n",
    "        - CatBoostRegressor\t\n",
    "            RMSE (valid) 30.82\n",
    "            Скорость обучения\t3.864 сек.\n",
    "            Скорость предсказания\t0.001 сек.\t\n",
    "            Параметры `{'iterations': 75, 'depth': 2}`\n",
    "    \n",
    "    \n",
    "5. Проверили данные на тестовой выборке и сделали выводы.\n",
    "\n",
    "   Модель CatBoostRegressor показывает RMSE=47.31 (меньше максимально допустимиого 48) на тестовой выборке.\n",
    "\n",
    "    Поставленные задачи выполнены."
   ]
  },
  {
   "cell_type": "code",
   "execution_count": null,
   "metadata": {},
   "outputs": [],
   "source": []
  }
 ],
 "metadata": {
  "ExecuteTimeLog": [
   {
    "duration": 1303,
    "start_time": "2023-03-31T11:49:07.515Z"
   },
   {
    "duration": 6,
    "start_time": "2023-03-31T11:50:22.778Z"
   },
   {
    "duration": 43,
    "start_time": "2023-03-31T11:50:29.112Z"
   },
   {
    "duration": 39,
    "start_time": "2023-03-31T11:50:30.687Z"
   },
   {
    "duration": 108,
    "start_time": "2023-03-31T11:51:01.068Z"
   },
   {
    "duration": 6,
    "start_time": "2023-03-31T11:51:04.860Z"
   },
   {
    "duration": 40,
    "start_time": "2023-03-31T11:51:20.553Z"
   },
   {
    "duration": 32,
    "start_time": "2023-03-31T11:51:20.739Z"
   },
   {
    "duration": 6,
    "start_time": "2023-03-31T11:51:21.728Z"
   },
   {
    "duration": 198,
    "start_time": "2023-03-31T11:51:45.926Z"
   },
   {
    "duration": 163,
    "start_time": "2023-03-31T11:51:49.886Z"
   },
   {
    "duration": 5,
    "start_time": "2023-03-31T11:52:17.709Z"
   },
   {
    "duration": 39,
    "start_time": "2023-03-31T11:52:18.999Z"
   },
   {
    "duration": 33,
    "start_time": "2023-03-31T11:52:20.129Z"
   },
   {
    "duration": 171,
    "start_time": "2023-03-31T11:52:38.050Z"
   },
   {
    "duration": 269,
    "start_time": "2023-03-31T11:53:20.581Z"
   },
   {
    "duration": 340,
    "start_time": "2023-03-31T11:53:56.902Z"
   },
   {
    "duration": 144,
    "start_time": "2023-03-31T11:54:20.971Z"
   },
   {
    "duration": 4,
    "start_time": "2023-03-31T11:59:25.423Z"
   },
   {
    "duration": 4,
    "start_time": "2023-03-31T11:59:36.839Z"
   },
   {
    "duration": 28,
    "start_time": "2023-03-31T11:59:55.312Z"
   },
   {
    "duration": 47,
    "start_time": "2023-03-31T12:01:18.500Z"
   },
   {
    "duration": 47,
    "start_time": "2023-03-31T12:01:33.110Z"
   },
   {
    "duration": 47,
    "start_time": "2023-03-31T12:01:57.560Z"
   },
   {
    "duration": 27,
    "start_time": "2023-03-31T12:01:58.167Z"
   },
   {
    "duration": 6,
    "start_time": "2023-03-31T12:01:58.842Z"
   },
   {
    "duration": 300,
    "start_time": "2023-03-31T12:01:59.321Z"
   },
   {
    "duration": 158,
    "start_time": "2023-03-31T12:02:00.244Z"
   },
   {
    "duration": 3,
    "start_time": "2023-03-31T12:02:02.038Z"
   },
   {
    "duration": 7,
    "start_time": "2023-03-31T12:02:02.941Z"
   },
   {
    "duration": 7,
    "start_time": "2023-03-31T12:02:11.276Z"
   },
   {
    "duration": 8,
    "start_time": "2023-03-31T12:02:19.836Z"
   },
   {
    "duration": 9,
    "start_time": "2023-03-31T12:02:20.952Z"
   },
   {
    "duration": 23,
    "start_time": "2023-03-31T12:03:38.457Z"
   },
   {
    "duration": 25,
    "start_time": "2023-03-31T12:03:47.767Z"
   },
   {
    "duration": 52,
    "start_time": "2023-03-31T12:04:13.104Z"
   },
   {
    "duration": 26,
    "start_time": "2023-03-31T12:04:13.462Z"
   },
   {
    "duration": 6,
    "start_time": "2023-03-31T12:04:17.893Z"
   },
   {
    "duration": 299,
    "start_time": "2023-03-31T12:04:18.259Z"
   },
   {
    "duration": 165,
    "start_time": "2023-03-31T12:04:18.560Z"
   },
   {
    "duration": 4,
    "start_time": "2023-03-31T12:04:19.727Z"
   },
   {
    "duration": 10,
    "start_time": "2023-03-31T12:04:20.376Z"
   },
   {
    "duration": 27,
    "start_time": "2023-03-31T12:06:15.670Z"
   },
   {
    "duration": 8,
    "start_time": "2023-03-31T12:06:50.422Z"
   },
   {
    "duration": 10,
    "start_time": "2023-03-31T12:07:54.327Z"
   },
   {
    "duration": 716,
    "start_time": "2023-03-31T12:07:57.546Z"
   },
   {
    "duration": 6,
    "start_time": "2023-03-31T12:08:16.188Z"
   },
   {
    "duration": 575,
    "start_time": "2023-03-31T12:08:19.254Z"
   },
   {
    "duration": 6,
    "start_time": "2023-03-31T12:08:26.463Z"
   },
   {
    "duration": 42,
    "start_time": "2023-03-31T12:08:26.859Z"
   },
   {
    "duration": 27,
    "start_time": "2023-03-31T12:08:27.126Z"
   },
   {
    "duration": 25,
    "start_time": "2023-03-31T12:08:27.376Z"
   },
   {
    "duration": 6,
    "start_time": "2023-03-31T12:08:27.954Z"
   },
   {
    "duration": 269,
    "start_time": "2023-03-31T12:08:28.437Z"
   },
   {
    "duration": 239,
    "start_time": "2023-03-31T12:08:30.211Z"
   },
   {
    "duration": 7,
    "start_time": "2023-03-31T12:09:02.884Z"
   },
   {
    "duration": 286,
    "start_time": "2023-03-31T12:09:05.286Z"
   },
   {
    "duration": 148,
    "start_time": "2023-03-31T12:09:06.574Z"
   },
   {
    "duration": 4,
    "start_time": "2023-03-31T12:09:08.311Z"
   },
   {
    "duration": 9,
    "start_time": "2023-03-31T12:09:08.690Z"
   },
   {
    "duration": 7,
    "start_time": "2023-03-31T12:09:09.418Z"
   },
   {
    "duration": 12,
    "start_time": "2023-03-31T12:09:09.645Z"
   },
   {
    "duration": 386,
    "start_time": "2023-03-31T12:09:16.269Z"
   },
   {
    "duration": 9,
    "start_time": "2023-03-31T12:09:36.875Z"
   },
   {
    "duration": 296,
    "start_time": "2023-03-31T12:09:40.923Z"
   },
   {
    "duration": 9,
    "start_time": "2023-03-31T12:09:49.818Z"
   },
   {
    "duration": 199,
    "start_time": "2023-03-31T12:09:53.013Z"
   },
   {
    "duration": 343,
    "start_time": "2023-03-31T12:10:02.587Z"
   },
   {
    "duration": 701,
    "start_time": "2023-03-31T12:12:03.250Z"
   },
   {
    "duration": 318,
    "start_time": "2023-03-31T12:14:08.421Z"
   },
   {
    "duration": 6,
    "start_time": "2023-03-31T12:15:22.384Z"
   },
   {
    "duration": 566,
    "start_time": "2023-03-31T12:15:25.845Z"
   },
   {
    "duration": 185,
    "start_time": "2023-03-31T12:15:28.269Z"
   },
   {
    "duration": 364,
    "start_time": "2023-03-31T12:15:29.388Z"
   },
   {
    "duration": 9,
    "start_time": "2023-03-31T12:34:34.001Z"
   },
   {
    "duration": 8,
    "start_time": "2023-03-31T12:35:43.581Z"
   },
   {
    "duration": 9,
    "start_time": "2023-03-31T12:36:45.129Z"
   },
   {
    "duration": 16,
    "start_time": "2023-03-31T12:36:49.883Z"
   },
   {
    "duration": 20,
    "start_time": "2023-03-31T12:39:05.913Z"
   },
   {
    "duration": 27,
    "start_time": "2023-03-31T12:39:21.299Z"
   },
   {
    "duration": 10,
    "start_time": "2023-03-31T12:40:11.703Z"
   },
   {
    "duration": 4,
    "start_time": "2023-03-31T12:40:20.308Z"
   },
   {
    "duration": 8,
    "start_time": "2023-03-31T12:41:37.691Z"
   },
   {
    "duration": 2,
    "start_time": "2023-03-31T12:42:58.845Z"
   },
   {
    "duration": 3,
    "start_time": "2023-03-31T12:44:10.073Z"
   },
   {
    "duration": 11,
    "start_time": "2023-03-31T12:44:41.408Z"
   },
   {
    "duration": 82,
    "start_time": "2023-03-31T12:45:13.176Z"
   },
   {
    "duration": 19,
    "start_time": "2023-03-31T12:45:16.734Z"
   },
   {
    "duration": 11,
    "start_time": "2023-03-31T12:45:35.205Z"
   },
   {
    "duration": 5,
    "start_time": "2023-03-31T12:45:44.833Z"
   },
   {
    "duration": 12,
    "start_time": "2023-03-31T12:49:25.129Z"
   },
   {
    "duration": 38,
    "start_time": "2023-03-31T12:49:38.090Z"
   },
   {
    "duration": 343,
    "start_time": "2023-03-31T12:49:47.070Z"
   },
   {
    "duration": 4466,
    "start_time": "2023-03-31T12:50:02.478Z"
   },
   {
    "duration": 5,
    "start_time": "2023-03-31T12:50:21.680Z"
   },
   {
    "duration": 4,
    "start_time": "2023-03-31T12:50:23.933Z"
   },
   {
    "duration": 38183,
    "start_time": "2023-03-31T12:50:52.312Z"
   },
   {
    "duration": 4,
    "start_time": "2023-03-31T12:51:55.849Z"
   },
   {
    "duration": 4,
    "start_time": "2023-03-31T12:52:02.694Z"
   },
   {
    "duration": 3,
    "start_time": "2023-03-31T12:52:06.608Z"
   },
   {
    "duration": 5,
    "start_time": "2023-03-31T12:52:13.018Z"
   },
   {
    "duration": 4,
    "start_time": "2023-03-31T12:52:17.481Z"
   },
   {
    "duration": 4,
    "start_time": "2023-03-31T12:52:22.208Z"
   },
   {
    "duration": 20949,
    "start_time": "2023-03-31T12:52:32.328Z"
   },
   {
    "duration": 5,
    "start_time": "2023-03-31T12:52:53.280Z"
   },
   {
    "duration": 12302,
    "start_time": "2023-03-31T12:53:20.757Z"
   },
   {
    "duration": 5,
    "start_time": "2023-03-31T12:53:35.092Z"
   },
   {
    "duration": 17,
    "start_time": "2023-03-31T12:55:18.244Z"
   },
   {
    "duration": 134,
    "start_time": "2023-03-31T12:55:31.762Z"
   },
   {
    "duration": 135,
    "start_time": "2023-03-31T12:55:47.937Z"
   },
   {
    "duration": 4,
    "start_time": "2023-03-31T12:56:35.957Z"
   },
   {
    "duration": 5,
    "start_time": "2023-03-31T12:56:41.468Z"
   },
   {
    "duration": 4,
    "start_time": "2023-03-31T12:56:49.696Z"
   },
   {
    "duration": 3,
    "start_time": "2023-03-31T12:56:55.204Z"
   },
   {
    "duration": 278,
    "start_time": "2023-03-31T12:57:05.263Z"
   },
   {
    "duration": 250,
    "start_time": "2023-03-31T12:57:15.774Z"
   },
   {
    "duration": 23,
    "start_time": "2023-03-31T12:57:32.129Z"
   },
   {
    "duration": 260,
    "start_time": "2023-03-31T12:57:40.379Z"
   },
   {
    "duration": 84,
    "start_time": "2023-03-31T12:57:53.191Z"
   },
   {
    "duration": 84,
    "start_time": "2023-03-31T12:57:59.130Z"
   },
   {
    "duration": 152,
    "start_time": "2023-03-31T12:58:07.556Z"
   },
   {
    "duration": 5,
    "start_time": "2023-03-31T12:58:19.630Z"
   },
   {
    "duration": 12487,
    "start_time": "2023-03-31T12:59:00.632Z"
   },
   {
    "duration": 5,
    "start_time": "2023-03-31T12:59:13.122Z"
   },
   {
    "duration": 163,
    "start_time": "2023-03-31T12:59:13.129Z"
   },
   {
    "duration": 4,
    "start_time": "2023-03-31T12:59:13.294Z"
   },
   {
    "duration": 7,
    "start_time": "2023-03-31T13:00:34.058Z"
   },
   {
    "duration": 3,
    "start_time": "2023-03-31T13:00:35.551Z"
   },
   {
    "duration": 11,
    "start_time": "2023-03-31T13:00:36.083Z"
   },
   {
    "duration": 5,
    "start_time": "2023-03-31T13:00:36.764Z"
   },
   {
    "duration": 12098,
    "start_time": "2023-03-31T13:00:39.391Z"
   },
   {
    "duration": 4,
    "start_time": "2023-03-31T13:00:51.491Z"
   },
   {
    "duration": 161,
    "start_time": "2023-03-31T13:00:51.496Z"
   },
   {
    "duration": 5,
    "start_time": "2023-03-31T13:00:51.658Z"
   },
   {
    "duration": 31,
    "start_time": "2023-03-31T13:01:39.882Z"
   },
   {
    "duration": 2593,
    "start_time": "2023-03-31T13:01:57.580Z"
   },
   {
    "duration": 4,
    "start_time": "2023-03-31T13:02:11.504Z"
   },
   {
    "duration": 22832,
    "start_time": "2023-03-31T13:02:30.741Z"
   },
   {
    "duration": 6,
    "start_time": "2023-03-31T13:02:53.575Z"
   },
   {
    "duration": 16886,
    "start_time": "2023-03-31T13:03:24.195Z"
   },
   {
    "duration": 7,
    "start_time": "2023-03-31T13:03:41.083Z"
   },
   {
    "duration": 25306,
    "start_time": "2023-03-31T13:04:03.372Z"
   },
   {
    "duration": 4,
    "start_time": "2023-03-31T13:04:28.680Z"
   },
   {
    "duration": 12716,
    "start_time": "2023-03-31T13:06:20.631Z"
   },
   {
    "duration": 4,
    "start_time": "2023-03-31T13:06:33.348Z"
   },
   {
    "duration": 17480,
    "start_time": "2023-03-31T13:06:46.886Z"
   },
   {
    "duration": 4,
    "start_time": "2023-03-31T13:07:04.367Z"
   },
   {
    "duration": 45,
    "start_time": "2023-03-31T13:07:56.311Z"
   },
   {
    "duration": 152,
    "start_time": "2023-03-31T13:16:11.413Z"
   },
   {
    "duration": 248,
    "start_time": "2023-03-31T13:16:18.026Z"
   },
   {
    "duration": 30,
    "start_time": "2023-03-31T13:16:41.526Z"
   },
   {
    "duration": 7,
    "start_time": "2023-03-31T13:16:53.043Z"
   },
   {
    "duration": 3,
    "start_time": "2023-03-31T13:16:54.801Z"
   },
   {
    "duration": 63,
    "start_time": "2023-03-31T13:16:55.618Z"
   },
   {
    "duration": 5,
    "start_time": "2023-03-31T13:16:58.646Z"
   },
   {
    "duration": 10888,
    "start_time": "2023-03-31T13:17:01.120Z"
   },
   {
    "duration": 4,
    "start_time": "2023-03-31T13:17:12.009Z"
   },
   {
    "duration": 173,
    "start_time": "2023-03-31T13:17:12.015Z"
   },
   {
    "duration": 4,
    "start_time": "2023-03-31T13:17:12.190Z"
   },
   {
    "duration": 9980,
    "start_time": "2023-03-31T13:17:12.195Z"
   },
   {
    "duration": 4,
    "start_time": "2023-03-31T13:17:22.177Z"
   },
   {
    "duration": 18149,
    "start_time": "2023-03-31T13:17:22.182Z"
   },
   {
    "duration": 4,
    "start_time": "2023-03-31T13:17:40.333Z"
   },
   {
    "duration": 27,
    "start_time": "2023-03-31T13:17:40.339Z"
   },
   {
    "duration": 212,
    "start_time": "2023-03-31T13:17:40.369Z"
   },
   {
    "duration": 34,
    "start_time": "2023-03-31T13:20:22.235Z"
   },
   {
    "duration": 8,
    "start_time": "2023-03-31T13:20:31.167Z"
   },
   {
    "duration": 2,
    "start_time": "2023-03-31T13:20:32.576Z"
   },
   {
    "duration": 18,
    "start_time": "2023-03-31T13:20:32.984Z"
   },
   {
    "duration": 5,
    "start_time": "2023-03-31T13:20:33.552Z"
   },
   {
    "duration": 17862,
    "start_time": "2023-03-31T13:20:35.650Z"
   },
   {
    "duration": 4,
    "start_time": "2023-03-31T13:20:53.514Z"
   },
   {
    "duration": 208,
    "start_time": "2023-03-31T13:20:53.519Z"
   },
   {
    "duration": 4,
    "start_time": "2023-03-31T13:20:53.728Z"
   },
   {
    "duration": 28242,
    "start_time": "2023-03-31T13:20:53.734Z"
   },
   {
    "duration": 5,
    "start_time": "2023-03-31T13:21:21.977Z"
   },
   {
    "duration": 26745,
    "start_time": "2023-03-31T13:21:21.983Z"
   },
   {
    "duration": 4,
    "start_time": "2023-03-31T13:21:48.730Z"
   },
   {
    "duration": 39,
    "start_time": "2023-03-31T13:21:48.735Z"
   },
   {
    "duration": 208,
    "start_time": "2023-03-31T13:21:48.777Z"
   },
   {
    "duration": 43,
    "start_time": "2023-03-31T13:23:57.602Z"
   },
   {
    "duration": 5,
    "start_time": "2023-03-31T13:26:03.700Z"
   },
   {
    "duration": 4,
    "start_time": "2023-03-31T13:26:17.821Z"
   },
   {
    "duration": 4,
    "start_time": "2023-03-31T13:26:57.757Z"
   },
   {
    "duration": 8,
    "start_time": "2023-03-31T13:29:59.241Z"
   },
   {
    "duration": 3,
    "start_time": "2023-03-31T13:30:02.715Z"
   },
   {
    "duration": 18,
    "start_time": "2023-03-31T13:30:04.132Z"
   },
   {
    "duration": 4,
    "start_time": "2023-03-31T13:30:04.426Z"
   },
   {
    "duration": 13,
    "start_time": "2023-03-31T13:30:10.495Z"
   },
   {
    "duration": 55,
    "start_time": "2023-03-31T13:34:24.538Z"
   },
   {
    "duration": 1799,
    "start_time": "2023-03-31T13:34:32.635Z"
   },
   {
    "duration": 56,
    "start_time": "2023-03-31T13:34:34.436Z"
   },
   {
    "duration": 28,
    "start_time": "2023-03-31T13:34:34.495Z"
   },
   {
    "duration": 26,
    "start_time": "2023-03-31T13:34:34.525Z"
   },
   {
    "duration": 4,
    "start_time": "2023-03-31T13:34:34.553Z"
   },
   {
    "duration": 322,
    "start_time": "2023-03-31T13:34:34.572Z"
   },
   {
    "duration": 159,
    "start_time": "2023-03-31T13:34:34.896Z"
   },
   {
    "duration": 4,
    "start_time": "2023-03-31T13:34:35.057Z"
   },
   {
    "duration": 40,
    "start_time": "2023-03-31T13:34:35.062Z"
   },
   {
    "duration": 84,
    "start_time": "2023-03-31T13:34:35.103Z"
   },
   {
    "duration": 642,
    "start_time": "2023-03-31T13:34:35.188Z"
   },
   {
    "duration": 251,
    "start_time": "2023-03-31T13:34:35.832Z"
   },
   {
    "duration": 390,
    "start_time": "2023-03-31T13:34:36.088Z"
   },
   {
    "duration": 32,
    "start_time": "2023-03-31T13:34:36.480Z"
   },
   {
    "duration": 7,
    "start_time": "2023-03-31T13:34:36.514Z"
   },
   {
    "duration": 13,
    "start_time": "2023-03-31T13:34:36.522Z"
   },
   {
    "duration": 50,
    "start_time": "2023-03-31T13:34:36.536Z"
   },
   {
    "duration": 1476,
    "start_time": "2023-03-31T13:38:47.753Z"
   },
   {
    "duration": 55,
    "start_time": "2023-03-31T13:38:49.231Z"
   },
   {
    "duration": 35,
    "start_time": "2023-03-31T13:38:49.288Z"
   },
   {
    "duration": 26,
    "start_time": "2023-03-31T13:38:49.325Z"
   },
   {
    "duration": 22,
    "start_time": "2023-03-31T13:38:49.352Z"
   },
   {
    "duration": 295,
    "start_time": "2023-03-31T13:38:49.528Z"
   },
   {
    "duration": 159,
    "start_time": "2023-03-31T13:38:49.825Z"
   },
   {
    "duration": 3,
    "start_time": "2023-03-31T13:38:51.756Z"
   },
   {
    "duration": 11,
    "start_time": "2023-03-31T13:38:52.291Z"
   },
   {
    "duration": 6,
    "start_time": "2023-03-31T13:38:55.663Z"
   },
   {
    "duration": 662,
    "start_time": "2023-03-31T13:38:55.841Z"
   },
   {
    "duration": 182,
    "start_time": "2023-03-31T13:38:56.504Z"
   },
   {
    "duration": 301,
    "start_time": "2023-03-31T13:38:56.688Z"
   },
   {
    "duration": 29,
    "start_time": "2023-03-31T13:39:10.135Z"
   },
   {
    "duration": 260,
    "start_time": "2023-03-31T13:39:24.091Z"
   },
   {
    "duration": 15,
    "start_time": "2023-03-31T13:39:50.179Z"
   },
   {
    "duration": 888,
    "start_time": "2023-03-31T13:40:25.911Z"
   },
   {
    "duration": 1048,
    "start_time": "2023-03-31T13:42:55.659Z"
   },
   {
    "duration": 760,
    "start_time": "2023-03-31T13:43:04.619Z"
   },
   {
    "duration": 8,
    "start_time": "2023-03-31T13:43:27.607Z"
   },
   {
    "duration": 2,
    "start_time": "2023-03-31T13:43:29.002Z"
   },
   {
    "duration": 10,
    "start_time": "2023-03-31T13:43:29.433Z"
   },
   {
    "duration": 29,
    "start_time": "2023-03-31T13:43:38.999Z"
   },
   {
    "duration": 9,
    "start_time": "2023-03-31T13:43:42.629Z"
   },
   {
    "duration": 2,
    "start_time": "2023-03-31T13:43:43.519Z"
   },
   {
    "duration": 14,
    "start_time": "2023-03-31T13:43:44.947Z"
   },
   {
    "duration": 817,
    "start_time": "2023-03-31T13:43:53.013Z"
   },
   {
    "duration": 667,
    "start_time": "2023-03-31T13:43:59.296Z"
   },
   {
    "duration": 8,
    "start_time": "2023-03-31T13:44:08.053Z"
   },
   {
    "duration": 3,
    "start_time": "2023-03-31T13:44:09.449Z"
   },
   {
    "duration": 11,
    "start_time": "2023-03-31T13:44:09.845Z"
   },
   {
    "duration": 298122,
    "start_time": "2023-03-31T13:44:10.214Z"
   },
   {
    "duration": 4,
    "start_time": "2023-03-31T13:49:08.337Z"
   },
   {
    "duration": 148,
    "start_time": "2023-03-31T13:49:08.343Z"
   },
   {
    "duration": 4,
    "start_time": "2023-03-31T13:49:08.493Z"
   },
   {
    "duration": 21475,
    "start_time": "2023-03-31T13:49:08.498Z"
   },
   {
    "duration": 4,
    "start_time": "2023-03-31T13:49:29.974Z"
   },
   {
    "duration": 228762,
    "start_time": "2023-03-31T13:49:29.979Z"
   },
   {
    "duration": 5,
    "start_time": "2023-03-31T13:53:18.742Z"
   },
   {
    "duration": 67,
    "start_time": "2023-03-31T13:53:18.748Z"
   },
   {
    "duration": 87,
    "start_time": "2023-03-31T13:53:18.817Z"
   },
   {
    "duration": 6,
    "start_time": "2023-03-31T13:56:25.061Z"
   },
   {
    "duration": 4,
    "start_time": "2023-03-31T14:09:16.272Z"
   },
   {
    "duration": 5,
    "start_time": "2023-03-31T14:10:07.365Z"
   },
   {
    "duration": 11,
    "start_time": "2023-03-31T14:11:52.525Z"
   },
   {
    "duration": 11,
    "start_time": "2023-03-31T14:11:57.918Z"
   },
   {
    "duration": 4647,
    "start_time": "2023-03-31T14:12:54.268Z"
   },
   {
    "duration": 32,
    "start_time": "2023-03-31T14:15:57.799Z"
   },
   {
    "duration": 930,
    "start_time": "2023-03-31T14:15:58.483Z"
   },
   {
    "duration": 54,
    "start_time": "2023-03-31T14:17:07.926Z"
   },
   {
    "duration": 3196,
    "start_time": "2023-03-31T14:17:09.708Z"
   },
   {
    "duration": 2648,
    "start_time": "2023-03-31T14:17:19.631Z"
   },
   {
    "duration": 11,
    "start_time": "2023-03-31T14:17:22.282Z"
   },
   {
    "duration": 3,
    "start_time": "2023-03-31T14:17:22.822Z"
   },
   {
    "duration": 13,
    "start_time": "2023-03-31T14:17:23.525Z"
   },
   {
    "duration": 105185,
    "start_time": "2023-03-31T14:17:28.168Z"
   },
   {
    "duration": 0,
    "start_time": "2023-03-31T14:19:13.355Z"
   },
   {
    "duration": 0,
    "start_time": "2023-03-31T14:19:13.356Z"
   },
   {
    "duration": 0,
    "start_time": "2023-03-31T14:19:13.357Z"
   },
   {
    "duration": 0,
    "start_time": "2023-03-31T14:19:13.357Z"
   },
   {
    "duration": 0,
    "start_time": "2023-03-31T14:19:13.358Z"
   },
   {
    "duration": 0,
    "start_time": "2023-03-31T14:19:13.359Z"
   },
   {
    "duration": 0,
    "start_time": "2023-03-31T14:19:13.360Z"
   },
   {
    "duration": 0,
    "start_time": "2023-03-31T14:19:13.378Z"
   },
   {
    "duration": 1521,
    "start_time": "2023-03-31T14:19:25.784Z"
   },
   {
    "duration": 48,
    "start_time": "2023-03-31T14:19:27.307Z"
   },
   {
    "duration": 29,
    "start_time": "2023-03-31T14:19:27.357Z"
   },
   {
    "duration": 28,
    "start_time": "2023-03-31T14:19:27.389Z"
   },
   {
    "duration": 6,
    "start_time": "2023-03-31T14:19:27.456Z"
   },
   {
    "duration": 307,
    "start_time": "2023-03-31T14:19:27.861Z"
   },
   {
    "duration": 145,
    "start_time": "2023-03-31T14:19:28.170Z"
   },
   {
    "duration": 5,
    "start_time": "2023-03-31T14:19:29.068Z"
   },
   {
    "duration": 11,
    "start_time": "2023-03-31T14:19:29.423Z"
   },
   {
    "duration": 7,
    "start_time": "2023-03-31T14:19:30.357Z"
   },
   {
    "duration": 661,
    "start_time": "2023-03-31T14:19:30.557Z"
   },
   {
    "duration": 193,
    "start_time": "2023-03-31T14:19:31.658Z"
   },
   {
    "duration": 294,
    "start_time": "2023-03-31T14:19:32.061Z"
   },
   {
    "duration": 50,
    "start_time": "2023-03-31T14:19:40.337Z"
   },
   {
    "duration": 3056,
    "start_time": "2023-03-31T14:19:46.511Z"
   },
   {
    "duration": 2667,
    "start_time": "2023-03-31T14:19:49.569Z"
   },
   {
    "duration": 6,
    "start_time": "2023-03-31T14:20:01.441Z"
   },
   {
    "duration": 3,
    "start_time": "2023-03-31T14:20:02.496Z"
   },
   {
    "duration": 131,
    "start_time": "2023-03-31T14:20:17.341Z"
   },
   {
    "duration": 15,
    "start_time": "2023-03-31T14:20:41.013Z"
   },
   {
    "duration": 1428,
    "start_time": "2023-03-31T14:28:36.621Z"
   },
   {
    "duration": 47,
    "start_time": "2023-03-31T14:28:38.051Z"
   },
   {
    "duration": 22,
    "start_time": "2023-03-31T14:28:38.100Z"
   },
   {
    "duration": 26,
    "start_time": "2023-03-31T14:28:38.124Z"
   },
   {
    "duration": 23,
    "start_time": "2023-03-31T14:28:38.152Z"
   },
   {
    "duration": 288,
    "start_time": "2023-03-31T14:28:38.177Z"
   },
   {
    "duration": 141,
    "start_time": "2023-03-31T14:28:38.472Z"
   },
   {
    "duration": 3,
    "start_time": "2023-03-31T14:28:38.615Z"
   },
   {
    "duration": 28,
    "start_time": "2023-03-31T14:28:38.620Z"
   },
   {
    "duration": 80,
    "start_time": "2023-03-31T14:28:38.650Z"
   },
   {
    "duration": 559,
    "start_time": "2023-03-31T14:28:38.731Z"
   },
   {
    "duration": 188,
    "start_time": "2023-03-31T14:28:39.292Z"
   },
   {
    "duration": 594,
    "start_time": "2023-03-31T14:28:39.481Z"
   },
   {
    "duration": 95,
    "start_time": "2023-03-31T14:28:40.078Z"
   },
   {
    "duration": 4483,
    "start_time": "2023-03-31T14:28:40.175Z"
   },
   {
    "duration": 2820,
    "start_time": "2023-03-31T14:28:44.660Z"
   },
   {
    "duration": 7,
    "start_time": "2023-03-31T14:28:47.482Z"
   },
   {
    "duration": 7,
    "start_time": "2023-03-31T14:28:47.490Z"
   },
   {
    "duration": 175,
    "start_time": "2023-03-31T14:28:47.498Z"
   },
   {
    "duration": 1683,
    "start_time": "2023-03-31T14:31:02.133Z"
   },
   {
    "duration": 2653,
    "start_time": "2023-03-31T14:31:11.078Z"
   },
   {
    "duration": 55,
    "start_time": "2023-03-31T14:31:13.734Z"
   },
   {
    "duration": 27,
    "start_time": "2023-03-31T14:31:13.791Z"
   },
   {
    "duration": 29,
    "start_time": "2023-03-31T14:31:13.819Z"
   },
   {
    "duration": 24,
    "start_time": "2023-03-31T14:31:13.850Z"
   },
   {
    "duration": 364,
    "start_time": "2023-03-31T14:31:13.876Z"
   },
   {
    "duration": 157,
    "start_time": "2023-03-31T14:31:14.242Z"
   },
   {
    "duration": 6,
    "start_time": "2023-03-31T14:31:14.401Z"
   },
   {
    "duration": 16,
    "start_time": "2023-03-31T14:31:14.408Z"
   },
   {
    "duration": 92,
    "start_time": "2023-03-31T14:31:14.425Z"
   },
   {
    "duration": 687,
    "start_time": "2023-03-31T14:31:14.519Z"
   },
   {
    "duration": 210,
    "start_time": "2023-03-31T14:31:15.208Z"
   },
   {
    "duration": 360,
    "start_time": "2023-03-31T14:31:15.420Z"
   },
   {
    "duration": 64,
    "start_time": "2023-03-31T14:31:15.783Z"
   },
   {
    "duration": 3207,
    "start_time": "2023-03-31T14:31:15.848Z"
   },
   {
    "duration": 2469,
    "start_time": "2023-03-31T14:31:19.057Z"
   },
   {
    "duration": 7,
    "start_time": "2023-03-31T14:31:21.528Z"
   },
   {
    "duration": 12,
    "start_time": "2023-03-31T14:31:21.536Z"
   },
   {
    "duration": 130,
    "start_time": "2023-03-31T14:31:21.549Z"
   },
   {
    "duration": 1450,
    "start_time": "2023-03-31T14:32:32.439Z"
   },
   {
    "duration": 49,
    "start_time": "2023-03-31T14:32:33.890Z"
   },
   {
    "duration": 24,
    "start_time": "2023-03-31T14:32:33.940Z"
   },
   {
    "duration": 25,
    "start_time": "2023-03-31T14:32:33.966Z"
   },
   {
    "duration": 5,
    "start_time": "2023-03-31T14:32:33.993Z"
   },
   {
    "duration": 305,
    "start_time": "2023-03-31T14:32:33.999Z"
   },
   {
    "duration": 149,
    "start_time": "2023-03-31T14:32:34.305Z"
   },
   {
    "duration": 4,
    "start_time": "2023-03-31T14:32:34.456Z"
   },
   {
    "duration": 30,
    "start_time": "2023-03-31T14:32:34.461Z"
   },
   {
    "duration": 82,
    "start_time": "2023-03-31T14:32:34.492Z"
   },
   {
    "duration": 623,
    "start_time": "2023-03-31T14:32:34.575Z"
   },
   {
    "duration": 392,
    "start_time": "2023-03-31T14:32:35.200Z"
   },
   {
    "duration": 713,
    "start_time": "2023-03-31T14:32:35.594Z"
   },
   {
    "duration": 164,
    "start_time": "2023-03-31T14:32:36.310Z"
   },
   {
    "duration": 3010,
    "start_time": "2023-03-31T14:32:36.476Z"
   },
   {
    "duration": 2461,
    "start_time": "2023-03-31T14:32:39.488Z"
   },
   {
    "duration": 7,
    "start_time": "2023-03-31T14:32:41.951Z"
   },
   {
    "duration": 14,
    "start_time": "2023-03-31T14:32:41.959Z"
   },
   {
    "duration": 199,
    "start_time": "2023-03-31T14:32:41.975Z"
   },
   {
    "duration": 205884,
    "start_time": "2023-03-31T14:32:42.176Z"
   },
   {
    "duration": 13,
    "start_time": "2023-03-31T14:36:08.062Z"
   },
   {
    "duration": 373,
    "start_time": "2023-03-31T14:36:08.076Z"
   },
   {
    "duration": 5,
    "start_time": "2023-03-31T14:36:08.451Z"
   },
   {
    "duration": 1957,
    "start_time": "2023-03-31T14:42:14.396Z"
   },
   {
    "duration": 1720,
    "start_time": "2023-03-31T14:42:20.643Z"
   },
   {
    "duration": 73,
    "start_time": "2023-03-31T14:42:22.365Z"
   },
   {
    "duration": 28,
    "start_time": "2023-03-31T14:42:22.440Z"
   },
   {
    "duration": 57,
    "start_time": "2023-03-31T14:42:22.471Z"
   },
   {
    "duration": 13,
    "start_time": "2023-03-31T14:42:22.530Z"
   },
   {
    "duration": 464,
    "start_time": "2023-03-31T14:42:22.544Z"
   },
   {
    "duration": 197,
    "start_time": "2023-03-31T14:42:23.010Z"
   },
   {
    "duration": 5,
    "start_time": "2023-03-31T14:42:23.208Z"
   },
   {
    "duration": 36,
    "start_time": "2023-03-31T14:42:23.215Z"
   },
   {
    "duration": 42,
    "start_time": "2023-03-31T14:42:23.253Z"
   },
   {
    "duration": 815,
    "start_time": "2023-03-31T14:42:23.301Z"
   },
   {
    "duration": 252,
    "start_time": "2023-03-31T14:42:24.119Z"
   },
   {
    "duration": 395,
    "start_time": "2023-03-31T14:42:24.386Z"
   },
   {
    "duration": 89,
    "start_time": "2023-03-31T14:42:24.784Z"
   },
   {
    "duration": 5369,
    "start_time": "2023-03-31T14:42:24.874Z"
   },
   {
    "duration": 5445,
    "start_time": "2023-03-31T14:42:44.159Z"
   },
   {
    "duration": 332,
    "start_time": "2023-03-31T14:43:25.037Z"
   },
   {
    "duration": 5290,
    "start_time": "2023-03-31T14:43:46.002Z"
   },
   {
    "duration": 4929,
    "start_time": "2023-03-31T14:43:57.661Z"
   },
   {
    "duration": 4631,
    "start_time": "2023-03-31T14:44:11.549Z"
   },
   {
    "duration": 62,
    "start_time": "2023-03-31T14:44:38.591Z"
   },
   {
    "duration": 5062,
    "start_time": "2023-03-31T14:44:42.753Z"
   },
   {
    "duration": 4888,
    "start_time": "2023-03-31T14:45:36.071Z"
   },
   {
    "duration": 19,
    "start_time": "2023-03-31T14:45:52.276Z"
   },
   {
    "duration": 4865,
    "start_time": "2023-03-31T14:46:02.024Z"
   },
   {
    "duration": 53,
    "start_time": "2023-03-31T14:46:46.289Z"
   },
   {
    "duration": 4815,
    "start_time": "2023-03-31T14:46:46.971Z"
   },
   {
    "duration": 4,
    "start_time": "2023-03-31T14:46:51.788Z"
   },
   {
    "duration": 4125,
    "start_time": "2023-03-31T14:46:51.793Z"
   },
   {
    "duration": 7,
    "start_time": "2023-03-31T14:47:12.704Z"
   },
   {
    "duration": 3,
    "start_time": "2023-03-31T14:47:13.583Z"
   },
   {
    "duration": 114,
    "start_time": "2023-03-31T14:47:14.081Z"
   },
   {
    "duration": 101225,
    "start_time": "2023-03-31T14:47:19.848Z"
   },
   {
    "duration": 0,
    "start_time": "2023-03-31T14:49:01.075Z"
   },
   {
    "duration": 0,
    "start_time": "2023-03-31T14:49:01.076Z"
   },
   {
    "duration": 1,
    "start_time": "2023-03-31T14:49:01.076Z"
   },
   {
    "duration": 0,
    "start_time": "2023-03-31T14:49:01.078Z"
   },
   {
    "duration": 0,
    "start_time": "2023-03-31T14:49:01.079Z"
   },
   {
    "duration": 0,
    "start_time": "2023-03-31T14:49:01.080Z"
   },
   {
    "duration": 0,
    "start_time": "2023-03-31T14:49:01.081Z"
   },
   {
    "duration": 0,
    "start_time": "2023-03-31T14:49:01.082Z"
   },
   {
    "duration": 1385,
    "start_time": "2023-03-31T14:50:22.796Z"
   },
   {
    "duration": 47,
    "start_time": "2023-03-31T14:50:24.184Z"
   },
   {
    "duration": 22,
    "start_time": "2023-03-31T14:50:24.233Z"
   },
   {
    "duration": 35,
    "start_time": "2023-03-31T14:50:24.257Z"
   },
   {
    "duration": 10,
    "start_time": "2023-03-31T14:50:24.294Z"
   },
   {
    "duration": 293,
    "start_time": "2023-03-31T14:50:24.305Z"
   },
   {
    "duration": 149,
    "start_time": "2023-03-31T14:50:24.600Z"
   },
   {
    "duration": 4,
    "start_time": "2023-03-31T14:50:24.751Z"
   },
   {
    "duration": 23,
    "start_time": "2023-03-31T14:50:24.756Z"
   },
   {
    "duration": 105,
    "start_time": "2023-03-31T14:50:24.780Z"
   },
   {
    "duration": 563,
    "start_time": "2023-03-31T14:50:24.887Z"
   },
   {
    "duration": 234,
    "start_time": "2023-03-31T14:50:25.451Z"
   },
   {
    "duration": 325,
    "start_time": "2023-03-31T14:50:25.687Z"
   },
   {
    "duration": 71,
    "start_time": "2023-03-31T14:50:26.015Z"
   },
   {
    "duration": 5998,
    "start_time": "2023-03-31T14:50:26.088Z"
   },
   {
    "duration": 4,
    "start_time": "2023-03-31T14:50:32.088Z"
   },
   {
    "duration": 4777,
    "start_time": "2023-03-31T14:50:32.093Z"
   },
   {
    "duration": 9,
    "start_time": "2023-03-31T14:50:36.872Z"
   },
   {
    "duration": 19,
    "start_time": "2023-03-31T14:50:36.883Z"
   },
   {
    "duration": 371,
    "start_time": "2023-03-31T14:50:36.904Z"
   },
   {
    "duration": 209082,
    "start_time": "2023-03-31T14:50:37.277Z"
   },
   {
    "duration": 13,
    "start_time": "2023-03-31T14:54:06.362Z"
   },
   {
    "duration": 377,
    "start_time": "2023-03-31T14:54:06.376Z"
   },
   {
    "duration": 20,
    "start_time": "2023-03-31T14:54:06.755Z"
   },
   {
    "duration": 1521,
    "start_time": "2023-03-31T15:06:13.630Z"
   },
   {
    "duration": 48,
    "start_time": "2023-03-31T15:06:16.218Z"
   },
   {
    "duration": 29,
    "start_time": "2023-03-31T15:06:16.468Z"
   },
   {
    "duration": 32,
    "start_time": "2023-03-31T15:06:16.699Z"
   },
   {
    "duration": 5,
    "start_time": "2023-03-31T15:06:18.414Z"
   },
   {
    "duration": 300,
    "start_time": "2023-03-31T15:06:18.874Z"
   },
   {
    "duration": 149,
    "start_time": "2023-03-31T15:06:19.176Z"
   },
   {
    "duration": 4,
    "start_time": "2023-03-31T15:06:20.194Z"
   },
   {
    "duration": 14,
    "start_time": "2023-03-31T15:06:21.375Z"
   },
   {
    "duration": 8,
    "start_time": "2023-03-31T15:06:27.972Z"
   },
   {
    "duration": 636,
    "start_time": "2023-03-31T15:06:32.642Z"
   },
   {
    "duration": 174,
    "start_time": "2023-03-31T15:06:36.593Z"
   },
   {
    "duration": 304,
    "start_time": "2023-03-31T15:06:36.946Z"
   },
   {
    "duration": 24,
    "start_time": "2023-03-31T15:06:43.738Z"
   },
   {
    "duration": 759,
    "start_time": "2023-03-31T15:07:16.695Z"
   },
   {
    "duration": 8,
    "start_time": "2023-03-31T15:07:34.135Z"
   },
   {
    "duration": 2,
    "start_time": "2023-03-31T15:07:35.584Z"
   },
   {
    "duration": 13,
    "start_time": "2023-03-31T15:07:36.770Z"
   },
   {
    "duration": 52086,
    "start_time": "2023-03-31T15:07:40.177Z"
   },
   {
    "duration": 8,
    "start_time": "2023-03-31T15:08:32.265Z"
   },
   {
    "duration": 141,
    "start_time": "2023-03-31T15:08:32.275Z"
   },
   {
    "duration": 4,
    "start_time": "2023-03-31T15:08:32.418Z"
   },
   {
    "duration": 1268259,
    "start_time": "2023-03-31T15:08:32.423Z"
   },
   {
    "duration": 5,
    "start_time": "2023-03-31T15:29:40.683Z"
   },
   {
    "duration": 11391,
    "start_time": "2023-03-31T15:29:40.690Z"
   },
   {
    "duration": 4,
    "start_time": "2023-03-31T15:29:52.083Z"
   },
   {
    "duration": 71,
    "start_time": "2023-03-31T15:29:52.089Z"
   },
   {
    "duration": 247,
    "start_time": "2023-03-31T15:34:47.633Z"
   },
   {
    "duration": 12,
    "start_time": "2023-03-31T15:35:43.267Z"
   },
   {
    "duration": 43,
    "start_time": "2023-03-31T15:35:44.310Z"
   },
   {
    "duration": 23,
    "start_time": "2023-03-31T15:35:44.623Z"
   },
   {
    "duration": 43,
    "start_time": "2023-03-31T15:35:44.845Z"
   },
   {
    "duration": 5,
    "start_time": "2023-03-31T15:35:45.727Z"
   },
   {
    "duration": 390,
    "start_time": "2023-03-31T15:35:46.097Z"
   },
   {
    "duration": 169,
    "start_time": "2023-03-31T15:35:46.490Z"
   },
   {
    "duration": 4,
    "start_time": "2023-03-31T15:35:47.956Z"
   },
   {
    "duration": 13,
    "start_time": "2023-03-31T15:36:18.188Z"
   },
   {
    "duration": 42,
    "start_time": "2023-03-31T15:36:18.839Z"
   },
   {
    "duration": 22,
    "start_time": "2023-03-31T15:36:18.994Z"
   },
   {
    "duration": 35,
    "start_time": "2023-03-31T15:36:19.506Z"
   },
   {
    "duration": 7,
    "start_time": "2023-03-31T15:36:19.601Z"
   },
   {
    "duration": 307,
    "start_time": "2023-03-31T15:36:19.669Z"
   },
   {
    "duration": 145,
    "start_time": "2023-03-31T15:36:19.978Z"
   },
   {
    "duration": 4,
    "start_time": "2023-03-31T15:36:20.125Z"
   },
   {
    "duration": 50,
    "start_time": "2023-03-31T15:36:20.131Z"
   },
   {
    "duration": 34,
    "start_time": "2023-03-31T15:36:20.183Z"
   },
   {
    "duration": 679,
    "start_time": "2023-03-31T15:36:20.219Z"
   },
   {
    "duration": 211,
    "start_time": "2023-03-31T15:36:20.902Z"
   },
   {
    "duration": 388,
    "start_time": "2023-03-31T15:36:21.114Z"
   },
   {
    "duration": 26,
    "start_time": "2023-03-31T15:36:21.506Z"
   },
   {
    "duration": 732,
    "start_time": "2023-03-31T15:36:21.534Z"
   },
   {
    "duration": 12,
    "start_time": "2023-03-31T15:36:22.268Z"
   },
   {
    "duration": 13,
    "start_time": "2023-03-31T15:36:22.282Z"
   },
   {
    "duration": 16,
    "start_time": "2023-03-31T15:36:22.298Z"
   },
   {
    "duration": 48277,
    "start_time": "2023-03-31T15:36:22.315Z"
   },
   {
    "duration": 4,
    "start_time": "2023-03-31T15:37:10.595Z"
   },
   {
    "duration": 147,
    "start_time": "2023-03-31T15:37:10.601Z"
   },
   {
    "duration": 5,
    "start_time": "2023-03-31T15:37:10.749Z"
   },
   {
    "duration": 910926,
    "start_time": "2023-03-31T15:37:10.755Z"
   },
   {
    "duration": 4,
    "start_time": "2023-03-31T15:52:21.683Z"
   },
   {
    "duration": 10663,
    "start_time": "2023-03-31T15:52:21.689Z"
   },
   {
    "duration": 5,
    "start_time": "2023-03-31T15:52:32.354Z"
   },
   {
    "duration": 14,
    "start_time": "2023-03-31T15:52:32.360Z"
   },
   {
    "duration": 13,
    "start_time": "2023-03-31T15:52:32.376Z"
   },
   {
    "duration": 7,
    "start_time": "2023-03-31T15:52:32.390Z"
   },
   {
    "duration": 13,
    "start_time": "2023-03-31T15:52:32.399Z"
   },
   {
    "duration": 3771,
    "start_time": "2023-03-31T15:52:32.413Z"
   },
   {
    "duration": 302,
    "start_time": "2023-03-31T15:52:36.186Z"
   },
   {
    "duration": 10,
    "start_time": "2023-03-31T15:54:55.605Z"
   },
   {
    "duration": 1914,
    "start_time": "2023-03-31T15:55:01.846Z"
   },
   {
    "duration": 61,
    "start_time": "2023-03-31T15:55:03.762Z"
   },
   {
    "duration": 24,
    "start_time": "2023-03-31T15:55:03.824Z"
   },
   {
    "duration": 28,
    "start_time": "2023-03-31T15:55:03.850Z"
   },
   {
    "duration": 14,
    "start_time": "2023-03-31T15:55:03.880Z"
   },
   {
    "duration": 331,
    "start_time": "2023-03-31T15:55:03.896Z"
   },
   {
    "duration": 164,
    "start_time": "2023-03-31T15:55:04.228Z"
   },
   {
    "duration": 4,
    "start_time": "2023-03-31T15:55:04.394Z"
   },
   {
    "duration": 23,
    "start_time": "2023-03-31T15:55:04.399Z"
   },
   {
    "duration": 7,
    "start_time": "2023-03-31T15:55:04.504Z"
   },
   {
    "duration": 655,
    "start_time": "2023-03-31T15:55:04.513Z"
   },
   {
    "duration": 242,
    "start_time": "2023-03-31T15:55:05.172Z"
   },
   {
    "duration": 380,
    "start_time": "2023-03-31T15:55:05.416Z"
   },
   {
    "duration": 27,
    "start_time": "2023-03-31T15:55:05.798Z"
   },
   {
    "duration": 1106,
    "start_time": "2023-03-31T15:55:05.827Z"
   },
   {
    "duration": 12,
    "start_time": "2023-03-31T15:55:06.935Z"
   },
   {
    "duration": 26,
    "start_time": "2023-03-31T15:55:06.949Z"
   },
   {
    "duration": 43,
    "start_time": "2023-03-31T15:55:06.977Z"
   },
   {
    "duration": 75514,
    "start_time": "2023-03-31T15:55:07.023Z"
   },
   {
    "duration": 6,
    "start_time": "2023-03-31T15:56:22.539Z"
   },
   {
    "duration": 128,
    "start_time": "2023-03-31T15:56:22.547Z"
   },
   {
    "duration": 4,
    "start_time": "2023-03-31T15:56:22.677Z"
   },
   {
    "duration": 911904,
    "start_time": "2023-03-31T15:56:22.683Z"
   },
   {
    "duration": 5,
    "start_time": "2023-03-31T16:11:34.673Z"
   },
   {
    "duration": 11387,
    "start_time": "2023-03-31T16:11:34.680Z"
   },
   {
    "duration": 5,
    "start_time": "2023-03-31T16:11:46.069Z"
   },
   {
    "duration": 47,
    "start_time": "2023-03-31T16:11:46.076Z"
   },
   {
    "duration": 6,
    "start_time": "2023-03-31T16:11:46.127Z"
   },
   {
    "duration": 20,
    "start_time": "2023-03-31T16:11:46.135Z"
   },
   {
    "duration": 23,
    "start_time": "2023-03-31T16:11:46.156Z"
   },
   {
    "duration": 4794,
    "start_time": "2023-03-31T16:11:46.181Z"
   },
   {
    "duration": 205,
    "start_time": "2023-03-31T16:11:50.976Z"
   },
   {
    "duration": 1598,
    "start_time": "2023-03-31T16:28:59.100Z"
   },
   {
    "duration": 66,
    "start_time": "2023-03-31T16:29:00.700Z"
   },
   {
    "duration": 34,
    "start_time": "2023-03-31T16:29:00.768Z"
   },
   {
    "duration": 47,
    "start_time": "2023-03-31T16:29:00.805Z"
   },
   {
    "duration": 6,
    "start_time": "2023-03-31T16:29:00.854Z"
   },
   {
    "duration": 543,
    "start_time": "2023-03-31T16:29:00.862Z"
   },
   {
    "duration": 201,
    "start_time": "2023-03-31T16:29:01.407Z"
   },
   {
    "duration": 3,
    "start_time": "2023-03-31T16:29:01.611Z"
   },
   {
    "duration": 51,
    "start_time": "2023-03-31T16:29:01.616Z"
   },
   {
    "duration": 7,
    "start_time": "2023-03-31T16:29:02.500Z"
   },
   {
    "duration": 694,
    "start_time": "2023-03-31T16:29:02.722Z"
   },
   {
    "duration": 239,
    "start_time": "2023-03-31T16:29:03.540Z"
   },
   {
    "duration": 340,
    "start_time": "2023-03-31T16:29:04.657Z"
   },
   {
    "duration": 37,
    "start_time": "2023-03-31T16:29:07.353Z"
   },
   {
    "duration": 913,
    "start_time": "2023-03-31T16:29:29.413Z"
   },
   {
    "duration": 751,
    "start_time": "2023-03-31T16:30:04.271Z"
   },
   {
    "duration": 10,
    "start_time": "2023-03-31T16:30:10.318Z"
   },
   {
    "duration": 2,
    "start_time": "2023-03-31T16:30:11.478Z"
   },
   {
    "duration": 99,
    "start_time": "2023-03-31T16:30:11.546Z"
   },
   {
    "duration": 62247,
    "start_time": "2023-03-31T16:30:11.646Z"
   },
   {
    "duration": 5,
    "start_time": "2023-03-31T16:31:13.894Z"
   },
   {
    "duration": 130,
    "start_time": "2023-03-31T16:31:13.902Z"
   },
   {
    "duration": 4,
    "start_time": "2023-03-31T16:31:14.034Z"
   },
   {
    "duration": 1461,
    "start_time": "2023-03-31T16:32:25.768Z"
   },
   {
    "duration": 47,
    "start_time": "2023-03-31T16:32:27.230Z"
   },
   {
    "duration": 33,
    "start_time": "2023-03-31T16:32:27.279Z"
   },
   {
    "duration": 34,
    "start_time": "2023-03-31T16:32:27.314Z"
   },
   {
    "duration": 27,
    "start_time": "2023-03-31T16:32:27.349Z"
   },
   {
    "duration": 284,
    "start_time": "2023-03-31T16:32:27.642Z"
   },
   {
    "duration": 150,
    "start_time": "2023-03-31T16:32:27.928Z"
   },
   {
    "duration": 4,
    "start_time": "2023-03-31T16:32:32.113Z"
   },
   {
    "duration": 13,
    "start_time": "2023-03-31T16:32:32.431Z"
   },
   {
    "duration": 6,
    "start_time": "2023-03-31T16:32:33.445Z"
   },
   {
    "duration": 667,
    "start_time": "2023-03-31T16:32:33.613Z"
   },
   {
    "duration": 192,
    "start_time": "2023-03-31T16:32:34.282Z"
   },
   {
    "duration": 336,
    "start_time": "2023-03-31T16:32:34.476Z"
   },
   {
    "duration": 32,
    "start_time": "2023-03-31T16:32:37.553Z"
   },
   {
    "duration": 923,
    "start_time": "2023-03-31T16:32:40.438Z"
   },
   {
    "duration": 13,
    "start_time": "2023-03-31T16:33:12.983Z"
   },
   {
    "duration": 41,
    "start_time": "2023-03-31T16:33:14.368Z"
   },
   {
    "duration": 23,
    "start_time": "2023-03-31T16:33:14.411Z"
   },
   {
    "duration": 27,
    "start_time": "2023-03-31T16:33:14.436Z"
   },
   {
    "duration": 6,
    "start_time": "2023-03-31T16:33:14.529Z"
   },
   {
    "duration": 289,
    "start_time": "2023-03-31T16:33:14.602Z"
   },
   {
    "duration": 232,
    "start_time": "2023-03-31T16:33:14.893Z"
   },
   {
    "duration": 4,
    "start_time": "2023-03-31T16:33:15.127Z"
   },
   {
    "duration": 15,
    "start_time": "2023-03-31T16:33:15.133Z"
   },
   {
    "duration": 7,
    "start_time": "2023-03-31T16:33:15.787Z"
   },
   {
    "duration": 558,
    "start_time": "2023-03-31T16:33:15.826Z"
   },
   {
    "duration": 186,
    "start_time": "2023-03-31T16:33:16.386Z"
   },
   {
    "duration": 419,
    "start_time": "2023-03-31T16:33:16.574Z"
   },
   {
    "duration": 28,
    "start_time": "2023-03-31T16:33:16.999Z"
   },
   {
    "duration": 1018,
    "start_time": "2023-03-31T16:33:22.749Z"
   },
   {
    "duration": 3,
    "start_time": "2023-03-31T16:33:30.543Z"
   },
   {
    "duration": 10,
    "start_time": "2023-03-31T16:33:31.493Z"
   },
   {
    "duration": 2,
    "start_time": "2023-03-31T16:33:32.280Z"
   },
   {
    "duration": 16,
    "start_time": "2023-03-31T16:33:32.334Z"
   },
   {
    "duration": 91784,
    "start_time": "2023-03-31T16:33:32.406Z"
   },
   {
    "duration": 5,
    "start_time": "2023-03-31T16:35:04.192Z"
   },
   {
    "duration": 143,
    "start_time": "2023-03-31T16:35:04.198Z"
   },
   {
    "duration": 5,
    "start_time": "2023-03-31T16:35:04.343Z"
   },
   {
    "duration": 72616,
    "start_time": "2023-03-31T16:35:04.349Z"
   },
   {
    "duration": 0,
    "start_time": "2023-03-31T16:36:16.968Z"
   },
   {
    "duration": 0,
    "start_time": "2023-03-31T16:36:16.969Z"
   },
   {
    "duration": 0,
    "start_time": "2023-03-31T16:36:16.972Z"
   },
   {
    "duration": 0,
    "start_time": "2023-03-31T16:36:16.973Z"
   },
   {
    "duration": 0,
    "start_time": "2023-03-31T16:36:16.975Z"
   },
   {
    "duration": 0,
    "start_time": "2023-03-31T16:36:16.976Z"
   },
   {
    "duration": 10,
    "start_time": "2023-03-31T16:36:43.181Z"
   },
   {
    "duration": 1347,
    "start_time": "2023-03-31T16:36:48.932Z"
   },
   {
    "duration": 46,
    "start_time": "2023-03-31T16:36:50.281Z"
   },
   {
    "duration": 22,
    "start_time": "2023-03-31T16:36:50.329Z"
   },
   {
    "duration": 24,
    "start_time": "2023-03-31T16:36:50.353Z"
   },
   {
    "duration": 5,
    "start_time": "2023-03-31T16:36:50.379Z"
   },
   {
    "duration": 399,
    "start_time": "2023-03-31T16:36:50.386Z"
   },
   {
    "duration": 292,
    "start_time": "2023-03-31T16:36:50.786Z"
   },
   {
    "duration": 5,
    "start_time": "2023-03-31T16:36:51.081Z"
   },
   {
    "duration": 26,
    "start_time": "2023-03-31T16:36:51.087Z"
   },
   {
    "duration": 175,
    "start_time": "2023-03-31T16:36:51.114Z"
   },
   {
    "duration": 1107,
    "start_time": "2023-03-31T16:36:51.290Z"
   },
   {
    "duration": 189,
    "start_time": "2023-03-31T16:36:52.399Z"
   },
   {
    "duration": 305,
    "start_time": "2023-03-31T16:36:52.589Z"
   },
   {
    "duration": 34,
    "start_time": "2023-03-31T16:36:52.898Z"
   },
   {
    "duration": 1139,
    "start_time": "2023-03-31T16:36:52.934Z"
   },
   {
    "duration": 2,
    "start_time": "2023-03-31T16:36:54.075Z"
   },
   {
    "duration": 26,
    "start_time": "2023-03-31T16:36:54.079Z"
   },
   {
    "duration": 6,
    "start_time": "2023-03-31T16:36:54.107Z"
   },
   {
    "duration": 17,
    "start_time": "2023-03-31T16:36:54.114Z"
   },
   {
    "duration": 99388,
    "start_time": "2023-03-31T16:36:54.132Z"
   },
   {
    "duration": 4,
    "start_time": "2023-03-31T16:38:33.522Z"
   },
   {
    "duration": 147,
    "start_time": "2023-03-31T16:38:33.528Z"
   },
   {
    "duration": 5,
    "start_time": "2023-03-31T16:38:33.676Z"
   },
   {
    "duration": 1041692,
    "start_time": "2023-03-31T16:38:33.683Z"
   },
   {
    "duration": 4,
    "start_time": "2023-03-31T16:55:55.377Z"
   },
   {
    "duration": 12059,
    "start_time": "2023-03-31T16:55:55.383Z"
   },
   {
    "duration": 4,
    "start_time": "2023-03-31T16:56:07.444Z"
   },
   {
    "duration": 47,
    "start_time": "2023-03-31T16:56:07.449Z"
   },
   {
    "duration": 5,
    "start_time": "2023-03-31T16:56:07.497Z"
   },
   {
    "duration": 277,
    "start_time": "2023-03-31T16:56:07.503Z"
   },
   {
    "duration": 17,
    "start_time": "2023-03-31T16:56:07.785Z"
   },
   {
    "duration": 14,
    "start_time": "2023-03-31T17:00:11.526Z"
   },
   {
    "duration": 1467,
    "start_time": "2023-03-31T17:00:41.373Z"
   },
   {
    "duration": 49,
    "start_time": "2023-03-31T17:00:42.842Z"
   },
   {
    "duration": 27,
    "start_time": "2023-03-31T17:00:42.893Z"
   },
   {
    "duration": 49,
    "start_time": "2023-03-31T17:00:42.923Z"
   },
   {
    "duration": 6,
    "start_time": "2023-03-31T17:00:42.975Z"
   },
   {
    "duration": 346,
    "start_time": "2023-03-31T17:00:42.983Z"
   },
   {
    "duration": 166,
    "start_time": "2023-03-31T17:00:43.331Z"
   },
   {
    "duration": 6,
    "start_time": "2023-03-31T17:00:43.498Z"
   },
   {
    "duration": 30,
    "start_time": "2023-03-31T17:00:43.506Z"
   },
   {
    "duration": 7,
    "start_time": "2023-03-31T17:00:43.602Z"
   },
   {
    "duration": 651,
    "start_time": "2023-03-31T17:00:43.612Z"
   },
   {
    "duration": 210,
    "start_time": "2023-03-31T17:00:44.265Z"
   },
   {
    "duration": 350,
    "start_time": "2023-03-31T17:00:44.476Z"
   },
   {
    "duration": 43,
    "start_time": "2023-03-31T17:00:44.828Z"
   },
   {
    "duration": 981,
    "start_time": "2023-03-31T17:00:44.874Z"
   },
   {
    "duration": 2,
    "start_time": "2023-03-31T17:00:45.857Z"
   },
   {
    "duration": 25,
    "start_time": "2023-03-31T17:00:45.861Z"
   },
   {
    "duration": 13,
    "start_time": "2023-03-31T17:00:45.888Z"
   },
   {
    "duration": 14,
    "start_time": "2023-03-31T17:00:45.903Z"
   },
   {
    "duration": 83268,
    "start_time": "2023-03-31T17:00:45.919Z"
   },
   {
    "duration": 5,
    "start_time": "2023-03-31T17:02:09.188Z"
   },
   {
    "duration": 141,
    "start_time": "2023-03-31T17:02:09.194Z"
   },
   {
    "duration": 5,
    "start_time": "2023-03-31T17:02:09.336Z"
   },
   {
    "duration": 356140,
    "start_time": "2023-03-31T17:02:09.343Z"
   },
   {
    "duration": 6,
    "start_time": "2023-03-31T17:08:05.485Z"
   },
   {
    "duration": 13081,
    "start_time": "2023-03-31T17:08:05.493Z"
   },
   {
    "duration": 5,
    "start_time": "2023-03-31T17:08:18.576Z"
   },
   {
    "duration": 52,
    "start_time": "2023-03-31T17:08:18.584Z"
   },
   {
    "duration": 4,
    "start_time": "2023-03-31T17:08:18.638Z"
   },
   {
    "duration": 247,
    "start_time": "2023-03-31T17:08:18.644Z"
   },
   {
    "duration": 14,
    "start_time": "2023-03-31T17:08:18.893Z"
   },
   {
    "duration": 1522,
    "start_time": "2023-03-31T17:28:21.435Z"
   },
   {
    "duration": 1603,
    "start_time": "2023-03-31T17:28:26.113Z"
   },
   {
    "duration": 116,
    "start_time": "2023-03-31T17:28:27.718Z"
   },
   {
    "duration": 33,
    "start_time": "2023-03-31T17:28:27.879Z"
   },
   {
    "duration": 77,
    "start_time": "2023-03-31T17:28:27.914Z"
   },
   {
    "duration": 21,
    "start_time": "2023-03-31T17:28:27.993Z"
   },
   {
    "duration": 662,
    "start_time": "2023-03-31T17:28:28.016Z"
   },
   {
    "duration": 397,
    "start_time": "2023-03-31T17:28:28.686Z"
   },
   {
    "duration": 8,
    "start_time": "2023-03-31T17:28:29.085Z"
   },
   {
    "duration": 24,
    "start_time": "2023-03-31T17:28:29.095Z"
   },
   {
    "duration": 8,
    "start_time": "2023-03-31T17:28:29.197Z"
   },
   {
    "duration": 585,
    "start_time": "2023-03-31T17:28:29.207Z"
   },
   {
    "duration": 197,
    "start_time": "2023-03-31T17:28:29.793Z"
   },
   {
    "duration": 314,
    "start_time": "2023-03-31T17:28:29.991Z"
   },
   {
    "duration": 27,
    "start_time": "2023-03-31T17:28:30.307Z"
   },
   {
    "duration": 1056,
    "start_time": "2023-03-31T17:28:30.336Z"
   },
   {
    "duration": 2,
    "start_time": "2023-03-31T17:28:31.394Z"
   },
   {
    "duration": 41,
    "start_time": "2023-03-31T17:28:31.398Z"
   },
   {
    "duration": 51,
    "start_time": "2023-03-31T17:28:31.440Z"
   },
   {
    "duration": 48,
    "start_time": "2023-03-31T17:28:31.492Z"
   },
   {
    "duration": 95648,
    "start_time": "2023-03-31T17:28:31.542Z"
   },
   {
    "duration": 6,
    "start_time": "2023-03-31T17:30:07.193Z"
   },
   {
    "duration": 189,
    "start_time": "2023-03-31T17:30:07.201Z"
   },
   {
    "duration": 5,
    "start_time": "2023-03-31T17:30:07.392Z"
   },
   {
    "duration": 371784,
    "start_time": "2023-03-31T17:30:07.399Z"
   },
   {
    "duration": 10,
    "start_time": "2023-03-31T17:36:19.185Z"
   },
   {
    "duration": 14202,
    "start_time": "2023-03-31T17:36:19.197Z"
   },
   {
    "duration": 4,
    "start_time": "2023-03-31T17:36:33.401Z"
   },
   {
    "duration": 52,
    "start_time": "2023-03-31T17:36:33.409Z"
   },
   {
    "duration": 4,
    "start_time": "2023-03-31T17:36:33.463Z"
   },
   {
    "duration": 233,
    "start_time": "2023-03-31T17:36:33.469Z"
   },
   {
    "duration": 92,
    "start_time": "2023-03-31T17:36:33.704Z"
   },
   {
    "duration": 13,
    "start_time": "2023-03-31T17:38:19.131Z"
   },
   {
    "duration": 49,
    "start_time": "2023-03-31T17:38:21.115Z"
   },
   {
    "duration": 41,
    "start_time": "2023-03-31T17:38:21.165Z"
   },
   {
    "duration": 37,
    "start_time": "2023-03-31T17:38:21.209Z"
   },
   {
    "duration": 7,
    "start_time": "2023-03-31T17:38:23.308Z"
   },
   {
    "duration": 318,
    "start_time": "2023-03-31T17:38:23.715Z"
   },
   {
    "duration": 159,
    "start_time": "2023-03-31T17:38:24.505Z"
   },
   {
    "duration": 4,
    "start_time": "2023-03-31T17:38:25.615Z"
   },
   {
    "duration": 10,
    "start_time": "2023-03-31T17:38:26.019Z"
   },
   {
    "duration": 7,
    "start_time": "2023-03-31T17:38:26.991Z"
   },
   {
    "duration": 594,
    "start_time": "2023-03-31T17:38:27.194Z"
   },
   {
    "duration": 188,
    "start_time": "2023-03-31T17:38:27.789Z"
   },
   {
    "duration": 405,
    "start_time": "2023-03-31T17:38:28.053Z"
   },
   {
    "duration": 33,
    "start_time": "2023-03-31T17:38:32.193Z"
   },
   {
    "duration": 1061,
    "start_time": "2023-03-31T17:38:34.155Z"
   },
   {
    "duration": 9,
    "start_time": "2023-03-31T17:38:37.192Z"
   },
   {
    "duration": 4,
    "start_time": "2023-03-31T17:38:38.254Z"
   },
   {
    "duration": 18,
    "start_time": "2023-03-31T17:38:41.094Z"
   },
   {
    "duration": 85851,
    "start_time": "2023-03-31T17:38:45.632Z"
   },
   {
    "duration": 12,
    "start_time": "2023-03-31T17:40:11.485Z"
   },
   {
    "duration": 102,
    "start_time": "2023-03-31T17:40:16.213Z"
   },
   {
    "duration": 16,
    "start_time": "2023-03-31T17:40:51.797Z"
   },
   {
    "duration": 62,
    "start_time": "2023-03-31T17:40:52.535Z"
   },
   {
    "duration": 32,
    "start_time": "2023-03-31T17:40:52.796Z"
   },
   {
    "duration": 35,
    "start_time": "2023-03-31T17:40:53.297Z"
   },
   {
    "duration": 7,
    "start_time": "2023-03-31T17:40:53.394Z"
   },
   {
    "duration": 399,
    "start_time": "2023-03-31T17:40:53.450Z"
   },
   {
    "duration": 199,
    "start_time": "2023-03-31T17:40:53.851Z"
   },
   {
    "duration": 5,
    "start_time": "2023-03-31T17:40:54.052Z"
   },
   {
    "duration": 42,
    "start_time": "2023-03-31T17:40:54.071Z"
   },
   {
    "duration": 7,
    "start_time": "2023-03-31T17:40:54.115Z"
   },
   {
    "duration": 846,
    "start_time": "2023-03-31T17:40:54.124Z"
   },
   {
    "duration": 250,
    "start_time": "2023-03-31T17:40:54.972Z"
   },
   {
    "duration": 354,
    "start_time": "2023-03-31T17:40:55.225Z"
   },
   {
    "duration": 35,
    "start_time": "2023-03-31T17:40:55.582Z"
   },
   {
    "duration": 1184,
    "start_time": "2023-03-31T17:40:55.621Z"
   },
   {
    "duration": 3,
    "start_time": "2023-03-31T17:40:56.820Z"
   },
   {
    "duration": 11,
    "start_time": "2023-03-31T17:40:56.825Z"
   },
   {
    "duration": 8,
    "start_time": "2023-03-31T17:40:57.188Z"
   },
   {
    "duration": 29,
    "start_time": "2023-03-31T17:40:58.000Z"
   },
   {
    "duration": 86744,
    "start_time": "2023-03-31T17:40:59.795Z"
   },
   {
    "duration": 3,
    "start_time": "2023-03-31T17:42:26.542Z"
   },
   {
    "duration": 118,
    "start_time": "2023-03-31T17:42:26.547Z"
   },
   {
    "duration": 12,
    "start_time": "2023-03-31T17:42:26.672Z"
   },
   {
    "duration": 12842,
    "start_time": "2023-03-31T17:42:26.685Z"
   },
   {
    "duration": 4,
    "start_time": "2023-03-31T17:42:39.528Z"
   },
   {
    "duration": 10,
    "start_time": "2023-03-31T17:42:39.534Z"
   },
   {
    "duration": 8,
    "start_time": "2023-03-31T17:42:39.545Z"
   },
   {
    "duration": 76,
    "start_time": "2023-03-31T17:42:39.554Z"
   },
   {
    "duration": 17,
    "start_time": "2023-03-31T17:43:33.081Z"
   },
   {
    "duration": 42,
    "start_time": "2023-03-31T17:43:34.591Z"
   },
   {
    "duration": 30,
    "start_time": "2023-03-31T17:43:34.782Z"
   },
   {
    "duration": 34,
    "start_time": "2023-03-31T17:43:34.990Z"
   },
   {
    "duration": 5,
    "start_time": "2023-03-31T17:43:35.509Z"
   },
   {
    "duration": 375,
    "start_time": "2023-03-31T17:43:36.171Z"
   },
   {
    "duration": 249,
    "start_time": "2023-03-31T17:43:36.548Z"
   },
   {
    "duration": 4,
    "start_time": "2023-03-31T17:43:36.798Z"
   },
   {
    "duration": 15,
    "start_time": "2023-03-31T17:43:36.804Z"
   },
   {
    "duration": 6,
    "start_time": "2023-03-31T17:43:39.027Z"
   },
   {
    "duration": 626,
    "start_time": "2023-03-31T17:43:39.239Z"
   },
   {
    "duration": 206,
    "start_time": "2023-03-31T17:43:39.872Z"
   },
   {
    "duration": 358,
    "start_time": "2023-03-31T17:43:40.087Z"
   },
   {
    "duration": 34,
    "start_time": "2023-03-31T17:43:57.102Z"
   },
   {
    "duration": 1352,
    "start_time": "2023-03-31T17:44:02.756Z"
   },
   {
    "duration": 11,
    "start_time": "2023-03-31T17:44:08.870Z"
   },
   {
    "duration": 9,
    "start_time": "2023-03-31T17:44:09.004Z"
   },
   {
    "duration": 3,
    "start_time": "2023-03-31T17:44:09.806Z"
   },
   {
    "duration": 13,
    "start_time": "2023-03-31T17:44:10.212Z"
   },
   {
    "duration": 111794,
    "start_time": "2023-03-31T17:44:11.003Z"
   },
   {
    "duration": 5,
    "start_time": "2023-03-31T17:46:02.799Z"
   },
   {
    "duration": 167,
    "start_time": "2023-03-31T17:46:02.805Z"
   },
   {
    "duration": 4,
    "start_time": "2023-03-31T17:46:02.974Z"
   },
   {
    "duration": 13765,
    "start_time": "2023-03-31T17:46:02.983Z"
   },
   {
    "duration": 6,
    "start_time": "2023-03-31T17:46:16.749Z"
   },
   {
    "duration": 12,
    "start_time": "2023-03-31T17:46:16.757Z"
   },
   {
    "duration": 41,
    "start_time": "2023-03-31T17:46:16.770Z"
   },
   {
    "duration": 136,
    "start_time": "2023-03-31T17:46:16.812Z"
   },
   {
    "duration": 1487,
    "start_time": "2023-03-31T17:47:00.630Z"
   },
   {
    "duration": 71,
    "start_time": "2023-03-31T17:47:02.119Z"
   },
   {
    "duration": 25,
    "start_time": "2023-03-31T17:47:02.192Z"
   },
   {
    "duration": 70,
    "start_time": "2023-03-31T17:47:02.219Z"
   },
   {
    "duration": 13,
    "start_time": "2023-03-31T17:47:02.292Z"
   },
   {
    "duration": 398,
    "start_time": "2023-03-31T17:47:02.307Z"
   },
   {
    "duration": 171,
    "start_time": "2023-03-31T17:47:02.707Z"
   },
   {
    "duration": 5,
    "start_time": "2023-03-31T17:47:02.879Z"
   },
   {
    "duration": 22,
    "start_time": "2023-03-31T17:47:02.885Z"
   },
   {
    "duration": 108,
    "start_time": "2023-03-31T17:47:02.909Z"
   },
   {
    "duration": 736,
    "start_time": "2023-03-31T17:47:03.019Z"
   },
   {
    "duration": 229,
    "start_time": "2023-03-31T17:47:03.756Z"
   },
   {
    "duration": 337,
    "start_time": "2023-03-31T17:47:03.990Z"
   },
   {
    "duration": 58,
    "start_time": "2023-03-31T17:47:04.330Z"
   },
   {
    "duration": 1328,
    "start_time": "2023-03-31T17:47:04.390Z"
   },
   {
    "duration": 2,
    "start_time": "2023-03-31T17:47:05.720Z"
   },
   {
    "duration": 14,
    "start_time": "2023-03-31T17:47:05.724Z"
   },
   {
    "duration": 3,
    "start_time": "2023-03-31T17:47:05.740Z"
   },
   {
    "duration": 45,
    "start_time": "2023-03-31T17:47:05.744Z"
   },
   {
    "duration": 109898,
    "start_time": "2023-03-31T17:47:05.791Z"
   },
   {
    "duration": 7,
    "start_time": "2023-03-31T17:48:55.692Z"
   },
   {
    "duration": 138,
    "start_time": "2023-03-31T17:48:55.701Z"
   },
   {
    "duration": 7,
    "start_time": "2023-03-31T17:48:55.841Z"
   },
   {
    "duration": 360035,
    "start_time": "2023-03-31T17:48:55.850Z"
   },
   {
    "duration": 6,
    "start_time": "2023-03-31T17:54:55.887Z"
   },
   {
    "duration": 14822,
    "start_time": "2023-03-31T17:54:55.895Z"
   },
   {
    "duration": 5,
    "start_time": "2023-03-31T17:55:10.718Z"
   },
   {
    "duration": 61,
    "start_time": "2023-03-31T17:55:10.724Z"
   },
   {
    "duration": 10,
    "start_time": "2023-03-31T17:55:10.787Z"
   },
   {
    "duration": 293,
    "start_time": "2023-03-31T17:55:10.798Z"
   },
   {
    "duration": 49,
    "start_time": "2023-03-31T19:59:01.838Z"
   },
   {
    "duration": 1712,
    "start_time": "2023-03-31T19:59:47.275Z"
   },
   {
    "duration": 146,
    "start_time": "2023-03-31T19:59:48.989Z"
   },
   {
    "duration": 24,
    "start_time": "2023-03-31T19:59:49.136Z"
   },
   {
    "duration": 53,
    "start_time": "2023-03-31T19:59:49.161Z"
   },
   {
    "duration": 5,
    "start_time": "2023-03-31T19:59:49.217Z"
   },
   {
    "duration": 394,
    "start_time": "2023-03-31T19:59:49.223Z"
   },
   {
    "duration": 174,
    "start_time": "2023-03-31T19:59:49.618Z"
   },
   {
    "duration": 5,
    "start_time": "2023-03-31T19:59:49.793Z"
   },
   {
    "duration": 14,
    "start_time": "2023-03-31T19:59:49.800Z"
   },
   {
    "duration": 106,
    "start_time": "2023-03-31T19:59:49.816Z"
   },
   {
    "duration": 709,
    "start_time": "2023-03-31T19:59:49.924Z"
   },
   {
    "duration": 244,
    "start_time": "2023-03-31T19:59:50.635Z"
   },
   {
    "duration": 378,
    "start_time": "2023-03-31T19:59:50.881Z"
   },
   {
    "duration": 41,
    "start_time": "2023-03-31T19:59:51.262Z"
   },
   {
    "duration": 1537,
    "start_time": "2023-03-31T19:59:51.305Z"
   },
   {
    "duration": 3,
    "start_time": "2023-03-31T19:59:52.843Z"
   },
   {
    "duration": 31,
    "start_time": "2023-03-31T19:59:52.848Z"
   },
   {
    "duration": 4,
    "start_time": "2023-03-31T19:59:52.881Z"
   },
   {
    "duration": 29,
    "start_time": "2023-03-31T19:59:52.887Z"
   },
   {
    "duration": 110308,
    "start_time": "2023-03-31T19:59:52.966Z"
   },
   {
    "duration": 4,
    "start_time": "2023-03-31T20:01:43.276Z"
   },
   {
    "duration": 148,
    "start_time": "2023-03-31T20:01:43.282Z"
   },
   {
    "duration": 6,
    "start_time": "2023-03-31T20:01:43.432Z"
   },
   {
    "duration": 61347,
    "start_time": "2023-03-31T20:01:43.439Z"
   },
   {
    "duration": 9,
    "start_time": "2023-03-31T20:02:44.792Z"
   },
   {
    "duration": 11438,
    "start_time": "2023-03-31T20:02:44.802Z"
   },
   {
    "duration": 7,
    "start_time": "2023-03-31T20:02:56.242Z"
   },
   {
    "duration": 56,
    "start_time": "2023-03-31T20:02:56.251Z"
   },
   {
    "duration": 185,
    "start_time": "2023-03-31T20:02:56.309Z"
   },
   {
    "duration": 1906,
    "start_time": "2023-04-01T05:32:17.394Z"
   },
   {
    "duration": 165,
    "start_time": "2023-04-01T05:32:19.302Z"
   },
   {
    "duration": 36,
    "start_time": "2023-04-01T05:32:19.468Z"
   },
   {
    "duration": 87,
    "start_time": "2023-04-01T05:32:19.506Z"
   },
   {
    "duration": 39,
    "start_time": "2023-04-01T05:32:19.595Z"
   },
   {
    "duration": 386,
    "start_time": "2023-04-01T05:32:19.636Z"
   },
   {
    "duration": 157,
    "start_time": "2023-04-01T05:32:20.024Z"
   },
   {
    "duration": 9,
    "start_time": "2023-04-01T05:32:20.183Z"
   },
   {
    "duration": 61,
    "start_time": "2023-04-01T05:32:20.193Z"
   },
   {
    "duration": 6,
    "start_time": "2023-04-01T05:32:20.336Z"
   },
   {
    "duration": 696,
    "start_time": "2023-04-01T05:32:20.343Z"
   },
   {
    "duration": 227,
    "start_time": "2023-04-01T05:32:21.041Z"
   },
   {
    "duration": 383,
    "start_time": "2023-04-01T05:32:21.270Z"
   },
   {
    "duration": 47,
    "start_time": "2023-04-01T05:32:21.654Z"
   },
   {
    "duration": 1429,
    "start_time": "2023-04-01T05:32:21.703Z"
   },
   {
    "duration": 3,
    "start_time": "2023-04-01T05:32:23.137Z"
   },
   {
    "duration": 48,
    "start_time": "2023-04-01T05:32:23.141Z"
   },
   {
    "duration": 23,
    "start_time": "2023-04-01T05:32:23.194Z"
   },
   {
    "duration": 32,
    "start_time": "2023-04-01T05:32:23.218Z"
   },
   {
    "duration": 123523,
    "start_time": "2023-04-01T05:32:23.252Z"
   },
   {
    "duration": 11,
    "start_time": "2023-04-01T05:34:26.786Z"
   },
   {
    "duration": 136,
    "start_time": "2023-04-01T05:34:26.798Z"
   },
   {
    "duration": 5,
    "start_time": "2023-04-01T05:34:26.935Z"
   },
   {
    "duration": 342944,
    "start_time": "2023-04-01T05:34:26.941Z"
   },
   {
    "duration": 10,
    "start_time": "2023-04-01T05:40:09.887Z"
   },
   {
    "duration": 26944,
    "start_time": "2023-04-01T05:40:09.899Z"
   },
   {
    "duration": 4,
    "start_time": "2023-04-01T05:40:36.845Z"
   },
   {
    "duration": 66,
    "start_time": "2023-04-01T05:40:36.852Z"
   },
   {
    "duration": 297,
    "start_time": "2023-04-01T05:40:36.920Z"
   },
   {
    "duration": 4,
    "start_time": "2023-04-01T20:36:24.301Z"
   },
   {
    "duration": 58,
    "start_time": "2023-04-01T20:40:16.065Z"
   },
   {
    "duration": 1668,
    "start_time": "2023-04-01T20:40:49.146Z"
   },
   {
    "duration": 130,
    "start_time": "2023-04-01T20:40:50.816Z"
   },
   {
    "duration": 23,
    "start_time": "2023-04-01T20:40:50.947Z"
   },
   {
    "duration": 29,
    "start_time": "2023-04-01T20:40:50.972Z"
   },
   {
    "duration": 5,
    "start_time": "2023-04-01T20:40:51.004Z"
   },
   {
    "duration": 387,
    "start_time": "2023-04-01T20:40:51.010Z"
   },
   {
    "duration": 180,
    "start_time": "2023-04-01T20:40:51.399Z"
   },
   {
    "duration": 4,
    "start_time": "2023-04-01T20:40:51.582Z"
   },
   {
    "duration": 25,
    "start_time": "2023-04-01T20:40:51.588Z"
   },
   {
    "duration": 127,
    "start_time": "2023-04-01T20:40:51.615Z"
   },
   {
    "duration": 640,
    "start_time": "2023-04-01T20:40:51.745Z"
   },
   {
    "duration": 212,
    "start_time": "2023-04-01T20:40:52.387Z"
   },
   {
    "duration": 359,
    "start_time": "2023-04-01T20:40:52.601Z"
   },
   {
    "duration": 33,
    "start_time": "2023-04-01T20:40:52.962Z"
   },
   {
    "duration": 1459,
    "start_time": "2023-04-01T20:40:52.997Z"
   },
   {
    "duration": 8,
    "start_time": "2023-04-01T20:40:54.458Z"
   },
   {
    "duration": 9,
    "start_time": "2023-04-01T20:40:54.468Z"
   },
   {
    "duration": 63,
    "start_time": "2023-04-01T20:40:54.478Z"
   },
   {
    "duration": 98368,
    "start_time": "2023-04-01T20:40:54.543Z"
   },
   {
    "duration": 4,
    "start_time": "2023-04-01T20:42:32.913Z"
   },
   {
    "duration": 139,
    "start_time": "2023-04-01T20:42:32.919Z"
   },
   {
    "duration": 4,
    "start_time": "2023-04-01T20:42:33.060Z"
   },
   {
    "duration": 583,
    "start_time": "2023-04-01T20:42:33.065Z"
   },
   {
    "duration": 5,
    "start_time": "2023-04-01T20:42:33.650Z"
   },
   {
    "duration": 12506,
    "start_time": "2023-04-01T20:42:33.656Z"
   },
   {
    "duration": 5,
    "start_time": "2023-04-01T20:42:46.164Z"
   },
   {
    "duration": 71,
    "start_time": "2023-04-01T20:42:46.171Z"
   },
   {
    "duration": 143,
    "start_time": "2023-04-01T20:42:46.244Z"
   },
   {
    "duration": 14,
    "start_time": "2023-04-01T20:43:26.914Z"
   },
   {
    "duration": 12,
    "start_time": "2023-04-01T20:43:44.622Z"
   }
  ],
  "kernelspec": {
   "display_name": "Python 3 (ipykernel)",
   "language": "python",
   "name": "python3"
  },
  "language_info": {
   "codemirror_mode": {
    "name": "ipython",
    "version": 3
   },
   "file_extension": ".py",
   "mimetype": "text/x-python",
   "name": "python",
   "nbconvert_exporter": "python",
   "pygments_lexer": "ipython3",
   "version": "3.9.5"
  },
  "toc": {
   "base_numbering": 1,
   "nav_menu": {},
   "number_sections": true,
   "sideBar": true,
   "skip_h1_title": true,
   "title_cell": "Содержание",
   "title_sidebar": "Содержание",
   "toc_cell": true,
   "toc_position": {
    "height": "calc(100% - 180px)",
    "left": "10px",
    "top": "150px",
    "width": "165px"
   },
   "toc_section_display": true,
   "toc_window_display": true
  }
 },
 "nbformat": 4,
 "nbformat_minor": 4
}
