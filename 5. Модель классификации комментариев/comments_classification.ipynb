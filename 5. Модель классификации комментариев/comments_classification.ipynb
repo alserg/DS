{
 "cells": [
  {
   "cell_type": "markdown",
   "metadata": {
    "toc": true
   },
   "source": [
    "<h1>Содержание проекта<span class=\"tocSkip\"></span></h1>\n",
    "\n",
    "1  Загрузка, изучение, обработка данных\n",
    "\n",
    "2  Подготовка данных для обучения\n",
    "\n",
    "    2.1  Обработка данных\n",
    "\n",
    "    2.2  Создание датасетов\n",
    "\n",
    "3  Построение разных моделей\n",
    "\n",
    "    3.1  DecisionTreeClassifier\n",
    "    3.2  AdaBoostClassifier\n",
    "    3.3  LogisticRegression\n",
    "    3.4  RandomForestClassifier\n",
    "    3.5  Выводы и выбор лучшей модели\n",
    "\n",
    "4  Тестирование лучшей модели\n",
    "\n",
    "5  Общий вывод"
   ]
  },
  {
   "cell_type": "markdown",
   "metadata": {},
   "source": [
    "# Проект для «Викишоп»"
   ]
  },
  {
   "cell_type": "markdown",
   "metadata": {},
   "source": [
    "Интернет-магазин «Викишоп» запускает новый сервис. Теперь пользователи могут редактировать и дополнять описания товаров, как в вики-сообществах. То есть клиенты предлагают свои правки и комментируют изменения других.\n",
    "\n",
    "В вашем распоряжении набор данных с разметкой о токсичности правок.\n",
    "\n",
    "\n",
    "# Цели и задачи проекта\n",
    "\n",
    "**Цель проекта:** Магазину нужен инструмент, который будет искать токсичные комментарии и отправлять их на модерацию. Обучите модель классифицировать комментарии на позитивные и негативные. \n",
    "\n",
    "**Условия задачи:**\n",
    "- Постройте модель со значением метрики качества *F1* не меньше 0.75.\n",
    "\n",
    "**Инструкция по выполнению проекта:**\n",
    "\n",
    "1. Загрузите и подготовьте данные.\n",
    "2. Обучите разные модели. \n",
    "3. Сделайте выводы.\n",
    "\n",
    "\n",
    "**Описание данных:**\n",
    "\n",
    "Данные находятся в файле `toxic_comments.csv`. Столбец *text* в нём содержит текст комментария, а *toxic* — целевой признак.\n",
    "\n",
    "\n",
    "\n",
    "**План выполнения работ:**\n",
    "\n",
    "- 1. Загрузить, изучить, при необходимости обработать данные\n",
    "- 2. Подготовить данные для обучения\n",
    "- 3. Построить разные модели:\n",
    "    - DecisionTreeClassifier\n",
    "    - LogisticRegression\n",
    "    - RandomForestClassifier\n",
    "- 4. Протестировать лучшую модель\n",
    "- 5. Сделать выводы\n"
   ]
  },
  {
   "cell_type": "markdown",
   "metadata": {},
   "source": [
    "## Загрузка, изучение, обработка данных"
   ]
  },
  {
   "cell_type": "code",
   "execution_count": null,
   "metadata": {},
   "outputs": [],
   "source": [
    "#импорты настройки функции\n",
    "import pandas as pd\n",
    "\n",
    "import seaborn as sns\n",
    "sns.set(rc={'figure.figsize':(16,6)})\n",
    "sns.set_palette('dark:#5A9_r')\n",
    "\n",
    "from matplotlib import pyplot as plt\n",
    "\n",
    "from sklearn.linear_model import LogisticRegression \n",
    "from sklearn.tree import DecisionTreeClassifier\n",
    "from sklearn.ensemble import RandomForestClassifier, AdaBoostClassifier\n",
    "\n",
    "from sklearn.model_selection import train_test_split\n",
    "from sklearn.metrics import f1_score, roc_auc_score, roc_curve\n",
    "\n",
    "from sklearn.feature_extraction.text import TfidfVectorizer\n",
    "\n",
    "from sklearn.utils import shuffle\n",
    "\n",
    "import nltk\n",
    "nltk.download('stopwords')\n",
    "nltk.download('averaged_perceptron_tagger')\n",
    "from nltk.corpus import stopwords as nltk_stopwords\n",
    "stopwords_en = set(nltk_stopwords.words('english'))\n",
    "from nltk.corpus import wordnet\n",
    "from nltk.stem import WordNetLemmatizer \n",
    "\n",
    "import re\n",
    "    \n",
    "# для оценки времени\n",
    "from tqdm.auto import tqdm\n",
    "from tqdm.notebook import tqdm\n",
    "tqdm.pandas()\n",
    "import time\n",
    "\n",
    "# остальное\n",
    "import warnings\n",
    "warnings.filterwarnings('ignore')"
   ]
  },
  {
   "cell_type": "code",
   "execution_count": 3,
   "metadata": {},
   "outputs": [],
   "source": [
    "# функция очистки лишних символов и приведения к нижнему регистру\n",
    "def clear_text(text):\n",
    "    text = text.replace('\\n',' ')\n",
    "    text = re.sub(r'[^\\'a-zA-Z ]', ' ', text.lower())\n",
    "    return \" \".join(text.split())\n",
    "\n",
    "# функция токенизации (результат без пустых слов)\n",
    "def tokenize(text):\n",
    "    tokenized = re.split(' ', text)\n",
    "    return [w for w in tokenized if w!='']\n",
    "\n",
    "# функция лемматизации с get_wordnet_pos\n",
    "def lemmatize(text):\n",
    "    #lems = []\n",
    "    #for w in text:\n",
    "    #    lems.append(lemmatizer.lemmatize(w))\n",
    "    return [lemmatizer.lemmatize(w, get_wordnet_pos(w)) for w in text]\n",
    "\n",
    "# кэш для частей слов\n",
    "WORD_POS_CACHE = {}\n",
    "\n",
    "# функция чати речи для лемматизации\n",
    "def get_wordnet_pos(word):\n",
    "    if word in WORD_POS_CACHE:\n",
    "        return WORD_POS_CACHE[word]\n",
    "    \n",
    "    tag = nltk.pos_tag([word])[0][1][0].upper()\n",
    "    tag_dict = {\"J\": wordnet.ADJ,\n",
    "                \"N\": wordnet.NOUN,\n",
    "                \"V\": wordnet.VERB,\n",
    "                \"R\": wordnet.ADV}\n",
    "    result = tag_dict.get(tag, wordnet.NOUN)\n",
    "    WORD_POS_CACHE[word] = result\n",
    "    return result\n",
    "\n",
    "# функция очистки стоп-слов\n",
    "def clear_stopwords(text):\n",
    "    result_text = []\n",
    "    for w in text:\n",
    "        if w not in stopwords_en:\n",
    "            result_text.append(w)\n",
    "    return \" \".join(result_text)\n",
    "\n",
    "## рисуем AUC-ROC\n",
    "def do_roc_curve(taget,predicted,model_ident,f1,auc_roc):\n",
    "    fpr, tpr, thresholds = roc_curve(taget, predicted) \n",
    "    plt.figure();\n",
    "    plt.plot([0, 1], [0, 1], linestyle='--', color=\"#777\", linewidth=.9)\n",
    "    plt.plot(fpr, tpr, linestyle='-', color=\"#8c75b6\", linewidth=3)\n",
    "    plt.xlim([0,1])\n",
    "    plt.ylim([0,1])\n",
    "    plt.xlabel(\"False Positive Rate\")\n",
    "    plt.ylabel(\"True Positive Rate\")    \n",
    "    plt.title('ROC-кривая '+model_ident+' | F1 '+str(round(f1,4))\\\n",
    "            +' | AUC-ROC '+str(round(auc_roc,4)))\n",
    "    plt.show();\n",
    "    return True"
   ]
  },
  {
   "cell_type": "markdown",
   "metadata": {},
   "source": [
    "**Загрузим и посмотрим на данные**"
   ]
  },
  {
   "cell_type": "code",
   "execution_count": 4,
   "metadata": {},
   "outputs": [],
   "source": [
    "# загружаем данные\n",
    "data = pd.read_csv(\"/datasets/toxic_comments.csv\",\n",
    "                   index_col=0 # чтобы не было столбца Unnamed: 0 при чтении файла\n",
    "                  )"
   ]
  },
  {
   "cell_type": "code",
   "execution_count": 5,
   "metadata": {},
   "outputs": [
    {
     "data": {
      "text/html": [
       "<div>\n",
       "<style scoped>\n",
       "    .dataframe tbody tr th:only-of-type {\n",
       "        vertical-align: middle;\n",
       "    }\n",
       "\n",
       "    .dataframe tbody tr th {\n",
       "        vertical-align: top;\n",
       "    }\n",
       "\n",
       "    .dataframe thead th {\n",
       "        text-align: right;\n",
       "    }\n",
       "</style>\n",
       "<table border=\"1\" class=\"dataframe\">\n",
       "  <thead>\n",
       "    <tr style=\"text-align: right;\">\n",
       "      <th></th>\n",
       "      <th>text</th>\n",
       "      <th>toxic</th>\n",
       "    </tr>\n",
       "  </thead>\n",
       "  <tbody>\n",
       "    <tr>\n",
       "      <th>0</th>\n",
       "      <td>Explanation\\nWhy the edits made under my usern...</td>\n",
       "      <td>0</td>\n",
       "    </tr>\n",
       "    <tr>\n",
       "      <th>1</th>\n",
       "      <td>D'aww! He matches this background colour I'm s...</td>\n",
       "      <td>0</td>\n",
       "    </tr>\n",
       "    <tr>\n",
       "      <th>2</th>\n",
       "      <td>Hey man, I'm really not trying to edit war. It...</td>\n",
       "      <td>0</td>\n",
       "    </tr>\n",
       "    <tr>\n",
       "      <th>3</th>\n",
       "      <td>\"\\nMore\\nI can't make any real suggestions on ...</td>\n",
       "      <td>0</td>\n",
       "    </tr>\n",
       "    <tr>\n",
       "      <th>4</th>\n",
       "      <td>You, sir, are my hero. Any chance you remember...</td>\n",
       "      <td>0</td>\n",
       "    </tr>\n",
       "  </tbody>\n",
       "</table>\n",
       "</div>"
      ],
      "text/plain": [
       "                                                text  toxic\n",
       "0  Explanation\\nWhy the edits made under my usern...      0\n",
       "1  D'aww! He matches this background colour I'm s...      0\n",
       "2  Hey man, I'm really not trying to edit war. It...      0\n",
       "3  \"\\nMore\\nI can't make any real suggestions on ...      0\n",
       "4  You, sir, are my hero. Any chance you remember...      0"
      ]
     },
     "metadata": {},
     "output_type": "display_data"
    },
    {
     "data": {
      "text/html": [
       "<div>\n",
       "<style scoped>\n",
       "    .dataframe tbody tr th:only-of-type {\n",
       "        vertical-align: middle;\n",
       "    }\n",
       "\n",
       "    .dataframe tbody tr th {\n",
       "        vertical-align: top;\n",
       "    }\n",
       "\n",
       "    .dataframe thead th {\n",
       "        text-align: right;\n",
       "    }\n",
       "</style>\n",
       "<table border=\"1\" class=\"dataframe\">\n",
       "  <thead>\n",
       "    <tr style=\"text-align: right;\">\n",
       "      <th></th>\n",
       "      <th>text</th>\n",
       "      <th>toxic</th>\n",
       "    </tr>\n",
       "  </thead>\n",
       "  <tbody>\n",
       "    <tr>\n",
       "      <th>159446</th>\n",
       "      <td>\":::::And for the second time of asking, when ...</td>\n",
       "      <td>0</td>\n",
       "    </tr>\n",
       "    <tr>\n",
       "      <th>159447</th>\n",
       "      <td>You should be ashamed of yourself \\n\\nThat is ...</td>\n",
       "      <td>0</td>\n",
       "    </tr>\n",
       "    <tr>\n",
       "      <th>159448</th>\n",
       "      <td>Spitzer \\n\\nUmm, theres no actual article for ...</td>\n",
       "      <td>0</td>\n",
       "    </tr>\n",
       "    <tr>\n",
       "      <th>159449</th>\n",
       "      <td>And it looks like it was actually you who put ...</td>\n",
       "      <td>0</td>\n",
       "    </tr>\n",
       "    <tr>\n",
       "      <th>159450</th>\n",
       "      <td>\"\\nAnd ... I really don't think you understand...</td>\n",
       "      <td>0</td>\n",
       "    </tr>\n",
       "  </tbody>\n",
       "</table>\n",
       "</div>"
      ],
      "text/plain": [
       "                                                     text  toxic\n",
       "159446  \":::::And for the second time of asking, when ...      0\n",
       "159447  You should be ashamed of yourself \\n\\nThat is ...      0\n",
       "159448  Spitzer \\n\\nUmm, theres no actual article for ...      0\n",
       "159449  And it looks like it was actually you who put ...      0\n",
       "159450  \"\\nAnd ... I really don't think you understand...      0"
      ]
     },
     "metadata": {},
     "output_type": "display_data"
    },
    {
     "name": "stdout",
     "output_type": "stream",
     "text": [
      "<class 'pandas.core.frame.DataFrame'>\n",
      "Int64Index: 159292 entries, 0 to 159450\n",
      "Data columns (total 2 columns):\n",
      " #   Column  Non-Null Count   Dtype \n",
      "---  ------  --------------   ----- \n",
      " 0   text    159292 non-null  object\n",
      " 1   toxic   159292 non-null  int64 \n",
      "dtypes: int64(1), object(1)\n",
      "memory usage: 3.6+ MB\n"
     ]
    },
    {
     "data": {
      "text/plain": [
       "None"
      ]
     },
     "metadata": {},
     "output_type": "display_data"
    },
    {
     "name": "stdout",
     "output_type": "stream",
     "text": [
      "--------------------------------------------------\n",
      "Проверка разметки токсичных комментариев:\n"
     ]
    },
    {
     "data": {
      "text/html": [
       "<div>\n",
       "<style scoped>\n",
       "    .dataframe tbody tr th:only-of-type {\n",
       "        vertical-align: middle;\n",
       "    }\n",
       "\n",
       "    .dataframe tbody tr th {\n",
       "        vertical-align: top;\n",
       "    }\n",
       "\n",
       "    .dataframe thead th {\n",
       "        text-align: right;\n",
       "    }\n",
       "</style>\n",
       "<table border=\"1\" class=\"dataframe\">\n",
       "  <thead>\n",
       "    <tr style=\"text-align: right;\">\n",
       "      <th></th>\n",
       "      <th>text</th>\n",
       "      <th>toxic</th>\n",
       "    </tr>\n",
       "  </thead>\n",
       "  <tbody>\n",
       "    <tr>\n",
       "      <th>7248</th>\n",
       "      <td>It would if you translate it instead of postin...</td>\n",
       "      <td>1</td>\n",
       "    </tr>\n",
       "    <tr>\n",
       "      <th>97469</th>\n",
       "      <td>\"\\nI'll respond to you after the block one of ...</td>\n",
       "      <td>1</td>\n",
       "    </tr>\n",
       "    <tr>\n",
       "      <th>131381</th>\n",
       "      <td>God gives his beloved SLEEP. ARE YOU HERE TO D...</td>\n",
       "      <td>1</td>\n",
       "    </tr>\n",
       "    <tr>\n",
       "      <th>33856</th>\n",
       "      <td>Fuck you you stupid and gay bastard who thinls...</td>\n",
       "      <td>1</td>\n",
       "    </tr>\n",
       "    <tr>\n",
       "      <th>141907</th>\n",
       "      <td>Well, you might not be welcoming me if you kne...</td>\n",
       "      <td>1</td>\n",
       "    </tr>\n",
       "    <tr>\n",
       "      <th>21673</th>\n",
       "      <td>all wikipedians are nob heads who should resig...</td>\n",
       "      <td>1</td>\n",
       "    </tr>\n",
       "    <tr>\n",
       "      <th>124083</th>\n",
       "      <td>Hello \\n\\nHey asshole! I kill you. Filthy Musl...</td>\n",
       "      <td>1</td>\n",
       "    </tr>\n",
       "    <tr>\n",
       "      <th>135047</th>\n",
       "      <td>This is internet so isn't a personal attack, I...</td>\n",
       "      <td>1</td>\n",
       "    </tr>\n",
       "  </tbody>\n",
       "</table>\n",
       "</div>"
      ],
      "text/plain": [
       "                                                     text  toxic\n",
       "7248    It would if you translate it instead of postin...      1\n",
       "97469   \"\\nI'll respond to you after the block one of ...      1\n",
       "131381  God gives his beloved SLEEP. ARE YOU HERE TO D...      1\n",
       "33856   Fuck you you stupid and gay bastard who thinls...      1\n",
       "141907  Well, you might not be welcoming me if you kne...      1\n",
       "21673   all wikipedians are nob heads who should resig...      1\n",
       "124083  Hello \\n\\nHey asshole! I kill you. Filthy Musl...      1\n",
       "135047  This is internet so isn't a personal attack, I...      1"
      ]
     },
     "metadata": {},
     "output_type": "display_data"
    }
   ],
   "source": [
    "display(data.head())\n",
    "display(data.tail())\n",
    "display(data.info())\n",
    "print('-'*50)\n",
    "print('Проверка разметки токсичных комментариев:')\n",
    "display(data.query('toxic == 1').sample(8))"
   ]
  },
  {
   "cell_type": "markdown",
   "metadata": {},
   "source": [
    "**Имеем следующий набор данных:**\n",
    "\n",
    "**Признаки**  \n",
    "  - `text` — нужно использовать для обучения\n",
    "  - ~`Unnamed: 0` — какой-то внутренний id судя по всему, нам не нужен~\n",
    "    \n",
    "**Целевой признак**  \n",
    "  - `toxic` — токсичность (да-нет) комментария\n",
    "  \n",
    "Судя по данным - помечены действительно токсичные комментарии."
   ]
  },
  {
   "cell_type": "code",
   "execution_count": 6,
   "metadata": {},
   "outputs": [],
   "source": [
    "# data.drop(['Unnamed: 0'], axis=1, inplace=True)\n",
    "# data.head()"
   ]
  },
  {
   "cell_type": "markdown",
   "metadata": {},
   "source": [
    "Посмотрим на дубликаты"
   ]
  },
  {
   "cell_type": "code",
   "execution_count": 7,
   "metadata": {},
   "outputs": [
    {
     "name": "stdout",
     "output_type": "stream",
     "text": [
      "\n",
      "Полных дубликатов: 0\n"
     ]
    }
   ],
   "source": [
    "print()\n",
    "print('Полных дубликатов:', sum(data.duplicated()))"
   ]
  },
  {
   "cell_type": "markdown",
   "metadata": {},
   "source": [
    "Проверим пропуски"
   ]
  },
  {
   "cell_type": "code",
   "execution_count": 8,
   "metadata": {
    "scrolled": true
   },
   "outputs": [
    {
     "data": {
      "text/plain": [
       "text     0\n",
       "toxic    0\n",
       "dtype: int64"
      ]
     },
     "execution_count": 8,
     "metadata": {},
     "output_type": "execute_result"
    }
   ],
   "source": [
    "data.isna().sum()"
   ]
  },
  {
   "cell_type": "markdown",
   "metadata": {},
   "source": [
    "На всякий случай проверим что в целевом признаке действительно только два значения."
   ]
  },
  {
   "cell_type": "code",
   "execution_count": 9,
   "metadata": {},
   "outputs": [
    {
     "name": "stdout",
     "output_type": "stream",
     "text": [
      "Уникальные значений в toxic: [0 1]\n"
     ]
    },
    {
     "data": {
      "image/png": "[encoded data removed]",
      "text/plain": [
       "<Figure size 1152x432 with 1 Axes>"
      ]
     },
     "metadata": {},
     "output_type": "display_data"
    }
   ],
   "source": [
    "toxic_unique_count = data['toxic'].unique()\n",
    "print('Уникальные значений в toxic:',toxic_unique_count)\n",
    "# data.hist(bins=len(toxic_unique_count));\n",
    "data['toxic'].value_counts().sort_index().plot(kind='bar', rot=0, ylabel='количество', title='Кол-во значений в целевом классе')\n",
    "plt.show();"
   ]
  },
  {
   "cell_type": "markdown",
   "metadata": {},
   "source": [
    "1. Да, в целевом признаке только 0/1.\n",
    "\n",
    "2. Наблюдаем явный дисбаланс в классе, это может испортить качество моделей, учтем это."
   ]
  },
  {
   "cell_type": "markdown",
   "metadata": {},
   "source": [
    "## Подготовка данных для обучения"
   ]
  },
  {
   "cell_type": "markdown",
   "metadata": {},
   "source": [
    "### Обработка данных"
   ]
  },
  {
   "cell_type": "markdown",
   "metadata": {},
   "source": [
    "`Токенизация (англ. tokenization)` — разбиение текста на токены: отдельные фразы, слова, символы.\n",
    "\n",
    "`Лемматизация (англ. lemmatization)` — приведение слова к начальной форме — лемме.\n",
    "\n",
    "Приступим к обработке текста."
   ]
  },
  {
   "cell_type": "code",
   "execution_count": 11,
   "metadata": {},
   "outputs": [],
   "source": [
    "# сохраним оригинальный текст в другом столбце на всякий случай\n",
    "data['origin'] = data['text'].copy()"
   ]
  },
  {
   "cell_type": "code",
   "execution_count": 12,
   "metadata": {
    "scrolled": true
   },
   "outputs": [
    {
     "data": {
      "application/vnd.jupyter.widget-view+json": {
       "model_id": "9d04131a4f9c4ee5bd79983b56370183",
       "version_major": 2,
       "version_minor": 0
      },
      "text/plain": [
       "  0%|          | 0/159292 [00:00<?, ?it/s]"
      ]
     },
     "metadata": {},
     "output_type": "display_data"
    },
    {
     "name": "stdout",
     "output_type": "stream",
     "text": [
      "CPU times: user 2.54 s, sys: 99.4 ms, total: 2.64 s\n",
      "Wall time: 2.78 s\n"
     ]
    },
    {
     "data": {
      "text/html": [
       "<div>\n",
       "<style scoped>\n",
       "    .dataframe tbody tr th:only-of-type {\n",
       "        vertical-align: middle;\n",
       "    }\n",
       "\n",
       "    .dataframe tbody tr th {\n",
       "        vertical-align: top;\n",
       "    }\n",
       "\n",
       "    .dataframe thead th {\n",
       "        text-align: right;\n",
       "    }\n",
       "</style>\n",
       "<table border=\"1\" class=\"dataframe\">\n",
       "  <thead>\n",
       "    <tr style=\"text-align: right;\">\n",
       "      <th></th>\n",
       "      <th>text</th>\n",
       "      <th>toxic</th>\n",
       "      <th>origin</th>\n",
       "    </tr>\n",
       "  </thead>\n",
       "  <tbody>\n",
       "    <tr>\n",
       "      <th>0</th>\n",
       "      <td>explanation why the edits made under my userna...</td>\n",
       "      <td>0</td>\n",
       "      <td>Explanation\\nWhy the edits made under my usern...</td>\n",
       "    </tr>\n",
       "    <tr>\n",
       "      <th>1</th>\n",
       "      <td>d'aww he matches this background colour i'm se...</td>\n",
       "      <td>0</td>\n",
       "      <td>D'aww! He matches this background colour I'm s...</td>\n",
       "    </tr>\n",
       "    <tr>\n",
       "      <th>2</th>\n",
       "      <td>hey man i'm really not trying to edit war it's...</td>\n",
       "      <td>0</td>\n",
       "      <td>Hey man, I'm really not trying to edit war. It...</td>\n",
       "    </tr>\n",
       "    <tr>\n",
       "      <th>3</th>\n",
       "      <td>more i can't make any real suggestions on impr...</td>\n",
       "      <td>0</td>\n",
       "      <td>\"\\nMore\\nI can't make any real suggestions on ...</td>\n",
       "    </tr>\n",
       "    <tr>\n",
       "      <th>4</th>\n",
       "      <td>you sir are my hero any chance you remember wh...</td>\n",
       "      <td>0</td>\n",
       "      <td>You, sir, are my hero. Any chance you remember...</td>\n",
       "    </tr>\n",
       "  </tbody>\n",
       "</table>\n",
       "</div>"
      ],
      "text/plain": [
       "                                                text  toxic  \\\n",
       "0  explanation why the edits made under my userna...      0   \n",
       "1  d'aww he matches this background colour i'm se...      0   \n",
       "2  hey man i'm really not trying to edit war it's...      0   \n",
       "3  more i can't make any real suggestions on impr...      0   \n",
       "4  you sir are my hero any chance you remember wh...      0   \n",
       "\n",
       "                                              origin  \n",
       "0  Explanation\\nWhy the edits made under my usern...  \n",
       "1  D'aww! He matches this background colour I'm s...  \n",
       "2  Hey man, I'm really not trying to edit war. It...  \n",
       "3  \"\\nMore\\nI can't make any real suggestions on ...  \n",
       "4  You, sir, are my hero. Any chance you remember...  "
      ]
     },
     "execution_count": 12,
     "metadata": {},
     "output_type": "execute_result"
    }
   ],
   "source": [
    "%%time\n",
    "# почистим текст от лишних символов, переносов строк\n",
    "data['text'] = data['origin'].progress_apply(clear_text)\n",
    "data.head()"
   ]
  },
  {
   "cell_type": "code",
   "execution_count": 13,
   "metadata": {
    "scrolled": true
   },
   "outputs": [
    {
     "data": {
      "application/vnd.jupyter.widget-view+json": {
       "model_id": "75ec4e09b58a4142a7ea576e6c88c73c",
       "version_major": 2,
       "version_minor": 0
      },
      "text/plain": [
       "  0%|          | 0/159292 [00:00<?, ?it/s]"
      ]
     },
     "metadata": {},
     "output_type": "display_data"
    },
    {
     "name": "stdout",
     "output_type": "stream",
     "text": [
      "CPU times: user 2.61 s, sys: 417 ms, total: 3.03 s\n",
      "Wall time: 3.17 s\n"
     ]
    },
    {
     "data": {
      "text/html": [
       "<div>\n",
       "<style scoped>\n",
       "    .dataframe tbody tr th:only-of-type {\n",
       "        vertical-align: middle;\n",
       "    }\n",
       "\n",
       "    .dataframe tbody tr th {\n",
       "        vertical-align: top;\n",
       "    }\n",
       "\n",
       "    .dataframe thead th {\n",
       "        text-align: right;\n",
       "    }\n",
       "</style>\n",
       "<table border=\"1\" class=\"dataframe\">\n",
       "  <thead>\n",
       "    <tr style=\"text-align: right;\">\n",
       "      <th></th>\n",
       "      <th>text</th>\n",
       "      <th>toxic</th>\n",
       "      <th>origin</th>\n",
       "    </tr>\n",
       "  </thead>\n",
       "  <tbody>\n",
       "    <tr>\n",
       "      <th>0</th>\n",
       "      <td>[explanation, why, the, edits, made, under, my...</td>\n",
       "      <td>0</td>\n",
       "      <td>Explanation\\nWhy the edits made under my usern...</td>\n",
       "    </tr>\n",
       "    <tr>\n",
       "      <th>1</th>\n",
       "      <td>[d'aww, he, matches, this, background, colour,...</td>\n",
       "      <td>0</td>\n",
       "      <td>D'aww! He matches this background colour I'm s...</td>\n",
       "    </tr>\n",
       "    <tr>\n",
       "      <th>2</th>\n",
       "      <td>[hey, man, i'm, really, not, trying, to, edit,...</td>\n",
       "      <td>0</td>\n",
       "      <td>Hey man, I'm really not trying to edit war. It...</td>\n",
       "    </tr>\n",
       "    <tr>\n",
       "      <th>3</th>\n",
       "      <td>[more, i, can't, make, any, real, suggestions,...</td>\n",
       "      <td>0</td>\n",
       "      <td>\"\\nMore\\nI can't make any real suggestions on ...</td>\n",
       "    </tr>\n",
       "    <tr>\n",
       "      <th>4</th>\n",
       "      <td>[you, sir, are, my, hero, any, chance, you, re...</td>\n",
       "      <td>0</td>\n",
       "      <td>You, sir, are my hero. Any chance you remember...</td>\n",
       "    </tr>\n",
       "  </tbody>\n",
       "</table>\n",
       "</div>"
      ],
      "text/plain": [
       "                                                text  toxic  \\\n",
       "0  [explanation, why, the, edits, made, under, my...      0   \n",
       "1  [d'aww, he, matches, this, background, colour,...      0   \n",
       "2  [hey, man, i'm, really, not, trying, to, edit,...      0   \n",
       "3  [more, i, can't, make, any, real, suggestions,...      0   \n",
       "4  [you, sir, are, my, hero, any, chance, you, re...      0   \n",
       "\n",
       "                                              origin  \n",
       "0  Explanation\\nWhy the edits made under my usern...  \n",
       "1  D'aww! He matches this background colour I'm s...  \n",
       "2  Hey man, I'm really not trying to edit war. It...  \n",
       "3  \"\\nMore\\nI can't make any real suggestions on ...  \n",
       "4  You, sir, are my hero. Any chance you remember...  "
      ]
     },
     "execution_count": 13,
     "metadata": {},
     "output_type": "execute_result"
    }
   ],
   "source": [
    "%%time\n",
    "# токенизируем\n",
    "data['text'] = data['text'].progress_apply(tokenize)\n",
    "data.head()"
   ]
  },
  {
   "cell_type": "code",
   "execution_count": 16,
   "metadata": {},
   "outputs": [
    {
     "data": {
      "application/vnd.jupyter.widget-view+json": {
       "model_id": "c5d72225e7ba41d4aefb4f87c8e3059c",
       "version_major": 2,
       "version_minor": 0
      },
      "text/plain": [
       "  0%|          | 0/159292 [00:00<?, ?it/s]"
      ]
     },
     "metadata": {},
     "output_type": "display_data"
    },
    {
     "name": "stdout",
     "output_type": "stream",
     "text": [
      "CPU times: user 1min 10s, sys: 2.95 s, total: 1min 13s\n",
      "Wall time: 1min 15s\n"
     ]
    },
    {
     "data": {
      "text/html": [
       "<div>\n",
       "<style scoped>\n",
       "    .dataframe tbody tr th:only-of-type {\n",
       "        vertical-align: middle;\n",
       "    }\n",
       "\n",
       "    .dataframe tbody tr th {\n",
       "        vertical-align: top;\n",
       "    }\n",
       "\n",
       "    .dataframe thead th {\n",
       "        text-align: right;\n",
       "    }\n",
       "</style>\n",
       "<table border=\"1\" class=\"dataframe\">\n",
       "  <thead>\n",
       "    <tr style=\"text-align: right;\">\n",
       "      <th></th>\n",
       "      <th>text</th>\n",
       "      <th>toxic</th>\n",
       "      <th>origin</th>\n",
       "    </tr>\n",
       "  </thead>\n",
       "  <tbody>\n",
       "    <tr>\n",
       "      <th>0</th>\n",
       "      <td>[explanation, why, the, edits, make, under, my...</td>\n",
       "      <td>0</td>\n",
       "      <td>Explanation\\nWhy the edits made under my usern...</td>\n",
       "    </tr>\n",
       "    <tr>\n",
       "      <th>1</th>\n",
       "      <td>[d'aww, he, match, this, background, colour, i...</td>\n",
       "      <td>0</td>\n",
       "      <td>D'aww! He matches this background colour I'm s...</td>\n",
       "    </tr>\n",
       "    <tr>\n",
       "      <th>2</th>\n",
       "      <td>[hey, man, i'm, really, not, try, to, edit, wa...</td>\n",
       "      <td>0</td>\n",
       "      <td>Hey man, I'm really not trying to edit war. It...</td>\n",
       "    </tr>\n",
       "    <tr>\n",
       "      <th>3</th>\n",
       "      <td>[more, i, can't, make, any, real, suggestion, ...</td>\n",
       "      <td>0</td>\n",
       "      <td>\"\\nMore\\nI can't make any real suggestions on ...</td>\n",
       "    </tr>\n",
       "    <tr>\n",
       "      <th>4</th>\n",
       "      <td>[you, sir, be, my, hero, any, chance, you, rem...</td>\n",
       "      <td>0</td>\n",
       "      <td>You, sir, are my hero. Any chance you remember...</td>\n",
       "    </tr>\n",
       "  </tbody>\n",
       "</table>\n",
       "</div>"
      ],
      "text/plain": [
       "                                                text  toxic  \\\n",
       "0  [explanation, why, the, edits, make, under, my...      0   \n",
       "1  [d'aww, he, match, this, background, colour, i...      0   \n",
       "2  [hey, man, i'm, really, not, try, to, edit, wa...      0   \n",
       "3  [more, i, can't, make, any, real, suggestion, ...      0   \n",
       "4  [you, sir, be, my, hero, any, chance, you, rem...      0   \n",
       "\n",
       "                                              origin  \n",
       "0  Explanation\\nWhy the edits made under my usern...  \n",
       "1  D'aww! He matches this background colour I'm s...  \n",
       "2  Hey man, I'm really not trying to edit war. It...  \n",
       "3  \"\\nMore\\nI can't make any real suggestions on ...  \n",
       "4  You, sir, are my hero. Any chance you remember...  "
      ]
     },
     "execution_count": 16,
     "metadata": {},
     "output_type": "execute_result"
    }
   ],
   "source": [
    "%%time\n",
    "# лемматизируем\n",
    "lemmatizer = WordNetLemmatizer()\n",
    "data['text'] = data['text'].progress_apply(lemmatize)\n",
    "data.head()"
   ]
  },
  {
   "cell_type": "code",
   "execution_count": 17,
   "metadata": {},
   "outputs": [
    {
     "data": {
      "application/vnd.jupyter.widget-view+json": {
       "model_id": "1057c4018a304145af020480940bfe49",
       "version_major": 2,
       "version_minor": 0
      },
      "text/plain": [
       "  0%|          | 0/159292 [00:00<?, ?it/s]"
      ]
     },
     "metadata": {},
     "output_type": "display_data"
    },
    {
     "name": "stdout",
     "output_type": "stream",
     "text": [
      "CPU times: user 1.43 s, sys: 19.8 ms, total: 1.45 s\n",
      "Wall time: 1.5 s\n"
     ]
    },
    {
     "data": {
      "text/html": [
       "<div>\n",
       "<style scoped>\n",
       "    .dataframe tbody tr th:only-of-type {\n",
       "        vertical-align: middle;\n",
       "    }\n",
       "\n",
       "    .dataframe tbody tr th {\n",
       "        vertical-align: top;\n",
       "    }\n",
       "\n",
       "    .dataframe thead th {\n",
       "        text-align: right;\n",
       "    }\n",
       "</style>\n",
       "<table border=\"1\" class=\"dataframe\">\n",
       "  <thead>\n",
       "    <tr style=\"text-align: right;\">\n",
       "      <th></th>\n",
       "      <th>text</th>\n",
       "      <th>toxic</th>\n",
       "      <th>origin</th>\n",
       "    </tr>\n",
       "  </thead>\n",
       "  <tbody>\n",
       "    <tr>\n",
       "      <th>0</th>\n",
       "      <td>explanation edits make username hardcore metal...</td>\n",
       "      <td>0</td>\n",
       "      <td>Explanation\\nWhy the edits made under my usern...</td>\n",
       "    </tr>\n",
       "    <tr>\n",
       "      <th>1</th>\n",
       "      <td>d'aww match background colour i'm seemingly st...</td>\n",
       "      <td>0</td>\n",
       "      <td>D'aww! He matches this background colour I'm s...</td>\n",
       "    </tr>\n",
       "    <tr>\n",
       "      <th>2</th>\n",
       "      <td>hey man i'm really try edit war guy constantly...</td>\n",
       "      <td>0</td>\n",
       "      <td>Hey man, I'm really not trying to edit war. It...</td>\n",
       "    </tr>\n",
       "    <tr>\n",
       "      <th>3</th>\n",
       "      <td>can't make real suggestion improvement wonder ...</td>\n",
       "      <td>0</td>\n",
       "      <td>\"\\nMore\\nI can't make any real suggestions on ...</td>\n",
       "    </tr>\n",
       "    <tr>\n",
       "      <th>4</th>\n",
       "      <td>sir hero chance remember page that's</td>\n",
       "      <td>0</td>\n",
       "      <td>You, sir, are my hero. Any chance you remember...</td>\n",
       "    </tr>\n",
       "  </tbody>\n",
       "</table>\n",
       "</div>"
      ],
      "text/plain": [
       "                                                text  toxic  \\\n",
       "0  explanation edits make username hardcore metal...      0   \n",
       "1  d'aww match background colour i'm seemingly st...      0   \n",
       "2  hey man i'm really try edit war guy constantly...      0   \n",
       "3  can't make real suggestion improvement wonder ...      0   \n",
       "4               sir hero chance remember page that's      0   \n",
       "\n",
       "                                              origin  \n",
       "0  Explanation\\nWhy the edits made under my usern...  \n",
       "1  D'aww! He matches this background colour I'm s...  \n",
       "2  Hey man, I'm really not trying to edit war. It...  \n",
       "3  \"\\nMore\\nI can't make any real suggestions on ...  \n",
       "4  You, sir, are my hero. Any chance you remember...  "
      ]
     },
     "execution_count": 17,
     "metadata": {},
     "output_type": "execute_result"
    }
   ],
   "source": [
    "%%time\n",
    "# теперь удалим стоп-слова\n",
    "data['text'] = data['text'].progress_apply(clear_stopwords)\n",
    "data.head()"
   ]
  },
  {
   "cell_type": "markdown",
   "metadata": {},
   "source": [
    "**Вывод: Данные подготовили для обучения.**\n",
    "\n",
    "- почистили текст от лишних символов, переносов строк\n",
    "- токенизировали\n",
    "- лемматизировали\n",
    "- удалили стоп-слова"
   ]
  },
  {
   "cell_type": "markdown",
   "metadata": {},
   "source": [
    "### Создание датасетов"
   ]
  },
  {
   "cell_type": "code",
   "execution_count": 18,
   "metadata": {},
   "outputs": [],
   "source": [
    "# создадим признаки и класс\n",
    "features = data['text']#.astype('U')\n",
    "target = data['toxic']\n",
    "\n",
    "# разобьем на выборки\n",
    "features_train, features_test, target_train, target_test = train_test_split(\n",
    "    features, target, test_size=0.25, random_state=12345, stratify=target)\n",
    "\n",
    "# и сделаем валидационные выборки\n",
    "features_train, features_val, target_train, target_val = train_test_split(\n",
    "    features_train, target_train, test_size=0.25, random_state=12345, stratify=target_train\n",
    ")"
   ]
  },
  {
   "cell_type": "code",
   "execution_count": 19,
   "metadata": {},
   "outputs": [],
   "source": [
    "# Создаем счетчик TF-IDF\n",
    "tf_idf = TfidfVectorizer(stop_words=list(stopwords_en))"
   ]
  },
  {
   "cell_type": "code",
   "execution_count": 20,
   "metadata": {},
   "outputs": [
    {
     "name": "stdout",
     "output_type": "stream",
     "text": [
      "CPU times: user 5.12 s, sys: 40.2 ms, total: 5.16 s\n",
      "Wall time: 5.17 s\n"
     ]
    }
   ],
   "source": [
    "%%time\n",
    "# Закодируем\n",
    "features_train = tf_idf.fit_transform(features_train)\n",
    "features_val = tf_idf.transform(features_val)\n",
    "features_test = tf_idf.transform(features_test)"
   ]
  },
  {
   "cell_type": "code",
   "execution_count": 21,
   "metadata": {},
   "outputs": [
    {
     "name": "stdout",
     "output_type": "stream",
     "text": [
      "features_train\n"
     ]
    },
    {
     "data": {
      "text/plain": [
       "(89601, 108146)"
      ]
     },
     "metadata": {},
     "output_type": "display_data"
    },
    {
     "name": "stdout",
     "output_type": "stream",
     "text": [
      "\n",
      "features_val\n"
     ]
    },
    {
     "data": {
      "text/plain": [
       "(29868, 108146)"
      ]
     },
     "metadata": {},
     "output_type": "display_data"
    },
    {
     "name": "stdout",
     "output_type": "stream",
     "text": [
      "\n",
      "features_test\n"
     ]
    },
    {
     "data": {
      "text/plain": [
       "(39823, 108146)"
      ]
     },
     "metadata": {},
     "output_type": "display_data"
    }
   ],
   "source": [
    "print('features_train')\n",
    "display(features_train.shape)\n",
    "print()\n",
    "print('features_val')\n",
    "display(features_val.shape)\n",
    "print()\n",
    "print('features_test')\n",
    "display(features_test.shape)"
   ]
  },
  {
   "cell_type": "markdown",
   "metadata": {},
   "source": [
    "**Вывод: Подготовили датасеты для построения моделей.**\n",
    "- обозначили признаки и класс\n",
    "- разбили на выборки (обучающую, валидационную и тестовую)\n",
    "- закодировали посредством TF-IDF"
   ]
  },
  {
   "cell_type": "markdown",
   "metadata": {},
   "source": [
    "## Построение разных моделей"
   ]
  },
  {
   "cell_type": "code",
   "execution_count": 22,
   "metadata": {},
   "outputs": [],
   "source": [
    "all_results = {}"
   ]
  },
  {
   "cell_type": "markdown",
   "metadata": {},
   "source": [
    "Напишем циклы, в которых сможем перебрать гиперпараметры и построить модели."
   ]
  },
  {
   "cell_type": "markdown",
   "metadata": {},
   "source": [
    "### DecisionTreeClassifier"
   ]
  },
  {
   "cell_type": "code",
   "execution_count": 23,
   "metadata": {},
   "outputs": [
    {
     "data": {
      "application/vnd.jupyter.widget-view+json": {
       "model_id": "7a66b36a1d154ce9aa52da69be8581d7",
       "version_major": 2,
       "version_minor": 0
      },
      "text/plain": [
       "  0%|          | 0/6 [00:00<?, ?it/s]"
      ]
     },
     "metadata": {},
     "output_type": "display_data"
    },
    {
     "name": "stdout",
     "output_type": "stream",
     "text": [
      "\n",
      "DecisionTreeClassifier\n",
      "\n",
      "Параметры: class_weight=None, max_depth=64\n",
      "F1 = 0.7115063924402445\n",
      "\n",
      "Параметры: class_weight=balanced, max_depth=64\n",
      "F1 = 0.6031651239175874\n",
      "\n",
      "Параметры: class_weight=None, max_depth=114\n",
      "F1 = 0.7148694261858235\n",
      "\n",
      "Параметры: class_weight=balanced, max_depth=114\n",
      "F1 = 0.6281895504252735\n",
      "\n",
      "Параметры: class_weight=None, max_depth=128\n",
      "F1 = 0.7157485875706214\n",
      "\n",
      "Параметры: class_weight=balanced, max_depth=128\n",
      "F1 = 0.6353190202600544\n",
      "\n"
     ]
    },
    {
     "data": {
      "image/png": "[encoded data removed]",
      "text/plain": [
       "<Figure size 1152x432 with 1 Axes>"
      ]
     },
     "metadata": {},
     "output_type": "display_data"
    },
    {
     "name": "stdout",
     "output_type": "stream",
     "text": [
      "\n",
      "Лучшая модель: F1 0.7157485875706214\n",
      "Параметры: {'max_depth': 128, 'class_weight': None}\n",
      "Скорость обучения: 49.16742992401123\n",
      "Скорость предсказания: 0.016824722290039062\n",
      "\n",
      "DecisionTreeClassifier показала макс F1 0.7157\n"
     ]
    }
   ],
   "source": [
    "model_name = 'DecisionTreeClassifier'\n",
    "\n",
    "# параметр для учета дисбаланса в классе\n",
    "param_class_weight = [None,'balanced']\n",
    "p_max_depth = [64,114,128]\n",
    "\n",
    "pbar = tqdm(total=len(p_max_depth)*len(param_class_weight))\n",
    "\n",
    "print()\n",
    "print(f\"{model_name}\")\n",
    "\n",
    "max_f1 = 0\n",
    "for max_depth in p_max_depth:\n",
    "    for class_weight in param_class_weight:\n",
    "\n",
    "        model = DecisionTreeClassifier(\n",
    "            max_depth=max_depth,\n",
    "            class_weight=class_weight,\n",
    "            random_state=12345\n",
    "        )\n",
    "\n",
    "        start_learn = time.time()\n",
    "        model.fit(features_train, target_train)\n",
    "        end_learn = time.time()\n",
    "\n",
    "        start_predict = time.time()\n",
    "        predictions_val = model.predict(features_val)\n",
    "        end_predict = time.time()\n",
    "\n",
    "        f1 = f1_score(target_val.values, predictions_val)\n",
    "\n",
    "        if f1>max_f1:\n",
    "            max_f1=f1\n",
    "            auc_roc = roc_auc_score(target_val,predictions_val)\n",
    "            probabilities = model.predict_proba(features_val)\n",
    "            result = {\n",
    "                'params':{\n",
    "                    'max_depth':max_depth,\n",
    "                    'class_weight':class_weight\n",
    "                },\n",
    "                'result':{\n",
    "                    'f1':f1,\n",
    "                    'time_learn':(end_learn - start_learn),\n",
    "                    'time_predict':(end_predict - start_predict),\n",
    "                    'auc_roc':auc_roc,\n",
    "                    'predicted':predictions_val,\n",
    "                    'probabilities':probabilities[:,1]\n",
    "                },\n",
    "                'model': model\n",
    "            }\n",
    "        print()\n",
    "        print(f'Параметры: class_weight={class_weight}, max_depth={max_depth}')\n",
    "        print('F1 =',f1)\n",
    "        pbar.update()\n",
    "pbar.close()\n",
    "\n",
    "all_results[model_name] = result\n",
    "\n",
    "print()\n",
    "# выводим график \n",
    "do_roc_curve(target_val,all_results[model_name]['result']['probabilities'],\n",
    "             model_name,result['result']['f1'],result['result']['auc_roc']);\n",
    "print()\n",
    "\n",
    "print(f\"Лучшая модель: F1 {result['result']['f1']}\")\n",
    "print(f\"Параметры: {result['params']}\")\n",
    "print(f\"Скорость обучения: {result['result']['time_learn']}\")\n",
    "print(f\"Скорость предсказания: {result['result']['time_predict']}\")\n",
    "print()\n",
    "print(f\"{model_name} показала макс F1 {round(result['result']['f1'],4)}\")"
   ]
  },
  {
   "cell_type": "markdown",
   "metadata": {},
   "source": [
    "*Отметим, что в дереве решений class_weight=balanced даёт худшие результаты, чем class_weight=None.*"
   ]
  },
  {
   "cell_type": "markdown",
   "metadata": {},
   "source": [
    "### AdaBoostClassifier"
   ]
  },
  {
   "cell_type": "code",
   "execution_count": 24,
   "metadata": {},
   "outputs": [
    {
     "data": {
      "application/vnd.jupyter.widget-view+json": {
       "model_id": "925dd60f1584459691ace3a4385255d4",
       "version_major": 2,
       "version_minor": 0
      },
      "text/plain": [
       "  0%|          | 0/1 [00:00<?, ?it/s]"
      ]
     },
     "metadata": {},
     "output_type": "display_data"
    },
    {
     "name": "stdout",
     "output_type": "stream",
     "text": [
      "\n",
      "AdaBoostClassifier\n",
      "\n",
      "Параметры: DTC_tree_max_depth: 1, n_estimators=900\n",
      "F1 = 0.7594390507011867\n",
      "\n"
     ]
    },
    {
     "data": {
      "image/png": "[encoded data removed]",
      "text/plain": [
       "<Figure size 1152x432 with 1 Axes>"
      ]
     },
     "metadata": {},
     "output_type": "display_data"
    },
    {
     "name": "stdout",
     "output_type": "stream",
     "text": [
      "\n",
      "Лучшая модель: F1 0.7594390507011867\n",
      "Параметры: {'n_estimators': 900, 'DTC_tree_max_depth': 1}\n",
      "Скорость обучения: 414.8768427371979\n",
      "Скорость предсказания: 6.59082555770874\n",
      "\n",
      "AdaBoostClassifier показала макс F1 0.7594\n"
     ]
    }
   ],
   "source": [
    "model_name = 'AdaBoostClassifier'\n",
    "\n",
    "#изначальный вариант перебора\n",
    "#p_n_estimators = [300,600,900]\n",
    "#DTC_tree_max_depths = [1,3]\n",
    "\n",
    "p_n_estimators = [900]\n",
    "DTC_tree_max_depths = [1]\n",
    "\n",
    "pbar = tqdm(total=len(p_n_estimators)*len(DTC_tree_max_depths))\n",
    "\n",
    "print()\n",
    "print(f\"{model_name}\")\n",
    "\n",
    "max_f1 = 0\n",
    "for DTC_tree_max_depth in DTC_tree_max_depths:\n",
    "    for n_estimators in p_n_estimators:\n",
    "        \n",
    "        model = AdaBoostClassifier(\n",
    "            n_estimators=n_estimators,\n",
    "            estimator=DecisionTreeClassifier(\n",
    "                max_depth=DTC_tree_max_depth, random_state=12345),\n",
    "            random_state=12345\n",
    "        )\n",
    "\n",
    "        start_learn = time.time()\n",
    "        model.fit(features_train, target_train)\n",
    "        end_learn = time.time()\n",
    "\n",
    "        start_predict = time.time()\n",
    "        predictions_val = model.predict(features_val)\n",
    "        end_predict = time.time()\n",
    "\n",
    "        f1 = f1_score(target_val.values, predictions_val)\n",
    "\n",
    "        if f1>max_f1:\n",
    "            max_f1=f1\n",
    "            auc_roc = roc_auc_score(target_val,predictions_val)\n",
    "            probabilities = model.predict_proba(features_val)\n",
    "            result = {\n",
    "                'params':{\n",
    "                    'n_estimators':n_estimators,\n",
    "                    'DTC_tree_max_depth':DTC_tree_max_depth\n",
    "                },\n",
    "                'result':{\n",
    "                    'f1':f1,\n",
    "                    'time_learn':(end_learn - start_learn),\n",
    "                    'time_predict':(end_predict - start_predict),\n",
    "                    'auc_roc':auc_roc,\n",
    "                    'predicted':predictions_val,\n",
    "                    'probabilities':probabilities[:,1]\n",
    "                },\n",
    "                'model': model\n",
    "            }\n",
    "        print()\n",
    "        print(f'Параметры: DTC_tree_max_depth: {DTC_tree_max_depth}, n_estimators={n_estimators}')\n",
    "        print('F1 =',f1)\n",
    "        pbar.update()\n",
    "pbar.close()\n",
    "\n",
    "all_results[model_name] = result\n",
    "\n",
    "print()\n",
    "# выводим график \n",
    "do_roc_curve(target_val,all_results[model_name]['result']['probabilities'],\n",
    "             model_name,result['result']['f1'],result['result']['auc_roc']);\n",
    "print()\n",
    "print(f\"Лучшая модель: F1 {result['result']['f1']}\")\n",
    "print(f\"Параметры: {result['params']}\")\n",
    "print(f\"Скорость обучения: {result['result']['time_learn']}\")\n",
    "print(f\"Скорость предсказания: {result['result']['time_predict']}\")\n",
    "print()\n",
    "print(f\"{model_name} показала макс F1 {round(result['result']['f1'],4)}\")"
   ]
  },
  {
   "cell_type": "markdown",
   "metadata": {},
   "source": [
    "### LogisticRegression"
   ]
  },
  {
   "cell_type": "code",
   "execution_count": 25,
   "metadata": {},
   "outputs": [
    {
     "name": "stdout",
     "output_type": "stream",
     "text": [
      "\n",
      "LogisticRegression\n"
     ]
    },
    {
     "data": {
      "application/vnd.jupyter.widget-view+json": {
       "model_id": "21ef7ffee10b4626b7a9e1e41bb14ead",
       "version_major": 2,
       "version_minor": 0
      },
      "text/plain": [
       "  0%|          | 0/6 [00:00<?, ?it/s]"
      ]
     },
     "metadata": {},
     "output_type": "display_data"
    },
    {
     "name": "stdout",
     "output_type": "stream",
     "text": [
      "\n",
      "Параметры: class_weight=None, C=1\n",
      "F1 = 0.7214040750453904\n",
      "\n",
      "Параметры: class_weight=None, C=3\n",
      "F1 = 0.7510078709925129\n",
      "\n",
      "Параметры: class_weight=None, C=5\n",
      "F1 = 0.7560606060606061\n",
      "\n",
      "Параметры: class_weight=balanced, C=1\n",
      "F1 = 0.740503565710959\n",
      "\n",
      "Параметры: class_weight=balanced, C=3\n",
      "F1 = 0.7510523150932049\n",
      "\n",
      "Параметры: class_weight=balanced, C=5\n",
      "F1 = 0.7511808624104831\n",
      "\n"
     ]
    },
    {
     "data": {
      "image/png": "[encoded data removed]",
      "text/plain": [
       "<Figure size 1152x432 with 1 Axes>"
      ]
     },
     "metadata": {},
     "output_type": "display_data"
    },
    {
     "name": "stdout",
     "output_type": "stream",
     "text": [
      "\n",
      "Лучшая модель: F1 0.7560606060606061\n",
      "Параметры: {'class_weight': None, 'C': 5}\n",
      "Скорость обучения: 37.48591947555542\n",
      "Скорость предсказания: 0.0030820369720458984\n",
      "\n",
      "LogisticRegression показала макс F1 0.7561\n"
     ]
    }
   ],
   "source": [
    "model_name = 'LogisticRegression'\n",
    "# параметры для тестирования\n",
    "\n",
    "print()\n",
    "print(f\"{model_name}\")\n",
    "\n",
    "# параметр для учета дисбаланса в классе\n",
    "param_class_weight = [None,'balanced']\n",
    "#C (C Regularization Parameter) – это параметр штрафования или неверной классификации.\n",
    "#За каждую ошибку модель можно штрафовать ( penalty ), и это увеличит эффективность.\n",
    "params_c = [1,3,5]\n",
    "\n",
    "pbar = tqdm(total=len(params_c)*len(param_class_weight))\n",
    "\n",
    "max_f1 = 0\n",
    "for class_weight in param_class_weight:\n",
    "    for param_c in params_c:\n",
    "\n",
    "        model = LogisticRegression(\n",
    "            random_state=12345,\n",
    "            class_weight=class_weight,\n",
    "            C=param_c)\n",
    "\n",
    "        start_learn = time.time()\n",
    "        model.fit(features_train, target_train)\n",
    "        end_learn = time.time()\n",
    "\n",
    "        start_predict = time.time()\n",
    "        predictions_val = model.predict(features_val)\n",
    "        end_predict = time.time()\n",
    "\n",
    "        f1 = f1_score(target_val.values, predictions_val)\n",
    "\n",
    "        if f1>max_f1:\n",
    "            max_f1=f1\n",
    "            auc_roc = roc_auc_score(target_val,predictions_val)\n",
    "            probabilities = model.predict_proba(features_val)\n",
    "            result = {\n",
    "                'params':{\n",
    "                    'class_weight':class_weight,\n",
    "                    'C':param_c\n",
    "                },\n",
    "                'result':{\n",
    "                    'f1':f1,\n",
    "                    'time_learn':(end_learn - start_learn),\n",
    "                    'time_predict':(end_predict - start_predict),\n",
    "                    'auc_roc':auc_roc,\n",
    "                    'predicted':predictions_val,\n",
    "                    'probabilities':probabilities[:,1]\n",
    "                },\n",
    "                'model': model\n",
    "            }\n",
    "        print()\n",
    "        print(f'Параметры: class_weight={class_weight}, C={param_c}')\n",
    "        print('F1 =',f1)\n",
    "\n",
    "        pbar.update()\n",
    "pbar.close()\n",
    "\n",
    "all_results[model_name] = result\n",
    "\n",
    "print()\n",
    "# выводим график \n",
    "do_roc_curve(target_val,all_results[model_name]['result']['probabilities'],\n",
    "             model_name,result['result']['f1'],result['result']['auc_roc']);\n",
    "print()\n",
    "print(f\"Лучшая модель: F1 {result['result']['f1']}\")\n",
    "print(f\"Параметры: {result['params']}\")\n",
    "print(f\"Скорость обучения: {result['result']['time_learn']}\")\n",
    "print(f\"Скорость предсказания: {result['result']['time_predict']}\")\n",
    "print()\n",
    "print(f\"{model_name} показала макс F1 {round(result['result']['f1'],4)}\")"
   ]
  },
  {
   "cell_type": "markdown",
   "metadata": {},
   "source": [
    "### RandomForestClassifier"
   ]
  },
  {
   "cell_type": "code",
   "execution_count": 26,
   "metadata": {},
   "outputs": [
    {
     "data": {
      "application/vnd.jupyter.widget-view+json": {
       "model_id": "37aadf0c0c214d4397a93029159dd4a8",
       "version_major": 2,
       "version_minor": 0
      },
      "text/plain": [
       "  0%|          | 0/4 [00:00<?, ?it/s]"
      ]
     },
     "metadata": {},
     "output_type": "display_data"
    },
    {
     "name": "stdout",
     "output_type": "stream",
     "text": [
      "\n",
      "RandomForestClassifier\n",
      "\n",
      "Параметры: class_weight=None, max_depth=256, n_estimators=20\n",
      "F1 = 0.5686635944700461\n",
      "\n",
      "Параметры: class_weight=None, max_depth=256, n_estimators=100\n",
      "F1 = 0.6064047240517828\n",
      "\n",
      "Параметры: class_weight=balanced, max_depth=256, n_estimators=20\n",
      "F1 = 0.5796943231441049\n",
      "\n",
      "Параметры: class_weight=balanced, max_depth=256, n_estimators=100\n",
      "F1 = 0.598439821693908\n",
      "\n"
     ]
    },
    {
     "data": {
      "image/png": "[encoded data removed]",
      "text/plain": [
       "<Figure size 1152x432 with 1 Axes>"
      ]
     },
     "metadata": {},
     "output_type": "display_data"
    },
    {
     "name": "stdout",
     "output_type": "stream",
     "text": [
      "\n",
      "Лучшая модель: F1 0.6064047240517828\n",
      "Параметры: {'max_depth': 256, 'n_estimators': 100, 'class_weight': None}\n",
      "Скорость обучения: 232.37261843681335\n",
      "Скорость предсказания: 2.4138023853302\n",
      "\n",
      "RandomForestClassifier показала макс F1 0.6064\n"
     ]
    }
   ],
   "source": [
    "model_name = 'RandomForestClassifier'\n",
    "\n",
    "# параметр для учета дисбаланса в классе\n",
    "param_class_weight = [None,'balanced']\n",
    "p_max_depth = [256]\n",
    "p_n_estimators = [20,100]\n",
    "\n",
    "pbar = tqdm(total=len(p_max_depth)*len(param_class_weight)*len(p_n_estimators))\n",
    "\n",
    "print()\n",
    "print(f\"{model_name}\")\n",
    "\n",
    "max_f1 = 0\n",
    "for class_weight in param_class_weight:\n",
    "    for max_depth in p_max_depth:\n",
    "        for n_estimators in p_n_estimators:\n",
    "\n",
    "            model = RandomForestClassifier(\n",
    "                max_depth=max_depth,\n",
    "                class_weight=class_weight,\n",
    "                n_estimators=n_estimators,\n",
    "                random_state=12345\n",
    "            )\n",
    "\n",
    "            start_learn = time.time()\n",
    "            model.fit(features_train, target_train)\n",
    "            end_learn = time.time()\n",
    "\n",
    "            start_predict = time.time()\n",
    "            predictions_val = model.predict(features_val)\n",
    "            end_predict = time.time()\n",
    "\n",
    "            f1 = f1_score(target_val.values, predictions_val)\n",
    "\n",
    "            if f1>max_f1:\n",
    "                max_f1=f1\n",
    "                auc_roc = roc_auc_score(target_val,predictions_val)\n",
    "                probabilities = model.predict_proba(features_val)\n",
    "                result = {\n",
    "                    'params':{\n",
    "                        'max_depth':max_depth,\n",
    "                        'n_estimators':n_estimators,\n",
    "                        'class_weight':class_weight\n",
    "                    },\n",
    "                    'result':{\n",
    "                        'f1':f1,\n",
    "                        'time_learn':(end_learn - start_learn),\n",
    "                        'time_predict':(end_predict - start_predict),\n",
    "                        'auc_roc':auc_roc,\n",
    "                        'predicted':predictions_val,\n",
    "                        'probabilities':probabilities[:,1]\n",
    "                    },\n",
    "                    'model': model\n",
    "                }\n",
    "            print()\n",
    "            print(f'Параметры: class_weight={class_weight}, max_depth={max_depth}, n_estimators={n_estimators}')\n",
    "            print('F1 =',f1)\n",
    "            pbar.update()\n",
    "pbar.close()\n",
    "\n",
    "all_results[model_name] = result\n",
    "\n",
    "print()\n",
    "# выводим график \n",
    "do_roc_curve(target_val,all_results[model_name]['result']['probabilities'],\n",
    "             model_name,result['result']['f1'],result['result']['auc_roc']);\n",
    "print()\n",
    "print(f\"Лучшая модель: F1 {result['result']['f1']}\")\n",
    "print(f\"Параметры: {result['params']}\")\n",
    "print(f\"Скорость обучения: {result['result']['time_learn']}\")\n",
    "print(f\"Скорость предсказания: {result['result']['time_predict']}\")\n",
    "print()\n",
    "print(f\"{model_name} показала макс F1 {round(result['result']['f1'],4)}\")"
   ]
  },
  {
   "cell_type": "markdown",
   "metadata": {},
   "source": [
    "### Выводы и выбор лучшей модели"
   ]
  },
  {
   "cell_type": "markdown",
   "metadata": {},
   "source": [
    "**Посмотрим на сводную таблицу результатов по всем моделям**"
   ]
  },
  {
   "cell_type": "code",
   "execution_count": 27,
   "metadata": {
    "scrolled": true
   },
   "outputs": [
    {
     "data": {
      "text/html": [
       "<style  type=\"text/css\" >\n",
       "</style><table id=\"T_06ed9_\" ><thead>    <tr>        <th class=\"col_heading level0 col0\" >Модель</th>        <th class=\"col_heading level0 col1\" >F1 (valid)</th>        <th class=\"col_heading level0 col2\" >Скорость обучения</th>        <th class=\"col_heading level0 col3\" >Скорость предсказания</th>        <th class=\"col_heading level0 col4\" >Параметры</th>    </tr></thead><tbody>\n",
       "                <tr>\n",
       "                                <td id=\"T_06ed9_row0_col0\" class=\"data row0 col0\" >AdaBoostClassifier</td>\n",
       "                        <td id=\"T_06ed9_row0_col1\" class=\"data row0 col1\" >0.759400</td>\n",
       "                        <td id=\"T_06ed9_row0_col2\" class=\"data row0 col2\" >414.88 сек.</td>\n",
       "                        <td id=\"T_06ed9_row0_col3\" class=\"data row0 col3\" >6.59 сек.</td>\n",
       "                        <td id=\"T_06ed9_row0_col4\" class=\"data row0 col4\" >{'n_estimators': 900, 'DTC_tree_max_depth': 1}</td>\n",
       "            </tr>\n",
       "            <tr>\n",
       "                                <td id=\"T_06ed9_row1_col0\" class=\"data row1 col0\" >LogisticRegression</td>\n",
       "                        <td id=\"T_06ed9_row1_col1\" class=\"data row1 col1\" >0.756100</td>\n",
       "                        <td id=\"T_06ed9_row1_col2\" class=\"data row1 col2\" >37.49 сек.</td>\n",
       "                        <td id=\"T_06ed9_row1_col3\" class=\"data row1 col3\" >0.0 сек.</td>\n",
       "                        <td id=\"T_06ed9_row1_col4\" class=\"data row1 col4\" >{'class_weight': None, 'C': 5}</td>\n",
       "            </tr>\n",
       "            <tr>\n",
       "                                <td id=\"T_06ed9_row2_col0\" class=\"data row2 col0\" >DecisionTreeClassifier</td>\n",
       "                        <td id=\"T_06ed9_row2_col1\" class=\"data row2 col1\" >0.715700</td>\n",
       "                        <td id=\"T_06ed9_row2_col2\" class=\"data row2 col2\" >49.17 сек.</td>\n",
       "                        <td id=\"T_06ed9_row2_col3\" class=\"data row2 col3\" >0.02 сек.</td>\n",
       "                        <td id=\"T_06ed9_row2_col4\" class=\"data row2 col4\" >{'max_depth': 128, 'class_weight': None}</td>\n",
       "            </tr>\n",
       "            <tr>\n",
       "                                <td id=\"T_06ed9_row3_col0\" class=\"data row3 col0\" >RandomForestClassifier</td>\n",
       "                        <td id=\"T_06ed9_row3_col1\" class=\"data row3 col1\" >0.606400</td>\n",
       "                        <td id=\"T_06ed9_row3_col2\" class=\"data row3 col2\" >232.37 сек.</td>\n",
       "                        <td id=\"T_06ed9_row3_col3\" class=\"data row3 col3\" >2.41 сек.</td>\n",
       "                        <td id=\"T_06ed9_row3_col4\" class=\"data row3 col4\" >{'max_depth': 256, 'n_estimators': 100, 'class_weight': None}</td>\n",
       "            </tr>\n",
       "    </tbody></table>"
      ],
      "text/plain": [
       "<pandas.io.formats.style.Styler at 0x7f69be8c05b0>"
      ]
     },
     "execution_count": 27,
     "metadata": {},
     "output_type": "execute_result"
    }
   ],
   "source": [
    "df_data = []\n",
    "for model, model_result in all_results.items():\n",
    "    df_data.append([\n",
    "        model,\n",
    "        round(model_result['result']['f1'],4),\n",
    "        str(round(model_result['result']['time_learn'],2))+' сек.',\n",
    "        str(round(model_result['result']['time_predict'],2))+' сек.',\n",
    "        str(model_result['params'])\n",
    "    ])\n",
    "df = pd.DataFrame(df_data, columns=['Модель', 'F1 (valid)',\n",
    "                                    'Скорость обучения', 'Скорость предсказания', 'Параметры'])\n",
    "df = df.sort_values('F1 (valid)',ascending=False)\n",
    "df.style.hide_index()"
   ]
  },
  {
   "cell_type": "markdown",
   "metadata": {},
   "source": [
    "**Как мы видим по предсказанию на валидационной выборке:**\n",
    "\n",
    "- Модель LogisticRegression смогла показать результат F1=0.7545 (>0.75).\n",
    "    - она быстро обучается и прогнозирует данные\n",
    "    \n",
    "    Параметры: `{'class_weight': None, 'C': 5}`\n",
    "    \n",
    "    Скорость обучения: 39.38 сек. , предсказания: 0.003 сек.\n",
    "   \n",
    "   \n",
    "- Модель AdaBoostClassifier смогла показать результат F1=0.7594 (>0.75 и самый высокий показатель).\n",
    "    - стоит учесть, что эта модель долго обучается\n",
    "    \n",
    "    Параметры: `{'n_estimators': 900, 'DTC_tree_max_depth': 1}`\n",
    "    \n",
    "    Скорость обучения: 414.9 сек. , предсказания: 6.59 сек.\n",
    "    \n",
    "    \n",
    "- Две другие модели не достигли минимальной планки F1 в 0.75\n",
    "\n",
    "    - DecisionTreeClassifier показала макс = F1 0.7157\n",
    "    \n",
    "        Параметры: `{'max_depth': 128, 'class_weight': None}`\n",
    "        \n",
    "        Скорость обучения: 49.17, предсказания: 0.017 сек.\n",
    "        \n",
    "    - RandomForestClassifier показала макс = F1 0.6089\n",
    "    \n",
    "        Параметры: `{'max_depth': 256, 'n_estimators': 100, 'class_weight': None}`\n",
    "\n",
    "        Скорость обучения: 232.37 сек., предсказания: 2.41 сек.\n",
    "     \n",
    "     \n",
    "- Сделана сводная таблица результатов обучения моделей\n",
    "- Выбрана лучшая модель:"
   ]
  },
  {
   "cell_type": "markdown",
   "metadata": {},
   "source": [
    "**Лучшая модель:**\n",
    "- AdaBoostClassifier\t\n",
    "\n",
    "    F1 (valid) = 0.7594\n",
    "    \n",
    "    Скорость обучения\t414.9 сек.\n",
    "    \n",
    "    Скорость предсказания\t6.59 сек.\n",
    "    \n",
    "    Параметры `{'n_estimators': 900, 'DTC_tree_max_depth': 1}`\n",
    "    \n",
    "*Заметим, что эта модель обучается значительно дольше остальных, но немного лучше по F1-мере. Соответственно, если будет важна скорость обучения, то лучше выбрать LogisticRegression, которая также показала >0.75 на валидационной выборке.* "
   ]
  },
  {
   "cell_type": "markdown",
   "metadata": {},
   "source": [
    "## Тестирование лучшей модели"
   ]
  },
  {
   "cell_type": "markdown",
   "metadata": {},
   "source": [
    "**Протестируем лучшую модель на тестовой выборке.**\n",
    "\n",
    "Значение метрики F1 на тестовой выборке должно быть не менее 0.75 по условиям задания."
   ]
  },
  {
   "cell_type": "code",
   "execution_count": 29,
   "metadata": {},
   "outputs": [
    {
     "data": {
      "text/html": [
       "<style  type=\"text/css\" >\n",
       "</style><table id=\"T_a5136_\" ><thead>    <tr>        <th class=\"col_heading level0 col0\" >Модель</th>        <th class=\"col_heading level0 col1\" >F1 TEST</th>        <th class=\"col_heading level0 col2\" >F1 valid</th>        <th class=\"col_heading level0 col3\" >Скорость обучения</th>        <th class=\"col_heading level0 col4\" >Скорость предск. TEST</th>        <th class=\"col_heading level0 col5\" >Параметры</th>    </tr></thead><tbody>\n",
       "                <tr>\n",
       "                                <td id=\"T_a5136_row0_col0\" class=\"data row0 col0\" >AdaBoostClassifier</td>\n",
       "                        <td id=\"T_a5136_row0_col1\" class=\"data row0 col1\" >0.755000</td>\n",
       "                        <td id=\"T_a5136_row0_col2\" class=\"data row0 col2\" >0.759000</td>\n",
       "                        <td id=\"T_a5136_row0_col3\" class=\"data row0 col3\" >414.877 сек.</td>\n",
       "                        <td id=\"T_a5136_row0_col4\" class=\"data row0 col4\" >9.103 сек.</td>\n",
       "                        <td id=\"T_a5136_row0_col5\" class=\"data row0 col5\" >{'n_estimators': 900, 'DTC_tree_max_depth': 1}</td>\n",
       "            </tr>\n",
       "    </tbody></table>"
      ],
      "text/plain": [
       "<pandas.io.formats.style.Styler at 0x7f69a9afa250>"
      ]
     },
     "metadata": {},
     "output_type": "display_data"
    },
    {
     "name": "stdout",
     "output_type": "stream",
     "text": [
      "Как мы видим, модель AdaBoostClassifier показывает F1=0.755\n",
      "на тестовой выборке, что соответствует условиям задачи (F1>=0.75).\n"
     ]
    }
   ],
   "source": [
    "model_name = 'AdaBoostClassifier'\n",
    "\n",
    "## сразу и таблицу создадим, и предсказания сделаем\n",
    "df_data = []\n",
    "\n",
    "top_model = all_results[model_name]['model']\n",
    "\n",
    "# делаем предсказание сохраненной лучшей моделью по тестовым данным\n",
    "start_predict = time.time()\n",
    "predictions_test = top_model.predict(features_test)    \n",
    "end_predict = time.time()\n",
    "\n",
    "# считаем f1 test\n",
    "f1_test = f1_score(target_test.values, predictions_test)\n",
    "\n",
    "df_data.append([\n",
    "    model_name,\n",
    "    round(f1_test,3),\n",
    "    round(all_results[model_name]['result']['f1'],3),\n",
    "    str(round(all_results[model_name]['result']['time_learn'],3))+' сек.',\n",
    "    str(round((end_predict-start_predict),3))+' сек.',\n",
    "    str(all_results[model_name]['params'])\n",
    "])\n",
    "df = pd.DataFrame(df_data, columns=['Модель', 'F1 TEST', 'F1 valid',\n",
    "                                    'Скорость обучения', 'Скорость предск. TEST', 'Параметры'])\n",
    "\n",
    "display(df.style.hide_index())\n",
    "print(f'Как мы видим, модель {model_name} показывает F1={round(f1_test,3)}\\\n",
    "\\nна тестовой выборке, что соответствует условиям задачи (F1>=0.75).')"
   ]
  },
  {
   "cell_type": "markdown",
   "metadata": {},
   "source": [
    "**Задача решена.**"
   ]
  },
  {
   "cell_type": "markdown",
   "metadata": {},
   "source": [
    "## Общий вывод"
   ]
  },
  {
   "cell_type": "markdown",
   "metadata": {},
   "source": [
    "Перед нами стояли следующие цели и задачи:\n",
    "\n",
    "**Цель проекта:** Обучить модель классифицировать комментарии на позитивные и негативные.\n",
    "\n",
    "**Условия задачи:** Значение метрики *F1* на тестовой выборке должно быть не менее 0.75.\n",
    "\n",
    "**Мы выполнили работы:**\n",
    "\n",
    "1. Загрузили, изучили и обработали данные\n",
    "    - Загрузили и изучили общую информацию о данных. Обнаружили дисбаланс в классе.\n",
    "    - Проверили разметку токсичных комментариев, отсутствие дубликатов и отсутствующих данных.\n",
    "\n",
    "\n",
    "2. Подготовили данные для обучения\n",
    "\n",
    "    2.1. Обработали данные\n",
    "        - почистили текст от лишних символов, переносов строк\n",
    "        - токенизировали\n",
    "        - лемматизировали\n",
    "        - удалили стоп-слова (english)\n",
    "        \n",
    "    2.2. Подготовили датасеты для построения моделей.\n",
    "        - обозначили признаки и класс\n",
    "        - разбили на выборки (обучающую, валидационную и тестовую)\n",
    "        - закодировали посредством TF-IDF\n",
    "    \n",
    "\n",
    "3. Построили разные модели и протестировали на валидационной выборке:\n",
    "\n",
    "    - Сделали сводную таблицу результатов обучения моделей\n",
    "    - Оценили качество моделей и выбрали лучшую:\n",
    "\n",
    "    3.1  DecisionTreeClassifier\n",
    "    \n",
    "        - показала макс F1 0.7157, результат не соответствует мин. F1 >=0.75\n",
    "    \n",
    "    3.2  AdaBoostClassifier (лучшая)\n",
    "\n",
    "        - смогла показать результат F1=0.759 (>0.75)\n",
    "        - долго обучается, но это не противоречит условиям задачи\n",
    "    \n",
    "    3.3  LogisticRegression\n",
    "    \n",
    "        - смогла показать результат F1=0.755 (>0.75)\n",
    "        - в случае, если скорость обучения важна - лучше выбрать её\n",
    "    \n",
    "    3.4  RandomForestClassifier\n",
    "    \n",
    "        - показала макс F1=0.606, результат не соответствует мин. F1 >=0.75\n",
    "    \n",
    "    3.5. Определили лучшую модель:\n",
    "        - AdaBoostClassifier\t\n",
    "            F1 (valid) = 0.759\n",
    "            Скорость обучения\t414.88 сек.\t\t\n",
    "            Скорость предсказания\t6.59 сек.\n",
    "            Параметры `{'n_estimators': 900, 'DTC_tree_max_depth': 1}`\n",
    "    \n",
    "    \n",
    "4. Проверили данные на тестовой выборке и сделали выводы.\n",
    "\n",
    "   Модель AdaBoostClassifier показывает F1=0.755 (>0.75 по условиям задачи) на тестовой выборке.\n",
    "\n",
    "**Поставленные задачи выполнены.**"
   ]
  },
  {
   "cell_type": "code",
   "execution_count": null,
   "metadata": {},
   "outputs": [],
   "source": []
  }
 ],
 "metadata": {
  "ExecuteTimeLog": [
   {
    "duration": 2420,
    "start_time": "2023-04-09T09:06:28.068Z"
   },
   {
    "duration": 1570,
    "start_time": "2023-04-09T09:10:05.703Z"
   },
   {
    "duration": 1566,
    "start_time": "2023-04-09T09:10:21.151Z"
   },
   {
    "duration": 11,
    "start_time": "2023-04-09T09:10:48.238Z"
   },
   {
    "duration": 48,
    "start_time": "2023-04-09T09:11:01.059Z"
   },
   {
    "duration": 2105,
    "start_time": "2023-04-09T09:11:52.970Z"
   },
   {
    "duration": 1605,
    "start_time": "2023-04-09T09:12:08.669Z"
   },
   {
    "duration": 29,
    "start_time": "2023-04-09T09:14:49.058Z"
   },
   {
    "duration": 26,
    "start_time": "2023-04-09T09:15:10.931Z"
   },
   {
    "duration": 18,
    "start_time": "2023-04-09T09:17:53.855Z"
   },
   {
    "duration": 771,
    "start_time": "2023-04-09T09:19:26.610Z"
   },
   {
    "duration": 4,
    "start_time": "2023-04-09T09:19:37.264Z"
   },
   {
    "duration": 182,
    "start_time": "2023-04-09T09:20:16.865Z"
   },
   {
    "duration": 199,
    "start_time": "2023-04-09T09:20:32.981Z"
   },
   {
    "duration": 151,
    "start_time": "2023-04-09T09:21:16.924Z"
   },
   {
    "duration": 716,
    "start_time": "2023-04-09T09:24:15.435Z"
   },
   {
    "duration": 40,
    "start_time": "2023-04-09T09:24:16.723Z"
   },
   {
    "duration": 20,
    "start_time": "2023-04-09T09:24:22.446Z"
   },
   {
    "duration": 206,
    "start_time": "2023-04-09T09:24:24.333Z"
   },
   {
    "duration": 26,
    "start_time": "2023-04-09T09:24:25.426Z"
   },
   {
    "duration": 163,
    "start_time": "2023-04-09T09:24:29.922Z"
   },
   {
    "duration": 4,
    "start_time": "2023-04-09T09:25:08.762Z"
   },
   {
    "duration": 12,
    "start_time": "2023-04-09T09:27:38.075Z"
   },
   {
    "duration": 3,
    "start_time": "2023-04-09T09:35:34.004Z"
   },
   {
    "duration": 191,
    "start_time": "2023-04-09T09:36:27.035Z"
   },
   {
    "duration": 738,
    "start_time": "2023-04-09T09:37:25.081Z"
   },
   {
    "duration": 1789,
    "start_time": "2023-04-09T09:37:32.547Z"
   },
   {
    "duration": 3,
    "start_time": "2023-04-09T09:38:24.427Z"
   },
   {
    "duration": 1168,
    "start_time": "2023-04-09T09:38:33.959Z"
   },
   {
    "duration": 1712,
    "start_time": "2023-04-09T09:38:44.476Z"
   },
   {
    "duration": 3,
    "start_time": "2023-04-09T09:39:11.598Z"
   },
   {
    "duration": 1874,
    "start_time": "2023-04-09T09:39:15.250Z"
   },
   {
    "duration": 4,
    "start_time": "2023-04-09T09:42:33.730Z"
   },
   {
    "duration": 4,
    "start_time": "2023-04-09T09:47:24.462Z"
   },
   {
    "duration": 683,
    "start_time": "2023-04-09T09:47:25.448Z"
   },
   {
    "duration": 42,
    "start_time": "2023-04-09T09:47:26.132Z"
   },
   {
    "duration": 11,
    "start_time": "2023-04-09T09:47:30.654Z"
   },
   {
    "duration": 1786,
    "start_time": "2023-04-09T09:47:31.603Z"
   },
   {
    "duration": 3,
    "start_time": "2023-04-09T09:47:59.291Z"
   },
   {
    "duration": 1736,
    "start_time": "2023-04-09T09:48:09.252Z"
   },
   {
    "duration": 4,
    "start_time": "2023-04-09T09:52:51.720Z"
   },
   {
    "duration": 9,
    "start_time": "2023-04-09T09:54:01.204Z"
   },
   {
    "duration": 5,
    "start_time": "2023-04-09T09:54:03.419Z"
   },
   {
    "duration": 4,
    "start_time": "2023-04-09T09:54:41.510Z"
   },
   {
    "duration": 1699,
    "start_time": "2023-04-09T09:54:44.872Z"
   },
   {
    "duration": 7,
    "start_time": "2023-04-09T09:57:18.069Z"
   },
   {
    "duration": 93,
    "start_time": "2023-04-09T09:58:27.732Z"
   },
   {
    "duration": 69,
    "start_time": "2023-04-09T09:58:46.856Z"
   },
   {
    "duration": 5,
    "start_time": "2023-04-09T10:04:25.621Z"
   },
   {
    "duration": 17,
    "start_time": "2023-04-09T10:04:48.449Z"
   },
   {
    "duration": 1298,
    "start_time": "2023-04-09T10:04:49.237Z"
   },
   {
    "duration": 5,
    "start_time": "2023-04-09T10:05:35.821Z"
   },
   {
    "duration": 9,
    "start_time": "2023-04-09T10:06:27.894Z"
   },
   {
    "duration": 734,
    "start_time": "2023-04-09T10:06:28.869Z"
   },
   {
    "duration": 63,
    "start_time": "2023-04-09T10:06:29.605Z"
   },
   {
    "duration": 17,
    "start_time": "2023-04-09T10:06:29.670Z"
   },
   {
    "duration": 224,
    "start_time": "2023-04-09T10:06:30.097Z"
   },
   {
    "duration": 30,
    "start_time": "2023-04-09T10:06:30.496Z"
   },
   {
    "duration": 158,
    "start_time": "2023-04-09T10:06:30.944Z"
   },
   {
    "duration": 4,
    "start_time": "2023-04-09T10:06:31.677Z"
   },
   {
    "duration": 4,
    "start_time": "2023-04-09T10:06:34.729Z"
   },
   {
    "duration": 14,
    "start_time": "2023-04-09T10:06:37.176Z"
   },
   {
    "duration": 1879,
    "start_time": "2023-04-09T10:06:37.555Z"
   },
   {
    "duration": 228,
    "start_time": "2023-04-09T10:06:47.556Z"
   },
   {
    "duration": 8,
    "start_time": "2023-04-09T10:06:59.402Z"
   },
   {
    "duration": 3191,
    "start_time": "2023-04-09T10:07:01.564Z"
   },
   {
    "duration": 29494,
    "start_time": "2023-04-09T10:07:10.575Z"
   },
   {
    "duration": 1939,
    "start_time": "2023-04-09T10:09:37.452Z"
   },
   {
    "duration": 2901,
    "start_time": "2023-04-09T10:09:39.393Z"
   },
   {
    "duration": 50,
    "start_time": "2023-04-09T10:09:42.296Z"
   },
   {
    "duration": 27,
    "start_time": "2023-04-09T10:09:42.348Z"
   },
   {
    "duration": 254,
    "start_time": "2023-04-09T10:09:42.376Z"
   },
   {
    "duration": 36,
    "start_time": "2023-04-09T10:09:42.633Z"
   },
   {
    "duration": 265,
    "start_time": "2023-04-09T10:09:42.670Z"
   },
   {
    "duration": 4,
    "start_time": "2023-04-09T10:09:42.937Z"
   },
   {
    "duration": 5,
    "start_time": "2023-04-09T10:09:42.943Z"
   },
   {
    "duration": 11,
    "start_time": "2023-04-09T10:09:45.914Z"
   },
   {
    "duration": 1852,
    "start_time": "2023-04-09T10:09:46.913Z"
   },
   {
    "duration": 1997,
    "start_time": "2023-04-09T10:09:53.955Z"
   },
   {
    "duration": 2144,
    "start_time": "2023-04-09T10:10:09.932Z"
   },
   {
    "duration": 2425,
    "start_time": "2023-04-09T10:10:14.806Z"
   },
   {
    "duration": 18266,
    "start_time": "2023-04-09T10:10:34.883Z"
   },
   {
    "duration": 8,
    "start_time": "2023-04-09T10:13:36.340Z"
   },
   {
    "duration": 649,
    "start_time": "2023-04-09T10:13:37.037Z"
   },
   {
    "duration": 83,
    "start_time": "2023-04-09T10:13:37.688Z"
   },
   {
    "duration": 18,
    "start_time": "2023-04-09T10:13:37.773Z"
   },
   {
    "duration": 208,
    "start_time": "2023-04-09T10:13:38.170Z"
   },
   {
    "duration": 27,
    "start_time": "2023-04-09T10:13:38.599Z"
   },
   {
    "duration": 179,
    "start_time": "2023-04-09T10:13:39.010Z"
   },
   {
    "duration": 3,
    "start_time": "2023-04-09T10:13:39.418Z"
   },
   {
    "duration": 5,
    "start_time": "2023-04-09T10:13:40.116Z"
   },
   {
    "duration": 11,
    "start_time": "2023-04-09T10:13:42.225Z"
   },
   {
    "duration": 54,
    "start_time": "2023-04-09T10:13:49.336Z"
   },
   {
    "duration": 2073,
    "start_time": "2023-04-09T10:13:57.145Z"
   },
   {
    "duration": 2885,
    "start_time": "2023-04-09T10:13:59.220Z"
   },
   {
    "duration": 63,
    "start_time": "2023-04-09T10:14:02.107Z"
   },
   {
    "duration": 16,
    "start_time": "2023-04-09T10:14:02.171Z"
   },
   {
    "duration": 225,
    "start_time": "2023-04-09T10:14:02.189Z"
   },
   {
    "duration": 25,
    "start_time": "2023-04-09T10:14:02.415Z"
   },
   {
    "duration": 235,
    "start_time": "2023-04-09T10:14:03.854Z"
   },
   {
    "duration": 4,
    "start_time": "2023-04-09T10:14:07.411Z"
   },
   {
    "duration": 37,
    "start_time": "2023-04-09T10:14:19.849Z"
   },
   {
    "duration": 30,
    "start_time": "2023-04-09T10:14:38.800Z"
   },
   {
    "duration": 5,
    "start_time": "2023-04-09T10:14:39.954Z"
   },
   {
    "duration": 12,
    "start_time": "2023-04-09T10:14:41.665Z"
   },
   {
    "duration": 1964,
    "start_time": "2023-04-09T10:14:53.419Z"
   },
   {
    "duration": 2836,
    "start_time": "2023-04-09T10:14:55.385Z"
   },
   {
    "duration": 55,
    "start_time": "2023-04-09T10:14:58.223Z"
   },
   {
    "duration": 19,
    "start_time": "2023-04-09T10:14:58.280Z"
   },
   {
    "duration": 254,
    "start_time": "2023-04-09T10:14:58.300Z"
   },
   {
    "duration": 30,
    "start_time": "2023-04-09T10:14:58.556Z"
   },
   {
    "duration": 306,
    "start_time": "2023-04-09T10:14:58.589Z"
   },
   {
    "duration": 28,
    "start_time": "2023-04-09T10:14:58.896Z"
   },
   {
    "duration": 4,
    "start_time": "2023-04-09T10:14:58.926Z"
   },
   {
    "duration": 21,
    "start_time": "2023-04-09T10:14:58.932Z"
   },
   {
    "duration": 2088,
    "start_time": "2023-04-09T10:14:58.954Z"
   },
   {
    "duration": 2228,
    "start_time": "2023-04-09T10:15:01.044Z"
   },
   {
    "duration": 2189,
    "start_time": "2023-04-09T10:15:03.274Z"
   },
   {
    "duration": 17251,
    "start_time": "2023-04-09T10:15:13.854Z"
   },
   {
    "duration": 4,
    "start_time": "2023-04-09T10:16:02.718Z"
   },
   {
    "duration": 3,
    "start_time": "2023-04-09T10:16:10.485Z"
   },
   {
    "duration": 4,
    "start_time": "2023-04-09T10:16:16.706Z"
   },
   {
    "duration": 4,
    "start_time": "2023-04-09T10:16:20.428Z"
   },
   {
    "duration": 4,
    "start_time": "2023-04-09T10:16:22.758Z"
   },
   {
    "duration": 4,
    "start_time": "2023-04-09T10:16:26.573Z"
   },
   {
    "duration": 4,
    "start_time": "2023-04-09T10:16:33.318Z"
   },
   {
    "duration": 3,
    "start_time": "2023-04-09T10:16:42.613Z"
   },
   {
    "duration": 4,
    "start_time": "2023-04-09T10:16:48.414Z"
   },
   {
    "duration": 1373,
    "start_time": "2023-04-09T10:26:27.215Z"
   },
   {
    "duration": 53,
    "start_time": "2023-04-09T10:31:08.176Z"
   },
   {
    "duration": 3,
    "start_time": "2023-04-09T10:31:44.217Z"
   },
   {
    "duration": 143,
    "start_time": "2023-04-09T10:32:25.949Z"
   },
   {
    "duration": 17,
    "start_time": "2023-04-09T10:32:38.965Z"
   },
   {
    "duration": 667,
    "start_time": "2023-04-09T10:33:38.690Z"
   },
   {
    "duration": 6,
    "start_time": "2023-04-09T10:33:42.825Z"
   },
   {
    "duration": 2,
    "start_time": "2023-04-09T10:33:52.020Z"
   },
   {
    "duration": 5634,
    "start_time": "2023-04-09T10:33:52.719Z"
   },
   {
    "duration": 4,
    "start_time": "2023-04-09T10:34:11.684Z"
   },
   {
    "duration": 755,
    "start_time": "2023-04-09T10:34:19.661Z"
   },
   {
    "duration": 6,
    "start_time": "2023-04-09T10:34:21.007Z"
   },
   {
    "duration": 6,
    "start_time": "2023-04-09T10:36:52.986Z"
   },
   {
    "duration": 2735,
    "start_time": "2023-04-09T10:36:55.719Z"
   },
   {
    "duration": 2275,
    "start_time": "2023-04-09T10:37:06.730Z"
   },
   {
    "duration": 28841,
    "start_time": "2023-04-09T10:37:11.111Z"
   },
   {
    "duration": 7,
    "start_time": "2023-04-09T10:37:54.983Z"
   },
   {
    "duration": 2361,
    "start_time": "2023-04-09T10:37:57.015Z"
   },
   {
    "duration": 2526,
    "start_time": "2023-04-09T10:38:01.684Z"
   },
   {
    "duration": 32952,
    "start_time": "2023-04-09T10:38:07.296Z"
   },
   {
    "duration": 25,
    "start_time": "2023-04-09T10:38:40.256Z"
   },
   {
    "duration": 1251,
    "start_time": "2023-04-09T10:38:45.186Z"
   },
   {
    "duration": 254,
    "start_time": "2023-04-09T10:38:50.236Z"
   },
   {
    "duration": 6,
    "start_time": "2023-04-09T10:38:51.058Z"
   },
   {
    "duration": 17,
    "start_time": "2023-04-09T10:38:55.418Z"
   },
   {
    "duration": 5313,
    "start_time": "2023-04-09T10:38:56.094Z"
   },
   {
    "duration": 4,
    "start_time": "2023-04-09T10:39:18.018Z"
   },
   {
    "duration": 3,
    "start_time": "2023-04-09T10:39:29.334Z"
   },
   {
    "duration": 17,
    "start_time": "2023-04-09T10:40:03.665Z"
   },
   {
    "duration": 147,
    "start_time": "2023-04-09T10:42:56.439Z"
   },
   {
    "duration": 11,
    "start_time": "2023-04-09T10:42:57.558Z"
   },
   {
    "duration": 5372,
    "start_time": "2023-04-09T10:42:58.458Z"
   },
   {
    "duration": 8,
    "start_time": "2023-04-09T10:43:03.832Z"
   },
   {
    "duration": 0,
    "start_time": "2023-04-09T10:46:09.524Z"
   },
   {
    "duration": 5,
    "start_time": "2023-04-09T10:49:00.354Z"
   },
   {
    "duration": 40631,
    "start_time": "2023-04-09T10:51:42.716Z"
   },
   {
    "duration": 4,
    "start_time": "2023-04-09T10:53:25.445Z"
   },
   {
    "duration": 7,
    "start_time": "2023-04-09T10:53:41.422Z"
   },
   {
    "duration": 5,
    "start_time": "2023-04-09T10:53:55.175Z"
   },
   {
    "duration": 38098,
    "start_time": "2023-04-09T10:56:04.028Z"
   },
   {
    "duration": 79,
    "start_time": "2023-04-09T10:57:24.910Z"
   },
   {
    "duration": 4,
    "start_time": "2023-04-09T10:57:33.952Z"
   },
   {
    "duration": 5,
    "start_time": "2023-04-09T10:57:39.025Z"
   },
   {
    "duration": 4,
    "start_time": "2023-04-09T10:58:00.282Z"
   },
   {
    "duration": 3,
    "start_time": "2023-04-09T10:58:05.967Z"
   },
   {
    "duration": 3,
    "start_time": "2023-04-09T10:59:33.864Z"
   },
   {
    "duration": 4,
    "start_time": "2023-04-09T10:59:34.666Z"
   },
   {
    "duration": 10,
    "start_time": "2023-04-09T10:59:40.550Z"
   },
   {
    "duration": 655,
    "start_time": "2023-04-09T10:59:42.518Z"
   },
   {
    "duration": 52,
    "start_time": "2023-04-09T10:59:46.623Z"
   },
   {
    "duration": 24,
    "start_time": "2023-04-09T10:59:50.262Z"
   },
   {
    "duration": 215,
    "start_time": "2023-04-09T10:59:53.550Z"
   },
   {
    "duration": 28,
    "start_time": "2023-04-09T10:59:54.522Z"
   },
   {
    "duration": 157,
    "start_time": "2023-04-09T10:59:56.702Z"
   },
   {
    "duration": 36,
    "start_time": "2023-04-09T11:00:03.133Z"
   },
   {
    "duration": 5,
    "start_time": "2023-04-09T11:00:05.033Z"
   },
   {
    "duration": 11,
    "start_time": "2023-04-09T11:00:05.862Z"
   },
   {
    "duration": 1768,
    "start_time": "2023-04-09T11:00:06.157Z"
   },
   {
    "duration": 2005,
    "start_time": "2023-04-09T11:00:07.927Z"
   },
   {
    "duration": 29427,
    "start_time": "2023-04-09T11:00:09.933Z"
   },
   {
    "duration": 1209,
    "start_time": "2023-04-09T11:00:39.362Z"
   },
   {
    "duration": 70,
    "start_time": "2023-04-09T11:00:40.573Z"
   },
   {
    "duration": 26,
    "start_time": "2023-04-09T11:00:40.645Z"
   },
   {
    "duration": 4414,
    "start_time": "2023-04-09T11:00:40.672Z"
   },
   {
    "duration": 8,
    "start_time": "2023-04-09T11:00:45.088Z"
   },
   {
    "duration": 71155,
    "start_time": "2023-04-09T11:00:46.923Z"
   },
   {
    "duration": 13,
    "start_time": "2023-04-09T11:03:08.657Z"
   },
   {
    "duration": 157156,
    "start_time": "2023-04-09T11:03:31.729Z"
   },
   {
    "duration": 3,
    "start_time": "2023-04-09T11:07:06.648Z"
   },
   {
    "duration": 266558,
    "start_time": "2023-04-09T11:07:18.522Z"
   },
   {
    "duration": 349065,
    "start_time": "2023-04-09T11:12:17.617Z"
   },
   {
    "duration": 40,
    "start_time": "2023-04-09T11:18:06.685Z"
   },
   {
    "duration": 218,
    "start_time": "2023-04-09T11:18:44.980Z"
   },
   {
    "duration": 16193,
    "start_time": "2023-04-09T11:18:49.587Z"
   },
   {
    "duration": 1624,
    "start_time": "2023-04-09T11:26:04.918Z"
   },
   {
    "duration": 692,
    "start_time": "2023-04-09T11:26:06.544Z"
   },
   {
    "duration": 64,
    "start_time": "2023-04-09T11:26:07.237Z"
   },
   {
    "duration": 24,
    "start_time": "2023-04-09T11:26:07.302Z"
   },
   {
    "duration": 230,
    "start_time": "2023-04-09T11:26:07.328Z"
   },
   {
    "duration": 38,
    "start_time": "2023-04-09T11:26:07.560Z"
   },
   {
    "duration": 276,
    "start_time": "2023-04-09T11:26:07.600Z"
   },
   {
    "duration": 26,
    "start_time": "2023-04-09T11:26:07.878Z"
   },
   {
    "duration": 6,
    "start_time": "2023-04-09T11:26:07.906Z"
   },
   {
    "duration": 15,
    "start_time": "2023-04-09T11:26:07.913Z"
   },
   {
    "duration": 1874,
    "start_time": "2023-04-09T11:26:07.930Z"
   },
   {
    "duration": 2179,
    "start_time": "2023-04-09T11:26:09.806Z"
   },
   {
    "duration": 31243,
    "start_time": "2023-04-09T11:26:11.987Z"
   },
   {
    "duration": 1020,
    "start_time": "2023-04-09T11:26:43.232Z"
   },
   {
    "duration": 99,
    "start_time": "2023-04-09T11:26:44.254Z"
   },
   {
    "duration": 3,
    "start_time": "2023-04-09T11:26:44.354Z"
   },
   {
    "duration": 4369,
    "start_time": "2023-04-09T11:26:44.368Z"
   },
   {
    "duration": 8,
    "start_time": "2023-04-09T11:26:48.738Z"
   },
   {
    "duration": 2,
    "start_time": "2023-04-09T11:26:48.748Z"
   },
   {
    "duration": 1736,
    "start_time": "2023-04-09T11:27:48.981Z"
   },
   {
    "duration": 734,
    "start_time": "2023-04-09T11:27:50.719Z"
   },
   {
    "duration": 59,
    "start_time": "2023-04-09T11:27:51.455Z"
   },
   {
    "duration": 17,
    "start_time": "2023-04-09T11:27:51.515Z"
   },
   {
    "duration": 231,
    "start_time": "2023-04-09T11:27:51.534Z"
   },
   {
    "duration": 27,
    "start_time": "2023-04-09T11:27:51.766Z"
   },
   {
    "duration": 254,
    "start_time": "2023-04-09T11:27:51.795Z"
   },
   {
    "duration": 35,
    "start_time": "2023-04-09T11:27:52.051Z"
   },
   {
    "duration": 5,
    "start_time": "2023-04-09T11:27:52.087Z"
   },
   {
    "duration": 19,
    "start_time": "2023-04-09T11:27:52.094Z"
   },
   {
    "duration": 1916,
    "start_time": "2023-04-09T11:27:52.115Z"
   },
   {
    "duration": 2301,
    "start_time": "2023-04-09T11:27:54.033Z"
   },
   {
    "duration": 31863,
    "start_time": "2023-04-09T11:27:56.336Z"
   },
   {
    "duration": 1000,
    "start_time": "2023-04-09T11:28:28.201Z"
   },
   {
    "duration": 66,
    "start_time": "2023-04-09T11:28:29.203Z"
   },
   {
    "duration": 3,
    "start_time": "2023-04-09T11:28:29.270Z"
   },
   {
    "duration": 4480,
    "start_time": "2023-04-09T11:28:29.274Z"
   },
   {
    "duration": 15,
    "start_time": "2023-04-09T11:28:33.755Z"
   },
   {
    "duration": 2,
    "start_time": "2023-04-09T11:28:33.771Z"
   },
   {
    "duration": 45764,
    "start_time": "2023-04-09T11:28:33.775Z"
   },
   {
    "duration": 154,
    "start_time": "2023-04-09T11:29:19.541Z"
   },
   {
    "duration": 222338,
    "start_time": "2023-04-09T11:32:07.150Z"
   },
   {
    "duration": 192167,
    "start_time": "2023-04-09T11:35:49.490Z"
   },
   {
    "duration": 1676,
    "start_time": "2023-04-09T15:09:25.374Z"
   },
   {
    "duration": 753,
    "start_time": "2023-04-09T15:09:27.052Z"
   },
   {
    "duration": 62,
    "start_time": "2023-04-09T15:09:27.807Z"
   },
   {
    "duration": 17,
    "start_time": "2023-04-09T15:09:27.871Z"
   },
   {
    "duration": 228,
    "start_time": "2023-04-09T15:09:27.890Z"
   },
   {
    "duration": 25,
    "start_time": "2023-04-09T15:09:28.119Z"
   },
   {
    "duration": 252,
    "start_time": "2023-04-09T15:09:28.145Z"
   },
   {
    "duration": 24,
    "start_time": "2023-04-09T15:09:28.398Z"
   },
   {
    "duration": 5,
    "start_time": "2023-04-09T15:09:28.424Z"
   },
   {
    "duration": 13,
    "start_time": "2023-04-09T15:09:28.431Z"
   },
   {
    "duration": 1873,
    "start_time": "2023-04-09T15:09:28.446Z"
   },
   {
    "duration": 2490,
    "start_time": "2023-04-09T15:09:30.321Z"
   },
   {
    "duration": 30434,
    "start_time": "2023-04-09T15:09:32.812Z"
   },
   {
    "duration": 1013,
    "start_time": "2023-04-09T15:10:03.248Z"
   },
   {
    "duration": 61,
    "start_time": "2023-04-09T15:10:04.262Z"
   },
   {
    "duration": 2,
    "start_time": "2023-04-09T15:10:04.325Z"
   },
   {
    "duration": 4311,
    "start_time": "2023-04-09T15:10:04.329Z"
   },
   {
    "duration": 7,
    "start_time": "2023-04-09T15:10:08.642Z"
   },
   {
    "duration": 2,
    "start_time": "2023-04-09T15:10:08.651Z"
   },
   {
    "duration": 314992,
    "start_time": "2023-04-09T15:10:08.668Z"
   },
   {
    "duration": 215818,
    "start_time": "2023-04-09T15:15:23.661Z"
   },
   {
    "duration": 1871,
    "start_time": "2023-04-09T15:38:20.351Z"
   },
   {
    "duration": 1586,
    "start_time": "2023-04-09T15:38:22.224Z"
   },
   {
    "duration": 166,
    "start_time": "2023-04-09T15:38:23.812Z"
   },
   {
    "duration": 18,
    "start_time": "2023-04-09T15:38:23.980Z"
   },
   {
    "duration": 391,
    "start_time": "2023-04-09T15:38:24.000Z"
   },
   {
    "duration": 29,
    "start_time": "2023-04-09T15:38:24.392Z"
   },
   {
    "duration": 282,
    "start_time": "2023-04-09T15:38:24.423Z"
   },
   {
    "duration": 29,
    "start_time": "2023-04-09T15:38:24.707Z"
   },
   {
    "duration": 8,
    "start_time": "2023-04-09T15:38:24.738Z"
   },
   {
    "duration": 30,
    "start_time": "2023-04-09T15:38:24.748Z"
   },
   {
    "duration": 2022,
    "start_time": "2023-04-09T15:38:24.780Z"
   },
   {
    "duration": 2467,
    "start_time": "2023-04-09T15:38:26.803Z"
   },
   {
    "duration": 35765,
    "start_time": "2023-04-09T15:38:29.271Z"
   },
   {
    "duration": 1042,
    "start_time": "2023-04-09T15:39:05.038Z"
   },
   {
    "duration": 71,
    "start_time": "2023-04-09T15:39:06.082Z"
   },
   {
    "duration": 3,
    "start_time": "2023-04-09T15:39:06.154Z"
   },
   {
    "duration": 5619,
    "start_time": "2023-04-09T15:39:06.169Z"
   },
   {
    "duration": 12,
    "start_time": "2023-04-09T15:39:11.790Z"
   },
   {
    "duration": 4,
    "start_time": "2023-04-09T15:39:11.803Z"
   },
   {
    "duration": 326236,
    "start_time": "2023-04-09T15:39:11.809Z"
   },
   {
    "duration": 228624,
    "start_time": "2023-04-09T15:44:38.046Z"
   },
   {
    "duration": 1743318,
    "start_time": "2023-04-09T15:48:26.671Z"
   },
   {
    "duration": 78,
    "start_time": "2023-04-09T16:17:29.991Z"
   },
   {
    "duration": 0,
    "start_time": "2023-04-09T16:17:30.217Z"
   },
   {
    "duration": 0,
    "start_time": "2023-04-09T16:17:30.219Z"
   },
   {
    "duration": 0,
    "start_time": "2023-04-09T16:17:30.221Z"
   },
   {
    "duration": 9,
    "start_time": "2023-04-09T16:19:12.235Z"
   },
   {
    "duration": 8,
    "start_time": "2023-04-09T16:19:24.335Z"
   },
   {
    "duration": 57,
    "start_time": "2023-04-09T16:19:33.333Z"
   },
   {
    "duration": 23,
    "start_time": "2023-04-09T16:19:54.116Z"
   },
   {
    "duration": 29,
    "start_time": "2023-04-09T16:20:07.655Z"
   },
   {
    "duration": 26359,
    "start_time": "2023-04-09T16:24:16.935Z"
   },
   {
    "duration": 7,
    "start_time": "2023-04-09T16:25:14.788Z"
   },
   {
    "duration": 13,
    "start_time": "2023-04-09T16:25:18.361Z"
   },
   {
    "duration": 24584,
    "start_time": "2023-04-09T16:25:25.213Z"
   },
   {
    "duration": 27392,
    "start_time": "2023-04-09T16:26:46.383Z"
   },
   {
    "duration": 232935,
    "start_time": "2023-04-09T16:27:46.662Z"
   },
   {
    "duration": 17,
    "start_time": "2023-04-09T16:32:12.873Z"
   },
   {
    "duration": 13,
    "start_time": "2023-04-09T16:32:15.289Z"
   },
   {
    "duration": 767,
    "start_time": "2023-04-09T16:32:18.319Z"
   },
   {
    "duration": 57,
    "start_time": "2023-04-09T16:32:19.088Z"
   },
   {
    "duration": 26,
    "start_time": "2023-04-09T16:32:19.166Z"
   },
   {
    "duration": 217,
    "start_time": "2023-04-09T16:32:19.970Z"
   },
   {
    "duration": 27,
    "start_time": "2023-04-09T16:32:21.106Z"
   },
   {
    "duration": 199,
    "start_time": "2023-04-09T16:32:21.619Z"
   },
   {
    "duration": 26,
    "start_time": "2023-04-09T16:32:23.719Z"
   },
   {
    "duration": 25,
    "start_time": "2023-04-09T16:32:32.722Z"
   },
   {
    "duration": 12,
    "start_time": "2023-04-09T16:32:34.938Z"
   },
   {
    "duration": 1922,
    "start_time": "2023-04-09T16:32:36.272Z"
   },
   {
    "duration": 2218,
    "start_time": "2023-04-09T16:32:38.196Z"
   },
   {
    "duration": 31309,
    "start_time": "2023-04-09T16:32:40.416Z"
   },
   {
    "duration": 1183,
    "start_time": "2023-04-09T16:33:11.727Z"
   },
   {
    "duration": 97,
    "start_time": "2023-04-09T16:33:12.912Z"
   },
   {
    "duration": 9,
    "start_time": "2023-04-09T16:34:01.488Z"
   },
   {
    "duration": 143,
    "start_time": "2023-04-09T16:34:12.009Z"
   },
   {
    "duration": 10,
    "start_time": "2023-04-09T16:34:33.431Z"
   },
   {
    "duration": 12,
    "start_time": "2023-04-09T16:34:34.470Z"
   },
   {
    "duration": 635,
    "start_time": "2023-04-09T16:34:36.154Z"
   },
   {
    "duration": 56,
    "start_time": "2023-04-09T16:34:36.791Z"
   },
   {
    "duration": 39,
    "start_time": "2023-04-09T16:34:36.849Z"
   },
   {
    "duration": 217,
    "start_time": "2023-04-09T16:34:37.184Z"
   },
   {
    "duration": 27,
    "start_time": "2023-04-09T16:34:37.584Z"
   },
   {
    "duration": 185,
    "start_time": "2023-04-09T16:34:37.957Z"
   },
   {
    "duration": 26,
    "start_time": "2023-04-09T16:34:38.353Z"
   },
   {
    "duration": 13,
    "start_time": "2023-04-09T16:34:39.220Z"
   },
   {
    "duration": 1914,
    "start_time": "2023-04-09T16:34:39.440Z"
   },
   {
    "duration": 1784,
    "start_time": "2023-04-09T16:34:41.356Z"
   },
   {
    "duration": 31140,
    "start_time": "2023-04-09T16:34:43.142Z"
   },
   {
    "duration": 1257,
    "start_time": "2023-04-09T16:35:14.284Z"
   },
   {
    "duration": 2051,
    "start_time": "2023-04-09T16:35:15.543Z"
   },
   {
    "duration": 243,
    "start_time": "2023-04-09T16:35:34.627Z"
   },
   {
    "duration": 236,
    "start_time": "2023-04-09T16:35:39.380Z"
   },
   {
    "duration": 382,
    "start_time": "2023-04-09T16:35:42.245Z"
   },
   {
    "duration": 230,
    "start_time": "2023-04-09T16:35:44.756Z"
   },
   {
    "duration": 228,
    "start_time": "2023-04-09T16:35:47.406Z"
   },
   {
    "duration": 270,
    "start_time": "2023-04-09T16:35:49.710Z"
   },
   {
    "duration": 241,
    "start_time": "2023-04-09T16:35:52.750Z"
   },
   {
    "duration": 218,
    "start_time": "2023-04-09T16:35:56.136Z"
   },
   {
    "duration": 219,
    "start_time": "2023-04-09T16:35:58.770Z"
   },
   {
    "duration": 10,
    "start_time": "2023-04-09T16:36:04.067Z"
   },
   {
    "duration": 2174,
    "start_time": "2023-04-09T16:36:04.680Z"
   },
   {
    "duration": 14,
    "start_time": "2023-04-09T16:36:06.857Z"
   },
   {
    "duration": 3,
    "start_time": "2023-04-09T16:36:12.819Z"
   },
   {
    "duration": 96187,
    "start_time": "2023-04-09T16:36:16.584Z"
   },
   {
    "duration": 0,
    "start_time": "2023-04-09T16:37:52.774Z"
   },
   {
    "duration": 11,
    "start_time": "2023-04-09T16:37:55.643Z"
   },
   {
    "duration": 107,
    "start_time": "2023-04-09T16:38:15.217Z"
   },
   {
    "duration": 6,
    "start_time": "2023-04-09T16:38:16.005Z"
   },
   {
    "duration": 5462,
    "start_time": "2023-04-09T16:38:16.666Z"
   },
   {
    "duration": 11,
    "start_time": "2023-04-09T16:38:22.130Z"
   },
   {
    "duration": 3,
    "start_time": "2023-04-09T16:38:25.213Z"
   },
   {
    "duration": 232415,
    "start_time": "2023-04-09T16:38:29.134Z"
   },
   {
    "duration": 0,
    "start_time": "2023-04-09T16:42:21.551Z"
   },
   {
    "duration": 1925,
    "start_time": "2023-04-09T16:43:43.088Z"
   },
   {
    "duration": 8,
    "start_time": "2023-04-09T16:43:45.015Z"
   },
   {
    "duration": 1395,
    "start_time": "2023-04-09T16:43:45.025Z"
   },
   {
    "duration": 144,
    "start_time": "2023-04-09T16:43:46.422Z"
   },
   {
    "duration": 21,
    "start_time": "2023-04-09T16:43:46.573Z"
   },
   {
    "duration": 232,
    "start_time": "2023-04-09T16:43:46.595Z"
   },
   {
    "duration": 26,
    "start_time": "2023-04-09T16:43:46.828Z"
   },
   {
    "duration": 230,
    "start_time": "2023-04-09T16:43:46.856Z"
   },
   {
    "duration": 30,
    "start_time": "2023-04-09T16:43:47.088Z"
   },
   {
    "duration": 16,
    "start_time": "2023-04-09T16:43:47.120Z"
   },
   {
    "duration": 1999,
    "start_time": "2023-04-09T16:43:47.137Z"
   },
   {
    "duration": 2485,
    "start_time": "2023-04-09T16:43:49.138Z"
   },
   {
    "duration": 33274,
    "start_time": "2023-04-09T16:43:51.625Z"
   },
   {
    "duration": 1113,
    "start_time": "2023-04-09T16:44:24.902Z"
   },
   {
    "duration": 74,
    "start_time": "2023-04-09T16:44:26.016Z"
   },
   {
    "duration": 2,
    "start_time": "2023-04-09T16:44:26.092Z"
   },
   {
    "duration": 4650,
    "start_time": "2023-04-09T16:44:26.095Z"
   },
   {
    "duration": 8,
    "start_time": "2023-04-09T16:44:30.746Z"
   },
   {
    "duration": 23,
    "start_time": "2023-04-09T16:44:30.778Z"
   },
   {
    "duration": 230740,
    "start_time": "2023-04-09T16:44:30.803Z"
   },
   {
    "duration": 1687,
    "start_time": "2023-04-09T16:48:27.049Z"
   },
   {
    "duration": 6,
    "start_time": "2023-04-09T16:48:28.738Z"
   },
   {
    "duration": 736,
    "start_time": "2023-04-09T16:48:28.746Z"
   },
   {
    "duration": 131,
    "start_time": "2023-04-09T16:48:29.484Z"
   },
   {
    "duration": 17,
    "start_time": "2023-04-09T16:48:29.617Z"
   },
   {
    "duration": 248,
    "start_time": "2023-04-09T16:48:29.636Z"
   },
   {
    "duration": 26,
    "start_time": "2023-04-09T16:48:29.886Z"
   },
   {
    "duration": 179,
    "start_time": "2023-04-09T16:48:30.144Z"
   },
   {
    "duration": 27,
    "start_time": "2023-04-09T16:48:30.620Z"
   },
   {
    "duration": 12,
    "start_time": "2023-04-09T16:48:31.488Z"
   },
   {
    "duration": 2008,
    "start_time": "2023-04-09T16:48:31.700Z"
   },
   {
    "duration": 2324,
    "start_time": "2023-04-09T16:48:33.709Z"
   },
   {
    "duration": 32757,
    "start_time": "2023-04-09T16:48:36.034Z"
   },
   {
    "duration": 1151,
    "start_time": "2023-04-09T16:49:08.793Z"
   },
   {
    "duration": 75,
    "start_time": "2023-04-09T16:49:09.945Z"
   },
   {
    "duration": 2,
    "start_time": "2023-04-09T16:49:10.022Z"
   },
   {
    "duration": 4573,
    "start_time": "2023-04-09T16:49:10.026Z"
   },
   {
    "duration": 6,
    "start_time": "2023-04-09T16:49:14.601Z"
   },
   {
    "duration": 2,
    "start_time": "2023-04-09T16:49:14.609Z"
   },
   {
    "duration": 4,
    "start_time": "2023-04-09T16:49:14.613Z"
   },
   {
    "duration": 133084,
    "start_time": "2023-04-09T16:49:14.619Z"
   },
   {
    "duration": 498496,
    "start_time": "2023-04-09T16:51:46.310Z"
   },
   {
    "duration": 240065,
    "start_time": "2023-04-09T17:01:46.491Z"
   },
   {
    "duration": 12,
    "start_time": "2023-04-09T17:05:46.569Z"
   },
   {
    "duration": 52,
    "start_time": "2023-04-09T17:06:40.284Z"
   },
   {
    "duration": 488926,
    "start_time": "2023-04-09T17:06:55.762Z"
   },
   {
    "duration": 6239,
    "start_time": "2023-04-09T18:06:33.248Z"
   },
   {
    "duration": 53,
    "start_time": "2023-04-09T18:06:50.755Z"
   },
   {
    "duration": 35,
    "start_time": "2023-04-09T18:07:30.792Z"
   },
   {
    "duration": 36,
    "start_time": "2023-04-09T18:08:05.392Z"
   },
   {
    "duration": 4244,
    "start_time": "2023-04-09T18:08:31.971Z"
   },
   {
    "duration": 9,
    "start_time": "2023-04-09T18:08:36.217Z"
   },
   {
    "duration": 726,
    "start_time": "2023-04-09T18:08:36.227Z"
   },
   {
    "duration": 59,
    "start_time": "2023-04-09T18:08:36.954Z"
   },
   {
    "duration": 16,
    "start_time": "2023-04-09T18:08:37.015Z"
   },
   {
    "duration": 256,
    "start_time": "2023-04-09T18:08:37.032Z"
   },
   {
    "duration": 27,
    "start_time": "2023-04-09T18:08:37.289Z"
   },
   {
    "duration": 193,
    "start_time": "2023-04-09T18:08:37.318Z"
   },
   {
    "duration": 26,
    "start_time": "2023-04-09T18:08:37.512Z"
   },
   {
    "duration": 14,
    "start_time": "2023-04-09T18:08:37.540Z"
   },
   {
    "duration": 1965,
    "start_time": "2023-04-09T18:08:37.556Z"
   },
   {
    "duration": 2536,
    "start_time": "2023-04-09T18:08:39.523Z"
   },
   {
    "duration": 3546,
    "start_time": "2023-04-09T18:08:58.444Z"
   },
   {
    "duration": 1747,
    "start_time": "2023-04-09T18:09:45.352Z"
   },
   {
    "duration": 13,
    "start_time": "2023-04-09T18:09:51.596Z"
   },
   {
    "duration": 8,
    "start_time": "2023-04-09T18:09:53.660Z"
   },
   {
    "duration": 759,
    "start_time": "2023-04-09T18:09:54.456Z"
   },
   {
    "duration": 67,
    "start_time": "2023-04-09T18:09:55.217Z"
   },
   {
    "duration": 18,
    "start_time": "2023-04-09T18:09:55.286Z"
   },
   {
    "duration": 217,
    "start_time": "2023-04-09T18:09:55.471Z"
   },
   {
    "duration": 29,
    "start_time": "2023-04-09T18:09:55.852Z"
   },
   {
    "duration": 184,
    "start_time": "2023-04-09T18:09:56.254Z"
   },
   {
    "duration": 26,
    "start_time": "2023-04-09T18:09:56.661Z"
   },
   {
    "duration": 13,
    "start_time": "2023-04-09T18:09:57.498Z"
   },
   {
    "duration": 2041,
    "start_time": "2023-04-09T18:09:57.716Z"
   },
   {
    "duration": 2472,
    "start_time": "2023-04-09T18:09:59.760Z"
   },
   {
    "duration": 32183,
    "start_time": "2023-04-09T18:10:02.234Z"
   },
   {
    "duration": 1074,
    "start_time": "2023-04-09T18:10:34.419Z"
   },
   {
    "duration": 73,
    "start_time": "2023-04-09T18:10:35.495Z"
   },
   {
    "duration": 3,
    "start_time": "2023-04-09T18:10:35.570Z"
   },
   {
    "duration": 4420,
    "start_time": "2023-04-09T18:10:35.575Z"
   },
   {
    "duration": 9,
    "start_time": "2023-04-09T18:10:39.996Z"
   },
   {
    "duration": 24,
    "start_time": "2023-04-09T18:10:40.006Z"
   },
   {
    "duration": 166,
    "start_time": "2023-04-09T18:10:40.033Z"
   },
   {
    "duration": 1731,
    "start_time": "2023-04-09T18:11:28.976Z"
   },
   {
    "duration": 5649,
    "start_time": "2023-04-09T18:12:23.063Z"
   },
   {
    "duration": 10,
    "start_time": "2023-04-09T18:12:31.488Z"
   },
   {
    "duration": 38,
    "start_time": "2023-04-09T18:12:38.787Z"
   },
   {
    "duration": 2092,
    "start_time": "2023-04-09T18:12:48.766Z"
   },
   {
    "duration": 1522,
    "start_time": "2023-04-09T18:12:50.860Z"
   },
   {
    "duration": 9,
    "start_time": "2023-04-09T18:12:52.384Z"
   },
   {
    "duration": 694,
    "start_time": "2023-04-09T18:12:52.742Z"
   },
   {
    "duration": 53,
    "start_time": "2023-04-09T18:12:53.438Z"
   },
   {
    "duration": 16,
    "start_time": "2023-04-09T18:12:53.492Z"
   },
   {
    "duration": 214,
    "start_time": "2023-04-09T18:12:54.744Z"
   },
   {
    "duration": 30,
    "start_time": "2023-04-09T18:12:55.278Z"
   },
   {
    "duration": 192,
    "start_time": "2023-04-09T18:12:55.356Z"
   },
   {
    "duration": 34,
    "start_time": "2023-04-09T18:12:55.551Z"
   },
   {
    "duration": 10,
    "start_time": "2023-04-09T18:12:55.587Z"
   },
   {
    "duration": 2062,
    "start_time": "2023-04-09T18:12:56.135Z"
   },
   {
    "duration": 2542,
    "start_time": "2023-04-09T18:12:58.200Z"
   },
   {
    "duration": 29314,
    "start_time": "2023-04-09T18:13:00.743Z"
   },
   {
    "duration": 1022,
    "start_time": "2023-04-09T18:13:30.058Z"
   },
   {
    "duration": 58,
    "start_time": "2023-04-09T18:13:31.081Z"
   },
   {
    "duration": 3,
    "start_time": "2023-04-09T18:13:31.140Z"
   },
   {
    "duration": 199,
    "start_time": "2023-04-09T18:13:31.144Z"
   },
   {
    "duration": 8,
    "start_time": "2023-04-09T18:13:31.344Z"
   },
   {
    "duration": 41,
    "start_time": "2023-04-09T18:13:31.353Z"
   },
   {
    "duration": 49,
    "start_time": "2023-04-09T18:13:31.396Z"
   },
   {
    "duration": 5,
    "start_time": "2023-04-09T18:13:59.297Z"
   },
   {
    "duration": 5,
    "start_time": "2023-04-09T18:14:03.231Z"
   },
   {
    "duration": 2,
    "start_time": "2023-04-09T18:14:10.800Z"
   },
   {
    "duration": 4547,
    "start_time": "2023-04-09T18:14:11.578Z"
   },
   {
    "duration": 7,
    "start_time": "2023-04-09T18:14:17.092Z"
   },
   {
    "duration": 2,
    "start_time": "2023-04-09T18:14:19.168Z"
   },
   {
    "duration": 1823,
    "start_time": "2023-04-09T18:37:00.263Z"
   },
   {
    "duration": 1444,
    "start_time": "2023-04-09T18:37:02.088Z"
   },
   {
    "duration": 6,
    "start_time": "2023-04-09T18:37:03.534Z"
   },
   {
    "duration": 677,
    "start_time": "2023-04-09T18:37:03.542Z"
   },
   {
    "duration": 58,
    "start_time": "2023-04-09T18:37:04.220Z"
   },
   {
    "duration": 14,
    "start_time": "2023-04-09T18:37:04.279Z"
   },
   {
    "duration": 211,
    "start_time": "2023-04-09T18:37:04.295Z"
   },
   {
    "duration": 22,
    "start_time": "2023-04-09T18:37:04.508Z"
   },
   {
    "duration": 178,
    "start_time": "2023-04-09T18:37:04.531Z"
   },
   {
    "duration": 24,
    "start_time": "2023-04-09T18:37:04.711Z"
   },
   {
    "duration": 16,
    "start_time": "2023-04-09T18:37:04.736Z"
   },
   {
    "duration": 1797,
    "start_time": "2023-04-09T18:37:04.753Z"
   },
   {
    "duration": 2127,
    "start_time": "2023-04-09T18:37:06.552Z"
   },
   {
    "duration": 29923,
    "start_time": "2023-04-09T18:37:08.681Z"
   },
   {
    "duration": 976,
    "start_time": "2023-04-09T18:37:38.605Z"
   },
   {
    "duration": 57,
    "start_time": "2023-04-09T18:37:39.583Z"
   },
   {
    "duration": 2,
    "start_time": "2023-04-09T18:37:39.642Z"
   },
   {
    "duration": 4443,
    "start_time": "2023-04-09T18:37:39.646Z"
   },
   {
    "duration": 7,
    "start_time": "2023-04-09T18:37:44.091Z"
   },
   {
    "duration": 18,
    "start_time": "2023-04-09T18:37:44.100Z"
   },
   {
    "duration": 237601,
    "start_time": "2023-04-09T18:37:44.119Z"
   },
   {
    "duration": 84451,
    "start_time": "2023-04-09T18:41:41.723Z"
   },
   {
    "duration": 0,
    "start_time": "2023-04-09T18:43:06.176Z"
   },
   {
    "duration": 0,
    "start_time": "2023-04-09T18:43:06.177Z"
   },
   {
    "duration": 0,
    "start_time": "2023-04-09T18:43:06.178Z"
   },
   {
    "duration": 3104,
    "start_time": "2023-04-09T19:04:35.335Z"
   },
   {
    "duration": 2053,
    "start_time": "2023-04-09T19:04:38.441Z"
   },
   {
    "duration": 6,
    "start_time": "2023-04-09T19:04:40.495Z"
   },
   {
    "duration": 702,
    "start_time": "2023-04-09T19:04:40.503Z"
   },
   {
    "duration": 47,
    "start_time": "2023-04-09T19:04:41.207Z"
   },
   {
    "duration": 25,
    "start_time": "2023-04-09T19:04:41.269Z"
   },
   {
    "duration": 225,
    "start_time": "2023-04-09T19:04:41.296Z"
   },
   {
    "duration": 23,
    "start_time": "2023-04-09T19:04:41.523Z"
   },
   {
    "duration": 195,
    "start_time": "2023-04-09T19:04:41.547Z"
   },
   {
    "duration": 43,
    "start_time": "2023-04-09T19:04:41.743Z"
   },
   {
    "duration": 10,
    "start_time": "2023-04-09T19:04:41.789Z"
   },
   {
    "duration": 2117,
    "start_time": "2023-04-09T19:04:41.800Z"
   },
   {
    "duration": 2329,
    "start_time": "2023-04-09T19:04:43.919Z"
   },
   {
    "duration": 34652,
    "start_time": "2023-04-09T19:04:46.251Z"
   },
   {
    "duration": 979,
    "start_time": "2023-04-09T19:05:20.904Z"
   },
   {
    "duration": 57,
    "start_time": "2023-04-09T19:05:21.885Z"
   },
   {
    "duration": 3,
    "start_time": "2023-04-09T19:05:21.944Z"
   },
   {
    "duration": 4779,
    "start_time": "2023-04-09T19:05:21.948Z"
   },
   {
    "duration": 9,
    "start_time": "2023-04-09T19:05:26.729Z"
   },
   {
    "duration": 34,
    "start_time": "2023-04-09T19:05:26.740Z"
   },
   {
    "duration": 261846,
    "start_time": "2023-04-09T19:05:26.775Z"
   },
   {
    "duration": 1873,
    "start_time": "2023-04-09T19:32:55.462Z"
   },
   {
    "duration": 1561,
    "start_time": "2023-04-09T19:32:57.338Z"
   },
   {
    "duration": 9,
    "start_time": "2023-04-09T19:32:58.900Z"
   },
   {
    "duration": 1569,
    "start_time": "2023-04-09T19:32:58.911Z"
   },
   {
    "duration": 106,
    "start_time": "2023-04-09T19:33:00.483Z"
   },
   {
    "duration": 17,
    "start_time": "2023-04-09T19:33:00.590Z"
   },
   {
    "duration": 331,
    "start_time": "2023-04-09T19:33:00.609Z"
   },
   {
    "duration": 31,
    "start_time": "2023-04-09T19:33:00.942Z"
   },
   {
    "duration": 232,
    "start_time": "2023-04-09T19:33:00.975Z"
   },
   {
    "duration": 27,
    "start_time": "2023-04-09T19:33:01.208Z"
   },
   {
    "duration": 39,
    "start_time": "2023-04-09T19:33:01.238Z"
   },
   {
    "duration": 1945,
    "start_time": "2023-04-09T19:33:01.279Z"
   },
   {
    "duration": 2179,
    "start_time": "2023-04-09T19:33:03.226Z"
   },
   {
    "duration": 30623,
    "start_time": "2023-04-09T19:33:05.407Z"
   },
   {
    "duration": 1024,
    "start_time": "2023-04-09T19:33:36.032Z"
   },
   {
    "duration": 68,
    "start_time": "2023-04-09T19:33:37.057Z"
   },
   {
    "duration": 3,
    "start_time": "2023-04-09T19:33:37.127Z"
   },
   {
    "duration": 4863,
    "start_time": "2023-04-09T19:33:37.131Z"
   },
   {
    "duration": 10,
    "start_time": "2023-04-09T19:33:41.996Z"
   },
   {
    "duration": 2,
    "start_time": "2023-04-09T19:33:42.008Z"
   },
   {
    "duration": 277426,
    "start_time": "2023-04-09T19:33:42.012Z"
   },
   {
    "duration": 435502,
    "start_time": "2023-04-09T19:38:19.440Z"
   },
   {
    "duration": 226446,
    "start_time": "2023-04-09T19:45:34.944Z"
   },
   {
    "duration": 603985,
    "start_time": "2023-04-09T19:49:21.398Z"
   },
   {
    "duration": 50,
    "start_time": "2023-04-09T19:59:25.385Z"
   },
   {
    "duration": 9697,
    "start_time": "2023-04-09T19:59:25.437Z"
   },
   {
    "duration": 7114,
    "start_time": "2023-04-09T20:02:04.498Z"
   },
   {
    "duration": 7214,
    "start_time": "2023-04-09T20:02:35.275Z"
   },
   {
    "duration": 3,
    "start_time": "2023-04-10T09:27:47.090Z"
   },
   {
    "duration": 6371,
    "start_time": "2023-04-10T09:27:55.209Z"
   },
   {
    "duration": 1951,
    "start_time": "2023-04-10T09:28:01.582Z"
   },
   {
    "duration": 8,
    "start_time": "2023-04-10T09:28:03.534Z"
   },
   {
    "duration": 3157,
    "start_time": "2023-04-10T09:28:03.544Z"
   },
   {
    "duration": 802,
    "start_time": "2023-04-10T09:28:38.870Z"
   },
   {
    "duration": 54,
    "start_time": "2023-04-10T09:29:10.891Z"
   },
   {
    "duration": 3,
    "start_time": "2023-04-10T09:29:36.614Z"
   },
   {
    "duration": 236,
    "start_time": "2023-04-10T09:29:38.180Z"
   },
   {
    "duration": 28,
    "start_time": "2023-04-10T09:29:39.841Z"
   },
   {
    "duration": 47,
    "start_time": "2023-04-10T09:31:06.971Z"
   },
   {
    "duration": 229,
    "start_time": "2023-04-10T09:31:15.312Z"
   },
   {
    "duration": 61,
    "start_time": "2023-04-10T09:31:41.850Z"
   },
   {
    "duration": 158,
    "start_time": "2023-04-10T09:32:42.302Z"
   },
   {
    "duration": 173,
    "start_time": "2023-04-10T09:33:02.317Z"
   },
   {
    "duration": 3,
    "start_time": "2023-04-10T09:33:06.994Z"
   },
   {
    "duration": 9,
    "start_time": "2023-04-10T09:54:01.924Z"
   },
   {
    "duration": 12,
    "start_time": "2023-04-10T09:56:12.503Z"
   },
   {
    "duration": 2123,
    "start_time": "2023-04-10T09:56:29.692Z"
   },
   {
    "duration": 12,
    "start_time": "2023-04-10T09:56:31.818Z"
   },
   {
    "duration": 38,
    "start_time": "2023-04-10T09:56:31.832Z"
   },
   {
    "duration": 863,
    "start_time": "2023-04-10T09:56:32.016Z"
   },
   {
    "duration": 56,
    "start_time": "2023-04-10T09:56:33.674Z"
   },
   {
    "duration": 3,
    "start_time": "2023-04-10T09:56:34.267Z"
   },
   {
    "duration": 230,
    "start_time": "2023-04-10T09:56:35.058Z"
   },
   {
    "duration": 26,
    "start_time": "2023-04-10T09:56:35.764Z"
   },
   {
    "duration": 166,
    "start_time": "2023-04-10T09:56:36.252Z"
   },
   {
    "duration": 2,
    "start_time": "2023-04-10T09:56:41.401Z"
   },
   {
    "duration": 11,
    "start_time": "2023-04-10T09:56:43.763Z"
   },
   {
    "duration": 2212,
    "start_time": "2023-04-10T09:56:45.328Z"
   },
   {
    "duration": 2797,
    "start_time": "2023-04-10T09:56:48.037Z"
   },
   {
    "duration": 387,
    "start_time": "2023-04-10T09:56:56.344Z"
   },
   {
    "duration": 485,
    "start_time": "2023-04-10T09:57:26.895Z"
   },
   {
    "duration": 19,
    "start_time": "2023-04-10T09:57:33.518Z"
   },
   {
    "duration": 2159,
    "start_time": "2023-04-10T10:00:20.604Z"
   },
   {
    "duration": 1646,
    "start_time": "2023-04-10T10:00:22.765Z"
   },
   {
    "duration": 9,
    "start_time": "2023-04-10T10:00:24.413Z"
   },
   {
    "duration": 793,
    "start_time": "2023-04-10T10:00:24.424Z"
   },
   {
    "duration": 63,
    "start_time": "2023-04-10T10:00:25.220Z"
   },
   {
    "duration": 3,
    "start_time": "2023-04-10T10:00:25.303Z"
   },
   {
    "duration": 255,
    "start_time": "2023-04-10T10:00:25.307Z"
   },
   {
    "duration": 43,
    "start_time": "2023-04-10T10:00:25.564Z"
   },
   {
    "duration": 172,
    "start_time": "2023-04-10T10:00:25.739Z"
   },
   {
    "duration": 2,
    "start_time": "2023-04-10T10:00:27.304Z"
   },
   {
    "duration": 11,
    "start_time": "2023-04-10T10:00:29.125Z"
   },
   {
    "duration": 213,
    "start_time": "2023-04-10T10:00:58.703Z"
   },
   {
    "duration": 12,
    "start_time": "2023-04-10T10:01:41.908Z"
   },
   {
    "duration": 2741,
    "start_time": "2023-04-10T10:01:47.564Z"
   },
   {
    "duration": 2146,
    "start_time": "2023-04-10T10:02:52.303Z"
   },
   {
    "duration": 1614,
    "start_time": "2023-04-10T10:02:54.452Z"
   },
   {
    "duration": 11,
    "start_time": "2023-04-10T10:02:56.069Z"
   },
   {
    "duration": 809,
    "start_time": "2023-04-10T10:02:56.083Z"
   },
   {
    "duration": 62,
    "start_time": "2023-04-10T10:02:56.893Z"
   },
   {
    "duration": 3,
    "start_time": "2023-04-10T10:02:56.957Z"
   },
   {
    "duration": 241,
    "start_time": "2023-04-10T10:02:57.900Z"
   },
   {
    "duration": 27,
    "start_time": "2023-04-10T10:02:58.436Z"
   },
   {
    "duration": 172,
    "start_time": "2023-04-10T10:02:58.944Z"
   },
   {
    "duration": 2,
    "start_time": "2023-04-10T10:03:05.082Z"
   },
   {
    "duration": 11,
    "start_time": "2023-04-10T10:03:10.979Z"
   },
   {
    "duration": 2802,
    "start_time": "2023-04-10T10:03:11.702Z"
   },
   {
    "duration": 3183,
    "start_time": "2023-04-10T10:03:15.646Z"
   },
   {
    "duration": 186,
    "start_time": "2023-04-10T10:03:19.683Z"
   },
   {
    "duration": 12,
    "start_time": "2023-04-10T10:04:04.008Z"
   },
   {
    "duration": 75966,
    "start_time": "2023-04-10T10:04:14.936Z"
   },
   {
    "duration": 1514,
    "start_time": "2023-04-10T10:06:10.150Z"
   },
   {
    "duration": 114,
    "start_time": "2023-04-10T10:06:16.556Z"
   },
   {
    "duration": 2,
    "start_time": "2023-04-10T10:06:23.332Z"
   },
   {
    "duration": 5171,
    "start_time": "2023-04-10T10:06:25.211Z"
   },
   {
    "duration": 21,
    "start_time": "2023-04-10T10:06:30.384Z"
   },
   {
    "duration": 16,
    "start_time": "2023-04-10T10:06:30.407Z"
   },
   {
    "duration": 282786,
    "start_time": "2023-04-10T10:06:34.735Z"
   },
   {
    "duration": 428404,
    "start_time": "2023-04-10T10:11:17.523Z"
   },
   {
    "duration": 213797,
    "start_time": "2023-04-10T10:18:25.929Z"
   },
   {
    "duration": 696897,
    "start_time": "2023-04-10T10:21:59.728Z"
   },
   {
    "duration": 52,
    "start_time": "2023-04-10T10:33:36.627Z"
   },
   {
    "duration": 9824,
    "start_time": "2023-04-10T10:33:36.682Z"
   },
   {
    "duration": 9125,
    "start_time": "2023-04-10T10:37:50.156Z"
   }
  ],
  "kernelspec": {
   "display_name": "Python 3 (ipykernel)",
   "language": "python",
   "name": "python3"
  },
  "language_info": {
   "codemirror_mode": {
    "name": "ipython",
    "version": 3
   },
   "file_extension": ".py",
   "mimetype": "text/x-python",
   "name": "python",
   "nbconvert_exporter": "python",
   "pygments_lexer": "ipython3",
   "version": "3.9.5"
  },
  "toc": {
   "base_numbering": 1,
   "nav_menu": {},
   "number_sections": true,
   "sideBar": true,
   "skip_h1_title": true,
   "title_cell": "Содержание",
   "title_sidebar": "Содержание",
   "toc_cell": true,
   "toc_position": {
    "height": "calc(100% - 180px)",
    "left": "10px",
    "top": "150px",
    "width": "302.358px"
   },
   "toc_section_display": true,
   "toc_window_display": false
  }
 },
 "nbformat": 4,
 "nbformat_minor": 4
}
