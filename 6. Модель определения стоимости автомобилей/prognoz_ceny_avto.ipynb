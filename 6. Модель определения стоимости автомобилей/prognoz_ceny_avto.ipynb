{
 "cells": [
  {
   "cell_type": "markdown",
   "metadata": {
    "toc": true
   },
   "source": [
    "<h1>Содержание проекта<span class=\"tocSkip\"></span></h1>\n",
    "\n",
    "1  Загрузка и изучение данных\n",
    "\n",
    "2  Подготовка выборок для обучения моделей\n",
    "\n",
    "3  Обучение моделей\n",
    "\n",
    "    3.1  LinearRegression\n",
    "    3.2  CatBoostRegressor\n",
    "    3.3  LightGBM\n",
    "\n",
    "4  Анализ моделей\n",
    "\n",
    "5  Тестирование лучшей модели\n",
    "\n",
    "6  Общий вывод"
   ]
  },
  {
   "cell_type": "markdown",
   "metadata": {},
   "source": [
    "# Определение стоимости автомобилей\n",
    "\n",
    "Сервис по продаже автомобилей с пробегом «Не бит, не крашен» разрабатывает приложение для привлечения новых клиентов. В нём можно быстро узнать рыночную стоимость своего автомобиля.\n",
    "\n",
    "В нашем распоряжении исторические данные: технические характеристики, комплектации и цены автомобилей.\n",
    "\n",
    "# Цели и задачи проекта"
   ]
  },
  {
   "cell_type": "markdown",
   "metadata": {},
   "source": [
    "**Цель проекта:** Нам нужно построить модель для определения стоимости автомобиля. \n",
    "\n",
    "**Заказчику важны:**\n",
    "\n",
    "- качество предсказания;\n",
    "- скорость предсказания;\n",
    "- время обучения.\n",
    "\n",
    "**План выполнения работ:**\n",
    "\n",
    "1. Загрузка и изучение данных.\n",
    "    - Загрузим данные, путь к файлу: /datasets/autos.csv.\n",
    "    - Изучим данные. Заполним пропущенные значения и обработаем аномалии в столбцах. Если среди признаков будут неинформативные, удалим их.\n",
    "    \n",
    "\n",
    "2. Подготовка выборок для обучения моделей.\n",
    "\n",
    "\n",
    "3. Обучение разных моделей\n",
    "    - Одна из моделей по условию задачи — LightGBM, и как минимум одна — не бустинг.\n",
    "    - Для каждой модели попробуем разные гиперпараметры.\n",
    "    - Если какие-то модели покажут ошибку больше чем задана в задаче, - их рассматривать далее не будем.\n",
    "\n",
    "\n",
    "4. Проанализируем время обучения, время предсказания и качество моделей.\n",
    "    - Опираясь на критерии заказчика, выберете лучшую модель, проверьте её качество на тестовой выборке.\n",
    "\n",
    "**Дополнительная информация:**\n",
    "\n",
    "Для оценки качества моделей применяйте метрику RMSE.\n",
    "\n",
    "Значение метрики RMSE должно быть меньше 2500. Соответственно, если на этапе обучение какие-то модели не уложатся в поставленные условия - мы не будем их рассматривать."
   ]
  },
  {
   "cell_type": "markdown",
   "metadata": {},
   "source": [
    "## Загрузка и изучение данных"
   ]
  },
  {
   "cell_type": "code",
   "execution_count": 2,
   "metadata": {},
   "outputs": [],
   "source": [
    "#импорты настройки функции\n",
    "\n",
    "import pandas as pd\n",
    "\n",
    "import seaborn as sns\n",
    "sns.set(rc={'figure.figsize':(16,8)})\n",
    "\n",
    "from matplotlib import pyplot as plt\n",
    "\n",
    "from catboost import CatBoostRegressor\n",
    "import lightgbm as lgb\n",
    "from sklearn.linear_model import LinearRegression\n",
    "from sklearn.preprocessing import OneHotEncoder, StandardScaler\n",
    "from sklearn.model_selection import train_test_split\n",
    "\n",
    "from sklearn.metrics import mean_squared_error\n",
    "    \n",
    "# для оценки времени\n",
    "from tqdm.auto import tqdm\n",
    "import time\n",
    "\n",
    "# остальное\n",
    "import warnings\n",
    "warnings.filterwarnings('ignore')\n",
    "\n",
    "# функция для графика ящик с усами\n",
    "def sns_boxplot(dt, chart_title):\n",
    "    sns.boxplot(x=dt)\n",
    "    plt.title(chart_title)\n",
    "    plt.show();"
   ]
  },
  {
   "cell_type": "markdown",
   "metadata": {},
   "source": [
    "Загрузим файл и посмотрим на данные."
   ]
  },
  {
   "cell_type": "code",
   "execution_count": 3,
   "metadata": {},
   "outputs": [],
   "source": [
    "data = pd.read_csv(\"/datasets/autos.csv\")\n",
    "origin_data = data.copy()\n",
    "origin_len = len(data)"
   ]
  },
  {
   "cell_type": "code",
   "execution_count": 4,
   "metadata": {},
   "outputs": [
    {
     "data": {
      "text/html": [
       "<div>\n",
       "<style scoped>\n",
       "    .dataframe tbody tr th:only-of-type {\n",
       "        vertical-align: middle;\n",
       "    }\n",
       "\n",
       "    .dataframe tbody tr th {\n",
       "        vertical-align: top;\n",
       "    }\n",
       "\n",
       "    .dataframe thead th {\n",
       "        text-align: right;\n",
       "    }\n",
       "</style>\n",
       "<table border=\"1\" class=\"dataframe\">\n",
       "  <thead>\n",
       "    <tr style=\"text-align: right;\">\n",
       "      <th></th>\n",
       "      <th>DateCrawled</th>\n",
       "      <th>Price</th>\n",
       "      <th>VehicleType</th>\n",
       "      <th>RegistrationYear</th>\n",
       "      <th>Gearbox</th>\n",
       "      <th>Power</th>\n",
       "      <th>Model</th>\n",
       "      <th>Kilometer</th>\n",
       "      <th>RegistrationMonth</th>\n",
       "      <th>FuelType</th>\n",
       "      <th>Brand</th>\n",
       "      <th>Repaired</th>\n",
       "      <th>DateCreated</th>\n",
       "      <th>NumberOfPictures</th>\n",
       "      <th>PostalCode</th>\n",
       "      <th>LastSeen</th>\n",
       "    </tr>\n",
       "  </thead>\n",
       "  <tbody>\n",
       "    <tr>\n",
       "      <th>0</th>\n",
       "      <td>2016-03-24 11:52:17</td>\n",
       "      <td>480</td>\n",
       "      <td>NaN</td>\n",
       "      <td>1993</td>\n",
       "      <td>manual</td>\n",
       "      <td>0</td>\n",
       "      <td>golf</td>\n",
       "      <td>150000</td>\n",
       "      <td>0</td>\n",
       "      <td>petrol</td>\n",
       "      <td>volkswagen</td>\n",
       "      <td>NaN</td>\n",
       "      <td>2016-03-24 00:00:00</td>\n",
       "      <td>0</td>\n",
       "      <td>70435</td>\n",
       "      <td>2016-04-07 03:16:57</td>\n",
       "    </tr>\n",
       "    <tr>\n",
       "      <th>1</th>\n",
       "      <td>2016-03-24 10:58:45</td>\n",
       "      <td>18300</td>\n",
       "      <td>coupe</td>\n",
       "      <td>2011</td>\n",
       "      <td>manual</td>\n",
       "      <td>190</td>\n",
       "      <td>NaN</td>\n",
       "      <td>125000</td>\n",
       "      <td>5</td>\n",
       "      <td>gasoline</td>\n",
       "      <td>audi</td>\n",
       "      <td>yes</td>\n",
       "      <td>2016-03-24 00:00:00</td>\n",
       "      <td>0</td>\n",
       "      <td>66954</td>\n",
       "      <td>2016-04-07 01:46:50</td>\n",
       "    </tr>\n",
       "    <tr>\n",
       "      <th>2</th>\n",
       "      <td>2016-03-14 12:52:21</td>\n",
       "      <td>9800</td>\n",
       "      <td>suv</td>\n",
       "      <td>2004</td>\n",
       "      <td>auto</td>\n",
       "      <td>163</td>\n",
       "      <td>grand</td>\n",
       "      <td>125000</td>\n",
       "      <td>8</td>\n",
       "      <td>gasoline</td>\n",
       "      <td>jeep</td>\n",
       "      <td>NaN</td>\n",
       "      <td>2016-03-14 00:00:00</td>\n",
       "      <td>0</td>\n",
       "      <td>90480</td>\n",
       "      <td>2016-04-05 12:47:46</td>\n",
       "    </tr>\n",
       "    <tr>\n",
       "      <th>3</th>\n",
       "      <td>2016-03-17 16:54:04</td>\n",
       "      <td>1500</td>\n",
       "      <td>small</td>\n",
       "      <td>2001</td>\n",
       "      <td>manual</td>\n",
       "      <td>75</td>\n",
       "      <td>golf</td>\n",
       "      <td>150000</td>\n",
       "      <td>6</td>\n",
       "      <td>petrol</td>\n",
       "      <td>volkswagen</td>\n",
       "      <td>no</td>\n",
       "      <td>2016-03-17 00:00:00</td>\n",
       "      <td>0</td>\n",
       "      <td>91074</td>\n",
       "      <td>2016-03-17 17:40:17</td>\n",
       "    </tr>\n",
       "    <tr>\n",
       "      <th>4</th>\n",
       "      <td>2016-03-31 17:25:20</td>\n",
       "      <td>3600</td>\n",
       "      <td>small</td>\n",
       "      <td>2008</td>\n",
       "      <td>manual</td>\n",
       "      <td>69</td>\n",
       "      <td>fabia</td>\n",
       "      <td>90000</td>\n",
       "      <td>7</td>\n",
       "      <td>gasoline</td>\n",
       "      <td>skoda</td>\n",
       "      <td>no</td>\n",
       "      <td>2016-03-31 00:00:00</td>\n",
       "      <td>0</td>\n",
       "      <td>60437</td>\n",
       "      <td>2016-04-06 10:17:21</td>\n",
       "    </tr>\n",
       "  </tbody>\n",
       "</table>\n",
       "</div>"
      ],
      "text/plain": [
       "           DateCrawled  Price VehicleType  RegistrationYear Gearbox  Power  \\\n",
       "0  2016-03-24 11:52:17    480         NaN              1993  manual      0   \n",
       "1  2016-03-24 10:58:45  18300       coupe              2011  manual    190   \n",
       "2  2016-03-14 12:52:21   9800         suv              2004    auto    163   \n",
       "3  2016-03-17 16:54:04   1500       small              2001  manual     75   \n",
       "4  2016-03-31 17:25:20   3600       small              2008  manual     69   \n",
       "\n",
       "   Model  Kilometer  RegistrationMonth  FuelType       Brand Repaired  \\\n",
       "0   golf     150000                  0    petrol  volkswagen      NaN   \n",
       "1    NaN     125000                  5  gasoline        audi      yes   \n",
       "2  grand     125000                  8  gasoline        jeep      NaN   \n",
       "3   golf     150000                  6    petrol  volkswagen       no   \n",
       "4  fabia      90000                  7  gasoline       skoda       no   \n",
       "\n",
       "           DateCreated  NumberOfPictures  PostalCode             LastSeen  \n",
       "0  2016-03-24 00:00:00                 0       70435  2016-04-07 03:16:57  \n",
       "1  2016-03-24 00:00:00                 0       66954  2016-04-07 01:46:50  \n",
       "2  2016-03-14 00:00:00                 0       90480  2016-04-05 12:47:46  \n",
       "3  2016-03-17 00:00:00                 0       91074  2016-03-17 17:40:17  \n",
       "4  2016-03-31 00:00:00                 0       60437  2016-04-06 10:17:21  "
      ]
     },
     "metadata": {},
     "output_type": "display_data"
    },
    {
     "name": "stdout",
     "output_type": "stream",
     "text": [
      "\n",
      "<class 'pandas.core.frame.DataFrame'>\n",
      "RangeIndex: 354369 entries, 0 to 354368\n",
      "Data columns (total 16 columns):\n",
      " #   Column             Non-Null Count   Dtype \n",
      "---  ------             --------------   ----- \n",
      " 0   DateCrawled        354369 non-null  object\n",
      " 1   Price              354369 non-null  int64 \n",
      " 2   VehicleType        316879 non-null  object\n",
      " 3   RegistrationYear   354369 non-null  int64 \n",
      " 4   Gearbox            334536 non-null  object\n",
      " 5   Power              354369 non-null  int64 \n",
      " 6   Model              334664 non-null  object\n",
      " 7   Kilometer          354369 non-null  int64 \n",
      " 8   RegistrationMonth  354369 non-null  int64 \n",
      " 9   FuelType           321474 non-null  object\n",
      " 10  Brand              354369 non-null  object\n",
      " 11  Repaired           283215 non-null  object\n",
      " 12  DateCreated        354369 non-null  object\n",
      " 13  NumberOfPictures   354369 non-null  int64 \n",
      " 14  PostalCode         354369 non-null  int64 \n",
      " 15  LastSeen           354369 non-null  object\n",
      "dtypes: int64(7), object(9)\n",
      "memory usage: 43.3+ MB\n",
      "None\n",
      "\n",
      "Полных дубликатов: 4\n",
      "\n",
      "Describe:\n"
     ]
    },
    {
     "data": {
      "text/html": [
       "<div>\n",
       "<style scoped>\n",
       "    .dataframe tbody tr th:only-of-type {\n",
       "        vertical-align: middle;\n",
       "    }\n",
       "\n",
       "    .dataframe tbody tr th {\n",
       "        vertical-align: top;\n",
       "    }\n",
       "\n",
       "    .dataframe thead th {\n",
       "        text-align: right;\n",
       "    }\n",
       "</style>\n",
       "<table border=\"1\" class=\"dataframe\">\n",
       "  <thead>\n",
       "    <tr style=\"text-align: right;\">\n",
       "      <th></th>\n",
       "      <th>Price</th>\n",
       "      <th>RegistrationYear</th>\n",
       "      <th>Power</th>\n",
       "      <th>Kilometer</th>\n",
       "      <th>RegistrationMonth</th>\n",
       "      <th>NumberOfPictures</th>\n",
       "      <th>PostalCode</th>\n",
       "    </tr>\n",
       "  </thead>\n",
       "  <tbody>\n",
       "    <tr>\n",
       "      <th>count</th>\n",
       "      <td>354369.000000</td>\n",
       "      <td>354369.000000</td>\n",
       "      <td>354369.000000</td>\n",
       "      <td>354369.000000</td>\n",
       "      <td>354369.000000</td>\n",
       "      <td>354369.0</td>\n",
       "      <td>354369.000000</td>\n",
       "    </tr>\n",
       "    <tr>\n",
       "      <th>mean</th>\n",
       "      <td>4416.656776</td>\n",
       "      <td>2004.234448</td>\n",
       "      <td>110.094337</td>\n",
       "      <td>128211.172535</td>\n",
       "      <td>5.714645</td>\n",
       "      <td>0.0</td>\n",
       "      <td>50508.689087</td>\n",
       "    </tr>\n",
       "    <tr>\n",
       "      <th>std</th>\n",
       "      <td>4514.158514</td>\n",
       "      <td>90.227958</td>\n",
       "      <td>189.850405</td>\n",
       "      <td>37905.341530</td>\n",
       "      <td>3.726421</td>\n",
       "      <td>0.0</td>\n",
       "      <td>25783.096248</td>\n",
       "    </tr>\n",
       "    <tr>\n",
       "      <th>min</th>\n",
       "      <td>0.000000</td>\n",
       "      <td>1000.000000</td>\n",
       "      <td>0.000000</td>\n",
       "      <td>5000.000000</td>\n",
       "      <td>0.000000</td>\n",
       "      <td>0.0</td>\n",
       "      <td>1067.000000</td>\n",
       "    </tr>\n",
       "    <tr>\n",
       "      <th>25%</th>\n",
       "      <td>1050.000000</td>\n",
       "      <td>1999.000000</td>\n",
       "      <td>69.000000</td>\n",
       "      <td>125000.000000</td>\n",
       "      <td>3.000000</td>\n",
       "      <td>0.0</td>\n",
       "      <td>30165.000000</td>\n",
       "    </tr>\n",
       "    <tr>\n",
       "      <th>50%</th>\n",
       "      <td>2700.000000</td>\n",
       "      <td>2003.000000</td>\n",
       "      <td>105.000000</td>\n",
       "      <td>150000.000000</td>\n",
       "      <td>6.000000</td>\n",
       "      <td>0.0</td>\n",
       "      <td>49413.000000</td>\n",
       "    </tr>\n",
       "    <tr>\n",
       "      <th>75%</th>\n",
       "      <td>6400.000000</td>\n",
       "      <td>2008.000000</td>\n",
       "      <td>143.000000</td>\n",
       "      <td>150000.000000</td>\n",
       "      <td>9.000000</td>\n",
       "      <td>0.0</td>\n",
       "      <td>71083.000000</td>\n",
       "    </tr>\n",
       "    <tr>\n",
       "      <th>max</th>\n",
       "      <td>20000.000000</td>\n",
       "      <td>9999.000000</td>\n",
       "      <td>20000.000000</td>\n",
       "      <td>150000.000000</td>\n",
       "      <td>12.000000</td>\n",
       "      <td>0.0</td>\n",
       "      <td>99998.000000</td>\n",
       "    </tr>\n",
       "  </tbody>\n",
       "</table>\n",
       "</div>"
      ],
      "text/plain": [
       "               Price  RegistrationYear          Power      Kilometer  \\\n",
       "count  354369.000000     354369.000000  354369.000000  354369.000000   \n",
       "mean     4416.656776       2004.234448     110.094337  128211.172535   \n",
       "std      4514.158514         90.227958     189.850405   37905.341530   \n",
       "min         0.000000       1000.000000       0.000000    5000.000000   \n",
       "25%      1050.000000       1999.000000      69.000000  125000.000000   \n",
       "50%      2700.000000       2003.000000     105.000000  150000.000000   \n",
       "75%      6400.000000       2008.000000     143.000000  150000.000000   \n",
       "max     20000.000000       9999.000000   20000.000000  150000.000000   \n",
       "\n",
       "       RegistrationMonth  NumberOfPictures     PostalCode  \n",
       "count      354369.000000          354369.0  354369.000000  \n",
       "mean            5.714645               0.0   50508.689087  \n",
       "std             3.726421               0.0   25783.096248  \n",
       "min             0.000000               0.0    1067.000000  \n",
       "25%             3.000000               0.0   30165.000000  \n",
       "50%             6.000000               0.0   49413.000000  \n",
       "75%             9.000000               0.0   71083.000000  \n",
       "max            12.000000               0.0   99998.000000  "
      ]
     },
     "metadata": {},
     "output_type": "display_data"
    }
   ],
   "source": [
    "display(data.head())\n",
    "print()\n",
    "print(data.info())\n",
    "print()\n",
    "print('Полных дубликатов:', sum(data.duplicated()))\n",
    "#display(data.loc[data.duplicated()])\n",
    "print()\n",
    "print('Describe:')\n",
    "display(data.describe())"
   ]
  },
  {
   "cell_type": "markdown",
   "metadata": {},
   "source": [
    "**Имеем следующий набор данных:**\n",
    "\n",
    "**Признаки**  \n",
    "  - `DateCrawled` — дата скачивания анкеты из базы  \n",
    "  - `VehicleType` — тип автомобильного кузова  \n",
    "  - `RegistrationYear` — год регистрации автомобиля  \n",
    "  - `Gearbox` — тип коробки передач  \n",
    "  - `Power` — мощность (л. с.)  \n",
    "  - `Model` — модель автомобиля  \n",
    "  - `Kilometer` — пробег (км)  \n",
    "  - `RegistrationMonth` — месяц регистрации автомобиля  \n",
    "  - `FuelType` — тип топлива  \n",
    "  - `Brand` — марка автомобиля  \n",
    "  - `Repaired` — была машина в ремонте (yes) или нет (no)\n",
    "  - `DateCreated` — дата создания анкеты  \n",
    "  - `NumberOfPictures` — количество фотографий автомобиля  \n",
    "  - `PostalCode` — почтовый индекс владельца анкеты (пользователя)  \n",
    "  - `LastSeen` — дата последней активности пользователя  \n",
    "    \n",
    "**Целевой признак**  \n",
    "  - `Price` — цена (евро)  \n",
    "  \n",
    "И сразу можно отметить, что:\n",
    "\n",
    "- судя по describe в признаке RegistrationYear есть аномальные значения,\n",
    "\n",
    "- в RegistrationMonth откуда-то взялся ноль, при том что максимум 12 (т.е. нумерация месяцев должна быть либо 0-11 либо 1-12),\n",
    "\n",
    "- в признаке Power максимальная мощность 20000 л.с., это явно аномальное значение.\n",
    "\n",
    "- Полных дубликатов всего 4, так что их можно удалить."
   ]
  },
  {
   "cell_type": "code",
   "execution_count": 5,
   "metadata": {},
   "outputs": [
    {
     "name": "stdout",
     "output_type": "stream",
     "text": [
      "Полных дубликатов теперь: 0\n"
     ]
    }
   ],
   "source": [
    "data.drop_duplicates(inplace=True)\n",
    "print('Полных дубликатов теперь:',data.duplicated().sum())"
   ]
  },
  {
   "cell_type": "markdown",
   "metadata": {},
   "source": [
    "**Наша основная задача - это прогнозировать цену на авто, соответственно**\n",
    "\n",
    "**Как мы видим сразу можно удалить признаки, которые не могут влиять на стоимость авто:**\n",
    "\n",
    "- NumberOfPictures\n",
    "- PostalCode\n",
    "- LastSeen\n",
    "- DateCrawled\n",
    "- DateCreated"
   ]
  },
  {
   "cell_type": "code",
   "execution_count": 6,
   "metadata": {},
   "outputs": [],
   "source": [
    "data.drop(['NumberOfPictures', 'PostalCode', 'LastSeen', \n",
    "         'DateCrawled', 'DateCreated'], axis=1, inplace=True)"
   ]
  },
  {
   "cell_type": "markdown",
   "metadata": {},
   "source": [
    "Теперь посмотрим на признак месяца регистрации авто:"
   ]
  },
  {
   "cell_type": "code",
   "execution_count": 7,
   "metadata": {},
   "outputs": [
    {
     "name": "stdout",
     "output_type": "stream",
     "text": [
      "Месяц записан как ноль: 10.54% датасета.\n",
      "Месяц записан как единица: 6.55% датасета.\n",
      "Месяц записан как двенадцать: 6.85% датасета.\n"
     ]
    }
   ],
   "source": [
    "rm_0 = data.loc[data['RegistrationMonth']==0,'RegistrationMonth'].count()\n",
    "print(f'Месяц записан как ноль: {rm_0/origin_len:.2%} датасета.')\n",
    "\n",
    "rm_1 = data.loc[data['RegistrationMonth']==1,'RegistrationMonth'].count()\n",
    "print(f'Месяц записан как единица: {rm_1/origin_len:.2%} датасета.')\n",
    "\n",
    "rm_12 = data.loc[data['RegistrationMonth']==12,'RegistrationMonth'].count()\n",
    "print(f'Месяц записан как двенадцать: {rm_12/origin_len:.2%} датасета.')"
   ]
  },
  {
   "cell_type": "markdown",
   "metadata": {},
   "source": [
    "Невозможно удалить 10.5 или 6.8 процентов датасета просто из предположения что неправильно указан месяц.\n",
    "\n",
    "При этом пользы от такого признака, с учетом того что мы не знаем как его будут указывать в дальнейшем - мало.\n",
    "\n",
    "Избавимся от признака RegistrationMonth чтобы не было путаницы."
   ]
  },
  {
   "cell_type": "code",
   "execution_count": 8,
   "metadata": {},
   "outputs": [],
   "source": [
    "data.drop(['RegistrationMonth'], axis=1, inplace=True)"
   ]
  },
  {
   "cell_type": "markdown",
   "metadata": {},
   "source": [
    "**Посмотрим на пропуски:**"
   ]
  },
  {
   "cell_type": "code",
   "execution_count": 9,
   "metadata": {},
   "outputs": [
    {
     "data": {
      "text/plain": [
       "Price                   0\n",
       "VehicleType         37490\n",
       "RegistrationYear        0\n",
       "Gearbox             19833\n",
       "Power                   0\n",
       "Model               19705\n",
       "Kilometer               0\n",
       "FuelType            32895\n",
       "Brand                   0\n",
       "Repaired            71154\n",
       "dtype: int64"
      ]
     },
     "execution_count": 9,
     "metadata": {},
     "output_type": "execute_result"
    }
   ],
   "source": [
    "data.isna().sum()"
   ]
  },
  {
   "cell_type": "markdown",
   "metadata": {},
   "source": [
    "**Признак model является одним из основных, влияющих на цену.**\n",
    "\n",
    "Посмотрим сколько данных пропущено в нем:"
   ]
  },
  {
   "cell_type": "code",
   "execution_count": 10,
   "metadata": {},
   "outputs": [
    {
     "name": "stdout",
     "output_type": "stream",
     "text": [
      "Всего с незаполненной моделью: 5.56% датасета.\n"
     ]
    }
   ],
   "source": [
    "print(f\"Всего с незаполненной моделью: {len(data.loc[data['Model'].isna()])/origin_len:.2%} датасета.\")"
   ]
  },
  {
   "cell_type": "markdown",
   "metadata": {},
   "source": [
    "Мы бы могли удалить эти данных, хотя их и чуть больше 5%, но т.к. мы и другие признаки \"чистим\", то пока заполним модель значением неизвестно, чтобы не терять полезных данных из др. признаков."
   ]
  },
  {
   "cell_type": "code",
   "execution_count": 11,
   "metadata": {},
   "outputs": [],
   "source": [
    "data['Model'] = data['Model'].fillna('unknown')"
   ]
  },
  {
   "cell_type": "markdown",
   "metadata": {},
   "source": [
    "**Посмотрим на признак Repaired:**"
   ]
  },
  {
   "cell_type": "code",
   "execution_count": 12,
   "metadata": {},
   "outputs": [
    {
     "data": {
      "text/plain": [
       "no     247158\n",
       "yes     36053\n",
       "Name: Repaired, dtype: int64"
      ]
     },
     "execution_count": 12,
     "metadata": {},
     "output_type": "execute_result"
    }
   ],
   "source": [
    "data['Repaired'].value_counts()"
   ]
  },
  {
   "cell_type": "markdown",
   "metadata": {},
   "source": [
    "Заполним пропуски в признаке Repaired исходя из предположения, что если не указано, значит и не была машина в ремонте."
   ]
  },
  {
   "cell_type": "code",
   "execution_count": 13,
   "metadata": {},
   "outputs": [],
   "source": [
    "data['Repaired'] = data['Repaired'].fillna('no')"
   ]
  },
  {
   "cell_type": "markdown",
   "metadata": {},
   "source": [
    "И так как либо была либо не была, поменяем тип столбца на bool:"
   ]
  },
  {
   "cell_type": "code",
   "execution_count": 14,
   "metadata": {},
   "outputs": [
    {
     "data": {
      "text/plain": [
       "False    318312\n",
       "True      36053\n",
       "Name: Repaired, dtype: int64"
      ]
     },
     "execution_count": 14,
     "metadata": {},
     "output_type": "execute_result"
    }
   ],
   "source": [
    "data.loc[(data['Repaired'] == 'yes'), 'Repaired'] = 1\n",
    "data.loc[(data['Repaired'] == 'no'), 'Repaired'] = 0\n",
    "data['Repaired'] = data['Repaired'].astype(bool)\n",
    "data['Repaired'].value_counts()"
   ]
  },
  {
   "cell_type": "markdown",
   "metadata": {},
   "source": [
    "**Посмотрим на признаки VehicleType, FuelType и Gearbox:**\n",
    "\n",
    "Они могут быть не заполнены просто потому что не заполняли если не самое популярное. Т.е. например, если коробка автомат заполняли, а если ручная то не заполняли данные. Либо же данные были утеряны или просто не заполнены.\n",
    "\n",
    "Попробуем заполнить эти признаки исходя из логики."
   ]
  },
  {
   "cell_type": "markdown",
   "metadata": {},
   "source": [
    "**Попробуем заполнить VehicleType исходя из данных Model**\n",
    "\n",
    "Т.е. предположим, что тип авто у одной и той же модели такой же."
   ]
  },
  {
   "cell_type": "code",
   "execution_count": 15,
   "metadata": {},
   "outputs": [],
   "source": [
    "# заполняем VehicleType исходя из самого популярного типа по данной модели\n",
    "data['VehicleType'] = data['VehicleType'].fillna(data\n",
    "                                                  .groupby('Model')['VehicleType']\n",
    "                                                  .transform(lambda x: x.value_counts().idxmax())\n",
    "                                                 )"
   ]
  },
  {
   "cell_type": "markdown",
   "metadata": {},
   "source": [
    "**А вот коробка, у того же VW Golf могла быть и автомат и ручная, тоже касается и типа топлива.**\n",
    "\n",
    "Т.е. тут мы не можем опираться на модель авто. Поэтому заполним пропуски в этих признаках значением неизвестно."
   ]
  },
  {
   "cell_type": "code",
   "execution_count": 16,
   "metadata": {},
   "outputs": [],
   "source": [
    "data['Gearbox'] = data['Gearbox'].fillna('unknown')\n",
    "data['FuelType'] = data['FuelType'].fillna('unknown')"
   ]
  },
  {
   "cell_type": "markdown",
   "metadata": {},
   "source": [
    "**И снова посмотрим на пропуски в датасете:**"
   ]
  },
  {
   "cell_type": "code",
   "execution_count": 17,
   "metadata": {},
   "outputs": [
    {
     "data": {
      "text/plain": [
       "Price               0\n",
       "VehicleType         0\n",
       "RegistrationYear    0\n",
       "Gearbox             0\n",
       "Power               0\n",
       "Model               0\n",
       "Kilometer           0\n",
       "FuelType            0\n",
       "Brand               0\n",
       "Repaired            0\n",
       "dtype: int64"
      ]
     },
     "execution_count": 17,
     "metadata": {},
     "output_type": "execute_result"
    }
   ],
   "source": [
    "data.isna().sum()"
   ]
  },
  {
   "cell_type": "markdown",
   "metadata": {},
   "source": [
    "Пропусков нет, теперь приведем названия столбцов к snake_case."
   ]
  },
  {
   "cell_type": "code",
   "execution_count": 18,
   "metadata": {},
   "outputs": [
    {
     "data": {
      "text/plain": [
       "Index(['price', 'vehicle_type', 'registration_year', 'gearbox', 'power',\n",
       "       'model', 'kilometer', 'fuel_type', 'brand', 'repaired'],\n",
       "      dtype='object')"
      ]
     },
     "execution_count": 18,
     "metadata": {},
     "output_type": "execute_result"
    }
   ],
   "source": [
    "data.columns = data.columns.str.lower()\n",
    "\n",
    "columns = {'registrationyear':'registration_year', \n",
    "           'vehicletype':'vehicle_type', \n",
    "           'fueltype':'fuel_type'}\n",
    "\n",
    "data.rename(columns=columns, inplace=True)\n",
    "\n",
    "data.columns"
   ]
  },
  {
   "cell_type": "markdown",
   "metadata": {},
   "source": [
    "**Перейдем к анализу и обработке аномальных значений.**"
   ]
  },
  {
   "cell_type": "code",
   "execution_count": 19,
   "metadata": {},
   "outputs": [
    {
     "data": {
      "text/html": [
       "<div>\n",
       "<style scoped>\n",
       "    .dataframe tbody tr th:only-of-type {\n",
       "        vertical-align: middle;\n",
       "    }\n",
       "\n",
       "    .dataframe tbody tr th {\n",
       "        vertical-align: top;\n",
       "    }\n",
       "\n",
       "    .dataframe thead th {\n",
       "        text-align: right;\n",
       "    }\n",
       "</style>\n",
       "<table border=\"1\" class=\"dataframe\">\n",
       "  <thead>\n",
       "    <tr style=\"text-align: right;\">\n",
       "      <th></th>\n",
       "      <th>price</th>\n",
       "      <th>registration_year</th>\n",
       "      <th>power</th>\n",
       "      <th>kilometer</th>\n",
       "    </tr>\n",
       "  </thead>\n",
       "  <tbody>\n",
       "    <tr>\n",
       "      <th>count</th>\n",
       "      <td>354365.000000</td>\n",
       "      <td>354365.000000</td>\n",
       "      <td>354365.000000</td>\n",
       "      <td>354365.000000</td>\n",
       "    </tr>\n",
       "    <tr>\n",
       "      <th>mean</th>\n",
       "      <td>4416.679830</td>\n",
       "      <td>2004.234481</td>\n",
       "      <td>110.093816</td>\n",
       "      <td>128211.363989</td>\n",
       "    </tr>\n",
       "    <tr>\n",
       "      <th>std</th>\n",
       "      <td>4514.176349</td>\n",
       "      <td>90.228466</td>\n",
       "      <td>189.851330</td>\n",
       "      <td>37905.083858</td>\n",
       "    </tr>\n",
       "    <tr>\n",
       "      <th>min</th>\n",
       "      <td>0.000000</td>\n",
       "      <td>1000.000000</td>\n",
       "      <td>0.000000</td>\n",
       "      <td>5000.000000</td>\n",
       "    </tr>\n",
       "    <tr>\n",
       "      <th>25%</th>\n",
       "      <td>1050.000000</td>\n",
       "      <td>1999.000000</td>\n",
       "      <td>69.000000</td>\n",
       "      <td>125000.000000</td>\n",
       "    </tr>\n",
       "    <tr>\n",
       "      <th>50%</th>\n",
       "      <td>2700.000000</td>\n",
       "      <td>2003.000000</td>\n",
       "      <td>105.000000</td>\n",
       "      <td>150000.000000</td>\n",
       "    </tr>\n",
       "    <tr>\n",
       "      <th>75%</th>\n",
       "      <td>6400.000000</td>\n",
       "      <td>2008.000000</td>\n",
       "      <td>143.000000</td>\n",
       "      <td>150000.000000</td>\n",
       "    </tr>\n",
       "    <tr>\n",
       "      <th>max</th>\n",
       "      <td>20000.000000</td>\n",
       "      <td>9999.000000</td>\n",
       "      <td>20000.000000</td>\n",
       "      <td>150000.000000</td>\n",
       "    </tr>\n",
       "  </tbody>\n",
       "</table>\n",
       "</div>"
      ],
      "text/plain": [
       "               price  registration_year          power      kilometer\n",
       "count  354365.000000      354365.000000  354365.000000  354365.000000\n",
       "mean     4416.679830        2004.234481     110.093816  128211.363989\n",
       "std      4514.176349          90.228466     189.851330   37905.083858\n",
       "min         0.000000        1000.000000       0.000000    5000.000000\n",
       "25%      1050.000000        1999.000000      69.000000  125000.000000\n",
       "50%      2700.000000        2003.000000     105.000000  150000.000000\n",
       "75%      6400.000000        2008.000000     143.000000  150000.000000\n",
       "max     20000.000000        9999.000000   20000.000000  150000.000000"
      ]
     },
     "execution_count": 19,
     "metadata": {},
     "output_type": "execute_result"
    }
   ],
   "source": [
    "data.describe()"
   ]
  },
  {
   "cell_type": "markdown",
   "metadata": {},
   "source": [
    "Сначала обработаем второстепенные признаки, а затем уже посмотрим на price, чтобы не удалить лишнего."
   ]
  },
  {
   "cell_type": "markdown",
   "metadata": {},
   "source": [
    "**Признак год регистрации:**\n"
   ]
  },
  {
   "cell_type": "code",
   "execution_count": 20,
   "metadata": {},
   "outputs": [
    {
     "data": {
      "image/png": "[encoded data removed]",
      "text/plain": [
       "<Figure size 1152x576 with 1 Axes>"
      ]
     },
     "metadata": {},
     "output_type": "display_data"
    }
   ],
   "source": [
    "sns_boxplot(data['registration_year'],'Выбросы год регистрации')"
   ]
  },
  {
   "cell_type": "code",
   "execution_count": 21,
   "metadata": {},
   "outputs": [
    {
     "data": {
      "text/plain": [
       "count    354365.000000\n",
       "mean       2004.234481\n",
       "std          90.228466\n",
       "min        1000.000000\n",
       "25%        1999.000000\n",
       "50%        2003.000000\n",
       "75%        2008.000000\n",
       "max        9999.000000\n",
       "Name: registration_year, dtype: float64"
      ]
     },
     "execution_count": 21,
     "metadata": {},
     "output_type": "execute_result"
    }
   ],
   "source": [
    "data['registration_year'].describe()"
   ]
  },
  {
   "cell_type": "code",
   "execution_count": 22,
   "metadata": {
    "scrolled": true
   },
   "outputs": [
    {
     "name": "stdout",
     "output_type": "stream",
     "text": [
      "Квантиль 0.01 год регистрации:1980.0, все годы что меньше - удаляем.\n",
      "Строк где год < 1980.0: 3452\n",
      "Удалено.\n"
     ]
    }
   ],
   "source": [
    "r_y_q01 = data[\"registration_year\"].quantile(0.01)\n",
    "print(f'Квантиль 0.01 год регистрации:{r_y_q01}, все годы что меньше - удаляем.')\n",
    "print(f'Строк где год < {r_y_q01}: {data.query(\"registration_year<@r_y_q01\").shape[0]}')\n",
    "data.drop(data.loc[data['registration_year']<r_y_q01].index, inplace=True)\n",
    "print('Удалено.')"
   ]
  },
  {
   "cell_type": "markdown",
   "metadata": {},
   "source": [
    "**Ограничим год регистрации \"сверху\" опираясь на данные признака DateCrawled**\n",
    "\n",
    "Посмотрим, какая максимальная дата скачивания анкеты:"
   ]
  },
  {
   "cell_type": "code",
   "execution_count": 23,
   "metadata": {},
   "outputs": [
    {
     "data": {
      "text/html": [
       "<div>\n",
       "<style scoped>\n",
       "    .dataframe tbody tr th:only-of-type {\n",
       "        vertical-align: middle;\n",
       "    }\n",
       "\n",
       "    .dataframe tbody tr th {\n",
       "        vertical-align: top;\n",
       "    }\n",
       "\n",
       "    .dataframe thead th {\n",
       "        text-align: right;\n",
       "    }\n",
       "</style>\n",
       "<table border=\"1\" class=\"dataframe\">\n",
       "  <thead>\n",
       "    <tr style=\"text-align: right;\">\n",
       "      <th></th>\n",
       "      <th>DateCrawled</th>\n",
       "      <th>Price</th>\n",
       "      <th>VehicleType</th>\n",
       "      <th>RegistrationYear</th>\n",
       "      <th>Gearbox</th>\n",
       "      <th>Power</th>\n",
       "      <th>Model</th>\n",
       "      <th>Kilometer</th>\n",
       "      <th>RegistrationMonth</th>\n",
       "      <th>FuelType</th>\n",
       "      <th>Brand</th>\n",
       "      <th>Repaired</th>\n",
       "      <th>DateCreated</th>\n",
       "      <th>NumberOfPictures</th>\n",
       "      <th>PostalCode</th>\n",
       "      <th>LastSeen</th>\n",
       "    </tr>\n",
       "  </thead>\n",
       "  <tbody>\n",
       "    <tr>\n",
       "      <th>329497</th>\n",
       "      <td>2016-03-05 14:06:22</td>\n",
       "      <td>150</td>\n",
       "      <td>small</td>\n",
       "      <td>1997</td>\n",
       "      <td>manual</td>\n",
       "      <td>75</td>\n",
       "      <td>polo</td>\n",
       "      <td>150000</td>\n",
       "      <td>4</td>\n",
       "      <td>petrol</td>\n",
       "      <td>volkswagen</td>\n",
       "      <td>no</td>\n",
       "      <td>2016-03-05 00:00:00</td>\n",
       "      <td>0</td>\n",
       "      <td>35789</td>\n",
       "      <td>2016-03-27 17:16:15</td>\n",
       "    </tr>\n",
       "    <tr>\n",
       "      <th>220583</th>\n",
       "      <td>2016-03-05 14:06:23</td>\n",
       "      <td>3999</td>\n",
       "      <td>wagon</td>\n",
       "      <td>2003</td>\n",
       "      <td>manual</td>\n",
       "      <td>220</td>\n",
       "      <td>a6</td>\n",
       "      <td>150000</td>\n",
       "      <td>7</td>\n",
       "      <td>petrol</td>\n",
       "      <td>audi</td>\n",
       "      <td>no</td>\n",
       "      <td>2016-03-05 00:00:00</td>\n",
       "      <td>0</td>\n",
       "      <td>57080</td>\n",
       "      <td>2016-03-06 18:29:35</td>\n",
       "    </tr>\n",
       "    <tr>\n",
       "      <th>176823</th>\n",
       "      <td>2016-03-05 14:06:24</td>\n",
       "      <td>6200</td>\n",
       "      <td>convertible</td>\n",
       "      <td>2006</td>\n",
       "      <td>manual</td>\n",
       "      <td>135</td>\n",
       "      <td>megane</td>\n",
       "      <td>90000</td>\n",
       "      <td>9</td>\n",
       "      <td>petrol</td>\n",
       "      <td>renault</td>\n",
       "      <td>no</td>\n",
       "      <td>2016-03-05 00:00:00</td>\n",
       "      <td>0</td>\n",
       "      <td>35764</td>\n",
       "      <td>2016-03-24 09:16:44</td>\n",
       "    </tr>\n",
       "    <tr>\n",
       "      <th>99885</th>\n",
       "      <td>2016-03-05 14:06:24</td>\n",
       "      <td>10900</td>\n",
       "      <td>suv</td>\n",
       "      <td>2003</td>\n",
       "      <td>auto</td>\n",
       "      <td>245</td>\n",
       "      <td>NaN</td>\n",
       "      <td>150000</td>\n",
       "      <td>11</td>\n",
       "      <td>petrol</td>\n",
       "      <td>sonstige_autos</td>\n",
       "      <td>no</td>\n",
       "      <td>2016-03-05 00:00:00</td>\n",
       "      <td>0</td>\n",
       "      <td>56072</td>\n",
       "      <td>2016-04-06 22:15:33</td>\n",
       "    </tr>\n",
       "    <tr>\n",
       "      <th>324763</th>\n",
       "      <td>2016-03-05 14:06:24</td>\n",
       "      <td>799</td>\n",
       "      <td>small</td>\n",
       "      <td>1997</td>\n",
       "      <td>manual</td>\n",
       "      <td>60</td>\n",
       "      <td>polo</td>\n",
       "      <td>150000</td>\n",
       "      <td>11</td>\n",
       "      <td>petrol</td>\n",
       "      <td>volkswagen</td>\n",
       "      <td>no</td>\n",
       "      <td>2016-03-05 00:00:00</td>\n",
       "      <td>0</td>\n",
       "      <td>35708</td>\n",
       "      <td>2016-03-09 15:19:01</td>\n",
       "    </tr>\n",
       "  </tbody>\n",
       "</table>\n",
       "</div>"
      ],
      "text/plain": [
       "                DateCrawled  Price  VehicleType  RegistrationYear Gearbox  \\\n",
       "329497  2016-03-05 14:06:22    150        small              1997  manual   \n",
       "220583  2016-03-05 14:06:23   3999        wagon              2003  manual   \n",
       "176823  2016-03-05 14:06:24   6200  convertible              2006  manual   \n",
       "99885   2016-03-05 14:06:24  10900          suv              2003    auto   \n",
       "324763  2016-03-05 14:06:24    799        small              1997  manual   \n",
       "\n",
       "        Power   Model  Kilometer  RegistrationMonth FuelType           Brand  \\\n",
       "329497     75    polo     150000                  4   petrol      volkswagen   \n",
       "220583    220      a6     150000                  7   petrol            audi   \n",
       "176823    135  megane      90000                  9   petrol         renault   \n",
       "99885     245     NaN     150000                 11   petrol  sonstige_autos   \n",
       "324763     60    polo     150000                 11   petrol      volkswagen   \n",
       "\n",
       "       Repaired          DateCreated  NumberOfPictures  PostalCode  \\\n",
       "329497       no  2016-03-05 00:00:00                 0       35789   \n",
       "220583       no  2016-03-05 00:00:00                 0       57080   \n",
       "176823       no  2016-03-05 00:00:00                 0       35764   \n",
       "99885        no  2016-03-05 00:00:00                 0       56072   \n",
       "324763       no  2016-03-05 00:00:00                 0       35708   \n",
       "\n",
       "                   LastSeen  \n",
       "329497  2016-03-27 17:16:15  \n",
       "220583  2016-03-06 18:29:35  \n",
       "176823  2016-03-24 09:16:44  \n",
       "99885   2016-04-06 22:15:33  \n",
       "324763  2016-03-09 15:19:01  "
      ]
     },
     "execution_count": 23,
     "metadata": {},
     "output_type": "execute_result"
    }
   ],
   "source": [
    "origin_data.sort_values(by='DateCrawled').head()"
   ]
  },
  {
   "cell_type": "markdown",
   "metadata": {},
   "source": [
    "Как видим, это 2016 год. Соответственно, всё что больше - убираем."
   ]
  },
  {
   "cell_type": "code",
   "execution_count": 24,
   "metadata": {},
   "outputs": [
    {
     "name": "stdout",
     "output_type": "stream",
     "text": [
      "Строк где год > 2016: 14530\n",
      "Удалено.\n"
     ]
    }
   ],
   "source": [
    "print(f'Строк где год > 2016: {data.query(\"registration_year>2016\").shape[0]}')\n",
    "data.drop(data.loc[data['registration_year']>2016].index, inplace=True)\n",
    "print('Удалено.')"
   ]
  },
  {
   "cell_type": "markdown",
   "metadata": {},
   "source": [
    "И еще раз посмотрим на данных признака:"
   ]
  },
  {
   "cell_type": "code",
   "execution_count": 25,
   "metadata": {},
   "outputs": [
    {
     "data": {
      "image/png": "[encoded data removed]",
      "text/plain": [
       "<Figure size 1152x576 with 1 Axes>"
      ]
     },
     "metadata": {},
     "output_type": "display_data"
    },
    {
     "data": {
      "text/plain": [
       "count    336383.000000\n",
       "mean       2002.828912\n",
       "std           6.082015\n",
       "min        1980.000000\n",
       "25%        1999.000000\n",
       "50%        2003.000000\n",
       "75%        2007.000000\n",
       "max        2016.000000\n",
       "Name: registration_year, dtype: float64"
      ]
     },
     "execution_count": 25,
     "metadata": {},
     "output_type": "execute_result"
    }
   ],
   "source": [
    "sns_boxplot(data['registration_year'],'Выбросы год регистрации');\n",
    "data['registration_year'].describe()"
   ]
  },
  {
   "cell_type": "markdown",
   "metadata": {},
   "source": [
    "Избавились от выбросов в признаке, при этом почти не потеряли данные. Переходим к сл. признаку."
   ]
  },
  {
   "cell_type": "markdown",
   "metadata": {},
   "source": [
    "**Признак мощность авто:**"
   ]
  },
  {
   "cell_type": "code",
   "execution_count": 26,
   "metadata": {},
   "outputs": [
    {
     "data": {
      "image/png": "[encoded data removed]",
      "text/plain": [
       "<Figure size 1152x576 with 1 Axes>"
      ]
     },
     "metadata": {},
     "output_type": "display_data"
    },
    {
     "data": {
      "text/plain": [
       "count    336383.000000\n",
       "mean        111.366439\n",
       "std         185.511186\n",
       "min           0.000000\n",
       "25%          70.000000\n",
       "50%         105.000000\n",
       "75%         143.000000\n",
       "max       20000.000000\n",
       "Name: power, dtype: float64"
      ]
     },
     "execution_count": 26,
     "metadata": {},
     "output_type": "execute_result"
    }
   ],
   "source": [
    "sns_boxplot(data['power'],'Выбросы мощность авто');\n",
    "data['power'].describe()"
   ]
  },
  {
   "cell_type": "markdown",
   "metadata": {},
   "source": [
    "Посмотрим сколько данных у нас с мощностью > .995 квантиля"
   ]
  },
  {
   "cell_type": "code",
   "execution_count": 27,
   "metadata": {},
   "outputs": [
    {
     "name": "stdout",
     "output_type": "stream",
     "text": [
      "Квантиль 0.995 мощность:334.0\n",
      "Строк где мощность > 334.0: 1649, всего 0.47% от ориг. датасета, удаляем.\n",
      "Снова посмотрим на график выбросов:\n"
     ]
    },
    {
     "data": {
      "image/png": "[encoded data removed]",
      "text/plain": [
       "<Figure size 1152x576 with 1 Axes>"
      ]
     },
     "metadata": {},
     "output_type": "display_data"
    },
    {
     "data": {
      "text/plain": [
       "count    334734.000000\n",
       "mean        106.862028\n",
       "std          60.467990\n",
       "min           0.000000\n",
       "25%          69.000000\n",
       "50%         105.000000\n",
       "75%         143.000000\n",
       "max         334.000000\n",
       "Name: power, dtype: float64"
      ]
     },
     "execution_count": 27,
     "metadata": {},
     "output_type": "execute_result"
    }
   ],
   "source": [
    "r_q995 = data[\"power\"].quantile(0.995)\n",
    "d_q995 = data.query(\"power>@r_q995\").shape[0]\n",
    "\n",
    "print(f'Квантиль 0.995 мощность:{r_q995}')\n",
    "print(f'Строк где мощность > {r_q995}: {d_q995}, всего {d_q995/origin_len:.2%} от ориг. датасета, удаляем.')\n",
    "data.drop(data.loc[data['power']>r_q995].index, inplace=True)\n",
    "print('Снова посмотрим на график выбросов:')\n",
    "sns_boxplot(data['power'],'Выбросы мощность авто');\n",
    "data['power'].describe()"
   ]
  },
  {
   "cell_type": "code",
   "execution_count": 28,
   "metadata": {},
   "outputs": [
    {
     "name": "stdout",
     "output_type": "stream",
     "text": [
      "Строк, где мощность равна нулю: 35367, что составляет 9.98% от ориг. датасета.\n"
     ]
    }
   ],
   "source": [
    "p_zero = len(data.loc[data['power']==0])\n",
    "print(f'Строк, где мощность равна нулю: {p_zero}, что составляет {p_zero/origin_len:.2%} от ориг. датасета.')"
   ]
  },
  {
   "cell_type": "markdown",
   "metadata": {},
   "source": [
    "**Видим очень большой процент данных с нулевой мощностью. Удалять эти строки не хотелось бы, попробуем заполнить данные.**\n",
    "\n",
    "Мы понимаем, что у нас есть модель авто unknown, таких данных чуть больше 5%, поэтому.\n",
    "\n",
    "Заполним нулевые данные мощности медианным значением по модели авто:"
   ]
  },
  {
   "cell_type": "code",
   "execution_count": 29,
   "metadata": {},
   "outputs": [
    {
     "name": "stdout",
     "output_type": "stream",
     "text": [
      "Строк, где мощность равна нулю: 0, что составляет 0.00% от ориг. датасета.\n"
     ]
    }
   ],
   "source": [
    "data.loc[(data['power'] == 0), 'power'] = None\n",
    "data['power'] = data['power'].fillna(data.groupby('model')['power'].transform('median'))\n",
    "p_zero = len(data.loc[data['power']==0])\n",
    "print(f'Строк, где мощность равна нулю: {p_zero}, что составляет {p_zero/origin_len:.2%} от ориг. датасета.')"
   ]
  },
  {
   "cell_type": "markdown",
   "metadata": {},
   "source": [
    "Получилось сразу избавиться от всех значений, т"
   ]
  },
  {
   "cell_type": "code",
   "execution_count": 30,
   "metadata": {},
   "outputs": [
    {
     "data": {
      "image/png": "[encoded data removed]",
      "text/plain": [
       "<Figure size 1152x576 with 1 Axes>"
      ]
     },
     "metadata": {},
     "output_type": "display_data"
    },
    {
     "data": {
      "text/plain": [
       "count    334733.00000\n",
       "mean        118.20188\n",
       "std          49.65162\n",
       "min           1.00000\n",
       "25%          75.00000\n",
       "50%         110.00000\n",
       "75%         143.00000\n",
       "max         334.00000\n",
       "Name: power, dtype: float64"
      ]
     },
     "execution_count": 30,
     "metadata": {},
     "output_type": "execute_result"
    }
   ],
   "source": [
    "sns_boxplot(data['power'],'Выбросы мощность авто');\n",
    "data['power'].describe()"
   ]
  },
  {
   "cell_type": "markdown",
   "metadata": {},
   "source": [
    "Однако, теперь у нас есть данные с мощностью в 1 л.с., что скорее всего ошибочно.\n",
    "\n",
    "Посмотрим минимальный 0.005 квантиль и уберем строки где мощность меньше."
   ]
  },
  {
   "cell_type": "code",
   "execution_count": 31,
   "metadata": {},
   "outputs": [
    {
     "name": "stdout",
     "output_type": "stream",
     "text": [
      "Квантиль 0.005 мощность:41.0\n",
      "Строк где мощность < 41.0: 1484, всего 0.42% от ориг. датасета, удаляем.\n",
      "Снова посмотрим на график выбросов и дискрайб:\n"
     ]
    },
    {
     "data": {
      "image/png": "[encoded data removed]",
      "text/plain": [
       "<Figure size 1152x576 with 1 Axes>"
      ]
     },
     "metadata": {},
     "output_type": "display_data"
    },
    {
     "data": {
      "text/plain": [
       "count    333249.000000\n",
       "mean        118.605880\n",
       "std          49.384386\n",
       "min          41.000000\n",
       "25%          77.000000\n",
       "50%         110.000000\n",
       "75%         144.000000\n",
       "max         334.000000\n",
       "Name: power, dtype: float64"
      ]
     },
     "execution_count": 31,
     "metadata": {},
     "output_type": "execute_result"
    }
   ],
   "source": [
    "r_q005 = data[\"power\"].quantile(0.005)\n",
    "d_q005 = data.query(\"power<@r_q005\").shape[0]\n",
    "\n",
    "print(f'Квантиль 0.005 мощность:{r_q005}')\n",
    "print(f'Строк где мощность < {r_q005}: {d_q005}, всего {d_q005/origin_len:.2%} от ориг. датасета, удаляем.')\n",
    "data.drop(data.loc[data['power']<r_q005].index, inplace=True)\n",
    "print('Снова посмотрим на график выбросов и дискрайб:')\n",
    "sns_boxplot(data['power'],'Выбросы мощность авто');\n",
    "data['power'].describe()"
   ]
  },
  {
   "cell_type": "markdown",
   "metadata": {},
   "source": [
    "С **аномальными** данными по мощности мы разобрались."
   ]
  },
  {
   "cell_type": "markdown",
   "metadata": {},
   "source": [
    "И вот теперь уже посмотрим на признак (**целевой**) price, т.к. видели в нём нулевые значения."
   ]
  },
  {
   "cell_type": "code",
   "execution_count": 32,
   "metadata": {},
   "outputs": [
    {
     "name": "stdout",
     "output_type": "stream",
     "text": [
      "Всего строк с нулевой ценой: 9586\n",
      "Это составляет 2.88% датасета.\n",
      "\n",
      "Describe:\n"
     ]
    },
    {
     "data": {
      "text/plain": [
       "count    333250.000000\n",
       "mean       4428.093497\n",
       "std        4501.400036\n",
       "min           0.000000\n",
       "25%        1099.000000\n",
       "50%        2750.000000\n",
       "75%        6450.000000\n",
       "max       20000.000000\n",
       "Name: price, dtype: float64"
      ]
     },
     "execution_count": 32,
     "metadata": {},
     "output_type": "execute_result"
    }
   ],
   "source": [
    "price_zero = data.query('price==0').shape[0]\n",
    "print('Всего строк с нулевой ценой:',price_zero)\n",
    "print(f'Это составляет {price_zero/len(data):.2%} датасета.')\n",
    "print()\n",
    "print('Describe:')\n",
    "data['price'].describe()"
   ]
  },
  {
   "cell_type": "markdown",
   "metadata": {},
   "source": [
    "Восстановить данные нулевой цены мы никак не можем, т.к. случаи продаж обычно уникальны, и это целевой признак.\n",
    "\n",
    "Да и данных с нулевой ценой допустимо мало для того чтобы их удалить."
   ]
  },
  {
   "cell_type": "code",
   "execution_count": 33,
   "metadata": {},
   "outputs": [
    {
     "data": {
      "text/html": [
       "<div>\n",
       "<style scoped>\n",
       "    .dataframe tbody tr th:only-of-type {\n",
       "        vertical-align: middle;\n",
       "    }\n",
       "\n",
       "    .dataframe tbody tr th {\n",
       "        vertical-align: top;\n",
       "    }\n",
       "\n",
       "    .dataframe thead th {\n",
       "        text-align: right;\n",
       "    }\n",
       "</style>\n",
       "<table border=\"1\" class=\"dataframe\">\n",
       "  <thead>\n",
       "    <tr style=\"text-align: right;\">\n",
       "      <th></th>\n",
       "      <th>price</th>\n",
       "      <th>registration_year</th>\n",
       "      <th>power</th>\n",
       "      <th>kilometer</th>\n",
       "    </tr>\n",
       "  </thead>\n",
       "  <tbody>\n",
       "    <tr>\n",
       "      <th>count</th>\n",
       "      <td>323664.000000</td>\n",
       "      <td>323664.000000</td>\n",
       "      <td>323664.000000</td>\n",
       "      <td>323664.000000</td>\n",
       "    </tr>\n",
       "    <tr>\n",
       "      <th>mean</th>\n",
       "      <td>4559.240935</td>\n",
       "      <td>2002.944779</td>\n",
       "      <td>118.756474</td>\n",
       "      <td>128756.858965</td>\n",
       "    </tr>\n",
       "    <tr>\n",
       "      <th>std</th>\n",
       "      <td>4501.643003</td>\n",
       "      <td>5.996054</td>\n",
       "      <td>49.467879</td>\n",
       "      <td>36959.171883</td>\n",
       "    </tr>\n",
       "    <tr>\n",
       "      <th>min</th>\n",
       "      <td>1.000000</td>\n",
       "      <td>1980.000000</td>\n",
       "      <td>41.000000</td>\n",
       "      <td>5000.000000</td>\n",
       "    </tr>\n",
       "    <tr>\n",
       "      <th>25%</th>\n",
       "      <td>1200.000000</td>\n",
       "      <td>1999.000000</td>\n",
       "      <td>77.000000</td>\n",
       "      <td>125000.000000</td>\n",
       "    </tr>\n",
       "    <tr>\n",
       "      <th>50%</th>\n",
       "      <td>2900.000000</td>\n",
       "      <td>2003.000000</td>\n",
       "      <td>110.000000</td>\n",
       "      <td>150000.000000</td>\n",
       "    </tr>\n",
       "    <tr>\n",
       "      <th>75%</th>\n",
       "      <td>6500.000000</td>\n",
       "      <td>2007.000000</td>\n",
       "      <td>144.000000</td>\n",
       "      <td>150000.000000</td>\n",
       "    </tr>\n",
       "    <tr>\n",
       "      <th>max</th>\n",
       "      <td>20000.000000</td>\n",
       "      <td>2016.000000</td>\n",
       "      <td>334.000000</td>\n",
       "      <td>150000.000000</td>\n",
       "    </tr>\n",
       "  </tbody>\n",
       "</table>\n",
       "</div>"
      ],
      "text/plain": [
       "               price  registration_year          power      kilometer\n",
       "count  323664.000000      323664.000000  323664.000000  323664.000000\n",
       "mean     4559.240935        2002.944779     118.756474  128756.858965\n",
       "std      4501.643003           5.996054      49.467879   36959.171883\n",
       "min         1.000000        1980.000000      41.000000    5000.000000\n",
       "25%      1200.000000        1999.000000      77.000000  125000.000000\n",
       "50%      2900.000000        2003.000000     110.000000  150000.000000\n",
       "75%      6500.000000        2007.000000     144.000000  150000.000000\n",
       "max     20000.000000        2016.000000     334.000000  150000.000000"
      ]
     },
     "execution_count": 33,
     "metadata": {},
     "output_type": "execute_result"
    }
   ],
   "source": [
    "data.drop(data.loc[data['price']==0].index, inplace=True)\n",
    "data.describe()"
   ]
  },
  {
   "cell_type": "markdown",
   "metadata": {},
   "source": [
    "Правда теперь мы видим, что есть price 1 евро, ... предположим, что машину могут продавать очень дешево, но не за 1 евро же. \n",
    "\n",
    "Соответственно удалим данные price, которых <1% по значению."
   ]
  },
  {
   "cell_type": "code",
   "execution_count": 34,
   "metadata": {},
   "outputs": [
    {
     "name": "stdout",
     "output_type": "stream",
     "text": [
      "Квантиль 0.01 по целевому признаку цены: 100.0\n"
     ]
    }
   ],
   "source": [
    "price_q = data[\"price\"].quantile(0.01)\n",
    "print(f'Квантиль 0.01 по целевому признаку цены: {price_q}')"
   ]
  },
  {
   "cell_type": "code",
   "execution_count": 35,
   "metadata": {},
   "outputs": [],
   "source": [
    "data.drop(data.loc[data['price']<price_q].index, inplace=True)"
   ]
  },
  {
   "cell_type": "markdown",
   "metadata": {},
   "source": [
    "**Посмотрим финально на наши данные:**"
   ]
  },
  {
   "cell_type": "code",
   "execution_count": 36,
   "metadata": {},
   "outputs": [
    {
     "name": "stdout",
     "output_type": "stream",
     "text": [
      "<class 'pandas.core.frame.DataFrame'>\n",
      "Int64Index: 321349 entries, 0 to 354368\n",
      "Data columns (total 10 columns):\n",
      " #   Column             Non-Null Count   Dtype  \n",
      "---  ------             --------------   -----  \n",
      " 0   price              321349 non-null  int64  \n",
      " 1   vehicle_type       321349 non-null  object \n",
      " 2   registration_year  321349 non-null  int64  \n",
      " 3   gearbox            321349 non-null  object \n",
      " 4   power              321349 non-null  float64\n",
      " 5   model              321349 non-null  object \n",
      " 6   kilometer          321349 non-null  int64  \n",
      " 7   fuel_type          321349 non-null  object \n",
      " 8   brand              321349 non-null  object \n",
      " 9   repaired           321349 non-null  bool   \n",
      "dtypes: bool(1), float64(1), int64(3), object(5)\n",
      "memory usage: 24.8+ MB\n"
     ]
    },
    {
     "data": {
      "image/png": "[encoded data removed]",
      "text/plain": [
       "<Figure size 1152x576 with 4 Axes>"
      ]
     },
     "metadata": {},
     "output_type": "display_data"
    }
   ],
   "source": [
    "data.info();\n",
    "data.hist();"
   ]
  },
  {
   "cell_type": "markdown",
   "metadata": {},
   "source": [
    "Видим что числовые признаки распределены вполне нормально."
   ]
  },
  {
   "cell_type": "code",
   "execution_count": 37,
   "metadata": {},
   "outputs": [
    {
     "data": {
      "text/html": [
       "<div>\n",
       "<style scoped>\n",
       "    .dataframe tbody tr th:only-of-type {\n",
       "        vertical-align: middle;\n",
       "    }\n",
       "\n",
       "    .dataframe tbody tr th {\n",
       "        vertical-align: top;\n",
       "    }\n",
       "\n",
       "    .dataframe thead th {\n",
       "        text-align: right;\n",
       "    }\n",
       "</style>\n",
       "<table border=\"1\" class=\"dataframe\">\n",
       "  <thead>\n",
       "    <tr style=\"text-align: right;\">\n",
       "      <th></th>\n",
       "      <th>price</th>\n",
       "      <th>registration_year</th>\n",
       "      <th>power</th>\n",
       "      <th>kilometer</th>\n",
       "    </tr>\n",
       "  </thead>\n",
       "  <tbody>\n",
       "    <tr>\n",
       "      <th>count</th>\n",
       "      <td>321349.000000</td>\n",
       "      <td>321349.000000</td>\n",
       "      <td>321349.000000</td>\n",
       "      <td>321349.000000</td>\n",
       "    </tr>\n",
       "    <tr>\n",
       "      <th>mean</th>\n",
       "      <td>4591.874467</td>\n",
       "      <td>2002.964176</td>\n",
       "      <td>118.842234</td>\n",
       "      <td>128892.979284</td>\n",
       "    </tr>\n",
       "    <tr>\n",
       "      <th>std</th>\n",
       "      <td>4501.319531</td>\n",
       "      <td>5.982014</td>\n",
       "      <td>49.469420</td>\n",
       "      <td>36706.237274</td>\n",
       "    </tr>\n",
       "    <tr>\n",
       "      <th>min</th>\n",
       "      <td>100.000000</td>\n",
       "      <td>1980.000000</td>\n",
       "      <td>41.000000</td>\n",
       "      <td>5000.000000</td>\n",
       "    </tr>\n",
       "    <tr>\n",
       "      <th>25%</th>\n",
       "      <td>1200.000000</td>\n",
       "      <td>1999.000000</td>\n",
       "      <td>77.000000</td>\n",
       "      <td>125000.000000</td>\n",
       "    </tr>\n",
       "    <tr>\n",
       "      <th>50%</th>\n",
       "      <td>2900.000000</td>\n",
       "      <td>2003.000000</td>\n",
       "      <td>110.000000</td>\n",
       "      <td>150000.000000</td>\n",
       "    </tr>\n",
       "    <tr>\n",
       "      <th>75%</th>\n",
       "      <td>6500.000000</td>\n",
       "      <td>2007.000000</td>\n",
       "      <td>144.000000</td>\n",
       "      <td>150000.000000</td>\n",
       "    </tr>\n",
       "    <tr>\n",
       "      <th>max</th>\n",
       "      <td>20000.000000</td>\n",
       "      <td>2016.000000</td>\n",
       "      <td>334.000000</td>\n",
       "      <td>150000.000000</td>\n",
       "    </tr>\n",
       "  </tbody>\n",
       "</table>\n",
       "</div>"
      ],
      "text/plain": [
       "               price  registration_year          power      kilometer\n",
       "count  321349.000000      321349.000000  321349.000000  321349.000000\n",
       "mean     4591.874467        2002.964176     118.842234  128892.979284\n",
       "std      4501.319531           5.982014      49.469420   36706.237274\n",
       "min       100.000000        1980.000000      41.000000    5000.000000\n",
       "25%      1200.000000        1999.000000      77.000000  125000.000000\n",
       "50%      2900.000000        2003.000000     110.000000  150000.000000\n",
       "75%      6500.000000        2007.000000     144.000000  150000.000000\n",
       "max     20000.000000        2016.000000     334.000000  150000.000000"
      ]
     },
     "execution_count": 37,
     "metadata": {},
     "output_type": "execute_result"
    }
   ],
   "source": [
    "data.describe()"
   ]
  },
  {
   "cell_type": "code",
   "execution_count": 38,
   "metadata": {
    "scrolled": true
   },
   "outputs": [
    {
     "data": {
      "text/html": [
       "<div>\n",
       "<style scoped>\n",
       "    .dataframe tbody tr th:only-of-type {\n",
       "        vertical-align: middle;\n",
       "    }\n",
       "\n",
       "    .dataframe tbody tr th {\n",
       "        vertical-align: top;\n",
       "    }\n",
       "\n",
       "    .dataframe thead th {\n",
       "        text-align: right;\n",
       "    }\n",
       "</style>\n",
       "<table border=\"1\" class=\"dataframe\">\n",
       "  <thead>\n",
       "    <tr style=\"text-align: right;\">\n",
       "      <th></th>\n",
       "      <th>price</th>\n",
       "      <th>vehicle_type</th>\n",
       "      <th>registration_year</th>\n",
       "      <th>gearbox</th>\n",
       "      <th>power</th>\n",
       "      <th>model</th>\n",
       "      <th>kilometer</th>\n",
       "      <th>fuel_type</th>\n",
       "      <th>brand</th>\n",
       "      <th>repaired</th>\n",
       "    </tr>\n",
       "  </thead>\n",
       "  <tbody>\n",
       "    <tr>\n",
       "      <th>0</th>\n",
       "      <td>480</td>\n",
       "      <td>sedan</td>\n",
       "      <td>1993</td>\n",
       "      <td>manual</td>\n",
       "      <td>101.0</td>\n",
       "      <td>golf</td>\n",
       "      <td>150000</td>\n",
       "      <td>petrol</td>\n",
       "      <td>volkswagen</td>\n",
       "      <td>False</td>\n",
       "    </tr>\n",
       "    <tr>\n",
       "      <th>1</th>\n",
       "      <td>18300</td>\n",
       "      <td>coupe</td>\n",
       "      <td>2011</td>\n",
       "      <td>manual</td>\n",
       "      <td>190.0</td>\n",
       "      <td>unknown</td>\n",
       "      <td>125000</td>\n",
       "      <td>gasoline</td>\n",
       "      <td>audi</td>\n",
       "      <td>True</td>\n",
       "    </tr>\n",
       "    <tr>\n",
       "      <th>2</th>\n",
       "      <td>9800</td>\n",
       "      <td>suv</td>\n",
       "      <td>2004</td>\n",
       "      <td>auto</td>\n",
       "      <td>163.0</td>\n",
       "      <td>grand</td>\n",
       "      <td>125000</td>\n",
       "      <td>gasoline</td>\n",
       "      <td>jeep</td>\n",
       "      <td>False</td>\n",
       "    </tr>\n",
       "    <tr>\n",
       "      <th>3</th>\n",
       "      <td>1500</td>\n",
       "      <td>small</td>\n",
       "      <td>2001</td>\n",
       "      <td>manual</td>\n",
       "      <td>75.0</td>\n",
       "      <td>golf</td>\n",
       "      <td>150000</td>\n",
       "      <td>petrol</td>\n",
       "      <td>volkswagen</td>\n",
       "      <td>False</td>\n",
       "    </tr>\n",
       "    <tr>\n",
       "      <th>4</th>\n",
       "      <td>3600</td>\n",
       "      <td>small</td>\n",
       "      <td>2008</td>\n",
       "      <td>manual</td>\n",
       "      <td>69.0</td>\n",
       "      <td>fabia</td>\n",
       "      <td>90000</td>\n",
       "      <td>gasoline</td>\n",
       "      <td>skoda</td>\n",
       "      <td>False</td>\n",
       "    </tr>\n",
       "  </tbody>\n",
       "</table>\n",
       "</div>"
      ],
      "text/plain": [
       "   price vehicle_type  registration_year gearbox  power    model  kilometer  \\\n",
       "0    480        sedan               1993  manual  101.0     golf     150000   \n",
       "1  18300        coupe               2011  manual  190.0  unknown     125000   \n",
       "2   9800          suv               2004    auto  163.0    grand     125000   \n",
       "3   1500        small               2001  manual   75.0     golf     150000   \n",
       "4   3600        small               2008  manual   69.0    fabia      90000   \n",
       "\n",
       "  fuel_type       brand  repaired  \n",
       "0    petrol  volkswagen     False  \n",
       "1  gasoline        audi      True  \n",
       "2  gasoline        jeep     False  \n",
       "3    petrol  volkswagen     False  \n",
       "4  gasoline       skoda     False  "
      ]
     },
     "execution_count": 38,
     "metadata": {},
     "output_type": "execute_result"
    }
   ],
   "source": [
    "data.head()"
   ]
  },
  {
   "cell_type": "markdown",
   "metadata": {},
   "source": [
    "**И заодно обозначим и проверим на неявные дубли категориальные признаки:**"
   ]
  },
  {
   "cell_type": "code",
   "execution_count": 39,
   "metadata": {},
   "outputs": [],
   "source": [
    "cat_feats = ['vehicle_type', 'gearbox', 'model', 'fuel_type', 'brand']"
   ]
  },
  {
   "cell_type": "code",
   "execution_count": 41,
   "metadata": {},
   "outputs": [
    {
     "name": "stdout",
     "output_type": "stream",
     "text": [
      "\n",
      "Уникальные значения категориального признака vehicle_type\n"
     ]
    },
    {
     "data": {
      "text/plain": [
       "['bus', 'convertible', 'coupe', 'other', 'sedan', 'small', 'suv', 'wagon']"
      ]
     },
     "metadata": {},
     "output_type": "display_data"
    },
    {
     "name": "stdout",
     "output_type": "stream",
     "text": [
      "\n",
      "Уникальные значения категориального признака gearbox\n"
     ]
    },
    {
     "data": {
      "text/plain": [
       "['auto', 'manual', 'unknown']"
      ]
     },
     "metadata": {},
     "output_type": "display_data"
    },
    {
     "name": "stdout",
     "output_type": "stream",
     "text": [
      "\n",
      "Уникальные значения категориального признака model\n"
     ]
    },
    {
     "data": {
      "text/plain": [
       "['100',\n",
       " '145',\n",
       " '147',\n",
       " '156',\n",
       " '159',\n",
       " '1_reihe',\n",
       " '1er',\n",
       " '200',\n",
       " '2_reihe',\n",
       " '300c',\n",
       " '3_reihe',\n",
       " '3er',\n",
       " '4_reihe',\n",
       " '500',\n",
       " '5_reihe',\n",
       " '5er',\n",
       " '601',\n",
       " '6_reihe',\n",
       " '6er',\n",
       " '7er',\n",
       " '80',\n",
       " '850',\n",
       " '90',\n",
       " '900',\n",
       " '9000',\n",
       " '911',\n",
       " 'a1',\n",
       " 'a2',\n",
       " 'a3',\n",
       " 'a4',\n",
       " 'a5',\n",
       " 'a6',\n",
       " 'a8',\n",
       " 'a_klasse',\n",
       " 'accord',\n",
       " 'agila',\n",
       " 'alhambra',\n",
       " 'almera',\n",
       " 'altea',\n",
       " 'amarok',\n",
       " 'antara',\n",
       " 'arosa',\n",
       " 'astra',\n",
       " 'auris',\n",
       " 'avensis',\n",
       " 'aveo',\n",
       " 'aygo',\n",
       " 'b_klasse',\n",
       " 'b_max',\n",
       " 'beetle',\n",
       " 'berlingo',\n",
       " 'bora',\n",
       " 'boxster',\n",
       " 'bravo',\n",
       " 'c1',\n",
       " 'c2',\n",
       " 'c3',\n",
       " 'c4',\n",
       " 'c5',\n",
       " 'c_klasse',\n",
       " 'c_max',\n",
       " 'c_reihe',\n",
       " 'caddy',\n",
       " 'calibra',\n",
       " 'captiva',\n",
       " 'carisma',\n",
       " 'carnival',\n",
       " 'cayenne',\n",
       " 'cc',\n",
       " 'ceed',\n",
       " 'charade',\n",
       " 'cherokee',\n",
       " 'citigo',\n",
       " 'civic',\n",
       " 'cl',\n",
       " 'clio',\n",
       " 'clk',\n",
       " 'clubman',\n",
       " 'colt',\n",
       " 'combo',\n",
       " 'cooper',\n",
       " 'cordoba',\n",
       " 'corolla',\n",
       " 'corsa',\n",
       " 'cr_reihe',\n",
       " 'croma',\n",
       " 'crossfire',\n",
       " 'cuore',\n",
       " 'cx_reihe',\n",
       " 'defender',\n",
       " 'delta',\n",
       " 'discovery',\n",
       " 'doblo',\n",
       " 'ducato',\n",
       " 'duster',\n",
       " 'e_klasse',\n",
       " 'elefantino',\n",
       " 'eos',\n",
       " 'escort',\n",
       " 'espace',\n",
       " 'exeo',\n",
       " 'fabia',\n",
       " 'fiesta',\n",
       " 'focus',\n",
       " 'forester',\n",
       " 'forfour',\n",
       " 'fortwo',\n",
       " 'fox',\n",
       " 'freelander',\n",
       " 'fusion',\n",
       " 'g_klasse',\n",
       " 'galant',\n",
       " 'galaxy',\n",
       " 'getz',\n",
       " 'gl',\n",
       " 'glk',\n",
       " 'golf',\n",
       " 'grand',\n",
       " 'i3',\n",
       " 'i_reihe',\n",
       " 'ibiza',\n",
       " 'impreza',\n",
       " 'insignia',\n",
       " 'jazz',\n",
       " 'jetta',\n",
       " 'jimny',\n",
       " 'juke',\n",
       " 'justy',\n",
       " 'ka',\n",
       " 'kadett',\n",
       " 'kaefer',\n",
       " 'kalina',\n",
       " 'kalos',\n",
       " 'kangoo',\n",
       " 'kappa',\n",
       " 'kuga',\n",
       " 'laguna',\n",
       " 'lancer',\n",
       " 'lanos',\n",
       " 'legacy',\n",
       " 'leon',\n",
       " 'lodgy',\n",
       " 'logan',\n",
       " 'lupo',\n",
       " 'lybra',\n",
       " 'm_klasse',\n",
       " 'm_reihe',\n",
       " 'materia',\n",
       " 'matiz',\n",
       " 'megane',\n",
       " 'meriva',\n",
       " 'micra',\n",
       " 'mii',\n",
       " 'modus',\n",
       " 'mondeo',\n",
       " 'move',\n",
       " 'musa',\n",
       " 'mustang',\n",
       " 'mx_reihe',\n",
       " 'navara',\n",
       " 'niva',\n",
       " 'note',\n",
       " 'nubira',\n",
       " 'octavia',\n",
       " 'omega',\n",
       " 'one',\n",
       " 'other',\n",
       " 'outlander',\n",
       " 'pajero',\n",
       " 'panda',\n",
       " 'passat',\n",
       " 'phaeton',\n",
       " 'picanto',\n",
       " 'polo',\n",
       " 'primera',\n",
       " 'ptcruiser',\n",
       " 'punto',\n",
       " 'q3',\n",
       " 'q5',\n",
       " 'q7',\n",
       " 'qashqai',\n",
       " 'r19',\n",
       " 'range_rover',\n",
       " 'range_rover_evoque',\n",
       " 'range_rover_sport',\n",
       " 'rangerover',\n",
       " 'rav',\n",
       " 'rio',\n",
       " 'roadster',\n",
       " 'roomster',\n",
       " 'rx_reihe',\n",
       " 's60',\n",
       " 's_klasse',\n",
       " 's_max',\n",
       " 's_type',\n",
       " 'samara',\n",
       " 'sandero',\n",
       " 'santa',\n",
       " 'scenic',\n",
       " 'scirocco',\n",
       " 'seicento',\n",
       " 'serie_2',\n",
       " 'sharan',\n",
       " 'signum',\n",
       " 'sirion',\n",
       " 'sl',\n",
       " 'slk',\n",
       " 'sorento',\n",
       " 'spark',\n",
       " 'spider',\n",
       " 'sportage',\n",
       " 'sprinter',\n",
       " 'stilo',\n",
       " 'superb',\n",
       " 'swift',\n",
       " 'terios',\n",
       " 'tigra',\n",
       " 'tiguan',\n",
       " 'toledo',\n",
       " 'touareg',\n",
       " 'touran',\n",
       " 'transit',\n",
       " 'transporter',\n",
       " 'tt',\n",
       " 'tucson',\n",
       " 'twingo',\n",
       " 'unknown',\n",
       " 'up',\n",
       " 'v40',\n",
       " 'v50',\n",
       " 'v60',\n",
       " 'v70',\n",
       " 'v_klasse',\n",
       " 'vectra',\n",
       " 'verso',\n",
       " 'viano',\n",
       " 'vito',\n",
       " 'vivaro',\n",
       " 'voyager',\n",
       " 'wrangler',\n",
       " 'x_reihe',\n",
       " 'x_trail',\n",
       " 'x_type',\n",
       " 'xc_reihe',\n",
       " 'yaris',\n",
       " 'yeti',\n",
       " 'ypsilon',\n",
       " 'z_reihe',\n",
       " 'zafira']"
      ]
     },
     "metadata": {},
     "output_type": "display_data"
    },
    {
     "name": "stdout",
     "output_type": "stream",
     "text": [
      "\n",
      "Уникальные значения категориального признака fuel_type\n"
     ]
    },
    {
     "data": {
      "text/plain": [
       "['cng', 'electric', 'gasoline', 'hybrid', 'lpg', 'other', 'petrol', 'unknown']"
      ]
     },
     "metadata": {},
     "output_type": "display_data"
    },
    {
     "name": "stdout",
     "output_type": "stream",
     "text": [
      "\n",
      "Уникальные значения категориального признака brand\n"
     ]
    },
    {
     "data": {
      "text/plain": [
       "['alfa_romeo',\n",
       " 'audi',\n",
       " 'bmw',\n",
       " 'chevrolet',\n",
       " 'chrysler',\n",
       " 'citroen',\n",
       " 'dacia',\n",
       " 'daewoo',\n",
       " 'daihatsu',\n",
       " 'fiat',\n",
       " 'ford',\n",
       " 'honda',\n",
       " 'hyundai',\n",
       " 'jaguar',\n",
       " 'jeep',\n",
       " 'kia',\n",
       " 'lada',\n",
       " 'lancia',\n",
       " 'land_rover',\n",
       " 'mazda',\n",
       " 'mercedes_benz',\n",
       " 'mini',\n",
       " 'mitsubishi',\n",
       " 'nissan',\n",
       " 'opel',\n",
       " 'peugeot',\n",
       " 'porsche',\n",
       " 'renault',\n",
       " 'rover',\n",
       " 'saab',\n",
       " 'seat',\n",
       " 'skoda',\n",
       " 'smart',\n",
       " 'sonstige_autos',\n",
       " 'subaru',\n",
       " 'suzuki',\n",
       " 'toyota',\n",
       " 'trabant',\n",
       " 'volkswagen',\n",
       " 'volvo']"
      ]
     },
     "metadata": {},
     "output_type": "display_data"
    }
   ],
   "source": [
    "for col in cat_feats:\n",
    "    print()\n",
    "    print('Уникальные значения категориального признака',col)\n",
    "    display(sorted(data[col].unique()))"
   ]
  },
  {
   "cell_type": "markdown",
   "metadata": {},
   "source": [
    "Неявных дубликатов не наблюдаю, на этом предобработку данных можно завершать."
   ]
  },
  {
   "cell_type": "code",
   "execution_count": 42,
   "metadata": {},
   "outputs": [
    {
     "name": "stdout",
     "output_type": "stream",
     "text": [
      "Итого мы сохранили 90.68% данных оригинального датасета.\n"
     ]
    }
   ],
   "source": [
    "print(f'Итого мы сохранили {len(data)/origin_len:.2%} данных оригинального датасета.')"
   ]
  },
  {
   "cell_type": "markdown",
   "metadata": {},
   "source": [
    "**Выводы:**\n",
    "\n",
    "Мы проанализировали наши данные. И в ходе предобработки:\n",
    "- избавились от дублей, лишних для модели признаков\n",
    "- обработали отсутствующие данные\n",
    "- обработали аномальные и нулевые значения\n",
    "\n"
   ]
  },
  {
   "cell_type": "markdown",
   "metadata": {},
   "source": [
    "## Подготовка выборок для обучения моделей"
   ]
  },
  {
   "cell_type": "markdown",
   "metadata": {},
   "source": [
    "Нам нужно построить одну из моделей LightGBM, еще мы проверим CatBoost, и как минимум одну — не бустинг, - это будет LinearRegression.\n",
    "\n",
    "Модели LightGBM и CatBoost поддерживают работу с категориальными данными, а для LinearRegression мы данные закодируем и стандартизируем."
   ]
  },
  {
   "cell_type": "code",
   "execution_count": 43,
   "metadata": {},
   "outputs": [],
   "source": [
    "# создадим признаки и класс\n",
    "features = data.drop(['price'], axis=1)\n",
    "target = data['price']\n",
    "\n",
    "# разобьем на выборки\n",
    "features_train, features_test, target_train, target_test = train_test_split(\n",
    "    features, target, test_size=0.3, random_state=12345)\n",
    "\n",
    "# и сделаем валидационные выборки\n",
    "features_train, features_val, target_train, target_val = train_test_split(\n",
    "    features_train, target_train, test_size=0.25, random_state=12345\n",
    ")"
   ]
  },
  {
   "cell_type": "markdown",
   "metadata": {},
   "source": [
    "**Преобразуем данные для моделей бустинга и линейной регрессии**"
   ]
  },
  {
   "cell_type": "markdown",
   "metadata": {},
   "source": [
    "Преобразования для линейной регрессии"
   ]
  },
  {
   "cell_type": "code",
   "execution_count": 44,
   "metadata": {
    "scrolled": true
   },
   "outputs": [],
   "source": [
    "# копируем признаки и класс\n",
    "features_train_lin = features_train.copy()\n",
    "features_val_lin = features_val.copy()\n",
    "features_test_lin = features_test.copy()"
   ]
  },
  {
   "cell_type": "code",
   "execution_count": 45,
   "metadata": {},
   "outputs": [
    {
     "data": {
      "text/plain": [
       "['vehicle_type', 'gearbox', 'model', 'fuel_type', 'brand']"
      ]
     },
     "execution_count": 45,
     "metadata": {},
     "output_type": "execute_result"
    }
   ],
   "source": [
    "# категориальные признаки\n",
    "ohe_features = features_train_lin.select_dtypes(include='object').columns.to_list()\n",
    "ohe_features"
   ]
  },
  {
   "cell_type": "code",
   "execution_count": 46,
   "metadata": {},
   "outputs": [
    {
     "data": {
      "text/plain": [
       "['registration_year', 'power', 'kilometer']"
      ]
     },
     "execution_count": 46,
     "metadata": {},
     "output_type": "execute_result"
    }
   ],
   "source": [
    "# численные признаки\n",
    "num_features = features_train_lin.select_dtypes(exclude='object').columns.to_list()\n",
    "num_features.remove('repaired')\n",
    "num_features"
   ]
  },
  {
   "cell_type": "code",
   "execution_count": 47,
   "metadata": {},
   "outputs": [],
   "source": [
    "# drop='first' удаляет первый признак из закодированных:\n",
    "# таким образом обходим dummy-ловушку\n",
    "# задаём handle_unknown='ignore':\n",
    "# игнорируется ранее невстречающиеся значения признака (при transform)\n",
    "encoder_ohe = OneHotEncoder(drop='first', handle_unknown='ignore', sparse=False)\n",
    "\n",
    "# обучаем энкодер на заданных категориальных признаках тренировочной выборки\n",
    "encoder_ohe.fit(features_train_lin[ohe_features])\n",
    "\n",
    "# добавляем закодированные признаки в features_train_lin\n",
    "# encoder_ohe.get_feature_names_out() позволяет получить названия колонок\n",
    "features_train_lin[\n",
    "    encoder_ohe.get_feature_names_out()\n",
    "] = encoder_ohe.transform(features_train_lin[ohe_features])\n",
    "\n",
    "# удаляем незакодированные категориальные признаки (изначальные колонки)\n",
    "features_train_lin = features_train_lin.drop(ohe_features, axis=1)\n",
    "\n",
    "# делаем тоже самое с валидационной и тестовой выборками\n",
    "features_val_lin[\n",
    "    encoder_ohe.get_feature_names_out()\n",
    "] = encoder_ohe.transform(features_val_lin[ohe_features])\n",
    "features_val_lin = features_val_lin.drop(ohe_features, axis=1)\n",
    "\n",
    "features_test_lin[\n",
    "    encoder_ohe.get_feature_names_out()\n",
    "] = encoder_ohe.transform(features_test_lin[ohe_features])\n",
    "features_test_lin = features_test_lin.drop(ohe_features, axis=1)"
   ]
  },
  {
   "cell_type": "code",
   "execution_count": 48,
   "metadata": {},
   "outputs": [],
   "source": [
    "# стандартизируем численные признаки\n",
    "scaler = StandardScaler(); scaler.fit(features_train_lin[num_features])\n",
    "\n",
    "features_train_lin[num_features] = scaler.transform(features_train_lin[num_features])\n",
    "features_val_lin[num_features] = scaler.transform(features_val_lin[num_features])\n",
    "features_test_lin[num_features] = scaler.transform(features_test_lin[num_features])"
   ]
  },
  {
   "cell_type": "code",
   "execution_count": 49,
   "metadata": {},
   "outputs": [
    {
     "data": {
      "text/html": [
       "<div>\n",
       "<style scoped>\n",
       "    .dataframe tbody tr th:only-of-type {\n",
       "        vertical-align: middle;\n",
       "    }\n",
       "\n",
       "    .dataframe tbody tr th {\n",
       "        vertical-align: top;\n",
       "    }\n",
       "\n",
       "    .dataframe thead th {\n",
       "        text-align: right;\n",
       "    }\n",
       "</style>\n",
       "<table border=\"1\" class=\"dataframe\">\n",
       "  <thead>\n",
       "    <tr style=\"text-align: right;\">\n",
       "      <th></th>\n",
       "      <th>registration_year</th>\n",
       "      <th>power</th>\n",
       "      <th>kilometer</th>\n",
       "      <th>repaired</th>\n",
       "      <th>vehicle_type_convertible</th>\n",
       "      <th>vehicle_type_coupe</th>\n",
       "      <th>vehicle_type_other</th>\n",
       "      <th>vehicle_type_sedan</th>\n",
       "      <th>vehicle_type_small</th>\n",
       "      <th>vehicle_type_suv</th>\n",
       "      <th>...</th>\n",
       "      <th>brand_seat</th>\n",
       "      <th>brand_skoda</th>\n",
       "      <th>brand_smart</th>\n",
       "      <th>brand_sonstige_autos</th>\n",
       "      <th>brand_subaru</th>\n",
       "      <th>brand_suzuki</th>\n",
       "      <th>brand_toyota</th>\n",
       "      <th>brand_trabant</th>\n",
       "      <th>brand_volkswagen</th>\n",
       "      <th>brand_volvo</th>\n",
       "    </tr>\n",
       "  </thead>\n",
       "  <tbody>\n",
       "    <tr>\n",
       "      <th>159900</th>\n",
       "      <td>-0.829798</td>\n",
       "      <td>-0.888524</td>\n",
       "      <td>0.575617</td>\n",
       "      <td>False</td>\n",
       "      <td>0.0</td>\n",
       "      <td>0.0</td>\n",
       "      <td>0.0</td>\n",
       "      <td>0.0</td>\n",
       "      <td>1.0</td>\n",
       "      <td>0.0</td>\n",
       "      <td>...</td>\n",
       "      <td>0.0</td>\n",
       "      <td>0.0</td>\n",
       "      <td>0.0</td>\n",
       "      <td>0.0</td>\n",
       "      <td>0.0</td>\n",
       "      <td>0.0</td>\n",
       "      <td>0.0</td>\n",
       "      <td>0.0</td>\n",
       "      <td>1.0</td>\n",
       "      <td>0.0</td>\n",
       "    </tr>\n",
       "    <tr>\n",
       "      <th>176602</th>\n",
       "      <td>1.173153</td>\n",
       "      <td>1.031437</td>\n",
       "      <td>-0.782916</td>\n",
       "      <td>False</td>\n",
       "      <td>0.0</td>\n",
       "      <td>0.0</td>\n",
       "      <td>0.0</td>\n",
       "      <td>1.0</td>\n",
       "      <td>0.0</td>\n",
       "      <td>0.0</td>\n",
       "      <td>...</td>\n",
       "      <td>0.0</td>\n",
       "      <td>0.0</td>\n",
       "      <td>0.0</td>\n",
       "      <td>0.0</td>\n",
       "      <td>0.0</td>\n",
       "      <td>0.0</td>\n",
       "      <td>0.0</td>\n",
       "      <td>0.0</td>\n",
       "      <td>0.0</td>\n",
       "      <td>0.0</td>\n",
       "    </tr>\n",
       "    <tr>\n",
       "      <th>344043</th>\n",
       "      <td>-0.662886</td>\n",
       "      <td>-0.282220</td>\n",
       "      <td>0.575617</td>\n",
       "      <td>False</td>\n",
       "      <td>0.0</td>\n",
       "      <td>0.0</td>\n",
       "      <td>0.0</td>\n",
       "      <td>1.0</td>\n",
       "      <td>0.0</td>\n",
       "      <td>0.0</td>\n",
       "      <td>...</td>\n",
       "      <td>0.0</td>\n",
       "      <td>0.0</td>\n",
       "      <td>0.0</td>\n",
       "      <td>0.0</td>\n",
       "      <td>0.0</td>\n",
       "      <td>0.0</td>\n",
       "      <td>0.0</td>\n",
       "      <td>0.0</td>\n",
       "      <td>0.0</td>\n",
       "      <td>0.0</td>\n",
       "    </tr>\n",
       "    <tr>\n",
       "      <th>270952</th>\n",
       "      <td>-1.831274</td>\n",
       "      <td>-0.888524</td>\n",
       "      <td>-3.364130</td>\n",
       "      <td>True</td>\n",
       "      <td>0.0</td>\n",
       "      <td>0.0</td>\n",
       "      <td>0.0</td>\n",
       "      <td>0.0</td>\n",
       "      <td>0.0</td>\n",
       "      <td>0.0</td>\n",
       "      <td>...</td>\n",
       "      <td>0.0</td>\n",
       "      <td>0.0</td>\n",
       "      <td>0.0</td>\n",
       "      <td>0.0</td>\n",
       "      <td>0.0</td>\n",
       "      <td>0.0</td>\n",
       "      <td>0.0</td>\n",
       "      <td>0.0</td>\n",
       "      <td>1.0</td>\n",
       "      <td>0.0</td>\n",
       "    </tr>\n",
       "    <tr>\n",
       "      <th>231487</th>\n",
       "      <td>-0.829798</td>\n",
       "      <td>-0.201380</td>\n",
       "      <td>0.575617</td>\n",
       "      <td>False</td>\n",
       "      <td>0.0</td>\n",
       "      <td>0.0</td>\n",
       "      <td>0.0</td>\n",
       "      <td>0.0</td>\n",
       "      <td>0.0</td>\n",
       "      <td>0.0</td>\n",
       "      <td>...</td>\n",
       "      <td>0.0</td>\n",
       "      <td>0.0</td>\n",
       "      <td>0.0</td>\n",
       "      <td>0.0</td>\n",
       "      <td>0.0</td>\n",
       "      <td>0.0</td>\n",
       "      <td>0.0</td>\n",
       "      <td>0.0</td>\n",
       "      <td>0.0</td>\n",
       "      <td>0.0</td>\n",
       "    </tr>\n",
       "  </tbody>\n",
       "</table>\n",
       "<p>5 rows × 306 columns</p>\n",
       "</div>"
      ],
      "text/plain": [
       "        registration_year     power  kilometer  repaired  \\\n",
       "159900          -0.829798 -0.888524   0.575617     False   \n",
       "176602           1.173153  1.031437  -0.782916     False   \n",
       "344043          -0.662886 -0.282220   0.575617     False   \n",
       "270952          -1.831274 -0.888524  -3.364130      True   \n",
       "231487          -0.829798 -0.201380   0.575617     False   \n",
       "\n",
       "        vehicle_type_convertible  vehicle_type_coupe  vehicle_type_other  \\\n",
       "159900                       0.0                 0.0                 0.0   \n",
       "176602                       0.0                 0.0                 0.0   \n",
       "344043                       0.0                 0.0                 0.0   \n",
       "270952                       0.0                 0.0                 0.0   \n",
       "231487                       0.0                 0.0                 0.0   \n",
       "\n",
       "        vehicle_type_sedan  vehicle_type_small  vehicle_type_suv  ...  \\\n",
       "159900                 0.0                 1.0               0.0  ...   \n",
       "176602                 1.0                 0.0               0.0  ...   \n",
       "344043                 1.0                 0.0               0.0  ...   \n",
       "270952                 0.0                 0.0               0.0  ...   \n",
       "231487                 0.0                 0.0               0.0  ...   \n",
       "\n",
       "        brand_seat  brand_skoda  brand_smart  brand_sonstige_autos  \\\n",
       "159900         0.0          0.0          0.0                   0.0   \n",
       "176602         0.0          0.0          0.0                   0.0   \n",
       "344043         0.0          0.0          0.0                   0.0   \n",
       "270952         0.0          0.0          0.0                   0.0   \n",
       "231487         0.0          0.0          0.0                   0.0   \n",
       "\n",
       "        brand_subaru  brand_suzuki  brand_toyota  brand_trabant  \\\n",
       "159900           0.0           0.0           0.0            0.0   \n",
       "176602           0.0           0.0           0.0            0.0   \n",
       "344043           0.0           0.0           0.0            0.0   \n",
       "270952           0.0           0.0           0.0            0.0   \n",
       "231487           0.0           0.0           0.0            0.0   \n",
       "\n",
       "        brand_volkswagen  brand_volvo  \n",
       "159900               1.0          0.0  \n",
       "176602               0.0          0.0  \n",
       "344043               0.0          0.0  \n",
       "270952               1.0          0.0  \n",
       "231487               0.0          0.0  \n",
       "\n",
       "[5 rows x 306 columns]"
      ]
     },
     "execution_count": 49,
     "metadata": {},
     "output_type": "execute_result"
    }
   ],
   "source": [
    "# проверим\n",
    "features_train_lin.head()"
   ]
  },
  {
   "cell_type": "markdown",
   "metadata": {},
   "source": [
    "Преобразования для бустинга"
   ]
  },
  {
   "cell_type": "code",
   "execution_count": 50,
   "metadata": {},
   "outputs": [],
   "source": [
    "# преобразования для бустинга\n",
    "features_train[cat_feats] = features_train[cat_feats].astype('category')\n",
    "features_val[cat_feats] = features_val[cat_feats].astype('category')\n",
    "features_test[cat_feats] = features_test[cat_feats].astype('category')"
   ]
  },
  {
   "cell_type": "markdown",
   "metadata": {},
   "source": [
    "**Выводы:**\n",
    "- разбили данные на тестовую, валидационную и обучающую выборки\n",
    "- отдельно обработали (кодировали OHE категориальные и Scaler'ом числовые) признаки для модели LR\n",
    "- обработали данные для моделей бустинга"
   ]
  },
  {
   "cell_type": "markdown",
   "metadata": {},
   "source": [
    "## Обучение моделей"
   ]
  },
  {
   "cell_type": "code",
   "execution_count": 51,
   "metadata": {},
   "outputs": [],
   "source": [
    "all_results = {}"
   ]
  },
  {
   "cell_type": "markdown",
   "metadata": {},
   "source": [
    "### LinearRegression"
   ]
  },
  {
   "cell_type": "code",
   "execution_count": 72,
   "metadata": {},
   "outputs": [
    {
     "name": "stdout",
     "output_type": "stream",
     "text": [
      "\n",
      "LinearRegression\n"
     ]
    }
   ],
   "source": [
    "model_name = 'LinearRegression'\n",
    "# параметры для тестирования\n",
    "\n",
    "print()\n",
    "print(f\"{model_name}\")\n",
    "\n",
    "model = LinearRegression()\n",
    "\n",
    "start_learn = time.time()\n",
    "model.fit(features_train_lin, target_train)\n",
    "end_learn = time.time()\n",
    "\n",
    "start_predict = time.time()\n",
    "predictions = model.predict(features_val_lin)\n",
    "end_predict = time.time()\n",
    "\n",
    "rmse = mean_squared_error(target_val, predictions, squared=False)\n",
    "\n",
    "#predictions_test = model.predict(features_test_lin)\n",
    "#rmse_test = mean_squared_error(target_test, predictions_test, squared=False)\n",
    "   \n",
    "result = {\n",
    "    'params':{},\n",
    "    'result':{\n",
    "        'rmse':rmse,\n",
    "        #'rmse_test':rmse_test,\n",
    "        'time_learn':(end_learn - start_learn),\n",
    "        'time_predict':(end_predict - start_predict)\n",
    "    },\n",
    "    'model': model\n",
    "}\n",
    "\n",
    "all_results[model_name] = result"
   ]
  },
  {
   "cell_type": "code",
   "execution_count": 73,
   "metadata": {},
   "outputs": [
    {
     "name": "stdout",
     "output_type": "stream",
     "text": [
      "Лучшая модель: RMSE 2488.312827113274\n",
      "Скорость обучения: 25.991670846939087\n",
      "Скорость предсказания: 0.22787761688232422\n",
      "Параметры: {}\n",
      "\n",
      "LinearRegression показала минимальную RMSE 2488.31 на валидационной выборке\n"
     ]
    }
   ],
   "source": [
    "print(f\"Лучшая модель: RMSE {result['result']['rmse']}\")\n",
    "print(f\"Скорость обучения: {result['result']['time_learn']}\")\n",
    "print(f\"Скорость предсказания: {result['result']['time_predict']}\")\n",
    "print('Параметры:',result['params'])\n",
    "print()\n",
    "print(f\"{model_name} показала минимальную RMSE {round(result['result']['rmse'],2)} на валидационной выборке\")\n",
    "#print(f\"А на тестовых данных RMSE = {round(result['result']['rmse_test'],2)}\")"
   ]
  },
  {
   "cell_type": "markdown",
   "metadata": {},
   "source": [
    "### CatBoostRegressor"
   ]
  },
  {
   "cell_type": "code",
   "execution_count": 74,
   "metadata": {},
   "outputs": [
    {
     "data": {
      "application/vnd.jupyter.widget-view+json": {
       "model_id": "4796690b8c704f4e9f5c4463747bc8cc",
       "version_major": 2,
       "version_minor": 0
      },
      "text/plain": [
       "  0%|          | 0/4 [00:00<?, ?it/s]"
      ]
     },
     "metadata": {},
     "output_type": "display_data"
    },
    {
     "name": "stdout",
     "output_type": "stream",
     "text": [
      "\n",
      "CatBoostRegressor\n",
      "\n",
      "RMSE = 1731.1866720310766\n",
      "Параметры: depth=4, iterations=50\n",
      "Время обучения: 2.713519334793091, Предсказания 0.04674124717712402\n",
      "\n",
      "RMSE = 1674.0617308441736\n",
      "Параметры: depth=4, iterations=100\n",
      "Время обучения: 4.3056724071502686, Предсказания 0.04552960395812988\n",
      "\n",
      "RMSE = 1660.329564103739\n",
      "Параметры: depth=6, iterations=50\n",
      "Время обучения: 3.746412515640259, Предсказания 0.05626821517944336\n",
      "\n",
      "RMSE = 1613.3118465081418\n",
      "Параметры: depth=6, iterations=100\n",
      "Время обучения: 5.916425466537476, Предсказания 0.059606075286865234\n",
      "\n",
      "\n"
     ]
    }
   ],
   "source": [
    "model_name = 'CatBoostRegressor'\n",
    "\n",
    "p_iters = [50,100]\n",
    "p_depth = [4,6]\n",
    "\n",
    "pbar = tqdm(total=len(p_iters)*len(p_depth))\n",
    "\n",
    "print()\n",
    "print(f\"{model_name}\")\n",
    "\n",
    "min_rmse = 10**10\n",
    "for depth in p_depth:\n",
    "    for iterations in p_iters:\n",
    "    \n",
    "        model = CatBoostRegressor(\n",
    "            cat_features=cat_feats,\n",
    "            loss_function='RMSE',\n",
    "            iterations=iterations,\n",
    "            depth=depth,\n",
    "            random_seed=12345\n",
    "        )\n",
    "\n",
    "        start_learn = time.time()\n",
    "        model.fit(features_train, target_train, verbose=False)\n",
    "        end_learn = time.time()\n",
    "        \n",
    "        start_predict = time.time()\n",
    "        predictions = model.predict(features_val)\n",
    "        end_predict = time.time()\n",
    "\n",
    "        rmse = mean_squared_error(target_val, predictions, squared=False)\n",
    "        \n",
    "        #predictions_test = model.predict(features_test)\n",
    "        #rmse_test = mean_squared_error(target_test, predictions_test, squared=False)\n",
    "        \n",
    "        print()\n",
    "        print('RMSE =',rmse)\n",
    "        #print('RMSE TEST =',rmse_test)\n",
    "        print(f'Параметры: depth={depth}, iterations={iterations}')\n",
    "        print(f'Время обучения: {(end_learn - start_learn)}, Предсказания {(end_predict - start_predict)}')\n",
    "        \n",
    "        if(rmse<min_rmse):\n",
    "            result = {\n",
    "                'params':{\n",
    "                    'iterations':iterations,\n",
    "                    'depth':depth\n",
    "                },\n",
    "                'result':{\n",
    "                    'rmse':rmse,\n",
    "                    #'rmse_test':rmse_test,\n",
    "                    'time_learn':(end_learn - start_learn),\n",
    "                    'time_predict':(end_predict - start_predict)\n",
    "                },\n",
    "                'model': model\n",
    "            }\n",
    "        pbar.update()\n",
    "\n",
    "print()\n",
    "print()\n",
    "\n",
    "all_results[model_name] = result"
   ]
  },
  {
   "cell_type": "code",
   "execution_count": 75,
   "metadata": {},
   "outputs": [
    {
     "name": "stdout",
     "output_type": "stream",
     "text": [
      "Лучшая модель: RMSE 1613.3118465081418\n",
      "Скорость обучения: 5.916425466537476\n",
      "Скорость предсказания: 0.059606075286865234\n",
      "Параметры: {'iterations': 100, 'depth': 6}\n",
      "\n",
      "CatBoostRegressor показала минимальную RMSE 1613.31 на валидационной выборке\n"
     ]
    }
   ],
   "source": [
    "print(f\"Лучшая модель: RMSE {result['result']['rmse']}\")\n",
    "print(f\"Скорость обучения: {result['result']['time_learn']}\")\n",
    "print(f\"Скорость предсказания: {result['result']['time_predict']}\")\n",
    "print('Параметры:',result['params'])\n",
    "print()\n",
    "print(f\"{model_name} показала минимальную RMSE {round(result['result']['rmse'],2)} на валидационной выборке\")\n",
    "#print(f\"А на тестовых данных RMSE = {round(result['result']['rmse_test'],2)}\")"
   ]
  },
  {
   "cell_type": "markdown",
   "metadata": {},
   "source": [
    "### LightGBM"
   ]
  },
  {
   "cell_type": "code",
   "execution_count": 76,
   "metadata": {},
   "outputs": [
    {
     "data": {
      "application/vnd.jupyter.widget-view+json": {
       "model_id": "1a6b148128c14dad8974cf6c9275667b",
       "version_major": 2,
       "version_minor": 0
      },
      "text/plain": [
       "  0%|          | 0/4 [00:00<?, ?it/s]"
      ]
     },
     "metadata": {},
     "output_type": "display_data"
    },
    {
     "name": "stdout",
     "output_type": "stream",
     "text": [
      "\n",
      "LightGBM\n",
      "\n",
      "RMSE = 1714.1223075274718\n",
      "Параметры: max_depth=10, num_iterations=30\n",
      "Время обучения: 23.43418002128601, Предсказания 0.2051863670349121\n",
      "\n",
      "RMSE = 1579.8055385967643\n",
      "Параметры: max_depth=10, num_iterations=80\n",
      "Время обучения: 77.51256394386292, Предсказания 0.49736952781677246\n",
      "\n",
      "RMSE = 1713.6964797220976\n",
      "Параметры: max_depth=20, num_iterations=30\n",
      "Время обучения: 26.982372045516968, Предсказания 0.2022237777709961\n",
      "\n",
      "RMSE = 1578.8426052446046\n",
      "Параметры: max_depth=20, num_iterations=80\n",
      "Время обучения: 50.598188400268555, Предсказания 0.5113692283630371\n",
      "\n",
      "\n"
     ]
    }
   ],
   "source": [
    "model_name = 'LightGBM'\n",
    "\n",
    "p_iters = [30,80]\n",
    "p_depth = [10,20]\n",
    "\n",
    "pbar = tqdm(total=len(p_iters)*len(p_depth))\n",
    "\n",
    "print()\n",
    "print(f\"{model_name}\")\n",
    "\n",
    "min_rmse = 10**10\n",
    "for depth in p_depth:\n",
    "    for iterations in p_iters:\n",
    "    \n",
    "        model = lgb.LGBMRegressor(\n",
    "            categorical_features=cat_feats,\n",
    "            metric='rmse',\n",
    "            num_iterations=iterations,\n",
    "            max_depth=depth,\n",
    "            random_seed=12345\n",
    "        )\n",
    "\n",
    "        start_learn = time.time()\n",
    "        model.fit(features_train, target_train, verbose=False)\n",
    "        end_learn = time.time()\n",
    "        \n",
    "        start_predict = time.time()\n",
    "        predictions = model.predict(features_val)\n",
    "        end_predict = time.time()\n",
    "\n",
    "        rmse = mean_squared_error(target_val, predictions, squared=False)\n",
    "        \n",
    "        #predictions_test = model.predict(features_test)\n",
    "        #rmse_test = mean_squared_error(target_test, predictions_test, squared=False)\n",
    "        \n",
    "        print()\n",
    "        print('RMSE =',rmse)\n",
    "        #print('RMSE TEST =',rmse_test)\n",
    "        print(f'Параметры: max_depth={depth}, num_iterations={iterations}')\n",
    "        print(f'Время обучения: {(end_learn - start_learn)}, Предсказания {(end_predict - start_predict)}')\n",
    "        \n",
    "        \n",
    "        if(rmse<min_rmse):\n",
    "            result = {\n",
    "                'params':{\n",
    "                    'num_iterations':iterations,\n",
    "                    'max_depth':depth\n",
    "                },\n",
    "                'result':{\n",
    "                    'rmse':rmse,\n",
    "                    #'rmse_test':rmse_test,\n",
    "                    'time_learn':(end_learn - start_learn),\n",
    "                    'time_predict':(end_predict - start_predict)\n",
    "                },\n",
    "                'model': model\n",
    "            }\n",
    "        pbar.update()\n",
    "        \n",
    "print()\n",
    "print()\n",
    "all_results[model_name] = result"
   ]
  },
  {
   "cell_type": "code",
   "execution_count": 77,
   "metadata": {},
   "outputs": [
    {
     "name": "stdout",
     "output_type": "stream",
     "text": [
      "Лучшая модель: RMSE 1578.8426052446046\n",
      "Скорость обучения: 50.598188400268555\n",
      "Скорость предсказания: 0.5113692283630371\n",
      "Параметры: {'num_iterations': 80, 'max_depth': 20}\n",
      "\n",
      "LightGBM показала минимальную RMSE 1578.84 на валидационной выборке\n"
     ]
    }
   ],
   "source": [
    "print(f\"Лучшая модель: RMSE {result['result']['rmse']}\")\n",
    "print(f\"Скорость обучения: {result['result']['time_learn']}\")\n",
    "print(f\"Скорость предсказания: {result['result']['time_predict']}\")\n",
    "print('Параметры:',result['params'])\n",
    "print()\n",
    "print(f\"{model_name} показала минимальную RMSE {round(result['result']['rmse'],2)} на валидационной выборке\")\n",
    "#print(f\"А на тестовых данных RMSE = {round(result['result']['rmse_test'],2)}\")"
   ]
  },
  {
   "cell_type": "markdown",
   "metadata": {},
   "source": [
    "**Выводы**\n",
    "\n",
    "Построили и протестировали модель LinearRegression\n",
    "- показала минимальную RMSE 2488.31 на валидационной выборке\n",
    "\n",
    "Построили и протестировали модель CatBoostRegressor\n",
    "- показала минимальную RMSE 1613.31 на валидационной выборке в лучшем случае\n",
    "\n",
    "Построили и протестировали модель LightGBM\n",
    "- показала минимальную RMSE 1578.84 на валидационной выборке в лучшем случае"
   ]
  },
  {
   "cell_type": "markdown",
   "metadata": {},
   "source": [
    "## Анализ моделей"
   ]
  },
  {
   "cell_type": "markdown",
   "metadata": {},
   "source": [
    "**По условию задачи, значение метрики RMSE должно быть меньше 2500.**\n",
    "\n",
    "Проанализируем полученные результаты."
   ]
  },
  {
   "cell_type": "markdown",
   "metadata": {},
   "source": [
    "**Посмотрим на результаты в виде таблицы:**"
   ]
  },
  {
   "cell_type": "code",
   "execution_count": 78,
   "metadata": {},
   "outputs": [
    {
     "data": {
      "text/html": [
       "<style  type=\"text/css\" >\n",
       "</style><table id=\"T_d0d99_\" ><thead>    <tr>        <th class=\"col_heading level0 col0\" >Модель</th>        <th class=\"col_heading level0 col1\" >RMSE</th>        <th class=\"col_heading level0 col2\" >Скорость обучения</th>        <th class=\"col_heading level0 col3\" >Скорость предсказания</th>        <th class=\"col_heading level0 col4\" >Параметры</th>    </tr></thead><tbody>\n",
       "                <tr>\n",
       "                                <td id=\"T_d0d99_row0_col0\" class=\"data row0 col0\" >LightGBM</td>\n",
       "                        <td id=\"T_d0d99_row0_col1\" class=\"data row0 col1\" >1578.840000</td>\n",
       "                        <td id=\"T_d0d99_row0_col2\" class=\"data row0 col2\" >50.598 сек.</td>\n",
       "                        <td id=\"T_d0d99_row0_col3\" class=\"data row0 col3\" >0.511 сек.</td>\n",
       "                        <td id=\"T_d0d99_row0_col4\" class=\"data row0 col4\" >{'num_iterations': 80, 'max_depth': 20}</td>\n",
       "            </tr>\n",
       "            <tr>\n",
       "                                <td id=\"T_d0d99_row1_col0\" class=\"data row1 col0\" >CatBoostRegressor</td>\n",
       "                        <td id=\"T_d0d99_row1_col1\" class=\"data row1 col1\" >1613.310000</td>\n",
       "                        <td id=\"T_d0d99_row1_col2\" class=\"data row1 col2\" >5.916 сек.</td>\n",
       "                        <td id=\"T_d0d99_row1_col3\" class=\"data row1 col3\" >0.06 сек.</td>\n",
       "                        <td id=\"T_d0d99_row1_col4\" class=\"data row1 col4\" >{'iterations': 100, 'depth': 6}</td>\n",
       "            </tr>\n",
       "            <tr>\n",
       "                                <td id=\"T_d0d99_row2_col0\" class=\"data row2 col0\" >LinearRegression</td>\n",
       "                        <td id=\"T_d0d99_row2_col1\" class=\"data row2 col1\" >2488.310000</td>\n",
       "                        <td id=\"T_d0d99_row2_col2\" class=\"data row2 col2\" >25.992 сек.</td>\n",
       "                        <td id=\"T_d0d99_row2_col3\" class=\"data row2 col3\" >0.228 сек.</td>\n",
       "                        <td id=\"T_d0d99_row2_col4\" class=\"data row2 col4\" >{}</td>\n",
       "            </tr>\n",
       "    </tbody></table>"
      ],
      "text/plain": [
       "<pandas.io.formats.style.Styler at 0x7f36122fc2e0>"
      ]
     },
     "execution_count": 78,
     "metadata": {},
     "output_type": "execute_result"
    }
   ],
   "source": [
    "df_data = []\n",
    "for model, model_result in all_results.items():\n",
    "    df_data.append([\n",
    "        model,\n",
    "        round(model_result['result']['rmse'],2),\n",
    "        str(round(model_result['result']['time_learn'],3))+' сек.',\n",
    "        str(round(model_result['result']['time_predict'],3))+' сек.',\n",
    "        str(model_result['params'])\n",
    "    ])\n",
    "df = pd.DataFrame(df_data, columns=['Модель', 'RMSE',\n",
    "                                    'Скорость обучения', 'Скорость предсказания', 'Параметры'])\n",
    "df = df.sort_values('RMSE',ascending=True)\n",
    "df.style.hide_index()"
   ]
  },
  {
   "cell_type": "markdown",
   "metadata": {},
   "source": [
    "**Как мы видим:**\n",
    "- Модель LinearRegression не подходит по условию задачи, превышена ошибка.\n",
    "- Модели CatBoostRegressor и LightGBM не превысили ошибку (2500), подходят нам."
   ]
  },
  {
   "cell_type": "markdown",
   "metadata": {},
   "source": [
    "**Как мы видим, при незначительно меньшей ошибке модель LightGBM значительно дольше учится, хоть и предсказывает быстрее.**\n",
    "\n",
    "**Выбираем для заказчика с учетом всех показателей:**\n",
    "\n",
    "Модель CatBoostRegressor\n",
    "- показала минимальную RMSE 1613.31 на валидационной выборке\n",
    "- скорость обучения 5.916 сек. (против 50.598 сек. у LightGBM)\n",
    "- скорость предсказания 0.06 сек. (против 0.511 сек. у LightGBM)"
   ]
  },
  {
   "cell_type": "markdown",
   "metadata": {},
   "source": [
    "*Следует учитывать, что от запуска к запуску данные времени обучения/предсказания могут отличаться, но общую динамику мы видим вполне отчетливо, сравнивая модели.*"
   ]
  },
  {
   "cell_type": "markdown",
   "metadata": {},
   "source": [
    "## Тестирование лучшей модели"
   ]
  },
  {
   "cell_type": "markdown",
   "metadata": {},
   "source": [
    "После анализа моделей и выбора лучшей - протестируем её на тестовой выборке."
   ]
  },
  {
   "cell_type": "code",
   "execution_count": 79,
   "metadata": {},
   "outputs": [],
   "source": [
    "# берем сохраненную топ-модель\n",
    "top_model = all_results['CatBoostRegressor']['model']"
   ]
  },
  {
   "cell_type": "code",
   "execution_count": 80,
   "metadata": {},
   "outputs": [],
   "source": [
    "# делаем предсказание по тестовой выборке\n",
    "start_predict = time.time()\n",
    "predictions_test = top_model.predict(features_test)\n",
    "end_predict = time.time()\n",
    "\n",
    "# записываем показатели\n",
    "top_model_predict_time = (end_predict - start_predict)\n",
    "top_model_rmse = mean_squared_error(target_test, predictions_test, squared=False)"
   ]
  },
  {
   "cell_type": "code",
   "execution_count": 82,
   "metadata": {},
   "outputs": [
    {
     "name": "stdout",
     "output_type": "stream",
     "text": [
      "На тестовой выборке лучшая модель CatBoostRegressor показала:\n",
      "Скорость предсказания: 0.09 сек.\n",
      "RMSE: 1623.81\n"
     ]
    }
   ],
   "source": [
    "print('На тестовой выборке лучшая модель CatBoostRegressor показала:')\n",
    "print(f'Скорость предсказания: {top_model_predict_time:.2f} сек.')\n",
    "print(f'RMSE: {top_model_rmse:.2f}')"
   ]
  },
  {
   "cell_type": "markdown",
   "metadata": {},
   "source": [
    "**Выбранная лучшая модель отлично показала себя на тестовой выборке, быстро предсказывает, ошибка гораздо ниже максимально допустимой по условию задачи.**"
   ]
  },
  {
   "cell_type": "markdown",
   "metadata": {},
   "source": [
    "## Общий вывод"
   ]
  },
  {
   "cell_type": "markdown",
   "metadata": {},
   "source": [
    "**Цель проекта:** Нам нужно построить модель для определения стоимости. \n",
    "\n",
    "**Заказчику важны:**\n",
    "\n",
    "- качество предсказания;\n",
    "- скорость предсказания;\n",
    "- время обучения.\n",
    "\n",
    "**Мы выполнили работы:**\n",
    "\n",
    "1. Загрузили и изучили данные\n",
    "\n",
    "- ознакомились с данными\n",
    "- избавились от дублей, лишних для модели признаков\n",
    "- обработали отсутствующие данные\n",
    "- обработали аномальные и нулевые значения\n",
    "- провели анализ данных\n",
    "    \n",
    "\n",
    "2. Подготовили выборки для обучения моделей.\n",
    "\n",
    "- разбили данные на тестовую, валидационную и обучающую выборки\n",
    "- отдельно обработали (кодировали OHE категориальные и Scaler'ом числовые) признаки для модели LR\n",
    "- обработали данные для моделей бустинга\n",
    "\n",
    "\n",
    "3. Обучили разные модели, протестировав их и на валидационной выборке\n",
    "\n",
    "    Построили и протестировали модель LinearRegression\n",
    "    - показала минимальную RMSE 2488.31 на валидационной выборке\n",
    "\n",
    "    Построили и протестировали модель CatBoostRegressor\n",
    "    - показала минимальную RMSE 1613.31 на валидационной выборке в лучшем случае\n",
    "\n",
    "    Построили и протестировали модель LightGBM\n",
    "    - показала минимальную RMSE 1578.84 на валидационной выборке в лучшем случае\n",
    "\n",
    "\n",
    "4. Проанализировали время обучения, время предсказания и качество моделей.\n",
    "\n",
    "- Опираясь на критерии заказчика, выбрали лучшую модель:\n",
    "\n",
    "    **Модель CatBoostRegressor с RMSE = 1613.31 на валидационной выборке.**\n",
    "\n",
    "    Скорость обучения: 5.916 сек., предсказания: 0.06 сек.\n",
    "\n",
    "    *Параметры: {'iterations': 100, 'depth': 6}*\n",
    "\n",
    "\n",
    "5. Протестировали выбранную лучшую модель на тестовой выборке\n",
    "\n",
    "- На тестовой выборке лучшая модель CatBoostRegressor показала:\n",
    "    - Скорость предсказания: 0.09 сек.\n",
    "    - RMSE: 1623.81\n",
    "\n",
    "Дополнительно, следует учесть, что скорость обучения и работы модели зависит в том числе и от технических характеристик устройства и от ПО, на котором всё запускается."
   ]
  },
  {
   "cell_type": "code",
   "execution_count": null,
   "metadata": {},
   "outputs": [],
   "source": []
  }
 ],
 "metadata": {
  "ExecuteTimeLog": [
   {
    "duration": 306,
    "start_time": "2023-03-27T14:29:55.534Z"
   },
   {
    "duration": 100,
    "start_time": "2023-03-27T14:30:14.735Z"
   },
   {
    "duration": 2292,
    "start_time": "2023-03-27T14:30:17.344Z"
   },
   {
    "duration": 13298,
    "start_time": "2023-03-27T14:30:19.643Z"
   },
   {
    "duration": 13009,
    "start_time": "2023-03-27T14:30:38.936Z"
   },
   {
    "duration": 6896,
    "start_time": "2023-03-27T14:30:52.038Z"
   },
   {
    "duration": 5896,
    "start_time": "2023-03-27T14:31:08.248Z"
   },
   {
    "duration": 57,
    "start_time": "2023-03-28T05:54:30.823Z"
   },
   {
    "duration": 418,
    "start_time": "2023-03-28T05:54:35.405Z"
   },
   {
    "duration": 1223,
    "start_time": "2023-03-28T05:54:36.473Z"
   },
   {
    "duration": 758,
    "start_time": "2023-03-28T05:54:37.698Z"
   },
   {
    "duration": 40,
    "start_time": "2023-03-28T05:56:46.034Z"
   },
   {
    "duration": 166,
    "start_time": "2023-03-28T05:56:59.836Z"
   },
   {
    "duration": 232,
    "start_time": "2023-03-28T05:57:09.104Z"
   },
   {
    "duration": 564,
    "start_time": "2023-03-28T05:57:48.129Z"
   },
   {
    "duration": 593,
    "start_time": "2023-03-28T05:58:03.370Z"
   },
   {
    "duration": 806,
    "start_time": "2023-03-28T05:58:08.855Z"
   },
   {
    "duration": 1106,
    "start_time": "2023-03-28T05:58:09.663Z"
   },
   {
    "duration": 787,
    "start_time": "2023-03-28T05:58:39.600Z"
   },
   {
    "duration": 36,
    "start_time": "2023-03-28T05:58:47.617Z"
   },
   {
    "duration": 29,
    "start_time": "2023-03-28T05:59:16.145Z"
   },
   {
    "duration": 21,
    "start_time": "2023-03-28T05:59:22.320Z"
   },
   {
    "duration": 6,
    "start_time": "2023-03-28T05:59:31.945Z"
   },
   {
    "duration": 7,
    "start_time": "2023-03-28T05:59:41.079Z"
   },
   {
    "duration": 6,
    "start_time": "2023-03-28T05:59:43.828Z"
   },
   {
    "duration": 8,
    "start_time": "2023-03-28T05:59:44.256Z"
   },
   {
    "duration": 7,
    "start_time": "2023-03-28T06:01:33.922Z"
   },
   {
    "duration": 6,
    "start_time": "2023-03-28T06:01:39.224Z"
   },
   {
    "duration": 13,
    "start_time": "2023-03-28T06:02:29.275Z"
   },
   {
    "duration": 38,
    "start_time": "2023-03-28T06:04:01.474Z"
   },
   {
    "duration": 109,
    "start_time": "2023-03-28T06:04:56.703Z"
   },
   {
    "duration": 30,
    "start_time": "2023-03-28T06:10:34.280Z"
   },
   {
    "duration": 48,
    "start_time": "2023-03-28T06:10:49.185Z"
   },
   {
    "duration": 120,
    "start_time": "2023-03-28T06:11:36.675Z"
   },
   {
    "duration": 24,
    "start_time": "2023-03-28T06:12:50.475Z"
   },
   {
    "duration": 21,
    "start_time": "2023-03-28T06:12:54.591Z"
   },
   {
    "duration": 26,
    "start_time": "2023-03-28T06:12:58.625Z"
   },
   {
    "duration": 246,
    "start_time": "2023-03-28T06:14:25.851Z"
   },
   {
    "duration": 284,
    "start_time": "2023-03-28T06:14:40.313Z"
   },
   {
    "duration": 84,
    "start_time": "2023-03-28T06:15:58.168Z"
   },
   {
    "duration": 91,
    "start_time": "2023-03-28T06:16:06.359Z"
   },
   {
    "duration": 33,
    "start_time": "2023-03-28T06:18:56.522Z"
   },
   {
    "duration": 32,
    "start_time": "2023-03-28T06:19:10.241Z"
   },
   {
    "duration": 28,
    "start_time": "2023-03-28T06:20:02.567Z"
   },
   {
    "duration": 79,
    "start_time": "2023-03-28T06:21:13.020Z"
   },
   {
    "duration": 9,
    "start_time": "2023-03-28T06:21:40.163Z"
   },
   {
    "duration": 4,
    "start_time": "2023-03-28T06:21:42.542Z"
   },
   {
    "duration": 50,
    "start_time": "2023-03-28T06:21:43.915Z"
   },
   {
    "duration": 479,
    "start_time": "2023-03-28T06:25:52.677Z"
   },
   {
    "duration": 4,
    "start_time": "2023-03-28T06:26:19.713Z"
   },
   {
    "duration": 52,
    "start_time": "2023-03-28T06:26:35.856Z"
   },
   {
    "duration": 525,
    "start_time": "2023-03-28T06:26:42.337Z"
   },
   {
    "duration": 78,
    "start_time": "2023-03-28T06:28:37.339Z"
   },
   {
    "duration": 24,
    "start_time": "2023-03-28T06:30:27.600Z"
   },
   {
    "duration": 36,
    "start_time": "2023-03-28T06:30:46.878Z"
   },
   {
    "duration": 19,
    "start_time": "2023-03-28T06:32:16.277Z"
   },
   {
    "duration": 292,
    "start_time": "2023-03-28T06:32:18.061Z"
   },
   {
    "duration": 287,
    "start_time": "2023-03-28T06:32:28.216Z"
   },
   {
    "duration": 316,
    "start_time": "2023-03-28T06:32:53.663Z"
   },
   {
    "duration": 41,
    "start_time": "2023-03-28T06:35:05.443Z"
   },
   {
    "duration": 77,
    "start_time": "2023-03-28T06:35:23.369Z"
   },
   {
    "duration": 286,
    "start_time": "2023-03-28T06:39:13.614Z"
   },
   {
    "duration": 446,
    "start_time": "2023-03-28T06:46:25.554Z"
   },
   {
    "duration": 898,
    "start_time": "2023-03-28T06:46:26.429Z"
   },
   {
    "duration": 784,
    "start_time": "2023-03-28T06:46:27.329Z"
   },
   {
    "duration": 1087,
    "start_time": "2023-03-28T06:46:34.424Z"
   },
   {
    "duration": 39,
    "start_time": "2023-03-28T06:46:37.990Z"
   },
   {
    "duration": 13,
    "start_time": "2023-03-28T06:46:41.299Z"
   },
   {
    "duration": 26,
    "start_time": "2023-03-28T06:46:55.718Z"
   },
   {
    "duration": 96,
    "start_time": "2023-03-28T06:46:56.698Z"
   },
   {
    "duration": 23,
    "start_time": "2023-03-28T06:46:59.438Z"
   },
   {
    "duration": 20,
    "start_time": "2023-03-28T06:47:08.493Z"
   },
   {
    "duration": 34,
    "start_time": "2023-03-28T06:47:09.798Z"
   },
   {
    "duration": 21,
    "start_time": "2023-03-28T06:47:15.566Z"
   },
   {
    "duration": 84,
    "start_time": "2023-03-28T06:47:16.836Z"
   },
   {
    "duration": 324,
    "start_time": "2023-03-28T06:47:25.249Z"
   },
   {
    "duration": 40,
    "start_time": "2023-03-28T06:47:30.008Z"
   },
   {
    "duration": 72,
    "start_time": "2023-03-28T06:47:30.973Z"
   },
   {
    "duration": 70,
    "start_time": "2023-03-28T06:49:17.556Z"
   },
   {
    "duration": 11,
    "start_time": "2023-03-28T06:50:03.362Z"
   },
   {
    "duration": 63,
    "start_time": "2023-03-28T06:50:25.925Z"
   },
   {
    "duration": 11,
    "start_time": "2023-03-28T06:54:45.594Z"
   },
   {
    "duration": 13,
    "start_time": "2023-03-28T06:56:00.183Z"
   },
   {
    "duration": 11,
    "start_time": "2023-03-28T06:56:03.692Z"
   },
   {
    "duration": 9,
    "start_time": "2023-03-28T06:56:51.259Z"
   },
   {
    "duration": 105,
    "start_time": "2023-03-28T06:56:57.640Z"
   },
   {
    "duration": 9,
    "start_time": "2023-03-28T06:57:40.593Z"
   },
   {
    "duration": 14,
    "start_time": "2023-03-28T06:57:50.360Z"
   },
   {
    "duration": 12,
    "start_time": "2023-03-28T06:57:53.154Z"
   },
   {
    "duration": 8,
    "start_time": "2023-03-28T06:58:16.979Z"
   },
   {
    "duration": 8,
    "start_time": "2023-03-28T06:58:19.947Z"
   },
   {
    "duration": 8,
    "start_time": "2023-03-28T06:59:29.287Z"
   },
   {
    "duration": 96,
    "start_time": "2023-03-28T06:59:42.935Z"
   },
   {
    "duration": 23,
    "start_time": "2023-03-28T07:01:38.493Z"
   },
   {
    "duration": 926,
    "start_time": "2023-03-28T07:01:42.906Z"
   },
   {
    "duration": 4,
    "start_time": "2023-03-28T07:01:59.684Z"
   },
   {
    "duration": 231,
    "start_time": "2023-03-28T07:04:08.936Z"
   },
   {
    "duration": 5,
    "start_time": "2023-03-28T07:04:29.405Z"
   },
   {
    "duration": 174,
    "start_time": "2023-03-28T07:04:33.679Z"
   },
   {
    "duration": 31,
    "start_time": "2023-03-28T07:05:52.292Z"
   },
   {
    "duration": 11,
    "start_time": "2023-03-28T07:05:57.933Z"
   },
   {
    "duration": 54,
    "start_time": "2023-03-28T07:07:34.757Z"
   },
   {
    "duration": 818,
    "start_time": "2023-03-28T07:07:51.076Z"
   },
   {
    "duration": 62,
    "start_time": "2023-03-28T07:07:58.154Z"
   },
   {
    "duration": 191,
    "start_time": "2023-03-28T07:08:03.611Z"
   },
   {
    "duration": 18,
    "start_time": "2023-03-28T07:08:24.635Z"
   },
   {
    "duration": 8,
    "start_time": "2023-03-28T07:08:45.230Z"
   },
   {
    "duration": 8,
    "start_time": "2023-03-28T07:08:48.864Z"
   },
   {
    "duration": 7,
    "start_time": "2023-03-28T07:08:51.003Z"
   },
   {
    "duration": 6,
    "start_time": "2023-03-28T07:09:45.690Z"
   },
   {
    "duration": 7,
    "start_time": "2023-03-28T07:10:08.184Z"
   },
   {
    "duration": 8,
    "start_time": "2023-03-28T07:10:31.159Z"
   },
   {
    "duration": 16,
    "start_time": "2023-03-28T07:11:08.384Z"
   },
   {
    "duration": 53,
    "start_time": "2023-03-28T07:11:31.078Z"
   },
   {
    "duration": 62,
    "start_time": "2023-03-28T07:11:33.953Z"
   },
   {
    "duration": 235,
    "start_time": "2023-03-28T07:12:07.207Z"
   },
   {
    "duration": 1271,
    "start_time": "2023-03-28T07:12:56.054Z"
   },
   {
    "duration": 870,
    "start_time": "2023-03-28T07:12:57.327Z"
   },
   {
    "duration": 792,
    "start_time": "2023-03-28T07:12:58.199Z"
   },
   {
    "duration": 1028,
    "start_time": "2023-03-28T07:12:58.992Z"
   },
   {
    "duration": 49,
    "start_time": "2023-03-28T07:13:00.023Z"
   },
   {
    "duration": 18,
    "start_time": "2023-03-28T07:13:00.075Z"
   },
   {
    "duration": 36,
    "start_time": "2023-03-28T07:13:00.095Z"
   },
   {
    "duration": 116,
    "start_time": "2023-03-28T07:13:00.133Z"
   },
   {
    "duration": 43,
    "start_time": "2023-03-28T07:13:00.250Z"
   },
   {
    "duration": 41,
    "start_time": "2023-03-28T07:13:00.295Z"
   },
   {
    "duration": 44,
    "start_time": "2023-03-28T07:13:00.338Z"
   },
   {
    "duration": 26,
    "start_time": "2023-03-28T07:13:00.384Z"
   },
   {
    "duration": 93,
    "start_time": "2023-03-28T07:13:00.412Z"
   },
   {
    "duration": 308,
    "start_time": "2023-03-28T07:13:00.508Z"
   },
   {
    "duration": 46,
    "start_time": "2023-03-28T07:13:00.818Z"
   },
   {
    "duration": 89,
    "start_time": "2023-03-28T07:13:00.866Z"
   },
   {
    "duration": 24,
    "start_time": "2023-03-28T07:13:00.956Z"
   },
   {
    "duration": 105,
    "start_time": "2023-03-28T07:13:00.982Z"
   },
   {
    "duration": 44,
    "start_time": "2023-03-28T07:13:01.089Z"
   },
   {
    "duration": 225,
    "start_time": "2023-03-28T07:13:01.134Z"
   },
   {
    "duration": 24,
    "start_time": "2023-03-28T07:13:01.361Z"
   },
   {
    "duration": 89,
    "start_time": "2023-03-28T07:13:01.387Z"
   },
   {
    "duration": 238,
    "start_time": "2023-03-28T07:13:01.479Z"
   },
   {
    "duration": 12,
    "start_time": "2023-03-28T07:13:01.718Z"
   },
   {
    "duration": 32,
    "start_time": "2023-03-28T07:13:01.731Z"
   },
   {
    "duration": 37,
    "start_time": "2023-03-28T07:13:01.766Z"
   },
   {
    "duration": 81,
    "start_time": "2023-03-28T07:13:01.805Z"
   },
   {
    "duration": 883,
    "start_time": "2023-03-28T07:15:07.877Z"
   },
   {
    "duration": 810,
    "start_time": "2023-03-28T07:15:11.587Z"
   },
   {
    "duration": 721,
    "start_time": "2023-03-28T07:15:12.399Z"
   },
   {
    "duration": 947,
    "start_time": "2023-03-28T07:15:15.622Z"
   },
   {
    "duration": 43,
    "start_time": "2023-03-28T07:15:17.491Z"
   },
   {
    "duration": 12,
    "start_time": "2023-03-28T07:15:27.042Z"
   },
   {
    "duration": 25,
    "start_time": "2023-03-28T07:15:29.259Z"
   },
   {
    "duration": 86,
    "start_time": "2023-03-28T07:15:34.307Z"
   },
   {
    "duration": 21,
    "start_time": "2023-03-28T07:15:38.816Z"
   },
   {
    "duration": 21,
    "start_time": "2023-03-28T07:15:41.368Z"
   },
   {
    "duration": 42,
    "start_time": "2023-03-28T07:15:41.970Z"
   },
   {
    "duration": 21,
    "start_time": "2023-03-28T07:15:43.296Z"
   },
   {
    "duration": 74,
    "start_time": "2023-03-28T07:15:45.078Z"
   },
   {
    "duration": 286,
    "start_time": "2023-03-28T07:15:47.386Z"
   },
   {
    "duration": 46,
    "start_time": "2023-03-28T07:15:48.660Z"
   },
   {
    "duration": 78,
    "start_time": "2023-03-28T07:15:49.497Z"
   },
   {
    "duration": 5,
    "start_time": "2023-03-28T07:15:51.730Z"
   },
   {
    "duration": 56,
    "start_time": "2023-03-28T07:15:53.102Z"
   },
   {
    "duration": 43,
    "start_time": "2023-03-28T07:15:58.320Z"
   },
   {
    "duration": 192,
    "start_time": "2023-03-28T07:16:00.425Z"
   },
   {
    "duration": 18,
    "start_time": "2023-03-28T07:16:04.908Z"
   },
   {
    "duration": 58,
    "start_time": "2023-03-28T07:16:12.234Z"
   },
   {
    "duration": 222,
    "start_time": "2023-03-28T07:16:14.775Z"
   },
   {
    "duration": 4,
    "start_time": "2023-03-28T07:17:00.954Z"
   },
   {
    "duration": 4,
    "start_time": "2023-03-28T07:17:08.685Z"
   },
   {
    "duration": 4,
    "start_time": "2023-03-28T07:17:13.802Z"
   },
   {
    "duration": 4,
    "start_time": "2023-03-28T07:17:17.834Z"
   },
   {
    "duration": 4,
    "start_time": "2023-03-28T07:17:24.312Z"
   },
   {
    "duration": 3,
    "start_time": "2023-03-28T07:17:45.096Z"
   },
   {
    "duration": 18,
    "start_time": "2023-03-28T07:19:22.379Z"
   },
   {
    "duration": 13,
    "start_time": "2023-03-28T07:21:24.624Z"
   },
   {
    "duration": 21,
    "start_time": "2023-03-28T07:21:35.554Z"
   },
   {
    "duration": 15,
    "start_time": "2023-03-28T07:21:42.837Z"
   },
   {
    "duration": 13,
    "start_time": "2023-03-28T07:21:52.630Z"
   },
   {
    "duration": 16,
    "start_time": "2023-03-28T07:22:00.155Z"
   },
   {
    "duration": 30,
    "start_time": "2023-03-28T07:22:48.650Z"
   },
   {
    "duration": 30,
    "start_time": "2023-03-28T07:22:56.988Z"
   },
   {
    "duration": 271,
    "start_time": "2023-03-28T08:57:55.698Z"
   },
   {
    "duration": 36,
    "start_time": "2023-03-28T08:58:40.086Z"
   },
   {
    "duration": 37,
    "start_time": "2023-03-28T08:59:34.386Z"
   },
   {
    "duration": 21,
    "start_time": "2023-03-28T09:01:00.656Z"
   },
   {
    "duration": 321,
    "start_time": "2023-03-28T09:02:00.938Z"
   },
   {
    "duration": 14,
    "start_time": "2023-03-28T09:02:47.781Z"
   },
   {
    "duration": 12,
    "start_time": "2023-03-28T09:03:47.820Z"
   },
   {
    "duration": 136,
    "start_time": "2023-03-28T09:06:18.201Z"
   },
   {
    "duration": 66,
    "start_time": "2023-03-28T09:06:23.451Z"
   },
   {
    "duration": 55,
    "start_time": "2023-03-28T09:06:39.102Z"
   },
   {
    "duration": 31,
    "start_time": "2023-03-28T09:08:10.629Z"
   },
   {
    "duration": 22,
    "start_time": "2023-03-28T09:08:18.794Z"
   },
   {
    "duration": 244,
    "start_time": "2023-03-28T09:09:23.630Z"
   },
   {
    "duration": 11,
    "start_time": "2023-03-28T09:09:54.295Z"
   },
   {
    "duration": 16,
    "start_time": "2023-03-28T09:09:57.416Z"
   },
   {
    "duration": 10,
    "start_time": "2023-03-28T09:10:06.129Z"
   },
   {
    "duration": 13,
    "start_time": "2023-03-28T09:10:13.282Z"
   },
   {
    "duration": 11,
    "start_time": "2023-03-28T09:11:15.905Z"
   },
   {
    "duration": 16,
    "start_time": "2023-03-28T09:12:43.385Z"
   },
   {
    "duration": 16,
    "start_time": "2023-03-28T09:12:53.288Z"
   },
   {
    "duration": 252,
    "start_time": "2023-03-28T09:13:31.897Z"
   },
   {
    "duration": 15,
    "start_time": "2023-03-28T09:15:23.949Z"
   },
   {
    "duration": 28,
    "start_time": "2023-03-28T09:15:56.329Z"
   },
   {
    "duration": 133,
    "start_time": "2023-03-28T09:16:41.289Z"
   },
   {
    "duration": 9,
    "start_time": "2023-03-28T09:16:51.790Z"
   },
   {
    "duration": 62,
    "start_time": "2023-03-28T09:17:21.786Z"
   },
   {
    "duration": 8,
    "start_time": "2023-03-28T09:17:28.243Z"
   },
   {
    "duration": 8,
    "start_time": "2023-03-28T09:17:48.523Z"
   },
   {
    "duration": 109,
    "start_time": "2023-03-28T09:17:54.874Z"
   },
   {
    "duration": 3,
    "start_time": "2023-03-28T09:17:59.999Z"
   },
   {
    "duration": 8,
    "start_time": "2023-03-28T09:18:11.727Z"
   },
   {
    "duration": 47,
    "start_time": "2023-03-28T09:18:41.399Z"
   },
   {
    "duration": 4,
    "start_time": "2023-03-28T09:18:42.817Z"
   },
   {
    "duration": 168,
    "start_time": "2023-03-28T09:18:55.929Z"
   },
   {
    "duration": 137,
    "start_time": "2023-03-28T09:19:20.589Z"
   },
   {
    "duration": 1035,
    "start_time": "2023-03-28T09:19:26.785Z"
   },
   {
    "duration": 1040,
    "start_time": "2023-03-28T09:19:41.259Z"
   },
   {
    "duration": 979,
    "start_time": "2023-03-28T09:19:46.299Z"
   },
   {
    "duration": 885,
    "start_time": "2023-03-28T09:19:57.442Z"
   },
   {
    "duration": 901,
    "start_time": "2023-03-28T09:20:14.619Z"
   },
   {
    "duration": 70,
    "start_time": "2023-03-28T09:20:17.826Z"
   },
   {
    "duration": 12,
    "start_time": "2023-03-28T09:20:27.622Z"
   },
   {
    "duration": 3,
    "start_time": "2023-03-28T09:21:50.606Z"
   },
   {
    "duration": 3,
    "start_time": "2023-03-28T09:22:18.812Z"
   },
   {
    "duration": 116,
    "start_time": "2023-03-28T09:22:58.422Z"
   },
   {
    "duration": 122,
    "start_time": "2023-03-28T09:23:15.604Z"
   },
   {
    "duration": 122,
    "start_time": "2023-03-28T09:23:47.884Z"
   },
   {
    "duration": 140,
    "start_time": "2023-03-28T09:23:54.986Z"
   },
   {
    "duration": 3,
    "start_time": "2023-03-28T09:24:31.646Z"
   },
   {
    "duration": 111,
    "start_time": "2023-03-28T09:24:32.336Z"
   },
   {
    "duration": 69,
    "start_time": "2023-03-28T09:26:21.815Z"
   },
   {
    "duration": 11,
    "start_time": "2023-03-28T09:26:22.401Z"
   },
   {
    "duration": 4,
    "start_time": "2023-03-28T09:26:23.890Z"
   },
   {
    "duration": 153,
    "start_time": "2023-03-28T09:26:24.095Z"
   },
   {
    "duration": 4,
    "start_time": "2023-03-28T09:26:49.805Z"
   },
   {
    "duration": 1241,
    "start_time": "2023-03-28T09:28:12.013Z"
   },
   {
    "duration": 1023,
    "start_time": "2023-03-28T09:28:13.256Z"
   },
   {
    "duration": 980,
    "start_time": "2023-03-28T09:28:14.282Z"
   },
   {
    "duration": 1159,
    "start_time": "2023-03-28T09:28:15.263Z"
   },
   {
    "duration": 54,
    "start_time": "2023-03-28T09:28:16.425Z"
   },
   {
    "duration": 16,
    "start_time": "2023-03-28T09:28:16.480Z"
   },
   {
    "duration": 27,
    "start_time": "2023-03-28T09:28:16.500Z"
   },
   {
    "duration": 112,
    "start_time": "2023-03-28T09:28:16.529Z"
   },
   {
    "duration": 34,
    "start_time": "2023-03-28T09:28:16.642Z"
   },
   {
    "duration": 34,
    "start_time": "2023-03-28T09:28:16.678Z"
   },
   {
    "duration": 33,
    "start_time": "2023-03-28T09:28:16.714Z"
   },
   {
    "duration": 47,
    "start_time": "2023-03-28T09:28:16.749Z"
   },
   {
    "duration": 110,
    "start_time": "2023-03-28T09:28:16.800Z"
   },
   {
    "duration": 326,
    "start_time": "2023-03-28T09:28:16.913Z"
   },
   {
    "duration": 69,
    "start_time": "2023-03-28T09:28:17.242Z"
   },
   {
    "duration": 106,
    "start_time": "2023-03-28T09:28:17.324Z"
   },
   {
    "duration": 6,
    "start_time": "2023-03-28T09:28:17.433Z"
   },
   {
    "duration": 87,
    "start_time": "2023-03-28T09:28:17.441Z"
   },
   {
    "duration": 76,
    "start_time": "2023-03-28T09:28:17.531Z"
   },
   {
    "duration": 294,
    "start_time": "2023-03-28T09:28:17.609Z"
   },
   {
    "duration": 19,
    "start_time": "2023-03-28T09:28:17.905Z"
   },
   {
    "duration": 81,
    "start_time": "2023-03-28T09:28:17.926Z"
   },
   {
    "duration": 234,
    "start_time": "2023-03-28T09:28:18.009Z"
   },
   {
    "duration": 255,
    "start_time": "2023-03-28T09:28:18.245Z"
   },
   {
    "duration": 303,
    "start_time": "2023-03-28T09:28:18.502Z"
   },
   {
    "duration": 12,
    "start_time": "2023-03-28T09:28:18.807Z"
   },
   {
    "duration": 80,
    "start_time": "2023-03-28T09:28:18.821Z"
   },
   {
    "duration": 240,
    "start_time": "2023-03-28T09:28:18.903Z"
   },
   {
    "duration": 298,
    "start_time": "2023-03-28T09:28:19.145Z"
   },
   {
    "duration": 52,
    "start_time": "2023-03-28T09:28:19.446Z"
   },
   {
    "duration": 109,
    "start_time": "2023-03-28T09:28:19.501Z"
   },
   {
    "duration": 9,
    "start_time": "2023-03-28T09:28:19.612Z"
   },
   {
    "duration": 64,
    "start_time": "2023-03-28T09:28:19.623Z"
   },
   {
    "duration": 825,
    "start_time": "2023-03-28T09:28:19.689Z"
   },
   {
    "duration": 85,
    "start_time": "2023-03-28T09:28:20.516Z"
   },
   {
    "duration": 16,
    "start_time": "2023-03-28T09:28:20.603Z"
   },
   {
    "duration": 12,
    "start_time": "2023-03-28T09:28:20.621Z"
   },
   {
    "duration": 188,
    "start_time": "2023-03-28T09:28:20.635Z"
   },
   {
    "duration": 4,
    "start_time": "2023-03-28T09:28:20.826Z"
   },
   {
    "duration": 10,
    "start_time": "2023-03-28T09:50:40.874Z"
   },
   {
    "duration": 12,
    "start_time": "2023-03-28T09:50:46.009Z"
   },
   {
    "duration": 1152,
    "start_time": "2023-03-28T09:51:23.678Z"
   },
   {
    "duration": 22,
    "start_time": "2023-03-28T09:57:32.776Z"
   },
   {
    "duration": 440,
    "start_time": "2023-03-28T09:59:03.734Z"
   },
   {
    "duration": 80,
    "start_time": "2023-03-28T09:59:09.278Z"
   },
   {
    "duration": 160,
    "start_time": "2023-03-28T10:01:39.477Z"
   },
   {
    "duration": 9,
    "start_time": "2023-03-28T10:01:55.077Z"
   },
   {
    "duration": 15,
    "start_time": "2023-03-28T10:01:57.091Z"
   },
   {
    "duration": 82,
    "start_time": "2023-03-28T10:02:02.064Z"
   },
   {
    "duration": 11,
    "start_time": "2023-03-28T10:02:03.196Z"
   },
   {
    "duration": 189,
    "start_time": "2023-03-28T10:02:04.040Z"
   },
   {
    "duration": 82,
    "start_time": "2023-03-28T10:02:13.149Z"
   },
   {
    "duration": 13,
    "start_time": "2023-03-28T10:02:16.063Z"
   },
   {
    "duration": 154,
    "start_time": "2023-03-28T10:02:17.641Z"
   },
   {
    "duration": 27,
    "start_time": "2023-03-28T10:02:27.876Z"
   },
   {
    "duration": 553,
    "start_time": "2023-03-28T10:02:52.795Z"
   },
   {
    "duration": 43,
    "start_time": "2023-03-28T10:02:55.511Z"
   },
   {
    "duration": 19424,
    "start_time": "2023-03-28T10:04:35.465Z"
   },
   {
    "duration": 11,
    "start_time": "2023-03-28T10:04:58.651Z"
   },
   {
    "duration": 5,
    "start_time": "2023-03-28T10:05:08.148Z"
   },
   {
    "duration": 19557,
    "start_time": "2023-03-28T10:05:34.889Z"
   },
   {
    "duration": 88,
    "start_time": "2023-03-28T10:05:54.448Z"
   },
   {
    "duration": 786,
    "start_time": "2023-03-28T10:05:57.704Z"
   },
   {
    "duration": 20149,
    "start_time": "2023-03-28T10:06:23.322Z"
   },
   {
    "duration": 148,
    "start_time": "2023-03-28T10:06:58.377Z"
   },
   {
    "duration": 85,
    "start_time": "2023-03-28T10:07:27.038Z"
   },
   {
    "duration": 151,
    "start_time": "2023-03-28T10:07:46.774Z"
   },
   {
    "duration": 78,
    "start_time": "2023-03-28T10:08:32.873Z"
   },
   {
    "duration": 21,
    "start_time": "2023-03-28T10:08:33.958Z"
   },
   {
    "duration": 11,
    "start_time": "2023-03-28T10:08:48.307Z"
   },
   {
    "duration": 77,
    "start_time": "2023-03-28T10:09:41.938Z"
   },
   {
    "duration": 140,
    "start_time": "2023-03-28T10:09:42.196Z"
   },
   {
    "duration": 564,
    "start_time": "2023-03-28T10:09:43.556Z"
   },
   {
    "duration": 17,
    "start_time": "2023-03-28T10:09:59.042Z"
   },
   {
    "duration": 94,
    "start_time": "2023-03-28T10:10:59.321Z"
   },
   {
    "duration": 85,
    "start_time": "2023-03-28T10:11:08.545Z"
   },
   {
    "duration": 154,
    "start_time": "2023-03-28T10:11:09.258Z"
   },
   {
    "duration": 19,
    "start_time": "2023-03-28T10:11:14.236Z"
   },
   {
    "duration": 78,
    "start_time": "2023-03-28T10:11:15.693Z"
   },
   {
    "duration": 155,
    "start_time": "2023-03-28T10:11:16.425Z"
   },
   {
    "duration": 80,
    "start_time": "2023-03-28T10:11:17.761Z"
   },
   {
    "duration": 179,
    "start_time": "2023-03-28T10:11:18.420Z"
   },
   {
    "duration": 7,
    "start_time": "2023-03-28T10:11:40.949Z"
   },
   {
    "duration": 76,
    "start_time": "2023-03-28T10:15:29.006Z"
   },
   {
    "duration": 79,
    "start_time": "2023-03-28T10:16:19.888Z"
   },
   {
    "duration": 660,
    "start_time": "2023-03-28T10:16:21.010Z"
   },
   {
    "duration": 20432,
    "start_time": "2023-03-28T10:16:24.890Z"
   },
   {
    "duration": 149,
    "start_time": "2023-03-28T10:16:45.324Z"
   },
   {
    "duration": 3,
    "start_time": "2023-03-28T10:18:19.148Z"
   },
   {
    "duration": 11,
    "start_time": "2023-03-28T10:22:54.369Z"
   },
   {
    "duration": 3,
    "start_time": "2023-03-28T10:24:32.127Z"
   },
   {
    "duration": 687,
    "start_time": "2023-03-28T10:25:16.294Z"
   },
   {
    "duration": 3,
    "start_time": "2023-03-28T10:25:57.449Z"
   },
   {
    "duration": 2198,
    "start_time": "2023-03-28T10:25:58.835Z"
   },
   {
    "duration": 10,
    "start_time": "2023-03-28T10:27:39.629Z"
   },
   {
    "duration": 3,
    "start_time": "2023-03-28T10:27:41.635Z"
   },
   {
    "duration": 1663,
    "start_time": "2023-03-28T10:27:42.105Z"
   },
   {
    "duration": 4,
    "start_time": "2023-03-28T10:27:44.731Z"
   },
   {
    "duration": 5,
    "start_time": "2023-03-28T10:27:48.172Z"
   },
   {
    "duration": 31,
    "start_time": "2023-03-28T10:29:59.756Z"
   },
   {
    "duration": 30,
    "start_time": "2023-03-28T10:30:11.341Z"
   },
   {
    "duration": 122,
    "start_time": "2023-03-28T10:31:56.012Z"
   },
   {
    "duration": 557,
    "start_time": "2023-03-28T10:32:29.036Z"
   },
   {
    "duration": 15827,
    "start_time": "2023-03-28T10:32:40.691Z"
   },
   {
    "duration": 154,
    "start_time": "2023-03-28T10:32:57.363Z"
   },
   {
    "duration": 4,
    "start_time": "2023-03-28T10:34:33.103Z"
   },
   {
    "duration": 4,
    "start_time": "2023-03-28T10:34:37.565Z"
   },
   {
    "duration": 3,
    "start_time": "2023-03-28T10:36:22.602Z"
   },
   {
    "duration": 1514,
    "start_time": "2023-03-28T10:39:23.778Z"
   },
   {
    "duration": 916,
    "start_time": "2023-03-28T10:39:25.294Z"
   },
   {
    "duration": 740,
    "start_time": "2023-03-28T10:39:26.212Z"
   },
   {
    "duration": 1026,
    "start_time": "2023-03-28T10:39:26.954Z"
   },
   {
    "duration": 45,
    "start_time": "2023-03-28T10:39:27.982Z"
   },
   {
    "duration": 14,
    "start_time": "2023-03-28T10:39:28.029Z"
   },
   {
    "duration": 40,
    "start_time": "2023-03-28T10:39:28.045Z"
   },
   {
    "duration": 106,
    "start_time": "2023-03-28T10:39:28.087Z"
   },
   {
    "duration": 22,
    "start_time": "2023-03-28T10:39:28.195Z"
   },
   {
    "duration": 19,
    "start_time": "2023-03-28T10:39:28.220Z"
   },
   {
    "duration": 32,
    "start_time": "2023-03-28T10:39:28.262Z"
   },
   {
    "duration": 24,
    "start_time": "2023-03-28T10:39:28.296Z"
   },
   {
    "duration": 98,
    "start_time": "2023-03-28T10:39:28.321Z"
   },
   {
    "duration": 315,
    "start_time": "2023-03-28T10:39:28.420Z"
   },
   {
    "duration": 63,
    "start_time": "2023-03-28T10:39:28.737Z"
   },
   {
    "duration": 77,
    "start_time": "2023-03-28T10:39:28.801Z"
   },
   {
    "duration": 5,
    "start_time": "2023-03-28T10:39:28.880Z"
   },
   {
    "duration": 58,
    "start_time": "2023-03-28T10:39:28.887Z"
   },
   {
    "duration": 55,
    "start_time": "2023-03-28T10:39:28.946Z"
   },
   {
    "duration": 194,
    "start_time": "2023-03-28T10:39:29.003Z"
   },
   {
    "duration": 18,
    "start_time": "2023-03-28T10:39:29.198Z"
   },
   {
    "duration": 68,
    "start_time": "2023-03-28T10:39:29.217Z"
   },
   {
    "duration": 240,
    "start_time": "2023-03-28T10:39:29.286Z"
   },
   {
    "duration": 214,
    "start_time": "2023-03-28T10:39:29.528Z"
   },
   {
    "duration": 257,
    "start_time": "2023-03-28T10:39:29.744Z"
   },
   {
    "duration": 12,
    "start_time": "2023-03-28T10:39:30.002Z"
   },
   {
    "duration": 72,
    "start_time": "2023-03-28T10:39:30.016Z"
   },
   {
    "duration": 297,
    "start_time": "2023-03-28T10:39:30.093Z"
   },
   {
    "duration": 273,
    "start_time": "2023-03-28T10:39:30.392Z"
   },
   {
    "duration": 27,
    "start_time": "2023-03-28T10:39:30.667Z"
   },
   {
    "duration": 120,
    "start_time": "2023-03-28T10:39:30.696Z"
   },
   {
    "duration": 8,
    "start_time": "2023-03-28T10:39:30.818Z"
   },
   {
    "duration": 69,
    "start_time": "2023-03-28T10:39:30.827Z"
   },
   {
    "duration": 736,
    "start_time": "2023-03-28T10:39:30.897Z"
   },
   {
    "duration": 63,
    "start_time": "2023-03-28T10:39:31.635Z"
   },
   {
    "duration": 11,
    "start_time": "2023-03-28T10:39:31.699Z"
   },
   {
    "duration": 48,
    "start_time": "2023-03-28T10:39:31.711Z"
   },
   {
    "duration": 122,
    "start_time": "2023-03-28T10:39:31.761Z"
   },
   {
    "duration": 4,
    "start_time": "2023-03-28T10:39:31.884Z"
   },
   {
    "duration": 163,
    "start_time": "2023-03-28T10:39:31.890Z"
   },
   {
    "duration": 581,
    "start_time": "2023-03-28T10:39:32.055Z"
   },
   {
    "duration": 15856,
    "start_time": "2023-03-28T10:39:32.637Z"
   },
   {
    "duration": 149,
    "start_time": "2023-03-28T10:39:48.494Z"
   },
   {
    "duration": 2,
    "start_time": "2023-03-28T10:39:48.645Z"
   },
   {
    "duration": 66,
    "start_time": "2023-03-28T10:39:48.649Z"
   },
   {
    "duration": 36849,
    "start_time": "2023-03-28T10:39:57.834Z"
   },
   {
    "duration": 725834,
    "start_time": "2023-03-28T10:41:32.614Z"
   },
   {
    "duration": 1517,
    "start_time": "2023-03-28T10:54:39.560Z"
   },
   {
    "duration": 943,
    "start_time": "2023-03-28T10:54:41.079Z"
   },
   {
    "duration": 810,
    "start_time": "2023-03-28T10:54:42.024Z"
   },
   {
    "duration": 1068,
    "start_time": "2023-03-28T10:54:42.836Z"
   },
   {
    "duration": 44,
    "start_time": "2023-03-28T10:54:43.907Z"
   },
   {
    "duration": 17,
    "start_time": "2023-03-28T10:54:43.962Z"
   },
   {
    "duration": 34,
    "start_time": "2023-03-28T10:54:43.981Z"
   },
   {
    "duration": 134,
    "start_time": "2023-03-28T10:54:44.018Z"
   },
   {
    "duration": 43,
    "start_time": "2023-03-28T10:54:44.155Z"
   },
   {
    "duration": 37,
    "start_time": "2023-03-28T10:54:44.200Z"
   },
   {
    "duration": 62,
    "start_time": "2023-03-28T10:54:44.239Z"
   },
   {
    "duration": 23,
    "start_time": "2023-03-28T10:54:44.303Z"
   },
   {
    "duration": 85,
    "start_time": "2023-03-28T10:54:44.327Z"
   },
   {
    "duration": 286,
    "start_time": "2023-03-28T10:54:44.415Z"
   },
   {
    "duration": 39,
    "start_time": "2023-03-28T10:54:44.703Z"
   },
   {
    "duration": 85,
    "start_time": "2023-03-28T10:54:44.743Z"
   },
   {
    "duration": 6,
    "start_time": "2023-03-28T10:54:44.830Z"
   },
   {
    "duration": 87,
    "start_time": "2023-03-28T10:54:44.838Z"
   },
   {
    "duration": 59,
    "start_time": "2023-03-28T10:54:44.927Z"
   },
   {
    "duration": 207,
    "start_time": "2023-03-28T10:54:44.988Z"
   },
   {
    "duration": 19,
    "start_time": "2023-03-28T10:54:45.197Z"
   },
   {
    "duration": 81,
    "start_time": "2023-03-28T10:54:45.218Z"
   },
   {
    "duration": 228,
    "start_time": "2023-03-28T10:54:45.301Z"
   },
   {
    "duration": 240,
    "start_time": "2023-03-28T10:54:45.530Z"
   },
   {
    "duration": 270,
    "start_time": "2023-03-28T10:54:45.772Z"
   },
   {
    "duration": 21,
    "start_time": "2023-03-28T10:54:46.043Z"
   },
   {
    "duration": 51,
    "start_time": "2023-03-28T10:54:46.066Z"
   },
   {
    "duration": 307,
    "start_time": "2023-03-28T10:54:46.119Z"
   },
   {
    "duration": 264,
    "start_time": "2023-03-28T10:54:46.428Z"
   },
   {
    "duration": 27,
    "start_time": "2023-03-28T10:54:46.695Z"
   },
   {
    "duration": 125,
    "start_time": "2023-03-28T10:54:46.724Z"
   },
   {
    "duration": 13,
    "start_time": "2023-03-28T10:54:46.851Z"
   },
   {
    "duration": 39,
    "start_time": "2023-03-28T10:54:46.865Z"
   },
   {
    "duration": 805,
    "start_time": "2023-03-28T10:54:46.906Z"
   },
   {
    "duration": 68,
    "start_time": "2023-03-28T10:54:47.713Z"
   },
   {
    "duration": 15,
    "start_time": "2023-03-28T10:54:47.783Z"
   },
   {
    "duration": 17,
    "start_time": "2023-03-28T10:54:47.800Z"
   },
   {
    "duration": 144,
    "start_time": "2023-03-28T10:54:47.819Z"
   },
   {
    "duration": 4,
    "start_time": "2023-03-28T10:54:47.965Z"
   },
   {
    "duration": 146,
    "start_time": "2023-03-28T10:54:47.972Z"
   },
   {
    "duration": 587,
    "start_time": "2023-03-28T10:54:48.123Z"
   },
   {
    "duration": 19287,
    "start_time": "2023-03-28T10:54:48.712Z"
   },
   {
    "duration": 156,
    "start_time": "2023-03-28T10:55:08.002Z"
   },
   {
    "duration": 3,
    "start_time": "2023-03-28T10:55:08.162Z"
   },
   {
    "duration": 52916,
    "start_time": "2023-03-28T10:55:08.167Z"
   },
   {
    "duration": 1553,
    "start_time": "2023-03-28T11:06:48.516Z"
   },
   {
    "duration": 1246,
    "start_time": "2023-03-28T11:06:50.071Z"
   },
   {
    "duration": 831,
    "start_time": "2023-03-28T11:06:51.319Z"
   },
   {
    "duration": 1128,
    "start_time": "2023-03-28T11:06:52.152Z"
   },
   {
    "duration": 44,
    "start_time": "2023-03-28T11:06:53.282Z"
   },
   {
    "duration": 14,
    "start_time": "2023-03-28T11:06:53.327Z"
   },
   {
    "duration": 46,
    "start_time": "2023-03-28T11:06:53.343Z"
   },
   {
    "duration": 106,
    "start_time": "2023-03-28T11:06:53.390Z"
   },
   {
    "duration": 22,
    "start_time": "2023-03-28T11:06:53.497Z"
   },
   {
    "duration": 20,
    "start_time": "2023-03-28T11:06:53.522Z"
   },
   {
    "duration": 57,
    "start_time": "2023-03-28T11:06:53.543Z"
   },
   {
    "duration": 22,
    "start_time": "2023-03-28T11:06:53.602Z"
   },
   {
    "duration": 105,
    "start_time": "2023-03-28T11:06:53.625Z"
   },
   {
    "duration": 308,
    "start_time": "2023-03-28T11:06:53.731Z"
   },
   {
    "duration": 54,
    "start_time": "2023-03-28T11:06:54.041Z"
   },
   {
    "duration": 107,
    "start_time": "2023-03-28T11:06:54.097Z"
   },
   {
    "duration": 7,
    "start_time": "2023-03-28T11:06:54.206Z"
   },
   {
    "duration": 91,
    "start_time": "2023-03-28T11:06:54.215Z"
   },
   {
    "duration": 68,
    "start_time": "2023-03-28T11:06:54.308Z"
   },
   {
    "duration": 209,
    "start_time": "2023-03-28T11:06:54.377Z"
   },
   {
    "duration": 18,
    "start_time": "2023-03-28T11:06:54.589Z"
   },
   {
    "duration": 81,
    "start_time": "2023-03-28T11:06:54.609Z"
   },
   {
    "duration": 249,
    "start_time": "2023-03-28T11:06:54.692Z"
   },
   {
    "duration": 278,
    "start_time": "2023-03-28T11:06:54.943Z"
   },
   {
    "duration": 358,
    "start_time": "2023-03-28T11:06:55.224Z"
   },
   {
    "duration": 12,
    "start_time": "2023-03-28T11:06:55.587Z"
   },
   {
    "duration": 66,
    "start_time": "2023-03-28T11:06:55.601Z"
   },
   {
    "duration": 365,
    "start_time": "2023-03-28T11:06:55.672Z"
   },
   {
    "duration": 275,
    "start_time": "2023-03-28T11:06:56.040Z"
   },
   {
    "duration": 57,
    "start_time": "2023-03-28T11:06:56.317Z"
   },
   {
    "duration": 110,
    "start_time": "2023-03-28T11:06:56.376Z"
   },
   {
    "duration": 9,
    "start_time": "2023-03-28T11:06:56.488Z"
   },
   {
    "duration": 39,
    "start_time": "2023-03-28T11:06:56.499Z"
   },
   {
    "duration": 943,
    "start_time": "2023-03-28T11:06:56.540Z"
   },
   {
    "duration": 64,
    "start_time": "2023-03-28T11:06:57.485Z"
   },
   {
    "duration": 30,
    "start_time": "2023-03-28T11:06:57.551Z"
   },
   {
    "duration": 6,
    "start_time": "2023-03-28T11:06:57.583Z"
   },
   {
    "duration": 149,
    "start_time": "2023-03-28T11:06:57.591Z"
   },
   {
    "duration": 4,
    "start_time": "2023-03-28T11:06:57.742Z"
   },
   {
    "duration": 164,
    "start_time": "2023-03-28T11:06:57.764Z"
   },
   {
    "duration": 624,
    "start_time": "2023-03-28T11:06:57.930Z"
   },
   {
    "duration": 17248,
    "start_time": "2023-03-28T11:06:58.556Z"
   },
   {
    "duration": 182,
    "start_time": "2023-03-28T11:07:15.806Z"
   },
   {
    "duration": 3,
    "start_time": "2023-03-28T11:07:15.990Z"
   },
   {
    "duration": 2827,
    "start_time": "2023-03-28T11:07:15.995Z"
   },
   {
    "duration": 0,
    "start_time": "2023-03-28T11:07:18.824Z"
   },
   {
    "duration": 50278,
    "start_time": "2023-03-28T11:07:32.506Z"
   },
   {
    "duration": 4,
    "start_time": "2023-03-28T11:08:48.491Z"
   },
   {
    "duration": 3596,
    "start_time": "2023-03-28T11:08:55.278Z"
   },
   {
    "duration": 218471,
    "start_time": "2023-03-28T11:09:07.623Z"
   },
   {
    "duration": 1501,
    "start_time": "2023-03-28T11:12:48.007Z"
   },
   {
    "duration": 970,
    "start_time": "2023-03-28T11:12:49.511Z"
   },
   {
    "duration": 868,
    "start_time": "2023-03-28T11:12:50.483Z"
   },
   {
    "duration": 1154,
    "start_time": "2023-03-28T11:12:51.353Z"
   },
   {
    "duration": 56,
    "start_time": "2023-03-28T11:12:52.509Z"
   },
   {
    "duration": 17,
    "start_time": "2023-03-28T11:12:52.572Z"
   },
   {
    "duration": 28,
    "start_time": "2023-03-28T11:12:52.590Z"
   },
   {
    "duration": 99,
    "start_time": "2023-03-28T11:12:52.620Z"
   },
   {
    "duration": 29,
    "start_time": "2023-03-28T11:12:52.721Z"
   },
   {
    "duration": 27,
    "start_time": "2023-03-28T11:12:52.761Z"
   },
   {
    "duration": 33,
    "start_time": "2023-03-28T11:12:52.790Z"
   },
   {
    "duration": 48,
    "start_time": "2023-03-28T11:12:52.824Z"
   },
   {
    "duration": 81,
    "start_time": "2023-03-28T11:12:52.874Z"
   },
   {
    "duration": 305,
    "start_time": "2023-03-28T11:12:52.957Z"
   },
   {
    "duration": 47,
    "start_time": "2023-03-28T11:12:53.264Z"
   },
   {
    "duration": 93,
    "start_time": "2023-03-28T11:12:53.313Z"
   },
   {
    "duration": 6,
    "start_time": "2023-03-28T11:12:53.408Z"
   },
   {
    "duration": 85,
    "start_time": "2023-03-28T11:12:53.416Z"
   },
   {
    "duration": 45,
    "start_time": "2023-03-28T11:12:53.503Z"
   },
   {
    "duration": 202,
    "start_time": "2023-03-28T11:12:53.549Z"
   },
   {
    "duration": 21,
    "start_time": "2023-03-28T11:12:53.762Z"
   },
   {
    "duration": 57,
    "start_time": "2023-03-28T11:12:53.785Z"
   },
   {
    "duration": 276,
    "start_time": "2023-03-28T11:12:53.844Z"
   },
   {
    "duration": 291,
    "start_time": "2023-03-28T11:12:54.122Z"
   },
   {
    "duration": 281,
    "start_time": "2023-03-28T11:12:54.414Z"
   },
   {
    "duration": 11,
    "start_time": "2023-03-28T11:12:54.698Z"
   },
   {
    "duration": 66,
    "start_time": "2023-03-28T11:12:54.711Z"
   },
   {
    "duration": 328,
    "start_time": "2023-03-28T11:12:54.782Z"
   },
   {
    "duration": 299,
    "start_time": "2023-03-28T11:12:55.112Z"
   },
   {
    "duration": 31,
    "start_time": "2023-03-28T11:12:55.414Z"
   },
   {
    "duration": 125,
    "start_time": "2023-03-28T11:12:55.461Z"
   },
   {
    "duration": 9,
    "start_time": "2023-03-28T11:12:55.588Z"
   },
   {
    "duration": 43,
    "start_time": "2023-03-28T11:12:55.599Z"
   },
   {
    "duration": 831,
    "start_time": "2023-03-28T11:12:55.643Z"
   },
   {
    "duration": 61,
    "start_time": "2023-03-28T11:12:56.478Z"
   },
   {
    "duration": 24,
    "start_time": "2023-03-28T11:12:56.541Z"
   },
   {
    "duration": 7,
    "start_time": "2023-03-28T11:12:56.570Z"
   },
   {
    "duration": 146,
    "start_time": "2023-03-28T11:12:56.579Z"
   },
   {
    "duration": 3,
    "start_time": "2023-03-28T11:12:56.727Z"
   },
   {
    "duration": 188,
    "start_time": "2023-03-28T11:12:56.732Z"
   },
   {
    "duration": 697,
    "start_time": "2023-03-28T11:12:56.922Z"
   },
   {
    "duration": 18538,
    "start_time": "2023-03-28T11:12:57.622Z"
   },
   {
    "duration": 183,
    "start_time": "2023-03-28T11:13:16.177Z"
   },
   {
    "duration": 13,
    "start_time": "2023-03-28T11:13:16.365Z"
   },
   {
    "duration": 55361,
    "start_time": "2023-03-28T11:13:16.384Z"
   },
   {
    "duration": 340647,
    "start_time": "2023-03-28T11:14:11.747Z"
   },
   {
    "duration": 122315,
    "start_time": "2023-03-28T11:39:44.653Z"
   },
   {
    "duration": 6685,
    "start_time": "2023-03-28T12:31:54.435Z"
   },
   {
    "duration": 19163,
    "start_time": "2023-03-28T12:32:28.149Z"
   },
   {
    "duration": 3,
    "start_time": "2023-03-28T12:33:10.047Z"
   },
   {
    "duration": 5,
    "start_time": "2023-03-28T12:33:53.290Z"
   },
   {
    "duration": 19282,
    "start_time": "2023-03-28T12:38:18.310Z"
   },
   {
    "duration": 3,
    "start_time": "2023-03-28T12:38:42.738Z"
   },
   {
    "duration": 6,
    "start_time": "2023-03-28T12:38:50.021Z"
   },
   {
    "duration": 18689,
    "start_time": "2023-03-28T12:38:57.079Z"
   },
   {
    "duration": 13,
    "start_time": "2023-03-28T12:39:15.770Z"
   },
   {
    "duration": 3,
    "start_time": "2023-03-28T12:39:53.284Z"
   },
   {
    "duration": 30128,
    "start_time": "2023-03-28T12:40:58.135Z"
   },
   {
    "duration": 6,
    "start_time": "2023-03-28T12:41:28.265Z"
   },
   {
    "duration": 52422,
    "start_time": "2023-03-28T12:41:43.249Z"
   },
   {
    "duration": 4,
    "start_time": "2023-03-28T12:42:35.673Z"
   },
   {
    "duration": 15730,
    "start_time": "2023-03-28T12:43:21.433Z"
   },
   {
    "duration": 6,
    "start_time": "2023-03-28T12:43:37.166Z"
   },
   {
    "duration": 50,
    "start_time": "2023-03-28T14:31:13.461Z"
   },
   {
    "duration": 5,
    "start_time": "2023-03-28T14:34:42.688Z"
   },
   {
    "duration": 64,
    "start_time": "2023-03-28T14:36:45.727Z"
   },
   {
    "duration": 29728,
    "start_time": "2023-03-28T14:38:06.442Z"
   },
   {
    "duration": 0,
    "start_time": "2023-03-28T14:38:36.174Z"
   },
   {
    "duration": 5,
    "start_time": "2023-03-28T14:39:34.445Z"
   },
   {
    "duration": 9,
    "start_time": "2023-03-28T14:39:41.581Z"
   },
   {
    "duration": 15,
    "start_time": "2023-03-28T14:39:48.959Z"
   },
   {
    "duration": 194,
    "start_time": "2023-03-28T14:40:06.395Z"
   },
   {
    "duration": 672,
    "start_time": "2023-03-28T14:40:07.385Z"
   },
   {
    "duration": 17601,
    "start_time": "2023-03-28T14:40:17.192Z"
   },
   {
    "duration": 155,
    "start_time": "2023-03-28T14:40:36.287Z"
   },
   {
    "duration": 4,
    "start_time": "2023-03-28T14:40:41.717Z"
   },
   {
    "duration": 5,
    "start_time": "2023-03-28T14:40:42.384Z"
   },
   {
    "duration": 5,
    "start_time": "2023-03-28T14:40:56.186Z"
   },
   {
    "duration": 6,
    "start_time": "2023-03-28T14:41:03.482Z"
   },
   {
    "duration": 8,
    "start_time": "2023-03-28T14:41:21.249Z"
   },
   {
    "duration": 528,
    "start_time": "2023-03-28T14:41:33.778Z"
   },
   {
    "duration": 14,
    "start_time": "2023-03-28T14:41:48.689Z"
   },
   {
    "duration": 13,
    "start_time": "2023-03-28T14:42:00.192Z"
   },
   {
    "duration": 238,
    "start_time": "2023-03-28T14:42:09.815Z"
   },
   {
    "duration": 15,
    "start_time": "2023-03-28T14:42:12.046Z"
   },
   {
    "duration": 17739,
    "start_time": "2023-03-28T14:42:30.429Z"
   },
   {
    "duration": 10,
    "start_time": "2023-03-28T14:42:57.088Z"
   },
   {
    "duration": 4,
    "start_time": "2023-03-28T14:44:06.916Z"
   },
   {
    "duration": 16,
    "start_time": "2023-03-28T14:44:15.086Z"
   },
   {
    "duration": 18,
    "start_time": "2023-03-28T14:44:24.995Z"
   },
   {
    "duration": 16,
    "start_time": "2023-03-28T14:44:28.173Z"
   },
   {
    "duration": 5,
    "start_time": "2023-03-28T14:44:29.355Z"
   },
   {
    "duration": 8,
    "start_time": "2023-03-28T14:46:32.466Z"
   },
   {
    "duration": 9962,
    "start_time": "2023-03-28T14:48:49.892Z"
   },
   {
    "duration": 23,
    "start_time": "2023-03-28T14:48:59.857Z"
   },
   {
    "duration": 909,
    "start_time": "2023-03-28T14:48:59.882Z"
   },
   {
    "duration": 866,
    "start_time": "2023-03-28T14:49:00.794Z"
   },
   {
    "duration": 1007,
    "start_time": "2023-03-28T14:49:01.666Z"
   },
   {
    "duration": 34,
    "start_time": "2023-03-28T14:49:02.678Z"
   },
   {
    "duration": 14,
    "start_time": "2023-03-28T14:49:02.714Z"
   },
   {
    "duration": 53,
    "start_time": "2023-03-28T14:49:02.730Z"
   },
   {
    "duration": 137,
    "start_time": "2023-03-28T14:49:02.785Z"
   },
   {
    "duration": 44,
    "start_time": "2023-03-28T14:49:02.924Z"
   },
   {
    "duration": 40,
    "start_time": "2023-03-28T14:49:02.976Z"
   },
   {
    "duration": 67,
    "start_time": "2023-03-28T14:49:03.018Z"
   },
   {
    "duration": 32,
    "start_time": "2023-03-28T14:49:03.087Z"
   },
   {
    "duration": 87,
    "start_time": "2023-03-28T14:49:03.121Z"
   },
   {
    "duration": 303,
    "start_time": "2023-03-28T14:49:03.211Z"
   },
   {
    "duration": 55,
    "start_time": "2023-03-28T14:49:03.516Z"
   },
   {
    "duration": 73,
    "start_time": "2023-03-28T14:49:03.576Z"
   },
   {
    "duration": 20,
    "start_time": "2023-03-28T14:49:03.651Z"
   },
   {
    "duration": 66,
    "start_time": "2023-03-28T14:49:03.672Z"
   },
   {
    "duration": 76,
    "start_time": "2023-03-28T14:49:03.741Z"
   },
   {
    "duration": 230,
    "start_time": "2023-03-28T14:49:03.819Z"
   },
   {
    "duration": 27,
    "start_time": "2023-03-28T14:49:04.064Z"
   },
   {
    "duration": 92,
    "start_time": "2023-03-28T14:49:04.093Z"
   },
   {
    "duration": 262,
    "start_time": "2023-03-28T14:49:04.188Z"
   },
   {
    "duration": 303,
    "start_time": "2023-03-28T14:49:04.465Z"
   },
   {
    "duration": 293,
    "start_time": "2023-03-28T14:49:04.774Z"
   },
   {
    "duration": 14,
    "start_time": "2023-03-28T14:49:05.070Z"
   },
   {
    "duration": 56,
    "start_time": "2023-03-28T14:49:05.086Z"
   },
   {
    "duration": 485,
    "start_time": "2023-03-28T14:49:05.145Z"
   },
   {
    "duration": 315,
    "start_time": "2023-03-28T14:49:05.633Z"
   },
   {
    "duration": 32,
    "start_time": "2023-03-28T14:49:05.961Z"
   },
   {
    "duration": 122,
    "start_time": "2023-03-28T14:49:05.995Z"
   },
   {
    "duration": 9,
    "start_time": "2023-03-28T14:49:06.119Z"
   },
   {
    "duration": 62,
    "start_time": "2023-03-28T14:49:06.129Z"
   },
   {
    "duration": 792,
    "start_time": "2023-03-28T14:49:06.193Z"
   },
   {
    "duration": 78,
    "start_time": "2023-03-28T14:49:07.796Z"
   },
   {
    "duration": 18,
    "start_time": "2023-03-28T14:49:08.003Z"
   },
   {
    "duration": 4,
    "start_time": "2023-03-28T14:50:52.653Z"
   },
   {
    "duration": 149,
    "start_time": "2023-03-28T14:50:52.827Z"
   },
   {
    "duration": 4,
    "start_time": "2023-03-28T14:50:53.606Z"
   },
   {
    "duration": 12,
    "start_time": "2023-03-28T14:51:42.102Z"
   },
   {
    "duration": 132,
    "start_time": "2023-03-28T14:51:46.225Z"
   },
   {
    "duration": 18,
    "start_time": "2023-03-28T14:51:48.662Z"
   },
   {
    "duration": 11,
    "start_time": "2023-03-28T14:51:53.325Z"
   },
   {
    "duration": 11,
    "start_time": "2023-03-28T14:55:30.742Z"
   },
   {
    "duration": 14,
    "start_time": "2023-03-28T14:55:39.577Z"
   },
   {
    "duration": 10,
    "start_time": "2023-03-28T14:55:59.053Z"
   },
   {
    "duration": 30,
    "start_time": "2023-03-28T14:56:44.126Z"
   },
   {
    "duration": 2584,
    "start_time": "2023-03-28T14:57:20.078Z"
   },
   {
    "duration": 1420,
    "start_time": "2023-03-28T14:57:22.665Z"
   },
   {
    "duration": 1052,
    "start_time": "2023-03-28T14:57:24.088Z"
   },
   {
    "duration": 986,
    "start_time": "2023-03-28T14:57:25.143Z"
   },
   {
    "duration": 1260,
    "start_time": "2023-03-28T14:57:26.131Z"
   },
   {
    "duration": 44,
    "start_time": "2023-03-28T14:57:27.392Z"
   },
   {
    "duration": 24,
    "start_time": "2023-03-28T14:57:27.438Z"
   },
   {
    "duration": 32,
    "start_time": "2023-03-28T14:57:27.464Z"
   },
   {
    "duration": 120,
    "start_time": "2023-03-28T14:57:27.501Z"
   },
   {
    "duration": 41,
    "start_time": "2023-03-28T14:57:27.624Z"
   },
   {
    "duration": 21,
    "start_time": "2023-03-28T14:57:27.668Z"
   },
   {
    "duration": 34,
    "start_time": "2023-03-28T14:57:27.691Z"
   },
   {
    "duration": 60,
    "start_time": "2023-03-28T14:57:27.727Z"
   },
   {
    "duration": 133,
    "start_time": "2023-03-28T14:57:27.789Z"
   },
   {
    "duration": 372,
    "start_time": "2023-03-28T14:57:27.925Z"
   },
   {
    "duration": 40,
    "start_time": "2023-03-28T14:57:28.298Z"
   },
   {
    "duration": 98,
    "start_time": "2023-03-28T14:57:28.340Z"
   },
   {
    "duration": 23,
    "start_time": "2023-03-28T14:57:28.440Z"
   },
   {
    "duration": 71,
    "start_time": "2023-03-28T14:57:28.465Z"
   },
   {
    "duration": 61,
    "start_time": "2023-03-28T14:57:28.538Z"
   },
   {
    "duration": 207,
    "start_time": "2023-03-28T14:57:28.601Z"
   },
   {
    "duration": 18,
    "start_time": "2023-03-28T14:57:28.810Z"
   },
   {
    "duration": 78,
    "start_time": "2023-03-28T14:57:28.831Z"
   },
   {
    "duration": 231,
    "start_time": "2023-03-28T14:57:28.911Z"
   },
   {
    "duration": 239,
    "start_time": "2023-03-28T14:57:29.143Z"
   },
   {
    "duration": 292,
    "start_time": "2023-03-28T14:57:29.385Z"
   },
   {
    "duration": 11,
    "start_time": "2023-03-28T14:57:29.679Z"
   },
   {
    "duration": 70,
    "start_time": "2023-03-28T14:57:29.693Z"
   },
   {
    "duration": 254,
    "start_time": "2023-03-28T14:57:29.765Z"
   },
   {
    "duration": 293,
    "start_time": "2023-03-28T14:57:30.020Z"
   },
   {
    "duration": 50,
    "start_time": "2023-03-28T14:57:30.315Z"
   },
   {
    "duration": 137,
    "start_time": "2023-03-28T14:57:30.366Z"
   },
   {
    "duration": 10,
    "start_time": "2023-03-28T14:57:30.505Z"
   },
   {
    "duration": 76,
    "start_time": "2023-03-28T14:57:30.517Z"
   },
   {
    "duration": 989,
    "start_time": "2023-03-28T14:57:30.595Z"
   },
   {
    "duration": 78,
    "start_time": "2023-03-28T14:57:31.586Z"
   },
   {
    "duration": 14,
    "start_time": "2023-03-28T14:57:31.666Z"
   },
   {
    "duration": 25,
    "start_time": "2023-03-28T14:57:31.682Z"
   },
   {
    "duration": 187,
    "start_time": "2023-03-28T14:57:31.709Z"
   },
   {
    "duration": 4,
    "start_time": "2023-03-28T14:57:31.898Z"
   },
   {
    "duration": 229,
    "start_time": "2023-03-28T14:57:31.904Z"
   },
   {
    "duration": 21,
    "start_time": "2023-03-28T14:57:36.289Z"
   },
   {
    "duration": 22,
    "start_time": "2023-03-28T14:57:36.708Z"
   },
   {
    "duration": 8,
    "start_time": "2023-03-28T14:57:38.165Z"
   },
   {
    "duration": 48693,
    "start_time": "2023-03-28T14:57:39.377Z"
   },
   {
    "duration": 31,
    "start_time": "2023-03-28T14:58:28.271Z"
   },
   {
    "duration": 5695,
    "start_time": "2023-03-28T14:59:00.291Z"
   },
   {
    "duration": 142,
    "start_time": "2023-03-28T14:59:50.103Z"
   },
   {
    "duration": 14,
    "start_time": "2023-03-28T14:59:50.930Z"
   },
   {
    "duration": 14,
    "start_time": "2023-03-28T14:59:51.204Z"
   },
   {
    "duration": 11,
    "start_time": "2023-03-28T14:59:51.439Z"
   },
   {
    "duration": 49690,
    "start_time": "2023-03-28T14:59:53.803Z"
   },
   {
    "duration": 31,
    "start_time": "2023-03-28T15:00:43.495Z"
   },
   {
    "duration": 183,
    "start_time": "2023-03-28T15:00:43.528Z"
   },
   {
    "duration": 49,
    "start_time": "2023-03-28T15:00:43.714Z"
   },
   {
    "duration": 162,
    "start_time": "2023-03-28T15:01:09.390Z"
   },
   {
    "duration": 4,
    "start_time": "2023-03-28T15:01:10.609Z"
   },
   {
    "duration": 31,
    "start_time": "2023-03-28T15:01:16.296Z"
   },
   {
    "duration": 26,
    "start_time": "2023-03-28T15:02:25.414Z"
   },
   {
    "duration": 8,
    "start_time": "2023-03-28T15:02:32.526Z"
   },
   {
    "duration": 13,
    "start_time": "2023-03-28T15:02:32.860Z"
   },
   {
    "duration": 17,
    "start_time": "2023-03-28T15:02:33.190Z"
   },
   {
    "duration": 140,
    "start_time": "2023-03-28T15:02:34.908Z"
   },
   {
    "duration": 11,
    "start_time": "2023-03-28T15:02:35.762Z"
   },
   {
    "duration": 12,
    "start_time": "2023-03-28T15:02:37.077Z"
   },
   {
    "duration": 9,
    "start_time": "2023-03-28T15:02:37.751Z"
   },
   {
    "duration": 2418,
    "start_time": "2023-03-28T15:03:07.553Z"
   },
   {
    "duration": 1682,
    "start_time": "2023-03-28T15:03:09.974Z"
   },
   {
    "duration": 1212,
    "start_time": "2023-03-28T15:03:11.658Z"
   },
   {
    "duration": 790,
    "start_time": "2023-03-28T15:03:12.871Z"
   },
   {
    "duration": 1142,
    "start_time": "2023-03-28T15:03:13.664Z"
   },
   {
    "duration": 58,
    "start_time": "2023-03-28T15:03:14.808Z"
   },
   {
    "duration": 15,
    "start_time": "2023-03-28T15:03:14.868Z"
   },
   {
    "duration": 28,
    "start_time": "2023-03-28T15:03:14.885Z"
   },
   {
    "duration": 119,
    "start_time": "2023-03-28T15:03:14.915Z"
   },
   {
    "duration": 39,
    "start_time": "2023-03-28T15:03:15.036Z"
   },
   {
    "duration": 26,
    "start_time": "2023-03-28T15:03:15.078Z"
   },
   {
    "duration": 57,
    "start_time": "2023-03-28T15:03:15.106Z"
   },
   {
    "duration": 23,
    "start_time": "2023-03-28T15:03:15.166Z"
   },
   {
    "duration": 93,
    "start_time": "2023-03-28T15:03:15.193Z"
   },
   {
    "duration": 303,
    "start_time": "2023-03-28T15:03:15.288Z"
   },
   {
    "duration": 43,
    "start_time": "2023-03-28T15:03:15.594Z"
   },
   {
    "duration": 98,
    "start_time": "2023-03-28T15:03:15.639Z"
   },
   {
    "duration": 8,
    "start_time": "2023-03-28T15:03:15.739Z"
   },
   {
    "duration": 65,
    "start_time": "2023-03-28T15:03:15.762Z"
   },
   {
    "duration": 77,
    "start_time": "2023-03-28T15:03:15.829Z"
   },
   {
    "duration": 202,
    "start_time": "2023-03-28T15:03:15.908Z"
   },
   {
    "duration": 19,
    "start_time": "2023-03-28T15:03:16.112Z"
   },
   {
    "duration": 82,
    "start_time": "2023-03-28T15:03:16.133Z"
   },
   {
    "duration": 244,
    "start_time": "2023-03-28T15:03:16.217Z"
   },
   {
    "duration": 218,
    "start_time": "2023-03-28T15:03:16.463Z"
   },
   {
    "duration": 288,
    "start_time": "2023-03-28T15:03:16.683Z"
   },
   {
    "duration": 14,
    "start_time": "2023-03-28T15:03:16.973Z"
   },
   {
    "duration": 53,
    "start_time": "2023-03-28T15:03:16.989Z"
   },
   {
    "duration": 275,
    "start_time": "2023-03-28T15:03:17.063Z"
   },
   {
    "duration": 323,
    "start_time": "2023-03-28T15:03:17.340Z"
   },
   {
    "duration": 30,
    "start_time": "2023-03-28T15:03:17.664Z"
   },
   {
    "duration": 136,
    "start_time": "2023-03-28T15:03:17.696Z"
   },
   {
    "duration": 8,
    "start_time": "2023-03-28T15:03:17.834Z"
   },
   {
    "duration": 53,
    "start_time": "2023-03-28T15:03:17.844Z"
   },
   {
    "duration": 860,
    "start_time": "2023-03-28T15:03:17.899Z"
   },
   {
    "duration": 79,
    "start_time": "2023-03-28T15:03:18.762Z"
   },
   {
    "duration": 32,
    "start_time": "2023-03-28T15:03:18.844Z"
   },
   {
    "duration": 4,
    "start_time": "2023-03-28T15:03:18.878Z"
   },
   {
    "duration": 159,
    "start_time": "2023-03-28T15:03:18.884Z"
   },
   {
    "duration": 4,
    "start_time": "2023-03-28T15:03:19.063Z"
   },
   {
    "duration": 155,
    "start_time": "2023-03-28T15:03:19.073Z"
   },
   {
    "duration": 16,
    "start_time": "2023-03-28T15:03:19.229Z"
   },
   {
    "duration": 24,
    "start_time": "2023-03-28T15:03:19.246Z"
   },
   {
    "duration": 13,
    "start_time": "2023-03-28T15:03:19.272Z"
   },
   {
    "duration": 2363,
    "start_time": "2023-03-28T15:03:50.649Z"
   },
   {
    "duration": 1311,
    "start_time": "2023-03-28T15:03:53.014Z"
   },
   {
    "duration": 1034,
    "start_time": "2023-03-28T15:03:54.327Z"
   },
   {
    "duration": 888,
    "start_time": "2023-03-28T15:03:55.365Z"
   },
   {
    "duration": 1158,
    "start_time": "2023-03-28T15:03:56.256Z"
   },
   {
    "duration": 57,
    "start_time": "2023-03-28T15:03:57.416Z"
   },
   {
    "duration": 15,
    "start_time": "2023-03-28T15:03:57.475Z"
   },
   {
    "duration": 28,
    "start_time": "2023-03-28T15:03:57.492Z"
   },
   {
    "duration": 122,
    "start_time": "2023-03-28T15:03:57.522Z"
   },
   {
    "duration": 37,
    "start_time": "2023-03-28T15:03:57.647Z"
   },
   {
    "duration": 33,
    "start_time": "2023-03-28T15:03:57.686Z"
   },
   {
    "duration": 60,
    "start_time": "2023-03-28T15:03:57.721Z"
   },
   {
    "duration": 30,
    "start_time": "2023-03-28T15:03:57.783Z"
   },
   {
    "duration": 88,
    "start_time": "2023-03-28T15:03:57.815Z"
   },
   {
    "duration": 309,
    "start_time": "2023-03-28T15:03:57.905Z"
   },
   {
    "duration": 47,
    "start_time": "2023-03-28T15:03:58.216Z"
   },
   {
    "duration": 77,
    "start_time": "2023-03-28T15:03:58.265Z"
   },
   {
    "duration": 22,
    "start_time": "2023-03-28T15:03:58.344Z"
   },
   {
    "duration": 74,
    "start_time": "2023-03-28T15:03:58.368Z"
   },
   {
    "duration": 57,
    "start_time": "2023-03-28T15:03:58.444Z"
   },
   {
    "duration": 276,
    "start_time": "2023-03-28T15:03:58.503Z"
   },
   {
    "duration": 22,
    "start_time": "2023-03-28T15:03:58.784Z"
   },
   {
    "duration": 82,
    "start_time": "2023-03-28T15:03:58.808Z"
   },
   {
    "duration": 240,
    "start_time": "2023-03-28T15:03:58.892Z"
   },
   {
    "duration": 251,
    "start_time": "2023-03-28T15:03:59.134Z"
   },
   {
    "duration": 292,
    "start_time": "2023-03-28T15:03:59.388Z"
   },
   {
    "duration": 12,
    "start_time": "2023-03-28T15:03:59.683Z"
   },
   {
    "duration": 72,
    "start_time": "2023-03-28T15:03:59.699Z"
   },
   {
    "duration": 235,
    "start_time": "2023-03-28T15:03:59.773Z"
   },
   {
    "duration": 285,
    "start_time": "2023-03-28T15:04:00.010Z"
   },
   {
    "duration": 28,
    "start_time": "2023-03-28T15:04:00.297Z"
   },
   {
    "duration": 209,
    "start_time": "2023-03-28T15:04:00.327Z"
   },
   {
    "duration": 10,
    "start_time": "2023-03-28T15:04:00.537Z"
   },
   {
    "duration": 90,
    "start_time": "2023-03-28T15:04:00.549Z"
   },
   {
    "duration": 896,
    "start_time": "2023-03-28T15:04:00.641Z"
   },
   {
    "duration": 104,
    "start_time": "2023-03-28T15:04:01.539Z"
   },
   {
    "duration": 24,
    "start_time": "2023-03-28T15:04:01.646Z"
   },
   {
    "duration": 20,
    "start_time": "2023-03-28T15:04:01.672Z"
   },
   {
    "duration": 170,
    "start_time": "2023-03-28T15:04:01.694Z"
   },
   {
    "duration": 4,
    "start_time": "2023-03-28T15:04:01.867Z"
   },
   {
    "duration": 163,
    "start_time": "2023-03-28T15:04:01.873Z"
   },
   {
    "duration": 30,
    "start_time": "2023-03-28T15:04:02.038Z"
   },
   {
    "duration": 34,
    "start_time": "2023-03-28T15:04:02.070Z"
   },
   {
    "duration": 58,
    "start_time": "2023-03-28T15:04:02.106Z"
   },
   {
    "duration": 100237,
    "start_time": "2023-03-28T15:04:02.166Z"
   },
   {
    "duration": 129,
    "start_time": "2023-03-28T15:05:42.405Z"
   },
   {
    "duration": 0,
    "start_time": "2023-03-28T15:05:42.536Z"
   },
   {
    "duration": 0,
    "start_time": "2023-03-28T15:05:42.538Z"
   },
   {
    "duration": 0,
    "start_time": "2023-03-28T15:05:42.540Z"
   },
   {
    "duration": 0,
    "start_time": "2023-03-28T15:05:42.542Z"
   },
   {
    "duration": 0,
    "start_time": "2023-03-28T15:05:42.543Z"
   },
   {
    "duration": 0,
    "start_time": "2023-03-28T15:05:42.563Z"
   },
   {
    "duration": 0,
    "start_time": "2023-03-28T15:05:42.564Z"
   },
   {
    "duration": 0,
    "start_time": "2023-03-28T15:05:42.566Z"
   },
   {
    "duration": 0,
    "start_time": "2023-03-28T15:05:42.568Z"
   },
   {
    "duration": 0,
    "start_time": "2023-03-28T15:05:42.569Z"
   },
   {
    "duration": 0,
    "start_time": "2023-03-28T15:05:42.570Z"
   },
   {
    "duration": 0,
    "start_time": "2023-03-28T15:05:42.571Z"
   },
   {
    "duration": 0,
    "start_time": "2023-03-28T15:05:42.572Z"
   },
   {
    "duration": 40,
    "start_time": "2023-03-28T15:05:46.322Z"
   },
   {
    "duration": 236,
    "start_time": "2023-03-28T15:05:57.351Z"
   },
   {
    "duration": 30,
    "start_time": "2023-03-28T15:05:58.241Z"
   },
   {
    "duration": 170,
    "start_time": "2023-03-28T15:06:03.020Z"
   },
   {
    "duration": 56,
    "start_time": "2023-03-28T15:06:20.066Z"
   },
   {
    "duration": 5,
    "start_time": "2023-03-28T15:06:21.666Z"
   },
   {
    "duration": 5,
    "start_time": "2023-03-28T15:06:22.615Z"
   },
   {
    "duration": 25983,
    "start_time": "2023-03-28T15:06:35.202Z"
   },
   {
    "duration": 0,
    "start_time": "2023-03-28T15:07:01.263Z"
   },
   {
    "duration": 26614,
    "start_time": "2023-03-28T15:07:35.853Z"
   },
   {
    "duration": 0,
    "start_time": "2023-03-28T15:08:02.469Z"
   },
   {
    "duration": 0,
    "start_time": "2023-03-28T15:08:02.471Z"
   },
   {
    "duration": 0,
    "start_time": "2023-03-28T15:08:02.472Z"
   },
   {
    "duration": 0,
    "start_time": "2023-03-28T15:08:02.473Z"
   },
   {
    "duration": 0,
    "start_time": "2023-03-28T15:08:02.475Z"
   },
   {
    "duration": 4,
    "start_time": "2023-03-28T15:10:26.991Z"
   },
   {
    "duration": 39878,
    "start_time": "2023-03-28T15:10:29.095Z"
   },
   {
    "duration": 88,
    "start_time": "2023-03-28T15:11:08.976Z"
   },
   {
    "duration": 20286,
    "start_time": "2023-03-28T15:11:09.066Z"
   },
   {
    "duration": 11,
    "start_time": "2023-03-28T15:11:29.355Z"
   },
   {
    "duration": 816100,
    "start_time": "2023-03-28T15:11:29.368Z"
   },
   {
    "duration": 5,
    "start_time": "2023-03-28T15:25:05.470Z"
   },
   {
    "duration": 275334,
    "start_time": "2023-03-28T15:26:28.531Z"
   },
   {
    "duration": 2404,
    "start_time": "2023-03-28T15:37:06.246Z"
   },
   {
    "duration": 1330,
    "start_time": "2023-03-28T15:37:08.653Z"
   },
   {
    "duration": 980,
    "start_time": "2023-03-28T15:37:09.985Z"
   },
   {
    "duration": 828,
    "start_time": "2023-03-28T15:37:10.968Z"
   },
   {
    "duration": 1069,
    "start_time": "2023-03-28T15:37:11.798Z"
   },
   {
    "duration": 41,
    "start_time": "2023-03-28T15:37:12.869Z"
   },
   {
    "duration": 15,
    "start_time": "2023-03-28T15:37:12.912Z"
   },
   {
    "duration": 59,
    "start_time": "2023-03-28T15:37:12.930Z"
   },
   {
    "duration": 96,
    "start_time": "2023-03-28T15:37:12.991Z"
   },
   {
    "duration": 23,
    "start_time": "2023-03-28T15:37:13.089Z"
   },
   {
    "duration": 20,
    "start_time": "2023-03-28T15:37:13.115Z"
   },
   {
    "duration": 50,
    "start_time": "2023-03-28T15:37:13.138Z"
   },
   {
    "duration": 26,
    "start_time": "2023-03-28T15:37:13.190Z"
   },
   {
    "duration": 87,
    "start_time": "2023-03-28T15:37:13.219Z"
   },
   {
    "duration": 275,
    "start_time": "2023-03-28T15:37:13.308Z"
   },
   {
    "duration": 39,
    "start_time": "2023-03-28T15:37:13.585Z"
   },
   {
    "duration": 78,
    "start_time": "2023-03-28T15:37:13.625Z"
   },
   {
    "duration": 6,
    "start_time": "2023-03-28T15:37:13.705Z"
   },
   {
    "duration": 83,
    "start_time": "2023-03-28T15:37:13.713Z"
   },
   {
    "duration": 43,
    "start_time": "2023-03-28T15:37:13.798Z"
   },
   {
    "duration": 240,
    "start_time": "2023-03-28T15:37:13.843Z"
   },
   {
    "duration": 25,
    "start_time": "2023-03-28T15:37:14.086Z"
   },
   {
    "duration": 89,
    "start_time": "2023-03-28T15:37:14.113Z"
   },
   {
    "duration": 225,
    "start_time": "2023-03-28T15:37:14.204Z"
   },
   {
    "duration": 221,
    "start_time": "2023-03-28T15:37:14.431Z"
   },
   {
    "duration": 263,
    "start_time": "2023-03-28T15:37:14.653Z"
   },
   {
    "duration": 11,
    "start_time": "2023-03-28T15:37:14.918Z"
   },
   {
    "duration": 73,
    "start_time": "2023-03-28T15:37:14.933Z"
   },
   {
    "duration": 222,
    "start_time": "2023-03-28T15:37:15.008Z"
   },
   {
    "duration": 264,
    "start_time": "2023-03-28T15:37:15.232Z"
   },
   {
    "duration": 27,
    "start_time": "2023-03-28T15:37:15.498Z"
   },
   {
    "duration": 121,
    "start_time": "2023-03-28T15:37:15.527Z"
   },
   {
    "duration": 14,
    "start_time": "2023-03-28T15:37:15.651Z"
   },
   {
    "duration": 42,
    "start_time": "2023-03-28T15:37:15.667Z"
   },
   {
    "duration": 833,
    "start_time": "2023-03-28T15:37:15.711Z"
   },
   {
    "duration": 67,
    "start_time": "2023-03-28T15:37:16.546Z"
   },
   {
    "duration": 12,
    "start_time": "2023-03-28T15:37:16.615Z"
   },
   {
    "duration": 7,
    "start_time": "2023-03-28T15:37:16.629Z"
   },
   {
    "duration": 128,
    "start_time": "2023-03-28T15:37:16.638Z"
   },
   {
    "duration": 4,
    "start_time": "2023-03-28T15:37:16.769Z"
   },
   {
    "duration": 150,
    "start_time": "2023-03-28T15:37:16.775Z"
   },
   {
    "duration": 15,
    "start_time": "2023-03-28T15:37:16.927Z"
   },
   {
    "duration": 24,
    "start_time": "2023-03-28T15:37:16.943Z"
   },
   {
    "duration": 8,
    "start_time": "2023-03-28T15:37:16.969Z"
   },
   {
    "duration": 101250,
    "start_time": "2023-03-28T15:37:16.978Z"
   },
   {
    "duration": 166,
    "start_time": "2023-03-28T15:38:58.230Z"
   },
   {
    "duration": 26,
    "start_time": "2023-03-28T15:38:58.397Z"
   },
   {
    "duration": 178,
    "start_time": "2023-03-28T15:38:58.425Z"
   },
   {
    "duration": 3,
    "start_time": "2023-03-28T15:38:58.605Z"
   },
   {
    "duration": 26061,
    "start_time": "2023-03-28T15:38:58.610Z"
   },
   {
    "duration": 8,
    "start_time": "2023-03-28T15:39:24.762Z"
   },
   {
    "duration": 20002,
    "start_time": "2023-03-28T15:39:24.772Z"
   },
   {
    "duration": 5,
    "start_time": "2023-03-28T15:39:44.776Z"
   },
   {
    "duration": 732286,
    "start_time": "2023-03-28T15:39:44.783Z"
   },
   {
    "duration": 6,
    "start_time": "2023-03-28T15:51:57.071Z"
   },
   {
    "duration": 6291,
    "start_time": "2023-03-30T05:57:01.072Z"
   },
   {
    "duration": 1469,
    "start_time": "2023-03-30T05:57:07.365Z"
   },
   {
    "duration": 1041,
    "start_time": "2023-03-30T05:57:08.836Z"
   },
   {
    "duration": 653,
    "start_time": "2023-03-30T05:57:10.983Z"
   },
   {
    "duration": 596,
    "start_time": "2023-03-30T05:57:18.108Z"
   },
   {
    "duration": 875,
    "start_time": "2023-03-30T05:57:19.475Z"
   },
   {
    "duration": 26,
    "start_time": "2023-03-30T05:57:20.365Z"
   },
   {
    "duration": 13,
    "start_time": "2023-03-30T05:57:20.807Z"
   },
   {
    "duration": 23,
    "start_time": "2023-03-30T05:57:21.260Z"
   },
   {
    "duration": 64,
    "start_time": "2023-03-30T05:57:23.224Z"
   },
   {
    "duration": 17,
    "start_time": "2023-03-30T05:57:25.517Z"
   },
   {
    "duration": 15,
    "start_time": "2023-03-30T05:57:25.890Z"
   },
   {
    "duration": 27,
    "start_time": "2023-03-30T05:57:27.108Z"
   },
   {
    "duration": 19,
    "start_time": "2023-03-30T05:57:28.575Z"
   },
   {
    "duration": 62,
    "start_time": "2023-03-30T05:58:34.523Z"
   },
   {
    "duration": 237,
    "start_time": "2023-03-30T05:58:37.983Z"
   },
   {
    "duration": 38,
    "start_time": "2023-03-30T05:58:39.822Z"
   },
   {
    "duration": 76,
    "start_time": "2023-03-30T05:58:40.739Z"
   },
   {
    "duration": 7,
    "start_time": "2023-03-30T05:58:42.419Z"
   },
   {
    "duration": 62,
    "start_time": "2023-03-30T05:58:45.548Z"
   },
   {
    "duration": 38,
    "start_time": "2023-03-30T05:59:25.375Z"
   },
   {
    "duration": 161,
    "start_time": "2023-03-30T05:59:30.930Z"
   },
   {
    "duration": 1767,
    "start_time": "2023-03-30T06:00:12.647Z"
   },
   {
    "duration": 1122,
    "start_time": "2023-03-30T06:00:14.416Z"
   },
   {
    "duration": 730,
    "start_time": "2023-03-30T06:00:15.540Z"
   },
   {
    "duration": 659,
    "start_time": "2023-03-30T06:00:16.272Z"
   },
   {
    "duration": 940,
    "start_time": "2023-03-30T06:00:16.933Z"
   },
   {
    "duration": 25,
    "start_time": "2023-03-30T06:00:17.875Z"
   },
   {
    "duration": 11,
    "start_time": "2023-03-30T06:00:17.902Z"
   },
   {
    "duration": 23,
    "start_time": "2023-03-30T06:00:17.915Z"
   },
   {
    "duration": 92,
    "start_time": "2023-03-30T06:00:17.939Z"
   },
   {
    "duration": 18,
    "start_time": "2023-03-30T06:00:18.033Z"
   },
   {
    "duration": 30,
    "start_time": "2023-03-30T06:00:18.053Z"
   },
   {
    "duration": 29,
    "start_time": "2023-03-30T06:00:18.327Z"
   },
   {
    "duration": 19,
    "start_time": "2023-03-30T06:00:18.715Z"
   },
   {
    "duration": 69,
    "start_time": "2023-03-30T06:00:19.852Z"
   },
   {
    "duration": 238,
    "start_time": "2023-03-30T06:00:20.820Z"
   },
   {
    "duration": 29,
    "start_time": "2023-03-30T06:00:23.486Z"
   },
   {
    "duration": 51,
    "start_time": "2023-03-30T06:00:24.073Z"
   },
   {
    "duration": 5,
    "start_time": "2023-03-30T06:00:25.649Z"
   },
   {
    "duration": 50,
    "start_time": "2023-03-30T06:00:27.689Z"
   },
   {
    "duration": 206,
    "start_time": "2023-03-30T06:00:29.670Z"
   },
   {
    "duration": 16,
    "start_time": "2023-03-30T06:00:30.621Z"
   },
   {
    "duration": 49,
    "start_time": "2023-03-30T06:00:46.504Z"
   },
   {
    "duration": 516,
    "start_time": "2023-03-30T06:02:36.798Z"
   },
   {
    "duration": 49,
    "start_time": "2023-03-30T06:03:14.484Z"
   },
   {
    "duration": 182,
    "start_time": "2023-03-30T06:03:18.157Z"
   },
   {
    "duration": 195,
    "start_time": "2023-03-30T06:04:06.314Z"
   },
   {
    "duration": 233,
    "start_time": "2023-03-30T06:04:07.742Z"
   },
   {
    "duration": 9,
    "start_time": "2023-03-30T06:04:07.977Z"
   },
   {
    "duration": 44,
    "start_time": "2023-03-30T06:04:08.354Z"
   },
   {
    "duration": 187,
    "start_time": "2023-03-30T06:04:08.730Z"
   },
   {
    "duration": 262,
    "start_time": "2023-03-30T06:04:09.073Z"
   },
   {
    "duration": 24,
    "start_time": "2023-03-30T06:04:10.511Z"
   },
   {
    "duration": 81,
    "start_time": "2023-03-30T06:04:11.663Z"
   },
   {
    "duration": 7,
    "start_time": "2023-03-30T06:04:12.029Z"
   },
   {
    "duration": 32,
    "start_time": "2023-03-30T06:04:13.833Z"
   },
   {
    "duration": 704,
    "start_time": "2023-03-30T06:04:15.464Z"
   },
   {
    "duration": 51,
    "start_time": "2023-03-30T06:04:18.283Z"
   },
   {
    "duration": 10,
    "start_time": "2023-03-30T06:04:18.812Z"
   },
   {
    "duration": 3,
    "start_time": "2023-03-30T06:04:21.794Z"
   },
   {
    "duration": 80,
    "start_time": "2023-03-30T06:04:22.668Z"
   },
   {
    "duration": 97,
    "start_time": "2023-03-30T06:04:25.272Z"
   },
   {
    "duration": 2,
    "start_time": "2023-03-30T06:04:30.832Z"
   },
   {
    "duration": 109,
    "start_time": "2023-03-30T06:05:30.798Z"
   },
   {
    "duration": 9,
    "start_time": "2023-03-30T06:05:33.527Z"
   },
   {
    "duration": 12,
    "start_time": "2023-03-30T06:05:33.720Z"
   },
   {
    "duration": 7,
    "start_time": "2023-03-30T06:05:34.232Z"
   },
   {
    "duration": 74180,
    "start_time": "2023-03-30T06:05:37.649Z"
   },
   {
    "duration": 129,
    "start_time": "2023-03-30T06:06:51.831Z"
   },
   {
    "duration": 30,
    "start_time": "2023-03-30T06:06:51.961Z"
   },
   {
    "duration": 133,
    "start_time": "2023-03-30T06:06:51.993Z"
   },
   {
    "duration": 3,
    "start_time": "2023-03-30T06:06:52.128Z"
   },
   {
    "duration": 20643,
    "start_time": "2023-03-30T06:06:52.133Z"
   },
   {
    "duration": 91,
    "start_time": "2023-03-30T06:07:12.778Z"
   },
   {
    "duration": 15810,
    "start_time": "2023-03-30T06:07:45.757Z"
   },
   {
    "duration": 5,
    "start_time": "2023-03-30T06:08:19.576Z"
   },
   {
    "duration": 292853,
    "start_time": "2023-03-30T06:08:39.131Z"
   },
   {
    "duration": 4,
    "start_time": "2023-03-30T06:13:31.986Z"
   },
   {
    "duration": 110,
    "start_time": "2023-03-30T06:16:20.241Z"
   },
   {
    "duration": 38,
    "start_time": "2023-03-30T06:16:26.207Z"
   },
   {
    "duration": 23748,
    "start_time": "2023-03-30T06:17:39.216Z"
   },
   {
    "duration": 5,
    "start_time": "2023-03-30T06:18:02.967Z"
   },
   {
    "duration": 14,
    "start_time": "2023-03-30T06:18:10.520Z"
   },
   {
    "duration": 15403,
    "start_time": "2023-03-30T06:19:12.215Z"
   },
   {
    "duration": 7,
    "start_time": "2023-03-30T06:19:27.619Z"
   },
   {
    "duration": 86555,
    "start_time": "2023-03-30T06:19:27.628Z"
   },
   {
    "duration": 5,
    "start_time": "2023-03-30T06:20:54.184Z"
   },
   {
    "duration": 6910,
    "start_time": "2023-03-30T06:21:35.976Z"
   },
   {
    "duration": 242759,
    "start_time": "2023-03-30T06:21:49.210Z"
   },
   {
    "duration": 4,
    "start_time": "2023-03-30T06:25:51.971Z"
   },
   {
    "duration": 10,
    "start_time": "2023-03-30T06:25:51.979Z"
   },
   {
    "duration": 12,
    "start_time": "2023-03-30T06:26:11.886Z"
   },
   {
    "duration": 26227,
    "start_time": "2023-03-30T06:32:54.479Z"
   },
   {
    "duration": 95,
    "start_time": "2023-03-30T06:33:20.776Z"
   },
   {
    "duration": 16927,
    "start_time": "2023-03-30T06:33:20.873Z"
   },
   {
    "duration": 5,
    "start_time": "2023-03-30T06:33:37.802Z"
   },
   {
    "duration": 180061,
    "start_time": "2023-03-30T06:33:37.809Z"
   },
   {
    "duration": 5,
    "start_time": "2023-03-30T06:36:37.872Z"
   },
   {
    "duration": 18,
    "start_time": "2023-03-30T06:36:37.879Z"
   },
   {
    "duration": 9,
    "start_time": "2023-03-30T06:36:37.899Z"
   },
   {
    "duration": 97,
    "start_time": "2023-03-30T06:37:34.544Z"
   },
   {
    "duration": 3,
    "start_time": "2023-03-30T06:39:27.709Z"
   },
   {
    "duration": 4,
    "start_time": "2023-03-30T06:39:44.692Z"
   }
  ],
  "kernelspec": {
   "display_name": "Python 3 (ipykernel)",
   "language": "python",
   "name": "python3"
  },
  "language_info": {
   "codemirror_mode": {
    "name": "ipython",
    "version": 3
   },
   "file_extension": ".py",
   "mimetype": "text/x-python",
   "name": "python",
   "nbconvert_exporter": "python",
   "pygments_lexer": "ipython3",
   "version": "3.9.5"
  },
  "toc": {
   "base_numbering": 1,
   "nav_menu": {},
   "number_sections": true,
   "sideBar": true,
   "skip_h1_title": true,
   "title_cell": "Содержание",
   "title_sidebar": "Содержание",
   "toc_cell": true,
   "toc_position": {
    "height": "calc(100% - 180px)",
    "left": "10px",
    "top": "150px",
    "width": "165px"
   },
   "toc_section_display": true,
   "toc_window_display": true
  }
 },
 "nbformat": 4,
 "nbformat_minor": 4
}
