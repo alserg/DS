{
 "cells": [
  {
   "cell_type": "markdown",
   "metadata": {
    "toc": true
   },
   "source": [
    "<h1>Содержание проекта<span class=\"tocSkip\"></span></h1>\n",
    "\n",
    "1  Цели и задачи проекта\n",
    "\n",
    "2  Загрузка и обработка данных\n",
    "\n",
    "    2.1  Загрузка, изучение\n",
    "    2.2  Общая обработка\n",
    "\n",
    "3  Обучение и проверка модели\n",
    "\n",
    "    3.1  Подготовка к обучению\n",
    "        3.1.1  Исследование признаков и класса\n",
    "        3.1.2  Подготовка датасетов\n",
    "\n",
    "3.2  Обучение моделей\n",
    "\n",
    "4  Подготовка к расчёту прибыли\n",
    "\n",
    "5  Расчёт прибыли и рисков\n",
    "\n",
    "6  Общий вывод"
   ]
  },
  {
   "cell_type": "markdown",
   "metadata": {},
   "source": [
    "# Выбор локации для скважины"
   ]
  },
  {
   "cell_type": "markdown",
   "metadata": {},
   "source": [
    "## Цели и задачи проекта"
   ]
  },
  {
   "cell_type": "markdown",
   "metadata": {},
   "source": [
    "**Описание:** Вы работаете в добывающей компании «ГлавРосГосНефть». Нужно решить, где бурить новую скважину.<br/>Вам предоставлены пробы нефти в трёх регионах: в каждом 10 000 месторождений, где измерили качество нефти и объём её запасов. \n",
    "\n",
    "**Задачи:**\n",
    "- Постройте модель машинного обучения, которая поможет определить регион, где добыча принесёт наибольшую прибыль.\n",
    "- Проанализируйте возможную прибыль и риски техникой *Bootstrap.*\n",
    "- После оценки рисков нужно оставить лишь те регионы, в которых вероятность убытков меньше 2.5%. Среди них выбирают регион с наибольшей средней прибылью.\n",
    "\n",
    "Шаги для выбора локации:\n",
    "- В избранном регионе ищут месторождения, для каждого определяют значения признаков;\n",
    "- Строят модель и оценивают объём запасов;\n",
    "- Выбирают месторождения с самым высокими оценками значений. Количество месторождений зависит от бюджета компании и стоимости разработки одной скважины;\n",
    "- Прибыль равна суммарной прибыли отобранных месторождений.\n",
    "\n",
    "\n",
    "**План выполнения работ:**\n",
    "- Загрузить, изучить и обработать данные;\n",
    "- Обучить и проверить модель для каждого региона;\n",
    "- Подготовить данные для расчётов прибыли;\n",
    "- Посчитать риски и прибыль для каждого региона;\n",
    "- Сделать общий вывод."
   ]
  },
  {
   "cell_type": "code",
   "execution_count": 1,
   "metadata": {},
   "outputs": [],
   "source": [
    "# импорты и настройки\n",
    "\n",
    "import numpy as np\n",
    "\n",
    "import pandas as pd\n",
    "pd.set_option('display.max_columns', None)\n",
    "pd.set_option('display.float_format', str)\n",
    "pd.set_option('max_colwidth', None)\n",
    "\n",
    "import matplotlib.pyplot as plt \n",
    "import seaborn as sb\n",
    "\n",
    "from sklearn.model_selection import train_test_split\n",
    "\n",
    "from sklearn.linear_model import LinearRegression\n",
    "from sklearn.metrics import mean_squared_error, mean_absolute_error\n",
    "\n",
    "# для оценки времени\n",
    "from tqdm.auto import tqdm\n",
    "\n",
    "# остальное\n",
    "import warnings\n",
    "warnings.filterwarnings('ignore')\n",
    "randomstate = 3103"
   ]
  },
  {
   "cell_type": "markdown",
   "metadata": {},
   "source": [
    "## Загрузка и обработка данных"
   ]
  },
  {
   "cell_type": "markdown",
   "metadata": {},
   "source": [
    "### Загрузка, изучение"
   ]
  },
  {
   "cell_type": "markdown",
   "metadata": {},
   "source": [
    "**Загрузим данные и посмотрим с чем имеем дело**"
   ]
  },
  {
   "cell_type": "code",
   "execution_count": 2,
   "metadata": {},
   "outputs": [
    {
     "name": "stdout",
     "output_type": "stream",
     "text": [
      "\n",
      "------------------------------\n",
      "\n",
      "/datasets/geo_data_0.csv\n",
      "\n",
      "<class 'pandas.core.frame.DataFrame'>\n",
      "RangeIndex: 100000 entries, 0 to 99999\n",
      "Data columns (total 5 columns):\n",
      " #   Column   Non-Null Count   Dtype  \n",
      "---  ------   --------------   -----  \n",
      " 0   id       100000 non-null  object \n",
      " 1   f0       100000 non-null  float64\n",
      " 2   f1       100000 non-null  float64\n",
      " 3   f2       100000 non-null  float64\n",
      " 4   product  100000 non-null  float64\n",
      "dtypes: float64(4), object(1)\n",
      "memory usage: 3.8+ MB\n"
     ]
    },
    {
     "data": {
      "text/plain": [
       "None"
      ]
     },
     "metadata": {},
     "output_type": "display_data"
    },
    {
     "data": {
      "text/html": [
       "<div>\n",
       "<style scoped>\n",
       "    .dataframe tbody tr th:only-of-type {\n",
       "        vertical-align: middle;\n",
       "    }\n",
       "\n",
       "    .dataframe tbody tr th {\n",
       "        vertical-align: top;\n",
       "    }\n",
       "\n",
       "    .dataframe thead th {\n",
       "        text-align: right;\n",
       "    }\n",
       "</style>\n",
       "<table border=\"1\" class=\"dataframe\">\n",
       "  <thead>\n",
       "    <tr style=\"text-align: right;\">\n",
       "      <th></th>\n",
       "      <th>id</th>\n",
       "      <th>f0</th>\n",
       "      <th>f1</th>\n",
       "      <th>f2</th>\n",
       "      <th>product</th>\n",
       "    </tr>\n",
       "  </thead>\n",
       "  <tbody>\n",
       "    <tr>\n",
       "      <th>0</th>\n",
       "      <td>txEyH</td>\n",
       "      <td>0.7057449842080644</td>\n",
       "      <td>-0.4978225001976334</td>\n",
       "      <td>1.22116994843607</td>\n",
       "      <td>105.28006184349584</td>\n",
       "    </tr>\n",
       "    <tr>\n",
       "      <th>1</th>\n",
       "      <td>2acmU</td>\n",
       "      <td>1.3347112926051892</td>\n",
       "      <td>-0.3401642528583136</td>\n",
       "      <td>4.3650803324282</td>\n",
       "      <td>73.03775026515737</td>\n",
       "    </tr>\n",
       "    <tr>\n",
       "      <th>2</th>\n",
       "      <td>409Wp</td>\n",
       "      <td>1.0227322634721168</td>\n",
       "      <td>0.1519904445702294</td>\n",
       "      <td>1.4199262386740652</td>\n",
       "      <td>85.26564713099945</td>\n",
       "    </tr>\n",
       "    <tr>\n",
       "      <th>3</th>\n",
       "      <td>iJLyR</td>\n",
       "      <td>-0.0321716245074397</td>\n",
       "      <td>0.1390327081844774</td>\n",
       "      <td>2.978565966320484</td>\n",
       "      <td>168.62077555509563</td>\n",
       "    </tr>\n",
       "    <tr>\n",
       "      <th>4</th>\n",
       "      <td>Xdl7t</td>\n",
       "      <td>1.988431059439699</td>\n",
       "      <td>0.1554126777766717</td>\n",
       "      <td>4.751769119262962</td>\n",
       "      <td>154.03664673738086</td>\n",
       "    </tr>\n",
       "  </tbody>\n",
       "</table>\n",
       "</div>"
      ],
      "text/plain": [
       "      id                  f0                  f1                 f2  \\\n",
       "0  txEyH  0.7057449842080644 -0.4978225001976334   1.22116994843607   \n",
       "1  2acmU  1.3347112926051892 -0.3401642528583136    4.3650803324282   \n",
       "2  409Wp  1.0227322634721168  0.1519904445702294 1.4199262386740652   \n",
       "3  iJLyR -0.0321716245074397  0.1390327081844774  2.978565966320484   \n",
       "4  Xdl7t   1.988431059439699  0.1554126777766717  4.751769119262962   \n",
       "\n",
       "             product  \n",
       "0 105.28006184349584  \n",
       "1  73.03775026515737  \n",
       "2  85.26564713099945  \n",
       "3 168.62077555509563  \n",
       "4 154.03664673738086  "
      ]
     },
     "metadata": {},
     "output_type": "display_data"
    },
    {
     "name": "stdout",
     "output_type": "stream",
     "text": [
      "Распределение числовых столбцов датасета /datasets/geo_data_0.csv в виде гистрограмм\n"
     ]
    },
    {
     "data": {
      "image/png": "[encoded data removed]",
      "text/plain": [
       "<Figure size 864x864 with 4 Axes>"
      ]
     },
     "metadata": {
      "needs_background": "light"
     },
     "output_type": "display_data"
    },
    {
     "name": "stdout",
     "output_type": "stream",
     "text": [
      "\n",
      "------------------------------\n",
      "\n",
      "/datasets/geo_data_1.csv\n",
      "\n",
      "<class 'pandas.core.frame.DataFrame'>\n",
      "RangeIndex: 100000 entries, 0 to 99999\n",
      "Data columns (total 5 columns):\n",
      " #   Column   Non-Null Count   Dtype  \n",
      "---  ------   --------------   -----  \n",
      " 0   id       100000 non-null  object \n",
      " 1   f0       100000 non-null  float64\n",
      " 2   f1       100000 non-null  float64\n",
      " 3   f2       100000 non-null  float64\n",
      " 4   product  100000 non-null  float64\n",
      "dtypes: float64(4), object(1)\n",
      "memory usage: 3.8+ MB\n"
     ]
    },
    {
     "data": {
      "text/plain": [
       "None"
      ]
     },
     "metadata": {},
     "output_type": "display_data"
    },
    {
     "data": {
      "text/html": [
       "<div>\n",
       "<style scoped>\n",
       "    .dataframe tbody tr th:only-of-type {\n",
       "        vertical-align: middle;\n",
       "    }\n",
       "\n",
       "    .dataframe tbody tr th {\n",
       "        vertical-align: top;\n",
       "    }\n",
       "\n",
       "    .dataframe thead th {\n",
       "        text-align: right;\n",
       "    }\n",
       "</style>\n",
       "<table border=\"1\" class=\"dataframe\">\n",
       "  <thead>\n",
       "    <tr style=\"text-align: right;\">\n",
       "      <th></th>\n",
       "      <th>id</th>\n",
       "      <th>f0</th>\n",
       "      <th>f1</th>\n",
       "      <th>f2</th>\n",
       "      <th>product</th>\n",
       "    </tr>\n",
       "  </thead>\n",
       "  <tbody>\n",
       "    <tr>\n",
       "      <th>0</th>\n",
       "      <td>kBEdx</td>\n",
       "      <td>-15.00134818249185</td>\n",
       "      <td>-8.275999947188001</td>\n",
       "      <td>-0.0058760136933206</td>\n",
       "      <td>3.179102583207246</td>\n",
       "    </tr>\n",
       "    <tr>\n",
       "      <th>1</th>\n",
       "      <td>62mP7</td>\n",
       "      <td>14.272087811011149</td>\n",
       "      <td>-3.47508321506002</td>\n",
       "      <td>0.9991827365665829</td>\n",
       "      <td>26.95326103153969</td>\n",
       "    </tr>\n",
       "    <tr>\n",
       "      <th>2</th>\n",
       "      <td>vyE1P</td>\n",
       "      <td>6.263187352448809</td>\n",
       "      <td>-5.948385788285711</td>\n",
       "      <td>5.001160160764809</td>\n",
       "      <td>134.76630515769844</td>\n",
       "    </tr>\n",
       "    <tr>\n",
       "      <th>3</th>\n",
       "      <td>KcrkZ</td>\n",
       "      <td>-13.081196289023516</td>\n",
       "      <td>-11.506056864519604</td>\n",
       "      <td>4.999414898074921</td>\n",
       "      <td>137.94540774090564</td>\n",
       "    </tr>\n",
       "    <tr>\n",
       "      <th>4</th>\n",
       "      <td>AHL4O</td>\n",
       "      <td>12.702194885533585</td>\n",
       "      <td>-8.147433374146587</td>\n",
       "      <td>5.00436255224226</td>\n",
       "      <td>134.76630515769844</td>\n",
       "    </tr>\n",
       "  </tbody>\n",
       "</table>\n",
       "</div>"
      ],
      "text/plain": [
       "      id                  f0                  f1                  f2  \\\n",
       "0  kBEdx  -15.00134818249185  -8.275999947188001 -0.0058760136933206   \n",
       "1  62mP7  14.272087811011149   -3.47508321506002  0.9991827365665829   \n",
       "2  vyE1P   6.263187352448809  -5.948385788285711   5.001160160764809   \n",
       "3  KcrkZ -13.081196289023516 -11.506056864519604   4.999414898074921   \n",
       "4  AHL4O  12.702194885533585  -8.147433374146587    5.00436255224226   \n",
       "\n",
       "             product  \n",
       "0  3.179102583207246  \n",
       "1  26.95326103153969  \n",
       "2 134.76630515769844  \n",
       "3 137.94540774090564  \n",
       "4 134.76630515769844  "
      ]
     },
     "metadata": {},
     "output_type": "display_data"
    },
    {
     "name": "stdout",
     "output_type": "stream",
     "text": [
      "Распределение числовых столбцов датасета /datasets/geo_data_1.csv в виде гистрограмм\n"
     ]
    },
    {
     "data": {
      "image/png": "[encoded data removed]",
      "text/plain": [
       "<Figure size 864x864 with 4 Axes>"
      ]
     },
     "metadata": {
      "needs_background": "light"
     },
     "output_type": "display_data"
    },
    {
     "name": "stdout",
     "output_type": "stream",
     "text": [
      "\n",
      "------------------------------\n",
      "\n",
      "/datasets/geo_data_2.csv\n",
      "\n",
      "<class 'pandas.core.frame.DataFrame'>\n",
      "RangeIndex: 100000 entries, 0 to 99999\n",
      "Data columns (total 5 columns):\n",
      " #   Column   Non-Null Count   Dtype  \n",
      "---  ------   --------------   -----  \n",
      " 0   id       100000 non-null  object \n",
      " 1   f0       100000 non-null  float64\n",
      " 2   f1       100000 non-null  float64\n",
      " 3   f2       100000 non-null  float64\n",
      " 4   product  100000 non-null  float64\n",
      "dtypes: float64(4), object(1)\n",
      "memory usage: 3.8+ MB\n"
     ]
    },
    {
     "data": {
      "text/plain": [
       "None"
      ]
     },
     "metadata": {},
     "output_type": "display_data"
    },
    {
     "data": {
      "text/html": [
       "<div>\n",
       "<style scoped>\n",
       "    .dataframe tbody tr th:only-of-type {\n",
       "        vertical-align: middle;\n",
       "    }\n",
       "\n",
       "    .dataframe tbody tr th {\n",
       "        vertical-align: top;\n",
       "    }\n",
       "\n",
       "    .dataframe thead th {\n",
       "        text-align: right;\n",
       "    }\n",
       "</style>\n",
       "<table border=\"1\" class=\"dataframe\">\n",
       "  <thead>\n",
       "    <tr style=\"text-align: right;\">\n",
       "      <th></th>\n",
       "      <th>id</th>\n",
       "      <th>f0</th>\n",
       "      <th>f1</th>\n",
       "      <th>f2</th>\n",
       "      <th>product</th>\n",
       "    </tr>\n",
       "  </thead>\n",
       "  <tbody>\n",
       "    <tr>\n",
       "      <th>0</th>\n",
       "      <td>fwXo0</td>\n",
       "      <td>-1.1469870984179529</td>\n",
       "      <td>0.9633279217162892</td>\n",
       "      <td>-0.8289649221710994</td>\n",
       "      <td>27.75867323073004</td>\n",
       "    </tr>\n",
       "    <tr>\n",
       "      <th>1</th>\n",
       "      <td>WJtFt</td>\n",
       "      <td>0.2627779016539684</td>\n",
       "      <td>0.2698389572803021</td>\n",
       "      <td>-2.530186515492004</td>\n",
       "      <td>56.06969663239464</td>\n",
       "    </tr>\n",
       "    <tr>\n",
       "      <th>2</th>\n",
       "      <td>ovLUW</td>\n",
       "      <td>0.1945872816586574</td>\n",
       "      <td>0.2890350017576741</td>\n",
       "      <td>-5.586432770903118</td>\n",
       "      <td>62.87191004763475</td>\n",
       "    </tr>\n",
       "    <tr>\n",
       "      <th>3</th>\n",
       "      <td>q6cA6</td>\n",
       "      <td>2.2360596126935817</td>\n",
       "      <td>-0.5537598999099264</td>\n",
       "      <td>0.930037615920042</td>\n",
       "      <td>114.57284166750858</td>\n",
       "    </tr>\n",
       "    <tr>\n",
       "      <th>4</th>\n",
       "      <td>WPMUX</td>\n",
       "      <td>-0.5159928644136754</td>\n",
       "      <td>1.7162655596688288</td>\n",
       "      <td>5.899011469346728</td>\n",
       "      <td>149.60074591275887</td>\n",
       "    </tr>\n",
       "  </tbody>\n",
       "</table>\n",
       "</div>"
      ],
      "text/plain": [
       "      id                  f0                  f1                  f2  \\\n",
       "0  fwXo0 -1.1469870984179529  0.9633279217162892 -0.8289649221710994   \n",
       "1  WJtFt  0.2627779016539684  0.2698389572803021  -2.530186515492004   \n",
       "2  ovLUW  0.1945872816586574  0.2890350017576741  -5.586432770903118   \n",
       "3  q6cA6  2.2360596126935817 -0.5537598999099264   0.930037615920042   \n",
       "4  WPMUX -0.5159928644136754  1.7162655596688288   5.899011469346728   \n",
       "\n",
       "             product  \n",
       "0  27.75867323073004  \n",
       "1  56.06969663239464  \n",
       "2  62.87191004763475  \n",
       "3 114.57284166750858  \n",
       "4 149.60074591275887  "
      ]
     },
     "metadata": {},
     "output_type": "display_data"
    },
    {
     "name": "stdout",
     "output_type": "stream",
     "text": [
      "Распределение числовых столбцов датасета /datasets/geo_data_2.csv в виде гистрограмм\n"
     ]
    },
    {
     "data": {
      "image/png": "[encoded data removed]",
      "text/plain": [
       "<Figure size 864x864 with 4 Axes>"
      ]
     },
     "metadata": {
      "needs_background": "light"
     },
     "output_type": "display_data"
    }
   ],
   "source": [
    "# датасеты\n",
    "data = []\n",
    "for i in range(3):\n",
    "    dsname = f'/datasets/geo_data_{i}.csv'\n",
    "    data.append(pd.read_csv(dsname))\n",
    "    print();print('-'*30);print();print(dsname);print()\n",
    "    display(data[i].info());\n",
    "    display(data[i].head());\n",
    "    print(f'Распределение числовых столбцов датасета {dsname} в виде гистрограмм')\n",
    "    data[i].hist(figsize=(12, 12), color = \"#8c75b6\");plt.show();"
   ]
  },
  {
   "cell_type": "markdown",
   "metadata": {},
   "source": [
    "Выше мы видим общую информацию о трех датасетах, выделим следующее:\n",
    "\n",
    "**Признаки:**\n",
    "- `id` — уникальный идентификатор скважины;\n",
    "- `f0`, `f1`, `f2` — три признака точек (неизвестно что это, но они важны по условию задачи);\n",
    "\n",
    "**Целевой признак (класс):**\n",
    "- `product` — объём запасов в скважине (тыс. баррелей)."
   ]
  },
  {
   "cell_type": "markdown",
   "metadata": {},
   "source": [
    "Отметим, что во всех датасетах нет отсутствующих данных.\n",
    "\n",
    "Все признаки у нас числовые.\n",
    "\n",
    "В признаках значения распределены нормально, судя по графикам, в классе тоже,<br/>однако обратим внимание на то что в geo_data_1.csv есть судя по всему выбросы на минимальных и максимальных значениях."
   ]
  },
  {
   "cell_type": "markdown",
   "metadata": {},
   "source": [
    "### Общая обработка"
   ]
  },
  {
   "cell_type": "markdown",
   "metadata": {},
   "source": [
    "**Избавимся от лишнего, проверим дубликаты и т.д.**"
   ]
  },
  {
   "cell_type": "markdown",
   "metadata": {},
   "source": [
    "**Посмотрим на дубликаты:**"
   ]
  },
  {
   "cell_type": "code",
   "execution_count": 3,
   "metadata": {
    "scrolled": true
   },
   "outputs": [
    {
     "name": "stdout",
     "output_type": "stream",
     "text": [
      "\n",
      "Датасет geo_data_0\n",
      "Количество явных дубликатов: 0\n",
      "\n",
      "\n",
      "Датасет geo_data_1\n",
      "Количество явных дубликатов: 0\n",
      "\n",
      "\n",
      "Датасет geo_data_2\n",
      "Количество явных дубликатов: 0\n",
      "\n"
     ]
    }
   ],
   "source": [
    "for i in range(len(data)):\n",
    "    print(f'\\nДатасет geo_data_{i}\\nКоличество явных дубликатов: {sum(data[i].duplicated())}\\n')"
   ]
  },
  {
   "cell_type": "markdown",
   "metadata": {},
   "source": [
    "Как мы знаем,\n",
    "- `id` — уникальный идентификатор скважины;\n",
    "\n",
    "Проверим на всякий случай."
   ]
  },
  {
   "cell_type": "code",
   "execution_count": 4,
   "metadata": {},
   "outputs": [
    {
     "name": "stdout",
     "output_type": "stream",
     "text": [
      "\n",
      "Уник.id: 99990 из 100000\n",
      "\n",
      "Уник.id: 99996 из 100000\n",
      "\n",
      "Уник.id: 99996 из 100000\n"
     ]
    }
   ],
   "source": [
    "for i in range(len(data)):\n",
    "    print();print('Уник.id:',len(data[i]['id'].unique()),'из',len(data[i]))"
   ]
  },
  {
   "cell_type": "markdown",
   "metadata": {},
   "source": [
    "Довольно интересная ситуация заключается в том, что id это идентификатор скважины.\n",
    "\n",
    "По идее он должен быть уникален, но мы видим, что возможно есть повторы. Посмотрим.\n"
   ]
  },
  {
   "cell_type": "code",
   "execution_count": 5,
   "metadata": {},
   "outputs": [
    {
     "name": "stdout",
     "output_type": "stream",
     "text": [
      "geo_data0.csv\n",
      "Дублированных id: 10\n"
     ]
    },
    {
     "data": {
      "text/html": [
       "<div>\n",
       "<style scoped>\n",
       "    .dataframe tbody tr th:only-of-type {\n",
       "        vertical-align: middle;\n",
       "    }\n",
       "\n",
       "    .dataframe tbody tr th {\n",
       "        vertical-align: top;\n",
       "    }\n",
       "\n",
       "    .dataframe thead th {\n",
       "        text-align: right;\n",
       "    }\n",
       "</style>\n",
       "<table border=\"1\" class=\"dataframe\">\n",
       "  <thead>\n",
       "    <tr style=\"text-align: right;\">\n",
       "      <th></th>\n",
       "      <th>id</th>\n",
       "      <th>f0</th>\n",
       "      <th>f1</th>\n",
       "      <th>f2</th>\n",
       "      <th>product</th>\n",
       "    </tr>\n",
       "  </thead>\n",
       "  <tbody>\n",
       "    <tr>\n",
       "      <th>931</th>\n",
       "      <td>HZww2</td>\n",
       "      <td>0.7552842271635848</td>\n",
       "      <td>0.3685114788822029</td>\n",
       "      <td>1.8632112215902232</td>\n",
       "      <td>30.681774496542783</td>\n",
       "    </tr>\n",
       "    <tr>\n",
       "      <th>7530</th>\n",
       "      <td>HZww2</td>\n",
       "      <td>1.0611938695991008</td>\n",
       "      <td>-0.3739690837175021</td>\n",
       "      <td>10.430210258820283</td>\n",
       "      <td>158.82869521700235</td>\n",
       "    </tr>\n",
       "  </tbody>\n",
       "</table>\n",
       "</div>"
      ],
      "text/plain": [
       "         id                 f0                  f1                 f2  \\\n",
       "931   HZww2 0.7552842271635848  0.3685114788822029 1.8632112215902232   \n",
       "7530  HZww2 1.0611938695991008 -0.3739690837175021 10.430210258820283   \n",
       "\n",
       "                product  \n",
       "931  30.681774496542783  \n",
       "7530 158.82869521700235  "
      ]
     },
     "metadata": {},
     "output_type": "display_data"
    },
    {
     "data": {
      "text/html": [
       "<div>\n",
       "<style scoped>\n",
       "    .dataframe tbody tr th:only-of-type {\n",
       "        vertical-align: middle;\n",
       "    }\n",
       "\n",
       "    .dataframe tbody tr th {\n",
       "        vertical-align: top;\n",
       "    }\n",
       "\n",
       "    .dataframe thead th {\n",
       "        text-align: right;\n",
       "    }\n",
       "</style>\n",
       "<table border=\"1\" class=\"dataframe\">\n",
       "  <thead>\n",
       "    <tr style=\"text-align: right;\">\n",
       "      <th></th>\n",
       "      <th>id</th>\n",
       "      <th>f0</th>\n",
       "      <th>f1</th>\n",
       "      <th>f2</th>\n",
       "      <th>product</th>\n",
       "    </tr>\n",
       "  </thead>\n",
       "  <tbody>\n",
       "    <tr>\n",
       "      <th>1364</th>\n",
       "      <td>bxg6G</td>\n",
       "      <td>0.4116449402873586</td>\n",
       "      <td>0.8568302740326846</td>\n",
       "      <td>-3.653440019025573</td>\n",
       "      <td>73.6042595114848</td>\n",
       "    </tr>\n",
       "    <tr>\n",
       "      <th>41724</th>\n",
       "      <td>bxg6G</td>\n",
       "      <td>-0.8237518238988432</td>\n",
       "      <td>0.5463185091794397</td>\n",
       "      <td>3.630479360955368</td>\n",
       "      <td>93.0077980092532</td>\n",
       "    </tr>\n",
       "  </tbody>\n",
       "</table>\n",
       "</div>"
      ],
      "text/plain": [
       "          id                  f0                 f1                 f2  \\\n",
       "1364   bxg6G  0.4116449402873586 0.8568302740326846 -3.653440019025573   \n",
       "41724  bxg6G -0.8237518238988432 0.5463185091794397  3.630479360955368   \n",
       "\n",
       "               product  \n",
       "1364  73.6042595114848  \n",
       "41724 93.0077980092532  "
      ]
     },
     "metadata": {},
     "output_type": "display_data"
    },
    {
     "data": {
      "text/html": [
       "<div>\n",
       "<style scoped>\n",
       "    .dataframe tbody tr th:only-of-type {\n",
       "        vertical-align: middle;\n",
       "    }\n",
       "\n",
       "    .dataframe tbody tr th {\n",
       "        vertical-align: top;\n",
       "    }\n",
       "\n",
       "    .dataframe thead th {\n",
       "        text-align: right;\n",
       "    }\n",
       "</style>\n",
       "<table border=\"1\" class=\"dataframe\">\n",
       "  <thead>\n",
       "    <tr style=\"text-align: right;\">\n",
       "      <th></th>\n",
       "      <th>id</th>\n",
       "      <th>f0</th>\n",
       "      <th>f1</th>\n",
       "      <th>f2</th>\n",
       "      <th>product</th>\n",
       "    </tr>\n",
       "  </thead>\n",
       "  <tbody>\n",
       "    <tr>\n",
       "      <th>3389</th>\n",
       "      <td>A5aEY</td>\n",
       "      <td>-0.0399487484568592</td>\n",
       "      <td>0.1568723773179921</td>\n",
       "      <td>0.209861015490383</td>\n",
       "      <td>89.24936421830995</td>\n",
       "    </tr>\n",
       "    <tr>\n",
       "      <th>51970</th>\n",
       "      <td>A5aEY</td>\n",
       "      <td>-0.1803353225635459</td>\n",
       "      <td>0.935548406802054</td>\n",
       "      <td>-2.09477267781693</td>\n",
       "      <td>33.02020507254836</td>\n",
       "    </tr>\n",
       "  </tbody>\n",
       "</table>\n",
       "</div>"
      ],
      "text/plain": [
       "          id                  f0                 f1                f2  \\\n",
       "3389   A5aEY -0.0399487484568592 0.1568723773179921 0.209861015490383   \n",
       "51970  A5aEY -0.1803353225635459  0.935548406802054 -2.09477267781693   \n",
       "\n",
       "                product  \n",
       "3389  89.24936421830995  \n",
       "51970 33.02020507254836  "
      ]
     },
     "metadata": {},
     "output_type": "display_data"
    },
    {
     "data": {
      "text/html": [
       "<div>\n",
       "<style scoped>\n",
       "    .dataframe tbody tr th:only-of-type {\n",
       "        vertical-align: middle;\n",
       "    }\n",
       "\n",
       "    .dataframe tbody tr th {\n",
       "        vertical-align: top;\n",
       "    }\n",
       "\n",
       "    .dataframe thead th {\n",
       "        text-align: right;\n",
       "    }\n",
       "</style>\n",
       "<table border=\"1\" class=\"dataframe\">\n",
       "  <thead>\n",
       "    <tr style=\"text-align: right;\">\n",
       "      <th></th>\n",
       "      <th>id</th>\n",
       "      <th>f0</th>\n",
       "      <th>f1</th>\n",
       "      <th>f2</th>\n",
       "      <th>product</th>\n",
       "    </tr>\n",
       "  </thead>\n",
       "  <tbody>\n",
       "    <tr>\n",
       "      <th>1949</th>\n",
       "      <td>QcMuo</td>\n",
       "      <td>0.5065629480927571</td>\n",
       "      <td>-0.3237747395909756</td>\n",
       "      <td>-2.2155833211989613</td>\n",
       "      <td>75.4965022591358</td>\n",
       "    </tr>\n",
       "    <tr>\n",
       "      <th>63593</th>\n",
       "      <td>QcMuo</td>\n",
       "      <td>0.6356346484574112</td>\n",
       "      <td>-0.4734216444166717</td>\n",
       "      <td>0.8626697299520634</td>\n",
       "      <td>64.57867535059826</td>\n",
       "    </tr>\n",
       "  </tbody>\n",
       "</table>\n",
       "</div>"
      ],
      "text/plain": [
       "          id                 f0                  f1                  f2  \\\n",
       "1949   QcMuo 0.5065629480927571 -0.3237747395909756 -2.2155833211989613   \n",
       "63593  QcMuo 0.6356346484574112 -0.4734216444166717  0.8626697299520634   \n",
       "\n",
       "                product  \n",
       "1949   75.4965022591358  \n",
       "63593 64.57867535059826  "
      ]
     },
     "metadata": {},
     "output_type": "display_data"
    },
    {
     "data": {
      "text/html": [
       "<div>\n",
       "<style scoped>\n",
       "    .dataframe tbody tr th:only-of-type {\n",
       "        vertical-align: middle;\n",
       "    }\n",
       "\n",
       "    .dataframe tbody tr th {\n",
       "        vertical-align: top;\n",
       "    }\n",
       "\n",
       "    .dataframe thead th {\n",
       "        text-align: right;\n",
       "    }\n",
       "</style>\n",
       "<table border=\"1\" class=\"dataframe\">\n",
       "  <thead>\n",
       "    <tr style=\"text-align: right;\">\n",
       "      <th></th>\n",
       "      <th>id</th>\n",
       "      <th>f0</th>\n",
       "      <th>f1</th>\n",
       "      <th>f2</th>\n",
       "      <th>product</th>\n",
       "    </tr>\n",
       "  </thead>\n",
       "  <tbody>\n",
       "    <tr>\n",
       "      <th>64022</th>\n",
       "      <td>74z30</td>\n",
       "      <td>0.7414563896165806</td>\n",
       "      <td>0.4592294654856754</td>\n",
       "      <td>5.153108660509534</td>\n",
       "      <td>140.7714923753712</td>\n",
       "    </tr>\n",
       "    <tr>\n",
       "      <th>66136</th>\n",
       "      <td>74z30</td>\n",
       "      <td>1.0849621430609833</td>\n",
       "      <td>-0.3123577141663048</td>\n",
       "      <td>6.990771006574128</td>\n",
       "      <td>127.64332680328752</td>\n",
       "    </tr>\n",
       "  </tbody>\n",
       "</table>\n",
       "</div>"
      ],
      "text/plain": [
       "          id                 f0                  f1                f2  \\\n",
       "64022  74z30 0.7414563896165806  0.4592294654856754 5.153108660509534   \n",
       "66136  74z30 1.0849621430609833 -0.3123577141663048 6.990771006574128   \n",
       "\n",
       "                 product  \n",
       "64022  140.7714923753712  \n",
       "66136 127.64332680328752  "
      ]
     },
     "metadata": {},
     "output_type": "display_data"
    },
    {
     "data": {
      "text/html": [
       "<div>\n",
       "<style scoped>\n",
       "    .dataframe tbody tr th:only-of-type {\n",
       "        vertical-align: middle;\n",
       "    }\n",
       "\n",
       "    .dataframe tbody tr th {\n",
       "        vertical-align: top;\n",
       "    }\n",
       "\n",
       "    .dataframe thead th {\n",
       "        text-align: right;\n",
       "    }\n",
       "</style>\n",
       "<table border=\"1\" class=\"dataframe\">\n",
       "  <thead>\n",
       "    <tr style=\"text-align: right;\">\n",
       "      <th></th>\n",
       "      <th>id</th>\n",
       "      <th>f0</th>\n",
       "      <th>f1</th>\n",
       "      <th>f2</th>\n",
       "      <th>product</th>\n",
       "    </tr>\n",
       "  </thead>\n",
       "  <tbody>\n",
       "    <tr>\n",
       "      <th>42529</th>\n",
       "      <td>AGS9W</td>\n",
       "      <td>1.4547473615130813</td>\n",
       "      <td>-0.4796514244044363</td>\n",
       "      <td>0.6833796370174312</td>\n",
       "      <td>126.37050434823638</td>\n",
       "    </tr>\n",
       "    <tr>\n",
       "      <th>69163</th>\n",
       "      <td>AGS9W</td>\n",
       "      <td>-0.9337950254255925</td>\n",
       "      <td>0.1161940975427075</td>\n",
       "      <td>-3.6558962908396535</td>\n",
       "      <td>19.2304533179062</td>\n",
       "    </tr>\n",
       "  </tbody>\n",
       "</table>\n",
       "</div>"
      ],
      "text/plain": [
       "          id                  f0                  f1                  f2  \\\n",
       "42529  AGS9W  1.4547473615130813 -0.4796514244044363  0.6833796370174312   \n",
       "69163  AGS9W -0.9337950254255925  0.1161940975427075 -3.6558962908396535   \n",
       "\n",
       "                 product  \n",
       "42529 126.37050434823638  \n",
       "69163   19.2304533179062  "
      ]
     },
     "metadata": {},
     "output_type": "display_data"
    },
    {
     "data": {
      "text/html": [
       "<div>\n",
       "<style scoped>\n",
       "    .dataframe tbody tr th:only-of-type {\n",
       "        vertical-align: middle;\n",
       "    }\n",
       "\n",
       "    .dataframe tbody tr th {\n",
       "        vertical-align: top;\n",
       "    }\n",
       "\n",
       "    .dataframe thead th {\n",
       "        text-align: right;\n",
       "    }\n",
       "</style>\n",
       "<table border=\"1\" class=\"dataframe\">\n",
       "  <thead>\n",
       "    <tr style=\"text-align: right;\">\n",
       "      <th></th>\n",
       "      <th>id</th>\n",
       "      <th>f0</th>\n",
       "      <th>f1</th>\n",
       "      <th>f2</th>\n",
       "      <th>product</th>\n",
       "    </tr>\n",
       "  </thead>\n",
       "  <tbody>\n",
       "    <tr>\n",
       "      <th>21426</th>\n",
       "      <td>Tdehs</td>\n",
       "      <td>0.8294065169753866</td>\n",
       "      <td>0.2988070381468724</td>\n",
       "      <td>-0.0495627225934587</td>\n",
       "      <td>96.03530757983</td>\n",
       "    </tr>\n",
       "    <tr>\n",
       "      <th>75715</th>\n",
       "      <td>Tdehs</td>\n",
       "      <td>0.1120786739116989</td>\n",
       "      <td>0.4302964640220232</td>\n",
       "      <td>3.218992710153172</td>\n",
       "      <td>60.96401824063864</td>\n",
       "    </tr>\n",
       "  </tbody>\n",
       "</table>\n",
       "</div>"
      ],
      "text/plain": [
       "          id                 f0                 f1                  f2  \\\n",
       "21426  Tdehs 0.8294065169753866 0.2988070381468724 -0.0495627225934587   \n",
       "75715  Tdehs 0.1120786739116989 0.4302964640220232   3.218992710153172   \n",
       "\n",
       "                product  \n",
       "21426    96.03530757983  \n",
       "75715 60.96401824063864  "
      ]
     },
     "metadata": {},
     "output_type": "display_data"
    },
    {
     "data": {
      "text/html": [
       "<div>\n",
       "<style scoped>\n",
       "    .dataframe tbody tr th:only-of-type {\n",
       "        vertical-align: middle;\n",
       "    }\n",
       "\n",
       "    .dataframe tbody tr th {\n",
       "        vertical-align: top;\n",
       "    }\n",
       "\n",
       "    .dataframe thead th {\n",
       "        text-align: right;\n",
       "    }\n",
       "</style>\n",
       "<table border=\"1\" class=\"dataframe\">\n",
       "  <thead>\n",
       "    <tr style=\"text-align: right;\">\n",
       "      <th></th>\n",
       "      <th>id</th>\n",
       "      <th>f0</th>\n",
       "      <th>f1</th>\n",
       "      <th>f2</th>\n",
       "      <th>product</th>\n",
       "    </tr>\n",
       "  </thead>\n",
       "  <tbody>\n",
       "    <tr>\n",
       "      <th>16633</th>\n",
       "      <td>fiKDv</td>\n",
       "      <td>0.1573410012809789</td>\n",
       "      <td>1.0283587757772097</td>\n",
       "      <td>5.5855859931099126</td>\n",
       "      <td>95.81788929059958</td>\n",
       "    </tr>\n",
       "    <tr>\n",
       "      <th>90815</th>\n",
       "      <td>fiKDv</td>\n",
       "      <td>0.0498831472068193</td>\n",
       "      <td>0.8413126816526011</td>\n",
       "      <td>6.39461267465025</td>\n",
       "      <td>137.34658636134</td>\n",
       "    </tr>\n",
       "  </tbody>\n",
       "</table>\n",
       "</div>"
      ],
      "text/plain": [
       "          id                 f0                 f1                 f2  \\\n",
       "16633  fiKDv 0.1573410012809789 1.0283587757772097 5.5855859931099126   \n",
       "90815  fiKDv 0.0498831472068193 0.8413126816526011   6.39461267465025   \n",
       "\n",
       "                product  \n",
       "16633 95.81788929059958  \n",
       "90815   137.34658636134  "
      ]
     },
     "metadata": {},
     "output_type": "display_data"
    },
    {
     "data": {
      "text/html": [
       "<div>\n",
       "<style scoped>\n",
       "    .dataframe tbody tr th:only-of-type {\n",
       "        vertical-align: middle;\n",
       "    }\n",
       "\n",
       "    .dataframe tbody tr th {\n",
       "        vertical-align: top;\n",
       "    }\n",
       "\n",
       "    .dataframe thead th {\n",
       "        text-align: right;\n",
       "    }\n",
       "</style>\n",
       "<table border=\"1\" class=\"dataframe\">\n",
       "  <thead>\n",
       "    <tr style=\"text-align: right;\">\n",
       "      <th></th>\n",
       "      <th>id</th>\n",
       "      <th>f0</th>\n",
       "      <th>f1</th>\n",
       "      <th>f2</th>\n",
       "      <th>product</th>\n",
       "    </tr>\n",
       "  </thead>\n",
       "  <tbody>\n",
       "    <tr>\n",
       "      <th>60140</th>\n",
       "      <td>TtcGQ</td>\n",
       "      <td>0.5692761848642621</td>\n",
       "      <td>-0.1048764127649315</td>\n",
       "      <td>6.4402147611281375</td>\n",
       "      <td>85.35018598385602</td>\n",
       "    </tr>\n",
       "    <tr>\n",
       "      <th>92341</th>\n",
       "      <td>TtcGQ</td>\n",
       "      <td>0.1107107061861431</td>\n",
       "      <td>1.022688833053036</td>\n",
       "      <td>0.9113807546379776</td>\n",
       "      <td>101.31800767111528</td>\n",
       "    </tr>\n",
       "  </tbody>\n",
       "</table>\n",
       "</div>"
      ],
      "text/plain": [
       "          id                 f0                  f1                 f2  \\\n",
       "60140  TtcGQ 0.5692761848642621 -0.1048764127649315 6.4402147611281375   \n",
       "92341  TtcGQ 0.1107107061861431   1.022688833053036 0.9113807546379776   \n",
       "\n",
       "                 product  \n",
       "60140  85.35018598385602  \n",
       "92341 101.31800767111528  "
      ]
     },
     "metadata": {},
     "output_type": "display_data"
    },
    {
     "data": {
      "text/html": [
       "<div>\n",
       "<style scoped>\n",
       "    .dataframe tbody tr th:only-of-type {\n",
       "        vertical-align: middle;\n",
       "    }\n",
       "\n",
       "    .dataframe tbody tr th {\n",
       "        vertical-align: top;\n",
       "    }\n",
       "\n",
       "    .dataframe thead th {\n",
       "        text-align: right;\n",
       "    }\n",
       "</style>\n",
       "<table border=\"1\" class=\"dataframe\">\n",
       "  <thead>\n",
       "    <tr style=\"text-align: right;\">\n",
       "      <th></th>\n",
       "      <th>id</th>\n",
       "      <th>f0</th>\n",
       "      <th>f1</th>\n",
       "      <th>f2</th>\n",
       "      <th>product</th>\n",
       "    </tr>\n",
       "  </thead>\n",
       "  <tbody>\n",
       "    <tr>\n",
       "      <th>89582</th>\n",
       "      <td>bsk9y</td>\n",
       "      <td>0.3989080680654323</td>\n",
       "      <td>-0.400252744293225</td>\n",
       "      <td>10.122376364040676</td>\n",
       "      <td>163.43307824343646</td>\n",
       "    </tr>\n",
       "    <tr>\n",
       "      <th>97785</th>\n",
       "      <td>bsk9y</td>\n",
       "      <td>0.378428779393484</td>\n",
       "      <td>0.0058365400286942</td>\n",
       "      <td>0.1608272207855412</td>\n",
       "      <td>160.6373017834086</td>\n",
       "    </tr>\n",
       "  </tbody>\n",
       "</table>\n",
       "</div>"
      ],
      "text/plain": [
       "          id                 f0                 f1                 f2  \\\n",
       "89582  bsk9y 0.3989080680654323 -0.400252744293225 10.122376364040676   \n",
       "97785  bsk9y  0.378428779393484 0.0058365400286942 0.1608272207855412   \n",
       "\n",
       "                 product  \n",
       "89582 163.43307824343646  \n",
       "97785  160.6373017834086  "
      ]
     },
     "metadata": {},
     "output_type": "display_data"
    },
    {
     "name": "stdout",
     "output_type": "stream",
     "text": [
      "geo_data1.csv\n",
      "Дублированных id: 4\n"
     ]
    },
    {
     "data": {
      "text/html": [
       "<div>\n",
       "<style scoped>\n",
       "    .dataframe tbody tr th:only-of-type {\n",
       "        vertical-align: middle;\n",
       "    }\n",
       "\n",
       "    .dataframe tbody tr th {\n",
       "        vertical-align: top;\n",
       "    }\n",
       "\n",
       "    .dataframe thead th {\n",
       "        text-align: right;\n",
       "    }\n",
       "</style>\n",
       "<table border=\"1\" class=\"dataframe\">\n",
       "  <thead>\n",
       "    <tr style=\"text-align: right;\">\n",
       "      <th></th>\n",
       "      <th>id</th>\n",
       "      <th>f0</th>\n",
       "      <th>f1</th>\n",
       "      <th>f2</th>\n",
       "      <th>product</th>\n",
       "    </tr>\n",
       "  </thead>\n",
       "  <tbody>\n",
       "    <tr>\n",
       "      <th>1305</th>\n",
       "      <td>LHZR0</td>\n",
       "      <td>11.170834886932989</td>\n",
       "      <td>-1.9450656077624449</td>\n",
       "      <td>3.002872334532632</td>\n",
       "      <td>80.85978309461906</td>\n",
       "    </tr>\n",
       "    <tr>\n",
       "      <th>41906</th>\n",
       "      <td>LHZR0</td>\n",
       "      <td>-8.989671871716311</td>\n",
       "      <td>-4.286607075142498</td>\n",
       "      <td>2.0091389966332125</td>\n",
       "      <td>57.08562464628662</td>\n",
       "    </tr>\n",
       "  </tbody>\n",
       "</table>\n",
       "</div>"
      ],
      "text/plain": [
       "          id                 f0                  f1                 f2  \\\n",
       "1305   LHZR0 11.170834886932989 -1.9450656077624449  3.002872334532632   \n",
       "41906  LHZR0 -8.989671871716311  -4.286607075142498 2.0091389966332125   \n",
       "\n",
       "                product  \n",
       "1305  80.85978309461906  \n",
       "41906 57.08562464628662  "
      ]
     },
     "metadata": {},
     "output_type": "display_data"
    },
    {
     "data": {
      "text/html": [
       "<div>\n",
       "<style scoped>\n",
       "    .dataframe tbody tr th:only-of-type {\n",
       "        vertical-align: middle;\n",
       "    }\n",
       "\n",
       "    .dataframe tbody tr th {\n",
       "        vertical-align: top;\n",
       "    }\n",
       "\n",
       "    .dataframe thead th {\n",
       "        text-align: right;\n",
       "    }\n",
       "</style>\n",
       "<table border=\"1\" class=\"dataframe\">\n",
       "  <thead>\n",
       "    <tr style=\"text-align: right;\">\n",
       "      <th></th>\n",
       "      <th>id</th>\n",
       "      <th>f0</th>\n",
       "      <th>f1</th>\n",
       "      <th>f2</th>\n",
       "      <th>product</th>\n",
       "    </tr>\n",
       "  </thead>\n",
       "  <tbody>\n",
       "    <tr>\n",
       "      <th>2721</th>\n",
       "      <td>bfPNe</td>\n",
       "      <td>-9.494441881351934</td>\n",
       "      <td>-5.463692106350644</td>\n",
       "      <td>4.0060415819144986</td>\n",
       "      <td>110.992146709366</td>\n",
       "    </tr>\n",
       "    <tr>\n",
       "      <th>82178</th>\n",
       "      <td>bfPNe</td>\n",
       "      <td>-6.202798994370619</td>\n",
       "      <td>-4.820044564815392</td>\n",
       "      <td>2.995107206596672</td>\n",
       "      <td>84.03888567782631</td>\n",
       "    </tr>\n",
       "  </tbody>\n",
       "</table>\n",
       "</div>"
      ],
      "text/plain": [
       "          id                 f0                 f1                 f2  \\\n",
       "2721   bfPNe -9.494441881351934 -5.463692106350644 4.0060415819144986   \n",
       "82178  bfPNe -6.202798994370619 -4.820044564815392  2.995107206596672   \n",
       "\n",
       "                product  \n",
       "2721   110.992146709366  \n",
       "82178 84.03888567782631  "
      ]
     },
     "metadata": {},
     "output_type": "display_data"
    },
    {
     "data": {
      "text/html": [
       "<div>\n",
       "<style scoped>\n",
       "    .dataframe tbody tr th:only-of-type {\n",
       "        vertical-align: middle;\n",
       "    }\n",
       "\n",
       "    .dataframe tbody tr th {\n",
       "        vertical-align: top;\n",
       "    }\n",
       "\n",
       "    .dataframe thead th {\n",
       "        text-align: right;\n",
       "    }\n",
       "</style>\n",
       "<table border=\"1\" class=\"dataframe\">\n",
       "  <thead>\n",
       "    <tr style=\"text-align: right;\">\n",
       "      <th></th>\n",
       "      <th>id</th>\n",
       "      <th>f0</th>\n",
       "      <th>f1</th>\n",
       "      <th>f2</th>\n",
       "      <th>product</th>\n",
       "    </tr>\n",
       "  </thead>\n",
       "  <tbody>\n",
       "    <tr>\n",
       "      <th>47591</th>\n",
       "      <td>wt4Uk</td>\n",
       "      <td>-9.091097645682114</td>\n",
       "      <td>-8.109278921040683</td>\n",
       "      <td>-0.0023136991985505</td>\n",
       "      <td>3.179102583207246</td>\n",
       "    </tr>\n",
       "    <tr>\n",
       "      <th>82873</th>\n",
       "      <td>wt4Uk</td>\n",
       "      <td>10.259972397061716</td>\n",
       "      <td>-9.376354819569784</td>\n",
       "      <td>4.994296692628419</td>\n",
       "      <td>134.76630515769844</td>\n",
       "    </tr>\n",
       "  </tbody>\n",
       "</table>\n",
       "</div>"
      ],
      "text/plain": [
       "          id                 f0                 f1                  f2  \\\n",
       "47591  wt4Uk -9.091097645682114 -8.109278921040683 -0.0023136991985505   \n",
       "82873  wt4Uk 10.259972397061716 -9.376354819569784   4.994296692628419   \n",
       "\n",
       "                 product  \n",
       "47591  3.179102583207246  \n",
       "82873 134.76630515769844  "
      ]
     },
     "metadata": {},
     "output_type": "display_data"
    },
    {
     "data": {
      "text/html": [
       "<div>\n",
       "<style scoped>\n",
       "    .dataframe tbody tr th:only-of-type {\n",
       "        vertical-align: middle;\n",
       "    }\n",
       "\n",
       "    .dataframe tbody tr th {\n",
       "        vertical-align: top;\n",
       "    }\n",
       "\n",
       "    .dataframe thead th {\n",
       "        text-align: right;\n",
       "    }\n",
       "</style>\n",
       "<table border=\"1\" class=\"dataframe\">\n",
       "  <thead>\n",
       "    <tr style=\"text-align: right;\">\n",
       "      <th></th>\n",
       "      <th>id</th>\n",
       "      <th>f0</th>\n",
       "      <th>f1</th>\n",
       "      <th>f2</th>\n",
       "      <th>product</th>\n",
       "    </tr>\n",
       "  </thead>\n",
       "  <tbody>\n",
       "    <tr>\n",
       "      <th>5849</th>\n",
       "      <td>5ltQ6</td>\n",
       "      <td>-3.435400655682741</td>\n",
       "      <td>-12.296043363689575</td>\n",
       "      <td>1.9997955405525067</td>\n",
       "      <td>57.08562464628662</td>\n",
       "    </tr>\n",
       "    <tr>\n",
       "      <th>84461</th>\n",
       "      <td>5ltQ6</td>\n",
       "      <td>18.213838953157858</td>\n",
       "      <td>2.1919987531641767</td>\n",
       "      <td>3.993869295751548</td>\n",
       "      <td>107.81304412615876</td>\n",
       "    </tr>\n",
       "  </tbody>\n",
       "</table>\n",
       "</div>"
      ],
      "text/plain": [
       "          id                 f0                  f1                 f2  \\\n",
       "5849   5ltQ6 -3.435400655682741 -12.296043363689575 1.9997955405525067   \n",
       "84461  5ltQ6 18.213838953157858  2.1919987531641767  3.993869295751548   \n",
       "\n",
       "                 product  \n",
       "5849   57.08562464628662  \n",
       "84461 107.81304412615876  "
      ]
     },
     "metadata": {},
     "output_type": "display_data"
    },
    {
     "name": "stdout",
     "output_type": "stream",
     "text": [
      "geo_data2.csv\n",
      "Дублированных id: 4\n"
     ]
    },
    {
     "data": {
      "text/html": [
       "<div>\n",
       "<style scoped>\n",
       "    .dataframe tbody tr th:only-of-type {\n",
       "        vertical-align: middle;\n",
       "    }\n",
       "\n",
       "    .dataframe tbody tr th {\n",
       "        vertical-align: top;\n",
       "    }\n",
       "\n",
       "    .dataframe thead th {\n",
       "        text-align: right;\n",
       "    }\n",
       "</style>\n",
       "<table border=\"1\" class=\"dataframe\">\n",
       "  <thead>\n",
       "    <tr style=\"text-align: right;\">\n",
       "      <th></th>\n",
       "      <th>id</th>\n",
       "      <th>f0</th>\n",
       "      <th>f1</th>\n",
       "      <th>f2</th>\n",
       "      <th>product</th>\n",
       "    </tr>\n",
       "  </thead>\n",
       "  <tbody>\n",
       "    <tr>\n",
       "      <th>28039</th>\n",
       "      <td>xCHr8</td>\n",
       "      <td>1.633027398872861</td>\n",
       "      <td>0.3681346146986521</td>\n",
       "      <td>-2.37836744238992</td>\n",
       "      <td>6.120525198275293</td>\n",
       "    </tr>\n",
       "    <tr>\n",
       "      <th>43233</th>\n",
       "      <td>xCHr8</td>\n",
       "      <td>-0.8470657155169228</td>\n",
       "      <td>2.101796125258357</td>\n",
       "      <td>5.5971304106656135</td>\n",
       "      <td>184.3886413724209</td>\n",
       "    </tr>\n",
       "  </tbody>\n",
       "</table>\n",
       "</div>"
      ],
      "text/plain": [
       "          id                  f0                 f1                 f2  \\\n",
       "28039  xCHr8   1.633027398872861 0.3681346146986521  -2.37836744238992   \n",
       "43233  xCHr8 -0.8470657155169228  2.101796125258357 5.5971304106656135   \n",
       "\n",
       "                product  \n",
       "28039 6.120525198275293  \n",
       "43233 184.3886413724209  "
      ]
     },
     "metadata": {},
     "output_type": "display_data"
    },
    {
     "data": {
      "text/html": [
       "<div>\n",
       "<style scoped>\n",
       "    .dataframe tbody tr th:only-of-type {\n",
       "        vertical-align: middle;\n",
       "    }\n",
       "\n",
       "    .dataframe tbody tr th {\n",
       "        vertical-align: top;\n",
       "    }\n",
       "\n",
       "    .dataframe thead th {\n",
       "        text-align: right;\n",
       "    }\n",
       "</style>\n",
       "<table border=\"1\" class=\"dataframe\">\n",
       "  <thead>\n",
       "    <tr style=\"text-align: right;\">\n",
       "      <th></th>\n",
       "      <th>id</th>\n",
       "      <th>f0</th>\n",
       "      <th>f1</th>\n",
       "      <th>f2</th>\n",
       "      <th>product</th>\n",
       "    </tr>\n",
       "  </thead>\n",
       "  <tbody>\n",
       "    <tr>\n",
       "      <th>11449</th>\n",
       "      <td>VF7Jo</td>\n",
       "      <td>2.1226558570597063</td>\n",
       "      <td>-0.8582750218117161</td>\n",
       "      <td>5.7460011622286284</td>\n",
       "      <td>181.71681716776263</td>\n",
       "    </tr>\n",
       "    <tr>\n",
       "      <th>49564</th>\n",
       "      <td>VF7Jo</td>\n",
       "      <td>-0.8831152345244617</td>\n",
       "      <td>0.5605365063301919</td>\n",
       "      <td>0.7236006233090237</td>\n",
       "      <td>136.23341953948022</td>\n",
       "    </tr>\n",
       "  </tbody>\n",
       "</table>\n",
       "</div>"
      ],
      "text/plain": [
       "          id                  f0                  f1                 f2  \\\n",
       "11449  VF7Jo  2.1226558570597063 -0.8582750218117161 5.7460011622286284   \n",
       "49564  VF7Jo -0.8831152345244617  0.5605365063301919 0.7236006233090237   \n",
       "\n",
       "                 product  \n",
       "11449 181.71681716776263  \n",
       "49564 136.23341953948022  "
      ]
     },
     "metadata": {},
     "output_type": "display_data"
    },
    {
     "data": {
      "text/html": [
       "<div>\n",
       "<style scoped>\n",
       "    .dataframe tbody tr th:only-of-type {\n",
       "        vertical-align: middle;\n",
       "    }\n",
       "\n",
       "    .dataframe tbody tr th {\n",
       "        vertical-align: top;\n",
       "    }\n",
       "\n",
       "    .dataframe thead th {\n",
       "        text-align: right;\n",
       "    }\n",
       "</style>\n",
       "<table border=\"1\" class=\"dataframe\">\n",
       "  <thead>\n",
       "    <tr style=\"text-align: right;\">\n",
       "      <th></th>\n",
       "      <th>id</th>\n",
       "      <th>f0</th>\n",
       "      <th>f1</th>\n",
       "      <th>f2</th>\n",
       "      <th>product</th>\n",
       "    </tr>\n",
       "  </thead>\n",
       "  <tbody>\n",
       "    <tr>\n",
       "      <th>45404</th>\n",
       "      <td>KUPhW</td>\n",
       "      <td>0.2318463212163305</td>\n",
       "      <td>-1.6989411200541402</td>\n",
       "      <td>4.99077473402697</td>\n",
       "      <td>11.71629903187472</td>\n",
       "    </tr>\n",
       "    <tr>\n",
       "      <th>55967</th>\n",
       "      <td>KUPhW</td>\n",
       "      <td>1.2111504969333158</td>\n",
       "      <td>3.1764081825798742</td>\n",
       "      <td>5.54353969863736</td>\n",
       "      <td>132.83180203624136</td>\n",
       "    </tr>\n",
       "  </tbody>\n",
       "</table>\n",
       "</div>"
      ],
      "text/plain": [
       "          id                 f0                  f1               f2  \\\n",
       "45404  KUPhW 0.2318463212163305 -1.6989411200541402 4.99077473402697   \n",
       "55967  KUPhW 1.2111504969333158  3.1764081825798742 5.54353969863736   \n",
       "\n",
       "                 product  \n",
       "45404  11.71629903187472  \n",
       "55967 132.83180203624136  "
      ]
     },
     "metadata": {},
     "output_type": "display_data"
    },
    {
     "data": {
      "text/html": [
       "<div>\n",
       "<style scoped>\n",
       "    .dataframe tbody tr th:only-of-type {\n",
       "        vertical-align: middle;\n",
       "    }\n",
       "\n",
       "    .dataframe tbody tr th {\n",
       "        vertical-align: top;\n",
       "    }\n",
       "\n",
       "    .dataframe thead th {\n",
       "        text-align: right;\n",
       "    }\n",
       "</style>\n",
       "<table border=\"1\" class=\"dataframe\">\n",
       "  <thead>\n",
       "    <tr style=\"text-align: right;\">\n",
       "      <th></th>\n",
       "      <th>id</th>\n",
       "      <th>f0</th>\n",
       "      <th>f1</th>\n",
       "      <th>f2</th>\n",
       "      <th>product</th>\n",
       "    </tr>\n",
       "  </thead>\n",
       "  <tbody>\n",
       "    <tr>\n",
       "      <th>44378</th>\n",
       "      <td>Vcm5J</td>\n",
       "      <td>-1.22948409371565</td>\n",
       "      <td>-2.43920363300028</td>\n",
       "      <td>1.2229085644127935</td>\n",
       "      <td>137.9682903642638</td>\n",
       "    </tr>\n",
       "    <tr>\n",
       "      <th>95090</th>\n",
       "      <td>Vcm5J</td>\n",
       "      <td>2.5877022015401687</td>\n",
       "      <td>1.9868750030562543</td>\n",
       "      <td>2.4822448030879936</td>\n",
       "      <td>92.32757215224984</td>\n",
       "    </tr>\n",
       "  </tbody>\n",
       "</table>\n",
       "</div>"
      ],
      "text/plain": [
       "          id                 f0                 f1                 f2  \\\n",
       "44378  Vcm5J  -1.22948409371565  -2.43920363300028 1.2229085644127935   \n",
       "95090  Vcm5J 2.5877022015401687 1.9868750030562543 2.4822448030879936   \n",
       "\n",
       "                product  \n",
       "44378 137.9682903642638  \n",
       "95090 92.32757215224984  "
      ]
     },
     "metadata": {},
     "output_type": "display_data"
    }
   ],
   "source": [
    "for i in range(len(data)):\n",
    "    print(f'geo_data{i}.csv')\n",
    "    \n",
    "    bool_dubl = data[i].duplicated(subset=['id'])\n",
    "    print('Дублированных id:',bool_dubl.sum())\n",
    "    data_dubl = data[i][bool_dubl]\n",
    "    \n",
    "    for dubl_id in data_dubl['id']:\n",
    "        same = data[i][data[i]['id'] == dubl_id]\n",
    "        display(same)"
   ]
  },
  {
   "cell_type": "markdown",
   "metadata": {},
   "source": [
    "Показания дублированных по id строк очень разнятся, при этом, правильным решением будет от них избавиться.\n",
    "И затем, с учетом того, что признак id не является для нас ценными данными, сразу избавимся и от него."
   ]
  },
  {
   "cell_type": "code",
   "execution_count": 6,
   "metadata": {},
   "outputs": [],
   "source": [
    "for i in range(len(data)):\n",
    "    data[i].drop_duplicates(subset=['id'], keep=False, inplace=True)\n",
    "    data[i].drop(['id'], axis=1, inplace=True)\n",
    "    data[i] = data[i].reset_index(drop=True)"
   ]
  },
  {
   "cell_type": "markdown",
   "metadata": {},
   "source": [
    "**На данном этапе изучение и предобработка завершены. Выводы:**\n",
    "- Данные загружены и просмотрены, определены признаки и класс.\n",
    "- Признак `id` удален, так как от него класс не может зависеть."
   ]
  },
  {
   "cell_type": "markdown",
   "metadata": {},
   "source": [
    "## Обучение и проверка модели"
   ]
  },
  {
   "cell_type": "markdown",
   "metadata": {},
   "source": [
    "### Подготовка к обучению"
   ]
  },
  {
   "cell_type": "markdown",
   "metadata": {},
   "source": [
    "#### Исследование признаков и класса"
   ]
  },
  {
   "cell_type": "markdown",
   "metadata": {},
   "source": [
    "Т.к. данные мы не изменяли, то заново выводить общую информацию и графики распределения не будем.\n",
    "\n",
    "Посмотрим на корреляцию признаков, и класса:"
   ]
  },
  {
   "cell_type": "code",
   "execution_count": 7,
   "metadata": {},
   "outputs": [
    {
     "data": {
      "image/png": "[encoded data removed]",
      "text/plain": [
       "<Figure size 936x720 with 2 Axes>"
      ]
     },
     "metadata": {
      "needs_background": "light"
     },
     "output_type": "display_data"
    },
    {
     "data": {
      "image/png": "[encoded data removed]",
      "text/plain": [
       "<Figure size 936x720 with 2 Axes>"
      ]
     },
     "metadata": {
      "needs_background": "light"
     },
     "output_type": "display_data"
    },
    {
     "data": {
      "image/png": "[encoded data removed]",
      "text/plain": [
       "<Figure size 936x720 with 2 Axes>"
      ]
     },
     "metadata": {
      "needs_background": "light"
     },
     "output_type": "display_data"
    }
   ],
   "source": [
    "for i in range(len(data)):\n",
    "    fig, ax = plt.subplots(figsize=(13,10))\n",
    "    sb.heatmap(data[i].corr(), cmap=\"BuPu\", annot=True, fmt='.2f', linewidth=.1);\n",
    "    plt.title(f'geo_data_{i}.csv: Корреляция признаков и класса между собой')\n",
    "    plt.show();"
   ]
  },
  {
   "cell_type": "markdown",
   "metadata": {},
   "source": [
    "**Как мы видим:**\n",
    "- в geo_data_0 признаки коррелируют в пределах -0.48 друг с другом, обратим на это внимание;\n",
    "- в geo_data_1 наблюдается 100% корреляция признака f2 с классом, это хорошо в целом;\n",
    "- в geo_data_2 тоже f2/product наблюдается, но в уже в меньшей мере (0.45), это тоже в целом хорошо."
   ]
  },
  {
   "cell_type": "markdown",
   "metadata": {},
   "source": [
    "#### Подготовка датасетов"
   ]
  },
  {
   "cell_type": "markdown",
   "metadata": {},
   "source": [
    "**По условию задачи нам необходимо разбить обучающую и валидационную выборки в соотношении 75% и 25%.**"
   ]
  },
  {
   "cell_type": "code",
   "execution_count": 8,
   "metadata": {},
   "outputs": [
    {
     "name": "stdout",
     "output_type": "stream",
     "text": [
      "\n",
      "geo_data_0.csv Размеры выборок:\n",
      "Обучающая (train): 74985 строк, 75.0 %\n",
      "Валидационная (valid): 24995 строк, 25.0 %\n",
      "\n",
      "geo_data_1.csv Размеры выборок:\n",
      "Обучающая (train): 74994 строк, 75.0 %\n",
      "Валидационная (valid): 24998 строк, 25.0 %\n",
      "\n",
      "geo_data_2.csv Размеры выборок:\n",
      "Обучающая (train): 74994 строк, 75.0 %\n",
      "Валидационная (valid): 24998 строк, 25.0 %\n"
     ]
    }
   ],
   "source": [
    "# разобьем, посмотрим, запишем\n",
    "features_train = []; features_val = []\n",
    "target_train = []; target_val = []\n",
    "for i in range(len(data)):\n",
    "        \n",
    "    # разобьем данные на признаки и целевое значение\n",
    "    features = data[i].drop(['product'], axis=1)\n",
    "    target = data[i]['product']\n",
    "\n",
    "    # разделим данные на train, test\n",
    "    _features_train, _features_val, _target_train, _target_val = train_test_split(\n",
    "        features, target, test_size=0.25, random_state=randomstate\n",
    "    )\n",
    "    features_train.append(_features_train)\n",
    "    features_val.append(_features_val)\n",
    "    target_train.append(_target_train)\n",
    "    target_val.append(_target_val)\n",
    "    \n",
    "    print();print(f'geo_data_{i}.csv Размеры выборок:')\n",
    "    print(f'Обучающая (train): {features_train[i].shape[0]} строк,',\n",
    "          round(features_train[i].shape[0]/data[i].shape[0]*100,2),'%')\n",
    "    print(f'Валидационная (valid): {features_val[i].shape[0]} строк,',\n",
    "          round(features_val[i].shape[0]/data[i].shape[0]*100,2),'%')"
   ]
  },
  {
   "cell_type": "markdown",
   "metadata": {},
   "source": [
    "**Выводы:**\n",
    "- Исследовали корреляцию признаков и класса\n",
    "- - В одном датасете два признака довольно значимо коррелируют друг с другом;\n",
    "- - В двух датасетах (0.45 и 1.00) признак f2 коррелирует с классом;\n",
    "- Разбили данные на выборки train/valid в соотношении 75/25%.\n",
    "\n",
    "Данные готовы для построения моделей."
   ]
  },
  {
   "cell_type": "markdown",
   "metadata": {},
   "source": [
    "### Обучение моделей"
   ]
  },
  {
   "cell_type": "markdown",
   "metadata": {},
   "source": [
    "Для оценки качества моделей мы будем использовать метрику RMSE (квадратный корень из средней квадратичной ошибки).\n",
    "\n",
    "**Чем меньше RMSE, тем точнее предсказания модели.**"
   ]
  },
  {
   "cell_type": "code",
   "execution_count": 9,
   "metadata": {},
   "outputs": [
    {
     "name": "stdout",
     "output_type": "stream",
     "text": [
      "Результаты построения моделей Linear Regression по трём регионам:\n"
     ]
    },
    {
     "data": {
      "text/html": [
       "<style  type=\"text/css\" >\n",
       "</style><table id=\"T_7b6ee_\" ><thead>    <tr>        <th class=\"col_heading level0 col0\" >Регион</th>        <th class=\"col_heading level0 col1\" >Ошибка RMSE</th>        <th class=\"col_heading level0 col2\" >Ошибка тыс.баррелей (MAE)</th>    </tr></thead><tbody>\n",
       "                <tr>\n",
       "                                <td id=\"T_7b6ee_row0_col0\" class=\"data row0 col0\" >Регион #0</td>\n",
       "                        <td id=\"T_7b6ee_row0_col1\" class=\"data row0 col1\" >37.608124</td>\n",
       "                        <td id=\"T_7b6ee_row0_col2\" class=\"data row0 col2\" >30.970728</td>\n",
       "            </tr>\n",
       "            <tr>\n",
       "                                <td id=\"T_7b6ee_row1_col0\" class=\"data row1 col0\" >Регион #1</td>\n",
       "                        <td id=\"T_7b6ee_row1_col1\" class=\"data row1 col1\" >0.890515</td>\n",
       "                        <td id=\"T_7b6ee_row1_col2\" class=\"data row1 col2\" >0.717383</td>\n",
       "            </tr>\n",
       "            <tr>\n",
       "                                <td id=\"T_7b6ee_row2_col0\" class=\"data row2 col0\" >Регион #2</td>\n",
       "                        <td id=\"T_7b6ee_row2_col1\" class=\"data row2 col1\" >40.051121</td>\n",
       "                        <td id=\"T_7b6ee_row2_col2\" class=\"data row2 col2\" >32.784450</td>\n",
       "            </tr>\n",
       "    </tbody></table>"
      ],
      "text/plain": [
       "<pandas.io.formats.style.Styler at 0x7f66995fed30>"
      ]
     },
     "metadata": {},
     "output_type": "display_data"
    }
   ],
   "source": [
    "predicted_val = []\n",
    "df_data = []\n",
    "\n",
    "for i in range(len(data)):\n",
    "        \n",
    "    model = LinearRegression()\n",
    "    model.fit(features_train[i], target_train[i])\n",
    "    predicted = model.predict(features_val[i])\n",
    "    \n",
    "    mse = mean_squared_error(target_val[i], predicted)\n",
    "    rmse = mse ** 0.5\n",
    "    mae = mean_absolute_error(target_val[i], predicted)\n",
    "    \n",
    "    predicted = pd.Series(predicted,index=list(target_val[i].index))\n",
    "    \n",
    "    # делаем series и индекс из валид. таргет\n",
    "    predicted_val.append(predicted)\n",
    "    \n",
    "    df_data.append([\n",
    "        f'Регион #{i}',\n",
    "        rmse,\n",
    "        mae\n",
    "    ])\n",
    "\n",
    "df = pd.DataFrame(df_data, columns=['Регион','Ошибка RMSE','Ошибка тыс.баррелей (MAE)'])\n",
    "print('Результаты построения моделей Linear Regression по трём регионам:')\n",
    "display(df.style.hide_index())"
   ]
  },
  {
   "cell_type": "markdown",
   "metadata": {},
   "source": [
    "**Вывод:** построили модели для каждого региона, вывели ошибку RMSE и MAE, сохранили результаты.\n",
    "\n",
    "Как мы видим, минимальная ошибка во втором регионе, где, как мы помним, была 100% корреляция одного из признаков с классом."
   ]
  },
  {
   "cell_type": "markdown",
   "metadata": {},
   "source": [
    "## Подготовка к расчёту прибыли"
   ]
  },
  {
   "cell_type": "markdown",
   "metadata": {},
   "source": [
    "Нам необходимо рассчитать достаточный объём сырья для безубыточной разработки новой скважины.\n",
    "\n",
    "И сравнить полученный объём сырья со средним запасом в каждом регионе. \n",
    "\n",
    "**Условия задачи:**\n",
    "- При разведке региона исследуют 500 точек, из которых с помощью машинного обучения выбирают 200 лучших для разработки.\n",
    "- Бюджет на разработку скважин в регионе — 10 млрд рублей.\n",
    "- При нынешних ценах один баррель сырья приносит 450 рублей дохода. Доход с каждой единицы продукта составляет 450 тыс. рублей, поскольку объём указан в тысячах баррелей.\n",
    "- После оценки рисков нужно оставить лишь те регионы, в которых вероятность убытков меньше 2.5%. Среди них выбирают регион с наибольшей средней прибылью.\n",
    "\n",
    "Обозначим переменные:"
   ]
  },
  {
   "cell_type": "code",
   "execution_count": 10,
   "metadata": {},
   "outputs": [],
   "source": [
    "# кол-во точек\n",
    "tochek_find = 500\n",
    "tochek_budet = 200\n",
    "\n",
    "# 1 точка дохода *1000\n",
    "tochka_dohod = 450*1000\n",
    "\n",
    "# бюджет 10 млрд\n",
    "budget = 10**10"
   ]
  },
  {
   "cell_type": "markdown",
   "metadata": {},
   "source": [
    "Посчитаем сколько минимально нужно добывать из одной скважины, чтобы было безубыточно."
   ]
  },
  {
   "cell_type": "code",
   "execution_count": 11,
   "metadata": {},
   "outputs": [
    {
     "name": "stdout",
     "output_type": "stream",
     "text": [
      "Минимальный объём с одной скважины для безубыточной разработки: 111.11 тыс.бар.\n"
     ]
    }
   ],
   "source": [
    "tochka_minimum_objem = budget / (tochek_budet * tochka_dohod)\n",
    "print(f'Минимальный объём с одной скважины для безубыточной разработки: {tochka_minimum_objem:.2f} тыс.бар.')"
   ]
  },
  {
   "cell_type": "code",
   "execution_count": 12,
   "metadata": {},
   "outputs": [
    {
     "name": "stdout",
     "output_type": "stream",
     "text": [
      "Средний запас сырья в Регионе #0 равен 92.50 тыс.бар.\n",
      "Средний запас сырья в Регионе #1 равен 68.82 тыс.бар.\n",
      "Средний запас сырья в Регионе #2 равен 95.00 тыс.бар.\n"
     ]
    }
   ],
   "source": [
    "for i in range(len(data)):\n",
    "    _mean = data[i]['product'].mean()\n",
    "    print(f'Средний запас сырья в Регионе #{i} равен {_mean:.2f} тыс.бар.')"
   ]
  },
  {
   "cell_type": "markdown",
   "metadata": {},
   "source": [
    "**Вывод:**\n",
    "- Минимальный объём с одной скважины для безубыточной разработки: 111.11 тыс.бар.\n",
    "- Ни в одном регионе средний запас сырья (92.50,68.83,95.00 тыс.бар) не превышает минимальный нужный нам объем,<br/>значит нужно искать лучшие скважины."
   ]
  },
  {
   "cell_type": "code",
   "execution_count": 13,
   "metadata": {},
   "outputs": [],
   "source": [
    "# функции (хоть их и надо после import, но по инструкции в этом пункте)\n",
    "\n",
    "## функция расчета прибыли с N точек в регионе\n",
    "def model_profit(target_val, predicted, tochek_budet, tochka_dohod, budget):\n",
    "    if(list(target_val.index)!=list(predicted.index)):\n",
    "        print('Индексы не совпадают!')\n",
    "    if(len(target_val)!=len(predicted)):\n",
    "        print('Кол-ва не совпадают!')\n",
    "    \n",
    "    # сортируем наше предсказанное\n",
    "    predicted_sorted = predicted.sort_values(ascending=False)\n",
    "    # берем по нашим индексам из реальных\n",
    "    predicted_best_tochki = target_val[predicted_sorted.index][:tochek_budet]\n",
    "    # считаем прибыль\n",
    "    pred_sum = predicted_best_tochki.sum()\n",
    "    dohod = (tochka_dohod * pred_sum)\n",
    "    model_profit = dohod - budget\n",
    "    return model_profit\n",
    "\n",
    "## функиця бустрап\n",
    "def model_profits_bootstrap(target_val,predicted_val,tochek_find,tochek_budet,tochka_dohod,budget):\n",
    "    \n",
    "    np_randomstate = np.random.RandomState(randomstate)\n",
    "    \n",
    "    values = []\n",
    "\n",
    "    for i in range(1000):\n",
    "        \n",
    "        # делаем сэмплы по таргету\n",
    "        target_subsample = target_val.sample(n=tochek_find, replace=True, random_state=np_randomstate)\n",
    "        probs_subsample = predicted_val[target_subsample.index] \n",
    "        \n",
    "        # у нас могут быть дубли по индексу в predicted из-за сэмпла\n",
    "        # при этом по факту поиндексу строки совпадают, значит мы можем сбросить индекс\n",
    "        target_subsample.reset_index(drop=True,inplace=True)\n",
    "        probs_subsample.reset_index(drop=True,inplace=True)\n",
    "        \n",
    "        profit = model_profit(\n",
    "            target_subsample, # реальные данные из валидационной выборки\n",
    "            probs_subsample, # предсказанные моделью данные валид.\n",
    "            tochek_budet,\n",
    "            tochka_dohod,\n",
    "            budget\n",
    "        )\n",
    "        \n",
    "        values.append(profit)\n",
    "    \n",
    "    return pd.Series(values)"
   ]
  },
  {
   "cell_type": "markdown",
   "metadata": {},
   "source": [
    "## Расчёт прибыли и рисков "
   ]
  },
  {
   "cell_type": "markdown",
   "metadata": {},
   "source": [
    "**Посчитаем прибыль и риски для каждого региона.**"
   ]
  },
  {
   "cell_type": "code",
   "execution_count": 14,
   "metadata": {},
   "outputs": [
    {
     "data": {
      "application/vnd.jupyter.widget-view+json": {
       "model_id": "546775d6e58b4f558dcd121f72d8a0eb",
       "version_major": 2,
       "version_minor": 0
      },
      "text/plain": [
       "  0%|          | 0/3 [00:00<?, ?it/s]"
      ]
     },
     "metadata": {},
     "output_type": "display_data"
    }
   ],
   "source": [
    "pbar = tqdm(total=len(predicted_val))\n",
    "# считаем прибыли бутстрап\n",
    "profits_val = []\n",
    "\n",
    "for i in range(len(predicted_val)):\n",
    "    \n",
    "    profit = model_profits_bootstrap(\n",
    "        target_val[i],\n",
    "        predicted_val[i],\n",
    "        tochek_find,\n",
    "        tochek_budet,\n",
    "        tochka_dohod,\n",
    "        budget\n",
    "    )\n",
    "    profits_val.append(profit)\n",
    "    \n",
    "    pbar.update()\n",
    "pbar.close()"
   ]
  },
  {
   "cell_type": "code",
   "execution_count": 17,
   "metadata": {
    "scrolled": true
   },
   "outputs": [
    {
     "name": "stdout",
     "output_type": "stream",
     "text": [
      "Регион #0\n",
      "Средняя прибыль: 434652108.2688705\n",
      "95%-доверительный интервал: -98048976.35 , 98122340.840295\n",
      "Риски: 4.90%\n",
      "--------------------------------------------------\n",
      "\n",
      "Регион #1\n",
      "Средняя прибыль: 440680254.20268744\n",
      "95%-доверительный интервал: 23235652.79 , 178753895.616946\n",
      "Риски: 1.60%\n",
      "--------------------------------------------------\n",
      "\n",
      "Регион #2\n",
      "Средняя прибыль: 338503190.93763125\n",
      "95%-доверительный интервал: -164303397.69 , -6910848.415627\n",
      "Риски: 10.10%\n",
      "--------------------------------------------------\n",
      "\n"
     ]
    }
   ],
   "source": [
    "# выводим данные\n",
    "for i in range(len(profits_val)):\n",
    "    \n",
    "    print(f'Регион #{i}')\n",
    "    \n",
    "    low_95 = profits_val[i].quantile(0.025)\n",
    "    high_95 = profits_val[i].quantile(0.0975)\n",
    "    mean = profits_val[i].mean()\n",
    "    \n",
    "    riski = (profits_val[i] < 0).mean() * 100\n",
    "    \n",
    "    print(\"Средняя прибыль:\", mean)\n",
    "    print(f\"95%-доверительный интервал: {low_95:.2f} , {high_95:2f}\")\n",
    "    print(f\"Риски: {riski:.2f}%\")\n",
    "    \n",
    "    print('-'*50);print()"
   ]
  },
  {
   "cell_type": "markdown",
   "metadata": {},
   "source": [
    "**Вывод:**\n",
    "- Произвели расчет прибыли, рисков, 95% дов. интервалов по каждому региону.\n",
    "- Риски <2.5% только у одного региона 1. Его и выбираем, т.к. подходит под условия задачи."
   ]
  },
  {
   "cell_type": "markdown",
   "metadata": {},
   "source": [
    "## Общий вывод"
   ]
  },
  {
   "cell_type": "markdown",
   "metadata": {},
   "source": [
    "**1. Мы изучили цели и задачи проекта:**\n",
    "\n",
    "Вы работаете в добывающей компании «ГлавРосГосНефть». Нужно решить, где бурить новую скважину.<br/>Вам предоставлены пробы нефти в трёх регионах: в каждом 10 000 месторождений, где измерили качество нефти и объём её запасов. \n",
    "\n",
    "- Постройте модель машинного обучения, которая поможет определить регион, где добыча принесёт наибольшую прибыль.\n",
    "- Проанализируйте возможную прибыль и риски техникой *Bootstrap.*\n",
    "- После оценки рисков нужно оставить лишь те регионы, в которых вероятность убытков меньше 2.5%. Среди них выбирают регион с наибольшей средней прибылью.\n",
    "\n",
    "**2. Загрузили и подготовили данные:**\n",
    "- Во всех датасетах нет отсутствующих данных. Все признаки числовые.\n",
    "- В признаках значения распределены нормально, в классе тоже.\n",
    "- Обнаружили и обработали дубликаты по столбцу id (уник.идент.скважины).\n",
    "\n",
    "**3. Обучили и проверили модели по каждому региону:**\n",
    "- Подготовились к обучению:\n",
    "- - Проверили корреляцию признаков и класса (в двух датасетах (0.45 и 1.00) признак f2 коррелирует с классом);\n",
    "- - Подготовили выборки по каждому региону (75/25%) для обучающей и валидационной;\n",
    "- Обучили модели LinearRegression по каждому региону:\n",
    "- - По региону 0: Ошибка RMSE 37.6;\n",
    "- - По региону 1: Ошибка RMSE 0.90;\n",
    "- - По региону 2: Ошибка RMSE 40.0;\n",
    "- Сохранили результаты.\n",
    "\n",
    "**4. Подготовились к расчету прибыли:**\n",
    "- Проверили объемы добычи и определили:\n",
    "- - Минимальный объём с одной скважины для безубыточной разработки: 111.11 тыс.бар.\n",
    "- - Средний объем сырья ни в одном регионе не превышает минимальный, поэтому нужны лучшие скважины.\n",
    "- Определили переменные в соответствии с условиями задачи, такими как:\n",
    "- - Количество выбираемых скважин: 200 из 500;\n",
    "- - Доход с одной скважины: 450 тыс.\n",
    "- - Бюджет на всё: 10 млрд.\n",
    "- Написали функции для:\n",
    "- - Расчета прибыли по спрогнозированным значениям;\n",
    "- - Перебора (bootstrap) 1000 вариаций выборок 500 скважин\n",
    "\n",
    "**5. Рассчитали прибыль, риски, и выбрали регион:**\n",
    "- Посчитали прибыль и риски по каждому региону:\n",
    "- - По региону 0: Риски: 4.90%, Средняя прибыль: 434.7 млн;\n",
    "- - По региону 1: Риски: 1.60%, Средняя прибыль: 440.7 млн;\n",
    "- - По региону 2: Риски: 10.1%, Средняя прибыль: 338.5 млн;\n",
    "- Выбрали регион 1 (риски <2.5% только в этом регионе).\n",
    "\n",
    "**Общий вывод:**\n",
    "\n",
    "Рекомендуем к разработе Регион 1, с показателями:\n",
    "\n",
    "Средняя прибыль: 440.7 млн<br/>95%-дов. интервал: 23.2 млн. - 178.8 млн.<br/>Риски: 1.6%\n",
    "\n",
    "Что соответствует поставленным условиям задачи."
   ]
  },
  {
   "cell_type": "code",
   "execution_count": null,
   "metadata": {},
   "outputs": [],
   "source": []
  }
 ],
 "metadata": {
  "ExecuteTimeLog": [
   {
    "duration": 454,
    "start_time": "2023-02-10T09:06:29.448Z"
   },
   {
    "duration": 4,
    "start_time": "2023-02-10T09:06:53.522Z"
   },
   {
    "duration": 11,
    "start_time": "2023-02-10T09:06:56.818Z"
   },
   {
    "duration": 2,
    "start_time": "2023-02-10T09:07:28.561Z"
   },
   {
    "duration": 134,
    "start_time": "2023-02-10T09:09:42.945Z"
   },
   {
    "duration": 858,
    "start_time": "2023-02-10T09:10:35.247Z"
   },
   {
    "duration": 241,
    "start_time": "2023-02-10T09:10:42.864Z"
   },
   {
    "duration": 159,
    "start_time": "2023-02-10T09:10:48.625Z"
   },
   {
    "duration": 1126,
    "start_time": "2023-02-10T09:11:45.773Z"
   },
   {
    "duration": 646,
    "start_time": "2023-02-10T09:12:02.222Z"
   },
   {
    "duration": 751,
    "start_time": "2023-02-10T09:13:05.032Z"
   },
   {
    "duration": 3280,
    "start_time": "2023-02-10T09:15:25.150Z"
   },
   {
    "duration": 862,
    "start_time": "2023-02-10T09:15:39.089Z"
   },
   {
    "duration": 6,
    "start_time": "2023-02-10T09:16:00.125Z"
   },
   {
    "duration": 2886,
    "start_time": "2023-02-10T09:16:02.066Z"
   },
   {
    "duration": 221,
    "start_time": "2023-02-10T09:22:48.268Z"
   },
   {
    "duration": 2682,
    "start_time": "2023-02-10T09:22:54.004Z"
   },
   {
    "duration": 17,
    "start_time": "2023-02-10T09:23:32.935Z"
   },
   {
    "duration": 115,
    "start_time": "2023-02-10T09:25:36.524Z"
   },
   {
    "duration": 145,
    "start_time": "2023-02-10T09:25:44.455Z"
   },
   {
    "duration": 5,
    "start_time": "2023-02-10T09:27:16.241Z"
   },
   {
    "duration": 5,
    "start_time": "2023-02-10T09:27:43.778Z"
   },
   {
    "duration": 160,
    "start_time": "2023-02-10T09:27:44.140Z"
   },
   {
    "duration": 911,
    "start_time": "2023-02-10T09:27:53.896Z"
   },
   {
    "duration": 2558,
    "start_time": "2023-02-10T09:28:12.445Z"
   },
   {
    "duration": 2601,
    "start_time": "2023-02-10T09:30:32.929Z"
   },
   {
    "duration": 2697,
    "start_time": "2023-02-10T09:30:52.821Z"
   },
   {
    "duration": 2673,
    "start_time": "2023-02-10T09:31:18.264Z"
   },
   {
    "duration": 2664,
    "start_time": "2023-02-10T09:31:30.120Z"
   },
   {
    "duration": 4,
    "start_time": "2023-02-10T09:31:54.382Z"
   },
   {
    "duration": 30,
    "start_time": "2023-02-10T09:31:54.406Z"
   },
   {
    "duration": 2260,
    "start_time": "2023-02-10T09:31:54.527Z"
   },
   {
    "duration": 27,
    "start_time": "2023-02-10T09:31:56.793Z"
   },
   {
    "duration": 116,
    "start_time": "2023-02-10T09:31:56.822Z"
   },
   {
    "duration": 3,
    "start_time": "2023-02-10T09:31:56.941Z"
   },
   {
    "duration": 2057,
    "start_time": "2023-02-10T09:31:56.946Z"
   },
   {
    "duration": 762,
    "start_time": "2023-02-10T09:36:28.362Z"
   },
   {
    "duration": 10,
    "start_time": "2023-02-10T09:39:36.320Z"
   },
   {
    "duration": 1957,
    "start_time": "2023-02-10T09:42:48.829Z"
   },
   {
    "duration": 2148,
    "start_time": "2023-02-10T09:43:04.353Z"
   },
   {
    "duration": 1949,
    "start_time": "2023-02-10T09:43:12.027Z"
   },
   {
    "duration": 355,
    "start_time": "2023-02-10T09:43:54.378Z"
   },
   {
    "duration": 88,
    "start_time": "2023-02-10T09:44:09.933Z"
   },
   {
    "duration": 1220,
    "start_time": "2023-02-10T09:44:14.120Z"
   },
   {
    "duration": 216,
    "start_time": "2023-02-10T09:55:35.017Z"
   },
   {
    "duration": 2282,
    "start_time": "2023-02-10T09:56:20.137Z"
   },
   {
    "duration": 15,
    "start_time": "2023-02-10T09:56:22.425Z"
   },
   {
    "duration": 101,
    "start_time": "2023-02-10T09:56:22.442Z"
   },
   {
    "duration": 4,
    "start_time": "2023-02-10T09:56:22.544Z"
   },
   {
    "duration": 2259,
    "start_time": "2023-02-10T09:56:22.551Z"
   },
   {
    "duration": 1141,
    "start_time": "2023-02-10T09:56:24.812Z"
   },
   {
    "duration": 5,
    "start_time": "2023-02-10T09:59:22.264Z"
   },
   {
    "duration": 25,
    "start_time": "2023-02-10T10:01:17.725Z"
   },
   {
    "duration": 30,
    "start_time": "2023-02-10T10:02:23.416Z"
   },
   {
    "duration": 6,
    "start_time": "2023-02-10T10:02:54.136Z"
   },
   {
    "duration": 2,
    "start_time": "2023-02-10T10:02:54.160Z"
   },
   {
    "duration": 2081,
    "start_time": "2023-02-10T10:02:54.289Z"
   },
   {
    "duration": 24,
    "start_time": "2023-02-10T10:02:56.372Z"
   },
   {
    "duration": 122,
    "start_time": "2023-02-10T10:02:56.407Z"
   },
   {
    "duration": 3,
    "start_time": "2023-02-10T10:02:56.531Z"
   },
   {
    "duration": 1921,
    "start_time": "2023-02-10T10:02:56.536Z"
   },
   {
    "duration": 1112,
    "start_time": "2023-02-10T10:03:00.022Z"
   },
   {
    "duration": 143,
    "start_time": "2023-02-10T10:03:32.381Z"
   },
   {
    "duration": 17,
    "start_time": "2023-02-10T10:03:40.677Z"
   },
   {
    "duration": 5,
    "start_time": "2023-02-10T10:03:46.370Z"
   },
   {
    "duration": 42,
    "start_time": "2023-02-10T10:05:18.924Z"
   },
   {
    "duration": 22,
    "start_time": "2023-02-10T10:12:48.542Z"
   },
   {
    "duration": 4,
    "start_time": "2023-02-10T10:13:01.080Z"
   },
   {
    "duration": 14,
    "start_time": "2023-02-10T10:13:02.421Z"
   },
   {
    "duration": 5,
    "start_time": "2023-02-10T10:13:08.787Z"
   },
   {
    "duration": 5,
    "start_time": "2023-02-10T10:13:26.064Z"
   },
   {
    "duration": 10,
    "start_time": "2023-02-10T10:13:38.913Z"
   },
   {
    "duration": 10,
    "start_time": "2023-02-10T10:13:40.721Z"
   },
   {
    "duration": 29,
    "start_time": "2023-02-10T10:14:06.786Z"
   },
   {
    "duration": 528,
    "start_time": "2023-02-10T10:15:24.058Z"
   },
   {
    "duration": 2754,
    "start_time": "2023-02-10T10:15:31.823Z"
   },
   {
    "duration": 2785,
    "start_time": "2023-02-10T10:15:52.630Z"
   },
   {
    "duration": 2808,
    "start_time": "2023-02-10T10:17:06.721Z"
   },
   {
    "duration": 12,
    "start_time": "2023-02-10T10:18:10.853Z"
   },
   {
    "duration": 11,
    "start_time": "2023-02-10T10:18:18.559Z"
   },
   {
    "duration": 14,
    "start_time": "2023-02-10T10:18:25.337Z"
   },
   {
    "duration": 2547,
    "start_time": "2023-02-10T10:19:05.924Z"
   },
   {
    "duration": 67,
    "start_time": "2023-02-10T10:20:11.978Z"
   },
   {
    "duration": 2517,
    "start_time": "2023-02-10T10:20:24.254Z"
   },
   {
    "duration": 2495,
    "start_time": "2023-02-10T10:21:19.513Z"
   },
   {
    "duration": 18,
    "start_time": "2023-02-10T10:52:50.064Z"
   },
   {
    "duration": 74,
    "start_time": "2023-02-10T10:52:58.424Z"
   },
   {
    "duration": 54,
    "start_time": "2023-02-10T10:53:01.593Z"
   },
   {
    "duration": 23,
    "start_time": "2023-02-10T10:56:22.683Z"
   },
   {
    "duration": 210,
    "start_time": "2023-02-10T10:57:13.685Z"
   },
   {
    "duration": 189,
    "start_time": "2023-02-10T10:58:01.415Z"
   },
   {
    "duration": 139,
    "start_time": "2023-02-10T10:58:38.963Z"
   },
   {
    "duration": 83,
    "start_time": "2023-02-10T10:58:44.520Z"
   },
   {
    "duration": 222,
    "start_time": "2023-02-10T10:58:57.185Z"
   },
   {
    "duration": 9,
    "start_time": "2023-02-10T11:10:09.501Z"
   },
   {
    "duration": 48,
    "start_time": "2023-02-10T11:11:47.938Z"
   },
   {
    "duration": 324,
    "start_time": "2023-02-10T11:11:53.294Z"
   },
   {
    "duration": 6,
    "start_time": "2023-02-10T11:12:56.794Z"
   },
   {
    "duration": 4,
    "start_time": "2023-02-10T11:13:01.260Z"
   },
   {
    "duration": 5,
    "start_time": "2023-02-10T11:13:06.671Z"
   },
   {
    "duration": 48,
    "start_time": "2023-02-10T11:13:16.225Z"
   },
   {
    "duration": 287,
    "start_time": "2023-02-10T11:16:47.614Z"
   },
   {
    "duration": 149,
    "start_time": "2023-02-10T11:17:14.759Z"
   },
   {
    "duration": 199,
    "start_time": "2023-02-10T11:17:28.919Z"
   },
   {
    "duration": 280,
    "start_time": "2023-02-10T11:17:49.442Z"
   },
   {
    "duration": 4,
    "start_time": "2023-02-10T11:19:25.727Z"
   },
   {
    "duration": 2377,
    "start_time": "2023-02-10T11:22:26.281Z"
   },
   {
    "duration": 190,
    "start_time": "2023-02-10T11:22:30.931Z"
   },
   {
    "duration": 33,
    "start_time": "2023-02-10T12:43:42.380Z"
   },
   {
    "duration": 2129,
    "start_time": "2023-02-10T12:43:49.722Z"
   },
   {
    "duration": 6,
    "start_time": "2023-02-10T12:44:29.732Z"
   },
   {
    "duration": 4,
    "start_time": "2023-02-10T12:44:40.692Z"
   },
   {
    "duration": 5,
    "start_time": "2023-02-10T12:44:44.258Z"
   },
   {
    "duration": 4,
    "start_time": "2023-02-10T12:45:26.578Z"
   },
   {
    "duration": 4,
    "start_time": "2023-02-10T12:45:31.033Z"
   },
   {
    "duration": 4,
    "start_time": "2023-02-10T12:46:42.430Z"
   },
   {
    "duration": 8,
    "start_time": "2023-02-10T12:46:46.522Z"
   },
   {
    "duration": 3,
    "start_time": "2023-02-10T12:46:49.650Z"
   },
   {
    "duration": 13,
    "start_time": "2023-02-10T12:46:56.716Z"
   },
   {
    "duration": 3,
    "start_time": "2023-02-10T12:47:01.673Z"
   },
   {
    "duration": 7,
    "start_time": "2023-02-10T12:47:02.245Z"
   },
   {
    "duration": 7,
    "start_time": "2023-02-10T12:48:26.486Z"
   },
   {
    "duration": 17,
    "start_time": "2023-02-10T12:48:54.806Z"
   },
   {
    "duration": 2,
    "start_time": "2023-02-10T12:48:57.990Z"
   },
   {
    "duration": 8,
    "start_time": "2023-02-10T12:48:58.236Z"
   },
   {
    "duration": 6,
    "start_time": "2023-02-10T12:49:31.057Z"
   },
   {
    "duration": 2361,
    "start_time": "2023-02-10T12:50:40.257Z"
   },
   {
    "duration": 182,
    "start_time": "2023-02-10T12:50:42.619Z"
   },
   {
    "duration": 3,
    "start_time": "2023-02-10T12:54:35.473Z"
   },
   {
    "duration": 2,
    "start_time": "2023-02-10T12:54:43.423Z"
   },
   {
    "duration": 3,
    "start_time": "2023-02-10T12:54:48.513Z"
   },
   {
    "duration": 3,
    "start_time": "2023-02-10T12:54:51.566Z"
   },
   {
    "duration": 4,
    "start_time": "2023-02-10T12:54:52.841Z"
   },
   {
    "duration": 2,
    "start_time": "2023-02-10T12:55:00.663Z"
   },
   {
    "duration": 4,
    "start_time": "2023-02-10T12:55:01.241Z"
   },
   {
    "duration": 4,
    "start_time": "2023-02-10T12:55:15.511Z"
   },
   {
    "duration": 5,
    "start_time": "2023-02-10T12:55:16.772Z"
   },
   {
    "duration": 3,
    "start_time": "2023-02-10T13:01:36.048Z"
   },
   {
    "duration": 3,
    "start_time": "2023-02-10T13:03:46.916Z"
   },
   {
    "duration": 3,
    "start_time": "2023-02-10T13:03:47.219Z"
   },
   {
    "duration": 9,
    "start_time": "2023-02-10T13:04:48.552Z"
   },
   {
    "duration": 4,
    "start_time": "2023-02-10T13:04:52.118Z"
   },
   {
    "duration": 4,
    "start_time": "2023-02-10T13:04:53.186Z"
   },
   {
    "duration": 3,
    "start_time": "2023-02-10T13:05:51.319Z"
   },
   {
    "duration": 3,
    "start_time": "2023-02-10T13:06:10.835Z"
   },
   {
    "duration": 4,
    "start_time": "2023-02-10T13:06:23.677Z"
   },
   {
    "duration": 4,
    "start_time": "2023-02-10T13:06:33.989Z"
   },
   {
    "duration": 4,
    "start_time": "2023-02-10T13:06:54.231Z"
   },
   {
    "duration": 6,
    "start_time": "2023-02-10T13:15:49.788Z"
   },
   {
    "duration": 5,
    "start_time": "2023-02-10T13:17:27.768Z"
   },
   {
    "duration": 137,
    "start_time": "2023-02-10T13:30:49.666Z"
   },
   {
    "duration": 3,
    "start_time": "2023-02-10T13:31:03.867Z"
   },
   {
    "duration": 4,
    "start_time": "2023-02-10T13:31:05.638Z"
   },
   {
    "duration": 7,
    "start_time": "2023-02-10T13:31:06.228Z"
   },
   {
    "duration": 4,
    "start_time": "2023-02-10T13:31:40.768Z"
   },
   {
    "duration": 5,
    "start_time": "2023-02-10T13:31:53.521Z"
   },
   {
    "duration": 3,
    "start_time": "2023-02-10T13:36:34.564Z"
   },
   {
    "duration": 19,
    "start_time": "2023-02-10T13:39:18.788Z"
   },
   {
    "duration": 4,
    "start_time": "2023-02-10T13:39:32.809Z"
   },
   {
    "duration": 14,
    "start_time": "2023-02-10T13:39:34.521Z"
   },
   {
    "duration": 4,
    "start_time": "2023-02-10T13:40:51.951Z"
   },
   {
    "duration": 14,
    "start_time": "2023-02-10T13:40:53.668Z"
   },
   {
    "duration": 5,
    "start_time": "2023-02-10T13:41:03.388Z"
   },
   {
    "duration": 15,
    "start_time": "2023-02-10T13:41:06.337Z"
   },
   {
    "duration": 148,
    "start_time": "2023-02-10T13:42:01.247Z"
   },
   {
    "duration": 3,
    "start_time": "2023-02-10T13:42:04.890Z"
   },
   {
    "duration": 3,
    "start_time": "2023-02-10T13:42:05.817Z"
   },
   {
    "duration": 5,
    "start_time": "2023-02-10T13:42:06.079Z"
   },
   {
    "duration": 4,
    "start_time": "2023-02-10T13:42:12.166Z"
   },
   {
    "duration": 20,
    "start_time": "2023-02-10T13:42:12.752Z"
   },
   {
    "duration": 19,
    "start_time": "2023-02-10T13:42:30.748Z"
   },
   {
    "duration": 4,
    "start_time": "2023-02-10T13:42:57.009Z"
   },
   {
    "duration": 21,
    "start_time": "2023-02-10T13:42:57.166Z"
   },
   {
    "duration": 3,
    "start_time": "2023-02-10T13:43:20.973Z"
   },
   {
    "duration": 22,
    "start_time": "2023-02-10T13:43:21.316Z"
   },
   {
    "duration": 4,
    "start_time": "2023-02-10T13:46:00.386Z"
   },
   {
    "duration": 22,
    "start_time": "2023-02-10T13:46:00.998Z"
   },
   {
    "duration": 3,
    "start_time": "2023-02-10T13:46:37.744Z"
   },
   {
    "duration": 4,
    "start_time": "2023-02-10T13:47:29.686Z"
   },
   {
    "duration": 9,
    "start_time": "2023-02-10T13:47:36.821Z"
   },
   {
    "duration": 3,
    "start_time": "2023-02-10T13:48:12.836Z"
   },
   {
    "duration": 21,
    "start_time": "2023-02-10T13:48:13.779Z"
   },
   {
    "duration": 5,
    "start_time": "2023-02-10T13:48:23.748Z"
   },
   {
    "duration": 19,
    "start_time": "2023-02-10T13:48:25.347Z"
   },
   {
    "duration": 4,
    "start_time": "2023-02-10T13:48:46.052Z"
   },
   {
    "duration": 19,
    "start_time": "2023-02-10T13:48:46.759Z"
   },
   {
    "duration": 4,
    "start_time": "2023-02-10T13:53:58.758Z"
   },
   {
    "duration": 20,
    "start_time": "2023-02-10T13:53:59.948Z"
   },
   {
    "duration": 7,
    "start_time": "2023-02-10T13:54:46.891Z"
   },
   {
    "duration": 1321,
    "start_time": "2023-02-10T13:55:17.037Z"
   },
   {
    "duration": 2,
    "start_time": "2023-02-10T13:55:18.360Z"
   },
   {
    "duration": 2068,
    "start_time": "2023-02-10T13:55:18.366Z"
   },
   {
    "duration": 13,
    "start_time": "2023-02-10T13:55:20.436Z"
   },
   {
    "duration": 108,
    "start_time": "2023-02-10T13:55:20.451Z"
   },
   {
    "duration": 4,
    "start_time": "2023-02-10T13:55:20.560Z"
   },
   {
    "duration": 2272,
    "start_time": "2023-02-10T13:55:20.566Z"
   },
   {
    "duration": 1033,
    "start_time": "2023-02-10T13:55:22.840Z"
   },
   {
    "duration": 47,
    "start_time": "2023-02-10T13:55:23.875Z"
   },
   {
    "duration": 2369,
    "start_time": "2023-02-10T13:55:23.924Z"
   },
   {
    "duration": 333,
    "start_time": "2023-02-10T13:55:26.296Z"
   },
   {
    "duration": 3,
    "start_time": "2023-02-10T13:55:26.631Z"
   },
   {
    "duration": 95,
    "start_time": "2023-02-10T13:55:26.639Z"
   },
   {
    "duration": 10,
    "start_time": "2023-02-10T13:55:26.736Z"
   },
   {
    "duration": 4,
    "start_time": "2023-02-10T13:55:26.747Z"
   },
   {
    "duration": 51,
    "start_time": "2023-02-10T13:55:26.752Z"
   },
   {
    "duration": 8,
    "start_time": "2023-02-10T13:55:26.805Z"
   },
   {
    "duration": 278,
    "start_time": "2023-02-10T13:56:18.408Z"
   },
   {
    "duration": 141,
    "start_time": "2023-02-10T13:56:26.458Z"
   },
   {
    "duration": 4,
    "start_time": "2023-02-10T13:56:40.553Z"
   },
   {
    "duration": 50,
    "start_time": "2023-02-10T13:58:17.977Z"
   },
   {
    "duration": 3,
    "start_time": "2023-02-10T13:58:24.602Z"
   },
   {
    "duration": 3,
    "start_time": "2023-02-10T13:58:33.190Z"
   },
   {
    "duration": 129,
    "start_time": "2023-02-10T14:00:46.672Z"
   },
   {
    "duration": 3,
    "start_time": "2023-02-10T14:00:50.928Z"
   },
   {
    "duration": 4,
    "start_time": "2023-02-10T14:00:51.634Z"
   },
   {
    "duration": 5,
    "start_time": "2023-02-10T14:00:51.920Z"
   },
   {
    "duration": 4,
    "start_time": "2023-02-10T14:00:56.608Z"
   },
   {
    "duration": 18,
    "start_time": "2023-02-10T14:01:04.907Z"
   },
   {
    "duration": 142,
    "start_time": "2023-02-10T14:02:02.155Z"
   },
   {
    "duration": 5,
    "start_time": "2023-02-10T14:02:04.698Z"
   },
   {
    "duration": 3,
    "start_time": "2023-02-10T14:02:05.849Z"
   },
   {
    "duration": 6,
    "start_time": "2023-02-10T14:02:06.072Z"
   },
   {
    "duration": 4,
    "start_time": "2023-02-10T14:02:07.415Z"
   },
   {
    "duration": 26,
    "start_time": "2023-02-10T14:02:07.684Z"
   },
   {
    "duration": 369,
    "start_time": "2023-02-10T14:02:42.926Z"
   },
   {
    "duration": 142,
    "start_time": "2023-02-10T14:03:18.456Z"
   },
   {
    "duration": 390,
    "start_time": "2023-02-10T14:04:48.706Z"
   },
   {
    "duration": 328,
    "start_time": "2023-02-10T14:05:09.677Z"
   },
   {
    "duration": 330,
    "start_time": "2023-02-10T14:05:53.366Z"
   },
   {
    "duration": 3,
    "start_time": "2023-02-10T14:05:59.654Z"
   },
   {
    "duration": 3,
    "start_time": "2023-02-10T14:06:00.836Z"
   },
   {
    "duration": 5,
    "start_time": "2023-02-10T14:06:01.021Z"
   },
   {
    "duration": 4,
    "start_time": "2023-02-10T14:06:20.138Z"
   },
   {
    "duration": 32,
    "start_time": "2023-02-10T14:06:20.789Z"
   },
   {
    "duration": 3,
    "start_time": "2023-02-10T14:06:35.862Z"
   },
   {
    "duration": 18,
    "start_time": "2023-02-10T14:06:36.364Z"
   },
   {
    "duration": 5,
    "start_time": "2023-02-10T14:07:55.177Z"
   },
   {
    "duration": 32,
    "start_time": "2023-02-10T14:10:31.849Z"
   },
   {
    "duration": 390,
    "start_time": "2023-02-10T14:10:55.406Z"
   },
   {
    "duration": 3,
    "start_time": "2023-02-10T14:11:00.473Z"
   },
   {
    "duration": 3,
    "start_time": "2023-02-10T14:11:00.936Z"
   },
   {
    "duration": 5,
    "start_time": "2023-02-10T14:11:02.936Z"
   },
   {
    "duration": 3,
    "start_time": "2023-02-10T14:11:04.739Z"
   },
   {
    "duration": 18,
    "start_time": "2023-02-10T14:11:06.128Z"
   },
   {
    "duration": 1200,
    "start_time": "2023-02-10T14:11:13.546Z"
   },
   {
    "duration": 35,
    "start_time": "2023-02-10T14:11:15.463Z"
   },
   {
    "duration": 2367,
    "start_time": "2023-02-10T14:11:17.333Z"
   },
   {
    "duration": 3,
    "start_time": "2023-02-10T14:12:34.328Z"
   },
   {
    "duration": 1477,
    "start_time": "2023-02-10T14:12:39.288Z"
   },
   {
    "duration": 2,
    "start_time": "2023-02-10T14:12:40.768Z"
   },
   {
    "duration": 2324,
    "start_time": "2023-02-10T14:12:40.773Z"
   },
   {
    "duration": 20,
    "start_time": "2023-02-10T14:12:43.100Z"
   },
   {
    "duration": 114,
    "start_time": "2023-02-10T14:12:43.122Z"
   },
   {
    "duration": 4,
    "start_time": "2023-02-10T14:12:43.238Z"
   },
   {
    "duration": 2131,
    "start_time": "2023-02-10T14:12:43.243Z"
   },
   {
    "duration": 1286,
    "start_time": "2023-02-10T14:12:45.376Z"
   },
   {
    "duration": 61,
    "start_time": "2023-02-10T14:12:46.664Z"
   },
   {
    "duration": 2607,
    "start_time": "2023-02-10T14:12:46.729Z"
   },
   {
    "duration": 402,
    "start_time": "2023-02-10T14:12:49.338Z"
   },
   {
    "duration": 3,
    "start_time": "2023-02-10T14:12:49.742Z"
   },
   {
    "duration": 70,
    "start_time": "2023-02-10T14:12:49.746Z"
   },
   {
    "duration": 9,
    "start_time": "2023-02-10T14:12:49.818Z"
   },
   {
    "duration": 5,
    "start_time": "2023-02-10T14:12:49.830Z"
   },
   {
    "duration": 6,
    "start_time": "2023-02-10T14:12:49.837Z"
   },
   {
    "duration": 28,
    "start_time": "2023-02-10T14:12:49.845Z"
   },
   {
    "duration": 9,
    "start_time": "2023-02-10T14:12:49.875Z"
   },
   {
    "duration": 1361,
    "start_time": "2023-02-10T14:14:16.478Z"
   },
   {
    "duration": 2,
    "start_time": "2023-02-10T14:14:17.842Z"
   },
   {
    "duration": 2387,
    "start_time": "2023-02-10T14:14:17.845Z"
   },
   {
    "duration": 65,
    "start_time": "2023-02-10T14:14:20.234Z"
   },
   {
    "duration": 211,
    "start_time": "2023-02-10T14:14:20.302Z"
   },
   {
    "duration": 3,
    "start_time": "2023-02-10T14:14:20.515Z"
   },
   {
    "duration": 2530,
    "start_time": "2023-02-10T14:14:20.519Z"
   },
   {
    "duration": 1124,
    "start_time": "2023-02-10T14:14:23.051Z"
   },
   {
    "duration": 59,
    "start_time": "2023-02-10T14:14:24.177Z"
   },
   {
    "duration": 2985,
    "start_time": "2023-02-10T14:14:24.238Z"
   },
   {
    "duration": 597,
    "start_time": "2023-02-10T14:14:27.224Z"
   },
   {
    "duration": 3,
    "start_time": "2023-02-10T14:14:27.822Z"
   },
   {
    "duration": 7,
    "start_time": "2023-02-10T14:14:27.826Z"
   },
   {
    "duration": 7,
    "start_time": "2023-02-10T14:14:27.835Z"
   },
   {
    "duration": 54,
    "start_time": "2023-02-10T14:14:27.843Z"
   },
   {
    "duration": 15,
    "start_time": "2023-02-10T14:14:27.900Z"
   },
   {
    "duration": 26,
    "start_time": "2023-02-10T14:14:27.917Z"
   },
   {
    "duration": 51,
    "start_time": "2023-02-10T14:14:27.945Z"
   },
   {
    "duration": 2246,
    "start_time": "2023-02-10T14:14:59.178Z"
   },
   {
    "duration": 41,
    "start_time": "2023-02-10T14:16:12.532Z"
   },
   {
    "duration": 2427,
    "start_time": "2023-02-10T14:16:13.458Z"
   },
   {
    "duration": 247,
    "start_time": "2023-02-10T14:16:22.849Z"
   },
   {
    "duration": 3,
    "start_time": "2023-02-10T14:16:25.545Z"
   },
   {
    "duration": 4,
    "start_time": "2023-02-10T14:16:28.561Z"
   },
   {
    "duration": 7,
    "start_time": "2023-02-10T14:16:29.606Z"
   },
   {
    "duration": 3,
    "start_time": "2023-02-10T14:16:42.719Z"
   },
   {
    "duration": 30,
    "start_time": "2023-02-10T14:16:47.352Z"
   },
   {
    "duration": 4,
    "start_time": "2023-02-10T14:17:11.956Z"
   },
   {
    "duration": 21,
    "start_time": "2023-02-10T14:17:12.336Z"
   },
   {
    "duration": 3,
    "start_time": "2023-02-10T14:17:39.217Z"
   },
   {
    "duration": 21,
    "start_time": "2023-02-10T14:17:40.719Z"
   },
   {
    "duration": 4,
    "start_time": "2023-02-10T14:17:59.491Z"
   },
   {
    "duration": 23,
    "start_time": "2023-02-10T14:18:00.012Z"
   },
   {
    "duration": 4,
    "start_time": "2023-02-10T14:18:20.160Z"
   },
   {
    "duration": 63,
    "start_time": "2023-02-10T14:18:20.353Z"
   },
   {
    "duration": 4,
    "start_time": "2023-02-10T14:18:29.031Z"
   },
   {
    "duration": 21,
    "start_time": "2023-02-10T14:18:29.327Z"
   },
   {
    "duration": 63,
    "start_time": "2023-02-10T14:18:46.665Z"
   },
   {
    "duration": 3,
    "start_time": "2023-02-10T14:18:52.857Z"
   },
   {
    "duration": 25,
    "start_time": "2023-02-10T14:18:54.087Z"
   },
   {
    "duration": 4,
    "start_time": "2023-02-10T14:19:48.889Z"
   },
   {
    "duration": 17,
    "start_time": "2023-02-10T14:19:49.181Z"
   },
   {
    "duration": 4,
    "start_time": "2023-02-10T14:19:53.245Z"
   },
   {
    "duration": 19,
    "start_time": "2023-02-10T14:19:53.750Z"
   },
   {
    "duration": 8,
    "start_time": "2023-02-10T14:33:01.506Z"
   },
   {
    "duration": 4,
    "start_time": "2023-02-10T14:35:20.280Z"
   },
   {
    "duration": 5,
    "start_time": "2023-02-10T14:36:41.486Z"
   },
   {
    "duration": 115,
    "start_time": "2023-02-10T14:37:05.854Z"
   },
   {
    "duration": 5,
    "start_time": "2023-02-10T14:37:08.906Z"
   },
   {
    "duration": 20,
    "start_time": "2023-02-10T14:37:11.118Z"
   },
   {
    "duration": 6,
    "start_time": "2023-02-10T14:37:19.489Z"
   },
   {
    "duration": 4549,
    "start_time": "2023-02-10T14:37:19.991Z"
   },
   {
    "duration": 8,
    "start_time": "2023-02-10T14:37:34.165Z"
   },
   {
    "duration": 4593,
    "start_time": "2023-02-10T14:37:35.118Z"
   },
   {
    "duration": 13326,
    "start_time": "2023-02-10T14:37:55.547Z"
   },
   {
    "duration": 1360,
    "start_time": "2023-02-10T14:38:28.087Z"
   },
   {
    "duration": 2,
    "start_time": "2023-02-10T14:38:29.449Z"
   },
   {
    "duration": 3192,
    "start_time": "2023-02-10T14:38:29.452Z"
   },
   {
    "duration": 15,
    "start_time": "2023-02-10T14:38:32.645Z"
   },
   {
    "duration": 100,
    "start_time": "2023-02-10T14:38:32.662Z"
   },
   {
    "duration": 3,
    "start_time": "2023-02-10T14:38:32.764Z"
   },
   {
    "duration": 1803,
    "start_time": "2023-02-10T14:38:32.769Z"
   },
   {
    "duration": 1182,
    "start_time": "2023-02-10T14:38:34.574Z"
   },
   {
    "duration": 53,
    "start_time": "2023-02-10T14:38:35.758Z"
   },
   {
    "duration": 2306,
    "start_time": "2023-02-10T14:38:35.813Z"
   },
   {
    "duration": 415,
    "start_time": "2023-02-10T14:38:38.120Z"
   },
   {
    "duration": 3,
    "start_time": "2023-02-10T14:38:38.536Z"
   },
   {
    "duration": 6,
    "start_time": "2023-02-10T14:38:38.541Z"
   },
   {
    "duration": 8,
    "start_time": "2023-02-10T14:38:38.550Z"
   },
   {
    "duration": 128,
    "start_time": "2023-02-10T14:38:38.560Z"
   },
   {
    "duration": 0,
    "start_time": "2023-02-10T14:38:38.689Z"
   },
   {
    "duration": 0,
    "start_time": "2023-02-10T14:38:38.693Z"
   },
   {
    "duration": 0,
    "start_time": "2023-02-10T14:38:38.694Z"
   },
   {
    "duration": 6,
    "start_time": "2023-02-10T14:38:42.621Z"
   },
   {
    "duration": 13379,
    "start_time": "2023-02-10T14:38:42.768Z"
   },
   {
    "duration": 4,
    "start_time": "2023-02-10T14:39:03.775Z"
   },
   {
    "duration": 12218,
    "start_time": "2023-02-10T14:42:00.359Z"
   },
   {
    "duration": 12282,
    "start_time": "2023-02-10T14:42:34.281Z"
   },
   {
    "duration": 16,
    "start_time": "2023-02-10T14:43:39.198Z"
   },
   {
    "duration": 12458,
    "start_time": "2023-02-10T14:44:19.100Z"
   },
   {
    "duration": 11,
    "start_time": "2023-02-10T14:44:31.560Z"
   },
   {
    "duration": 10,
    "start_time": "2023-02-10T14:44:57.364Z"
   },
   {
    "duration": 11,
    "start_time": "2023-02-10T14:48:24.268Z"
   },
   {
    "duration": 5,
    "start_time": "2023-02-10T14:50:14.402Z"
   },
   {
    "duration": 120,
    "start_time": "2023-02-10T14:50:15.564Z"
   },
   {
    "duration": 5,
    "start_time": "2023-02-10T14:51:07.919Z"
   },
   {
    "duration": 38,
    "start_time": "2023-02-10T14:51:09.377Z"
   },
   {
    "duration": 13,
    "start_time": "2023-02-10T14:51:11.564Z"
   },
   {
    "duration": 6,
    "start_time": "2023-02-10T14:52:35.667Z"
   },
   {
    "duration": 45,
    "start_time": "2023-02-10T14:52:35.941Z"
   },
   {
    "duration": 12,
    "start_time": "2023-02-10T14:52:36.812Z"
   },
   {
    "duration": 6,
    "start_time": "2023-02-10T14:52:47.002Z"
   },
   {
    "duration": 2884,
    "start_time": "2023-02-10T14:52:48.164Z"
   },
   {
    "duration": 12,
    "start_time": "2023-02-10T14:52:51.739Z"
   },
   {
    "duration": 12,
    "start_time": "2023-02-10T14:53:00.325Z"
   },
   {
    "duration": 3165,
    "start_time": "2023-02-10T14:53:02.299Z"
   },
   {
    "duration": 11,
    "start_time": "2023-02-10T14:53:05.466Z"
   },
   {
    "duration": 6,
    "start_time": "2023-02-10T14:53:37.179Z"
   },
   {
    "duration": 5,
    "start_time": "2023-02-10T14:54:29.430Z"
   },
   {
    "duration": 32,
    "start_time": "2023-02-10T14:54:34.562Z"
   },
   {
    "duration": 5,
    "start_time": "2023-02-10T14:54:43.766Z"
   },
   {
    "duration": 2895,
    "start_time": "2023-02-10T14:54:44.464Z"
   },
   {
    "duration": 11,
    "start_time": "2023-02-10T14:54:47.361Z"
   },
   {
    "duration": 12,
    "start_time": "2023-02-10T14:54:49.634Z"
   },
   {
    "duration": 7,
    "start_time": "2023-02-10T14:55:40.182Z"
   },
   {
    "duration": 11,
    "start_time": "2023-02-10T14:57:47.968Z"
   },
   {
    "duration": 12,
    "start_time": "2023-02-10T14:59:03.319Z"
   },
   {
    "duration": 1370,
    "start_time": "2023-02-10T15:00:12.061Z"
   },
   {
    "duration": 2,
    "start_time": "2023-02-10T15:00:13.436Z"
   },
   {
    "duration": 2192,
    "start_time": "2023-02-10T15:00:13.974Z"
   },
   {
    "duration": 14,
    "start_time": "2023-02-10T15:00:23.798Z"
   },
   {
    "duration": 84,
    "start_time": "2023-02-10T15:00:24.980Z"
   },
   {
    "duration": 3,
    "start_time": "2023-02-10T15:00:25.972Z"
   },
   {
    "duration": 1649,
    "start_time": "2023-02-10T15:00:26.564Z"
   },
   {
    "duration": 1020,
    "start_time": "2023-02-10T15:00:30.520Z"
   },
   {
    "duration": 39,
    "start_time": "2023-02-10T15:00:36.564Z"
   },
   {
    "duration": 602,
    "start_time": "2023-02-10T15:00:53.430Z"
   },
   {
    "duration": 513,
    "start_time": "2023-02-10T15:01:57.285Z"
   },
   {
    "duration": 3,
    "start_time": "2023-02-10T15:02:13.532Z"
   },
   {
    "duration": 3,
    "start_time": "2023-02-10T15:02:33.942Z"
   },
   {
    "duration": 7,
    "start_time": "2023-02-10T15:02:35.674Z"
   },
   {
    "duration": 4,
    "start_time": "2023-02-10T15:04:24.857Z"
   },
   {
    "duration": 5,
    "start_time": "2023-02-10T15:04:46.667Z"
   },
   {
    "duration": 124,
    "start_time": "2023-02-10T15:04:47.916Z"
   },
   {
    "duration": 37,
    "start_time": "2023-02-10T15:04:52.173Z"
   },
   {
    "duration": 5,
    "start_time": "2023-02-10T15:05:07.024Z"
   },
   {
    "duration": 3021,
    "start_time": "2023-02-10T15:05:08.811Z"
   },
   {
    "duration": 13,
    "start_time": "2023-02-10T15:05:13.489Z"
   },
   {
    "duration": 13,
    "start_time": "2023-02-10T15:05:18.713Z"
   },
   {
    "duration": 22,
    "start_time": "2023-02-10T15:06:31.917Z"
   },
   {
    "duration": 19,
    "start_time": "2023-02-10T15:06:40.197Z"
   },
   {
    "duration": 29,
    "start_time": "2023-02-10T15:07:00.590Z"
   },
   {
    "duration": 38,
    "start_time": "2023-02-10T15:07:05.779Z"
   },
   {
    "duration": 45,
    "start_time": "2023-02-10T15:10:21.968Z"
   },
   {
    "duration": 3064,
    "start_time": "2023-02-10T15:10:22.182Z"
   },
   {
    "duration": 5,
    "start_time": "2023-02-10T15:10:28.321Z"
   },
   {
    "duration": 4210,
    "start_time": "2023-02-10T15:10:28.604Z"
   },
   {
    "duration": 10,
    "start_time": "2023-02-10T15:10:32.816Z"
   },
   {
    "duration": 4282,
    "start_time": "2023-02-10T15:10:36.394Z"
   },
   {
    "duration": 20,
    "start_time": "2023-02-10T15:10:40.679Z"
   },
   {
    "duration": 5,
    "start_time": "2023-02-10T15:10:49.901Z"
   },
   {
    "duration": 3110,
    "start_time": "2023-02-10T15:10:50.100Z"
   },
   {
    "duration": 11,
    "start_time": "2023-02-10T15:10:53.212Z"
   },
   {
    "duration": 5,
    "start_time": "2023-02-10T15:15:28.469Z"
   },
   {
    "duration": 3096,
    "start_time": "2023-02-10T15:15:28.787Z"
   },
   {
    "duration": 19,
    "start_time": "2023-02-10T15:15:31.885Z"
   },
   {
    "duration": 15,
    "start_time": "2023-02-10T15:15:34.372Z"
   },
   {
    "duration": 3322,
    "start_time": "2023-02-10T15:15:35.877Z"
   },
   {
    "duration": 14,
    "start_time": "2023-02-10T15:15:39.201Z"
   },
   {
    "duration": 6,
    "start_time": "2023-02-10T15:16:22.829Z"
   },
   {
    "duration": 3021,
    "start_time": "2023-02-10T15:16:24.614Z"
   },
   {
    "duration": 12,
    "start_time": "2023-02-10T15:16:27.637Z"
   },
   {
    "duration": 3153,
    "start_time": "2023-02-10T15:16:28.188Z"
   },
   {
    "duration": 14,
    "start_time": "2023-02-10T15:16:31.343Z"
   },
   {
    "duration": 1368,
    "start_time": "2023-02-10T15:34:22.707Z"
   },
   {
    "duration": 2,
    "start_time": "2023-02-10T15:34:24.753Z"
   },
   {
    "duration": 1949,
    "start_time": "2023-02-10T15:35:05.590Z"
   },
   {
    "duration": 1877,
    "start_time": "2023-02-10T15:35:17.313Z"
   },
   {
    "duration": 110,
    "start_time": "2023-02-10T15:36:04.606Z"
   },
   {
    "duration": 13,
    "start_time": "2023-02-10T15:36:12.014Z"
   },
   {
    "duration": 13,
    "start_time": "2023-02-10T15:36:23.011Z"
   },
   {
    "duration": 9,
    "start_time": "2023-02-10T15:36:25.865Z"
   },
   {
    "duration": 92,
    "start_time": "2023-02-10T15:36:40.357Z"
   },
   {
    "duration": 1234,
    "start_time": "2023-02-10T15:37:14.248Z"
   },
   {
    "duration": 54,
    "start_time": "2023-02-10T15:38:17.570Z"
   },
   {
    "duration": 8,
    "start_time": "2023-02-10T15:38:45.834Z"
   },
   {
    "duration": 70,
    "start_time": "2023-02-10T15:38:55.464Z"
   },
   {
    "duration": 4,
    "start_time": "2023-02-10T15:38:58.617Z"
   },
   {
    "duration": 27,
    "start_time": "2023-02-10T15:39:19.623Z"
   },
   {
    "duration": 17,
    "start_time": "2023-02-10T15:39:20.022Z"
   },
   {
    "duration": 36,
    "start_time": "2023-02-10T15:39:41.275Z"
   },
   {
    "duration": 33,
    "start_time": "2023-02-10T15:39:43.392Z"
   },
   {
    "duration": 1966,
    "start_time": "2023-02-10T15:40:33.271Z"
   },
   {
    "duration": 13,
    "start_time": "2023-02-10T15:40:36.739Z"
   },
   {
    "duration": 82,
    "start_time": "2023-02-10T15:40:38.685Z"
   },
   {
    "duration": 4,
    "start_time": "2023-02-10T15:40:40.378Z"
   },
   {
    "duration": 1132,
    "start_time": "2023-02-10T15:41:04.986Z"
   },
   {
    "duration": 34,
    "start_time": "2023-02-10T15:41:12.971Z"
   },
   {
    "duration": 31,
    "start_time": "2023-02-10T15:41:27.569Z"
   },
   {
    "duration": 4,
    "start_time": "2023-02-10T15:42:18.510Z"
   },
   {
    "duration": 3,
    "start_time": "2023-02-10T15:43:12.513Z"
   },
   {
    "duration": 51,
    "start_time": "2023-02-10T15:43:47.123Z"
   },
   {
    "duration": 27,
    "start_time": "2023-02-10T15:43:51.390Z"
   },
   {
    "duration": 2043,
    "start_time": "2023-02-10T15:43:59.276Z"
   },
   {
    "duration": 2075,
    "start_time": "2023-02-10T15:46:01.464Z"
   },
   {
    "duration": 514,
    "start_time": "2023-02-10T15:47:07.809Z"
   },
   {
    "duration": 3,
    "start_time": "2023-02-10T15:47:16.855Z"
   },
   {
    "duration": 2,
    "start_time": "2023-02-10T15:47:18.268Z"
   },
   {
    "duration": 12,
    "start_time": "2023-02-10T15:47:20.055Z"
   },
   {
    "duration": 5,
    "start_time": "2023-02-10T15:47:54.716Z"
   },
   {
    "duration": 5,
    "start_time": "2023-02-10T15:48:10.057Z"
   },
   {
    "duration": 1061,
    "start_time": "2023-02-10T15:48:41.070Z"
   },
   {
    "duration": 9,
    "start_time": "2023-02-10T15:48:46.657Z"
   },
   {
    "duration": 8,
    "start_time": "2023-02-10T15:48:58.391Z"
   },
   {
    "duration": 420,
    "start_time": "2023-02-10T15:49:14.277Z"
   },
   {
    "duration": 3,
    "start_time": "2023-02-10T15:49:19.566Z"
   },
   {
    "duration": 4,
    "start_time": "2023-02-10T15:49:20.034Z"
   },
   {
    "duration": 6,
    "start_time": "2023-02-10T15:49:20.256Z"
   },
   {
    "duration": 7,
    "start_time": "2023-02-10T15:49:22.568Z"
   },
   {
    "duration": 3169,
    "start_time": "2023-02-10T15:49:23.372Z"
   },
   {
    "duration": 7,
    "start_time": "2023-02-10T15:49:26.542Z"
   },
   {
    "duration": 9,
    "start_time": "2023-02-10T15:49:52.521Z"
   },
   {
    "duration": 2882,
    "start_time": "2023-02-10T15:49:58.146Z"
   },
   {
    "duration": 12,
    "start_time": "2023-02-10T15:50:02.211Z"
   },
   {
    "duration": 1313,
    "start_time": "2023-02-10T15:51:08.706Z"
   },
   {
    "duration": 3,
    "start_time": "2023-02-10T15:51:10.797Z"
   },
   {
    "duration": 2013,
    "start_time": "2023-02-10T15:51:26.293Z"
   },
   {
    "duration": 14,
    "start_time": "2023-02-10T15:51:33.560Z"
   },
   {
    "duration": 114,
    "start_time": "2023-02-10T15:51:34.158Z"
   },
   {
    "duration": 925,
    "start_time": "2023-02-10T15:51:44.601Z"
   },
   {
    "duration": 42,
    "start_time": "2023-02-10T15:51:58.182Z"
   },
   {
    "duration": 500,
    "start_time": "2023-02-10T15:52:04.236Z"
   },
   {
    "duration": 436,
    "start_time": "2023-02-10T15:53:36.362Z"
   },
   {
    "duration": 3,
    "start_time": "2023-02-10T15:53:38.633Z"
   },
   {
    "duration": 3,
    "start_time": "2023-02-10T15:53:39.248Z"
   },
   {
    "duration": 5,
    "start_time": "2023-02-10T15:53:39.571Z"
   },
   {
    "duration": 6,
    "start_time": "2023-02-10T15:54:10.957Z"
   },
   {
    "duration": 4591,
    "start_time": "2023-02-10T15:54:11.877Z"
   },
   {
    "duration": 15,
    "start_time": "2023-02-10T15:54:19.905Z"
   },
   {
    "duration": 11,
    "start_time": "2023-02-10T15:55:17.764Z"
   },
   {
    "duration": 11,
    "start_time": "2023-02-10T15:58:31.808Z"
   },
   {
    "duration": 55,
    "start_time": "2023-02-10T16:06:11.778Z"
   },
   {
    "duration": 4509,
    "start_time": "2023-02-10T16:06:13.526Z"
   },
   {
    "duration": 47,
    "start_time": "2023-02-10T16:06:30.261Z"
   },
   {
    "duration": 6,
    "start_time": "2023-02-10T16:06:37.808Z"
   },
   {
    "duration": 5624,
    "start_time": "2023-02-10T16:06:38.807Z"
   },
   {
    "duration": 6,
    "start_time": "2023-02-10T16:07:02.577Z"
   },
   {
    "duration": 5418,
    "start_time": "2023-02-10T16:07:03.096Z"
   },
   {
    "duration": 633,
    "start_time": "2023-02-10T16:11:58.572Z"
   },
   {
    "duration": 11,
    "start_time": "2023-02-10T16:15:04.438Z"
   },
   {
    "duration": 13,
    "start_time": "2023-02-10T16:15:26.653Z"
   },
   {
    "duration": 15,
    "start_time": "2023-02-10T16:15:31.149Z"
   },
   {
    "duration": 105,
    "start_time": "2023-02-10T16:15:34.958Z"
   },
   {
    "duration": 12,
    "start_time": "2023-02-10T16:15:37.250Z"
   },
   {
    "duration": 14,
    "start_time": "2023-02-10T16:15:42.229Z"
   },
   {
    "duration": 623,
    "start_time": "2023-02-10T16:16:20.890Z"
   },
   {
    "duration": 613,
    "start_time": "2023-02-10T16:16:52.598Z"
   },
   {
    "duration": 7,
    "start_time": "2023-02-10T16:18:20.971Z"
   },
   {
    "duration": 586,
    "start_time": "2023-02-10T16:18:25.221Z"
   },
   {
    "duration": 1921,
    "start_time": "2023-02-10T16:22:24.797Z"
   },
   {
    "duration": 13,
    "start_time": "2023-02-10T16:22:30.478Z"
   },
   {
    "duration": 83,
    "start_time": "2023-02-10T16:22:31.114Z"
   },
   {
    "duration": 103,
    "start_time": "2023-02-10T16:22:33.055Z"
   },
   {
    "duration": 42,
    "start_time": "2023-02-10T16:22:53.976Z"
   },
   {
    "duration": 578,
    "start_time": "2023-02-10T16:23:10.827Z"
   },
   {
    "duration": 3,
    "start_time": "2023-02-10T16:23:20.414Z"
   },
   {
    "duration": 3,
    "start_time": "2023-02-10T16:23:21.172Z"
   },
   {
    "duration": 6,
    "start_time": "2023-02-10T16:23:22.341Z"
   },
   {
    "duration": 7,
    "start_time": "2023-02-10T16:23:24.992Z"
   },
   {
    "duration": 12871,
    "start_time": "2023-02-10T16:23:26.252Z"
   },
   {
    "duration": 14,
    "start_time": "2023-02-10T16:23:39.125Z"
   },
   {
    "duration": 4,
    "start_time": "2023-02-10T16:24:37.891Z"
   },
   {
    "duration": 2,
    "start_time": "2023-02-10T16:24:38.126Z"
   },
   {
    "duration": 13,
    "start_time": "2023-02-10T16:25:12.351Z"
   },
   {
    "duration": 1353,
    "start_time": "2023-02-10T16:25:24.353Z"
   },
   {
    "duration": 2,
    "start_time": "2023-02-10T16:25:25.708Z"
   },
   {
    "duration": 1922,
    "start_time": "2023-02-10T16:25:25.712Z"
   },
   {
    "duration": 15,
    "start_time": "2023-02-10T16:25:27.636Z"
   },
   {
    "duration": 93,
    "start_time": "2023-02-10T16:25:27.652Z"
   },
   {
    "duration": 3,
    "start_time": "2023-02-10T16:25:27.747Z"
   },
   {
    "duration": 118,
    "start_time": "2023-02-10T16:25:27.751Z"
   },
   {
    "duration": 0,
    "start_time": "2023-02-10T16:25:27.871Z"
   },
   {
    "duration": 0,
    "start_time": "2023-02-10T16:25:27.872Z"
   },
   {
    "duration": 0,
    "start_time": "2023-02-10T16:25:27.873Z"
   },
   {
    "duration": 0,
    "start_time": "2023-02-10T16:25:27.874Z"
   },
   {
    "duration": 0,
    "start_time": "2023-02-10T16:25:27.875Z"
   },
   {
    "duration": 0,
    "start_time": "2023-02-10T16:25:27.876Z"
   },
   {
    "duration": 0,
    "start_time": "2023-02-10T16:25:27.878Z"
   },
   {
    "duration": 0,
    "start_time": "2023-02-10T16:25:27.878Z"
   },
   {
    "duration": 0,
    "start_time": "2023-02-10T16:25:27.879Z"
   },
   {
    "duration": 20,
    "start_time": "2023-02-10T16:26:07.029Z"
   },
   {
    "duration": 1634,
    "start_time": "2023-02-10T16:26:11.119Z"
   },
   {
    "duration": 1376,
    "start_time": "2023-02-10T16:26:16.751Z"
   },
   {
    "duration": 3,
    "start_time": "2023-02-10T16:26:18.129Z"
   },
   {
    "duration": 2592,
    "start_time": "2023-02-10T16:26:18.133Z"
   },
   {
    "duration": 14,
    "start_time": "2023-02-10T16:26:20.726Z"
   },
   {
    "duration": 91,
    "start_time": "2023-02-10T16:26:20.742Z"
   },
   {
    "duration": 4,
    "start_time": "2023-02-10T16:26:20.835Z"
   },
   {
    "duration": 1676,
    "start_time": "2023-02-10T16:26:20.841Z"
   },
   {
    "duration": 1003,
    "start_time": "2023-02-10T16:26:22.519Z"
   },
   {
    "duration": 39,
    "start_time": "2023-02-10T16:26:23.524Z"
   },
   {
    "duration": 329,
    "start_time": "2023-02-10T16:26:23.565Z"
   },
   {
    "duration": 0,
    "start_time": "2023-02-10T16:26:23.896Z"
   },
   {
    "duration": 0,
    "start_time": "2023-02-10T16:26:23.898Z"
   },
   {
    "duration": 0,
    "start_time": "2023-02-10T16:26:23.900Z"
   },
   {
    "duration": 0,
    "start_time": "2023-02-10T16:26:23.901Z"
   },
   {
    "duration": 0,
    "start_time": "2023-02-10T16:26:23.903Z"
   },
   {
    "duration": 0,
    "start_time": "2023-02-10T16:26:23.904Z"
   },
   {
    "duration": 6,
    "start_time": "2023-02-10T16:27:13.650Z"
   },
   {
    "duration": 195,
    "start_time": "2023-02-10T16:27:14.900Z"
   },
   {
    "duration": 7,
    "start_time": "2023-02-10T16:27:23.468Z"
   },
   {
    "duration": 613,
    "start_time": "2023-02-10T16:27:30.115Z"
   },
   {
    "duration": 2224,
    "start_time": "2023-02-10T16:27:37.294Z"
   },
   {
    "duration": 2,
    "start_time": "2023-02-10T16:27:39.520Z"
   },
   {
    "duration": 2822,
    "start_time": "2023-02-10T16:27:39.524Z"
   },
   {
    "duration": 16,
    "start_time": "2023-02-10T16:27:42.348Z"
   },
   {
    "duration": 93,
    "start_time": "2023-02-10T16:27:42.367Z"
   },
   {
    "duration": 4,
    "start_time": "2023-02-10T16:27:42.462Z"
   },
   {
    "duration": 1763,
    "start_time": "2023-02-10T16:27:42.468Z"
   },
   {
    "duration": 1079,
    "start_time": "2023-02-10T16:27:44.233Z"
   },
   {
    "duration": 41,
    "start_time": "2023-02-10T16:27:45.313Z"
   },
   {
    "duration": 463,
    "start_time": "2023-02-10T16:27:45.356Z"
   },
   {
    "duration": 3,
    "start_time": "2023-02-10T16:27:45.821Z"
   },
   {
    "duration": 11,
    "start_time": "2023-02-10T16:27:45.826Z"
   },
   {
    "duration": 7,
    "start_time": "2023-02-10T16:27:45.838Z"
   },
   {
    "duration": 6,
    "start_time": "2023-02-10T16:27:45.848Z"
   },
   {
    "duration": 13061,
    "start_time": "2023-02-10T16:27:45.856Z"
   },
   {
    "duration": 10,
    "start_time": "2023-02-10T16:27:58.918Z"
   },
   {
    "duration": 50,
    "start_time": "2023-02-11T05:44:36.019Z"
   },
   {
    "duration": 1370,
    "start_time": "2023-02-11T05:44:38.561Z"
   },
   {
    "duration": 2,
    "start_time": "2023-02-11T05:44:39.933Z"
   },
   {
    "duration": 184,
    "start_time": "2023-02-11T05:44:39.937Z"
   },
   {
    "duration": 119,
    "start_time": "2023-02-11T05:44:52.094Z"
   },
   {
    "duration": 114,
    "start_time": "2023-02-11T05:44:59.661Z"
   },
   {
    "duration": 127,
    "start_time": "2023-02-11T05:45:31.818Z"
   },
   {
    "duration": 127,
    "start_time": "2023-02-11T05:46:19.797Z"
   },
   {
    "duration": 122,
    "start_time": "2023-02-11T05:46:31.112Z"
   },
   {
    "duration": 125,
    "start_time": "2023-02-11T05:46:46.112Z"
   },
   {
    "duration": 132,
    "start_time": "2023-02-11T05:46:58.980Z"
   },
   {
    "duration": 2,
    "start_time": "2023-02-11T05:47:23.827Z"
   },
   {
    "duration": 3,
    "start_time": "2023-02-11T05:47:24.369Z"
   },
   {
    "duration": 6,
    "start_time": "2023-02-11T05:47:29.662Z"
   },
   {
    "duration": 42,
    "start_time": "2023-02-11T05:49:41.236Z"
   },
   {
    "duration": 46,
    "start_time": "2023-02-11T05:49:58.827Z"
   },
   {
    "duration": 17,
    "start_time": "2023-02-11T05:50:03.827Z"
   },
   {
    "duration": 7,
    "start_time": "2023-02-11T05:50:19.154Z"
   },
   {
    "duration": 4,
    "start_time": "2023-02-11T05:50:24.807Z"
   },
   {
    "duration": 17,
    "start_time": "2023-02-11T05:50:43.268Z"
   },
   {
    "duration": 5,
    "start_time": "2023-02-11T05:50:44.535Z"
   },
   {
    "duration": 5,
    "start_time": "2023-02-11T05:50:45.262Z"
   },
   {
    "duration": 7,
    "start_time": "2023-02-11T05:51:38.644Z"
   },
   {
    "duration": 3985,
    "start_time": "2023-02-11T05:51:58.428Z"
   },
   {
    "duration": 5,
    "start_time": "2023-02-11T05:52:05.741Z"
   },
   {
    "duration": 3989,
    "start_time": "2023-02-11T05:52:38.911Z"
   },
   {
    "duration": 4,
    "start_time": "2023-02-11T05:52:42.902Z"
   },
   {
    "duration": 9,
    "start_time": "2023-02-11T05:52:49.265Z"
   },
   {
    "duration": 126,
    "start_time": "2023-02-11T05:53:46.782Z"
   },
   {
    "duration": 15,
    "start_time": "2023-02-11T05:53:47.397Z"
   },
   {
    "duration": 5,
    "start_time": "2023-02-11T05:53:47.850Z"
   },
   {
    "duration": 5,
    "start_time": "2023-02-11T05:53:48.194Z"
   },
   {
    "duration": 4048,
    "start_time": "2023-02-11T05:53:50.119Z"
   },
   {
    "duration": 4,
    "start_time": "2023-02-11T05:53:54.169Z"
   },
   {
    "duration": 8,
    "start_time": "2023-02-11T05:53:55.585Z"
   },
   {
    "duration": 13860,
    "start_time": "2023-02-11T05:54:47.925Z"
   },
   {
    "duration": 5,
    "start_time": "2023-02-11T05:55:07.744Z"
   },
   {
    "duration": 3876,
    "start_time": "2023-02-11T05:55:12.980Z"
   },
   {
    "duration": 3681,
    "start_time": "2023-02-11T05:56:55.609Z"
   },
   {
    "duration": 3743,
    "start_time": "2023-02-11T05:57:02.578Z"
   },
   {
    "duration": 1264,
    "start_time": "2023-02-11T05:59:03.766Z"
   },
   {
    "duration": 6,
    "start_time": "2023-02-11T05:59:05.032Z"
   },
   {
    "duration": 2011,
    "start_time": "2023-02-11T06:00:01.003Z"
   },
   {
    "duration": 250,
    "start_time": "2023-02-11T06:00:42.470Z"
   },
   {
    "duration": 1787,
    "start_time": "2023-02-11T06:00:49.841Z"
   },
   {
    "duration": 12,
    "start_time": "2023-02-11T06:01:37.831Z"
   },
   {
    "duration": 15,
    "start_time": "2023-02-11T06:01:42.796Z"
   },
   {
    "duration": 1887,
    "start_time": "2023-02-11T06:01:54.284Z"
   },
   {
    "duration": 13,
    "start_time": "2023-02-11T06:01:58.149Z"
   },
   {
    "duration": 76,
    "start_time": "2023-02-11T06:02:28.075Z"
   },
   {
    "duration": 9,
    "start_time": "2023-02-11T06:04:27.649Z"
   },
   {
    "duration": 3,
    "start_time": "2023-02-11T06:04:48.881Z"
   },
   {
    "duration": 1605,
    "start_time": "2023-02-11T06:05:44.914Z"
   },
   {
    "duration": 1582,
    "start_time": "2023-02-11T06:06:06.386Z"
   },
   {
    "duration": 4,
    "start_time": "2023-02-11T06:06:43.303Z"
   },
   {
    "duration": 5,
    "start_time": "2023-02-11T06:06:43.800Z"
   },
   {
    "duration": 1797,
    "start_time": "2023-02-11T06:06:49.536Z"
   },
   {
    "duration": 15,
    "start_time": "2023-02-11T06:06:51.534Z"
   },
   {
    "duration": 83,
    "start_time": "2023-02-11T06:06:51.940Z"
   },
   {
    "duration": 3,
    "start_time": "2023-02-11T06:06:53.044Z"
   },
   {
    "duration": 1657,
    "start_time": "2023-02-11T06:06:54.715Z"
   },
   {
    "duration": 4,
    "start_time": "2023-02-11T06:07:53.238Z"
   },
   {
    "duration": 5,
    "start_time": "2023-02-11T06:07:53.499Z"
   },
   {
    "duration": 1864,
    "start_time": "2023-02-11T06:07:56.325Z"
   },
   {
    "duration": 13,
    "start_time": "2023-02-11T06:07:58.190Z"
   },
   {
    "duration": 106,
    "start_time": "2023-02-11T06:07:58.678Z"
   },
   {
    "duration": 303,
    "start_time": "2023-02-11T06:08:38.668Z"
   },
   {
    "duration": 966,
    "start_time": "2023-02-11T06:08:46.512Z"
   },
   {
    "duration": 9,
    "start_time": "2023-02-11T06:09:14.792Z"
   },
   {
    "duration": 2,
    "start_time": "2023-02-11T06:09:28.119Z"
   },
   {
    "duration": 19,
    "start_time": "2023-02-11T06:11:39.251Z"
   },
   {
    "duration": 127,
    "start_time": "2023-02-11T06:12:46.812Z"
   },
   {
    "duration": 11,
    "start_time": "2023-02-11T06:12:56.153Z"
   },
   {
    "duration": 9,
    "start_time": "2023-02-11T06:13:05.551Z"
   },
   {
    "duration": 9,
    "start_time": "2023-02-11T06:13:10.197Z"
   },
   {
    "duration": 10,
    "start_time": "2023-02-11T06:13:12.082Z"
   },
   {
    "duration": 5,
    "start_time": "2023-02-11T06:13:14.768Z"
   },
   {
    "duration": 42,
    "start_time": "2023-02-11T06:13:32.406Z"
   },
   {
    "duration": 177,
    "start_time": "2023-02-11T06:16:25.461Z"
   },
   {
    "duration": 178,
    "start_time": "2023-02-11T06:16:47.460Z"
   },
   {
    "duration": 168,
    "start_time": "2023-02-11T06:16:57.985Z"
   },
   {
    "duration": 158,
    "start_time": "2023-02-11T06:17:10.904Z"
   },
   {
    "duration": 200,
    "start_time": "2023-02-11T06:17:31.748Z"
   },
   {
    "duration": 6,
    "start_time": "2023-02-11T06:18:10.033Z"
   },
   {
    "duration": 6,
    "start_time": "2023-02-11T06:18:16.018Z"
   },
   {
    "duration": 31,
    "start_time": "2023-02-11T06:18:30.236Z"
   },
   {
    "duration": 8,
    "start_time": "2023-02-11T06:18:34.570Z"
   },
   {
    "duration": 224,
    "start_time": "2023-02-11T06:18:36.722Z"
   },
   {
    "duration": 8,
    "start_time": "2023-02-11T06:18:39.098Z"
   },
   {
    "duration": 9,
    "start_time": "2023-02-11T06:18:47.175Z"
   },
   {
    "duration": 4,
    "start_time": "2023-02-11T06:19:02.635Z"
   },
   {
    "duration": 9,
    "start_time": "2023-02-11T06:19:20.219Z"
   },
   {
    "duration": 4,
    "start_time": "2023-02-11T06:19:23.915Z"
   },
   {
    "duration": 222,
    "start_time": "2023-02-11T06:19:46.726Z"
   },
   {
    "duration": 163,
    "start_time": "2023-02-11T06:20:14.083Z"
   },
   {
    "duration": 3,
    "start_time": "2023-02-11T06:20:20.550Z"
   },
   {
    "duration": 4,
    "start_time": "2023-02-11T06:20:21.332Z"
   },
   {
    "duration": 3784,
    "start_time": "2023-02-11T06:20:24.936Z"
   },
   {
    "duration": 733,
    "start_time": "2023-02-11T06:21:01.222Z"
   },
   {
    "duration": 706,
    "start_time": "2023-02-11T06:21:09.038Z"
   },
   {
    "duration": 5,
    "start_time": "2023-02-11T06:21:14.680Z"
   },
   {
    "duration": 7,
    "start_time": "2023-02-11T06:21:14.902Z"
   },
   {
    "duration": 1743,
    "start_time": "2023-02-11T06:21:19.010Z"
   },
   {
    "duration": 13,
    "start_time": "2023-02-11T06:21:20.755Z"
   },
   {
    "duration": 97,
    "start_time": "2023-02-11T06:21:20.781Z"
   },
   {
    "duration": 1068,
    "start_time": "2023-02-11T06:21:22.080Z"
   },
   {
    "duration": 131,
    "start_time": "2023-02-11T06:21:31.194Z"
   },
   {
    "duration": 9,
    "start_time": "2023-02-11T06:21:33.260Z"
   },
   {
    "duration": 9,
    "start_time": "2023-02-11T06:21:33.669Z"
   },
   {
    "duration": 4,
    "start_time": "2023-02-11T06:21:37.631Z"
   },
   {
    "duration": 172,
    "start_time": "2023-02-11T06:21:42.972Z"
   },
   {
    "duration": 96,
    "start_time": "2023-02-11T06:21:52.246Z"
   },
   {
    "duration": 3,
    "start_time": "2023-02-11T06:22:03.322Z"
   },
   {
    "duration": 167,
    "start_time": "2023-02-11T06:22:36.888Z"
   },
   {
    "duration": 689,
    "start_time": "2023-02-11T06:23:16.712Z"
   },
   {
    "duration": 660,
    "start_time": "2023-02-11T06:23:28.371Z"
   },
   {
    "duration": 32,
    "start_time": "2023-02-11T06:24:04.328Z"
   },
   {
    "duration": 12,
    "start_time": "2023-02-11T06:24:06.009Z"
   },
   {
    "duration": 238,
    "start_time": "2023-02-11T06:24:07.600Z"
   },
   {
    "duration": 950,
    "start_time": "2023-02-11T06:24:10.527Z"
   },
   {
    "duration": 9,
    "start_time": "2023-02-11T06:24:16.819Z"
   },
   {
    "duration": 27,
    "start_time": "2023-02-11T06:24:31.354Z"
   },
   {
    "duration": 193,
    "start_time": "2023-02-11T06:24:33.960Z"
   },
   {
    "duration": 8,
    "start_time": "2023-02-11T06:25:14.139Z"
   },
   {
    "duration": 32,
    "start_time": "2023-02-11T06:25:43.659Z"
   },
   {
    "duration": 9,
    "start_time": "2023-02-11T06:25:46.717Z"
   },
   {
    "duration": 29,
    "start_time": "2023-02-11T06:26:19.744Z"
   },
   {
    "duration": 11,
    "start_time": "2023-02-11T06:26:21.442Z"
   },
   {
    "duration": 5,
    "start_time": "2023-02-11T06:26:22.745Z"
   },
   {
    "duration": 9,
    "start_time": "2023-02-11T06:26:29.170Z"
   },
   {
    "duration": 5,
    "start_time": "2023-02-11T06:26:29.857Z"
   },
   {
    "duration": 374,
    "start_time": "2023-02-11T06:26:56.085Z"
   },
   {
    "duration": 304,
    "start_time": "2023-02-11T06:27:14.845Z"
   },
   {
    "duration": 4,
    "start_time": "2023-02-11T06:27:20.449Z"
   },
   {
    "duration": 3,
    "start_time": "2023-02-11T06:27:25.547Z"
   },
   {
    "duration": 4,
    "start_time": "2023-02-11T06:27:28.373Z"
   },
   {
    "duration": 58,
    "start_time": "2023-02-11T06:27:47.034Z"
   },
   {
    "duration": 11,
    "start_time": "2023-02-11T06:27:50.054Z"
   },
   {
    "duration": 5,
    "start_time": "2023-02-11T06:27:55.258Z"
   },
   {
    "duration": 49,
    "start_time": "2023-02-11T06:29:37.379Z"
   },
   {
    "duration": 9,
    "start_time": "2023-02-11T06:29:40.490Z"
   },
   {
    "duration": 2921,
    "start_time": "2023-02-11T06:29:47.317Z"
   },
   {
    "duration": 54,
    "start_time": "2023-02-11T06:30:03.484Z"
   },
   {
    "duration": 12,
    "start_time": "2023-02-11T06:30:06.057Z"
   },
   {
    "duration": 2983,
    "start_time": "2023-02-11T06:30:33.404Z"
   },
   {
    "duration": 11,
    "start_time": "2023-02-11T06:30:37.099Z"
   },
   {
    "duration": 11,
    "start_time": "2023-02-11T06:31:02.345Z"
   },
   {
    "duration": 2929,
    "start_time": "2023-02-11T06:31:25.158Z"
   },
   {
    "duration": 5,
    "start_time": "2023-02-11T06:31:30.654Z"
   },
   {
    "duration": 5,
    "start_time": "2023-02-11T06:31:35.504Z"
   },
   {
    "duration": 3749,
    "start_time": "2023-02-11T06:31:55.055Z"
   },
   {
    "duration": 1831,
    "start_time": "2023-02-11T06:32:11.228Z"
   },
   {
    "duration": 18,
    "start_time": "2023-02-11T06:32:13.084Z"
   },
   {
    "duration": 89,
    "start_time": "2023-02-11T06:32:14.102Z"
   },
   {
    "duration": 1084,
    "start_time": "2023-02-11T06:32:28.207Z"
   },
   {
    "duration": 33,
    "start_time": "2023-02-11T06:32:34.888Z"
   },
   {
    "duration": 8,
    "start_time": "2023-02-11T06:32:37.171Z"
   },
   {
    "duration": 9,
    "start_time": "2023-02-11T06:32:40.411Z"
   },
   {
    "duration": 8,
    "start_time": "2023-02-11T06:32:44.171Z"
   },
   {
    "duration": 5,
    "start_time": "2023-02-11T06:32:46.698Z"
   },
   {
    "duration": 393,
    "start_time": "2023-02-11T06:34:16.248Z"
   },
   {
    "duration": 3,
    "start_time": "2023-02-11T06:34:19.616Z"
   },
   {
    "duration": 3,
    "start_time": "2023-02-11T06:34:20.668Z"
   },
   {
    "duration": 6,
    "start_time": "2023-02-11T06:34:20.967Z"
   },
   {
    "duration": 5,
    "start_time": "2023-02-11T06:34:25.445Z"
   },
   {
    "duration": 5,
    "start_time": "2023-02-11T06:34:27.604Z"
   },
   {
    "duration": 744,
    "start_time": "2023-02-11T06:34:28.055Z"
   },
   {
    "duration": 6,
    "start_time": "2023-02-11T06:34:32.431Z"
   },
   {
    "duration": 5,
    "start_time": "2023-02-11T06:34:35.250Z"
   },
   {
    "duration": 5,
    "start_time": "2023-02-11T06:35:08.749Z"
   },
   {
    "duration": 4,
    "start_time": "2023-02-11T06:35:18.633Z"
   },
   {
    "duration": 77,
    "start_time": "2023-02-11T06:35:47.068Z"
   },
   {
    "duration": 3,
    "start_time": "2023-02-11T06:35:54.511Z"
   },
   {
    "duration": 5,
    "start_time": "2023-02-11T06:35:55.037Z"
   },
   {
    "duration": 4,
    "start_time": "2023-02-11T06:35:55.983Z"
   },
   {
    "duration": 5,
    "start_time": "2023-02-11T06:35:56.840Z"
   },
   {
    "duration": 740,
    "start_time": "2023-02-11T06:36:05.418Z"
   },
   {
    "duration": 31,
    "start_time": "2023-02-11T06:36:14.665Z"
   },
   {
    "duration": 5,
    "start_time": "2023-02-11T06:36:41.969Z"
   },
   {
    "duration": 4,
    "start_time": "2023-02-11T06:36:50.621Z"
   },
   {
    "duration": 369,
    "start_time": "2023-02-11T06:36:57.170Z"
   },
   {
    "duration": 3,
    "start_time": "2023-02-11T06:36:58.972Z"
   },
   {
    "duration": 3,
    "start_time": "2023-02-11T06:37:00.462Z"
   },
   {
    "duration": 6,
    "start_time": "2023-02-11T06:37:00.643Z"
   },
   {
    "duration": 6,
    "start_time": "2023-02-11T06:37:02.057Z"
   },
   {
    "duration": 5,
    "start_time": "2023-02-11T06:37:02.496Z"
   },
   {
    "duration": 5,
    "start_time": "2023-02-11T06:37:02.820Z"
   },
   {
    "duration": 5,
    "start_time": "2023-02-11T06:37:03.890Z"
   },
   {
    "duration": 5,
    "start_time": "2023-02-11T06:37:05.182Z"
   },
   {
    "duration": 6,
    "start_time": "2023-02-11T06:37:06.515Z"
   },
   {
    "duration": 3072,
    "start_time": "2023-02-11T06:37:09.038Z"
   },
   {
    "duration": 3005,
    "start_time": "2023-02-11T06:37:26.214Z"
   },
   {
    "duration": 18,
    "start_time": "2023-02-11T06:37:29.983Z"
   },
   {
    "duration": 5,
    "start_time": "2023-02-11T06:46:25.782Z"
   },
   {
    "duration": 309,
    "start_time": "2023-02-11T06:48:02.830Z"
   },
   {
    "duration": 3,
    "start_time": "2023-02-11T06:48:10.664Z"
   },
   {
    "duration": 4,
    "start_time": "2023-02-11T06:48:12.408Z"
   },
   {
    "duration": 6,
    "start_time": "2023-02-11T06:48:13.547Z"
   },
   {
    "duration": 6,
    "start_time": "2023-02-11T06:48:21.070Z"
   },
   {
    "duration": 3055,
    "start_time": "2023-02-11T06:48:31.387Z"
   },
   {
    "duration": 5,
    "start_time": "2023-02-11T06:50:03.977Z"
   },
   {
    "duration": 3674,
    "start_time": "2023-02-11T06:50:06.466Z"
   },
   {
    "duration": 6,
    "start_time": "2023-02-11T06:52:10.314Z"
   },
   {
    "duration": 34,
    "start_time": "2023-02-11T06:52:14.222Z"
   },
   {
    "duration": 5,
    "start_time": "2023-02-11T06:52:27.109Z"
   },
   {
    "duration": 3504,
    "start_time": "2023-02-11T06:52:27.943Z"
   },
   {
    "duration": 11,
    "start_time": "2023-02-11T06:52:32.884Z"
   },
   {
    "duration": 3499,
    "start_time": "2023-02-11T06:52:37.278Z"
   },
   {
    "duration": 12,
    "start_time": "2023-02-11T06:52:40.779Z"
   },
   {
    "duration": 13,
    "start_time": "2023-02-11T06:52:55.016Z"
   },
   {
    "duration": 5,
    "start_time": "2023-02-11T06:55:57.673Z"
   },
   {
    "duration": 710,
    "start_time": "2023-02-11T06:56:41.328Z"
   },
   {
    "duration": 1887,
    "start_time": "2023-02-11T06:56:50.823Z"
   },
   {
    "duration": 24,
    "start_time": "2023-02-11T06:56:56.679Z"
   },
   {
    "duration": 51,
    "start_time": "2023-02-11T06:57:08.777Z"
   },
   {
    "duration": 42,
    "start_time": "2023-02-11T06:57:40.173Z"
   },
   {
    "duration": 43,
    "start_time": "2023-02-11T06:58:07.301Z"
   },
   {
    "duration": 34682,
    "start_time": "2023-02-11T07:00:07.518Z"
   },
   {
    "duration": 9,
    "start_time": "2023-02-11T07:01:07.358Z"
   },
   {
    "duration": 4,
    "start_time": "2023-02-11T07:01:13.509Z"
   },
   {
    "duration": 731,
    "start_time": "2023-02-11T07:02:23.838Z"
   },
   {
    "duration": 10,
    "start_time": "2023-02-11T07:02:35.164Z"
   },
   {
    "duration": 10,
    "start_time": "2023-02-11T07:02:47.507Z"
   },
   {
    "duration": 1335,
    "start_time": "2023-02-11T07:05:33.767Z"
   },
   {
    "duration": 6,
    "start_time": "2023-02-11T07:05:37.015Z"
   },
   {
    "duration": 1911,
    "start_time": "2023-02-11T07:05:38.867Z"
   },
   {
    "duration": 38,
    "start_time": "2023-02-11T07:05:53.613Z"
   },
   {
    "duration": 114,
    "start_time": "2023-02-11T07:06:11.215Z"
   },
   {
    "duration": 1335,
    "start_time": "2023-02-11T07:07:21.888Z"
   },
   {
    "duration": 6,
    "start_time": "2023-02-11T07:07:23.225Z"
   },
   {
    "duration": 1978,
    "start_time": "2023-02-11T07:07:23.233Z"
   },
   {
    "duration": 50,
    "start_time": "2023-02-11T07:07:25.212Z"
   },
   {
    "duration": 118,
    "start_time": "2023-02-11T07:07:25.263Z"
   },
   {
    "duration": 0,
    "start_time": "2023-02-11T07:07:25.382Z"
   },
   {
    "duration": 0,
    "start_time": "2023-02-11T07:07:25.383Z"
   },
   {
    "duration": 1352,
    "start_time": "2023-02-11T07:07:31.147Z"
   },
   {
    "duration": 7,
    "start_time": "2023-02-11T07:07:32.501Z"
   },
   {
    "duration": 1989,
    "start_time": "2023-02-11T07:07:34.750Z"
   },
   {
    "duration": 40,
    "start_time": "2023-02-11T07:07:39.966Z"
   },
   {
    "duration": 23,
    "start_time": "2023-02-11T07:07:59.175Z"
   },
   {
    "duration": 26,
    "start_time": "2023-02-11T07:08:13.068Z"
   },
   {
    "duration": 27,
    "start_time": "2023-02-11T07:08:21.681Z"
   },
   {
    "duration": 24,
    "start_time": "2023-02-11T07:09:45.879Z"
   },
   {
    "duration": 102,
    "start_time": "2023-02-11T07:11:10.042Z"
   },
   {
    "duration": 410,
    "start_time": "2023-02-11T07:11:51.942Z"
   },
   {
    "duration": 240,
    "start_time": "2023-02-11T07:12:14.181Z"
   },
   {
    "duration": 68,
    "start_time": "2023-02-11T07:15:56.208Z"
   },
   {
    "duration": 87,
    "start_time": "2023-02-11T07:16:10.045Z"
   },
   {
    "duration": 818,
    "start_time": "2023-02-11T07:16:22.203Z"
   },
   {
    "duration": 4,
    "start_time": "2023-02-11T07:16:29.079Z"
   },
   {
    "duration": 5,
    "start_time": "2023-02-11T07:16:29.533Z"
   },
   {
    "duration": 1837,
    "start_time": "2023-02-11T07:16:30.747Z"
   },
   {
    "duration": 120,
    "start_time": "2023-02-11T07:16:33.982Z"
   },
   {
    "duration": 39,
    "start_time": "2023-02-11T07:16:38.773Z"
   },
   {
    "duration": 223,
    "start_time": "2023-02-11T07:16:47.167Z"
   },
   {
    "duration": 69,
    "start_time": "2023-02-11T07:16:58.919Z"
   },
   {
    "duration": 1115,
    "start_time": "2023-02-11T07:17:05.092Z"
   },
   {
    "duration": 43,
    "start_time": "2023-02-11T07:17:16.254Z"
   },
   {
    "duration": 419,
    "start_time": "2023-02-11T07:17:22.837Z"
   },
   {
    "duration": 3,
    "start_time": "2023-02-11T07:17:34.457Z"
   },
   {
    "duration": 3,
    "start_time": "2023-02-11T07:17:35.069Z"
   },
   {
    "duration": 4,
    "start_time": "2023-02-11T07:17:35.397Z"
   },
   {
    "duration": 11,
    "start_time": "2023-02-11T07:18:43.551Z"
   },
   {
    "duration": 3415,
    "start_time": "2023-02-11T07:18:55.488Z"
   },
   {
    "duration": 14,
    "start_time": "2023-02-11T07:19:00.289Z"
   },
   {
    "duration": 14,
    "start_time": "2023-02-11T07:19:16.926Z"
   },
   {
    "duration": 13,
    "start_time": "2023-02-11T07:19:31.747Z"
   },
   {
    "duration": 12,
    "start_time": "2023-02-11T07:20:24.067Z"
   },
   {
    "duration": 6,
    "start_time": "2023-02-11T07:50:29.451Z"
   },
   {
    "duration": 271,
    "start_time": "2023-02-11T07:50:38.568Z"
   },
   {
    "duration": 3,
    "start_time": "2023-02-11T07:50:40.932Z"
   },
   {
    "duration": 3,
    "start_time": "2023-02-11T07:50:41.487Z"
   },
   {
    "duration": 5,
    "start_time": "2023-02-11T07:50:41.684Z"
   },
   {
    "duration": 3007,
    "start_time": "2023-02-11T07:50:43.584Z"
   },
   {
    "duration": 13,
    "start_time": "2023-02-11T07:50:46.592Z"
   },
   {
    "duration": 11,
    "start_time": "2023-02-11T07:52:48.220Z"
   },
   {
    "duration": 6,
    "start_time": "2023-02-11T07:54:33.880Z"
   },
   {
    "duration": 14041,
    "start_time": "2023-02-11T07:54:37.446Z"
   },
   {
    "duration": 45,
    "start_time": "2023-02-11T07:56:44.785Z"
   },
   {
    "duration": 15274,
    "start_time": "2023-02-11T07:56:45.416Z"
   },
   {
    "duration": 7,
    "start_time": "2023-02-11T07:57:15.240Z"
   },
   {
    "duration": 19317,
    "start_time": "2023-02-11T07:57:16.301Z"
   },
   {
    "duration": 6,
    "start_time": "2023-02-11T07:57:54.621Z"
   },
   {
    "duration": 20088,
    "start_time": "2023-02-11T07:57:56.109Z"
   },
   {
    "duration": 6,
    "start_time": "2023-02-11T07:58:23.198Z"
   },
   {
    "duration": 19524,
    "start_time": "2023-02-11T07:58:23.729Z"
   },
   {
    "duration": 6,
    "start_time": "2023-02-11T07:59:25.349Z"
   },
   {
    "duration": 3401,
    "start_time": "2023-02-11T07:59:26.319Z"
   },
   {
    "duration": 18,
    "start_time": "2023-02-11T07:59:29.721Z"
   },
   {
    "duration": 6,
    "start_time": "2023-02-11T08:00:38.516Z"
   },
   {
    "duration": 4883,
    "start_time": "2023-02-11T08:00:39.693Z"
   },
   {
    "duration": 11,
    "start_time": "2023-02-11T08:00:44.578Z"
   },
   {
    "duration": 6,
    "start_time": "2023-02-11T08:03:46.328Z"
   },
   {
    "duration": 7263,
    "start_time": "2023-02-11T08:03:46.751Z"
   },
   {
    "duration": 6,
    "start_time": "2023-02-11T08:04:20.622Z"
   },
   {
    "duration": 7497,
    "start_time": "2023-02-11T08:04:20.879Z"
   },
   {
    "duration": 6,
    "start_time": "2023-02-11T08:10:13.060Z"
   },
   {
    "duration": 8215,
    "start_time": "2023-02-11T08:10:13.576Z"
   },
   {
    "duration": 11,
    "start_time": "2023-02-11T08:11:53.155Z"
   },
   {
    "duration": 5,
    "start_time": "2023-02-11T08:13:01.389Z"
   },
   {
    "duration": 3095,
    "start_time": "2023-02-11T08:13:02.734Z"
   },
   {
    "duration": 11,
    "start_time": "2023-02-11T08:13:07.843Z"
   },
   {
    "duration": 12,
    "start_time": "2023-02-11T08:13:09.297Z"
   },
   {
    "duration": 5,
    "start_time": "2023-02-11T08:13:53.664Z"
   },
   {
    "duration": 3203,
    "start_time": "2023-02-11T08:13:54.146Z"
   },
   {
    "duration": 14,
    "start_time": "2023-02-11T08:14:05.989Z"
   },
   {
    "duration": 6,
    "start_time": "2023-02-11T08:15:26.155Z"
   },
   {
    "duration": 3121,
    "start_time": "2023-02-11T08:15:27.803Z"
   },
   {
    "duration": 17,
    "start_time": "2023-02-11T08:15:30.925Z"
   },
   {
    "duration": 4,
    "start_time": "2023-02-11T08:18:22.494Z"
   },
   {
    "duration": 6,
    "start_time": "2023-02-11T08:18:24.706Z"
   },
   {
    "duration": 4,
    "start_time": "2023-02-11T08:19:04.434Z"
   },
   {
    "duration": 6,
    "start_time": "2023-02-11T08:19:05.151Z"
   },
   {
    "duration": 8,
    "start_time": "2023-02-11T08:19:26.773Z"
   },
   {
    "duration": 6,
    "start_time": "2023-02-11T08:19:28.586Z"
   },
   {
    "duration": 7,
    "start_time": "2023-02-11T08:19:36.562Z"
   },
   {
    "duration": 6,
    "start_time": "2023-02-11T08:19:37.873Z"
   },
   {
    "duration": 7,
    "start_time": "2023-02-11T08:19:44.969Z"
   },
   {
    "duration": 4,
    "start_time": "2023-02-11T08:19:51.447Z"
   },
   {
    "duration": 6,
    "start_time": "2023-02-11T08:19:53.109Z"
   },
   {
    "duration": 685,
    "start_time": "2023-02-11T08:19:58.428Z"
   },
   {
    "duration": 3,
    "start_time": "2023-02-11T08:21:50.186Z"
   },
   {
    "duration": 5,
    "start_time": "2023-02-11T08:21:52.900Z"
   },
   {
    "duration": 3,
    "start_time": "2023-02-11T08:22:05.119Z"
   },
   {
    "duration": 4,
    "start_time": "2023-02-11T08:22:07.217Z"
   },
   {
    "duration": 3,
    "start_time": "2023-02-11T08:22:19.788Z"
   },
   {
    "duration": 5,
    "start_time": "2023-02-11T08:22:22.348Z"
   },
   {
    "duration": 17,
    "start_time": "2023-02-11T08:22:32.334Z"
   },
   {
    "duration": 12,
    "start_time": "2023-02-11T08:22:40.301Z"
   },
   {
    "duration": 3,
    "start_time": "2023-02-11T08:23:03.735Z"
   },
   {
    "duration": 5,
    "start_time": "2023-02-11T08:23:04.161Z"
   },
   {
    "duration": 4,
    "start_time": "2023-02-11T08:23:20.665Z"
   },
   {
    "duration": 3,
    "start_time": "2023-02-11T08:23:21.080Z"
   },
   {
    "duration": 8,
    "start_time": "2023-02-11T08:23:24.569Z"
   },
   {
    "duration": 3,
    "start_time": "2023-02-11T08:23:27.136Z"
   },
   {
    "duration": 3,
    "start_time": "2023-02-11T08:23:27.395Z"
   },
   {
    "duration": 5,
    "start_time": "2023-02-11T08:23:27.718Z"
   },
   {
    "duration": 3,
    "start_time": "2023-02-11T08:23:30.974Z"
   },
   {
    "duration": 3,
    "start_time": "2023-02-11T08:23:38.190Z"
   },
   {
    "duration": 4,
    "start_time": "2023-02-11T08:23:40.489Z"
   },
   {
    "duration": 4,
    "start_time": "2023-02-11T08:23:45.147Z"
   },
   {
    "duration": 4,
    "start_time": "2023-02-11T08:23:50.705Z"
   },
   {
    "duration": 3,
    "start_time": "2023-02-11T08:37:00.653Z"
   },
   {
    "duration": 10,
    "start_time": "2023-02-11T08:41:15.666Z"
   },
   {
    "duration": 10,
    "start_time": "2023-02-11T08:41:31.532Z"
   },
   {
    "duration": 14,
    "start_time": "2023-02-11T08:47:15.418Z"
   },
   {
    "duration": 12,
    "start_time": "2023-02-11T08:47:29.193Z"
   },
   {
    "duration": 16,
    "start_time": "2023-02-11T08:47:55.960Z"
   },
   {
    "duration": 14,
    "start_time": "2023-02-11T08:48:04.336Z"
   },
   {
    "duration": 1283,
    "start_time": "2023-02-11T08:51:27.572Z"
   },
   {
    "duration": 2000,
    "start_time": "2023-02-11T08:51:31.407Z"
   },
   {
    "duration": 145,
    "start_time": "2023-02-11T08:51:34.305Z"
   },
   {
    "duration": 42,
    "start_time": "2023-02-11T08:51:35.290Z"
   },
   {
    "duration": 261,
    "start_time": "2023-02-11T08:51:36.896Z"
   },
   {
    "duration": 79,
    "start_time": "2023-02-11T08:51:38.308Z"
   },
   {
    "duration": 968,
    "start_time": "2023-02-11T08:51:40.640Z"
   },
   {
    "duration": 38,
    "start_time": "2023-02-11T08:51:43.351Z"
   },
   {
    "duration": 541,
    "start_time": "2023-02-11T08:51:50.204Z"
   },
   {
    "duration": 3,
    "start_time": "2023-02-11T08:51:54.075Z"
   },
   {
    "duration": 4,
    "start_time": "2023-02-11T08:51:55.249Z"
   },
   {
    "duration": 6,
    "start_time": "2023-02-11T08:51:55.726Z"
   },
   {
    "duration": 6,
    "start_time": "2023-02-11T08:51:59.535Z"
   },
   {
    "duration": 3580,
    "start_time": "2023-02-11T08:52:01.845Z"
   },
   {
    "duration": 23,
    "start_time": "2023-02-11T08:52:05.427Z"
   },
   {
    "duration": 11,
    "start_time": "2023-02-11T08:52:44.749Z"
   },
   {
    "duration": 14,
    "start_time": "2023-02-11T08:52:58.667Z"
   }
  ],
  "kernelspec": {
   "display_name": "Python 3 (ipykernel)",
   "language": "python",
   "name": "python3"
  },
  "language_info": {
   "codemirror_mode": {
    "name": "ipython",
    "version": 3
   },
   "file_extension": ".py",
   "mimetype": "text/x-python",
   "name": "python",
   "nbconvert_exporter": "python",
   "pygments_lexer": "ipython3",
   "version": "3.9.5"
  },
  "toc": {
   "base_numbering": 1,
   "nav_menu": {},
   "number_sections": true,
   "sideBar": true,
   "skip_h1_title": true,
   "title_cell": "Содержание",
   "title_sidebar": "Содержание",
   "toc_cell": true,
   "toc_position": {
    "height": "calc(100% - 180px)",
    "left": "10px",
    "top": "150px",
    "width": "366.188px"
   },
   "toc_section_display": true,
   "toc_window_display": true
  }
 },
 "nbformat": 4,
 "nbformat_minor": 4
}
